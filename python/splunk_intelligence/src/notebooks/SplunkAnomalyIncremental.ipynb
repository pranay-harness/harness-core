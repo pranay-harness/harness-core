{
 "cells": [
  {
   "cell_type": "code",
   "execution_count": 2,
   "metadata": {},
   "outputs": [
    {
     "name": "stderr",
     "output_type": "stream",
     "text": [
      "2017-06-28 13:32:07,215 INFO loading file ../../data/mzs.json\n"
     ]
    },
    {
     "name": "stdout",
     "output_type": "stream",
     "text": [
      "(1, 1)\n",
      "(1, 1)\n"
     ]
    },
    {
     "name": "stderr",
     "output_type": "stream",
     "text": [
      "2017-06-28 13:32:07,465 INFO Running using file source\n",
      "2017-06-28 13:32:07,466 INFO setting min_df = 0.05 and max_df = 0.9\n",
      "2017-06-28 13:32:07,467 INFO Start vectorization....\n"
     ]
    },
    {
     "name": "stdout",
     "output_type": "stream",
     "text": [
      "['--sim_threshold', '0.8']\n"
     ]
    },
    {
     "name": "stderr",
     "output_type": "stream",
     "text": [
      "2017-06-28 13:32:10,060 INFO Running kemans with k = 50\n",
      "2017-06-28 13:32:10,659 INFO found k = 50\n",
      "2017-06-28 13:32:10,660 INFO Running kemans with k = 25\n",
      "2017-06-28 13:32:11,024 INFO Running kemans with k = 37\n",
      "2017-06-28 13:32:11,480 INFO found k = 37\n",
      "2017-06-28 13:32:11,481 INFO Running kemans with k = 31\n",
      "2017-06-28 13:32:11,879 INFO found k = 31\n",
      "2017-06-28 13:32:11,880 INFO Running kemans with k = 28\n",
      "2017-06-28 13:32:12,246 INFO found k = 28\n",
      "2017-06-28 13:32:12,247 INFO Running kemans with k = 26\n",
      "2017-06-28 13:32:12,620 INFO Running kemans with k = 27\n",
      "2017-06-28 13:32:12,971 INFO found k = 27\n",
      "2017-06-28 13:32:21,694 INFO Detect Count Anomalies....\n",
      "2017-06-28 13:32:21,695 INFO Using ThreeSigmaClassifier for cluster 0\n",
      "2017-06-28 13:32:21,697 INFO Using ThreeSigmaClassifier for cluster 1\n",
      "2017-06-28 13:32:21,699 INFO Using ZeroDeviationClassifier for cluster 2\n",
      "2017-06-28 13:32:21,701 INFO Using ThreeSigmaClassifier for cluster 3\n",
      "2017-06-28 13:32:21,704 INFO Using ZeroDeviationClassifier for cluster 4\n",
      "2017-06-28 13:32:21,706 INFO Using ZeroDeviationClassifier for cluster 5\n",
      "2017-06-28 13:32:21,707 INFO Using ZeroDeviationClassifier for cluster 6\n",
      "2017-06-28 13:32:21,709 INFO Using ZeroDeviationClassifier for cluster 7\n",
      "2017-06-28 13:32:21,711 INFO Using ThreeSigmaClassifier for cluster 8\n",
      "2017-06-28 13:32:21,712 INFO Using ZeroDeviationClassifier for cluster 9\n",
      "2017-06-28 13:32:21,714 INFO Using ZeroDeviationClassifier for cluster 10\n",
      "2017-06-28 13:32:21,715 INFO Using ThreeSigmaClassifier for cluster 11\n",
      "2017-06-28 13:32:21,716 INFO Using ZeroDeviationClassifier for cluster 12\n",
      "2017-06-28 13:32:21,718 INFO Using ThreeSigmaClassifier for cluster 13\n",
      "2017-06-28 13:32:21,720 INFO Using ZeroDeviationClassifier for cluster 14\n",
      "2017-06-28 13:32:21,722 INFO Using ThreeSigmaClassifier for cluster 15\n",
      "2017-06-28 13:32:21,723 INFO Using ThreeSigmaClassifier for cluster 16\n",
      "2017-06-28 13:32:21,725 INFO Using ThreeSigmaClassifier for cluster 17\n",
      "2017-06-28 13:32:21,727 INFO Using ZeroDeviationClassifier for cluster 18\n",
      "2017-06-28 13:32:21,728 INFO Using ZeroDeviationClassifier for cluster 19\n",
      "2017-06-28 13:32:21,730 INFO Using ZeroDeviationClassifier for cluster 20\n",
      "2017-06-28 13:32:21,732 INFO Using ZeroDeviationClassifier for cluster 21\n",
      "2017-06-28 13:32:21,734 INFO Using ZeroDeviationClassifier for cluster 22\n",
      "2017-06-28 13:32:21,735 INFO Using ZeroDeviationClassifier for cluster 23\n",
      "2017-06-28 13:32:21,736 INFO Using ZeroDeviationClassifier for cluster 24\n",
      "2017-06-28 13:32:21,737 INFO Using ZeroDeviationClassifier for cluster 25\n",
      "2017-06-28 13:32:21,738 INFO Using ZeroDeviationClassifier for cluster 26\n",
      "2017-06-28 13:32:21,739 INFO done\n"
     ]
    },
    {
     "name": "stdout",
     "output_type": "stream",
     "text": [
      "[u'1', u'5', u'1', u'1', u'2', u'1', u'1', u'1', u'1', u'1', u'1']\n",
      "[u'5']\n",
      "[-1]\n",
      "[u'1', u'2', u'1', u'1', u'1', u'1', u'1', u'1', u'1', u'1', u'1', u'1', u'1']\n",
      "[u'2']\n",
      "[-1]\n",
      "[25, 36, 36, 36, 36, 36, 36, 9, 9, 9, 9, 16, 16, 16, 16, 16, 16, 16, 9, 9, 9, 9, 9, 9, 9, 9, 9, 9, 16, 16, 16, 16, 16, 9, 16, 9, 9, 9, 9, 9, 9, 9, 9, 9, 9, 9, 9, 9, 9, 9, 16, 9, 9, 9, 9, 9, 9, 36, 36, 9, 25, 25, 9, 9, 36, 36, 9, 9, 9, 9, 16, 16, 16, 16, 16, 16, 16, 9, 9, 9, 9, 9, 9, 9, 9, 9, 9, 9, 9, 9, 9, 9, 9, 9, 9, 9, 9, 9, 9, 9, 16, 16, 25, 25, 36, 36, 25, 9, 9, 9, 9, 9, 9, 9, 9, 9, 9, 9, 9, 9, 9, 9, 9, 9, 9, 9, 9, 9, 9, 16, 16, 16, 9, 9, 16, 9, 9, 9, 9, 9, 9, 9, 9, 9, 9, 9, 9, 9, 9, 9, 9, 9, 9, 9, 9, 9, 9, 25, 36, 9, 25, 25, 9, 9, 16, 36, 9, 9, 9, 9, 9, 9, 9, 9, 9, 9, 16, 9, 9, 9, 9, 9, 9, 9, 9, 9, 9, 9, 9, 9, 9, 9, 9, 9, 9, 9, 9, 9, 9, 9]\n"
     ]
    },
    {
     "data": {
      "application/vnd.plotly.v1+json": {
       "data": [
        {
         "marker": {
          "color": "blue",
          "opacity": 0.3,
          "size": [
           5,
           5,
           5,
           5,
           5,
           5,
           5,
           5,
           5,
           5,
           5,
           5,
           5,
           5,
           5,
           5,
           5,
           5,
           5,
           5,
           5,
           5,
           5,
           5,
           5,
           5,
           5,
           5,
           5,
           5,
           5,
           5,
           5,
           5,
           5,
           5,
           5,
           5,
           5,
           5,
           5,
           5,
           5,
           5,
           5,
           5,
           5,
           5,
           5,
           5,
           5,
           5,
           5,
           5,
           5,
           5,
           5,
           5,
           5,
           5,
           5,
           5,
           5,
           5,
           5,
           5,
           5,
           5,
           5,
           5,
           5
          ]
         },
         "mode": "markers",
         "name": "control",
         "text": [
          "Unknown<br>0<br>logger=\"org.apache.http.impl.client.DefaultHttpClient\", timestamp=\"PDT 2017-05-26 10<br> id = 0",
          "Unknown<br>1<br>logger=\"com.apple.jingle.util.MZClientCapabilities\", timestamp=\"PDT 2017-05-26 10:16<br> id = 1",
          "Unknown<br>2<br>logger=\"com.apple.jingle.cachelogic.popularity.MZPopularityClient\", timestamp=\"PDT 2<br> id = 2",
          "Unknown<br>3<br>logger=\"com.apple.jingle.cachelogic.popularity.MZPopularityClient\", timestamp=\"PDT 2<br> id = 3",
          "Unknown<br>4<br>logger=\"com.apple.jingle.appserver.MZDirectAction\", timestamp=\"PDT 2017-05-26 10:16:<br> id = 4",
          "Unknown<br>5<br>logger=\"com.apple.shuttlebus.internals.SBHubbleAndLoggingHook\", timestamp=\"PDT 2017-<br> id = 5",
          "Unknown<br>6<br>logger=\"org.apache.http.impl.client.DefaultHttpClient\", timestamp=\"PDT 2017-05-26 10<br> id = 6",
          "Unknown<br>7<br>logger=\"com.apple.jingle.util.MZClientCapabilities\", timestamp=\"PDT 2017-05-26 10:15<br> id = 7",
          "Unknown<br>8<br>logger=\"com.apple.jingle.cachelogic.popularity.MZPopularityClient\", timestamp=\"PDT 2<br> id = 8",
          "Unknown<br>9<br>logger=\"com.apple.jingle.util.MZClientCapabilities\", timestamp=\"PDT 2017-05-26 10:16<br> id = 9",
          "Unknown<br>10<br>logger=\"com.webobjects.foundation.stats.NSStats\", timestamp=\"PDT 2017-05-26 10:15:1<br> id = 10",
          "Unknown<br>11<br>logger=\"com.apple.jingle.cachelogic.popularity.MZPopularityClient\", timestamp=\"PDT <br> id = 11",
          "Unknown<br>12<br>logger=\"com.apple.jingle.cachelogic.popularity.MZPopularityClient\", timestamp=\"PDT <br> id = 12",
          "Unknown<br>13<br>logger=\"org.apache.http.impl.client.DefaultHttpClient\", timestamp=\"PDT 2017-05-26 1<br> id = 13",
          "Unknown<br>14<br>logger=\"org.apache.http.impl.client.DefaultHttpClient\", timestamp=\"PDT 2017-05-26 1<br> id = 14",
          "Unknown<br>15<br>logger=\"net.spy.memcached.MemcachedConnection\", timestamp=\"PDT 2017-05-26 10:15:44,<br> id = 15",
          "Unknown<br>16<br>logger=\"com.apple.jingle.util.MZClientCapabilities\", timestamp=\"PDT 2017-05-26 10:1<br> id = 16",
          "Unknown<br>17<br>logger=\"com.apple.jingle.util.MZClientCapabilities\", timestamp=\"PDT 2017-05-26 10:1<br> id = 17",
          "Unknown<br>18<br>logger=\"com.apple.jingle.app.store.W3StoreDirectAction\", timestamp=\"PDT 2017-05-26 <br> id = 18",
          "Unknown<br>19<br>logger=\"org.apache.http.impl.client.DefaultHttpClient\", timestamp=\"PDT 2017-05-26 1<br> id = 19",
          "Unknown<br>20<br>logger=\"com.apple.jingle.cachelogic.popularity.MZPopularityClient\", timestamp=\"PDT <br> id = 20",
          "Unknown<br>21<br>logger=\"com.apple.jingle.cachelogic.popularity.MZPopularityClient\", timestamp=\"PDT <br> id = 21",
          "Unknown<br>22<br>logger=\"com.apple.jingle.cachelogic.popularity.MZPopularityClient\", timestamp=\"PDT <br> id = 22",
          "Unknown<br>23<br>logger=\"com.webobjects.foundation.stats.NSStats\", timestamp=\"PDT 2017-05-26 10:16:0<br> id = 23",
          "Unknown<br>24<br>logger=\"com.apple.jingle.util.MZClientCapabilities\", timestamp=\"PDT 2017-05-26 10:1<br> id = 24",
          "Unknown<br>25<br>logger=\"com.apple.jingle.util.MZClientCapabilities\", timestamp=\"PDT 2017-05-26 10:1<br> id = 25",
          "Unknown<br>26<br>logger=\"com.apple.jingle.util.MZClientCapabilities\", timestamp=\"PDT 2017-05-26 10:1<br> id = 26"
         ],
         "type": "scatter",
         "x": [
          -0.68163566048333,
          0.19654014709776516,
          0.3038901011014418,
          0.19739615371302185,
          -0.0474260994231327,
          -0.5915519437783288,
          -0.4187779357144534,
          0.24441885774102215,
          0.4406290751176961,
          0.4570140397018004,
          -0.6673476893684611,
          0.03507698840542344,
          0.2740375341675342,
          -0.697132032987333,
          -0.38774178882244903,
          -0.6376596927533551,
          0.18978220876955,
          0.24572356658519265,
          -0.13369261463144846,
          -0.40458664590960114,
          0.23479548094771951,
          0.4493170247898221,
          0.3577940826909372,
          -0.7294032706612275,
          0.1209669545875965,
          0.2644785408227884,
          0.1579746038751167
         ],
         "y": [
          0.14109217079222341,
          -0.3207923917325977,
          0.19751035068330858,
          0.49558984090054065,
          0.15421482987228605,
          -0.4536370250847436,
          0.2852964591948644,
          -0.24216557161407623,
          0.3868172331091002,
          -0.33137851616114405,
          0.45444169331070244,
          0.7295252221513865,
          0.014070699071430786,
          0.2761749590424467,
          0.40212144204589517,
          -0.38235902261945504,
          -0.32004472018555014,
          -0.28112014128841106,
          0.28758583187907094,
          0.3975560409200146,
          0.23719547237808544,
          0.27400394957804597,
          0.28607805040601053,
          -0.1983013860587934,
          -0.34114797707420763,
          -0.2388838833687757,
          -0.38921019649300953
         ]
        },
        {
         "marker": {
          "color": "green",
          "opacity": 0.3,
          "size": [
           5,
           5,
           5,
           5,
           5,
           5,
           5,
           5,
           5,
           5,
           5,
           5,
           5,
           5,
           5,
           5,
           5,
           5,
           5,
           5,
           5,
           5,
           5,
           5,
           5,
           5,
           5,
           5,
           5,
           5,
           5,
           5,
           5,
           5,
           5,
           5,
           5,
           5,
           5,
           5,
           5,
           5,
           5,
           5,
           5,
           5,
           5,
           5,
           5,
           5,
           5,
           5,
           5,
           5,
           5,
           5,
           5,
           5,
           5,
           5,
           5,
           5,
           5,
           5,
           5,
           5,
           5,
           5,
           5,
           5,
           5
          ]
         },
         "mode": "markers",
         "name": "test",
         "text": [
          "10<br>0<br>logger=\"org.apache.http.impl.client.DefaultHttpClient\", timestamp=\"PDT 2017-05-26 10:16:0<br> id = 27",
          "13<br>0<br>logger=\"org.apache.http.impl.client.DefaultHttpClient\", timestamp=\"PDT 2017-05-26 10:15:2<br> id = 28",
          "575<br>0<br>logger=\"org.apache.http.impl.client.DefaultHttpClient\", timestamp=\"PDT 2017-05-26 10:16:<br> id = 29",
          "128<br>0<br>logger=\"org.apache.http.impl.client.DefaultHttpClient\", timestamp=\"PDT 2017-05-26 10:16:<br> id = 30",
          "1561<br>0<br>logger=\"org.apache.http.impl.client.DefaultHttpClient\", timestamp=\"PDT 2017-05-26 10:16<br> id = 31",
          "6712<br>0<br>logger=\"org.apache.http.impl.client.DefaultHttpClient\", timestamp=\"PDT 2017-05-26 10:15<br> id = 32",
          "221<br>0<br>logger=\"org.apache.http.impl.client.DefaultHttpClient\", timestamp=\"PDT 2017-05-26 10:16:<br> id = 33",
          "1<br>1<br>logger=\"com.apple.jingle.util.MZClientCapabilities\", timestamp=\"PDT 2017-05-26 10:16:05,09<br> id = 34",
          "2<br>1<br>logger=\"com.apple.jingle.util.MZClientCapabilities\", timestamp=\"PDT 2017-05-26 10:16:02,46<br> id = 35",
          "1<br>2<br>logger=\"com.apple.jingle.cachelogic.popularity.MZPopularityClient\", timestamp=\"PDT 2017-05<br> id = 37",
          "1<br>3<br>logger=\"com.apple.jingle.cachelogic.popularity.MZPopularityClient\", timestamp=\"PDT 2017-05<br> id = 38",
          "1<br>4<br>logger=\"com.apple.jingle.appserver.MZDirectAction\", timestamp=\"PDT 2017-05-26 10:16:04,412<br> id = 40",
          "22<br>5<br>logger=\"com.apple.shuttlebus.internals.SBHubbleAndLoggingHook\", timestamp=\"PDT 2017-05-26<br> id = 41",
          "1<br>6<br>logger=\"org.apache.http.impl.client.DefaultHttpClient\", timestamp=\"PDT 2017-05-26 10:16:04<br> id = 42",
          "1<br>7<br>logger=\"com.apple.jingle.util.MZClientCapabilities\", timestamp=\"PDT 2017-05-26 10:15:49,31<br> id = 43",
          "1<br>8<br>logger=\"com.apple.jingle.cachelogic.popularity.MZPopularityClient\", timestamp=\"PDT 2017-05<br> id = 44",
          "8<br>8<br>logger=\"com.apple.jingle.cachelogic.popularity.MZPopularityClient\", timestamp=\"PDT 2017-05<br> id = 45",
          "2<br>8<br>logger=\"com.apple.jingle.cachelogic.popularity.MZPopularityClient\", timestamp=\"PDT 2017-05<br> id = 46",
          "1<br>9<br>logger=\"com.apple.jingle.util.MZClientCapabilities\", timestamp=\"PDT 2017-05-26 10:16:03,64<br> id = 47",
          "1<br>10<br>logger=\"com.webobjects.foundation.stats.NSStats\", timestamp=\"PDT 2017-05-26 10:15:12,367\"<br> id = 48",
          "360<br>11<br>logger=\"com.apple.jingle.cachelogic.popularity.MZPopularityClient\", timestamp=\"PDT 2017<br> id = 49",
          "1592<br>11<br>logger=\"com.apple.jingle.cachelogic.popularity.MZPopularityClient\", timestamp=\"PDT 201<br> id = 50",
          "1<br>12<br>logger=\"com.apple.jingle.cachelogic.popularity.MZPopularityClient\", timestamp=\"PDT 2017-0<br> id = 51",
          "121<br>13<br>logger=\"org.apache.http.impl.client.DefaultHttpClient\", timestamp=\"PDT 2017-05-26 10:16<br> id = 52",
          "744<br>13<br>logger=\"org.apache.http.impl.client.DefaultHttpClient\", timestamp=\"PDT 2017-05-26 10:16<br> id = 53",
          "1<br>14<br>logger=\"org.apache.http.impl.client.DefaultHttpClient\", timestamp=\"PDT 2017-05-26 10:15:1<br> id = 54",
          "9<br>15<br>logger=\"net.spy.memcached.MemcachedConnection\", timestamp=\"PDT 2017-05-26 10:15:44,215\", <br> id = 55",
          "2101<br>15<br>logger=\"net.spy.memcached.MemcachedConnection\", timestamp=\"PDT 2017-05-26 10:16:04,868<br> id = 56",
          "1<br>16<br>logger=\"com.apple.jingle.util.MZClientCapabilities\", timestamp=\"PDT 2017-05-26 10:16:05,0<br> id = 57",
          "2<br>16<br>logger=\"com.apple.jingle.util.MZClientCapabilities\", timestamp=\"PDT 2017-05-26 10:16:02,1<br> id = 58",
          "5<br>16<br>logger=\"com.apple.jingle.util.MZClientCapabilities\", timestamp=\"PDT 2017-05-26 10:16:06,8<br> id = 59",
          "1<br>17<br>logger=\"com.apple.jingle.util.MZClientCapabilities\", timestamp=\"PDT 2017-05-26 10:16:00,9<br> id = 60",
          "2<br>17<br>logger=\"com.apple.jingle.util.MZClientCapabilities\", timestamp=\"PDT 2017-05-26 10:15:10,6<br> id = 61",
          "1<br>18<br>logger=\"com.apple.jingle.app.store.W3StoreDirectAction\", timestamp=\"PDT 2017-05-26 10:15:<br> id = 62",
          "1<br>19<br>logger=\"org.apache.http.impl.client.DefaultHttpClient\", timestamp=\"PDT 2017-05-26 10:15:5<br> id = 63",
          "2<br>20<br>logger=\"com.apple.jingle.cachelogic.popularity.MZPopularityClient\", timestamp=\"PDT 2017-0<br> id = 64",
          "6<br>21<br>logger=\"com.apple.jingle.cachelogic.popularity.MZPopularityClient\", timestamp=\"PDT 2017-0<br> id = 65",
          "2<br>22<br>logger=\"com.apple.jingle.cachelogic.popularity.MZPopularityClient\", timestamp=\"PDT 2017-0<br> id = 66",
          "1<br>23<br>logger=\"com.webobjects.foundation.stats.NSStats\", timestamp=\"PDT 2017-05-26 10:16:03,988\"<br> id = 67",
          "1<br>24<br>logger=\"com.apple.jingle.util.MZClientCapabilities\", timestamp=\"PDT 2017-05-26 10:16:06,8<br> id = 68",
          "1<br>25<br>logger=\"com.apple.jingle.util.MZClientCapabilities\", timestamp=\"PDT 2017-05-26 10:16:01,2<br> id = 69",
          "2<br>26<br>logger=\"com.apple.jingle.util.MZClientCapabilities\", timestamp=\"PDT 2017-05-26 10:15:14,2<br> id = 70"
         ],
         "type": "scatter",
         "x": [
          -0.6557440074293127,
          -0.6816356604833298,
          -0.6816356598275608,
          -0.6816356598275608,
          -0.6715729666431605,
          -0.68163566048333,
          -0.6816356598275621,
          0.19654014709776527,
          0.1830678520074813,
          0.3038901012434147,
          0.19739615371286323,
          -0.047426099423108464,
          -0.591551981552185,
          -0.4187779357144531,
          0.24441885774102226,
          0.44062907511769583,
          0.42698609929417936,
          0.4399850145919313,
          0.00022233620368594442,
          -0.7612739774225799,
          0.04403026595999198,
          0.03507718060469581,
          0.2740374847215608,
          -0.6971320329869343,
          -0.7260647076755687,
          -0.38774178882244903,
          -0.6376596927533551,
          -0.6558585242501757,
          0.18978220876955956,
          0.19872873524403062,
          0.17848114425156733,
          0.27163642389237264,
          0.2457235665851927,
          -0.1336926439300833,
          -0.4045866302890456,
          0.23479548086201601,
          0.44931702478956437,
          0.35779408269082347,
          -0.7294032706612272,
          0.1209669545875964,
          0.26447854082278827,
          0.15797460397820695
         ],
         "y": [
          0.14232592936024427,
          0.14109217079222341,
          0.14109217991757117,
          0.14109217991757425,
          0.14315884345446372,
          0.14109217079222408,
          0.14109217991755602,
          -0.32079239173259716,
          -0.30573864242835375,
          0.19751035065966907,
          0.49558984090050784,
          0.15421482987230495,
          -0.4536369451262663,
          0.28529645919486457,
          -0.24216557161407623,
          0.38681723310910016,
          0.39420429153806774,
          0.40073293000458116,
          -0.5100297516496066,
          -0.11288774517459306,
          0.7239266920794024,
          0.7295252624589013,
          0.014070704117024638,
          0.2761749590433569,
          0.0383362474380205,
          0.4021214420458953,
          -0.3823590226194545,
          -0.4257574067037249,
          -0.32004472018555663,
          -0.3150859652582944,
          -0.33133875579076966,
          -0.2705243911449188,
          -0.28112014128841106,
          0.2875857586418691,
          0.39755607666962306,
          0.23719547238428465,
          0.2740039495781722,
          0.286078050406042,
          -0.19830138605879338,
          -0.3411479770742079,
          -0.2388838833687756,
          -0.3892101965017949
         ]
        },
        {
         "marker": {
          "color": "orange",
          "opacity": 0.3,
          "size": [
           5,
           5,
           5,
           5,
           5,
           5,
           5,
           5,
           5,
           5,
           5,
           5,
           5,
           5,
           5,
           5,
           5,
           5,
           5,
           5,
           5,
           5,
           5,
           5,
           5,
           5,
           5,
           5,
           5,
           5,
           5,
           5,
           5,
           5,
           5,
           5,
           5,
           5,
           5,
           5,
           5,
           5,
           5,
           5,
           5,
           5,
           5,
           5,
           5,
           5,
           5,
           5,
           5,
           5,
           5,
           5,
           5,
           5,
           5,
           5,
           5,
           5,
           5,
           5,
           5,
           5,
           5,
           5,
           5,
           5,
           5
          ]
         },
         "mode": "markers",
         "name": "test-unx-freq",
         "text": [
          "5<br>1<br>logger=\"com.apple.jingle.util.MZClientCapabilities\", timestamp=\"PDT 2017-05-26 10:16:06,83<br> id = 36",
          "2<br>3<br>logger=\"com.apple.jingle.cachelogic.popularity.MZPopularityClient\", timestamp=\"PDT 2017-05<br> id = 39"
         ],
         "type": "scatter",
         "x": [
          0.18541434111966668,
          0.199873364792635
         ],
         "y": [
          -0.33182227033980627,
          0.526415439953959
         ]
        }
       ],
       "layout": {
        "hovermode": "closest"
       }
      },
      "text/html": [
       "<div id=\"eb7ecc12-f3c4-4450-bcf9-5d27d529bbff\" style=\"height: 525px; width: 100%;\" class=\"plotly-graph-div\"></div><script type=\"text/javascript\">require([\"plotly\"], function(Plotly) { window.PLOTLYENV=window.PLOTLYENV || {};window.PLOTLYENV.BASE_URL=\"https://plot.ly\";Plotly.newPlot(\"eb7ecc12-f3c4-4450-bcf9-5d27d529bbff\", [{\"name\": \"control\", \"text\": [\"Unknown<br>0<br>logger=\\\"org.apache.http.impl.client.DefaultHttpClient\\\", timestamp=\\\"PDT 2017-05-26 10<br> id = 0\", \"Unknown<br>1<br>logger=\\\"com.apple.jingle.util.MZClientCapabilities\\\", timestamp=\\\"PDT 2017-05-26 10:16<br> id = 1\", \"Unknown<br>2<br>logger=\\\"com.apple.jingle.cachelogic.popularity.MZPopularityClient\\\", timestamp=\\\"PDT 2<br> id = 2\", \"Unknown<br>3<br>logger=\\\"com.apple.jingle.cachelogic.popularity.MZPopularityClient\\\", timestamp=\\\"PDT 2<br> id = 3\", \"Unknown<br>4<br>logger=\\\"com.apple.jingle.appserver.MZDirectAction\\\", timestamp=\\\"PDT 2017-05-26 10:16:<br> id = 4\", \"Unknown<br>5<br>logger=\\\"com.apple.shuttlebus.internals.SBHubbleAndLoggingHook\\\", timestamp=\\\"PDT 2017-<br> id = 5\", \"Unknown<br>6<br>logger=\\\"org.apache.http.impl.client.DefaultHttpClient\\\", timestamp=\\\"PDT 2017-05-26 10<br> id = 6\", \"Unknown<br>7<br>logger=\\\"com.apple.jingle.util.MZClientCapabilities\\\", timestamp=\\\"PDT 2017-05-26 10:15<br> id = 7\", \"Unknown<br>8<br>logger=\\\"com.apple.jingle.cachelogic.popularity.MZPopularityClient\\\", timestamp=\\\"PDT 2<br> id = 8\", \"Unknown<br>9<br>logger=\\\"com.apple.jingle.util.MZClientCapabilities\\\", timestamp=\\\"PDT 2017-05-26 10:16<br> id = 9\", \"Unknown<br>10<br>logger=\\\"com.webobjects.foundation.stats.NSStats\\\", timestamp=\\\"PDT 2017-05-26 10:15:1<br> id = 10\", \"Unknown<br>11<br>logger=\\\"com.apple.jingle.cachelogic.popularity.MZPopularityClient\\\", timestamp=\\\"PDT <br> id = 11\", \"Unknown<br>12<br>logger=\\\"com.apple.jingle.cachelogic.popularity.MZPopularityClient\\\", timestamp=\\\"PDT <br> id = 12\", \"Unknown<br>13<br>logger=\\\"org.apache.http.impl.client.DefaultHttpClient\\\", timestamp=\\\"PDT 2017-05-26 1<br> id = 13\", \"Unknown<br>14<br>logger=\\\"org.apache.http.impl.client.DefaultHttpClient\\\", timestamp=\\\"PDT 2017-05-26 1<br> id = 14\", \"Unknown<br>15<br>logger=\\\"net.spy.memcached.MemcachedConnection\\\", timestamp=\\\"PDT 2017-05-26 10:15:44,<br> id = 15\", \"Unknown<br>16<br>logger=\\\"com.apple.jingle.util.MZClientCapabilities\\\", timestamp=\\\"PDT 2017-05-26 10:1<br> id = 16\", \"Unknown<br>17<br>logger=\\\"com.apple.jingle.util.MZClientCapabilities\\\", timestamp=\\\"PDT 2017-05-26 10:1<br> id = 17\", \"Unknown<br>18<br>logger=\\\"com.apple.jingle.app.store.W3StoreDirectAction\\\", timestamp=\\\"PDT 2017-05-26 <br> id = 18\", \"Unknown<br>19<br>logger=\\\"org.apache.http.impl.client.DefaultHttpClient\\\", timestamp=\\\"PDT 2017-05-26 1<br> id = 19\", \"Unknown<br>20<br>logger=\\\"com.apple.jingle.cachelogic.popularity.MZPopularityClient\\\", timestamp=\\\"PDT <br> id = 20\", \"Unknown<br>21<br>logger=\\\"com.apple.jingle.cachelogic.popularity.MZPopularityClient\\\", timestamp=\\\"PDT <br> id = 21\", \"Unknown<br>22<br>logger=\\\"com.apple.jingle.cachelogic.popularity.MZPopularityClient\\\", timestamp=\\\"PDT <br> id = 22\", \"Unknown<br>23<br>logger=\\\"com.webobjects.foundation.stats.NSStats\\\", timestamp=\\\"PDT 2017-05-26 10:16:0<br> id = 23\", \"Unknown<br>24<br>logger=\\\"com.apple.jingle.util.MZClientCapabilities\\\", timestamp=\\\"PDT 2017-05-26 10:1<br> id = 24\", \"Unknown<br>25<br>logger=\\\"com.apple.jingle.util.MZClientCapabilities\\\", timestamp=\\\"PDT 2017-05-26 10:1<br> id = 25\", \"Unknown<br>26<br>logger=\\\"com.apple.jingle.util.MZClientCapabilities\\\", timestamp=\\\"PDT 2017-05-26 10:1<br> id = 26\"], \"marker\": {\"opacity\": 0.3, \"color\": \"blue\", \"size\": [5, 5, 5, 5, 5, 5, 5, 5, 5, 5, 5, 5, 5, 5, 5, 5, 5, 5, 5, 5, 5, 5, 5, 5, 5, 5, 5, 5, 5, 5, 5, 5, 5, 5, 5, 5, 5, 5, 5, 5, 5, 5, 5, 5, 5, 5, 5, 5, 5, 5, 5, 5, 5, 5, 5, 5, 5, 5, 5, 5, 5, 5, 5, 5, 5, 5, 5, 5, 5, 5, 5]}, \"mode\": \"markers\", \"y\": [0.14109217079222341, -0.3207923917325977, 0.19751035068330858, 0.49558984090054065, 0.15421482987228605, -0.4536370250847436, 0.2852964591948644, -0.24216557161407623, 0.3868172331091002, -0.33137851616114405, 0.45444169331070244, 0.7295252221513865, 0.014070699071430786, 0.2761749590424467, 0.40212144204589517, -0.38235902261945504, -0.32004472018555014, -0.28112014128841106, 0.28758583187907094, 0.3975560409200146, 0.23719547237808544, 0.27400394957804597, 0.28607805040601053, -0.1983013860587934, -0.34114797707420763, -0.2388838833687757, -0.38921019649300953], \"x\": [-0.68163566048333, 0.19654014709776516, 0.3038901011014418, 0.19739615371302185, -0.0474260994231327, -0.5915519437783288, -0.4187779357144534, 0.24441885774102215, 0.4406290751176961, 0.4570140397018004, -0.6673476893684611, 0.03507698840542344, 0.2740375341675342, -0.697132032987333, -0.38774178882244903, -0.6376596927533551, 0.18978220876955, 0.24572356658519265, -0.13369261463144846, -0.40458664590960114, 0.23479548094771951, 0.4493170247898221, 0.3577940826909372, -0.7294032706612275, 0.1209669545875965, 0.2644785408227884, 0.1579746038751167], \"type\": \"scatter\"}, {\"name\": \"test\", \"text\": [\"10<br>0<br>logger=\\\"org.apache.http.impl.client.DefaultHttpClient\\\", timestamp=\\\"PDT 2017-05-26 10:16:0<br> id = 27\", \"13<br>0<br>logger=\\\"org.apache.http.impl.client.DefaultHttpClient\\\", timestamp=\\\"PDT 2017-05-26 10:15:2<br> id = 28\", \"575<br>0<br>logger=\\\"org.apache.http.impl.client.DefaultHttpClient\\\", timestamp=\\\"PDT 2017-05-26 10:16:<br> id = 29\", \"128<br>0<br>logger=\\\"org.apache.http.impl.client.DefaultHttpClient\\\", timestamp=\\\"PDT 2017-05-26 10:16:<br> id = 30\", \"1561<br>0<br>logger=\\\"org.apache.http.impl.client.DefaultHttpClient\\\", timestamp=\\\"PDT 2017-05-26 10:16<br> id = 31\", \"6712<br>0<br>logger=\\\"org.apache.http.impl.client.DefaultHttpClient\\\", timestamp=\\\"PDT 2017-05-26 10:15<br> id = 32\", \"221<br>0<br>logger=\\\"org.apache.http.impl.client.DefaultHttpClient\\\", timestamp=\\\"PDT 2017-05-26 10:16:<br> id = 33\", \"1<br>1<br>logger=\\\"com.apple.jingle.util.MZClientCapabilities\\\", timestamp=\\\"PDT 2017-05-26 10:16:05,09<br> id = 34\", \"2<br>1<br>logger=\\\"com.apple.jingle.util.MZClientCapabilities\\\", timestamp=\\\"PDT 2017-05-26 10:16:02,46<br> id = 35\", \"1<br>2<br>logger=\\\"com.apple.jingle.cachelogic.popularity.MZPopularityClient\\\", timestamp=\\\"PDT 2017-05<br> id = 37\", \"1<br>3<br>logger=\\\"com.apple.jingle.cachelogic.popularity.MZPopularityClient\\\", timestamp=\\\"PDT 2017-05<br> id = 38\", \"1<br>4<br>logger=\\\"com.apple.jingle.appserver.MZDirectAction\\\", timestamp=\\\"PDT 2017-05-26 10:16:04,412<br> id = 40\", \"22<br>5<br>logger=\\\"com.apple.shuttlebus.internals.SBHubbleAndLoggingHook\\\", timestamp=\\\"PDT 2017-05-26<br> id = 41\", \"1<br>6<br>logger=\\\"org.apache.http.impl.client.DefaultHttpClient\\\", timestamp=\\\"PDT 2017-05-26 10:16:04<br> id = 42\", \"1<br>7<br>logger=\\\"com.apple.jingle.util.MZClientCapabilities\\\", timestamp=\\\"PDT 2017-05-26 10:15:49,31<br> id = 43\", \"1<br>8<br>logger=\\\"com.apple.jingle.cachelogic.popularity.MZPopularityClient\\\", timestamp=\\\"PDT 2017-05<br> id = 44\", \"8<br>8<br>logger=\\\"com.apple.jingle.cachelogic.popularity.MZPopularityClient\\\", timestamp=\\\"PDT 2017-05<br> id = 45\", \"2<br>8<br>logger=\\\"com.apple.jingle.cachelogic.popularity.MZPopularityClient\\\", timestamp=\\\"PDT 2017-05<br> id = 46\", \"1<br>9<br>logger=\\\"com.apple.jingle.util.MZClientCapabilities\\\", timestamp=\\\"PDT 2017-05-26 10:16:03,64<br> id = 47\", \"1<br>10<br>logger=\\\"com.webobjects.foundation.stats.NSStats\\\", timestamp=\\\"PDT 2017-05-26 10:15:12,367\\\"<br> id = 48\", \"360<br>11<br>logger=\\\"com.apple.jingle.cachelogic.popularity.MZPopularityClient\\\", timestamp=\\\"PDT 2017<br> id = 49\", \"1592<br>11<br>logger=\\\"com.apple.jingle.cachelogic.popularity.MZPopularityClient\\\", timestamp=\\\"PDT 201<br> id = 50\", \"1<br>12<br>logger=\\\"com.apple.jingle.cachelogic.popularity.MZPopularityClient\\\", timestamp=\\\"PDT 2017-0<br> id = 51\", \"121<br>13<br>logger=\\\"org.apache.http.impl.client.DefaultHttpClient\\\", timestamp=\\\"PDT 2017-05-26 10:16<br> id = 52\", \"744<br>13<br>logger=\\\"org.apache.http.impl.client.DefaultHttpClient\\\", timestamp=\\\"PDT 2017-05-26 10:16<br> id = 53\", \"1<br>14<br>logger=\\\"org.apache.http.impl.client.DefaultHttpClient\\\", timestamp=\\\"PDT 2017-05-26 10:15:1<br> id = 54\", \"9<br>15<br>logger=\\\"net.spy.memcached.MemcachedConnection\\\", timestamp=\\\"PDT 2017-05-26 10:15:44,215\\\", <br> id = 55\", \"2101<br>15<br>logger=\\\"net.spy.memcached.MemcachedConnection\\\", timestamp=\\\"PDT 2017-05-26 10:16:04,868<br> id = 56\", \"1<br>16<br>logger=\\\"com.apple.jingle.util.MZClientCapabilities\\\", timestamp=\\\"PDT 2017-05-26 10:16:05,0<br> id = 57\", \"2<br>16<br>logger=\\\"com.apple.jingle.util.MZClientCapabilities\\\", timestamp=\\\"PDT 2017-05-26 10:16:02,1<br> id = 58\", \"5<br>16<br>logger=\\\"com.apple.jingle.util.MZClientCapabilities\\\", timestamp=\\\"PDT 2017-05-26 10:16:06,8<br> id = 59\", \"1<br>17<br>logger=\\\"com.apple.jingle.util.MZClientCapabilities\\\", timestamp=\\\"PDT 2017-05-26 10:16:00,9<br> id = 60\", \"2<br>17<br>logger=\\\"com.apple.jingle.util.MZClientCapabilities\\\", timestamp=\\\"PDT 2017-05-26 10:15:10,6<br> id = 61\", \"1<br>18<br>logger=\\\"com.apple.jingle.app.store.W3StoreDirectAction\\\", timestamp=\\\"PDT 2017-05-26 10:15:<br> id = 62\", \"1<br>19<br>logger=\\\"org.apache.http.impl.client.DefaultHttpClient\\\", timestamp=\\\"PDT 2017-05-26 10:15:5<br> id = 63\", \"2<br>20<br>logger=\\\"com.apple.jingle.cachelogic.popularity.MZPopularityClient\\\", timestamp=\\\"PDT 2017-0<br> id = 64\", \"6<br>21<br>logger=\\\"com.apple.jingle.cachelogic.popularity.MZPopularityClient\\\", timestamp=\\\"PDT 2017-0<br> id = 65\", \"2<br>22<br>logger=\\\"com.apple.jingle.cachelogic.popularity.MZPopularityClient\\\", timestamp=\\\"PDT 2017-0<br> id = 66\", \"1<br>23<br>logger=\\\"com.webobjects.foundation.stats.NSStats\\\", timestamp=\\\"PDT 2017-05-26 10:16:03,988\\\"<br> id = 67\", \"1<br>24<br>logger=\\\"com.apple.jingle.util.MZClientCapabilities\\\", timestamp=\\\"PDT 2017-05-26 10:16:06,8<br> id = 68\", \"1<br>25<br>logger=\\\"com.apple.jingle.util.MZClientCapabilities\\\", timestamp=\\\"PDT 2017-05-26 10:16:01,2<br> id = 69\", \"2<br>26<br>logger=\\\"com.apple.jingle.util.MZClientCapabilities\\\", timestamp=\\\"PDT 2017-05-26 10:15:14,2<br> id = 70\"], \"marker\": {\"opacity\": 0.3, \"color\": \"green\", \"size\": [5, 5, 5, 5, 5, 5, 5, 5, 5, 5, 5, 5, 5, 5, 5, 5, 5, 5, 5, 5, 5, 5, 5, 5, 5, 5, 5, 5, 5, 5, 5, 5, 5, 5, 5, 5, 5, 5, 5, 5, 5, 5, 5, 5, 5, 5, 5, 5, 5, 5, 5, 5, 5, 5, 5, 5, 5, 5, 5, 5, 5, 5, 5, 5, 5, 5, 5, 5, 5, 5, 5]}, \"mode\": \"markers\", \"y\": [0.14232592936024427, 0.14109217079222341, 0.14109217991757117, 0.14109217991757425, 0.14315884345446372, 0.14109217079222408, 0.14109217991755602, -0.32079239173259716, -0.30573864242835375, 0.19751035065966907, 0.49558984090050784, 0.15421482987230495, -0.4536369451262663, 0.28529645919486457, -0.24216557161407623, 0.38681723310910016, 0.39420429153806774, 0.40073293000458116, -0.5100297516496066, -0.11288774517459306, 0.7239266920794024, 0.7295252624589013, 0.014070704117024638, 0.2761749590433569, 0.0383362474380205, 0.4021214420458953, -0.3823590226194545, -0.4257574067037249, -0.32004472018555663, -0.3150859652582944, -0.33133875579076966, -0.2705243911449188, -0.28112014128841106, 0.2875857586418691, 0.39755607666962306, 0.23719547238428465, 0.2740039495781722, 0.286078050406042, -0.19830138605879338, -0.3411479770742079, -0.2388838833687756, -0.3892101965017949], \"x\": [-0.6557440074293127, -0.6816356604833298, -0.6816356598275608, -0.6816356598275608, -0.6715729666431605, -0.68163566048333, -0.6816356598275621, 0.19654014709776527, 0.1830678520074813, 0.3038901012434147, 0.19739615371286323, -0.047426099423108464, -0.591551981552185, -0.4187779357144531, 0.24441885774102226, 0.44062907511769583, 0.42698609929417936, 0.4399850145919313, 0.00022233620368594442, -0.7612739774225799, 0.04403026595999198, 0.03507718060469581, 0.2740374847215608, -0.6971320329869343, -0.7260647076755687, -0.38774178882244903, -0.6376596927533551, -0.6558585242501757, 0.18978220876955956, 0.19872873524403062, 0.17848114425156733, 0.27163642389237264, 0.2457235665851927, -0.1336926439300833, -0.4045866302890456, 0.23479548086201601, 0.44931702478956437, 0.35779408269082347, -0.7294032706612272, 0.1209669545875964, 0.26447854082278827, 0.15797460397820695], \"type\": \"scatter\"}, {\"name\": \"test-unx-freq\", \"text\": [\"5<br>1<br>logger=\\\"com.apple.jingle.util.MZClientCapabilities\\\", timestamp=\\\"PDT 2017-05-26 10:16:06,83<br> id = 36\", \"2<br>3<br>logger=\\\"com.apple.jingle.cachelogic.popularity.MZPopularityClient\\\", timestamp=\\\"PDT 2017-05<br> id = 39\"], \"marker\": {\"opacity\": 0.3, \"color\": \"orange\", \"size\": [5, 5, 5, 5, 5, 5, 5, 5, 5, 5, 5, 5, 5, 5, 5, 5, 5, 5, 5, 5, 5, 5, 5, 5, 5, 5, 5, 5, 5, 5, 5, 5, 5, 5, 5, 5, 5, 5, 5, 5, 5, 5, 5, 5, 5, 5, 5, 5, 5, 5, 5, 5, 5, 5, 5, 5, 5, 5, 5, 5, 5, 5, 5, 5, 5, 5, 5, 5, 5, 5, 5]}, \"mode\": \"markers\", \"y\": [-0.33182227033980627, 0.526415439953959], \"x\": [0.18541434111966668, 0.199873364792635], \"type\": \"scatter\"}], {\"hovermode\": \"closest\"}, {\"linkText\": \"Export to plot.ly\", \"showLink\": false})});</script>"
      ],
      "text/vnd.plotly.v1+html": [
       "<div id=\"eb7ecc12-f3c4-4450-bcf9-5d27d529bbff\" style=\"height: 525px; width: 100%;\" class=\"plotly-graph-div\"></div><script type=\"text/javascript\">require([\"plotly\"], function(Plotly) { window.PLOTLYENV=window.PLOTLYENV || {};window.PLOTLYENV.BASE_URL=\"https://plot.ly\";Plotly.newPlot(\"eb7ecc12-f3c4-4450-bcf9-5d27d529bbff\", [{\"name\": \"control\", \"text\": [\"Unknown<br>0<br>logger=\\\"org.apache.http.impl.client.DefaultHttpClient\\\", timestamp=\\\"PDT 2017-05-26 10<br> id = 0\", \"Unknown<br>1<br>logger=\\\"com.apple.jingle.util.MZClientCapabilities\\\", timestamp=\\\"PDT 2017-05-26 10:16<br> id = 1\", \"Unknown<br>2<br>logger=\\\"com.apple.jingle.cachelogic.popularity.MZPopularityClient\\\", timestamp=\\\"PDT 2<br> id = 2\", \"Unknown<br>3<br>logger=\\\"com.apple.jingle.cachelogic.popularity.MZPopularityClient\\\", timestamp=\\\"PDT 2<br> id = 3\", \"Unknown<br>4<br>logger=\\\"com.apple.jingle.appserver.MZDirectAction\\\", timestamp=\\\"PDT 2017-05-26 10:16:<br> id = 4\", \"Unknown<br>5<br>logger=\\\"com.apple.shuttlebus.internals.SBHubbleAndLoggingHook\\\", timestamp=\\\"PDT 2017-<br> id = 5\", \"Unknown<br>6<br>logger=\\\"org.apache.http.impl.client.DefaultHttpClient\\\", timestamp=\\\"PDT 2017-05-26 10<br> id = 6\", \"Unknown<br>7<br>logger=\\\"com.apple.jingle.util.MZClientCapabilities\\\", timestamp=\\\"PDT 2017-05-26 10:15<br> id = 7\", \"Unknown<br>8<br>logger=\\\"com.apple.jingle.cachelogic.popularity.MZPopularityClient\\\", timestamp=\\\"PDT 2<br> id = 8\", \"Unknown<br>9<br>logger=\\\"com.apple.jingle.util.MZClientCapabilities\\\", timestamp=\\\"PDT 2017-05-26 10:16<br> id = 9\", \"Unknown<br>10<br>logger=\\\"com.webobjects.foundation.stats.NSStats\\\", timestamp=\\\"PDT 2017-05-26 10:15:1<br> id = 10\", \"Unknown<br>11<br>logger=\\\"com.apple.jingle.cachelogic.popularity.MZPopularityClient\\\", timestamp=\\\"PDT <br> id = 11\", \"Unknown<br>12<br>logger=\\\"com.apple.jingle.cachelogic.popularity.MZPopularityClient\\\", timestamp=\\\"PDT <br> id = 12\", \"Unknown<br>13<br>logger=\\\"org.apache.http.impl.client.DefaultHttpClient\\\", timestamp=\\\"PDT 2017-05-26 1<br> id = 13\", \"Unknown<br>14<br>logger=\\\"org.apache.http.impl.client.DefaultHttpClient\\\", timestamp=\\\"PDT 2017-05-26 1<br> id = 14\", \"Unknown<br>15<br>logger=\\\"net.spy.memcached.MemcachedConnection\\\", timestamp=\\\"PDT 2017-05-26 10:15:44,<br> id = 15\", \"Unknown<br>16<br>logger=\\\"com.apple.jingle.util.MZClientCapabilities\\\", timestamp=\\\"PDT 2017-05-26 10:1<br> id = 16\", \"Unknown<br>17<br>logger=\\\"com.apple.jingle.util.MZClientCapabilities\\\", timestamp=\\\"PDT 2017-05-26 10:1<br> id = 17\", \"Unknown<br>18<br>logger=\\\"com.apple.jingle.app.store.W3StoreDirectAction\\\", timestamp=\\\"PDT 2017-05-26 <br> id = 18\", \"Unknown<br>19<br>logger=\\\"org.apache.http.impl.client.DefaultHttpClient\\\", timestamp=\\\"PDT 2017-05-26 1<br> id = 19\", \"Unknown<br>20<br>logger=\\\"com.apple.jingle.cachelogic.popularity.MZPopularityClient\\\", timestamp=\\\"PDT <br> id = 20\", \"Unknown<br>21<br>logger=\\\"com.apple.jingle.cachelogic.popularity.MZPopularityClient\\\", timestamp=\\\"PDT <br> id = 21\", \"Unknown<br>22<br>logger=\\\"com.apple.jingle.cachelogic.popularity.MZPopularityClient\\\", timestamp=\\\"PDT <br> id = 22\", \"Unknown<br>23<br>logger=\\\"com.webobjects.foundation.stats.NSStats\\\", timestamp=\\\"PDT 2017-05-26 10:16:0<br> id = 23\", \"Unknown<br>24<br>logger=\\\"com.apple.jingle.util.MZClientCapabilities\\\", timestamp=\\\"PDT 2017-05-26 10:1<br> id = 24\", \"Unknown<br>25<br>logger=\\\"com.apple.jingle.util.MZClientCapabilities\\\", timestamp=\\\"PDT 2017-05-26 10:1<br> id = 25\", \"Unknown<br>26<br>logger=\\\"com.apple.jingle.util.MZClientCapabilities\\\", timestamp=\\\"PDT 2017-05-26 10:1<br> id = 26\"], \"marker\": {\"opacity\": 0.3, \"color\": \"blue\", \"size\": [5, 5, 5, 5, 5, 5, 5, 5, 5, 5, 5, 5, 5, 5, 5, 5, 5, 5, 5, 5, 5, 5, 5, 5, 5, 5, 5, 5, 5, 5, 5, 5, 5, 5, 5, 5, 5, 5, 5, 5, 5, 5, 5, 5, 5, 5, 5, 5, 5, 5, 5, 5, 5, 5, 5, 5, 5, 5, 5, 5, 5, 5, 5, 5, 5, 5, 5, 5, 5, 5, 5]}, \"mode\": \"markers\", \"y\": [0.14109217079222341, -0.3207923917325977, 0.19751035068330858, 0.49558984090054065, 0.15421482987228605, -0.4536370250847436, 0.2852964591948644, -0.24216557161407623, 0.3868172331091002, -0.33137851616114405, 0.45444169331070244, 0.7295252221513865, 0.014070699071430786, 0.2761749590424467, 0.40212144204589517, -0.38235902261945504, -0.32004472018555014, -0.28112014128841106, 0.28758583187907094, 0.3975560409200146, 0.23719547237808544, 0.27400394957804597, 0.28607805040601053, -0.1983013860587934, -0.34114797707420763, -0.2388838833687757, -0.38921019649300953], \"x\": [-0.68163566048333, 0.19654014709776516, 0.3038901011014418, 0.19739615371302185, -0.0474260994231327, -0.5915519437783288, -0.4187779357144534, 0.24441885774102215, 0.4406290751176961, 0.4570140397018004, -0.6673476893684611, 0.03507698840542344, 0.2740375341675342, -0.697132032987333, -0.38774178882244903, -0.6376596927533551, 0.18978220876955, 0.24572356658519265, -0.13369261463144846, -0.40458664590960114, 0.23479548094771951, 0.4493170247898221, 0.3577940826909372, -0.7294032706612275, 0.1209669545875965, 0.2644785408227884, 0.1579746038751167], \"type\": \"scatter\"}, {\"name\": \"test\", \"text\": [\"10<br>0<br>logger=\\\"org.apache.http.impl.client.DefaultHttpClient\\\", timestamp=\\\"PDT 2017-05-26 10:16:0<br> id = 27\", \"13<br>0<br>logger=\\\"org.apache.http.impl.client.DefaultHttpClient\\\", timestamp=\\\"PDT 2017-05-26 10:15:2<br> id = 28\", \"575<br>0<br>logger=\\\"org.apache.http.impl.client.DefaultHttpClient\\\", timestamp=\\\"PDT 2017-05-26 10:16:<br> id = 29\", \"128<br>0<br>logger=\\\"org.apache.http.impl.client.DefaultHttpClient\\\", timestamp=\\\"PDT 2017-05-26 10:16:<br> id = 30\", \"1561<br>0<br>logger=\\\"org.apache.http.impl.client.DefaultHttpClient\\\", timestamp=\\\"PDT 2017-05-26 10:16<br> id = 31\", \"6712<br>0<br>logger=\\\"org.apache.http.impl.client.DefaultHttpClient\\\", timestamp=\\\"PDT 2017-05-26 10:15<br> id = 32\", \"221<br>0<br>logger=\\\"org.apache.http.impl.client.DefaultHttpClient\\\", timestamp=\\\"PDT 2017-05-26 10:16:<br> id = 33\", \"1<br>1<br>logger=\\\"com.apple.jingle.util.MZClientCapabilities\\\", timestamp=\\\"PDT 2017-05-26 10:16:05,09<br> id = 34\", \"2<br>1<br>logger=\\\"com.apple.jingle.util.MZClientCapabilities\\\", timestamp=\\\"PDT 2017-05-26 10:16:02,46<br> id = 35\", \"1<br>2<br>logger=\\\"com.apple.jingle.cachelogic.popularity.MZPopularityClient\\\", timestamp=\\\"PDT 2017-05<br> id = 37\", \"1<br>3<br>logger=\\\"com.apple.jingle.cachelogic.popularity.MZPopularityClient\\\", timestamp=\\\"PDT 2017-05<br> id = 38\", \"1<br>4<br>logger=\\\"com.apple.jingle.appserver.MZDirectAction\\\", timestamp=\\\"PDT 2017-05-26 10:16:04,412<br> id = 40\", \"22<br>5<br>logger=\\\"com.apple.shuttlebus.internals.SBHubbleAndLoggingHook\\\", timestamp=\\\"PDT 2017-05-26<br> id = 41\", \"1<br>6<br>logger=\\\"org.apache.http.impl.client.DefaultHttpClient\\\", timestamp=\\\"PDT 2017-05-26 10:16:04<br> id = 42\", \"1<br>7<br>logger=\\\"com.apple.jingle.util.MZClientCapabilities\\\", timestamp=\\\"PDT 2017-05-26 10:15:49,31<br> id = 43\", \"1<br>8<br>logger=\\\"com.apple.jingle.cachelogic.popularity.MZPopularityClient\\\", timestamp=\\\"PDT 2017-05<br> id = 44\", \"8<br>8<br>logger=\\\"com.apple.jingle.cachelogic.popularity.MZPopularityClient\\\", timestamp=\\\"PDT 2017-05<br> id = 45\", \"2<br>8<br>logger=\\\"com.apple.jingle.cachelogic.popularity.MZPopularityClient\\\", timestamp=\\\"PDT 2017-05<br> id = 46\", \"1<br>9<br>logger=\\\"com.apple.jingle.util.MZClientCapabilities\\\", timestamp=\\\"PDT 2017-05-26 10:16:03,64<br> id = 47\", \"1<br>10<br>logger=\\\"com.webobjects.foundation.stats.NSStats\\\", timestamp=\\\"PDT 2017-05-26 10:15:12,367\\\"<br> id = 48\", \"360<br>11<br>logger=\\\"com.apple.jingle.cachelogic.popularity.MZPopularityClient\\\", timestamp=\\\"PDT 2017<br> id = 49\", \"1592<br>11<br>logger=\\\"com.apple.jingle.cachelogic.popularity.MZPopularityClient\\\", timestamp=\\\"PDT 201<br> id = 50\", \"1<br>12<br>logger=\\\"com.apple.jingle.cachelogic.popularity.MZPopularityClient\\\", timestamp=\\\"PDT 2017-0<br> id = 51\", \"121<br>13<br>logger=\\\"org.apache.http.impl.client.DefaultHttpClient\\\", timestamp=\\\"PDT 2017-05-26 10:16<br> id = 52\", \"744<br>13<br>logger=\\\"org.apache.http.impl.client.DefaultHttpClient\\\", timestamp=\\\"PDT 2017-05-26 10:16<br> id = 53\", \"1<br>14<br>logger=\\\"org.apache.http.impl.client.DefaultHttpClient\\\", timestamp=\\\"PDT 2017-05-26 10:15:1<br> id = 54\", \"9<br>15<br>logger=\\\"net.spy.memcached.MemcachedConnection\\\", timestamp=\\\"PDT 2017-05-26 10:15:44,215\\\", <br> id = 55\", \"2101<br>15<br>logger=\\\"net.spy.memcached.MemcachedConnection\\\", timestamp=\\\"PDT 2017-05-26 10:16:04,868<br> id = 56\", \"1<br>16<br>logger=\\\"com.apple.jingle.util.MZClientCapabilities\\\", timestamp=\\\"PDT 2017-05-26 10:16:05,0<br> id = 57\", \"2<br>16<br>logger=\\\"com.apple.jingle.util.MZClientCapabilities\\\", timestamp=\\\"PDT 2017-05-26 10:16:02,1<br> id = 58\", \"5<br>16<br>logger=\\\"com.apple.jingle.util.MZClientCapabilities\\\", timestamp=\\\"PDT 2017-05-26 10:16:06,8<br> id = 59\", \"1<br>17<br>logger=\\\"com.apple.jingle.util.MZClientCapabilities\\\", timestamp=\\\"PDT 2017-05-26 10:16:00,9<br> id = 60\", \"2<br>17<br>logger=\\\"com.apple.jingle.util.MZClientCapabilities\\\", timestamp=\\\"PDT 2017-05-26 10:15:10,6<br> id = 61\", \"1<br>18<br>logger=\\\"com.apple.jingle.app.store.W3StoreDirectAction\\\", timestamp=\\\"PDT 2017-05-26 10:15:<br> id = 62\", \"1<br>19<br>logger=\\\"org.apache.http.impl.client.DefaultHttpClient\\\", timestamp=\\\"PDT 2017-05-26 10:15:5<br> id = 63\", \"2<br>20<br>logger=\\\"com.apple.jingle.cachelogic.popularity.MZPopularityClient\\\", timestamp=\\\"PDT 2017-0<br> id = 64\", \"6<br>21<br>logger=\\\"com.apple.jingle.cachelogic.popularity.MZPopularityClient\\\", timestamp=\\\"PDT 2017-0<br> id = 65\", \"2<br>22<br>logger=\\\"com.apple.jingle.cachelogic.popularity.MZPopularityClient\\\", timestamp=\\\"PDT 2017-0<br> id = 66\", \"1<br>23<br>logger=\\\"com.webobjects.foundation.stats.NSStats\\\", timestamp=\\\"PDT 2017-05-26 10:16:03,988\\\"<br> id = 67\", \"1<br>24<br>logger=\\\"com.apple.jingle.util.MZClientCapabilities\\\", timestamp=\\\"PDT 2017-05-26 10:16:06,8<br> id = 68\", \"1<br>25<br>logger=\\\"com.apple.jingle.util.MZClientCapabilities\\\", timestamp=\\\"PDT 2017-05-26 10:16:01,2<br> id = 69\", \"2<br>26<br>logger=\\\"com.apple.jingle.util.MZClientCapabilities\\\", timestamp=\\\"PDT 2017-05-26 10:15:14,2<br> id = 70\"], \"marker\": {\"opacity\": 0.3, \"color\": \"green\", \"size\": [5, 5, 5, 5, 5, 5, 5, 5, 5, 5, 5, 5, 5, 5, 5, 5, 5, 5, 5, 5, 5, 5, 5, 5, 5, 5, 5, 5, 5, 5, 5, 5, 5, 5, 5, 5, 5, 5, 5, 5, 5, 5, 5, 5, 5, 5, 5, 5, 5, 5, 5, 5, 5, 5, 5, 5, 5, 5, 5, 5, 5, 5, 5, 5, 5, 5, 5, 5, 5, 5, 5]}, \"mode\": \"markers\", \"y\": [0.14232592936024427, 0.14109217079222341, 0.14109217991757117, 0.14109217991757425, 0.14315884345446372, 0.14109217079222408, 0.14109217991755602, -0.32079239173259716, -0.30573864242835375, 0.19751035065966907, 0.49558984090050784, 0.15421482987230495, -0.4536369451262663, 0.28529645919486457, -0.24216557161407623, 0.38681723310910016, 0.39420429153806774, 0.40073293000458116, -0.5100297516496066, -0.11288774517459306, 0.7239266920794024, 0.7295252624589013, 0.014070704117024638, 0.2761749590433569, 0.0383362474380205, 0.4021214420458953, -0.3823590226194545, -0.4257574067037249, -0.32004472018555663, -0.3150859652582944, -0.33133875579076966, -0.2705243911449188, -0.28112014128841106, 0.2875857586418691, 0.39755607666962306, 0.23719547238428465, 0.2740039495781722, 0.286078050406042, -0.19830138605879338, -0.3411479770742079, -0.2388838833687756, -0.3892101965017949], \"x\": [-0.6557440074293127, -0.6816356604833298, -0.6816356598275608, -0.6816356598275608, -0.6715729666431605, -0.68163566048333, -0.6816356598275621, 0.19654014709776527, 0.1830678520074813, 0.3038901012434147, 0.19739615371286323, -0.047426099423108464, -0.591551981552185, -0.4187779357144531, 0.24441885774102226, 0.44062907511769583, 0.42698609929417936, 0.4399850145919313, 0.00022233620368594442, -0.7612739774225799, 0.04403026595999198, 0.03507718060469581, 0.2740374847215608, -0.6971320329869343, -0.7260647076755687, -0.38774178882244903, -0.6376596927533551, -0.6558585242501757, 0.18978220876955956, 0.19872873524403062, 0.17848114425156733, 0.27163642389237264, 0.2457235665851927, -0.1336926439300833, -0.4045866302890456, 0.23479548086201601, 0.44931702478956437, 0.35779408269082347, -0.7294032706612272, 0.1209669545875964, 0.26447854082278827, 0.15797460397820695], \"type\": \"scatter\"}, {\"name\": \"test-unx-freq\", \"text\": [\"5<br>1<br>logger=\\\"com.apple.jingle.util.MZClientCapabilities\\\", timestamp=\\\"PDT 2017-05-26 10:16:06,83<br> id = 36\", \"2<br>3<br>logger=\\\"com.apple.jingle.cachelogic.popularity.MZPopularityClient\\\", timestamp=\\\"PDT 2017-05<br> id = 39\"], \"marker\": {\"opacity\": 0.3, \"color\": \"orange\", \"size\": [5, 5, 5, 5, 5, 5, 5, 5, 5, 5, 5, 5, 5, 5, 5, 5, 5, 5, 5, 5, 5, 5, 5, 5, 5, 5, 5, 5, 5, 5, 5, 5, 5, 5, 5, 5, 5, 5, 5, 5, 5, 5, 5, 5, 5, 5, 5, 5, 5, 5, 5, 5, 5, 5, 5, 5, 5, 5, 5, 5, 5, 5, 5, 5, 5, 5, 5, 5, 5, 5, 5]}, \"mode\": \"markers\", \"y\": [-0.33182227033980627, 0.526415439953959], \"x\": [0.18541434111966668, 0.199873364792635], \"type\": \"scatter\"}], {\"hovermode\": \"closest\"}, {\"linkText\": \"Export to plot.ly\", \"showLink\": false})});</script>"
      ]
     },
     "metadata": {},
     "output_type": "display_data"
    },
    {
     "data": {
      "application/vnd.plotly.v1+json": {
       "data": [
        {
         "legendgroup": "cluster - 0",
         "marker": {
          "color": "blue",
          "opacity": 0.5,
          "size": 6
         },
         "mode": "markers",
         "name": "cluster - 0",
         "text": [
          "Unknown logger=\"org.apache.http.impl.client.DefaultHttpClient\", timestamp=\"PDT 2017-05-26 10:16:06,6<br> id = 0",
          "Unknown logger=\"org.apache.http.impl.client.DefaultHttpClient\", timestamp=\"PDT 2017-05-26 10:16:06,6<br> id = 0",
          "Unknown logger=\"org.apache.http.impl.client.DefaultHttpClient\", timestamp=\"PDT 2017-05-26 10:16:06,6<br> id = 0",
          "Unknown logger=\"org.apache.http.impl.client.DefaultHttpClient\", timestamp=\"PDT 2017-05-26 10:16:06,6<br> id = 0",
          "Unknown logger=\"org.apache.http.impl.client.DefaultHttpClient\", timestamp=\"PDT 2017-05-26 10:16:06,6<br> id = 0",
          "Unknown logger=\"org.apache.http.impl.client.DefaultHttpClient\", timestamp=\"PDT 2017-05-26 10:16:06,6<br> id = 0",
          "Unknown logger=\"org.apache.http.impl.client.DefaultHttpClient\", timestamp=\"PDT 2017-05-26 10:16:06,6<br> id = 0"
         ],
         "type": "scatter3d",
         "x": [
          "-0.681635660483",
          "-0.681635660483",
          "-0.681635660483",
          "-0.681635660483",
          "-0.681635660483",
          "-0.681635660483",
          "-0.681635660483"
         ],
         "y": [
          "0.141092170792",
          "0.141092170792",
          "0.141092170792",
          "0.141092170792",
          "0.141092170792",
          "0.141092170792",
          "0.141092170792"
         ],
         "z": [
          "575",
          "6712",
          "1561",
          "10",
          "128",
          "221",
          "13"
         ]
        },
        {
         "legendgroup": "cluster - 0",
         "marker": {
          "color": "orange",
          "opacity": 0.5,
          "size": 7
         },
         "mode": "markers",
         "name": "cluster - 0",
         "text": [
          "10 logger=\"org.apache.http.impl.client.DefaultHttpClient\", timestamp=\"PDT 2017-05-26 10:16:05,416\", <br> id = 27",
          "13 logger=\"org.apache.http.impl.client.DefaultHttpClient\", timestamp=\"PDT 2017-05-26 10:15:28,764\", <br> id = 28",
          "575 logger=\"org.apache.http.impl.client.DefaultHttpClient\", timestamp=\"PDT 2017-05-26 10:16:06,643\",<br> id = 29",
          "128 logger=\"org.apache.http.impl.client.DefaultHttpClient\", timestamp=\"PDT 2017-05-26 10:16:01,215\",<br> id = 30",
          "1561 logger=\"org.apache.http.impl.client.DefaultHttpClient\", timestamp=\"PDT 2017-05-26 10:16:05,432\"<br> id = 31",
          "6712 logger=\"org.apache.http.impl.client.DefaultHttpClient\", timestamp=\"PDT 2017-05-26 10:15:07,076\"<br> id = 32",
          "221 logger=\"org.apache.http.impl.client.DefaultHttpClient\", timestamp=\"PDT 2017-05-26 10:16:05,305\",<br> id = 33"
         ],
         "type": "scatter3d",
         "x": [
          "-0.655744007429",
          "-0.681635660483",
          "-0.681635659828",
          "-0.681635659828",
          "-0.671572966643",
          "-0.681635660483",
          "-0.681635659828"
         ],
         "y": [
          "0.14232592936",
          "0.141092170792",
          "0.141092179918",
          "0.141092179918",
          "0.143158843454",
          "0.141092170792",
          "0.141092179918"
         ],
         "z": [
          "10",
          "13",
          "575",
          "128",
          "1561",
          "6712",
          "221"
         ]
        },
        {
         "legendgroup": "cluster - 1",
         "marker": {
          "color": "blue",
          "opacity": 0.5,
          "size": 6
         },
         "mode": "markers",
         "name": "cluster - 1",
         "text": [
          "Unknown logger=\"com.apple.jingle.util.MZClientCapabilities\", timestamp=\"PDT 2017-05-26 10:16:05,094\"<br> id = 1",
          "Unknown logger=\"com.apple.jingle.util.MZClientCapabilities\", timestamp=\"PDT 2017-05-26 10:16:05,094\"<br> id = 1",
          "Unknown logger=\"com.apple.jingle.util.MZClientCapabilities\", timestamp=\"PDT 2017-05-26 10:16:05,094\"<br> id = 1",
          "Unknown logger=\"com.apple.jingle.util.MZClientCapabilities\", timestamp=\"PDT 2017-05-26 10:16:05,094\"<br> id = 1",
          "Unknown logger=\"com.apple.jingle.util.MZClientCapabilities\", timestamp=\"PDT 2017-05-26 10:16:05,094\"<br> id = 1",
          "Unknown logger=\"com.apple.jingle.util.MZClientCapabilities\", timestamp=\"PDT 2017-05-26 10:16:05,094\"<br> id = 1",
          "Unknown logger=\"com.apple.jingle.util.MZClientCapabilities\", timestamp=\"PDT 2017-05-26 10:16:05,094\"<br> id = 1",
          "Unknown logger=\"com.apple.jingle.util.MZClientCapabilities\", timestamp=\"PDT 2017-05-26 10:16:05,094\"<br> id = 1",
          "Unknown logger=\"com.apple.jingle.util.MZClientCapabilities\", timestamp=\"PDT 2017-05-26 10:16:05,094\"<br> id = 1",
          "Unknown logger=\"com.apple.jingle.util.MZClientCapabilities\", timestamp=\"PDT 2017-05-26 10:16:05,094\"<br> id = 1",
          "Unknown logger=\"com.apple.jingle.util.MZClientCapabilities\", timestamp=\"PDT 2017-05-26 10:16:05,094\"<br> id = 1"
         ],
         "type": "scatter3d",
         "x": [
          "0.196540147098",
          "0.196540147098",
          "0.196540147098",
          "0.196540147098",
          "0.196540147098",
          "0.196540147098",
          "0.196540147098",
          "0.196540147098",
          "0.196540147098",
          "0.196540147098",
          "0.196540147098"
         ],
         "y": [
          "-0.320792391733",
          "-0.320792391733",
          "-0.320792391733",
          "-0.320792391733",
          "-0.320792391733",
          "-0.320792391733",
          "-0.320792391733",
          "-0.320792391733",
          "-0.320792391733",
          "-0.320792391733",
          "-0.320792391733"
         ],
         "z": [
          "1",
          "5",
          "1",
          "1",
          "2",
          "1",
          "1",
          "1",
          "1",
          "1",
          "1"
         ]
        },
        {
         "legendgroup": "cluster - 1",
         "marker": {
          "color": "orange",
          "opacity": 0.5,
          "size": 7
         },
         "mode": "markers",
         "name": "cluster - 1",
         "text": [
          "1 logger=\"com.apple.jingle.util.MZClientCapabilities\", timestamp=\"PDT 2017-05-26 10:16:05,094\", leve<br> id = 34",
          "1 logger=\"com.apple.jingle.util.MZClientCapabilities\", timestamp=\"PDT 2017-05-26 10:16:05,094\", leve<br> id = 34",
          "1 logger=\"com.apple.jingle.util.MZClientCapabilities\", timestamp=\"PDT 2017-05-26 10:16:05,094\", leve<br> id = 34",
          "1 logger=\"com.apple.jingle.util.MZClientCapabilities\", timestamp=\"PDT 2017-05-26 10:16:05,094\", leve<br> id = 34",
          "1 logger=\"com.apple.jingle.util.MZClientCapabilities\", timestamp=\"PDT 2017-05-26 10:16:05,094\", leve<br> id = 34",
          "1 logger=\"com.apple.jingle.util.MZClientCapabilities\", timestamp=\"PDT 2017-05-26 10:16:05,094\", leve<br> id = 34",
          "1 logger=\"com.apple.jingle.util.MZClientCapabilities\", timestamp=\"PDT 2017-05-26 10:16:05,094\", leve<br> id = 34",
          "1 logger=\"com.apple.jingle.util.MZClientCapabilities\", timestamp=\"PDT 2017-05-26 10:16:05,094\", leve<br> id = 34",
          "1 logger=\"com.apple.jingle.util.MZClientCapabilities\", timestamp=\"PDT 2017-05-26 10:16:05,094\", leve<br> id = 34",
          "2 logger=\"com.apple.jingle.util.MZClientCapabilities\", timestamp=\"PDT 2017-05-26 10:16:02,467\", leve<br> id = 35"
         ],
         "type": "scatter3d",
         "x": [
          "0.196540147098",
          "0.196540147098",
          "0.196540147098",
          "0.196540147098",
          "0.196540147098",
          "0.196540147098",
          "0.196540147098",
          "0.196540147098",
          "0.196540147098",
          "0.183067852007"
         ],
         "y": [
          "-0.320792391733",
          "-0.320792391733",
          "-0.320792391733",
          "-0.320792391733",
          "-0.320792391733",
          "-0.320792391733",
          "-0.320792391733",
          "-0.320792391733",
          "-0.320792391733",
          "-0.305738642428"
         ],
         "z": [
          "1",
          "1",
          "1",
          "1",
          "1",
          "1",
          "1",
          "1",
          "1",
          "2"
         ]
        },
        {
         "legendgroup": "cluster - 1",
         "marker": {
          "color": "red",
          "opacity": 0.5,
          "size": 8
         },
         "mode": "markers",
         "name": "cluster - 1",
         "text": [
          "5 logger=\"com.apple.jingle.util.MZClientCapabilities\", timestamp=\"PDT 2017-05-26 10:16:06,834\", leve<br> id = 36"
         ],
         "type": "scatter3d",
         "x": [
          "0.18541434112"
         ],
         "y": [
          "-0.33182227034"
         ],
         "z": [
          "5"
         ]
        },
        {
         "legendgroup": "cluster - 2",
         "marker": {
          "color": "blue",
          "opacity": 0.5,
          "size": 6
         },
         "mode": "markers",
         "name": "cluster - 2",
         "text": [
          "Unknown logger=\"com.apple.jingle.cachelogic.popularity.MZPopularityClient\", timestamp=\"PDT 2017-05-2<br> id = 2",
          "Unknown logger=\"com.apple.jingle.cachelogic.popularity.MZPopularityClient\", timestamp=\"PDT 2017-05-2<br> id = 2"
         ],
         "type": "scatter3d",
         "x": [
          "0.303890101101",
          "0.303890101101"
         ],
         "y": [
          "0.197510350683",
          "0.197510350683"
         ],
         "z": [
          "1",
          "1"
         ]
        },
        {
         "legendgroup": "cluster - 2",
         "marker": {
          "color": "orange",
          "opacity": 0.5,
          "size": 7
         },
         "mode": "markers",
         "name": "cluster - 2",
         "text": [
          "1 logger=\"com.apple.jingle.cachelogic.popularity.MZPopularityClient\", timestamp=\"PDT 2017-05-26 10:1<br> id = 37",
          "1 logger=\"com.apple.jingle.cachelogic.popularity.MZPopularityClient\", timestamp=\"PDT 2017-05-26 10:1<br> id = 37"
         ],
         "type": "scatter3d",
         "x": [
          "0.303890101243",
          "0.303890101243"
         ],
         "y": [
          "0.19751035066",
          "0.19751035066"
         ],
         "z": [
          "1",
          "1"
         ]
        },
        {
         "legendgroup": "cluster - 3",
         "marker": {
          "color": "blue",
          "opacity": 0.5,
          "size": 6
         },
         "mode": "markers",
         "name": "cluster - 3",
         "text": [
          "Unknown logger=\"com.apple.jingle.cachelogic.popularity.MZPopularityClient\", timestamp=\"PDT 2017-05-2<br> id = 3",
          "Unknown logger=\"com.apple.jingle.cachelogic.popularity.MZPopularityClient\", timestamp=\"PDT 2017-05-2<br> id = 3",
          "Unknown logger=\"com.apple.jingle.cachelogic.popularity.MZPopularityClient\", timestamp=\"PDT 2017-05-2<br> id = 3",
          "Unknown logger=\"com.apple.jingle.cachelogic.popularity.MZPopularityClient\", timestamp=\"PDT 2017-05-2<br> id = 3",
          "Unknown logger=\"com.apple.jingle.cachelogic.popularity.MZPopularityClient\", timestamp=\"PDT 2017-05-2<br> id = 3",
          "Unknown logger=\"com.apple.jingle.cachelogic.popularity.MZPopularityClient\", timestamp=\"PDT 2017-05-2<br> id = 3",
          "Unknown logger=\"com.apple.jingle.cachelogic.popularity.MZPopularityClient\", timestamp=\"PDT 2017-05-2<br> id = 3",
          "Unknown logger=\"com.apple.jingle.cachelogic.popularity.MZPopularityClient\", timestamp=\"PDT 2017-05-2<br> id = 3",
          "Unknown logger=\"com.apple.jingle.cachelogic.popularity.MZPopularityClient\", timestamp=\"PDT 2017-05-2<br> id = 3",
          "Unknown logger=\"com.apple.jingle.cachelogic.popularity.MZPopularityClient\", timestamp=\"PDT 2017-05-2<br> id = 3",
          "Unknown logger=\"com.apple.jingle.cachelogic.popularity.MZPopularityClient\", timestamp=\"PDT 2017-05-2<br> id = 3",
          "Unknown logger=\"com.apple.jingle.cachelogic.popularity.MZPopularityClient\", timestamp=\"PDT 2017-05-2<br> id = 3",
          "Unknown logger=\"com.apple.jingle.cachelogic.popularity.MZPopularityClient\", timestamp=\"PDT 2017-05-2<br> id = 3"
         ],
         "type": "scatter3d",
         "x": [
          "0.197396153713",
          "0.197396153713",
          "0.197396153713",
          "0.197396153713",
          "0.197396153713",
          "0.197396153713",
          "0.197396153713",
          "0.197396153713",
          "0.197396153713",
          "0.197396153713",
          "0.197396153713",
          "0.197396153713",
          "0.197396153713"
         ],
         "y": [
          "0.495589840901",
          "0.495589840901",
          "0.495589840901",
          "0.495589840901",
          "0.495589840901",
          "0.495589840901",
          "0.495589840901",
          "0.495589840901",
          "0.495589840901",
          "0.495589840901",
          "0.495589840901",
          "0.495589840901",
          "0.495589840901"
         ],
         "z": [
          "1",
          "2",
          "1",
          "1",
          "1",
          "1",
          "1",
          "1",
          "1",
          "1",
          "1",
          "1",
          "1"
         ]
        },
        {
         "legendgroup": "cluster - 3",
         "marker": {
          "color": "orange",
          "opacity": 0.5,
          "size": 7
         },
         "mode": "markers",
         "name": "cluster - 3",
         "text": [
          "1 logger=\"com.apple.jingle.cachelogic.popularity.MZPopularityClient\", timestamp=\"PDT 2017-05-26 10:1<br> id = 38",
          "1 logger=\"com.apple.jingle.cachelogic.popularity.MZPopularityClient\", timestamp=\"PDT 2017-05-26 10:1<br> id = 38",
          "1 logger=\"com.apple.jingle.cachelogic.popularity.MZPopularityClient\", timestamp=\"PDT 2017-05-26 10:1<br> id = 38",
          "1 logger=\"com.apple.jingle.cachelogic.popularity.MZPopularityClient\", timestamp=\"PDT 2017-05-26 10:1<br> id = 38",
          "1 logger=\"com.apple.jingle.cachelogic.popularity.MZPopularityClient\", timestamp=\"PDT 2017-05-26 10:1<br> id = 38",
          "1 logger=\"com.apple.jingle.cachelogic.popularity.MZPopularityClient\", timestamp=\"PDT 2017-05-26 10:1<br> id = 38",
          "1 logger=\"com.apple.jingle.cachelogic.popularity.MZPopularityClient\", timestamp=\"PDT 2017-05-26 10:1<br> id = 38",
          "1 logger=\"com.apple.jingle.cachelogic.popularity.MZPopularityClient\", timestamp=\"PDT 2017-05-26 10:1<br> id = 38",
          "1 logger=\"com.apple.jingle.cachelogic.popularity.MZPopularityClient\", timestamp=\"PDT 2017-05-26 10:1<br> id = 38",
          "1 logger=\"com.apple.jingle.cachelogic.popularity.MZPopularityClient\", timestamp=\"PDT 2017-05-26 10:1<br> id = 38",
          "1 logger=\"com.apple.jingle.cachelogic.popularity.MZPopularityClient\", timestamp=\"PDT 2017-05-26 10:1<br> id = 38",
          "1 logger=\"com.apple.jingle.cachelogic.popularity.MZPopularityClient\", timestamp=\"PDT 2017-05-26 10:1<br> id = 38"
         ],
         "type": "scatter3d",
         "x": [
          "0.197396153713",
          "0.197396153713",
          "0.197396153713",
          "0.197396153713",
          "0.197396153713",
          "0.197396153713",
          "0.197396153713",
          "0.197396153713",
          "0.197396153713",
          "0.197396153713",
          "0.197396153713",
          "0.197396153713"
         ],
         "y": [
          "0.495589840901",
          "0.495589840901",
          "0.495589840901",
          "0.495589840901",
          "0.495589840901",
          "0.495589840901",
          "0.495589840901",
          "0.495589840901",
          "0.495589840901",
          "0.495589840901",
          "0.495589840901",
          "0.495589840901"
         ],
         "z": [
          "1",
          "1",
          "1",
          "1",
          "1",
          "1",
          "1",
          "1",
          "1",
          "1",
          "1",
          "1"
         ]
        },
        {
         "legendgroup": "cluster - 3",
         "marker": {
          "color": "red",
          "opacity": 0.5,
          "size": 8
         },
         "mode": "markers",
         "name": "cluster - 3",
         "text": [
          "2 logger=\"com.apple.jingle.cachelogic.popularity.MZPopularityClient\", timestamp=\"PDT 2017-05-26 10:1<br> id = 39"
         ],
         "type": "scatter3d",
         "x": [
          "0.199873364793"
         ],
         "y": [
          "0.526415439954"
         ],
         "z": [
          "2"
         ]
        },
        {
         "legendgroup": "cluster - 4",
         "marker": {
          "color": "blue",
          "opacity": 0.5,
          "size": 6
         },
         "mode": "markers",
         "name": "cluster - 4",
         "text": [
          "Unknown logger=\"com.apple.jingle.appserver.MZDirectAction\", timestamp=\"PDT 2017-05-26 10:16:04,412\",<br> id = 4"
         ],
         "type": "scatter3d",
         "x": [
          "-0.0474260994231"
         ],
         "y": [
          "0.154214829872"
         ],
         "z": [
          "1"
         ]
        },
        {
         "legendgroup": "cluster - 4",
         "marker": {
          "color": "orange",
          "opacity": 0.5,
          "size": 7
         },
         "mode": "markers",
         "name": "cluster - 4",
         "text": [
          "1 logger=\"com.apple.jingle.appserver.MZDirectAction\", timestamp=\"PDT 2017-05-26 10:16:04,412\", level<br> id = 40"
         ],
         "type": "scatter3d",
         "x": [
          "-0.0474260994231"
         ],
         "y": [
          "0.154214829872"
         ],
         "z": [
          "1"
         ]
        },
        {
         "legendgroup": "cluster - 5",
         "marker": {
          "color": "blue",
          "opacity": 0.5,
          "size": 6
         },
         "mode": "markers",
         "name": "cluster - 5",
         "text": [
          "Unknown logger=\"com.apple.shuttlebus.internals.SBHubbleAndLoggingHook\", timestamp=\"PDT 2017-05-26 10<br> id = 5"
         ],
         "type": "scatter3d",
         "x": [
          "-0.591551943778"
         ],
         "y": [
          "-0.453637025085"
         ],
         "z": [
          "22"
         ]
        },
        {
         "legendgroup": "cluster - 5",
         "marker": {
          "color": "orange",
          "opacity": 0.5,
          "size": 7
         },
         "mode": "markers",
         "name": "cluster - 5",
         "text": [
          "22 logger=\"com.apple.shuttlebus.internals.SBHubbleAndLoggingHook\", timestamp=\"PDT 2017-05-26 10:16:0<br> id = 41"
         ],
         "type": "scatter3d",
         "x": [
          "-0.591551981552"
         ],
         "y": [
          "-0.453636945126"
         ],
         "z": [
          "22"
         ]
        },
        {
         "legendgroup": "cluster - 6",
         "marker": {
          "color": "blue",
          "opacity": 0.5,
          "size": 6
         },
         "mode": "markers",
         "name": "cluster - 6",
         "text": [
          "Unknown logger=\"org.apache.http.impl.client.DefaultHttpClient\", timestamp=\"PDT 2017-05-26 10:16:04,9<br> id = 6",
          "Unknown logger=\"org.apache.http.impl.client.DefaultHttpClient\", timestamp=\"PDT 2017-05-26 10:16:04,9<br> id = 6",
          "Unknown logger=\"org.apache.http.impl.client.DefaultHttpClient\", timestamp=\"PDT 2017-05-26 10:16:04,9<br> id = 6",
          "Unknown logger=\"org.apache.http.impl.client.DefaultHttpClient\", timestamp=\"PDT 2017-05-26 10:16:04,9<br> id = 6",
          "Unknown logger=\"org.apache.http.impl.client.DefaultHttpClient\", timestamp=\"PDT 2017-05-26 10:16:04,9<br> id = 6",
          "Unknown logger=\"org.apache.http.impl.client.DefaultHttpClient\", timestamp=\"PDT 2017-05-26 10:16:04,9<br> id = 6",
          "Unknown logger=\"org.apache.http.impl.client.DefaultHttpClient\", timestamp=\"PDT 2017-05-26 10:16:04,9<br> id = 6"
         ],
         "type": "scatter3d",
         "x": [
          "-0.418777935714",
          "-0.418777935714",
          "-0.418777935714",
          "-0.418777935714",
          "-0.418777935714",
          "-0.418777935714",
          "-0.418777935714"
         ],
         "y": [
          "0.285296459195",
          "0.285296459195",
          "0.285296459195",
          "0.285296459195",
          "0.285296459195",
          "0.285296459195",
          "0.285296459195"
         ],
         "z": [
          "1",
          "1",
          "1",
          "1",
          "1",
          "1",
          "1"
         ]
        },
        {
         "legendgroup": "cluster - 6",
         "marker": {
          "color": "orange",
          "opacity": 0.5,
          "size": 7
         },
         "mode": "markers",
         "name": "cluster - 6",
         "text": [
          "1 logger=\"org.apache.http.impl.client.DefaultHttpClient\", timestamp=\"PDT 2017-05-26 10:16:04,986\", l<br> id = 42",
          "1 logger=\"org.apache.http.impl.client.DefaultHttpClient\", timestamp=\"PDT 2017-05-26 10:16:04,986\", l<br> id = 42",
          "1 logger=\"org.apache.http.impl.client.DefaultHttpClient\", timestamp=\"PDT 2017-05-26 10:16:04,986\", l<br> id = 42",
          "1 logger=\"org.apache.http.impl.client.DefaultHttpClient\", timestamp=\"PDT 2017-05-26 10:16:04,986\", l<br> id = 42",
          "1 logger=\"org.apache.http.impl.client.DefaultHttpClient\", timestamp=\"PDT 2017-05-26 10:16:04,986\", l<br> id = 42",
          "1 logger=\"org.apache.http.impl.client.DefaultHttpClient\", timestamp=\"PDT 2017-05-26 10:16:04,986\", l<br> id = 42",
          "1 logger=\"org.apache.http.impl.client.DefaultHttpClient\", timestamp=\"PDT 2017-05-26 10:16:04,986\", l<br> id = 42"
         ],
         "type": "scatter3d",
         "x": [
          "-0.418777935714",
          "-0.418777935714",
          "-0.418777935714",
          "-0.418777935714",
          "-0.418777935714",
          "-0.418777935714",
          "-0.418777935714"
         ],
         "y": [
          "0.285296459195",
          "0.285296459195",
          "0.285296459195",
          "0.285296459195",
          "0.285296459195",
          "0.285296459195",
          "0.285296459195"
         ],
         "z": [
          "1",
          "1",
          "1",
          "1",
          "1",
          "1",
          "1"
         ]
        },
        {
         "legendgroup": "cluster - 7",
         "marker": {
          "color": "blue",
          "opacity": 0.5,
          "size": 6
         },
         "mode": "markers",
         "name": "cluster - 7",
         "text": [
          "Unknown logger=\"com.apple.jingle.util.MZClientCapabilities\", timestamp=\"PDT 2017-05-26 10:15:49,316\"<br> id = 7",
          "Unknown logger=\"com.apple.jingle.util.MZClientCapabilities\", timestamp=\"PDT 2017-05-26 10:15:49,316\"<br> id = 7",
          "Unknown logger=\"com.apple.jingle.util.MZClientCapabilities\", timestamp=\"PDT 2017-05-26 10:15:49,316\"<br> id = 7",
          "Unknown logger=\"com.apple.jingle.util.MZClientCapabilities\", timestamp=\"PDT 2017-05-26 10:15:49,316\"<br> id = 7",
          "Unknown logger=\"com.apple.jingle.util.MZClientCapabilities\", timestamp=\"PDT 2017-05-26 10:15:49,316\"<br> id = 7"
         ],
         "type": "scatter3d",
         "x": [
          "0.244418857741",
          "0.244418857741",
          "0.244418857741",
          "0.244418857741",
          "0.244418857741"
         ],
         "y": [
          "-0.242165571614",
          "-0.242165571614",
          "-0.242165571614",
          "-0.242165571614",
          "-0.242165571614"
         ],
         "z": [
          "1",
          "1",
          "1",
          "1",
          "1"
         ]
        },
        {
         "legendgroup": "cluster - 7",
         "marker": {
          "color": "orange",
          "opacity": 0.5,
          "size": 7
         },
         "mode": "markers",
         "name": "cluster - 7",
         "text": [
          "1 logger=\"com.apple.jingle.util.MZClientCapabilities\", timestamp=\"PDT 2017-05-26 10:15:49,316\", leve<br> id = 43",
          "1 logger=\"com.apple.jingle.util.MZClientCapabilities\", timestamp=\"PDT 2017-05-26 10:15:49,316\", leve<br> id = 43",
          "1 logger=\"com.apple.jingle.util.MZClientCapabilities\", timestamp=\"PDT 2017-05-26 10:15:49,316\", leve<br> id = 43",
          "1 logger=\"com.apple.jingle.util.MZClientCapabilities\", timestamp=\"PDT 2017-05-26 10:15:49,316\", leve<br> id = 43",
          "1 logger=\"com.apple.jingle.util.MZClientCapabilities\", timestamp=\"PDT 2017-05-26 10:15:49,316\", leve<br> id = 43"
         ],
         "type": "scatter3d",
         "x": [
          "0.244418857741",
          "0.244418857741",
          "0.244418857741",
          "0.244418857741",
          "0.244418857741"
         ],
         "y": [
          "-0.242165571614",
          "-0.242165571614",
          "-0.242165571614",
          "-0.242165571614",
          "-0.242165571614"
         ],
         "z": [
          "1",
          "1",
          "1",
          "1",
          "1"
         ]
        },
        {
         "legendgroup": "cluster - 8",
         "marker": {
          "color": "blue",
          "opacity": 0.5,
          "size": 6
         },
         "mode": "markers",
         "name": "cluster - 8",
         "text": [
          "Unknown logger=\"com.apple.jingle.cachelogic.popularity.MZPopularityClient\", timestamp=\"PDT 2017-05-2<br> id = 8",
          "Unknown logger=\"com.apple.jingle.cachelogic.popularity.MZPopularityClient\", timestamp=\"PDT 2017-05-2<br> id = 8",
          "Unknown logger=\"com.apple.jingle.cachelogic.popularity.MZPopularityClient\", timestamp=\"PDT 2017-05-2<br> id = 8",
          "Unknown logger=\"com.apple.jingle.cachelogic.popularity.MZPopularityClient\", timestamp=\"PDT 2017-05-2<br> id = 8"
         ],
         "type": "scatter3d",
         "x": [
          "0.440629075118",
          "0.440629075118",
          "0.440629075118",
          "0.440629075118"
         ],
         "y": [
          "0.386817233109",
          "0.386817233109",
          "0.386817233109",
          "0.386817233109"
         ],
         "z": [
          "1",
          "1",
          "2",
          "8"
         ]
        },
        {
         "legendgroup": "cluster - 8",
         "marker": {
          "color": "orange",
          "opacity": 0.5,
          "size": 7
         },
         "mode": "markers",
         "name": "cluster - 8",
         "text": [
          "1 logger=\"com.apple.jingle.cachelogic.popularity.MZPopularityClient\", timestamp=\"PDT 2017-05-26 10:1<br> id = 44",
          "1 logger=\"com.apple.jingle.cachelogic.popularity.MZPopularityClient\", timestamp=\"PDT 2017-05-26 10:1<br> id = 44",
          "8 logger=\"com.apple.jingle.cachelogic.popularity.MZPopularityClient\", timestamp=\"PDT 2017-05-26 10:1<br> id = 45",
          "2 logger=\"com.apple.jingle.cachelogic.popularity.MZPopularityClient\", timestamp=\"PDT 2017-05-26 10:1<br> id = 46"
         ],
         "type": "scatter3d",
         "x": [
          "0.440629075118",
          "0.440629075118",
          "0.426986099294",
          "0.439985014592"
         ],
         "y": [
          "0.386817233109",
          "0.386817233109",
          "0.394204291538",
          "0.400732930005"
         ],
         "z": [
          "1",
          "1",
          "8",
          "2"
         ]
        },
        {
         "legendgroup": "cluster - 9",
         "marker": {
          "color": "blue",
          "opacity": 0.5,
          "size": 6
         },
         "mode": "markers",
         "name": "cluster - 9",
         "text": [
          "Unknown logger=\"com.apple.jingle.util.MZClientCapabilities\", timestamp=\"PDT 2017-05-26 10:16:03,649\"<br> id = 9",
          "Unknown logger=\"com.apple.jingle.util.MZClientCapabilities\", timestamp=\"PDT 2017-05-26 10:16:03,649\"<br> id = 9",
          "Unknown logger=\"com.apple.jingle.util.MZClientCapabilities\", timestamp=\"PDT 2017-05-26 10:16:03,649\"<br> id = 9",
          "Unknown logger=\"com.apple.jingle.util.MZClientCapabilities\", timestamp=\"PDT 2017-05-26 10:16:03,649\"<br> id = 9"
         ],
         "type": "scatter3d",
         "x": [
          "0.457014039702",
          "0.457014039702",
          "0.457014039702",
          "0.457014039702"
         ],
         "y": [
          "-0.331378516161",
          "-0.331378516161",
          "-0.331378516161",
          "-0.331378516161"
         ],
         "z": [
          "1",
          "1",
          "1",
          "1"
         ]
        },
        {
         "legendgroup": "cluster - 9",
         "marker": {
          "color": "orange",
          "opacity": 0.5,
          "size": 7
         },
         "mode": "markers",
         "name": "cluster - 9",
         "text": [
          "1 logger=\"com.apple.jingle.util.MZClientCapabilities\", timestamp=\"PDT 2017-05-26 10:16:03,649\", leve<br> id = 47",
          "1 logger=\"com.apple.jingle.util.MZClientCapabilities\", timestamp=\"PDT 2017-05-26 10:16:03,649\", leve<br> id = 47",
          "1 logger=\"com.apple.jingle.util.MZClientCapabilities\", timestamp=\"PDT 2017-05-26 10:16:03,649\", leve<br> id = 47",
          "1 logger=\"com.apple.jingle.util.MZClientCapabilities\", timestamp=\"PDT 2017-05-26 10:16:03,649\", leve<br> id = 47"
         ],
         "type": "scatter3d",
         "x": [
          "0.000222336203686",
          "0.000222336203686",
          "0.000222336203686",
          "0.000222336203686"
         ],
         "y": [
          "-0.51002975165",
          "-0.51002975165",
          "-0.51002975165",
          "-0.51002975165"
         ],
         "z": [
          "1",
          "1",
          "1",
          "1"
         ]
        },
        {
         "legendgroup": "cluster - 10",
         "marker": {
          "color": "blue",
          "opacity": 0.5,
          "size": 6
         },
         "mode": "markers",
         "name": "cluster - 10",
         "text": [
          "Unknown logger=\"com.webobjects.foundation.stats.NSStats\", timestamp=\"PDT 2017-05-26 10:15:12,367\", l<br> id = 10",
          "Unknown logger=\"com.webobjects.foundation.stats.NSStats\", timestamp=\"PDT 2017-05-26 10:15:12,367\", l<br> id = 10"
         ],
         "type": "scatter3d",
         "x": [
          "-0.667347689368",
          "-0.667347689368"
         ],
         "y": [
          "0.454441693311",
          "0.454441693311"
         ],
         "z": [
          "1",
          "1"
         ]
        },
        {
         "legendgroup": "cluster - 10",
         "marker": {
          "color": "orange",
          "opacity": 0.5,
          "size": 7
         },
         "mode": "markers",
         "name": "cluster - 10",
         "text": [
          "1 logger=\"com.webobjects.foundation.stats.NSStats\", timestamp=\"PDT 2017-05-26 10:15:12,367\", level=\"<br> id = 48",
          "1 logger=\"com.webobjects.foundation.stats.NSStats\", timestamp=\"PDT 2017-05-26 10:15:12,367\", level=\"<br> id = 48"
         ],
         "type": "scatter3d",
         "x": [
          "-0.761273977423",
          "-0.761273977423"
         ],
         "y": [
          "-0.112887745175",
          "-0.112887745175"
         ],
         "z": [
          "1",
          "1"
         ]
        },
        {
         "legendgroup": "cluster - 11",
         "marker": {
          "color": "blue",
          "opacity": 0.5,
          "size": 6
         },
         "mode": "markers",
         "name": "cluster - 11",
         "text": [
          "Unknown logger=\"com.apple.jingle.cachelogic.popularity.MZPopularityClient\", timestamp=\"PDT 2017-05-2<br> id = 11",
          "Unknown logger=\"com.apple.jingle.cachelogic.popularity.MZPopularityClient\", timestamp=\"PDT 2017-05-2<br> id = 11"
         ],
         "type": "scatter3d",
         "x": [
          "0.0350769884054",
          "0.0350769884054"
         ],
         "y": [
          "0.729525222151",
          "0.729525222151"
         ],
         "z": [
          "1592",
          "360"
         ]
        },
        {
         "legendgroup": "cluster - 11",
         "marker": {
          "color": "orange",
          "opacity": 0.5,
          "size": 7
         },
         "mode": "markers",
         "name": "cluster - 11",
         "text": [
          "360 logger=\"com.apple.jingle.cachelogic.popularity.MZPopularityClient\", timestamp=\"PDT 2017-05-26 10<br> id = 49",
          "1592 logger=\"com.apple.jingle.cachelogic.popularity.MZPopularityClient\", timestamp=\"PDT 2017-05-26 1<br> id = 50"
         ],
         "type": "scatter3d",
         "x": [
          "0.04403026596",
          "0.0350771806047"
         ],
         "y": [
          "0.723926692079",
          "0.729525262459"
         ],
         "z": [
          "360",
          "1592"
         ]
        },
        {
         "legendgroup": "cluster - 12",
         "marker": {
          "color": "blue",
          "opacity": 0.5,
          "size": 6
         },
         "mode": "markers",
         "name": "cluster - 12",
         "text": [
          "Unknown logger=\"com.apple.jingle.cachelogic.popularity.MZPopularityClient\", timestamp=\"PDT 2017-05-2<br> id = 12"
         ],
         "type": "scatter3d",
         "x": [
          "0.274037534168"
         ],
         "y": [
          "0.0140706990714"
         ],
         "z": [
          "1"
         ]
        },
        {
         "legendgroup": "cluster - 12",
         "marker": {
          "color": "orange",
          "opacity": 0.5,
          "size": 7
         },
         "mode": "markers",
         "name": "cluster - 12",
         "text": [
          "1 logger=\"com.apple.jingle.cachelogic.popularity.MZPopularityClient\", timestamp=\"PDT 2017-05-26 10:1<br> id = 51"
         ],
         "type": "scatter3d",
         "x": [
          "0.274037484722"
         ],
         "y": [
          "0.014070704117"
         ],
         "z": [
          "1"
         ]
        },
        {
         "legendgroup": "cluster - 13",
         "marker": {
          "color": "blue",
          "opacity": 0.5,
          "size": 6
         },
         "mode": "markers",
         "name": "cluster - 13",
         "text": [
          "Unknown logger=\"org.apache.http.impl.client.DefaultHttpClient\", timestamp=\"PDT 2017-05-26 10:16:04,6<br> id = 13",
          "Unknown logger=\"org.apache.http.impl.client.DefaultHttpClient\", timestamp=\"PDT 2017-05-26 10:16:04,6<br> id = 13"
         ],
         "type": "scatter3d",
         "x": [
          "-0.697132032987",
          "-0.697132032987"
         ],
         "y": [
          "0.276174959042",
          "0.276174959042"
         ],
         "z": [
          "744",
          "121"
         ]
        },
        {
         "legendgroup": "cluster - 13",
         "marker": {
          "color": "orange",
          "opacity": 0.5,
          "size": 7
         },
         "mode": "markers",
         "name": "cluster - 13",
         "text": [
          "121 logger=\"org.apache.http.impl.client.DefaultHttpClient\", timestamp=\"PDT 2017-05-26 10:16:03,080\",<br> id = 52",
          "744 logger=\"org.apache.http.impl.client.DefaultHttpClient\", timestamp=\"PDT 2017-05-26 10:16:04,677\",<br> id = 53"
         ],
         "type": "scatter3d",
         "x": [
          "-0.697132032987",
          "-0.726064707676"
         ],
         "y": [
          "0.276174959043",
          "0.038336247438"
         ],
         "z": [
          "121",
          "744"
         ]
        },
        {
         "legendgroup": "cluster - 14",
         "marker": {
          "color": "blue",
          "opacity": 0.5,
          "size": 6
         },
         "mode": "markers",
         "name": "cluster - 14",
         "text": [
          "Unknown logger=\"org.apache.http.impl.client.DefaultHttpClient\", timestamp=\"PDT 2017-05-26 10:15:17,7<br> id = 14"
         ],
         "type": "scatter3d",
         "x": [
          "-0.387741788822"
         ],
         "y": [
          "0.402121442046"
         ],
         "z": [
          "1"
         ]
        },
        {
         "legendgroup": "cluster - 14",
         "marker": {
          "color": "orange",
          "opacity": 0.5,
          "size": 7
         },
         "mode": "markers",
         "name": "cluster - 14",
         "text": [
          "1 logger=\"org.apache.http.impl.client.DefaultHttpClient\", timestamp=\"PDT 2017-05-26 10:15:17,768\", l<br> id = 54"
         ],
         "type": "scatter3d",
         "x": [
          "-0.387741788822"
         ],
         "y": [
          "0.402121442046"
         ],
         "z": [
          "1"
         ]
        },
        {
         "legendgroup": "cluster - 15",
         "marker": {
          "color": "blue",
          "opacity": 0.5,
          "size": 6
         },
         "mode": "markers",
         "name": "cluster - 15",
         "text": [
          "Unknown logger=\"net.spy.memcached.MemcachedConnection\", timestamp=\"PDT 2017-05-26 10:15:44,215\", lev<br> id = 15",
          "Unknown logger=\"net.spy.memcached.MemcachedConnection\", timestamp=\"PDT 2017-05-26 10:15:44,215\", lev<br> id = 15",
          "Unknown logger=\"net.spy.memcached.MemcachedConnection\", timestamp=\"PDT 2017-05-26 10:15:44,215\", lev<br> id = 15"
         ],
         "type": "scatter3d",
         "x": [
          "-0.637659692753",
          "-0.637659692753",
          "-0.637659692753"
         ],
         "y": [
          "-0.382359022619",
          "-0.382359022619",
          "-0.382359022619"
         ],
         "z": [
          "9",
          "2101",
          "9"
         ]
        },
        {
         "legendgroup": "cluster - 15",
         "marker": {
          "color": "orange",
          "opacity": 0.5,
          "size": 7
         },
         "mode": "markers",
         "name": "cluster - 15",
         "text": [
          "9 logger=\"net.spy.memcached.MemcachedConnection\", timestamp=\"PDT 2017-05-26 10:15:44,215\", level=\"IN<br> id = 55",
          "9 logger=\"net.spy.memcached.MemcachedConnection\", timestamp=\"PDT 2017-05-26 10:15:44,215\", level=\"IN<br> id = 55",
          "2101 logger=\"net.spy.memcached.MemcachedConnection\", timestamp=\"PDT 2017-05-26 10:16:04,868\", level=<br> id = 56"
         ],
         "type": "scatter3d",
         "x": [
          "-0.637659692753",
          "-0.637659692753",
          "-0.65585852425"
         ],
         "y": [
          "-0.382359022619",
          "-0.382359022619",
          "-0.425757406704"
         ],
         "z": [
          "9",
          "9",
          "2101"
         ]
        },
        {
         "legendgroup": "cluster - 16",
         "marker": {
          "color": "blue",
          "opacity": 0.5,
          "size": 6
         },
         "mode": "markers",
         "name": "cluster - 16",
         "text": [
          "Unknown logger=\"com.apple.jingle.util.MZClientCapabilities\", timestamp=\"PDT 2017-05-26 10:16:05,078\"<br> id = 16",
          "Unknown logger=\"com.apple.jingle.util.MZClientCapabilities\", timestamp=\"PDT 2017-05-26 10:16:05,078\"<br> id = 16",
          "Unknown logger=\"com.apple.jingle.util.MZClientCapabilities\", timestamp=\"PDT 2017-05-26 10:16:05,078\"<br> id = 16",
          "Unknown logger=\"com.apple.jingle.util.MZClientCapabilities\", timestamp=\"PDT 2017-05-26 10:16:05,078\"<br> id = 16",
          "Unknown logger=\"com.apple.jingle.util.MZClientCapabilities\", timestamp=\"PDT 2017-05-26 10:16:05,078\"<br> id = 16",
          "Unknown logger=\"com.apple.jingle.util.MZClientCapabilities\", timestamp=\"PDT 2017-05-26 10:16:05,078\"<br> id = 16",
          "Unknown logger=\"com.apple.jingle.util.MZClientCapabilities\", timestamp=\"PDT 2017-05-26 10:16:05,078\"<br> id = 16",
          "Unknown logger=\"com.apple.jingle.util.MZClientCapabilities\", timestamp=\"PDT 2017-05-26 10:16:05,078\"<br> id = 16",
          "Unknown logger=\"com.apple.jingle.util.MZClientCapabilities\", timestamp=\"PDT 2017-05-26 10:16:05,078\"<br> id = 16",
          "Unknown logger=\"com.apple.jingle.util.MZClientCapabilities\", timestamp=\"PDT 2017-05-26 10:16:05,078\"<br> id = 16",
          "Unknown logger=\"com.apple.jingle.util.MZClientCapabilities\", timestamp=\"PDT 2017-05-26 10:16:05,078\"<br> id = 16"
         ],
         "type": "scatter3d",
         "x": [
          "0.18978220877",
          "0.18978220877",
          "0.18978220877",
          "0.18978220877",
          "0.18978220877",
          "0.18978220877",
          "0.18978220877",
          "0.18978220877",
          "0.18978220877",
          "0.18978220877",
          "0.18978220877"
         ],
         "y": [
          "-0.320044720186",
          "-0.320044720186",
          "-0.320044720186",
          "-0.320044720186",
          "-0.320044720186",
          "-0.320044720186",
          "-0.320044720186",
          "-0.320044720186",
          "-0.320044720186",
          "-0.320044720186",
          "-0.320044720186"
         ],
         "z": [
          "1",
          "5",
          "1",
          "2",
          "1",
          "5",
          "1",
          "1",
          "1",
          "1",
          "2"
         ]
        },
        {
         "legendgroup": "cluster - 16",
         "marker": {
          "color": "orange",
          "opacity": 0.5,
          "size": 7
         },
         "mode": "markers",
         "name": "cluster - 16",
         "text": [
          "1 logger=\"com.apple.jingle.util.MZClientCapabilities\", timestamp=\"PDT 2017-05-26 10:16:05,078\", leve<br> id = 57",
          "1 logger=\"com.apple.jingle.util.MZClientCapabilities\", timestamp=\"PDT 2017-05-26 10:16:05,078\", leve<br> id = 57",
          "1 logger=\"com.apple.jingle.util.MZClientCapabilities\", timestamp=\"PDT 2017-05-26 10:16:05,078\", leve<br> id = 57",
          "1 logger=\"com.apple.jingle.util.MZClientCapabilities\", timestamp=\"PDT 2017-05-26 10:16:05,078\", leve<br> id = 57",
          "1 logger=\"com.apple.jingle.util.MZClientCapabilities\", timestamp=\"PDT 2017-05-26 10:16:05,078\", leve<br> id = 57",
          "1 logger=\"com.apple.jingle.util.MZClientCapabilities\", timestamp=\"PDT 2017-05-26 10:16:05,078\", leve<br> id = 57",
          "1 logger=\"com.apple.jingle.util.MZClientCapabilities\", timestamp=\"PDT 2017-05-26 10:16:05,078\", leve<br> id = 57",
          "2 logger=\"com.apple.jingle.util.MZClientCapabilities\", timestamp=\"PDT 2017-05-26 10:16:02,105\", leve<br> id = 58",
          "2 logger=\"com.apple.jingle.util.MZClientCapabilities\", timestamp=\"PDT 2017-05-26 10:16:02,105\", leve<br> id = 58",
          "5 logger=\"com.apple.jingle.util.MZClientCapabilities\", timestamp=\"PDT 2017-05-26 10:16:06,811\", leve<br> id = 59",
          "5 logger=\"com.apple.jingle.util.MZClientCapabilities\", timestamp=\"PDT 2017-05-26 10:16:06,811\", leve<br> id = 59"
         ],
         "type": "scatter3d",
         "x": [
          "0.18978220877",
          "0.18978220877",
          "0.18978220877",
          "0.18978220877",
          "0.18978220877",
          "0.18978220877",
          "0.18978220877",
          "0.198728735244",
          "0.198728735244",
          "0.178481144252",
          "0.178481144252"
         ],
         "y": [
          "-0.320044720186",
          "-0.320044720186",
          "-0.320044720186",
          "-0.320044720186",
          "-0.320044720186",
          "-0.320044720186",
          "-0.320044720186",
          "-0.315085965258",
          "-0.315085965258",
          "-0.331338755791",
          "-0.331338755791"
         ],
         "z": [
          "1",
          "1",
          "1",
          "1",
          "1",
          "1",
          "1",
          "2",
          "2",
          "5",
          "5"
         ]
        },
        {
         "legendgroup": "cluster - 17",
         "marker": {
          "color": "blue",
          "opacity": 0.5,
          "size": 6
         },
         "mode": "markers",
         "name": "cluster - 17",
         "text": [
          "Unknown logger=\"com.apple.jingle.util.MZClientCapabilities\", timestamp=\"PDT 2017-05-26 10:15:10,613\"<br> id = 17",
          "Unknown logger=\"com.apple.jingle.util.MZClientCapabilities\", timestamp=\"PDT 2017-05-26 10:15:10,613\"<br> id = 17",
          "Unknown logger=\"com.apple.jingle.util.MZClientCapabilities\", timestamp=\"PDT 2017-05-26 10:15:10,613\"<br> id = 17",
          "Unknown logger=\"com.apple.jingle.util.MZClientCapabilities\", timestamp=\"PDT 2017-05-26 10:15:10,613\"<br> id = 17",
          "Unknown logger=\"com.apple.jingle.util.MZClientCapabilities\", timestamp=\"PDT 2017-05-26 10:15:10,613\"<br> id = 17",
          "Unknown logger=\"com.apple.jingle.util.MZClientCapabilities\", timestamp=\"PDT 2017-05-26 10:15:10,613\"<br> id = 17"
         ],
         "type": "scatter3d",
         "x": [
          "0.245723566585",
          "0.245723566585",
          "0.245723566585",
          "0.245723566585",
          "0.245723566585",
          "0.245723566585"
         ],
         "y": [
          "-0.281120141288",
          "-0.281120141288",
          "-0.281120141288",
          "-0.281120141288",
          "-0.281120141288",
          "-0.281120141288"
         ],
         "z": [
          "2",
          "1",
          "1",
          "1",
          "1",
          "1"
         ]
        },
        {
         "legendgroup": "cluster - 17",
         "marker": {
          "color": "orange",
          "opacity": 0.5,
          "size": 7
         },
         "mode": "markers",
         "name": "cluster - 17",
         "text": [
          "1 logger=\"com.apple.jingle.util.MZClientCapabilities\", timestamp=\"PDT 2017-05-26 10:16:00,948\", leve<br> id = 60",
          "1 logger=\"com.apple.jingle.util.MZClientCapabilities\", timestamp=\"PDT 2017-05-26 10:16:00,948\", leve<br> id = 60",
          "1 logger=\"com.apple.jingle.util.MZClientCapabilities\", timestamp=\"PDT 2017-05-26 10:16:00,948\", leve<br> id = 60",
          "1 logger=\"com.apple.jingle.util.MZClientCapabilities\", timestamp=\"PDT 2017-05-26 10:16:00,948\", leve<br> id = 60",
          "1 logger=\"com.apple.jingle.util.MZClientCapabilities\", timestamp=\"PDT 2017-05-26 10:16:00,948\", leve<br> id = 60",
          "2 logger=\"com.apple.jingle.util.MZClientCapabilities\", timestamp=\"PDT 2017-05-26 10:15:10,613\", leve<br> id = 61"
         ],
         "type": "scatter3d",
         "x": [
          "0.271636423892",
          "0.271636423892",
          "0.271636423892",
          "0.271636423892",
          "0.271636423892",
          "0.245723566585"
         ],
         "y": [
          "-0.270524391145",
          "-0.270524391145",
          "-0.270524391145",
          "-0.270524391145",
          "-0.270524391145",
          "-0.281120141288"
         ],
         "z": [
          "1",
          "1",
          "1",
          "1",
          "1",
          "2"
         ]
        },
        {
         "legendgroup": "cluster - 18",
         "marker": {
          "color": "blue",
          "opacity": 0.5,
          "size": 6
         },
         "mode": "markers",
         "name": "cluster - 18",
         "text": [
          "Unknown logger=\"com.apple.jingle.app.store.W3StoreDirectAction\", timestamp=\"PDT 2017-05-26 10:15:19,<br> id = 18"
         ],
         "type": "scatter3d",
         "x": [
          "-0.133692614631"
         ],
         "y": [
          "0.287585831879"
         ],
         "z": [
          "1"
         ]
        },
        {
         "legendgroup": "cluster - 18",
         "marker": {
          "color": "orange",
          "opacity": 0.5,
          "size": 7
         },
         "mode": "markers",
         "name": "cluster - 18",
         "text": [
          "1 logger=\"com.apple.jingle.app.store.W3StoreDirectAction\", timestamp=\"PDT 2017-05-26 10:15:19,160\", <br> id = 62"
         ],
         "type": "scatter3d",
         "x": [
          "-0.13369264393"
         ],
         "y": [
          "0.287585758642"
         ],
         "z": [
          "1"
         ]
        },
        {
         "legendgroup": "cluster - 19",
         "marker": {
          "color": "blue",
          "opacity": 0.5,
          "size": 6
         },
         "mode": "markers",
         "name": "cluster - 19",
         "text": [
          "Unknown logger=\"org.apache.http.impl.client.DefaultHttpClient\", timestamp=\"PDT 2017-05-26 10:15:57,8<br> id = 19",
          "Unknown logger=\"org.apache.http.impl.client.DefaultHttpClient\", timestamp=\"PDT 2017-05-26 10:15:57,8<br> id = 19"
         ],
         "type": "scatter3d",
         "x": [
          "-0.40458664591",
          "-0.40458664591"
         ],
         "y": [
          "0.39755604092",
          "0.39755604092"
         ],
         "z": [
          "1",
          "1"
         ]
        },
        {
         "legendgroup": "cluster - 19",
         "marker": {
          "color": "orange",
          "opacity": 0.5,
          "size": 7
         },
         "mode": "markers",
         "name": "cluster - 19",
         "text": [
          "1 logger=\"org.apache.http.impl.client.DefaultHttpClient\", timestamp=\"PDT 2017-05-26 10:15:57,856\", l<br> id = 63",
          "1 logger=\"org.apache.http.impl.client.DefaultHttpClient\", timestamp=\"PDT 2017-05-26 10:15:57,856\", l<br> id = 63"
         ],
         "type": "scatter3d",
         "x": [
          "-0.404586630289",
          "-0.404586630289"
         ],
         "y": [
          "0.39755607667",
          "0.39755607667"
         ],
         "z": [
          "1",
          "1"
         ]
        },
        {
         "legendgroup": "cluster - 20",
         "marker": {
          "color": "blue",
          "opacity": 0.5,
          "size": 6
         },
         "mode": "markers",
         "name": "cluster - 20",
         "text": [
          "Unknown logger=\"com.apple.jingle.cachelogic.popularity.MZPopularityClient\", timestamp=\"PDT 2017-05-2<br> id = 20"
         ],
         "type": "scatter3d",
         "x": [
          "0.234795480948"
         ],
         "y": [
          "0.237195472378"
         ],
         "z": [
          "2"
         ]
        },
        {
         "legendgroup": "cluster - 20",
         "marker": {
          "color": "orange",
          "opacity": 0.5,
          "size": 7
         },
         "mode": "markers",
         "name": "cluster - 20",
         "text": [
          "2 logger=\"com.apple.jingle.cachelogic.popularity.MZPopularityClient\", timestamp=\"PDT 2017-05-26 10:1<br> id = 64"
         ],
         "type": "scatter3d",
         "x": [
          "0.234795480862"
         ],
         "y": [
          "0.237195472384"
         ],
         "z": [
          "2"
         ]
        },
        {
         "legendgroup": "cluster - 21",
         "marker": {
          "color": "blue",
          "opacity": 0.5,
          "size": 6
         },
         "mode": "markers",
         "name": "cluster - 21",
         "text": [
          "Unknown logger=\"com.apple.jingle.cachelogic.popularity.MZPopularityClient\", timestamp=\"PDT 2017-05-2<br> id = 21"
         ],
         "type": "scatter3d",
         "x": [
          "0.44931702479"
         ],
         "y": [
          "0.274003949578"
         ],
         "z": [
          "6"
         ]
        },
        {
         "legendgroup": "cluster - 21",
         "marker": {
          "color": "orange",
          "opacity": 0.5,
          "size": 7
         },
         "mode": "markers",
         "name": "cluster - 21",
         "text": [
          "6 logger=\"com.apple.jingle.cachelogic.popularity.MZPopularityClient\", timestamp=\"PDT 2017-05-26 10:1<br> id = 65"
         ],
         "type": "scatter3d",
         "x": [
          "0.44931702479"
         ],
         "y": [
          "0.274003949578"
         ],
         "z": [
          "6"
         ]
        },
        {
         "legendgroup": "cluster - 22",
         "marker": {
          "color": "blue",
          "opacity": 0.5,
          "size": 6
         },
         "mode": "markers",
         "name": "cluster - 22",
         "text": [
          "Unknown logger=\"com.apple.jingle.cachelogic.popularity.MZPopularityClient\", timestamp=\"PDT 2017-05-2<br> id = 22"
         ],
         "type": "scatter3d",
         "x": [
          "0.357794082691"
         ],
         "y": [
          "0.286078050406"
         ],
         "z": [
          "2"
         ]
        },
        {
         "legendgroup": "cluster - 22",
         "marker": {
          "color": "orange",
          "opacity": 0.5,
          "size": 7
         },
         "mode": "markers",
         "name": "cluster - 22",
         "text": [
          "2 logger=\"com.apple.jingle.cachelogic.popularity.MZPopularityClient\", timestamp=\"PDT 2017-05-26 10:1<br> id = 66"
         ],
         "type": "scatter3d",
         "x": [
          "0.357794082691"
         ],
         "y": [
          "0.286078050406"
         ],
         "z": [
          "2"
         ]
        },
        {
         "legendgroup": "cluster - 23",
         "marker": {
          "color": "blue",
          "opacity": 0.5,
          "size": 6
         },
         "mode": "markers",
         "name": "cluster - 23",
         "text": [
          "Unknown logger=\"com.webobjects.foundation.stats.NSStats\", timestamp=\"PDT 2017-05-26 10:16:03,988\", l<br> id = 23"
         ],
         "type": "scatter3d",
         "x": [
          "-0.729403270661"
         ],
         "y": [
          "-0.198301386059"
         ],
         "z": [
          "1"
         ]
        },
        {
         "legendgroup": "cluster - 23",
         "marker": {
          "color": "orange",
          "opacity": 0.5,
          "size": 7
         },
         "mode": "markers",
         "name": "cluster - 23",
         "text": [
          "1 logger=\"com.webobjects.foundation.stats.NSStats\", timestamp=\"PDT 2017-05-26 10:16:03,988\", level=\"<br> id = 67"
         ],
         "type": "scatter3d",
         "x": [
          "-0.729403270661"
         ],
         "y": [
          "-0.198301386059"
         ],
         "z": [
          "1"
         ]
        },
        {
         "legendgroup": "cluster - 24",
         "marker": {
          "color": "blue",
          "opacity": 0.5,
          "size": 6
         },
         "mode": "markers",
         "name": "cluster - 24",
         "text": [
          "Unknown logger=\"com.apple.jingle.util.MZClientCapabilities\", timestamp=\"PDT 2017-05-26 10:16:06,882\"<br> id = 24",
          "Unknown logger=\"com.apple.jingle.util.MZClientCapabilities\", timestamp=\"PDT 2017-05-26 10:16:06,882\"<br> id = 24",
          "Unknown logger=\"com.apple.jingle.util.MZClientCapabilities\", timestamp=\"PDT 2017-05-26 10:16:06,882\"<br> id = 24",
          "Unknown logger=\"com.apple.jingle.util.MZClientCapabilities\", timestamp=\"PDT 2017-05-26 10:16:06,882\"<br> id = 24"
         ],
         "type": "scatter3d",
         "x": [
          "0.120966954588",
          "0.120966954588",
          "0.120966954588",
          "0.120966954588"
         ],
         "y": [
          "-0.341147977074",
          "-0.341147977074",
          "-0.341147977074",
          "-0.341147977074"
         ],
         "z": [
          "1",
          "1",
          "1",
          "1"
         ]
        },
        {
         "legendgroup": "cluster - 24",
         "marker": {
          "color": "orange",
          "opacity": 0.5,
          "size": 7
         },
         "mode": "markers",
         "name": "cluster - 24",
         "text": [
          "1 logger=\"com.apple.jingle.util.MZClientCapabilities\", timestamp=\"PDT 2017-05-26 10:16:06,882\", leve<br> id = 68",
          "1 logger=\"com.apple.jingle.util.MZClientCapabilities\", timestamp=\"PDT 2017-05-26 10:16:06,882\", leve<br> id = 68",
          "1 logger=\"com.apple.jingle.util.MZClientCapabilities\", timestamp=\"PDT 2017-05-26 10:16:06,882\", leve<br> id = 68",
          "1 logger=\"com.apple.jingle.util.MZClientCapabilities\", timestamp=\"PDT 2017-05-26 10:16:06,882\", leve<br> id = 68"
         ],
         "type": "scatter3d",
         "x": [
          "0.120966954588",
          "0.120966954588",
          "0.120966954588",
          "0.120966954588"
         ],
         "y": [
          "-0.341147977074",
          "-0.341147977074",
          "-0.341147977074",
          "-0.341147977074"
         ],
         "z": [
          "1",
          "1",
          "1",
          "1"
         ]
        },
        {
         "legendgroup": "cluster - 25",
         "marker": {
          "color": "blue",
          "opacity": 0.5,
          "size": 6
         },
         "mode": "markers",
         "name": "cluster - 25",
         "text": [
          "Unknown logger=\"com.apple.jingle.util.MZClientCapabilities\", timestamp=\"PDT 2017-05-26 10:16:01,214\"<br> id = 25",
          "Unknown logger=\"com.apple.jingle.util.MZClientCapabilities\", timestamp=\"PDT 2017-05-26 10:16:01,214\"<br> id = 25",
          "Unknown logger=\"com.apple.jingle.util.MZClientCapabilities\", timestamp=\"PDT 2017-05-26 10:16:01,214\"<br> id = 25",
          "Unknown logger=\"com.apple.jingle.util.MZClientCapabilities\", timestamp=\"PDT 2017-05-26 10:16:01,214\"<br> id = 25"
         ],
         "type": "scatter3d",
         "x": [
          "0.264478540823",
          "0.264478540823",
          "0.264478540823",
          "0.264478540823"
         ],
         "y": [
          "-0.238883883369",
          "-0.238883883369",
          "-0.238883883369",
          "-0.238883883369"
         ],
         "z": [
          "1",
          "1",
          "1",
          "1"
         ]
        },
        {
         "legendgroup": "cluster - 25",
         "marker": {
          "color": "orange",
          "opacity": 0.5,
          "size": 7
         },
         "mode": "markers",
         "name": "cluster - 25",
         "text": [
          "1 logger=\"com.apple.jingle.util.MZClientCapabilities\", timestamp=\"PDT 2017-05-26 10:16:01,214\", leve<br> id = 69",
          "1 logger=\"com.apple.jingle.util.MZClientCapabilities\", timestamp=\"PDT 2017-05-26 10:16:01,214\", leve<br> id = 69",
          "1 logger=\"com.apple.jingle.util.MZClientCapabilities\", timestamp=\"PDT 2017-05-26 10:16:01,214\", leve<br> id = 69",
          "1 logger=\"com.apple.jingle.util.MZClientCapabilities\", timestamp=\"PDT 2017-05-26 10:16:01,214\", leve<br> id = 69"
         ],
         "type": "scatter3d",
         "x": [
          "0.264478540823",
          "0.264478540823",
          "0.264478540823",
          "0.264478540823"
         ],
         "y": [
          "-0.238883883369",
          "-0.238883883369",
          "-0.238883883369",
          "-0.238883883369"
         ],
         "z": [
          "1",
          "1",
          "1",
          "1"
         ]
        },
        {
         "legendgroup": "cluster - 26",
         "marker": {
          "color": "blue",
          "opacity": 0.5,
          "size": 6
         },
         "mode": "markers",
         "name": "cluster - 26",
         "text": [
          "Unknown logger=\"com.apple.jingle.util.MZClientCapabilities\", timestamp=\"PDT 2017-05-26 10:15:14,266\"<br> id = 26",
          "Unknown logger=\"com.apple.jingle.util.MZClientCapabilities\", timestamp=\"PDT 2017-05-26 10:15:14,266\"<br> id = 26"
         ],
         "type": "scatter3d",
         "x": [
          "0.157974603875",
          "0.157974603875"
         ],
         "y": [
          "-0.389210196493",
          "-0.389210196493"
         ],
         "z": [
          "2",
          "2"
         ]
        },
        {
         "legendgroup": "cluster - 26",
         "marker": {
          "color": "orange",
          "opacity": 0.5,
          "size": 7
         },
         "mode": "markers",
         "name": "cluster - 26",
         "text": [
          "2 logger=\"com.apple.jingle.util.MZClientCapabilities\", timestamp=\"PDT 2017-05-26 10:15:14,266\", leve<br> id = 70",
          "2 logger=\"com.apple.jingle.util.MZClientCapabilities\", timestamp=\"PDT 2017-05-26 10:15:14,266\", leve<br> id = 70"
         ],
         "type": "scatter3d",
         "x": [
          "0.157974603978",
          "0.157974603978"
         ],
         "y": [
          "-0.389210196502",
          "-0.389210196502"
         ],
         "z": [
          "2",
          "2"
         ]
        }
       ],
       "layout": {
        "hovermode": "closest"
       }
      },
      "text/html": [
       "<div id=\"7caffd30-b67c-4691-9cc8-6f1e0691f186\" style=\"height: 525px; width: 100%;\" class=\"plotly-graph-div\"></div><script type=\"text/javascript\">require([\"plotly\"], function(Plotly) { window.PLOTLYENV=window.PLOTLYENV || {};window.PLOTLYENV.BASE_URL=\"https://plot.ly\";Plotly.newPlot(\"7caffd30-b67c-4691-9cc8-6f1e0691f186\", [{\"legendgroup\": \"cluster - 0\", \"name\": \"cluster - 0\", \"text\": [\"Unknown logger=\\\"org.apache.http.impl.client.DefaultHttpClient\\\", timestamp=\\\"PDT 2017-05-26 10:16:06,6<br> id = 0\", \"Unknown logger=\\\"org.apache.http.impl.client.DefaultHttpClient\\\", timestamp=\\\"PDT 2017-05-26 10:16:06,6<br> id = 0\", \"Unknown logger=\\\"org.apache.http.impl.client.DefaultHttpClient\\\", timestamp=\\\"PDT 2017-05-26 10:16:06,6<br> id = 0\", \"Unknown logger=\\\"org.apache.http.impl.client.DefaultHttpClient\\\", timestamp=\\\"PDT 2017-05-26 10:16:06,6<br> id = 0\", \"Unknown logger=\\\"org.apache.http.impl.client.DefaultHttpClient\\\", timestamp=\\\"PDT 2017-05-26 10:16:06,6<br> id = 0\", \"Unknown logger=\\\"org.apache.http.impl.client.DefaultHttpClient\\\", timestamp=\\\"PDT 2017-05-26 10:16:06,6<br> id = 0\", \"Unknown logger=\\\"org.apache.http.impl.client.DefaultHttpClient\\\", timestamp=\\\"PDT 2017-05-26 10:16:06,6<br> id = 0\"], \"marker\": {\"opacity\": 0.5, \"color\": \"blue\", \"size\": 6}, \"mode\": \"markers\", \"y\": [\"0.141092170792\", \"0.141092170792\", \"0.141092170792\", \"0.141092170792\", \"0.141092170792\", \"0.141092170792\", \"0.141092170792\"], \"x\": [\"-0.681635660483\", \"-0.681635660483\", \"-0.681635660483\", \"-0.681635660483\", \"-0.681635660483\", \"-0.681635660483\", \"-0.681635660483\"], \"z\": [\"575\", \"6712\", \"1561\", \"10\", \"128\", \"221\", \"13\"], \"type\": \"scatter3d\"}, {\"legendgroup\": \"cluster - 0\", \"name\": \"cluster - 0\", \"text\": [\"10 logger=\\\"org.apache.http.impl.client.DefaultHttpClient\\\", timestamp=\\\"PDT 2017-05-26 10:16:05,416\\\", <br> id = 27\", \"13 logger=\\\"org.apache.http.impl.client.DefaultHttpClient\\\", timestamp=\\\"PDT 2017-05-26 10:15:28,764\\\", <br> id = 28\", \"575 logger=\\\"org.apache.http.impl.client.DefaultHttpClient\\\", timestamp=\\\"PDT 2017-05-26 10:16:06,643\\\",<br> id = 29\", \"128 logger=\\\"org.apache.http.impl.client.DefaultHttpClient\\\", timestamp=\\\"PDT 2017-05-26 10:16:01,215\\\",<br> id = 30\", \"1561 logger=\\\"org.apache.http.impl.client.DefaultHttpClient\\\", timestamp=\\\"PDT 2017-05-26 10:16:05,432\\\"<br> id = 31\", \"6712 logger=\\\"org.apache.http.impl.client.DefaultHttpClient\\\", timestamp=\\\"PDT 2017-05-26 10:15:07,076\\\"<br> id = 32\", \"221 logger=\\\"org.apache.http.impl.client.DefaultHttpClient\\\", timestamp=\\\"PDT 2017-05-26 10:16:05,305\\\",<br> id = 33\"], \"marker\": {\"opacity\": 0.5, \"color\": \"orange\", \"size\": 7}, \"mode\": \"markers\", \"y\": [\"0.14232592936\", \"0.141092170792\", \"0.141092179918\", \"0.141092179918\", \"0.143158843454\", \"0.141092170792\", \"0.141092179918\"], \"x\": [\"-0.655744007429\", \"-0.681635660483\", \"-0.681635659828\", \"-0.681635659828\", \"-0.671572966643\", \"-0.681635660483\", \"-0.681635659828\"], \"z\": [\"10\", \"13\", \"575\", \"128\", \"1561\", \"6712\", \"221\"], \"type\": \"scatter3d\"}, {\"legendgroup\": \"cluster - 1\", \"name\": \"cluster - 1\", \"text\": [\"Unknown logger=\\\"com.apple.jingle.util.MZClientCapabilities\\\", timestamp=\\\"PDT 2017-05-26 10:16:05,094\\\"<br> id = 1\", \"Unknown logger=\\\"com.apple.jingle.util.MZClientCapabilities\\\", timestamp=\\\"PDT 2017-05-26 10:16:05,094\\\"<br> id = 1\", \"Unknown logger=\\\"com.apple.jingle.util.MZClientCapabilities\\\", timestamp=\\\"PDT 2017-05-26 10:16:05,094\\\"<br> id = 1\", \"Unknown logger=\\\"com.apple.jingle.util.MZClientCapabilities\\\", timestamp=\\\"PDT 2017-05-26 10:16:05,094\\\"<br> id = 1\", \"Unknown logger=\\\"com.apple.jingle.util.MZClientCapabilities\\\", timestamp=\\\"PDT 2017-05-26 10:16:05,094\\\"<br> id = 1\", \"Unknown logger=\\\"com.apple.jingle.util.MZClientCapabilities\\\", timestamp=\\\"PDT 2017-05-26 10:16:05,094\\\"<br> id = 1\", \"Unknown logger=\\\"com.apple.jingle.util.MZClientCapabilities\\\", timestamp=\\\"PDT 2017-05-26 10:16:05,094\\\"<br> id = 1\", \"Unknown logger=\\\"com.apple.jingle.util.MZClientCapabilities\\\", timestamp=\\\"PDT 2017-05-26 10:16:05,094\\\"<br> id = 1\", \"Unknown logger=\\\"com.apple.jingle.util.MZClientCapabilities\\\", timestamp=\\\"PDT 2017-05-26 10:16:05,094\\\"<br> id = 1\", \"Unknown logger=\\\"com.apple.jingle.util.MZClientCapabilities\\\", timestamp=\\\"PDT 2017-05-26 10:16:05,094\\\"<br> id = 1\", \"Unknown logger=\\\"com.apple.jingle.util.MZClientCapabilities\\\", timestamp=\\\"PDT 2017-05-26 10:16:05,094\\\"<br> id = 1\"], \"marker\": {\"opacity\": 0.5, \"color\": \"blue\", \"size\": 6}, \"mode\": \"markers\", \"y\": [\"-0.320792391733\", \"-0.320792391733\", \"-0.320792391733\", \"-0.320792391733\", \"-0.320792391733\", \"-0.320792391733\", \"-0.320792391733\", \"-0.320792391733\", \"-0.320792391733\", \"-0.320792391733\", \"-0.320792391733\"], \"x\": [\"0.196540147098\", \"0.196540147098\", \"0.196540147098\", \"0.196540147098\", \"0.196540147098\", \"0.196540147098\", \"0.196540147098\", \"0.196540147098\", \"0.196540147098\", \"0.196540147098\", \"0.196540147098\"], \"z\": [\"1\", \"5\", \"1\", \"1\", \"2\", \"1\", \"1\", \"1\", \"1\", \"1\", \"1\"], \"type\": \"scatter3d\"}, {\"legendgroup\": \"cluster - 1\", \"name\": \"cluster - 1\", \"text\": [\"1 logger=\\\"com.apple.jingle.util.MZClientCapabilities\\\", timestamp=\\\"PDT 2017-05-26 10:16:05,094\\\", leve<br> id = 34\", \"1 logger=\\\"com.apple.jingle.util.MZClientCapabilities\\\", timestamp=\\\"PDT 2017-05-26 10:16:05,094\\\", leve<br> id = 34\", \"1 logger=\\\"com.apple.jingle.util.MZClientCapabilities\\\", timestamp=\\\"PDT 2017-05-26 10:16:05,094\\\", leve<br> id = 34\", \"1 logger=\\\"com.apple.jingle.util.MZClientCapabilities\\\", timestamp=\\\"PDT 2017-05-26 10:16:05,094\\\", leve<br> id = 34\", \"1 logger=\\\"com.apple.jingle.util.MZClientCapabilities\\\", timestamp=\\\"PDT 2017-05-26 10:16:05,094\\\", leve<br> id = 34\", \"1 logger=\\\"com.apple.jingle.util.MZClientCapabilities\\\", timestamp=\\\"PDT 2017-05-26 10:16:05,094\\\", leve<br> id = 34\", \"1 logger=\\\"com.apple.jingle.util.MZClientCapabilities\\\", timestamp=\\\"PDT 2017-05-26 10:16:05,094\\\", leve<br> id = 34\", \"1 logger=\\\"com.apple.jingle.util.MZClientCapabilities\\\", timestamp=\\\"PDT 2017-05-26 10:16:05,094\\\", leve<br> id = 34\", \"1 logger=\\\"com.apple.jingle.util.MZClientCapabilities\\\", timestamp=\\\"PDT 2017-05-26 10:16:05,094\\\", leve<br> id = 34\", \"2 logger=\\\"com.apple.jingle.util.MZClientCapabilities\\\", timestamp=\\\"PDT 2017-05-26 10:16:02,467\\\", leve<br> id = 35\"], \"marker\": {\"opacity\": 0.5, \"color\": \"orange\", \"size\": 7}, \"mode\": \"markers\", \"y\": [\"-0.320792391733\", \"-0.320792391733\", \"-0.320792391733\", \"-0.320792391733\", \"-0.320792391733\", \"-0.320792391733\", \"-0.320792391733\", \"-0.320792391733\", \"-0.320792391733\", \"-0.305738642428\"], \"x\": [\"0.196540147098\", \"0.196540147098\", \"0.196540147098\", \"0.196540147098\", \"0.196540147098\", \"0.196540147098\", \"0.196540147098\", \"0.196540147098\", \"0.196540147098\", \"0.183067852007\"], \"z\": [\"1\", \"1\", \"1\", \"1\", \"1\", \"1\", \"1\", \"1\", \"1\", \"2\"], \"type\": \"scatter3d\"}, {\"legendgroup\": \"cluster - 1\", \"name\": \"cluster - 1\", \"text\": [\"5 logger=\\\"com.apple.jingle.util.MZClientCapabilities\\\", timestamp=\\\"PDT 2017-05-26 10:16:06,834\\\", leve<br> id = 36\"], \"marker\": {\"opacity\": 0.5, \"color\": \"red\", \"size\": 8}, \"mode\": \"markers\", \"y\": [\"-0.33182227034\"], \"x\": [\"0.18541434112\"], \"z\": [\"5\"], \"type\": \"scatter3d\"}, {\"legendgroup\": \"cluster - 2\", \"name\": \"cluster - 2\", \"text\": [\"Unknown logger=\\\"com.apple.jingle.cachelogic.popularity.MZPopularityClient\\\", timestamp=\\\"PDT 2017-05-2<br> id = 2\", \"Unknown logger=\\\"com.apple.jingle.cachelogic.popularity.MZPopularityClient\\\", timestamp=\\\"PDT 2017-05-2<br> id = 2\"], \"marker\": {\"opacity\": 0.5, \"color\": \"blue\", \"size\": 6}, \"mode\": \"markers\", \"y\": [\"0.197510350683\", \"0.197510350683\"], \"x\": [\"0.303890101101\", \"0.303890101101\"], \"z\": [\"1\", \"1\"], \"type\": \"scatter3d\"}, {\"legendgroup\": \"cluster - 2\", \"name\": \"cluster - 2\", \"text\": [\"1 logger=\\\"com.apple.jingle.cachelogic.popularity.MZPopularityClient\\\", timestamp=\\\"PDT 2017-05-26 10:1<br> id = 37\", \"1 logger=\\\"com.apple.jingle.cachelogic.popularity.MZPopularityClient\\\", timestamp=\\\"PDT 2017-05-26 10:1<br> id = 37\"], \"marker\": {\"opacity\": 0.5, \"color\": \"orange\", \"size\": 7}, \"mode\": \"markers\", \"y\": [\"0.19751035066\", \"0.19751035066\"], \"x\": [\"0.303890101243\", \"0.303890101243\"], \"z\": [\"1\", \"1\"], \"type\": \"scatter3d\"}, {\"legendgroup\": \"cluster - 3\", \"name\": \"cluster - 3\", \"text\": [\"Unknown logger=\\\"com.apple.jingle.cachelogic.popularity.MZPopularityClient\\\", timestamp=\\\"PDT 2017-05-2<br> id = 3\", \"Unknown logger=\\\"com.apple.jingle.cachelogic.popularity.MZPopularityClient\\\", timestamp=\\\"PDT 2017-05-2<br> id = 3\", \"Unknown logger=\\\"com.apple.jingle.cachelogic.popularity.MZPopularityClient\\\", timestamp=\\\"PDT 2017-05-2<br> id = 3\", \"Unknown logger=\\\"com.apple.jingle.cachelogic.popularity.MZPopularityClient\\\", timestamp=\\\"PDT 2017-05-2<br> id = 3\", \"Unknown logger=\\\"com.apple.jingle.cachelogic.popularity.MZPopularityClient\\\", timestamp=\\\"PDT 2017-05-2<br> id = 3\", \"Unknown logger=\\\"com.apple.jingle.cachelogic.popularity.MZPopularityClient\\\", timestamp=\\\"PDT 2017-05-2<br> id = 3\", \"Unknown logger=\\\"com.apple.jingle.cachelogic.popularity.MZPopularityClient\\\", timestamp=\\\"PDT 2017-05-2<br> id = 3\", \"Unknown logger=\\\"com.apple.jingle.cachelogic.popularity.MZPopularityClient\\\", timestamp=\\\"PDT 2017-05-2<br> id = 3\", \"Unknown logger=\\\"com.apple.jingle.cachelogic.popularity.MZPopularityClient\\\", timestamp=\\\"PDT 2017-05-2<br> id = 3\", \"Unknown logger=\\\"com.apple.jingle.cachelogic.popularity.MZPopularityClient\\\", timestamp=\\\"PDT 2017-05-2<br> id = 3\", \"Unknown logger=\\\"com.apple.jingle.cachelogic.popularity.MZPopularityClient\\\", timestamp=\\\"PDT 2017-05-2<br> id = 3\", \"Unknown logger=\\\"com.apple.jingle.cachelogic.popularity.MZPopularityClient\\\", timestamp=\\\"PDT 2017-05-2<br> id = 3\", \"Unknown logger=\\\"com.apple.jingle.cachelogic.popularity.MZPopularityClient\\\", timestamp=\\\"PDT 2017-05-2<br> id = 3\"], \"marker\": {\"opacity\": 0.5, \"color\": \"blue\", \"size\": 6}, \"mode\": \"markers\", \"y\": [\"0.495589840901\", \"0.495589840901\", \"0.495589840901\", \"0.495589840901\", \"0.495589840901\", \"0.495589840901\", \"0.495589840901\", \"0.495589840901\", \"0.495589840901\", \"0.495589840901\", \"0.495589840901\", \"0.495589840901\", \"0.495589840901\"], \"x\": [\"0.197396153713\", \"0.197396153713\", \"0.197396153713\", \"0.197396153713\", \"0.197396153713\", \"0.197396153713\", \"0.197396153713\", \"0.197396153713\", \"0.197396153713\", \"0.197396153713\", \"0.197396153713\", \"0.197396153713\", \"0.197396153713\"], \"z\": [\"1\", \"2\", \"1\", \"1\", \"1\", \"1\", \"1\", \"1\", \"1\", \"1\", \"1\", \"1\", \"1\"], \"type\": \"scatter3d\"}, {\"legendgroup\": \"cluster - 3\", \"name\": \"cluster - 3\", \"text\": [\"1 logger=\\\"com.apple.jingle.cachelogic.popularity.MZPopularityClient\\\", timestamp=\\\"PDT 2017-05-26 10:1<br> id = 38\", \"1 logger=\\\"com.apple.jingle.cachelogic.popularity.MZPopularityClient\\\", timestamp=\\\"PDT 2017-05-26 10:1<br> id = 38\", \"1 logger=\\\"com.apple.jingle.cachelogic.popularity.MZPopularityClient\\\", timestamp=\\\"PDT 2017-05-26 10:1<br> id = 38\", \"1 logger=\\\"com.apple.jingle.cachelogic.popularity.MZPopularityClient\\\", timestamp=\\\"PDT 2017-05-26 10:1<br> id = 38\", \"1 logger=\\\"com.apple.jingle.cachelogic.popularity.MZPopularityClient\\\", timestamp=\\\"PDT 2017-05-26 10:1<br> id = 38\", \"1 logger=\\\"com.apple.jingle.cachelogic.popularity.MZPopularityClient\\\", timestamp=\\\"PDT 2017-05-26 10:1<br> id = 38\", \"1 logger=\\\"com.apple.jingle.cachelogic.popularity.MZPopularityClient\\\", timestamp=\\\"PDT 2017-05-26 10:1<br> id = 38\", \"1 logger=\\\"com.apple.jingle.cachelogic.popularity.MZPopularityClient\\\", timestamp=\\\"PDT 2017-05-26 10:1<br> id = 38\", \"1 logger=\\\"com.apple.jingle.cachelogic.popularity.MZPopularityClient\\\", timestamp=\\\"PDT 2017-05-26 10:1<br> id = 38\", \"1 logger=\\\"com.apple.jingle.cachelogic.popularity.MZPopularityClient\\\", timestamp=\\\"PDT 2017-05-26 10:1<br> id = 38\", \"1 logger=\\\"com.apple.jingle.cachelogic.popularity.MZPopularityClient\\\", timestamp=\\\"PDT 2017-05-26 10:1<br> id = 38\", \"1 logger=\\\"com.apple.jingle.cachelogic.popularity.MZPopularityClient\\\", timestamp=\\\"PDT 2017-05-26 10:1<br> id = 38\"], \"marker\": {\"opacity\": 0.5, \"color\": \"orange\", \"size\": 7}, \"mode\": \"markers\", \"y\": [\"0.495589840901\", \"0.495589840901\", \"0.495589840901\", \"0.495589840901\", \"0.495589840901\", \"0.495589840901\", \"0.495589840901\", \"0.495589840901\", \"0.495589840901\", \"0.495589840901\", \"0.495589840901\", \"0.495589840901\"], \"x\": [\"0.197396153713\", \"0.197396153713\", \"0.197396153713\", \"0.197396153713\", \"0.197396153713\", \"0.197396153713\", \"0.197396153713\", \"0.197396153713\", \"0.197396153713\", \"0.197396153713\", \"0.197396153713\", \"0.197396153713\"], \"z\": [\"1\", \"1\", \"1\", \"1\", \"1\", \"1\", \"1\", \"1\", \"1\", \"1\", \"1\", \"1\"], \"type\": \"scatter3d\"}, {\"legendgroup\": \"cluster - 3\", \"name\": \"cluster - 3\", \"text\": [\"2 logger=\\\"com.apple.jingle.cachelogic.popularity.MZPopularityClient\\\", timestamp=\\\"PDT 2017-05-26 10:1<br> id = 39\"], \"marker\": {\"opacity\": 0.5, \"color\": \"red\", \"size\": 8}, \"mode\": \"markers\", \"y\": [\"0.526415439954\"], \"x\": [\"0.199873364793\"], \"z\": [\"2\"], \"type\": \"scatter3d\"}, {\"legendgroup\": \"cluster - 4\", \"name\": \"cluster - 4\", \"text\": [\"Unknown logger=\\\"com.apple.jingle.appserver.MZDirectAction\\\", timestamp=\\\"PDT 2017-05-26 10:16:04,412\\\",<br> id = 4\"], \"marker\": {\"opacity\": 0.5, \"color\": \"blue\", \"size\": 6}, \"mode\": \"markers\", \"y\": [\"0.154214829872\"], \"x\": [\"-0.0474260994231\"], \"z\": [\"1\"], \"type\": \"scatter3d\"}, {\"legendgroup\": \"cluster - 4\", \"name\": \"cluster - 4\", \"text\": [\"1 logger=\\\"com.apple.jingle.appserver.MZDirectAction\\\", timestamp=\\\"PDT 2017-05-26 10:16:04,412\\\", level<br> id = 40\"], \"marker\": {\"opacity\": 0.5, \"color\": \"orange\", \"size\": 7}, \"mode\": \"markers\", \"y\": [\"0.154214829872\"], \"x\": [\"-0.0474260994231\"], \"z\": [\"1\"], \"type\": \"scatter3d\"}, {\"legendgroup\": \"cluster - 5\", \"name\": \"cluster - 5\", \"text\": [\"Unknown logger=\\\"com.apple.shuttlebus.internals.SBHubbleAndLoggingHook\\\", timestamp=\\\"PDT 2017-05-26 10<br> id = 5\"], \"marker\": {\"opacity\": 0.5, \"color\": \"blue\", \"size\": 6}, \"mode\": \"markers\", \"y\": [\"-0.453637025085\"], \"x\": [\"-0.591551943778\"], \"z\": [\"22\"], \"type\": \"scatter3d\"}, {\"legendgroup\": \"cluster - 5\", \"name\": \"cluster - 5\", \"text\": [\"22 logger=\\\"com.apple.shuttlebus.internals.SBHubbleAndLoggingHook\\\", timestamp=\\\"PDT 2017-05-26 10:16:0<br> id = 41\"], \"marker\": {\"opacity\": 0.5, \"color\": \"orange\", \"size\": 7}, \"mode\": \"markers\", \"y\": [\"-0.453636945126\"], \"x\": [\"-0.591551981552\"], \"z\": [\"22\"], \"type\": \"scatter3d\"}, {\"legendgroup\": \"cluster - 6\", \"name\": \"cluster - 6\", \"text\": [\"Unknown logger=\\\"org.apache.http.impl.client.DefaultHttpClient\\\", timestamp=\\\"PDT 2017-05-26 10:16:04,9<br> id = 6\", \"Unknown logger=\\\"org.apache.http.impl.client.DefaultHttpClient\\\", timestamp=\\\"PDT 2017-05-26 10:16:04,9<br> id = 6\", \"Unknown logger=\\\"org.apache.http.impl.client.DefaultHttpClient\\\", timestamp=\\\"PDT 2017-05-26 10:16:04,9<br> id = 6\", \"Unknown logger=\\\"org.apache.http.impl.client.DefaultHttpClient\\\", timestamp=\\\"PDT 2017-05-26 10:16:04,9<br> id = 6\", \"Unknown logger=\\\"org.apache.http.impl.client.DefaultHttpClient\\\", timestamp=\\\"PDT 2017-05-26 10:16:04,9<br> id = 6\", \"Unknown logger=\\\"org.apache.http.impl.client.DefaultHttpClient\\\", timestamp=\\\"PDT 2017-05-26 10:16:04,9<br> id = 6\", \"Unknown logger=\\\"org.apache.http.impl.client.DefaultHttpClient\\\", timestamp=\\\"PDT 2017-05-26 10:16:04,9<br> id = 6\"], \"marker\": {\"opacity\": 0.5, \"color\": \"blue\", \"size\": 6}, \"mode\": \"markers\", \"y\": [\"0.285296459195\", \"0.285296459195\", \"0.285296459195\", \"0.285296459195\", \"0.285296459195\", \"0.285296459195\", \"0.285296459195\"], \"x\": [\"-0.418777935714\", \"-0.418777935714\", \"-0.418777935714\", \"-0.418777935714\", \"-0.418777935714\", \"-0.418777935714\", \"-0.418777935714\"], \"z\": [\"1\", \"1\", \"1\", \"1\", \"1\", \"1\", \"1\"], \"type\": \"scatter3d\"}, {\"legendgroup\": \"cluster - 6\", \"name\": \"cluster - 6\", \"text\": [\"1 logger=\\\"org.apache.http.impl.client.DefaultHttpClient\\\", timestamp=\\\"PDT 2017-05-26 10:16:04,986\\\", l<br> id = 42\", \"1 logger=\\\"org.apache.http.impl.client.DefaultHttpClient\\\", timestamp=\\\"PDT 2017-05-26 10:16:04,986\\\", l<br> id = 42\", \"1 logger=\\\"org.apache.http.impl.client.DefaultHttpClient\\\", timestamp=\\\"PDT 2017-05-26 10:16:04,986\\\", l<br> id = 42\", \"1 logger=\\\"org.apache.http.impl.client.DefaultHttpClient\\\", timestamp=\\\"PDT 2017-05-26 10:16:04,986\\\", l<br> id = 42\", \"1 logger=\\\"org.apache.http.impl.client.DefaultHttpClient\\\", timestamp=\\\"PDT 2017-05-26 10:16:04,986\\\", l<br> id = 42\", \"1 logger=\\\"org.apache.http.impl.client.DefaultHttpClient\\\", timestamp=\\\"PDT 2017-05-26 10:16:04,986\\\", l<br> id = 42\", \"1 logger=\\\"org.apache.http.impl.client.DefaultHttpClient\\\", timestamp=\\\"PDT 2017-05-26 10:16:04,986\\\", l<br> id = 42\"], \"marker\": {\"opacity\": 0.5, \"color\": \"orange\", \"size\": 7}, \"mode\": \"markers\", \"y\": [\"0.285296459195\", \"0.285296459195\", \"0.285296459195\", \"0.285296459195\", \"0.285296459195\", \"0.285296459195\", \"0.285296459195\"], \"x\": [\"-0.418777935714\", \"-0.418777935714\", \"-0.418777935714\", \"-0.418777935714\", \"-0.418777935714\", \"-0.418777935714\", \"-0.418777935714\"], \"z\": [\"1\", \"1\", \"1\", \"1\", \"1\", \"1\", \"1\"], \"type\": \"scatter3d\"}, {\"legendgroup\": \"cluster - 7\", \"name\": \"cluster - 7\", \"text\": [\"Unknown logger=\\\"com.apple.jingle.util.MZClientCapabilities\\\", timestamp=\\\"PDT 2017-05-26 10:15:49,316\\\"<br> id = 7\", \"Unknown logger=\\\"com.apple.jingle.util.MZClientCapabilities\\\", timestamp=\\\"PDT 2017-05-26 10:15:49,316\\\"<br> id = 7\", \"Unknown logger=\\\"com.apple.jingle.util.MZClientCapabilities\\\", timestamp=\\\"PDT 2017-05-26 10:15:49,316\\\"<br> id = 7\", \"Unknown logger=\\\"com.apple.jingle.util.MZClientCapabilities\\\", timestamp=\\\"PDT 2017-05-26 10:15:49,316\\\"<br> id = 7\", \"Unknown logger=\\\"com.apple.jingle.util.MZClientCapabilities\\\", timestamp=\\\"PDT 2017-05-26 10:15:49,316\\\"<br> id = 7\"], \"marker\": {\"opacity\": 0.5, \"color\": \"blue\", \"size\": 6}, \"mode\": \"markers\", \"y\": [\"-0.242165571614\", \"-0.242165571614\", \"-0.242165571614\", \"-0.242165571614\", \"-0.242165571614\"], \"x\": [\"0.244418857741\", \"0.244418857741\", \"0.244418857741\", \"0.244418857741\", \"0.244418857741\"], \"z\": [\"1\", \"1\", \"1\", \"1\", \"1\"], \"type\": \"scatter3d\"}, {\"legendgroup\": \"cluster - 7\", \"name\": \"cluster - 7\", \"text\": [\"1 logger=\\\"com.apple.jingle.util.MZClientCapabilities\\\", timestamp=\\\"PDT 2017-05-26 10:15:49,316\\\", leve<br> id = 43\", \"1 logger=\\\"com.apple.jingle.util.MZClientCapabilities\\\", timestamp=\\\"PDT 2017-05-26 10:15:49,316\\\", leve<br> id = 43\", \"1 logger=\\\"com.apple.jingle.util.MZClientCapabilities\\\", timestamp=\\\"PDT 2017-05-26 10:15:49,316\\\", leve<br> id = 43\", \"1 logger=\\\"com.apple.jingle.util.MZClientCapabilities\\\", timestamp=\\\"PDT 2017-05-26 10:15:49,316\\\", leve<br> id = 43\", \"1 logger=\\\"com.apple.jingle.util.MZClientCapabilities\\\", timestamp=\\\"PDT 2017-05-26 10:15:49,316\\\", leve<br> id = 43\"], \"marker\": {\"opacity\": 0.5, \"color\": \"orange\", \"size\": 7}, \"mode\": \"markers\", \"y\": [\"-0.242165571614\", \"-0.242165571614\", \"-0.242165571614\", \"-0.242165571614\", \"-0.242165571614\"], \"x\": [\"0.244418857741\", \"0.244418857741\", \"0.244418857741\", \"0.244418857741\", \"0.244418857741\"], \"z\": [\"1\", \"1\", \"1\", \"1\", \"1\"], \"type\": \"scatter3d\"}, {\"legendgroup\": \"cluster - 8\", \"name\": \"cluster - 8\", \"text\": [\"Unknown logger=\\\"com.apple.jingle.cachelogic.popularity.MZPopularityClient\\\", timestamp=\\\"PDT 2017-05-2<br> id = 8\", \"Unknown logger=\\\"com.apple.jingle.cachelogic.popularity.MZPopularityClient\\\", timestamp=\\\"PDT 2017-05-2<br> id = 8\", \"Unknown logger=\\\"com.apple.jingle.cachelogic.popularity.MZPopularityClient\\\", timestamp=\\\"PDT 2017-05-2<br> id = 8\", \"Unknown logger=\\\"com.apple.jingle.cachelogic.popularity.MZPopularityClient\\\", timestamp=\\\"PDT 2017-05-2<br> id = 8\"], \"marker\": {\"opacity\": 0.5, \"color\": \"blue\", \"size\": 6}, \"mode\": \"markers\", \"y\": [\"0.386817233109\", \"0.386817233109\", \"0.386817233109\", \"0.386817233109\"], \"x\": [\"0.440629075118\", \"0.440629075118\", \"0.440629075118\", \"0.440629075118\"], \"z\": [\"1\", \"1\", \"2\", \"8\"], \"type\": \"scatter3d\"}, {\"legendgroup\": \"cluster - 8\", \"name\": \"cluster - 8\", \"text\": [\"1 logger=\\\"com.apple.jingle.cachelogic.popularity.MZPopularityClient\\\", timestamp=\\\"PDT 2017-05-26 10:1<br> id = 44\", \"1 logger=\\\"com.apple.jingle.cachelogic.popularity.MZPopularityClient\\\", timestamp=\\\"PDT 2017-05-26 10:1<br> id = 44\", \"8 logger=\\\"com.apple.jingle.cachelogic.popularity.MZPopularityClient\\\", timestamp=\\\"PDT 2017-05-26 10:1<br> id = 45\", \"2 logger=\\\"com.apple.jingle.cachelogic.popularity.MZPopularityClient\\\", timestamp=\\\"PDT 2017-05-26 10:1<br> id = 46\"], \"marker\": {\"opacity\": 0.5, \"color\": \"orange\", \"size\": 7}, \"mode\": \"markers\", \"y\": [\"0.386817233109\", \"0.386817233109\", \"0.394204291538\", \"0.400732930005\"], \"x\": [\"0.440629075118\", \"0.440629075118\", \"0.426986099294\", \"0.439985014592\"], \"z\": [\"1\", \"1\", \"8\", \"2\"], \"type\": \"scatter3d\"}, {\"legendgroup\": \"cluster - 9\", \"name\": \"cluster - 9\", \"text\": [\"Unknown logger=\\\"com.apple.jingle.util.MZClientCapabilities\\\", timestamp=\\\"PDT 2017-05-26 10:16:03,649\\\"<br> id = 9\", \"Unknown logger=\\\"com.apple.jingle.util.MZClientCapabilities\\\", timestamp=\\\"PDT 2017-05-26 10:16:03,649\\\"<br> id = 9\", \"Unknown logger=\\\"com.apple.jingle.util.MZClientCapabilities\\\", timestamp=\\\"PDT 2017-05-26 10:16:03,649\\\"<br> id = 9\", \"Unknown logger=\\\"com.apple.jingle.util.MZClientCapabilities\\\", timestamp=\\\"PDT 2017-05-26 10:16:03,649\\\"<br> id = 9\"], \"marker\": {\"opacity\": 0.5, \"color\": \"blue\", \"size\": 6}, \"mode\": \"markers\", \"y\": [\"-0.331378516161\", \"-0.331378516161\", \"-0.331378516161\", \"-0.331378516161\"], \"x\": [\"0.457014039702\", \"0.457014039702\", \"0.457014039702\", \"0.457014039702\"], \"z\": [\"1\", \"1\", \"1\", \"1\"], \"type\": \"scatter3d\"}, {\"legendgroup\": \"cluster - 9\", \"name\": \"cluster - 9\", \"text\": [\"1 logger=\\\"com.apple.jingle.util.MZClientCapabilities\\\", timestamp=\\\"PDT 2017-05-26 10:16:03,649\\\", leve<br> id = 47\", \"1 logger=\\\"com.apple.jingle.util.MZClientCapabilities\\\", timestamp=\\\"PDT 2017-05-26 10:16:03,649\\\", leve<br> id = 47\", \"1 logger=\\\"com.apple.jingle.util.MZClientCapabilities\\\", timestamp=\\\"PDT 2017-05-26 10:16:03,649\\\", leve<br> id = 47\", \"1 logger=\\\"com.apple.jingle.util.MZClientCapabilities\\\", timestamp=\\\"PDT 2017-05-26 10:16:03,649\\\", leve<br> id = 47\"], \"marker\": {\"opacity\": 0.5, \"color\": \"orange\", \"size\": 7}, \"mode\": \"markers\", \"y\": [\"-0.51002975165\", \"-0.51002975165\", \"-0.51002975165\", \"-0.51002975165\"], \"x\": [\"0.000222336203686\", \"0.000222336203686\", \"0.000222336203686\", \"0.000222336203686\"], \"z\": [\"1\", \"1\", \"1\", \"1\"], \"type\": \"scatter3d\"}, {\"legendgroup\": \"cluster - 10\", \"name\": \"cluster - 10\", \"text\": [\"Unknown logger=\\\"com.webobjects.foundation.stats.NSStats\\\", timestamp=\\\"PDT 2017-05-26 10:15:12,367\\\", l<br> id = 10\", \"Unknown logger=\\\"com.webobjects.foundation.stats.NSStats\\\", timestamp=\\\"PDT 2017-05-26 10:15:12,367\\\", l<br> id = 10\"], \"marker\": {\"opacity\": 0.5, \"color\": \"blue\", \"size\": 6}, \"mode\": \"markers\", \"y\": [\"0.454441693311\", \"0.454441693311\"], \"x\": [\"-0.667347689368\", \"-0.667347689368\"], \"z\": [\"1\", \"1\"], \"type\": \"scatter3d\"}, {\"legendgroup\": \"cluster - 10\", \"name\": \"cluster - 10\", \"text\": [\"1 logger=\\\"com.webobjects.foundation.stats.NSStats\\\", timestamp=\\\"PDT 2017-05-26 10:15:12,367\\\", level=\\\"<br> id = 48\", \"1 logger=\\\"com.webobjects.foundation.stats.NSStats\\\", timestamp=\\\"PDT 2017-05-26 10:15:12,367\\\", level=\\\"<br> id = 48\"], \"marker\": {\"opacity\": 0.5, \"color\": \"orange\", \"size\": 7}, \"mode\": \"markers\", \"y\": [\"-0.112887745175\", \"-0.112887745175\"], \"x\": [\"-0.761273977423\", \"-0.761273977423\"], \"z\": [\"1\", \"1\"], \"type\": \"scatter3d\"}, {\"legendgroup\": \"cluster - 11\", \"name\": \"cluster - 11\", \"text\": [\"Unknown logger=\\\"com.apple.jingle.cachelogic.popularity.MZPopularityClient\\\", timestamp=\\\"PDT 2017-05-2<br> id = 11\", \"Unknown logger=\\\"com.apple.jingle.cachelogic.popularity.MZPopularityClient\\\", timestamp=\\\"PDT 2017-05-2<br> id = 11\"], \"marker\": {\"opacity\": 0.5, \"color\": \"blue\", \"size\": 6}, \"mode\": \"markers\", \"y\": [\"0.729525222151\", \"0.729525222151\"], \"x\": [\"0.0350769884054\", \"0.0350769884054\"], \"z\": [\"1592\", \"360\"], \"type\": \"scatter3d\"}, {\"legendgroup\": \"cluster - 11\", \"name\": \"cluster - 11\", \"text\": [\"360 logger=\\\"com.apple.jingle.cachelogic.popularity.MZPopularityClient\\\", timestamp=\\\"PDT 2017-05-26 10<br> id = 49\", \"1592 logger=\\\"com.apple.jingle.cachelogic.popularity.MZPopularityClient\\\", timestamp=\\\"PDT 2017-05-26 1<br> id = 50\"], \"marker\": {\"opacity\": 0.5, \"color\": \"orange\", \"size\": 7}, \"mode\": \"markers\", \"y\": [\"0.723926692079\", \"0.729525262459\"], \"x\": [\"0.04403026596\", \"0.0350771806047\"], \"z\": [\"360\", \"1592\"], \"type\": \"scatter3d\"}, {\"legendgroup\": \"cluster - 12\", \"name\": \"cluster - 12\", \"text\": [\"Unknown logger=\\\"com.apple.jingle.cachelogic.popularity.MZPopularityClient\\\", timestamp=\\\"PDT 2017-05-2<br> id = 12\"], \"marker\": {\"opacity\": 0.5, \"color\": \"blue\", \"size\": 6}, \"mode\": \"markers\", \"y\": [\"0.0140706990714\"], \"x\": [\"0.274037534168\"], \"z\": [\"1\"], \"type\": \"scatter3d\"}, {\"legendgroup\": \"cluster - 12\", \"name\": \"cluster - 12\", \"text\": [\"1 logger=\\\"com.apple.jingle.cachelogic.popularity.MZPopularityClient\\\", timestamp=\\\"PDT 2017-05-26 10:1<br> id = 51\"], \"marker\": {\"opacity\": 0.5, \"color\": \"orange\", \"size\": 7}, \"mode\": \"markers\", \"y\": [\"0.014070704117\"], \"x\": [\"0.274037484722\"], \"z\": [\"1\"], \"type\": \"scatter3d\"}, {\"legendgroup\": \"cluster - 13\", \"name\": \"cluster - 13\", \"text\": [\"Unknown logger=\\\"org.apache.http.impl.client.DefaultHttpClient\\\", timestamp=\\\"PDT 2017-05-26 10:16:04,6<br> id = 13\", \"Unknown logger=\\\"org.apache.http.impl.client.DefaultHttpClient\\\", timestamp=\\\"PDT 2017-05-26 10:16:04,6<br> id = 13\"], \"marker\": {\"opacity\": 0.5, \"color\": \"blue\", \"size\": 6}, \"mode\": \"markers\", \"y\": [\"0.276174959042\", \"0.276174959042\"], \"x\": [\"-0.697132032987\", \"-0.697132032987\"], \"z\": [\"744\", \"121\"], \"type\": \"scatter3d\"}, {\"legendgroup\": \"cluster - 13\", \"name\": \"cluster - 13\", \"text\": [\"121 logger=\\\"org.apache.http.impl.client.DefaultHttpClient\\\", timestamp=\\\"PDT 2017-05-26 10:16:03,080\\\",<br> id = 52\", \"744 logger=\\\"org.apache.http.impl.client.DefaultHttpClient\\\", timestamp=\\\"PDT 2017-05-26 10:16:04,677\\\",<br> id = 53\"], \"marker\": {\"opacity\": 0.5, \"color\": \"orange\", \"size\": 7}, \"mode\": \"markers\", \"y\": [\"0.276174959043\", \"0.038336247438\"], \"x\": [\"-0.697132032987\", \"-0.726064707676\"], \"z\": [\"121\", \"744\"], \"type\": \"scatter3d\"}, {\"legendgroup\": \"cluster - 14\", \"name\": \"cluster - 14\", \"text\": [\"Unknown logger=\\\"org.apache.http.impl.client.DefaultHttpClient\\\", timestamp=\\\"PDT 2017-05-26 10:15:17,7<br> id = 14\"], \"marker\": {\"opacity\": 0.5, \"color\": \"blue\", \"size\": 6}, \"mode\": \"markers\", \"y\": [\"0.402121442046\"], \"x\": [\"-0.387741788822\"], \"z\": [\"1\"], \"type\": \"scatter3d\"}, {\"legendgroup\": \"cluster - 14\", \"name\": \"cluster - 14\", \"text\": [\"1 logger=\\\"org.apache.http.impl.client.DefaultHttpClient\\\", timestamp=\\\"PDT 2017-05-26 10:15:17,768\\\", l<br> id = 54\"], \"marker\": {\"opacity\": 0.5, \"color\": \"orange\", \"size\": 7}, \"mode\": \"markers\", \"y\": [\"0.402121442046\"], \"x\": [\"-0.387741788822\"], \"z\": [\"1\"], \"type\": \"scatter3d\"}, {\"legendgroup\": \"cluster - 15\", \"name\": \"cluster - 15\", \"text\": [\"Unknown logger=\\\"net.spy.memcached.MemcachedConnection\\\", timestamp=\\\"PDT 2017-05-26 10:15:44,215\\\", lev<br> id = 15\", \"Unknown logger=\\\"net.spy.memcached.MemcachedConnection\\\", timestamp=\\\"PDT 2017-05-26 10:15:44,215\\\", lev<br> id = 15\", \"Unknown logger=\\\"net.spy.memcached.MemcachedConnection\\\", timestamp=\\\"PDT 2017-05-26 10:15:44,215\\\", lev<br> id = 15\"], \"marker\": {\"opacity\": 0.5, \"color\": \"blue\", \"size\": 6}, \"mode\": \"markers\", \"y\": [\"-0.382359022619\", \"-0.382359022619\", \"-0.382359022619\"], \"x\": [\"-0.637659692753\", \"-0.637659692753\", \"-0.637659692753\"], \"z\": [\"9\", \"2101\", \"9\"], \"type\": \"scatter3d\"}, {\"legendgroup\": \"cluster - 15\", \"name\": \"cluster - 15\", \"text\": [\"9 logger=\\\"net.spy.memcached.MemcachedConnection\\\", timestamp=\\\"PDT 2017-05-26 10:15:44,215\\\", level=\\\"IN<br> id = 55\", \"9 logger=\\\"net.spy.memcached.MemcachedConnection\\\", timestamp=\\\"PDT 2017-05-26 10:15:44,215\\\", level=\\\"IN<br> id = 55\", \"2101 logger=\\\"net.spy.memcached.MemcachedConnection\\\", timestamp=\\\"PDT 2017-05-26 10:16:04,868\\\", level=<br> id = 56\"], \"marker\": {\"opacity\": 0.5, \"color\": \"orange\", \"size\": 7}, \"mode\": \"markers\", \"y\": [\"-0.382359022619\", \"-0.382359022619\", \"-0.425757406704\"], \"x\": [\"-0.637659692753\", \"-0.637659692753\", \"-0.65585852425\"], \"z\": [\"9\", \"9\", \"2101\"], \"type\": \"scatter3d\"}, {\"legendgroup\": \"cluster - 16\", \"name\": \"cluster - 16\", \"text\": [\"Unknown logger=\\\"com.apple.jingle.util.MZClientCapabilities\\\", timestamp=\\\"PDT 2017-05-26 10:16:05,078\\\"<br> id = 16\", \"Unknown logger=\\\"com.apple.jingle.util.MZClientCapabilities\\\", timestamp=\\\"PDT 2017-05-26 10:16:05,078\\\"<br> id = 16\", \"Unknown logger=\\\"com.apple.jingle.util.MZClientCapabilities\\\", timestamp=\\\"PDT 2017-05-26 10:16:05,078\\\"<br> id = 16\", \"Unknown logger=\\\"com.apple.jingle.util.MZClientCapabilities\\\", timestamp=\\\"PDT 2017-05-26 10:16:05,078\\\"<br> id = 16\", \"Unknown logger=\\\"com.apple.jingle.util.MZClientCapabilities\\\", timestamp=\\\"PDT 2017-05-26 10:16:05,078\\\"<br> id = 16\", \"Unknown logger=\\\"com.apple.jingle.util.MZClientCapabilities\\\", timestamp=\\\"PDT 2017-05-26 10:16:05,078\\\"<br> id = 16\", \"Unknown logger=\\\"com.apple.jingle.util.MZClientCapabilities\\\", timestamp=\\\"PDT 2017-05-26 10:16:05,078\\\"<br> id = 16\", \"Unknown logger=\\\"com.apple.jingle.util.MZClientCapabilities\\\", timestamp=\\\"PDT 2017-05-26 10:16:05,078\\\"<br> id = 16\", \"Unknown logger=\\\"com.apple.jingle.util.MZClientCapabilities\\\", timestamp=\\\"PDT 2017-05-26 10:16:05,078\\\"<br> id = 16\", \"Unknown logger=\\\"com.apple.jingle.util.MZClientCapabilities\\\", timestamp=\\\"PDT 2017-05-26 10:16:05,078\\\"<br> id = 16\", \"Unknown logger=\\\"com.apple.jingle.util.MZClientCapabilities\\\", timestamp=\\\"PDT 2017-05-26 10:16:05,078\\\"<br> id = 16\"], \"marker\": {\"opacity\": 0.5, \"color\": \"blue\", \"size\": 6}, \"mode\": \"markers\", \"y\": [\"-0.320044720186\", \"-0.320044720186\", \"-0.320044720186\", \"-0.320044720186\", \"-0.320044720186\", \"-0.320044720186\", \"-0.320044720186\", \"-0.320044720186\", \"-0.320044720186\", \"-0.320044720186\", \"-0.320044720186\"], \"x\": [\"0.18978220877\", \"0.18978220877\", \"0.18978220877\", \"0.18978220877\", \"0.18978220877\", \"0.18978220877\", \"0.18978220877\", \"0.18978220877\", \"0.18978220877\", \"0.18978220877\", \"0.18978220877\"], \"z\": [\"1\", \"5\", \"1\", \"2\", \"1\", \"5\", \"1\", \"1\", \"1\", \"1\", \"2\"], \"type\": \"scatter3d\"}, {\"legendgroup\": \"cluster - 16\", \"name\": \"cluster - 16\", \"text\": [\"1 logger=\\\"com.apple.jingle.util.MZClientCapabilities\\\", timestamp=\\\"PDT 2017-05-26 10:16:05,078\\\", leve<br> id = 57\", \"1 logger=\\\"com.apple.jingle.util.MZClientCapabilities\\\", timestamp=\\\"PDT 2017-05-26 10:16:05,078\\\", leve<br> id = 57\", \"1 logger=\\\"com.apple.jingle.util.MZClientCapabilities\\\", timestamp=\\\"PDT 2017-05-26 10:16:05,078\\\", leve<br> id = 57\", \"1 logger=\\\"com.apple.jingle.util.MZClientCapabilities\\\", timestamp=\\\"PDT 2017-05-26 10:16:05,078\\\", leve<br> id = 57\", \"1 logger=\\\"com.apple.jingle.util.MZClientCapabilities\\\", timestamp=\\\"PDT 2017-05-26 10:16:05,078\\\", leve<br> id = 57\", \"1 logger=\\\"com.apple.jingle.util.MZClientCapabilities\\\", timestamp=\\\"PDT 2017-05-26 10:16:05,078\\\", leve<br> id = 57\", \"1 logger=\\\"com.apple.jingle.util.MZClientCapabilities\\\", timestamp=\\\"PDT 2017-05-26 10:16:05,078\\\", leve<br> id = 57\", \"2 logger=\\\"com.apple.jingle.util.MZClientCapabilities\\\", timestamp=\\\"PDT 2017-05-26 10:16:02,105\\\", leve<br> id = 58\", \"2 logger=\\\"com.apple.jingle.util.MZClientCapabilities\\\", timestamp=\\\"PDT 2017-05-26 10:16:02,105\\\", leve<br> id = 58\", \"5 logger=\\\"com.apple.jingle.util.MZClientCapabilities\\\", timestamp=\\\"PDT 2017-05-26 10:16:06,811\\\", leve<br> id = 59\", \"5 logger=\\\"com.apple.jingle.util.MZClientCapabilities\\\", timestamp=\\\"PDT 2017-05-26 10:16:06,811\\\", leve<br> id = 59\"], \"marker\": {\"opacity\": 0.5, \"color\": \"orange\", \"size\": 7}, \"mode\": \"markers\", \"y\": [\"-0.320044720186\", \"-0.320044720186\", \"-0.320044720186\", \"-0.320044720186\", \"-0.320044720186\", \"-0.320044720186\", \"-0.320044720186\", \"-0.315085965258\", \"-0.315085965258\", \"-0.331338755791\", \"-0.331338755791\"], \"x\": [\"0.18978220877\", \"0.18978220877\", \"0.18978220877\", \"0.18978220877\", \"0.18978220877\", \"0.18978220877\", \"0.18978220877\", \"0.198728735244\", \"0.198728735244\", \"0.178481144252\", \"0.178481144252\"], \"z\": [\"1\", \"1\", \"1\", \"1\", \"1\", \"1\", \"1\", \"2\", \"2\", \"5\", \"5\"], \"type\": \"scatter3d\"}, {\"legendgroup\": \"cluster - 17\", \"name\": \"cluster - 17\", \"text\": [\"Unknown logger=\\\"com.apple.jingle.util.MZClientCapabilities\\\", timestamp=\\\"PDT 2017-05-26 10:15:10,613\\\"<br> id = 17\", \"Unknown logger=\\\"com.apple.jingle.util.MZClientCapabilities\\\", timestamp=\\\"PDT 2017-05-26 10:15:10,613\\\"<br> id = 17\", \"Unknown logger=\\\"com.apple.jingle.util.MZClientCapabilities\\\", timestamp=\\\"PDT 2017-05-26 10:15:10,613\\\"<br> id = 17\", \"Unknown logger=\\\"com.apple.jingle.util.MZClientCapabilities\\\", timestamp=\\\"PDT 2017-05-26 10:15:10,613\\\"<br> id = 17\", \"Unknown logger=\\\"com.apple.jingle.util.MZClientCapabilities\\\", timestamp=\\\"PDT 2017-05-26 10:15:10,613\\\"<br> id = 17\", \"Unknown logger=\\\"com.apple.jingle.util.MZClientCapabilities\\\", timestamp=\\\"PDT 2017-05-26 10:15:10,613\\\"<br> id = 17\"], \"marker\": {\"opacity\": 0.5, \"color\": \"blue\", \"size\": 6}, \"mode\": \"markers\", \"y\": [\"-0.281120141288\", \"-0.281120141288\", \"-0.281120141288\", \"-0.281120141288\", \"-0.281120141288\", \"-0.281120141288\"], \"x\": [\"0.245723566585\", \"0.245723566585\", \"0.245723566585\", \"0.245723566585\", \"0.245723566585\", \"0.245723566585\"], \"z\": [\"2\", \"1\", \"1\", \"1\", \"1\", \"1\"], \"type\": \"scatter3d\"}, {\"legendgroup\": \"cluster - 17\", \"name\": \"cluster - 17\", \"text\": [\"1 logger=\\\"com.apple.jingle.util.MZClientCapabilities\\\", timestamp=\\\"PDT 2017-05-26 10:16:00,948\\\", leve<br> id = 60\", \"1 logger=\\\"com.apple.jingle.util.MZClientCapabilities\\\", timestamp=\\\"PDT 2017-05-26 10:16:00,948\\\", leve<br> id = 60\", \"1 logger=\\\"com.apple.jingle.util.MZClientCapabilities\\\", timestamp=\\\"PDT 2017-05-26 10:16:00,948\\\", leve<br> id = 60\", \"1 logger=\\\"com.apple.jingle.util.MZClientCapabilities\\\", timestamp=\\\"PDT 2017-05-26 10:16:00,948\\\", leve<br> id = 60\", \"1 logger=\\\"com.apple.jingle.util.MZClientCapabilities\\\", timestamp=\\\"PDT 2017-05-26 10:16:00,948\\\", leve<br> id = 60\", \"2 logger=\\\"com.apple.jingle.util.MZClientCapabilities\\\", timestamp=\\\"PDT 2017-05-26 10:15:10,613\\\", leve<br> id = 61\"], \"marker\": {\"opacity\": 0.5, \"color\": \"orange\", \"size\": 7}, \"mode\": \"markers\", \"y\": [\"-0.270524391145\", \"-0.270524391145\", \"-0.270524391145\", \"-0.270524391145\", \"-0.270524391145\", \"-0.281120141288\"], \"x\": [\"0.271636423892\", \"0.271636423892\", \"0.271636423892\", \"0.271636423892\", \"0.271636423892\", \"0.245723566585\"], \"z\": [\"1\", \"1\", \"1\", \"1\", \"1\", \"2\"], \"type\": \"scatter3d\"}, {\"legendgroup\": \"cluster - 18\", \"name\": \"cluster - 18\", \"text\": [\"Unknown logger=\\\"com.apple.jingle.app.store.W3StoreDirectAction\\\", timestamp=\\\"PDT 2017-05-26 10:15:19,<br> id = 18\"], \"marker\": {\"opacity\": 0.5, \"color\": \"blue\", \"size\": 6}, \"mode\": \"markers\", \"y\": [\"0.287585831879\"], \"x\": [\"-0.133692614631\"], \"z\": [\"1\"], \"type\": \"scatter3d\"}, {\"legendgroup\": \"cluster - 18\", \"name\": \"cluster - 18\", \"text\": [\"1 logger=\\\"com.apple.jingle.app.store.W3StoreDirectAction\\\", timestamp=\\\"PDT 2017-05-26 10:15:19,160\\\", <br> id = 62\"], \"marker\": {\"opacity\": 0.5, \"color\": \"orange\", \"size\": 7}, \"mode\": \"markers\", \"y\": [\"0.287585758642\"], \"x\": [\"-0.13369264393\"], \"z\": [\"1\"], \"type\": \"scatter3d\"}, {\"legendgroup\": \"cluster - 19\", \"name\": \"cluster - 19\", \"text\": [\"Unknown logger=\\\"org.apache.http.impl.client.DefaultHttpClient\\\", timestamp=\\\"PDT 2017-05-26 10:15:57,8<br> id = 19\", \"Unknown logger=\\\"org.apache.http.impl.client.DefaultHttpClient\\\", timestamp=\\\"PDT 2017-05-26 10:15:57,8<br> id = 19\"], \"marker\": {\"opacity\": 0.5, \"color\": \"blue\", \"size\": 6}, \"mode\": \"markers\", \"y\": [\"0.39755604092\", \"0.39755604092\"], \"x\": [\"-0.40458664591\", \"-0.40458664591\"], \"z\": [\"1\", \"1\"], \"type\": \"scatter3d\"}, {\"legendgroup\": \"cluster - 19\", \"name\": \"cluster - 19\", \"text\": [\"1 logger=\\\"org.apache.http.impl.client.DefaultHttpClient\\\", timestamp=\\\"PDT 2017-05-26 10:15:57,856\\\", l<br> id = 63\", \"1 logger=\\\"org.apache.http.impl.client.DefaultHttpClient\\\", timestamp=\\\"PDT 2017-05-26 10:15:57,856\\\", l<br> id = 63\"], \"marker\": {\"opacity\": 0.5, \"color\": \"orange\", \"size\": 7}, \"mode\": \"markers\", \"y\": [\"0.39755607667\", \"0.39755607667\"], \"x\": [\"-0.404586630289\", \"-0.404586630289\"], \"z\": [\"1\", \"1\"], \"type\": \"scatter3d\"}, {\"legendgroup\": \"cluster - 20\", \"name\": \"cluster - 20\", \"text\": [\"Unknown logger=\\\"com.apple.jingle.cachelogic.popularity.MZPopularityClient\\\", timestamp=\\\"PDT 2017-05-2<br> id = 20\"], \"marker\": {\"opacity\": 0.5, \"color\": \"blue\", \"size\": 6}, \"mode\": \"markers\", \"y\": [\"0.237195472378\"], \"x\": [\"0.234795480948\"], \"z\": [\"2\"], \"type\": \"scatter3d\"}, {\"legendgroup\": \"cluster - 20\", \"name\": \"cluster - 20\", \"text\": [\"2 logger=\\\"com.apple.jingle.cachelogic.popularity.MZPopularityClient\\\", timestamp=\\\"PDT 2017-05-26 10:1<br> id = 64\"], \"marker\": {\"opacity\": 0.5, \"color\": \"orange\", \"size\": 7}, \"mode\": \"markers\", \"y\": [\"0.237195472384\"], \"x\": [\"0.234795480862\"], \"z\": [\"2\"], \"type\": \"scatter3d\"}, {\"legendgroup\": \"cluster - 21\", \"name\": \"cluster - 21\", \"text\": [\"Unknown logger=\\\"com.apple.jingle.cachelogic.popularity.MZPopularityClient\\\", timestamp=\\\"PDT 2017-05-2<br> id = 21\"], \"marker\": {\"opacity\": 0.5, \"color\": \"blue\", \"size\": 6}, \"mode\": \"markers\", \"y\": [\"0.274003949578\"], \"x\": [\"0.44931702479\"], \"z\": [\"6\"], \"type\": \"scatter3d\"}, {\"legendgroup\": \"cluster - 21\", \"name\": \"cluster - 21\", \"text\": [\"6 logger=\\\"com.apple.jingle.cachelogic.popularity.MZPopularityClient\\\", timestamp=\\\"PDT 2017-05-26 10:1<br> id = 65\"], \"marker\": {\"opacity\": 0.5, \"color\": \"orange\", \"size\": 7}, \"mode\": \"markers\", \"y\": [\"0.274003949578\"], \"x\": [\"0.44931702479\"], \"z\": [\"6\"], \"type\": \"scatter3d\"}, {\"legendgroup\": \"cluster - 22\", \"name\": \"cluster - 22\", \"text\": [\"Unknown logger=\\\"com.apple.jingle.cachelogic.popularity.MZPopularityClient\\\", timestamp=\\\"PDT 2017-05-2<br> id = 22\"], \"marker\": {\"opacity\": 0.5, \"color\": \"blue\", \"size\": 6}, \"mode\": \"markers\", \"y\": [\"0.286078050406\"], \"x\": [\"0.357794082691\"], \"z\": [\"2\"], \"type\": \"scatter3d\"}, {\"legendgroup\": \"cluster - 22\", \"name\": \"cluster - 22\", \"text\": [\"2 logger=\\\"com.apple.jingle.cachelogic.popularity.MZPopularityClient\\\", timestamp=\\\"PDT 2017-05-26 10:1<br> id = 66\"], \"marker\": {\"opacity\": 0.5, \"color\": \"orange\", \"size\": 7}, \"mode\": \"markers\", \"y\": [\"0.286078050406\"], \"x\": [\"0.357794082691\"], \"z\": [\"2\"], \"type\": \"scatter3d\"}, {\"legendgroup\": \"cluster - 23\", \"name\": \"cluster - 23\", \"text\": [\"Unknown logger=\\\"com.webobjects.foundation.stats.NSStats\\\", timestamp=\\\"PDT 2017-05-26 10:16:03,988\\\", l<br> id = 23\"], \"marker\": {\"opacity\": 0.5, \"color\": \"blue\", \"size\": 6}, \"mode\": \"markers\", \"y\": [\"-0.198301386059\"], \"x\": [\"-0.729403270661\"], \"z\": [\"1\"], \"type\": \"scatter3d\"}, {\"legendgroup\": \"cluster - 23\", \"name\": \"cluster - 23\", \"text\": [\"1 logger=\\\"com.webobjects.foundation.stats.NSStats\\\", timestamp=\\\"PDT 2017-05-26 10:16:03,988\\\", level=\\\"<br> id = 67\"], \"marker\": {\"opacity\": 0.5, \"color\": \"orange\", \"size\": 7}, \"mode\": \"markers\", \"y\": [\"-0.198301386059\"], \"x\": [\"-0.729403270661\"], \"z\": [\"1\"], \"type\": \"scatter3d\"}, {\"legendgroup\": \"cluster - 24\", \"name\": \"cluster - 24\", \"text\": [\"Unknown logger=\\\"com.apple.jingle.util.MZClientCapabilities\\\", timestamp=\\\"PDT 2017-05-26 10:16:06,882\\\"<br> id = 24\", \"Unknown logger=\\\"com.apple.jingle.util.MZClientCapabilities\\\", timestamp=\\\"PDT 2017-05-26 10:16:06,882\\\"<br> id = 24\", \"Unknown logger=\\\"com.apple.jingle.util.MZClientCapabilities\\\", timestamp=\\\"PDT 2017-05-26 10:16:06,882\\\"<br> id = 24\", \"Unknown logger=\\\"com.apple.jingle.util.MZClientCapabilities\\\", timestamp=\\\"PDT 2017-05-26 10:16:06,882\\\"<br> id = 24\"], \"marker\": {\"opacity\": 0.5, \"color\": \"blue\", \"size\": 6}, \"mode\": \"markers\", \"y\": [\"-0.341147977074\", \"-0.341147977074\", \"-0.341147977074\", \"-0.341147977074\"], \"x\": [\"0.120966954588\", \"0.120966954588\", \"0.120966954588\", \"0.120966954588\"], \"z\": [\"1\", \"1\", \"1\", \"1\"], \"type\": \"scatter3d\"}, {\"legendgroup\": \"cluster - 24\", \"name\": \"cluster - 24\", \"text\": [\"1 logger=\\\"com.apple.jingle.util.MZClientCapabilities\\\", timestamp=\\\"PDT 2017-05-26 10:16:06,882\\\", leve<br> id = 68\", \"1 logger=\\\"com.apple.jingle.util.MZClientCapabilities\\\", timestamp=\\\"PDT 2017-05-26 10:16:06,882\\\", leve<br> id = 68\", \"1 logger=\\\"com.apple.jingle.util.MZClientCapabilities\\\", timestamp=\\\"PDT 2017-05-26 10:16:06,882\\\", leve<br> id = 68\", \"1 logger=\\\"com.apple.jingle.util.MZClientCapabilities\\\", timestamp=\\\"PDT 2017-05-26 10:16:06,882\\\", leve<br> id = 68\"], \"marker\": {\"opacity\": 0.5, \"color\": \"orange\", \"size\": 7}, \"mode\": \"markers\", \"y\": [\"-0.341147977074\", \"-0.341147977074\", \"-0.341147977074\", \"-0.341147977074\"], \"x\": [\"0.120966954588\", \"0.120966954588\", \"0.120966954588\", \"0.120966954588\"], \"z\": [\"1\", \"1\", \"1\", \"1\"], \"type\": \"scatter3d\"}, {\"legendgroup\": \"cluster - 25\", \"name\": \"cluster - 25\", \"text\": [\"Unknown logger=\\\"com.apple.jingle.util.MZClientCapabilities\\\", timestamp=\\\"PDT 2017-05-26 10:16:01,214\\\"<br> id = 25\", \"Unknown logger=\\\"com.apple.jingle.util.MZClientCapabilities\\\", timestamp=\\\"PDT 2017-05-26 10:16:01,214\\\"<br> id = 25\", \"Unknown logger=\\\"com.apple.jingle.util.MZClientCapabilities\\\", timestamp=\\\"PDT 2017-05-26 10:16:01,214\\\"<br> id = 25\", \"Unknown logger=\\\"com.apple.jingle.util.MZClientCapabilities\\\", timestamp=\\\"PDT 2017-05-26 10:16:01,214\\\"<br> id = 25\"], \"marker\": {\"opacity\": 0.5, \"color\": \"blue\", \"size\": 6}, \"mode\": \"markers\", \"y\": [\"-0.238883883369\", \"-0.238883883369\", \"-0.238883883369\", \"-0.238883883369\"], \"x\": [\"0.264478540823\", \"0.264478540823\", \"0.264478540823\", \"0.264478540823\"], \"z\": [\"1\", \"1\", \"1\", \"1\"], \"type\": \"scatter3d\"}, {\"legendgroup\": \"cluster - 25\", \"name\": \"cluster - 25\", \"text\": [\"1 logger=\\\"com.apple.jingle.util.MZClientCapabilities\\\", timestamp=\\\"PDT 2017-05-26 10:16:01,214\\\", leve<br> id = 69\", \"1 logger=\\\"com.apple.jingle.util.MZClientCapabilities\\\", timestamp=\\\"PDT 2017-05-26 10:16:01,214\\\", leve<br> id = 69\", \"1 logger=\\\"com.apple.jingle.util.MZClientCapabilities\\\", timestamp=\\\"PDT 2017-05-26 10:16:01,214\\\", leve<br> id = 69\", \"1 logger=\\\"com.apple.jingle.util.MZClientCapabilities\\\", timestamp=\\\"PDT 2017-05-26 10:16:01,214\\\", leve<br> id = 69\"], \"marker\": {\"opacity\": 0.5, \"color\": \"orange\", \"size\": 7}, \"mode\": \"markers\", \"y\": [\"-0.238883883369\", \"-0.238883883369\", \"-0.238883883369\", \"-0.238883883369\"], \"x\": [\"0.264478540823\", \"0.264478540823\", \"0.264478540823\", \"0.264478540823\"], \"z\": [\"1\", \"1\", \"1\", \"1\"], \"type\": \"scatter3d\"}, {\"legendgroup\": \"cluster - 26\", \"name\": \"cluster - 26\", \"text\": [\"Unknown logger=\\\"com.apple.jingle.util.MZClientCapabilities\\\", timestamp=\\\"PDT 2017-05-26 10:15:14,266\\\"<br> id = 26\", \"Unknown logger=\\\"com.apple.jingle.util.MZClientCapabilities\\\", timestamp=\\\"PDT 2017-05-26 10:15:14,266\\\"<br> id = 26\"], \"marker\": {\"opacity\": 0.5, \"color\": \"blue\", \"size\": 6}, \"mode\": \"markers\", \"y\": [\"-0.389210196493\", \"-0.389210196493\"], \"x\": [\"0.157974603875\", \"0.157974603875\"], \"z\": [\"2\", \"2\"], \"type\": \"scatter3d\"}, {\"legendgroup\": \"cluster - 26\", \"name\": \"cluster - 26\", \"text\": [\"2 logger=\\\"com.apple.jingle.util.MZClientCapabilities\\\", timestamp=\\\"PDT 2017-05-26 10:15:14,266\\\", leve<br> id = 70\", \"2 logger=\\\"com.apple.jingle.util.MZClientCapabilities\\\", timestamp=\\\"PDT 2017-05-26 10:15:14,266\\\", leve<br> id = 70\"], \"marker\": {\"opacity\": 0.5, \"color\": \"orange\", \"size\": 7}, \"mode\": \"markers\", \"y\": [\"-0.389210196502\", \"-0.389210196502\"], \"x\": [\"0.157974603978\", \"0.157974603978\"], \"z\": [\"2\", \"2\"], \"type\": \"scatter3d\"}], {\"hovermode\": \"closest\"}, {\"linkText\": \"Export to plot.ly\", \"showLink\": false})});</script>"
      ],
      "text/vnd.plotly.v1+html": [
       "<div id=\"7caffd30-b67c-4691-9cc8-6f1e0691f186\" style=\"height: 525px; width: 100%;\" class=\"plotly-graph-div\"></div><script type=\"text/javascript\">require([\"plotly\"], function(Plotly) { window.PLOTLYENV=window.PLOTLYENV || {};window.PLOTLYENV.BASE_URL=\"https://plot.ly\";Plotly.newPlot(\"7caffd30-b67c-4691-9cc8-6f1e0691f186\", [{\"legendgroup\": \"cluster - 0\", \"name\": \"cluster - 0\", \"text\": [\"Unknown logger=\\\"org.apache.http.impl.client.DefaultHttpClient\\\", timestamp=\\\"PDT 2017-05-26 10:16:06,6<br> id = 0\", \"Unknown logger=\\\"org.apache.http.impl.client.DefaultHttpClient\\\", timestamp=\\\"PDT 2017-05-26 10:16:06,6<br> id = 0\", \"Unknown logger=\\\"org.apache.http.impl.client.DefaultHttpClient\\\", timestamp=\\\"PDT 2017-05-26 10:16:06,6<br> id = 0\", \"Unknown logger=\\\"org.apache.http.impl.client.DefaultHttpClient\\\", timestamp=\\\"PDT 2017-05-26 10:16:06,6<br> id = 0\", \"Unknown logger=\\\"org.apache.http.impl.client.DefaultHttpClient\\\", timestamp=\\\"PDT 2017-05-26 10:16:06,6<br> id = 0\", \"Unknown logger=\\\"org.apache.http.impl.client.DefaultHttpClient\\\", timestamp=\\\"PDT 2017-05-26 10:16:06,6<br> id = 0\", \"Unknown logger=\\\"org.apache.http.impl.client.DefaultHttpClient\\\", timestamp=\\\"PDT 2017-05-26 10:16:06,6<br> id = 0\"], \"marker\": {\"opacity\": 0.5, \"color\": \"blue\", \"size\": 6}, \"mode\": \"markers\", \"y\": [\"0.141092170792\", \"0.141092170792\", \"0.141092170792\", \"0.141092170792\", \"0.141092170792\", \"0.141092170792\", \"0.141092170792\"], \"x\": [\"-0.681635660483\", \"-0.681635660483\", \"-0.681635660483\", \"-0.681635660483\", \"-0.681635660483\", \"-0.681635660483\", \"-0.681635660483\"], \"z\": [\"575\", \"6712\", \"1561\", \"10\", \"128\", \"221\", \"13\"], \"type\": \"scatter3d\"}, {\"legendgroup\": \"cluster - 0\", \"name\": \"cluster - 0\", \"text\": [\"10 logger=\\\"org.apache.http.impl.client.DefaultHttpClient\\\", timestamp=\\\"PDT 2017-05-26 10:16:05,416\\\", <br> id = 27\", \"13 logger=\\\"org.apache.http.impl.client.DefaultHttpClient\\\", timestamp=\\\"PDT 2017-05-26 10:15:28,764\\\", <br> id = 28\", \"575 logger=\\\"org.apache.http.impl.client.DefaultHttpClient\\\", timestamp=\\\"PDT 2017-05-26 10:16:06,643\\\",<br> id = 29\", \"128 logger=\\\"org.apache.http.impl.client.DefaultHttpClient\\\", timestamp=\\\"PDT 2017-05-26 10:16:01,215\\\",<br> id = 30\", \"1561 logger=\\\"org.apache.http.impl.client.DefaultHttpClient\\\", timestamp=\\\"PDT 2017-05-26 10:16:05,432\\\"<br> id = 31\", \"6712 logger=\\\"org.apache.http.impl.client.DefaultHttpClient\\\", timestamp=\\\"PDT 2017-05-26 10:15:07,076\\\"<br> id = 32\", \"221 logger=\\\"org.apache.http.impl.client.DefaultHttpClient\\\", timestamp=\\\"PDT 2017-05-26 10:16:05,305\\\",<br> id = 33\"], \"marker\": {\"opacity\": 0.5, \"color\": \"orange\", \"size\": 7}, \"mode\": \"markers\", \"y\": [\"0.14232592936\", \"0.141092170792\", \"0.141092179918\", \"0.141092179918\", \"0.143158843454\", \"0.141092170792\", \"0.141092179918\"], \"x\": [\"-0.655744007429\", \"-0.681635660483\", \"-0.681635659828\", \"-0.681635659828\", \"-0.671572966643\", \"-0.681635660483\", \"-0.681635659828\"], \"z\": [\"10\", \"13\", \"575\", \"128\", \"1561\", \"6712\", \"221\"], \"type\": \"scatter3d\"}, {\"legendgroup\": \"cluster - 1\", \"name\": \"cluster - 1\", \"text\": [\"Unknown logger=\\\"com.apple.jingle.util.MZClientCapabilities\\\", timestamp=\\\"PDT 2017-05-26 10:16:05,094\\\"<br> id = 1\", \"Unknown logger=\\\"com.apple.jingle.util.MZClientCapabilities\\\", timestamp=\\\"PDT 2017-05-26 10:16:05,094\\\"<br> id = 1\", \"Unknown logger=\\\"com.apple.jingle.util.MZClientCapabilities\\\", timestamp=\\\"PDT 2017-05-26 10:16:05,094\\\"<br> id = 1\", \"Unknown logger=\\\"com.apple.jingle.util.MZClientCapabilities\\\", timestamp=\\\"PDT 2017-05-26 10:16:05,094\\\"<br> id = 1\", \"Unknown logger=\\\"com.apple.jingle.util.MZClientCapabilities\\\", timestamp=\\\"PDT 2017-05-26 10:16:05,094\\\"<br> id = 1\", \"Unknown logger=\\\"com.apple.jingle.util.MZClientCapabilities\\\", timestamp=\\\"PDT 2017-05-26 10:16:05,094\\\"<br> id = 1\", \"Unknown logger=\\\"com.apple.jingle.util.MZClientCapabilities\\\", timestamp=\\\"PDT 2017-05-26 10:16:05,094\\\"<br> id = 1\", \"Unknown logger=\\\"com.apple.jingle.util.MZClientCapabilities\\\", timestamp=\\\"PDT 2017-05-26 10:16:05,094\\\"<br> id = 1\", \"Unknown logger=\\\"com.apple.jingle.util.MZClientCapabilities\\\", timestamp=\\\"PDT 2017-05-26 10:16:05,094\\\"<br> id = 1\", \"Unknown logger=\\\"com.apple.jingle.util.MZClientCapabilities\\\", timestamp=\\\"PDT 2017-05-26 10:16:05,094\\\"<br> id = 1\", \"Unknown logger=\\\"com.apple.jingle.util.MZClientCapabilities\\\", timestamp=\\\"PDT 2017-05-26 10:16:05,094\\\"<br> id = 1\"], \"marker\": {\"opacity\": 0.5, \"color\": \"blue\", \"size\": 6}, \"mode\": \"markers\", \"y\": [\"-0.320792391733\", \"-0.320792391733\", \"-0.320792391733\", \"-0.320792391733\", \"-0.320792391733\", \"-0.320792391733\", \"-0.320792391733\", \"-0.320792391733\", \"-0.320792391733\", \"-0.320792391733\", \"-0.320792391733\"], \"x\": [\"0.196540147098\", \"0.196540147098\", \"0.196540147098\", \"0.196540147098\", \"0.196540147098\", \"0.196540147098\", \"0.196540147098\", \"0.196540147098\", \"0.196540147098\", \"0.196540147098\", \"0.196540147098\"], \"z\": [\"1\", \"5\", \"1\", \"1\", \"2\", \"1\", \"1\", \"1\", \"1\", \"1\", \"1\"], \"type\": \"scatter3d\"}, {\"legendgroup\": \"cluster - 1\", \"name\": \"cluster - 1\", \"text\": [\"1 logger=\\\"com.apple.jingle.util.MZClientCapabilities\\\", timestamp=\\\"PDT 2017-05-26 10:16:05,094\\\", leve<br> id = 34\", \"1 logger=\\\"com.apple.jingle.util.MZClientCapabilities\\\", timestamp=\\\"PDT 2017-05-26 10:16:05,094\\\", leve<br> id = 34\", \"1 logger=\\\"com.apple.jingle.util.MZClientCapabilities\\\", timestamp=\\\"PDT 2017-05-26 10:16:05,094\\\", leve<br> id = 34\", \"1 logger=\\\"com.apple.jingle.util.MZClientCapabilities\\\", timestamp=\\\"PDT 2017-05-26 10:16:05,094\\\", leve<br> id = 34\", \"1 logger=\\\"com.apple.jingle.util.MZClientCapabilities\\\", timestamp=\\\"PDT 2017-05-26 10:16:05,094\\\", leve<br> id = 34\", \"1 logger=\\\"com.apple.jingle.util.MZClientCapabilities\\\", timestamp=\\\"PDT 2017-05-26 10:16:05,094\\\", leve<br> id = 34\", \"1 logger=\\\"com.apple.jingle.util.MZClientCapabilities\\\", timestamp=\\\"PDT 2017-05-26 10:16:05,094\\\", leve<br> id = 34\", \"1 logger=\\\"com.apple.jingle.util.MZClientCapabilities\\\", timestamp=\\\"PDT 2017-05-26 10:16:05,094\\\", leve<br> id = 34\", \"1 logger=\\\"com.apple.jingle.util.MZClientCapabilities\\\", timestamp=\\\"PDT 2017-05-26 10:16:05,094\\\", leve<br> id = 34\", \"2 logger=\\\"com.apple.jingle.util.MZClientCapabilities\\\", timestamp=\\\"PDT 2017-05-26 10:16:02,467\\\", leve<br> id = 35\"], \"marker\": {\"opacity\": 0.5, \"color\": \"orange\", \"size\": 7}, \"mode\": \"markers\", \"y\": [\"-0.320792391733\", \"-0.320792391733\", \"-0.320792391733\", \"-0.320792391733\", \"-0.320792391733\", \"-0.320792391733\", \"-0.320792391733\", \"-0.320792391733\", \"-0.320792391733\", \"-0.305738642428\"], \"x\": [\"0.196540147098\", \"0.196540147098\", \"0.196540147098\", \"0.196540147098\", \"0.196540147098\", \"0.196540147098\", \"0.196540147098\", \"0.196540147098\", \"0.196540147098\", \"0.183067852007\"], \"z\": [\"1\", \"1\", \"1\", \"1\", \"1\", \"1\", \"1\", \"1\", \"1\", \"2\"], \"type\": \"scatter3d\"}, {\"legendgroup\": \"cluster - 1\", \"name\": \"cluster - 1\", \"text\": [\"5 logger=\\\"com.apple.jingle.util.MZClientCapabilities\\\", timestamp=\\\"PDT 2017-05-26 10:16:06,834\\\", leve<br> id = 36\"], \"marker\": {\"opacity\": 0.5, \"color\": \"red\", \"size\": 8}, \"mode\": \"markers\", \"y\": [\"-0.33182227034\"], \"x\": [\"0.18541434112\"], \"z\": [\"5\"], \"type\": \"scatter3d\"}, {\"legendgroup\": \"cluster - 2\", \"name\": \"cluster - 2\", \"text\": [\"Unknown logger=\\\"com.apple.jingle.cachelogic.popularity.MZPopularityClient\\\", timestamp=\\\"PDT 2017-05-2<br> id = 2\", \"Unknown logger=\\\"com.apple.jingle.cachelogic.popularity.MZPopularityClient\\\", timestamp=\\\"PDT 2017-05-2<br> id = 2\"], \"marker\": {\"opacity\": 0.5, \"color\": \"blue\", \"size\": 6}, \"mode\": \"markers\", \"y\": [\"0.197510350683\", \"0.197510350683\"], \"x\": [\"0.303890101101\", \"0.303890101101\"], \"z\": [\"1\", \"1\"], \"type\": \"scatter3d\"}, {\"legendgroup\": \"cluster - 2\", \"name\": \"cluster - 2\", \"text\": [\"1 logger=\\\"com.apple.jingle.cachelogic.popularity.MZPopularityClient\\\", timestamp=\\\"PDT 2017-05-26 10:1<br> id = 37\", \"1 logger=\\\"com.apple.jingle.cachelogic.popularity.MZPopularityClient\\\", timestamp=\\\"PDT 2017-05-26 10:1<br> id = 37\"], \"marker\": {\"opacity\": 0.5, \"color\": \"orange\", \"size\": 7}, \"mode\": \"markers\", \"y\": [\"0.19751035066\", \"0.19751035066\"], \"x\": [\"0.303890101243\", \"0.303890101243\"], \"z\": [\"1\", \"1\"], \"type\": \"scatter3d\"}, {\"legendgroup\": \"cluster - 3\", \"name\": \"cluster - 3\", \"text\": [\"Unknown logger=\\\"com.apple.jingle.cachelogic.popularity.MZPopularityClient\\\", timestamp=\\\"PDT 2017-05-2<br> id = 3\", \"Unknown logger=\\\"com.apple.jingle.cachelogic.popularity.MZPopularityClient\\\", timestamp=\\\"PDT 2017-05-2<br> id = 3\", \"Unknown logger=\\\"com.apple.jingle.cachelogic.popularity.MZPopularityClient\\\", timestamp=\\\"PDT 2017-05-2<br> id = 3\", \"Unknown logger=\\\"com.apple.jingle.cachelogic.popularity.MZPopularityClient\\\", timestamp=\\\"PDT 2017-05-2<br> id = 3\", \"Unknown logger=\\\"com.apple.jingle.cachelogic.popularity.MZPopularityClient\\\", timestamp=\\\"PDT 2017-05-2<br> id = 3\", \"Unknown logger=\\\"com.apple.jingle.cachelogic.popularity.MZPopularityClient\\\", timestamp=\\\"PDT 2017-05-2<br> id = 3\", \"Unknown logger=\\\"com.apple.jingle.cachelogic.popularity.MZPopularityClient\\\", timestamp=\\\"PDT 2017-05-2<br> id = 3\", \"Unknown logger=\\\"com.apple.jingle.cachelogic.popularity.MZPopularityClient\\\", timestamp=\\\"PDT 2017-05-2<br> id = 3\", \"Unknown logger=\\\"com.apple.jingle.cachelogic.popularity.MZPopularityClient\\\", timestamp=\\\"PDT 2017-05-2<br> id = 3\", \"Unknown logger=\\\"com.apple.jingle.cachelogic.popularity.MZPopularityClient\\\", timestamp=\\\"PDT 2017-05-2<br> id = 3\", \"Unknown logger=\\\"com.apple.jingle.cachelogic.popularity.MZPopularityClient\\\", timestamp=\\\"PDT 2017-05-2<br> id = 3\", \"Unknown logger=\\\"com.apple.jingle.cachelogic.popularity.MZPopularityClient\\\", timestamp=\\\"PDT 2017-05-2<br> id = 3\", \"Unknown logger=\\\"com.apple.jingle.cachelogic.popularity.MZPopularityClient\\\", timestamp=\\\"PDT 2017-05-2<br> id = 3\"], \"marker\": {\"opacity\": 0.5, \"color\": \"blue\", \"size\": 6}, \"mode\": \"markers\", \"y\": [\"0.495589840901\", \"0.495589840901\", \"0.495589840901\", \"0.495589840901\", \"0.495589840901\", \"0.495589840901\", \"0.495589840901\", \"0.495589840901\", \"0.495589840901\", \"0.495589840901\", \"0.495589840901\", \"0.495589840901\", \"0.495589840901\"], \"x\": [\"0.197396153713\", \"0.197396153713\", \"0.197396153713\", \"0.197396153713\", \"0.197396153713\", \"0.197396153713\", \"0.197396153713\", \"0.197396153713\", \"0.197396153713\", \"0.197396153713\", \"0.197396153713\", \"0.197396153713\", \"0.197396153713\"], \"z\": [\"1\", \"2\", \"1\", \"1\", \"1\", \"1\", \"1\", \"1\", \"1\", \"1\", \"1\", \"1\", \"1\"], \"type\": \"scatter3d\"}, {\"legendgroup\": \"cluster - 3\", \"name\": \"cluster - 3\", \"text\": [\"1 logger=\\\"com.apple.jingle.cachelogic.popularity.MZPopularityClient\\\", timestamp=\\\"PDT 2017-05-26 10:1<br> id = 38\", \"1 logger=\\\"com.apple.jingle.cachelogic.popularity.MZPopularityClient\\\", timestamp=\\\"PDT 2017-05-26 10:1<br> id = 38\", \"1 logger=\\\"com.apple.jingle.cachelogic.popularity.MZPopularityClient\\\", timestamp=\\\"PDT 2017-05-26 10:1<br> id = 38\", \"1 logger=\\\"com.apple.jingle.cachelogic.popularity.MZPopularityClient\\\", timestamp=\\\"PDT 2017-05-26 10:1<br> id = 38\", \"1 logger=\\\"com.apple.jingle.cachelogic.popularity.MZPopularityClient\\\", timestamp=\\\"PDT 2017-05-26 10:1<br> id = 38\", \"1 logger=\\\"com.apple.jingle.cachelogic.popularity.MZPopularityClient\\\", timestamp=\\\"PDT 2017-05-26 10:1<br> id = 38\", \"1 logger=\\\"com.apple.jingle.cachelogic.popularity.MZPopularityClient\\\", timestamp=\\\"PDT 2017-05-26 10:1<br> id = 38\", \"1 logger=\\\"com.apple.jingle.cachelogic.popularity.MZPopularityClient\\\", timestamp=\\\"PDT 2017-05-26 10:1<br> id = 38\", \"1 logger=\\\"com.apple.jingle.cachelogic.popularity.MZPopularityClient\\\", timestamp=\\\"PDT 2017-05-26 10:1<br> id = 38\", \"1 logger=\\\"com.apple.jingle.cachelogic.popularity.MZPopularityClient\\\", timestamp=\\\"PDT 2017-05-26 10:1<br> id = 38\", \"1 logger=\\\"com.apple.jingle.cachelogic.popularity.MZPopularityClient\\\", timestamp=\\\"PDT 2017-05-26 10:1<br> id = 38\", \"1 logger=\\\"com.apple.jingle.cachelogic.popularity.MZPopularityClient\\\", timestamp=\\\"PDT 2017-05-26 10:1<br> id = 38\"], \"marker\": {\"opacity\": 0.5, \"color\": \"orange\", \"size\": 7}, \"mode\": \"markers\", \"y\": [\"0.495589840901\", \"0.495589840901\", \"0.495589840901\", \"0.495589840901\", \"0.495589840901\", \"0.495589840901\", \"0.495589840901\", \"0.495589840901\", \"0.495589840901\", \"0.495589840901\", \"0.495589840901\", \"0.495589840901\"], \"x\": [\"0.197396153713\", \"0.197396153713\", \"0.197396153713\", \"0.197396153713\", \"0.197396153713\", \"0.197396153713\", \"0.197396153713\", \"0.197396153713\", \"0.197396153713\", \"0.197396153713\", \"0.197396153713\", \"0.197396153713\"], \"z\": [\"1\", \"1\", \"1\", \"1\", \"1\", \"1\", \"1\", \"1\", \"1\", \"1\", \"1\", \"1\"], \"type\": \"scatter3d\"}, {\"legendgroup\": \"cluster - 3\", \"name\": \"cluster - 3\", \"text\": [\"2 logger=\\\"com.apple.jingle.cachelogic.popularity.MZPopularityClient\\\", timestamp=\\\"PDT 2017-05-26 10:1<br> id = 39\"], \"marker\": {\"opacity\": 0.5, \"color\": \"red\", \"size\": 8}, \"mode\": \"markers\", \"y\": [\"0.526415439954\"], \"x\": [\"0.199873364793\"], \"z\": [\"2\"], \"type\": \"scatter3d\"}, {\"legendgroup\": \"cluster - 4\", \"name\": \"cluster - 4\", \"text\": [\"Unknown logger=\\\"com.apple.jingle.appserver.MZDirectAction\\\", timestamp=\\\"PDT 2017-05-26 10:16:04,412\\\",<br> id = 4\"], \"marker\": {\"opacity\": 0.5, \"color\": \"blue\", \"size\": 6}, \"mode\": \"markers\", \"y\": [\"0.154214829872\"], \"x\": [\"-0.0474260994231\"], \"z\": [\"1\"], \"type\": \"scatter3d\"}, {\"legendgroup\": \"cluster - 4\", \"name\": \"cluster - 4\", \"text\": [\"1 logger=\\\"com.apple.jingle.appserver.MZDirectAction\\\", timestamp=\\\"PDT 2017-05-26 10:16:04,412\\\", level<br> id = 40\"], \"marker\": {\"opacity\": 0.5, \"color\": \"orange\", \"size\": 7}, \"mode\": \"markers\", \"y\": [\"0.154214829872\"], \"x\": [\"-0.0474260994231\"], \"z\": [\"1\"], \"type\": \"scatter3d\"}, {\"legendgroup\": \"cluster - 5\", \"name\": \"cluster - 5\", \"text\": [\"Unknown logger=\\\"com.apple.shuttlebus.internals.SBHubbleAndLoggingHook\\\", timestamp=\\\"PDT 2017-05-26 10<br> id = 5\"], \"marker\": {\"opacity\": 0.5, \"color\": \"blue\", \"size\": 6}, \"mode\": \"markers\", \"y\": [\"-0.453637025085\"], \"x\": [\"-0.591551943778\"], \"z\": [\"22\"], \"type\": \"scatter3d\"}, {\"legendgroup\": \"cluster - 5\", \"name\": \"cluster - 5\", \"text\": [\"22 logger=\\\"com.apple.shuttlebus.internals.SBHubbleAndLoggingHook\\\", timestamp=\\\"PDT 2017-05-26 10:16:0<br> id = 41\"], \"marker\": {\"opacity\": 0.5, \"color\": \"orange\", \"size\": 7}, \"mode\": \"markers\", \"y\": [\"-0.453636945126\"], \"x\": [\"-0.591551981552\"], \"z\": [\"22\"], \"type\": \"scatter3d\"}, {\"legendgroup\": \"cluster - 6\", \"name\": \"cluster - 6\", \"text\": [\"Unknown logger=\\\"org.apache.http.impl.client.DefaultHttpClient\\\", timestamp=\\\"PDT 2017-05-26 10:16:04,9<br> id = 6\", \"Unknown logger=\\\"org.apache.http.impl.client.DefaultHttpClient\\\", timestamp=\\\"PDT 2017-05-26 10:16:04,9<br> id = 6\", \"Unknown logger=\\\"org.apache.http.impl.client.DefaultHttpClient\\\", timestamp=\\\"PDT 2017-05-26 10:16:04,9<br> id = 6\", \"Unknown logger=\\\"org.apache.http.impl.client.DefaultHttpClient\\\", timestamp=\\\"PDT 2017-05-26 10:16:04,9<br> id = 6\", \"Unknown logger=\\\"org.apache.http.impl.client.DefaultHttpClient\\\", timestamp=\\\"PDT 2017-05-26 10:16:04,9<br> id = 6\", \"Unknown logger=\\\"org.apache.http.impl.client.DefaultHttpClient\\\", timestamp=\\\"PDT 2017-05-26 10:16:04,9<br> id = 6\", \"Unknown logger=\\\"org.apache.http.impl.client.DefaultHttpClient\\\", timestamp=\\\"PDT 2017-05-26 10:16:04,9<br> id = 6\"], \"marker\": {\"opacity\": 0.5, \"color\": \"blue\", \"size\": 6}, \"mode\": \"markers\", \"y\": [\"0.285296459195\", \"0.285296459195\", \"0.285296459195\", \"0.285296459195\", \"0.285296459195\", \"0.285296459195\", \"0.285296459195\"], \"x\": [\"-0.418777935714\", \"-0.418777935714\", \"-0.418777935714\", \"-0.418777935714\", \"-0.418777935714\", \"-0.418777935714\", \"-0.418777935714\"], \"z\": [\"1\", \"1\", \"1\", \"1\", \"1\", \"1\", \"1\"], \"type\": \"scatter3d\"}, {\"legendgroup\": \"cluster - 6\", \"name\": \"cluster - 6\", \"text\": [\"1 logger=\\\"org.apache.http.impl.client.DefaultHttpClient\\\", timestamp=\\\"PDT 2017-05-26 10:16:04,986\\\", l<br> id = 42\", \"1 logger=\\\"org.apache.http.impl.client.DefaultHttpClient\\\", timestamp=\\\"PDT 2017-05-26 10:16:04,986\\\", l<br> id = 42\", \"1 logger=\\\"org.apache.http.impl.client.DefaultHttpClient\\\", timestamp=\\\"PDT 2017-05-26 10:16:04,986\\\", l<br> id = 42\", \"1 logger=\\\"org.apache.http.impl.client.DefaultHttpClient\\\", timestamp=\\\"PDT 2017-05-26 10:16:04,986\\\", l<br> id = 42\", \"1 logger=\\\"org.apache.http.impl.client.DefaultHttpClient\\\", timestamp=\\\"PDT 2017-05-26 10:16:04,986\\\", l<br> id = 42\", \"1 logger=\\\"org.apache.http.impl.client.DefaultHttpClient\\\", timestamp=\\\"PDT 2017-05-26 10:16:04,986\\\", l<br> id = 42\", \"1 logger=\\\"org.apache.http.impl.client.DefaultHttpClient\\\", timestamp=\\\"PDT 2017-05-26 10:16:04,986\\\", l<br> id = 42\"], \"marker\": {\"opacity\": 0.5, \"color\": \"orange\", \"size\": 7}, \"mode\": \"markers\", \"y\": [\"0.285296459195\", \"0.285296459195\", \"0.285296459195\", \"0.285296459195\", \"0.285296459195\", \"0.285296459195\", \"0.285296459195\"], \"x\": [\"-0.418777935714\", \"-0.418777935714\", \"-0.418777935714\", \"-0.418777935714\", \"-0.418777935714\", \"-0.418777935714\", \"-0.418777935714\"], \"z\": [\"1\", \"1\", \"1\", \"1\", \"1\", \"1\", \"1\"], \"type\": \"scatter3d\"}, {\"legendgroup\": \"cluster - 7\", \"name\": \"cluster - 7\", \"text\": [\"Unknown logger=\\\"com.apple.jingle.util.MZClientCapabilities\\\", timestamp=\\\"PDT 2017-05-26 10:15:49,316\\\"<br> id = 7\", \"Unknown logger=\\\"com.apple.jingle.util.MZClientCapabilities\\\", timestamp=\\\"PDT 2017-05-26 10:15:49,316\\\"<br> id = 7\", \"Unknown logger=\\\"com.apple.jingle.util.MZClientCapabilities\\\", timestamp=\\\"PDT 2017-05-26 10:15:49,316\\\"<br> id = 7\", \"Unknown logger=\\\"com.apple.jingle.util.MZClientCapabilities\\\", timestamp=\\\"PDT 2017-05-26 10:15:49,316\\\"<br> id = 7\", \"Unknown logger=\\\"com.apple.jingle.util.MZClientCapabilities\\\", timestamp=\\\"PDT 2017-05-26 10:15:49,316\\\"<br> id = 7\"], \"marker\": {\"opacity\": 0.5, \"color\": \"blue\", \"size\": 6}, \"mode\": \"markers\", \"y\": [\"-0.242165571614\", \"-0.242165571614\", \"-0.242165571614\", \"-0.242165571614\", \"-0.242165571614\"], \"x\": [\"0.244418857741\", \"0.244418857741\", \"0.244418857741\", \"0.244418857741\", \"0.244418857741\"], \"z\": [\"1\", \"1\", \"1\", \"1\", \"1\"], \"type\": \"scatter3d\"}, {\"legendgroup\": \"cluster - 7\", \"name\": \"cluster - 7\", \"text\": [\"1 logger=\\\"com.apple.jingle.util.MZClientCapabilities\\\", timestamp=\\\"PDT 2017-05-26 10:15:49,316\\\", leve<br> id = 43\", \"1 logger=\\\"com.apple.jingle.util.MZClientCapabilities\\\", timestamp=\\\"PDT 2017-05-26 10:15:49,316\\\", leve<br> id = 43\", \"1 logger=\\\"com.apple.jingle.util.MZClientCapabilities\\\", timestamp=\\\"PDT 2017-05-26 10:15:49,316\\\", leve<br> id = 43\", \"1 logger=\\\"com.apple.jingle.util.MZClientCapabilities\\\", timestamp=\\\"PDT 2017-05-26 10:15:49,316\\\", leve<br> id = 43\", \"1 logger=\\\"com.apple.jingle.util.MZClientCapabilities\\\", timestamp=\\\"PDT 2017-05-26 10:15:49,316\\\", leve<br> id = 43\"], \"marker\": {\"opacity\": 0.5, \"color\": \"orange\", \"size\": 7}, \"mode\": \"markers\", \"y\": [\"-0.242165571614\", \"-0.242165571614\", \"-0.242165571614\", \"-0.242165571614\", \"-0.242165571614\"], \"x\": [\"0.244418857741\", \"0.244418857741\", \"0.244418857741\", \"0.244418857741\", \"0.244418857741\"], \"z\": [\"1\", \"1\", \"1\", \"1\", \"1\"], \"type\": \"scatter3d\"}, {\"legendgroup\": \"cluster - 8\", \"name\": \"cluster - 8\", \"text\": [\"Unknown logger=\\\"com.apple.jingle.cachelogic.popularity.MZPopularityClient\\\", timestamp=\\\"PDT 2017-05-2<br> id = 8\", \"Unknown logger=\\\"com.apple.jingle.cachelogic.popularity.MZPopularityClient\\\", timestamp=\\\"PDT 2017-05-2<br> id = 8\", \"Unknown logger=\\\"com.apple.jingle.cachelogic.popularity.MZPopularityClient\\\", timestamp=\\\"PDT 2017-05-2<br> id = 8\", \"Unknown logger=\\\"com.apple.jingle.cachelogic.popularity.MZPopularityClient\\\", timestamp=\\\"PDT 2017-05-2<br> id = 8\"], \"marker\": {\"opacity\": 0.5, \"color\": \"blue\", \"size\": 6}, \"mode\": \"markers\", \"y\": [\"0.386817233109\", \"0.386817233109\", \"0.386817233109\", \"0.386817233109\"], \"x\": [\"0.440629075118\", \"0.440629075118\", \"0.440629075118\", \"0.440629075118\"], \"z\": [\"1\", \"1\", \"2\", \"8\"], \"type\": \"scatter3d\"}, {\"legendgroup\": \"cluster - 8\", \"name\": \"cluster - 8\", \"text\": [\"1 logger=\\\"com.apple.jingle.cachelogic.popularity.MZPopularityClient\\\", timestamp=\\\"PDT 2017-05-26 10:1<br> id = 44\", \"1 logger=\\\"com.apple.jingle.cachelogic.popularity.MZPopularityClient\\\", timestamp=\\\"PDT 2017-05-26 10:1<br> id = 44\", \"8 logger=\\\"com.apple.jingle.cachelogic.popularity.MZPopularityClient\\\", timestamp=\\\"PDT 2017-05-26 10:1<br> id = 45\", \"2 logger=\\\"com.apple.jingle.cachelogic.popularity.MZPopularityClient\\\", timestamp=\\\"PDT 2017-05-26 10:1<br> id = 46\"], \"marker\": {\"opacity\": 0.5, \"color\": \"orange\", \"size\": 7}, \"mode\": \"markers\", \"y\": [\"0.386817233109\", \"0.386817233109\", \"0.394204291538\", \"0.400732930005\"], \"x\": [\"0.440629075118\", \"0.440629075118\", \"0.426986099294\", \"0.439985014592\"], \"z\": [\"1\", \"1\", \"8\", \"2\"], \"type\": \"scatter3d\"}, {\"legendgroup\": \"cluster - 9\", \"name\": \"cluster - 9\", \"text\": [\"Unknown logger=\\\"com.apple.jingle.util.MZClientCapabilities\\\", timestamp=\\\"PDT 2017-05-26 10:16:03,649\\\"<br> id = 9\", \"Unknown logger=\\\"com.apple.jingle.util.MZClientCapabilities\\\", timestamp=\\\"PDT 2017-05-26 10:16:03,649\\\"<br> id = 9\", \"Unknown logger=\\\"com.apple.jingle.util.MZClientCapabilities\\\", timestamp=\\\"PDT 2017-05-26 10:16:03,649\\\"<br> id = 9\", \"Unknown logger=\\\"com.apple.jingle.util.MZClientCapabilities\\\", timestamp=\\\"PDT 2017-05-26 10:16:03,649\\\"<br> id = 9\"], \"marker\": {\"opacity\": 0.5, \"color\": \"blue\", \"size\": 6}, \"mode\": \"markers\", \"y\": [\"-0.331378516161\", \"-0.331378516161\", \"-0.331378516161\", \"-0.331378516161\"], \"x\": [\"0.457014039702\", \"0.457014039702\", \"0.457014039702\", \"0.457014039702\"], \"z\": [\"1\", \"1\", \"1\", \"1\"], \"type\": \"scatter3d\"}, {\"legendgroup\": \"cluster - 9\", \"name\": \"cluster - 9\", \"text\": [\"1 logger=\\\"com.apple.jingle.util.MZClientCapabilities\\\", timestamp=\\\"PDT 2017-05-26 10:16:03,649\\\", leve<br> id = 47\", \"1 logger=\\\"com.apple.jingle.util.MZClientCapabilities\\\", timestamp=\\\"PDT 2017-05-26 10:16:03,649\\\", leve<br> id = 47\", \"1 logger=\\\"com.apple.jingle.util.MZClientCapabilities\\\", timestamp=\\\"PDT 2017-05-26 10:16:03,649\\\", leve<br> id = 47\", \"1 logger=\\\"com.apple.jingle.util.MZClientCapabilities\\\", timestamp=\\\"PDT 2017-05-26 10:16:03,649\\\", leve<br> id = 47\"], \"marker\": {\"opacity\": 0.5, \"color\": \"orange\", \"size\": 7}, \"mode\": \"markers\", \"y\": [\"-0.51002975165\", \"-0.51002975165\", \"-0.51002975165\", \"-0.51002975165\"], \"x\": [\"0.000222336203686\", \"0.000222336203686\", \"0.000222336203686\", \"0.000222336203686\"], \"z\": [\"1\", \"1\", \"1\", \"1\"], \"type\": \"scatter3d\"}, {\"legendgroup\": \"cluster - 10\", \"name\": \"cluster - 10\", \"text\": [\"Unknown logger=\\\"com.webobjects.foundation.stats.NSStats\\\", timestamp=\\\"PDT 2017-05-26 10:15:12,367\\\", l<br> id = 10\", \"Unknown logger=\\\"com.webobjects.foundation.stats.NSStats\\\", timestamp=\\\"PDT 2017-05-26 10:15:12,367\\\", l<br> id = 10\"], \"marker\": {\"opacity\": 0.5, \"color\": \"blue\", \"size\": 6}, \"mode\": \"markers\", \"y\": [\"0.454441693311\", \"0.454441693311\"], \"x\": [\"-0.667347689368\", \"-0.667347689368\"], \"z\": [\"1\", \"1\"], \"type\": \"scatter3d\"}, {\"legendgroup\": \"cluster - 10\", \"name\": \"cluster - 10\", \"text\": [\"1 logger=\\\"com.webobjects.foundation.stats.NSStats\\\", timestamp=\\\"PDT 2017-05-26 10:15:12,367\\\", level=\\\"<br> id = 48\", \"1 logger=\\\"com.webobjects.foundation.stats.NSStats\\\", timestamp=\\\"PDT 2017-05-26 10:15:12,367\\\", level=\\\"<br> id = 48\"], \"marker\": {\"opacity\": 0.5, \"color\": \"orange\", \"size\": 7}, \"mode\": \"markers\", \"y\": [\"-0.112887745175\", \"-0.112887745175\"], \"x\": [\"-0.761273977423\", \"-0.761273977423\"], \"z\": [\"1\", \"1\"], \"type\": \"scatter3d\"}, {\"legendgroup\": \"cluster - 11\", \"name\": \"cluster - 11\", \"text\": [\"Unknown logger=\\\"com.apple.jingle.cachelogic.popularity.MZPopularityClient\\\", timestamp=\\\"PDT 2017-05-2<br> id = 11\", \"Unknown logger=\\\"com.apple.jingle.cachelogic.popularity.MZPopularityClient\\\", timestamp=\\\"PDT 2017-05-2<br> id = 11\"], \"marker\": {\"opacity\": 0.5, \"color\": \"blue\", \"size\": 6}, \"mode\": \"markers\", \"y\": [\"0.729525222151\", \"0.729525222151\"], \"x\": [\"0.0350769884054\", \"0.0350769884054\"], \"z\": [\"1592\", \"360\"], \"type\": \"scatter3d\"}, {\"legendgroup\": \"cluster - 11\", \"name\": \"cluster - 11\", \"text\": [\"360 logger=\\\"com.apple.jingle.cachelogic.popularity.MZPopularityClient\\\", timestamp=\\\"PDT 2017-05-26 10<br> id = 49\", \"1592 logger=\\\"com.apple.jingle.cachelogic.popularity.MZPopularityClient\\\", timestamp=\\\"PDT 2017-05-26 1<br> id = 50\"], \"marker\": {\"opacity\": 0.5, \"color\": \"orange\", \"size\": 7}, \"mode\": \"markers\", \"y\": [\"0.723926692079\", \"0.729525262459\"], \"x\": [\"0.04403026596\", \"0.0350771806047\"], \"z\": [\"360\", \"1592\"], \"type\": \"scatter3d\"}, {\"legendgroup\": \"cluster - 12\", \"name\": \"cluster - 12\", \"text\": [\"Unknown logger=\\\"com.apple.jingle.cachelogic.popularity.MZPopularityClient\\\", timestamp=\\\"PDT 2017-05-2<br> id = 12\"], \"marker\": {\"opacity\": 0.5, \"color\": \"blue\", \"size\": 6}, \"mode\": \"markers\", \"y\": [\"0.0140706990714\"], \"x\": [\"0.274037534168\"], \"z\": [\"1\"], \"type\": \"scatter3d\"}, {\"legendgroup\": \"cluster - 12\", \"name\": \"cluster - 12\", \"text\": [\"1 logger=\\\"com.apple.jingle.cachelogic.popularity.MZPopularityClient\\\", timestamp=\\\"PDT 2017-05-26 10:1<br> id = 51\"], \"marker\": {\"opacity\": 0.5, \"color\": \"orange\", \"size\": 7}, \"mode\": \"markers\", \"y\": [\"0.014070704117\"], \"x\": [\"0.274037484722\"], \"z\": [\"1\"], \"type\": \"scatter3d\"}, {\"legendgroup\": \"cluster - 13\", \"name\": \"cluster - 13\", \"text\": [\"Unknown logger=\\\"org.apache.http.impl.client.DefaultHttpClient\\\", timestamp=\\\"PDT 2017-05-26 10:16:04,6<br> id = 13\", \"Unknown logger=\\\"org.apache.http.impl.client.DefaultHttpClient\\\", timestamp=\\\"PDT 2017-05-26 10:16:04,6<br> id = 13\"], \"marker\": {\"opacity\": 0.5, \"color\": \"blue\", \"size\": 6}, \"mode\": \"markers\", \"y\": [\"0.276174959042\", \"0.276174959042\"], \"x\": [\"-0.697132032987\", \"-0.697132032987\"], \"z\": [\"744\", \"121\"], \"type\": \"scatter3d\"}, {\"legendgroup\": \"cluster - 13\", \"name\": \"cluster - 13\", \"text\": [\"121 logger=\\\"org.apache.http.impl.client.DefaultHttpClient\\\", timestamp=\\\"PDT 2017-05-26 10:16:03,080\\\",<br> id = 52\", \"744 logger=\\\"org.apache.http.impl.client.DefaultHttpClient\\\", timestamp=\\\"PDT 2017-05-26 10:16:04,677\\\",<br> id = 53\"], \"marker\": {\"opacity\": 0.5, \"color\": \"orange\", \"size\": 7}, \"mode\": \"markers\", \"y\": [\"0.276174959043\", \"0.038336247438\"], \"x\": [\"-0.697132032987\", \"-0.726064707676\"], \"z\": [\"121\", \"744\"], \"type\": \"scatter3d\"}, {\"legendgroup\": \"cluster - 14\", \"name\": \"cluster - 14\", \"text\": [\"Unknown logger=\\\"org.apache.http.impl.client.DefaultHttpClient\\\", timestamp=\\\"PDT 2017-05-26 10:15:17,7<br> id = 14\"], \"marker\": {\"opacity\": 0.5, \"color\": \"blue\", \"size\": 6}, \"mode\": \"markers\", \"y\": [\"0.402121442046\"], \"x\": [\"-0.387741788822\"], \"z\": [\"1\"], \"type\": \"scatter3d\"}, {\"legendgroup\": \"cluster - 14\", \"name\": \"cluster - 14\", \"text\": [\"1 logger=\\\"org.apache.http.impl.client.DefaultHttpClient\\\", timestamp=\\\"PDT 2017-05-26 10:15:17,768\\\", l<br> id = 54\"], \"marker\": {\"opacity\": 0.5, \"color\": \"orange\", \"size\": 7}, \"mode\": \"markers\", \"y\": [\"0.402121442046\"], \"x\": [\"-0.387741788822\"], \"z\": [\"1\"], \"type\": \"scatter3d\"}, {\"legendgroup\": \"cluster - 15\", \"name\": \"cluster - 15\", \"text\": [\"Unknown logger=\\\"net.spy.memcached.MemcachedConnection\\\", timestamp=\\\"PDT 2017-05-26 10:15:44,215\\\", lev<br> id = 15\", \"Unknown logger=\\\"net.spy.memcached.MemcachedConnection\\\", timestamp=\\\"PDT 2017-05-26 10:15:44,215\\\", lev<br> id = 15\", \"Unknown logger=\\\"net.spy.memcached.MemcachedConnection\\\", timestamp=\\\"PDT 2017-05-26 10:15:44,215\\\", lev<br> id = 15\"], \"marker\": {\"opacity\": 0.5, \"color\": \"blue\", \"size\": 6}, \"mode\": \"markers\", \"y\": [\"-0.382359022619\", \"-0.382359022619\", \"-0.382359022619\"], \"x\": [\"-0.637659692753\", \"-0.637659692753\", \"-0.637659692753\"], \"z\": [\"9\", \"2101\", \"9\"], \"type\": \"scatter3d\"}, {\"legendgroup\": \"cluster - 15\", \"name\": \"cluster - 15\", \"text\": [\"9 logger=\\\"net.spy.memcached.MemcachedConnection\\\", timestamp=\\\"PDT 2017-05-26 10:15:44,215\\\", level=\\\"IN<br> id = 55\", \"9 logger=\\\"net.spy.memcached.MemcachedConnection\\\", timestamp=\\\"PDT 2017-05-26 10:15:44,215\\\", level=\\\"IN<br> id = 55\", \"2101 logger=\\\"net.spy.memcached.MemcachedConnection\\\", timestamp=\\\"PDT 2017-05-26 10:16:04,868\\\", level=<br> id = 56\"], \"marker\": {\"opacity\": 0.5, \"color\": \"orange\", \"size\": 7}, \"mode\": \"markers\", \"y\": [\"-0.382359022619\", \"-0.382359022619\", \"-0.425757406704\"], \"x\": [\"-0.637659692753\", \"-0.637659692753\", \"-0.65585852425\"], \"z\": [\"9\", \"9\", \"2101\"], \"type\": \"scatter3d\"}, {\"legendgroup\": \"cluster - 16\", \"name\": \"cluster - 16\", \"text\": [\"Unknown logger=\\\"com.apple.jingle.util.MZClientCapabilities\\\", timestamp=\\\"PDT 2017-05-26 10:16:05,078\\\"<br> id = 16\", \"Unknown logger=\\\"com.apple.jingle.util.MZClientCapabilities\\\", timestamp=\\\"PDT 2017-05-26 10:16:05,078\\\"<br> id = 16\", \"Unknown logger=\\\"com.apple.jingle.util.MZClientCapabilities\\\", timestamp=\\\"PDT 2017-05-26 10:16:05,078\\\"<br> id = 16\", \"Unknown logger=\\\"com.apple.jingle.util.MZClientCapabilities\\\", timestamp=\\\"PDT 2017-05-26 10:16:05,078\\\"<br> id = 16\", \"Unknown logger=\\\"com.apple.jingle.util.MZClientCapabilities\\\", timestamp=\\\"PDT 2017-05-26 10:16:05,078\\\"<br> id = 16\", \"Unknown logger=\\\"com.apple.jingle.util.MZClientCapabilities\\\", timestamp=\\\"PDT 2017-05-26 10:16:05,078\\\"<br> id = 16\", \"Unknown logger=\\\"com.apple.jingle.util.MZClientCapabilities\\\", timestamp=\\\"PDT 2017-05-26 10:16:05,078\\\"<br> id = 16\", \"Unknown logger=\\\"com.apple.jingle.util.MZClientCapabilities\\\", timestamp=\\\"PDT 2017-05-26 10:16:05,078\\\"<br> id = 16\", \"Unknown logger=\\\"com.apple.jingle.util.MZClientCapabilities\\\", timestamp=\\\"PDT 2017-05-26 10:16:05,078\\\"<br> id = 16\", \"Unknown logger=\\\"com.apple.jingle.util.MZClientCapabilities\\\", timestamp=\\\"PDT 2017-05-26 10:16:05,078\\\"<br> id = 16\", \"Unknown logger=\\\"com.apple.jingle.util.MZClientCapabilities\\\", timestamp=\\\"PDT 2017-05-26 10:16:05,078\\\"<br> id = 16\"], \"marker\": {\"opacity\": 0.5, \"color\": \"blue\", \"size\": 6}, \"mode\": \"markers\", \"y\": [\"-0.320044720186\", \"-0.320044720186\", \"-0.320044720186\", \"-0.320044720186\", \"-0.320044720186\", \"-0.320044720186\", \"-0.320044720186\", \"-0.320044720186\", \"-0.320044720186\", \"-0.320044720186\", \"-0.320044720186\"], \"x\": [\"0.18978220877\", \"0.18978220877\", \"0.18978220877\", \"0.18978220877\", \"0.18978220877\", \"0.18978220877\", \"0.18978220877\", \"0.18978220877\", \"0.18978220877\", \"0.18978220877\", \"0.18978220877\"], \"z\": [\"1\", \"5\", \"1\", \"2\", \"1\", \"5\", \"1\", \"1\", \"1\", \"1\", \"2\"], \"type\": \"scatter3d\"}, {\"legendgroup\": \"cluster - 16\", \"name\": \"cluster - 16\", \"text\": [\"1 logger=\\\"com.apple.jingle.util.MZClientCapabilities\\\", timestamp=\\\"PDT 2017-05-26 10:16:05,078\\\", leve<br> id = 57\", \"1 logger=\\\"com.apple.jingle.util.MZClientCapabilities\\\", timestamp=\\\"PDT 2017-05-26 10:16:05,078\\\", leve<br> id = 57\", \"1 logger=\\\"com.apple.jingle.util.MZClientCapabilities\\\", timestamp=\\\"PDT 2017-05-26 10:16:05,078\\\", leve<br> id = 57\", \"1 logger=\\\"com.apple.jingle.util.MZClientCapabilities\\\", timestamp=\\\"PDT 2017-05-26 10:16:05,078\\\", leve<br> id = 57\", \"1 logger=\\\"com.apple.jingle.util.MZClientCapabilities\\\", timestamp=\\\"PDT 2017-05-26 10:16:05,078\\\", leve<br> id = 57\", \"1 logger=\\\"com.apple.jingle.util.MZClientCapabilities\\\", timestamp=\\\"PDT 2017-05-26 10:16:05,078\\\", leve<br> id = 57\", \"1 logger=\\\"com.apple.jingle.util.MZClientCapabilities\\\", timestamp=\\\"PDT 2017-05-26 10:16:05,078\\\", leve<br> id = 57\", \"2 logger=\\\"com.apple.jingle.util.MZClientCapabilities\\\", timestamp=\\\"PDT 2017-05-26 10:16:02,105\\\", leve<br> id = 58\", \"2 logger=\\\"com.apple.jingle.util.MZClientCapabilities\\\", timestamp=\\\"PDT 2017-05-26 10:16:02,105\\\", leve<br> id = 58\", \"5 logger=\\\"com.apple.jingle.util.MZClientCapabilities\\\", timestamp=\\\"PDT 2017-05-26 10:16:06,811\\\", leve<br> id = 59\", \"5 logger=\\\"com.apple.jingle.util.MZClientCapabilities\\\", timestamp=\\\"PDT 2017-05-26 10:16:06,811\\\", leve<br> id = 59\"], \"marker\": {\"opacity\": 0.5, \"color\": \"orange\", \"size\": 7}, \"mode\": \"markers\", \"y\": [\"-0.320044720186\", \"-0.320044720186\", \"-0.320044720186\", \"-0.320044720186\", \"-0.320044720186\", \"-0.320044720186\", \"-0.320044720186\", \"-0.315085965258\", \"-0.315085965258\", \"-0.331338755791\", \"-0.331338755791\"], \"x\": [\"0.18978220877\", \"0.18978220877\", \"0.18978220877\", \"0.18978220877\", \"0.18978220877\", \"0.18978220877\", \"0.18978220877\", \"0.198728735244\", \"0.198728735244\", \"0.178481144252\", \"0.178481144252\"], \"z\": [\"1\", \"1\", \"1\", \"1\", \"1\", \"1\", \"1\", \"2\", \"2\", \"5\", \"5\"], \"type\": \"scatter3d\"}, {\"legendgroup\": \"cluster - 17\", \"name\": \"cluster - 17\", \"text\": [\"Unknown logger=\\\"com.apple.jingle.util.MZClientCapabilities\\\", timestamp=\\\"PDT 2017-05-26 10:15:10,613\\\"<br> id = 17\", \"Unknown logger=\\\"com.apple.jingle.util.MZClientCapabilities\\\", timestamp=\\\"PDT 2017-05-26 10:15:10,613\\\"<br> id = 17\", \"Unknown logger=\\\"com.apple.jingle.util.MZClientCapabilities\\\", timestamp=\\\"PDT 2017-05-26 10:15:10,613\\\"<br> id = 17\", \"Unknown logger=\\\"com.apple.jingle.util.MZClientCapabilities\\\", timestamp=\\\"PDT 2017-05-26 10:15:10,613\\\"<br> id = 17\", \"Unknown logger=\\\"com.apple.jingle.util.MZClientCapabilities\\\", timestamp=\\\"PDT 2017-05-26 10:15:10,613\\\"<br> id = 17\", \"Unknown logger=\\\"com.apple.jingle.util.MZClientCapabilities\\\", timestamp=\\\"PDT 2017-05-26 10:15:10,613\\\"<br> id = 17\"], \"marker\": {\"opacity\": 0.5, \"color\": \"blue\", \"size\": 6}, \"mode\": \"markers\", \"y\": [\"-0.281120141288\", \"-0.281120141288\", \"-0.281120141288\", \"-0.281120141288\", \"-0.281120141288\", \"-0.281120141288\"], \"x\": [\"0.245723566585\", \"0.245723566585\", \"0.245723566585\", \"0.245723566585\", \"0.245723566585\", \"0.245723566585\"], \"z\": [\"2\", \"1\", \"1\", \"1\", \"1\", \"1\"], \"type\": \"scatter3d\"}, {\"legendgroup\": \"cluster - 17\", \"name\": \"cluster - 17\", \"text\": [\"1 logger=\\\"com.apple.jingle.util.MZClientCapabilities\\\", timestamp=\\\"PDT 2017-05-26 10:16:00,948\\\", leve<br> id = 60\", \"1 logger=\\\"com.apple.jingle.util.MZClientCapabilities\\\", timestamp=\\\"PDT 2017-05-26 10:16:00,948\\\", leve<br> id = 60\", \"1 logger=\\\"com.apple.jingle.util.MZClientCapabilities\\\", timestamp=\\\"PDT 2017-05-26 10:16:00,948\\\", leve<br> id = 60\", \"1 logger=\\\"com.apple.jingle.util.MZClientCapabilities\\\", timestamp=\\\"PDT 2017-05-26 10:16:00,948\\\", leve<br> id = 60\", \"1 logger=\\\"com.apple.jingle.util.MZClientCapabilities\\\", timestamp=\\\"PDT 2017-05-26 10:16:00,948\\\", leve<br> id = 60\", \"2 logger=\\\"com.apple.jingle.util.MZClientCapabilities\\\", timestamp=\\\"PDT 2017-05-26 10:15:10,613\\\", leve<br> id = 61\"], \"marker\": {\"opacity\": 0.5, \"color\": \"orange\", \"size\": 7}, \"mode\": \"markers\", \"y\": [\"-0.270524391145\", \"-0.270524391145\", \"-0.270524391145\", \"-0.270524391145\", \"-0.270524391145\", \"-0.281120141288\"], \"x\": [\"0.271636423892\", \"0.271636423892\", \"0.271636423892\", \"0.271636423892\", \"0.271636423892\", \"0.245723566585\"], \"z\": [\"1\", \"1\", \"1\", \"1\", \"1\", \"2\"], \"type\": \"scatter3d\"}, {\"legendgroup\": \"cluster - 18\", \"name\": \"cluster - 18\", \"text\": [\"Unknown logger=\\\"com.apple.jingle.app.store.W3StoreDirectAction\\\", timestamp=\\\"PDT 2017-05-26 10:15:19,<br> id = 18\"], \"marker\": {\"opacity\": 0.5, \"color\": \"blue\", \"size\": 6}, \"mode\": \"markers\", \"y\": [\"0.287585831879\"], \"x\": [\"-0.133692614631\"], \"z\": [\"1\"], \"type\": \"scatter3d\"}, {\"legendgroup\": \"cluster - 18\", \"name\": \"cluster - 18\", \"text\": [\"1 logger=\\\"com.apple.jingle.app.store.W3StoreDirectAction\\\", timestamp=\\\"PDT 2017-05-26 10:15:19,160\\\", <br> id = 62\"], \"marker\": {\"opacity\": 0.5, \"color\": \"orange\", \"size\": 7}, \"mode\": \"markers\", \"y\": [\"0.287585758642\"], \"x\": [\"-0.13369264393\"], \"z\": [\"1\"], \"type\": \"scatter3d\"}, {\"legendgroup\": \"cluster - 19\", \"name\": \"cluster - 19\", \"text\": [\"Unknown logger=\\\"org.apache.http.impl.client.DefaultHttpClient\\\", timestamp=\\\"PDT 2017-05-26 10:15:57,8<br> id = 19\", \"Unknown logger=\\\"org.apache.http.impl.client.DefaultHttpClient\\\", timestamp=\\\"PDT 2017-05-26 10:15:57,8<br> id = 19\"], \"marker\": {\"opacity\": 0.5, \"color\": \"blue\", \"size\": 6}, \"mode\": \"markers\", \"y\": [\"0.39755604092\", \"0.39755604092\"], \"x\": [\"-0.40458664591\", \"-0.40458664591\"], \"z\": [\"1\", \"1\"], \"type\": \"scatter3d\"}, {\"legendgroup\": \"cluster - 19\", \"name\": \"cluster - 19\", \"text\": [\"1 logger=\\\"org.apache.http.impl.client.DefaultHttpClient\\\", timestamp=\\\"PDT 2017-05-26 10:15:57,856\\\", l<br> id = 63\", \"1 logger=\\\"org.apache.http.impl.client.DefaultHttpClient\\\", timestamp=\\\"PDT 2017-05-26 10:15:57,856\\\", l<br> id = 63\"], \"marker\": {\"opacity\": 0.5, \"color\": \"orange\", \"size\": 7}, \"mode\": \"markers\", \"y\": [\"0.39755607667\", \"0.39755607667\"], \"x\": [\"-0.404586630289\", \"-0.404586630289\"], \"z\": [\"1\", \"1\"], \"type\": \"scatter3d\"}, {\"legendgroup\": \"cluster - 20\", \"name\": \"cluster - 20\", \"text\": [\"Unknown logger=\\\"com.apple.jingle.cachelogic.popularity.MZPopularityClient\\\", timestamp=\\\"PDT 2017-05-2<br> id = 20\"], \"marker\": {\"opacity\": 0.5, \"color\": \"blue\", \"size\": 6}, \"mode\": \"markers\", \"y\": [\"0.237195472378\"], \"x\": [\"0.234795480948\"], \"z\": [\"2\"], \"type\": \"scatter3d\"}, {\"legendgroup\": \"cluster - 20\", \"name\": \"cluster - 20\", \"text\": [\"2 logger=\\\"com.apple.jingle.cachelogic.popularity.MZPopularityClient\\\", timestamp=\\\"PDT 2017-05-26 10:1<br> id = 64\"], \"marker\": {\"opacity\": 0.5, \"color\": \"orange\", \"size\": 7}, \"mode\": \"markers\", \"y\": [\"0.237195472384\"], \"x\": [\"0.234795480862\"], \"z\": [\"2\"], \"type\": \"scatter3d\"}, {\"legendgroup\": \"cluster - 21\", \"name\": \"cluster - 21\", \"text\": [\"Unknown logger=\\\"com.apple.jingle.cachelogic.popularity.MZPopularityClient\\\", timestamp=\\\"PDT 2017-05-2<br> id = 21\"], \"marker\": {\"opacity\": 0.5, \"color\": \"blue\", \"size\": 6}, \"mode\": \"markers\", \"y\": [\"0.274003949578\"], \"x\": [\"0.44931702479\"], \"z\": [\"6\"], \"type\": \"scatter3d\"}, {\"legendgroup\": \"cluster - 21\", \"name\": \"cluster - 21\", \"text\": [\"6 logger=\\\"com.apple.jingle.cachelogic.popularity.MZPopularityClient\\\", timestamp=\\\"PDT 2017-05-26 10:1<br> id = 65\"], \"marker\": {\"opacity\": 0.5, \"color\": \"orange\", \"size\": 7}, \"mode\": \"markers\", \"y\": [\"0.274003949578\"], \"x\": [\"0.44931702479\"], \"z\": [\"6\"], \"type\": \"scatter3d\"}, {\"legendgroup\": \"cluster - 22\", \"name\": \"cluster - 22\", \"text\": [\"Unknown logger=\\\"com.apple.jingle.cachelogic.popularity.MZPopularityClient\\\", timestamp=\\\"PDT 2017-05-2<br> id = 22\"], \"marker\": {\"opacity\": 0.5, \"color\": \"blue\", \"size\": 6}, \"mode\": \"markers\", \"y\": [\"0.286078050406\"], \"x\": [\"0.357794082691\"], \"z\": [\"2\"], \"type\": \"scatter3d\"}, {\"legendgroup\": \"cluster - 22\", \"name\": \"cluster - 22\", \"text\": [\"2 logger=\\\"com.apple.jingle.cachelogic.popularity.MZPopularityClient\\\", timestamp=\\\"PDT 2017-05-26 10:1<br> id = 66\"], \"marker\": {\"opacity\": 0.5, \"color\": \"orange\", \"size\": 7}, \"mode\": \"markers\", \"y\": [\"0.286078050406\"], \"x\": [\"0.357794082691\"], \"z\": [\"2\"], \"type\": \"scatter3d\"}, {\"legendgroup\": \"cluster - 23\", \"name\": \"cluster - 23\", \"text\": [\"Unknown logger=\\\"com.webobjects.foundation.stats.NSStats\\\", timestamp=\\\"PDT 2017-05-26 10:16:03,988\\\", l<br> id = 23\"], \"marker\": {\"opacity\": 0.5, \"color\": \"blue\", \"size\": 6}, \"mode\": \"markers\", \"y\": [\"-0.198301386059\"], \"x\": [\"-0.729403270661\"], \"z\": [\"1\"], \"type\": \"scatter3d\"}, {\"legendgroup\": \"cluster - 23\", \"name\": \"cluster - 23\", \"text\": [\"1 logger=\\\"com.webobjects.foundation.stats.NSStats\\\", timestamp=\\\"PDT 2017-05-26 10:16:03,988\\\", level=\\\"<br> id = 67\"], \"marker\": {\"opacity\": 0.5, \"color\": \"orange\", \"size\": 7}, \"mode\": \"markers\", \"y\": [\"-0.198301386059\"], \"x\": [\"-0.729403270661\"], \"z\": [\"1\"], \"type\": \"scatter3d\"}, {\"legendgroup\": \"cluster - 24\", \"name\": \"cluster - 24\", \"text\": [\"Unknown logger=\\\"com.apple.jingle.util.MZClientCapabilities\\\", timestamp=\\\"PDT 2017-05-26 10:16:06,882\\\"<br> id = 24\", \"Unknown logger=\\\"com.apple.jingle.util.MZClientCapabilities\\\", timestamp=\\\"PDT 2017-05-26 10:16:06,882\\\"<br> id = 24\", \"Unknown logger=\\\"com.apple.jingle.util.MZClientCapabilities\\\", timestamp=\\\"PDT 2017-05-26 10:16:06,882\\\"<br> id = 24\", \"Unknown logger=\\\"com.apple.jingle.util.MZClientCapabilities\\\", timestamp=\\\"PDT 2017-05-26 10:16:06,882\\\"<br> id = 24\"], \"marker\": {\"opacity\": 0.5, \"color\": \"blue\", \"size\": 6}, \"mode\": \"markers\", \"y\": [\"-0.341147977074\", \"-0.341147977074\", \"-0.341147977074\", \"-0.341147977074\"], \"x\": [\"0.120966954588\", \"0.120966954588\", \"0.120966954588\", \"0.120966954588\"], \"z\": [\"1\", \"1\", \"1\", \"1\"], \"type\": \"scatter3d\"}, {\"legendgroup\": \"cluster - 24\", \"name\": \"cluster - 24\", \"text\": [\"1 logger=\\\"com.apple.jingle.util.MZClientCapabilities\\\", timestamp=\\\"PDT 2017-05-26 10:16:06,882\\\", leve<br> id = 68\", \"1 logger=\\\"com.apple.jingle.util.MZClientCapabilities\\\", timestamp=\\\"PDT 2017-05-26 10:16:06,882\\\", leve<br> id = 68\", \"1 logger=\\\"com.apple.jingle.util.MZClientCapabilities\\\", timestamp=\\\"PDT 2017-05-26 10:16:06,882\\\", leve<br> id = 68\", \"1 logger=\\\"com.apple.jingle.util.MZClientCapabilities\\\", timestamp=\\\"PDT 2017-05-26 10:16:06,882\\\", leve<br> id = 68\"], \"marker\": {\"opacity\": 0.5, \"color\": \"orange\", \"size\": 7}, \"mode\": \"markers\", \"y\": [\"-0.341147977074\", \"-0.341147977074\", \"-0.341147977074\", \"-0.341147977074\"], \"x\": [\"0.120966954588\", \"0.120966954588\", \"0.120966954588\", \"0.120966954588\"], \"z\": [\"1\", \"1\", \"1\", \"1\"], \"type\": \"scatter3d\"}, {\"legendgroup\": \"cluster - 25\", \"name\": \"cluster - 25\", \"text\": [\"Unknown logger=\\\"com.apple.jingle.util.MZClientCapabilities\\\", timestamp=\\\"PDT 2017-05-26 10:16:01,214\\\"<br> id = 25\", \"Unknown logger=\\\"com.apple.jingle.util.MZClientCapabilities\\\", timestamp=\\\"PDT 2017-05-26 10:16:01,214\\\"<br> id = 25\", \"Unknown logger=\\\"com.apple.jingle.util.MZClientCapabilities\\\", timestamp=\\\"PDT 2017-05-26 10:16:01,214\\\"<br> id = 25\", \"Unknown logger=\\\"com.apple.jingle.util.MZClientCapabilities\\\", timestamp=\\\"PDT 2017-05-26 10:16:01,214\\\"<br> id = 25\"], \"marker\": {\"opacity\": 0.5, \"color\": \"blue\", \"size\": 6}, \"mode\": \"markers\", \"y\": [\"-0.238883883369\", \"-0.238883883369\", \"-0.238883883369\", \"-0.238883883369\"], \"x\": [\"0.264478540823\", \"0.264478540823\", \"0.264478540823\", \"0.264478540823\"], \"z\": [\"1\", \"1\", \"1\", \"1\"], \"type\": \"scatter3d\"}, {\"legendgroup\": \"cluster - 25\", \"name\": \"cluster - 25\", \"text\": [\"1 logger=\\\"com.apple.jingle.util.MZClientCapabilities\\\", timestamp=\\\"PDT 2017-05-26 10:16:01,214\\\", leve<br> id = 69\", \"1 logger=\\\"com.apple.jingle.util.MZClientCapabilities\\\", timestamp=\\\"PDT 2017-05-26 10:16:01,214\\\", leve<br> id = 69\", \"1 logger=\\\"com.apple.jingle.util.MZClientCapabilities\\\", timestamp=\\\"PDT 2017-05-26 10:16:01,214\\\", leve<br> id = 69\", \"1 logger=\\\"com.apple.jingle.util.MZClientCapabilities\\\", timestamp=\\\"PDT 2017-05-26 10:16:01,214\\\", leve<br> id = 69\"], \"marker\": {\"opacity\": 0.5, \"color\": \"orange\", \"size\": 7}, \"mode\": \"markers\", \"y\": [\"-0.238883883369\", \"-0.238883883369\", \"-0.238883883369\", \"-0.238883883369\"], \"x\": [\"0.264478540823\", \"0.264478540823\", \"0.264478540823\", \"0.264478540823\"], \"z\": [\"1\", \"1\", \"1\", \"1\"], \"type\": \"scatter3d\"}, {\"legendgroup\": \"cluster - 26\", \"name\": \"cluster - 26\", \"text\": [\"Unknown logger=\\\"com.apple.jingle.util.MZClientCapabilities\\\", timestamp=\\\"PDT 2017-05-26 10:15:14,266\\\"<br> id = 26\", \"Unknown logger=\\\"com.apple.jingle.util.MZClientCapabilities\\\", timestamp=\\\"PDT 2017-05-26 10:15:14,266\\\"<br> id = 26\"], \"marker\": {\"opacity\": 0.5, \"color\": \"blue\", \"size\": 6}, \"mode\": \"markers\", \"y\": [\"-0.389210196493\", \"-0.389210196493\"], \"x\": [\"0.157974603875\", \"0.157974603875\"], \"z\": [\"2\", \"2\"], \"type\": \"scatter3d\"}, {\"legendgroup\": \"cluster - 26\", \"name\": \"cluster - 26\", \"text\": [\"2 logger=\\\"com.apple.jingle.util.MZClientCapabilities\\\", timestamp=\\\"PDT 2017-05-26 10:15:14,266\\\", leve<br> id = 70\", \"2 logger=\\\"com.apple.jingle.util.MZClientCapabilities\\\", timestamp=\\\"PDT 2017-05-26 10:15:14,266\\\", leve<br> id = 70\"], \"marker\": {\"opacity\": 0.5, \"color\": \"orange\", \"size\": 7}, \"mode\": \"markers\", \"y\": [\"-0.389210196502\", \"-0.389210196502\"], \"x\": [\"0.157974603978\", \"0.157974603978\"], \"z\": [\"2\", \"2\"], \"type\": \"scatter3d\"}], {\"hovermode\": \"closest\"}, {\"linkText\": \"Export to plot.ly\", \"showLink\": false})});</script>"
      ]
     },
     "metadata": {},
     "output_type": "display_data"
    },
    {
     "data": {
      "application/vnd.jupyter.widget-view+json": {
       "model_id": "065302c8490d446bb3bcd30b8e656646"
      }
     },
     "metadata": {},
     "output_type": "display_data"
    },
    {
     "data": {
      "application/vnd.jupyter.widget-view+json": {
       "model_id": "0ab1c500b3f74806b8d143787fc9a207"
      }
     },
     "metadata": {},
     "output_type": "display_data"
    },
    {
     "data": {
      "application/vnd.jupyter.widget-view+json": {
       "model_id": "eb57f26e21ff4f2ca0635a4fe8be207d"
      }
     },
     "metadata": {},
     "output_type": "display_data"
    },
    {
     "data": {
      "application/vnd.jupyter.widget-view+json": {
       "model_id": "ef2afcb3120b4b9bbaae8d521c24de13"
      }
     },
     "metadata": {},
     "output_type": "display_data"
    }
   ],
   "source": [
    "import sys\n",
    "sys.path.insert(0, '..')\n",
    "sys.path.insert(0, 'plots')\n",
    "\n",
    "import os\n",
    "\n",
    "from IPython.display import display\n",
    "from IPython.display import clear_output\n",
    "import ipywidgets as widgets\n",
    "\n",
    "\n",
    "import json\n",
    "from SplunkIntelOptimized import SplunkIntelOptimized\n",
    "from sources.SplunkDatasetNew import SplunkDatasetNew\n",
    "from sources.SplunkFileSource import SplunkFileSource\n",
    "\n",
    "import plotly as py\n",
    "import pandas as pd\n",
    "import numpy as np\n",
    "import plotNew as plot\n",
    "\n",
    "py.offline.init_notebook_mode()\n",
    "pd.set_option('display.notebook_repr_html', True)\n",
    "\n",
    "data_sources_names = []\n",
    "\n",
    "data_source_picker = None\n",
    "time_range_picker = None\n",
    "event_picker = None\n",
    "event_text_area = None \n",
    "threshold_picker = None\n",
    "new_time_range_picker = None\n",
    "\n",
    "#create widgets\n",
    "def create_widgets():\n",
    "    global data_source_picker, time_range_picker, event_picker\n",
    "    global event_text_area, threshold_picker, new_time_range_picker\n",
    "    for file in os.listdir(\"../../data\"):\n",
    "            if file.endswith(\".json\"):\n",
    "                data_sources_names.append(file)\n",
    "\n",
    "    data_source_picker = widgets.Dropdown(\n",
    "            options=data_sources_names,\n",
    "            description='Data Source:',\n",
    "            disabled=False,\n",
    "            button_style='' # 'success', 'info', 'warning', 'danger' or ''\n",
    "        )    \n",
    "\n",
    "    time_range_picker = widgets.IntRangeSlider(\n",
    "                value=[1, 2],\n",
    "                min=0,\n",
    "                max=100,\n",
    "                step=1,\n",
    "                description='Control Time:',\n",
    "                disabled=False,\n",
    "                continuous_update=False,\n",
    "                orientation='horizontal',\n",
    "                readout=True,\n",
    "                readout_format='i',\n",
    "                slider_color='white',\n",
    "                color='black'\n",
    "        )\n",
    "    \n",
    "    new_time_range_picker = widgets.IntRangeSlider(\n",
    "                value=[1, 2],\n",
    "                min=0,\n",
    "                max=100,\n",
    "                step=1,\n",
    "                description='Test Time:',\n",
    "                disabled=False,\n",
    "                continuous_update=False,\n",
    "                orientation='horizontal',\n",
    "                readout=True,\n",
    "                readout_format='i',\n",
    "                slider_color='white',\n",
    "                color='black'\n",
    "        )\n",
    "    \n",
    "    threshold_picker = widgets.FloatSlider(\n",
    "                value=0.8,\n",
    "                min=0,\n",
    "                max=1,\n",
    "                step=0.1,\n",
    "                description='Threshold:',\n",
    "                disabled=False,\n",
    "                continuous_update=False,\n",
    "                orientation='horizontal',\n",
    "                readout=True,\n",
    "                readout_format='.1f',\n",
    "                slider_color='white',\n",
    "                color='black'\n",
    "        )\n",
    "    \n",
    "    event_picker = widgets.Dropdown(\n",
    "            options=[1,2,3],\n",
    "            description='Event Number:',\n",
    "            disabled=False,\n",
    "            button_style='' # 'success', 'info', 'warning', 'danger' or ''\n",
    "        )\n",
    "    \n",
    "    l = widgets.Layout(height='40px', width='800px')\n",
    "    event_text_area = widgets.Textarea(value='TA: height=40px', layout=l)\n",
    "\n",
    "    \n",
    "def initialize(change):    \n",
    "    # Just to set the widgets\n",
    "    all_events = []\n",
    "    all_events.extend(SplunkFileSource.load_data('../../data/' + data_source_picker.value))    \n",
    "    minutes = 0\n",
    "    for dict in all_events:\n",
    "        if dict.get('cluster_label') == '1':\n",
    "            minutes = minutes + 1\n",
    "\n",
    "    time_range_picker.value = [1,1]\n",
    "    time_range_picker.min = 1\n",
    "    time_range_picker.max = minutes\n",
    "    \n",
    "    #new_time_range_picker.value = [minutes -2, minutes]\n",
    "    new_time_range_picker.value = [1, 1]\n",
    "    new_time_range_picker.min = 1\n",
    "    new_time_range_picker.max = minutes \n",
    "    \n",
    "    change_event_handler(None)\n",
    "    \n",
    "    \n",
    "splunkDataset = SplunkDatasetNew()\n",
    "splunkIntelargs = []\n",
    "\n",
    "def event_picker_change_handler(change):\n",
    "    event_text_area.value = json.dumps(splunkDataset.get_all_events_for_notebook()[event_picker.value])\n",
    "\n",
    "def split(input, length, size):\n",
    "    input.replace('\\n', ' ')\n",
    "    input.replace('\\tat', ' ')\n",
    "    return '<br>'.join([input[start:start + size] for start in range(0, length, size)])\n",
    "\n",
    "def get_tool_tips(all_events):\n",
    "    tooltips = []\n",
    "    for idx, event in enumerate(all_events):\n",
    "        tooltips.append(\n",
    "            split(event[0], min(100, len(event[0])), 100) + '<br> id = ' + str(idx) + '<br> cluster = ' + str(\n",
    "            event[3]))\n",
    "            \n",
    "    return tooltips\n",
    "    \n",
    "# Handle data source change\n",
    "def change_event_handler(change):\n",
    "    global splunkDataset\n",
    "    \n",
    "    control_start = time_range_picker.value[0]\n",
    "    test_start = new_time_range_picker.value[0]\n",
    "\n",
    "    clear_output()\n",
    "\n",
    "    prev_out_file = None\n",
    "    while(control_start <= time_range_picker.value[1] or test_start < new_time_range_picker.value[1]):\n",
    "\n",
    "        del splunkIntelargs[:]\n",
    "        splunkDataset = SplunkDatasetNew() \n",
    "\n",
    "        print(control_start, control_start)\n",
    "        print(test_start, test_start)\n",
    "        splunkDataset.load_from_file('../../data/' + data_source_picker.value,\n",
    "                                     [control_start, control_start],\n",
    "                                     [test_start, test_start], prev_out_file)\n",
    "    \n",
    "        splunkIntelargs.append('--sim_threshold')\n",
    "        splunkIntelargs.append(str(float(threshold_picker.value)))\n",
    "    \n",
    "        print(splunkIntelargs)\n",
    "\n",
    "        splunkIntel = SplunkIntelOptimized(splunkDataset, SplunkIntelOptimized.parse(splunkIntelargs))\n",
    "        splunkDataset = splunkIntel.run()\n",
    "    \n",
    "        file_object  = open(\"result.json\", \"w\")\n",
    "        file_object.write(splunkDataset.get_output_as_json)\n",
    "        file_object.close()\n",
    "        \n",
    "        prev_out_file = './result.json'\n",
    "        \n",
    "        control_start = control_start + 1\n",
    "        test_start = test_start + 1\n",
    "\n",
    "    xy_matrix, tooltips, labels,sizes = splunkDataset.control_scatter_plot()\n",
    "    new_sizes = []\n",
    "    for size in sizes:\n",
    "        new_sizes.append((2 + len(str(size)))**2)\n",
    "        \n",
    "    print(new_sizes)\n",
    "    plot.scatter_plot_groups(xy_matrix, labels, tooltips, ['control', 'test', 'test-anomaly', 'test-unx-freq'], ['blue','green','red', 'orange'])\n",
    "    \n",
    "    #xy_matrix, tooltips, labels, sizes = splunkDataset.count_scatter_plot()\n",
    "    \n",
    "    #new_sizes = []\n",
    "    #for size in sizes:\n",
    "     #   new_sizes.append((3 + len(str(size)))**2)\n",
    "        \n",
    "    #print(new_sizes)    \n",
    "    \n",
    "    #plot.scatter_plot_groups(xy_matrix, labels, tooltips, ['test', 'test-anomaly'], ['green','red'], new_sizes)\n",
    "\n",
    "\n",
    "    #for key,data in splunkDataset.get_anom_clusters().items():\n",
    "     #   for host,anom in data.items():\n",
    "     #       print(host, anom.get('text'))\n",
    "    \n",
    "    xy_matrix, tooltips, labels, clusters = splunkDataset.control_scatter_plot_4d()\n",
    "    plot.scatter_plot_groups_4d(xy_matrix, labels, clusters, tooltips, ['blue','orange','red'])\n",
    "            \n",
    "    event_picker.options = [ x for x in range(len(splunkDataset.get_all_events_for_notebook()))] \n",
    "     \n",
    "\n",
    "create_widgets()\n",
    "\n",
    "#intialize\n",
    "initialize(None)\n",
    "    \n",
    "#setup even handlers    \n",
    "data_source_picker.observe(initialize, names=\"value\")\n",
    "time_range_picker.observe(change_event_handler, names=\"value\")\n",
    "new_time_range_picker.observe(change_event_handler, names=\"value\")\n",
    "event_picker.observe(event_picker_change_handler, names=\"value\")\n",
    "threshold_picker.observe(change_event_handler, names=\"value\")\n",
    "\n",
    "\n",
    "\n",
    "# show widgets\n",
    "display(widgets.HBox([data_source_picker]))\n",
    "display(widgets.HBox([time_range_picker, threshold_picker]))\n",
    "display(widgets.HBox([new_time_range_picker]))\n",
    "display(widgets.HBox([event_picker, event_text_area]))"
   ]
  },
  {
   "cell_type": "code",
   "execution_count": null,
   "metadata": {
    "collapsed": true
   },
   "outputs": [],
   "source": []
  }
 ],
 "metadata": {
  "kernelspec": {
   "display_name": "Python 2",
   "language": "python",
   "name": "python2"
  },
  "language_info": {
   "codemirror_mode": {
    "name": "ipython",
    "version": 2
   },
   "file_extension": ".py",
   "mimetype": "text/x-python",
   "name": "python",
   "nbconvert_exporter": "python",
   "pygments_lexer": "ipython2",
   "version": "2.7.10"
  }
 },
 "nbformat": 4,
 "nbformat_minor": 2
}
