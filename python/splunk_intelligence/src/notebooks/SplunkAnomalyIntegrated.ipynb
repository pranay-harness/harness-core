{
 "cells": [
  {
   "cell_type": "code",
   "execution_count": 1,
   "metadata": {},
   "outputs": [
    {
     "name": "stdout",
     "output_type": "stream",
     "text": [
      "[[u'172.31.15.70 - - [31/May/2017:21:35:12 +0000] \"GET /todolist/health-check HTTP/1.1\" 200 50', -1, u'4', 0], [u'INFO  [2017-05-31 21:35:18,184] com.novemberain.quartz.mongodb.TriggerRunner: Acquired trigger: DEFAULT.qg1NzWlPRhK-6JwXye_1ug', 0, u'29', 1], [u'INFO  [2017-05-31 21:35:18,184] com.novemberain.quartz.mongodb.dao.LocksDao: Inserting lock for trigger DEFAULT.qg1NzWlPRhK-6JwXye_1ug', 1, u'29', 2], [u'INFO  [2017-05-31 21:35:18,183] com.novemberain.quartz.mongodb.dao.TriggerDao: Found 2 triggers which are eligible to be run.', 2, u'29', 3], [u'INFO  [2017-05-31 21:35:18,182] software.wings.service.impl.DelegateServiceImpl: Broadcast new task: 488s8_pYSTO0ok_UqQNgdg', 3, u'13', 4], [u'INFO  [2017-05-31 21:35:18,182] com.novemberain.quartz.mongodb.dao.LocksDao: Trigger lock DEFAULT.vJ3t7B6hTYyugnJ0JifqXA.NON_CLUSTERED removed.', 4, u'23', 5], [u'INFO  [2017-05-31 21:35:18,181] com.novemberain.quartz.mongodb.dao.LocksDao: Removing trigger lock DEFAULT.vJ3t7B6hTYyugnJ0JifqXA.NON_CLUSTERED', 5, u'29', 6], [u'INFO  [2017-05-31 21:35:18,180] org.quartz.plugins.history.LoggingTriggerHistoryPlugin: Trigger DEFAULT.vJ3t7B6hTYyugnJ0JifqXA completed firing job vJ3t7B6hTYyugnJ0JifqXA.ARTIFACT_STREAM_CRON_GROUP at  21:35:18 05/31/2017 with resulting trigger instruction code: DO NOTHING', 6, u'20', 7], [u'INFO  [2017-05-31 21:35:18,180] org.quartz.plugins.history.LoggingJobHistoryPlugin: Job vJ3t7B6hTYyugnJ0JifqXA.ARTIFACT_STREAM_CRON_GROUP execution complete at  21:35:18 05/31/2017 and reports: null', 7, u'20', 8], [u'INFO  [2017-05-31 21:35:18,180] org.quartz.plugins.history.LoggingJobHistoryPlugin: Job vJ3t7B6hTYyugnJ0JifqXA.ARTIFACT_STREAM_CRON_GROUP fired (by trigger DEFAULT.vJ3t7B6hTYyugnJ0JifqXA) at:  21:35:18 05/31/2017', 8, u'20', 9], [u'INFO  [2017-05-31 21:35:18,179] org.quartz.plugins.history.LoggingTriggerHistoryPlugin: Trigger DEFAULT.vJ3t7B6hTYyugnJ0JifqXA fired job vJ3t7B6hTYyugnJ0JifqXA.ARTIFACT_STREAM_CRON_GROUP at:  21:35:18 05/31/2017', 9, u'13', 10], [u\"INFO  [2017-05-31 21:35:18,038] software.wings.service.impl.DelegateServiceImpl: registering delegate: Delegate{accountId='kmpySmUISimoRrJL6NL73w', status=ENABLED, connected=true, ip='172.31.51.78', hostName='ip-172-31-51-78', lastHeartBeat=1496266518037, version='1.0.10', supportedTaskTypes=[HTTP, SPLUNK, APP_DYNAMICS, JENKINS, JENKINS_COLLECTION, BAMBOO_COLLECTION, COMMAND, JENKINS_GET_BUILDS, JENKINS_GET_JOBS, JENKINS_GET_ARTIFACT_PATHS, JENKINS_LAST_SUCCESSFUL_BUILD, JENKINS_GET_PLANS, JENKINS_VALIDATE_ARTIFACT_SERVER, BAMBOO_GET_BUILDS, BAMBOO_GET_JOBS, BAMBOO_GET_ARTIFACT_PATHS, BAMBOO_LAST_SUCCESSFUL_BUILD, BAMBOO_GET_PLANS, BAMBOO_VALIDATE_ARTIFACT_SERVER, DOCKER_GET_BUILDS, DOCKER_VALIDATE_ARTIFACT_SERVER, DOCKER_VALIDATE_ARTIFACT_STREAM, NEXUS_GET_JOBS, NEXUS_GET_PLANS, NEXUS_GET_ARTIFACT_PATHS, NEXUS_GET_GROUP_IDS, NEXUS_GET_ARTIFACT_NAMES, NEXUS_GET_BUILDS, NEXUS_LAST_SUCCESSFUL_BUILD, NEXUS_COLLECTION, NEXUS_VALIDATE_ARTIFACT_SERVER, APPDYNAMICS_CONFIGURATION_VALIDATE_TASK, APPDYNAMICS_GET_BUSINESS_TRANSACTION_TASK, APPDYNAMICS_GET_APP_TASK, APPDYNAMICS_GET_TIER_TASK], doUpgrade=false, upgradeScript='null'}\", 10, u'2', 11], [u'INFO  [2017-05-31 21:35:17,188] org.quartz.plugins.history.LoggingTriggerHistoryPlugin: Trigger DEFAULT.84DUAsWyStm1sg5ZXlMung completed firing job 84DUAsWyStm1sg5ZXlMung.ARTIFACT_STREAM_CRON_GROUP at  21:35:17 05/31/2017 with resulting trigger instruction code: DO NOTHING', 11, u'3', 12], [u'INFO  [2017-05-31 21:35:17,188] org.quartz.plugins.history.LoggingJobHistoryPlugin: Job 84DUAsWyStm1sg5ZXlMung.ARTIFACT_STREAM_CRON_GROUP execution complete at  21:35:17 05/31/2017 and reports: null', 12, u'3', 13], [u'INFO  [2017-05-31 21:35:17,188] org.quartz.plugins.history.LoggingJobHistoryPlugin: Job 84DUAsWyStm1sg5ZXlMung.ARTIFACT_STREAM_CRON_GROUP fired (by trigger DEFAULT.84DUAsWyStm1sg5ZXlMung) at:  21:35:17 05/31/2017', 13, u'3', 14], [u'INFO  [2017-05-31 21:35:17,188] org.quartz.plugins.history.LoggingTriggerHistoryPlugin: Trigger DEFAULT.84DUAsWyStm1sg5ZXlMung fired job 84DUAsWyStm1sg5ZXlMung.ARTIFACT_STREAM_CRON_GROUP at:  21:35:17 05/31/2017', 14, u'3', 15], [u'INFO  [2017-05-31 21:35:13,679] org.quartz.plugins.history.LoggingTriggerHistoryPlugin: Trigger DEFAULT.UBBWzVkhQfKVEgzyBBhpeg fired job UBBWzVkhQfKVEgzyBBhpeg.SM_CLEANUP_CRON_GROUP at:  21:35:13 05/31/2017', 15, u'7', 16], [u'INFO  [2017-05-31 21:35:08,731] com.novemberain.quartz.mongodb.dao.LocksDao: Trigger lock DEFAULT.D3H_QL6_Riqw6hHqkzR--A.NON_CLUSTERED removed.', 16, u'6', 17], [u'INFO  [2017-05-31 21:35:08,729] org.quartz.plugins.history.LoggingTriggerHistoryPlugin: Trigger DEFAULT.D3H_QL6_Riqw6hHqkzR--A completed firing job D3H_QL6_Riqw6hHqkzR--A.ARTIFACT_STREAM_CRON_GROUP at  21:35:08 05/31/2017 with resulting trigger instruction code: DO NOTHING', 17, u'1', 18], [u'INFO  [2017-05-31 21:35:08,729] org.quartz.plugins.history.LoggingJobHistoryPlugin: Job D3H_QL6_Riqw6hHqkzR--A.ARTIFACT_STREAM_CRON_GROUP execution complete at  21:35:08 05/31/2017 and reports: null', 18, u'6', 19], [u'INFO  [2017-05-31 21:35:08,729] org.quartz.plugins.history.LoggingJobHistoryPlugin: Job D3H_QL6_Riqw6hHqkzR--A.ARTIFACT_STREAM_CRON_GROUP fired (by trigger DEFAULT.D3H_QL6_Riqw6hHqkzR--A) at:  21:35:08 05/31/2017', 19, u'1', 20], [u'INFO  [2017-05-31 21:35:08,729] org.quartz.plugins.history.LoggingTriggerHistoryPlugin: Trigger DEFAULT.D3H_QL6_Riqw6hHqkzR--A fired job D3H_QL6_Riqw6hHqkzR--A.ARTIFACT_STREAM_CRON_GROUP at:  21:35:08 05/31/2017', 20, u'1', 21], [u'INFO  [2017-05-31 21:35:08,340] org.quartz.plugins.history.LoggingTriggerHistoryPlugin: Trigger DEFAULT.AuG03-OeTsa1gx9m868dNw completed firing job AuG03-OeTsa1gx9m868dNw.SM_CLEANUP_CRON_GROUP at  21:35:08 05/31/2017 with resulting trigger instruction code: DO NOTHING', 21, u'5', 22], [u'INFO  [2017-05-31 21:35:08,338] org.quartz.plugins.history.LoggingJobHistoryPlugin: Job AuG03-OeTsa1gx9m868dNw.SM_CLEANUP_CRON_GROUP fired (by trigger DEFAULT.AuG03-OeTsa1gx9m868dNw) at:  21:35:08 05/31/2017', 22, u'1', 23], [u'INFO  [2017-05-31 21:35:08,338] org.quartz.plugins.history.LoggingTriggerHistoryPlugin: Trigger DEFAULT.AuG03-OeTsa1gx9m868dNw fired job AuG03-OeTsa1gx9m868dNw.SM_CLEANUP_CRON_GROUP at:  21:35:08 05/31/2017', 23, u'1', 24], [u'INFO  [2017-05-31 21:35:01,412] org.quartz.plugins.history.LoggingJobHistoryPlugin: Job K0vzHq-KTsqlPivBpy5SZQ.SM_CLEANUP_CRON_GROUP fired (by trigger DEFAULT.K0vzHq-KTsqlPivBpy5SZQ) at:  21:35:01 05/31/2017', 24, u'1', 25], [u'INFO  [2017-05-31 21:35:01,412] org.quartz.plugins.history.LoggingTriggerHistoryPlugin: Trigger DEFAULT.K0vzHq-KTsqlPivBpy5SZQ fired job K0vzHq-KTsqlPivBpy5SZQ.SM_CLEANUP_CRON_GROUP at:  21:35:01 05/31/2017', 25, u'1', 26], [u'INFO  [2017-05-31 21:34:58,811] org.quartz.plugins.history.LoggingJobHistoryPlugin: Job rDZXPoicQ-y9EHe9vv_HyA.SM_CLEANUP_CRON_GROUP fired (by trigger DEFAULT.rDZXPoicQ-y9EHe9vv_HyA) at:  21:34:58 05/31/2017', 26, u'1', 27], [u'INFO  [2017-05-31 21:34:58,811] org.quartz.plugins.history.LoggingTriggerHistoryPlugin: Trigger DEFAULT.rDZXPoicQ-y9EHe9vv_HyA fired job rDZXPoicQ-y9EHe9vv_HyA.SM_CLEANUP_CRON_GROUP at:  21:34:58 05/31/2017', 27, u'1', 28], [u'WARN  [2017-05-31 21:34:54,590] software.wings.waitnotify.Notifier: No entry in the waitQueue found for the correlationIds: [kaG4hDwsRKGmNSEMH3MMgQ, 0UrlPx9sQeKA8pxVYP-AZA, hsbXDjzWTCWFfojREmmvSQ, hSp55cwERwmz5ujaZsfwHQ, nJ3D48oOR-23j2MNYg1jHg, EoXOwhUZSjCgev5cHT6kTA, PYIm79AoRoif3R54ioxAGQ, WH9DCdnxTt62b2MxgnBcqg, IYpXXgyJRGaKsXwF0n4a2A, hxzQPR1EQ5uIJW8LA1eDdQ, UmxbtjIWRuqo_aPJ0P4LDQ, 4xrEUEZ2SgyjypHGYbDRWQ, n01fA-jeSmaT3sbKtZeJzQ, x6fH5SIwQFq0YvC4p7q5_w, 7w0hvNANSW2AggOMn9w2VA, uM5q5HwSRUupJGlEd6AeTQ, kdS593IUSue4F68ne-P9ag, Ielw1FmMTRidCW6x4d32Vw, f67p97lWQ3CBqDhqCdYeVw, MMq8fSgVRgOls-jD--pWdA, e0H1_6lfRk2_HJUrBJrBtg, tywf4xRhTemM7wc29BcaOw, Q4T-ZCukTmGmISoz-AQJLQ, 2zzAawdaTiumWRfU5PHcBQ, EZSU2TmYRYegZ0YA_2WVnQ, 8xEYjmenTmi-eu8nmHC6rQ, 0Mws3BToTj64MPAxHShjBw, zy4600e0QZ6P6QIv21PIkg, 32Om2QDqSIqvaQCAJYcHfQ, UYd9BQztRwGwegq1rFWKjw, R_Pzz35_Sw6sxpXUQGGOGw, zN8PfdYYQneISSbW9gojhg, YDwjc5tQS6ynOvWaJgbwmg, Ez-HkRjITUO2aeRxfOABGQ, gyoKLsf0STCB-fTUxBDf-g, 0fKMcZEYSJmWhykY71FH4g, tvmhP5EPTbKRmdWfdbKihA, 6KUSdPkMTv-Jkk9knpVfZw, rYYvZ2pSSVqYvjxDYltYlQ, 619y-eDmTh2vouJg-2Zcqw, cekAYtN_RUihqwIqKFji-Q, uZNRwUDYS2CALpi-9kfO0A, nvtumfRmTMe0eqVyDmzrCw, jDV9pZg-SJC9YLYdr5UTjQ, 5lYvP5poQiiFFWkgNzgYqw, Ip_ww7dbTpWFI8Hfv9tFEg, BoV3_tYiSH-zku_-04M1OQ, 2KWgmWcfRmu0rwSwKbNsgQ, 5DFyCt-oQ1aXrADndMxZpQ, mieI53pdQN2psCNNrGtnFw] skipping ...', 28, u'2', 29], [u'INFO  [2017-05-31 21:34:40,039] org.quartz.plugins.history.LoggingJobHistoryPlugin: Job SFmGy4xrRpad9Mql-fTqlg.SM_CLEANUP_CRON_GROUP fired (by trigger DEFAULT.SFmGy4xrRpad9Mql-fTqlg) at:  21:34:40 05/31/2017', 29, u'1', 30], [u'INFO  [2017-05-31 21:34:40,039] org.quartz.plugins.history.LoggingTriggerHistoryPlugin: Trigger DEFAULT.SFmGy4xrRpad9Mql-fTqlg fired job SFmGy4xrRpad9Mql-fTqlg.SM_CLEANUP_CRON_GROUP at:  21:34:40 05/31/2017', 30, u'1', 31], [u'INFO  [2017-05-31 21:34:31,923] org.quartz.plugins.history.LoggingJobHistoryPlugin: Job cMr2y3_5Q-qhVZHKSgtAww.SM_CLEANUP_CRON_GROUP fired (by trigger DEFAULT.cMr2y3_5Q-qhVZHKSgtAww) at:  21:34:31 05/31/2017', 31, u'1', 32], [u'INFO  [2017-05-31 21:34:31,923] org.quartz.plugins.history.LoggingTriggerHistoryPlugin: Trigger DEFAULT.cMr2y3_5Q-qhVZHKSgtAww fired job cMr2y3_5Q-qhVZHKSgtAww.SM_CLEANUP_CRON_GROUP at:  21:34:31 05/31/2017', 32, u'1', 33], [u'INFO  [2017-05-31 21:34:29,942] software.wings.app.DelegateQueueTask: Broadcast queued sync task [ldgb6-rBSbmK1Gdb5FSDLQ, null, QUEUED]', 33, u'4', 34], [u'INFO  [2017-05-31 21:34:29,941] software.wings.app.DelegateQueueTask: Broadcast queued sync task [oxyvKQ8lQR24IkQN778Ljw, null, QUEUED]', 34, u'13', 35], [u'INFO  [2017-05-31 21:34:29,941] software.wings.app.DelegateQueueTask: Broadcast queued sync task [ZdZ-c4CRQWGuufUP-SjpUA, null, QUEUED]', 35, u'2', 36], [u'INFO  [2017-05-31 21:34:29,939] software.wings.app.DelegateQueueTask: Broadcast queued sync task [96FLHYp5TsaWQN6WEHCpkg, null, QUEUED]', 36, u'6', 37], [u'172.31.15.70 - - [31/May/2017:21:36:12 +0000] \"GET /todolist/health-check HTTP/1.1\" 200 50', 37, u'4', 38], [u'2017-05-31 21:36:19:690 [AsyncAppender-Worker-async-syslog-accesslogs-appender] com.cloudbees.syslog.sender.TcpSyslogMessageSender - INFO: InetAddress of the Syslog Server have changed, create a new connection. Before=syslog-a.logdna.com/40.71.95.146, new=syslog-a.logdna.com/40.114.45.243', 38, u'1', 39], [u'2017-05-31 21:36:19:690 [AsyncAppender-Worker-async-rsyslog-tcp-ssl-appender] com.cloudbees.syslog.sender.TcpSyslogMessageSender - INFO: InetAddress of the Syslog Server have changed, create a new connection. Before=syslog-a.logdna.com/40.71.95.146, new=syslog-a.logdna.com/40.114.45.243', 39, u'1', 40], [u\"INFO  [2017-05-31 21:36:19,600] software.wings.service.impl.DelegateServiceImpl: registering delegate: Delegate{accountId='kmpySmUISimoRrJL6NL73w', status=ENABLED, connected=true, ip='172.31.51.78', hostName='ip-172-31-51-78', lastHeartBeat=1496266578037, version='1.0.10', supportedTaskTypes=[HTTP, SPLUNK, APP_DYNAMICS, JENKINS, JENKINS_COLLECTION, BAMBOO_COLLECTION, COMMAND, JENKINS_GET_BUILDS, JENKINS_GET_JOBS, JENKINS_GET_ARTIFACT_PATHS, JENKINS_LAST_SUCCESSFUL_BUILD, JENKINS_GET_PLANS, JENKINS_VALIDATE_ARTIFACT_SERVER, BAMBOO_GET_BUILDS, BAMBOO_GET_JOBS, BAMBOO_GET_ARTIFACT_PATHS, BAMBOO_LAST_SUCCESSFUL_BUILD, BAMBOO_GET_PLANS, BAMBOO_VALIDATE_ARTIFACT_SERVER, DOCKER_GET_BUILDS, DOCKER_VALIDATE_ARTIFACT_SERVER, DOCKER_VALIDATE_ARTIFACT_STREAM, NEXUS_GET_JOBS, NEXUS_GET_PLANS, NEXUS_GET_ARTIFACT_PATHS, NEXUS_GET_GROUP_IDS, NEXUS_GET_ARTIFACT_NAMES, NEXUS_GET_BUILDS, NEXUS_LAST_SUCCESSFUL_BUILD, NEXUS_COLLECTION, NEXUS_VALIDATE_ARTIFACT_SERVER, APPDYNAMICS_CONFIGURATION_VALIDATE_TASK, APPDYNAMICS_GET_BUSINESS_TRANSACTION_TASK, APPDYNAMICS_GET_APP_TASK, APPDYNAMICS_GET_TIER_TASK], doUpgrade=false, upgradeScript='null'}\", 40, u'1', 41], [u'INFO  [2017-05-31 21:36:18,184] com.novemberain.quartz.mongodb.TriggerRunner: Acquired trigger: DEFAULT.qg1NzWlPRhK-6JwXye_1ug', 41, u'29', 42], [u'INFO  [2017-05-31 21:36:18,184] com.novemberain.quartz.mongodb.dao.LocksDao: Inserting lock for trigger DEFAULT.qg1NzWlPRhK-6JwXye_1ug', 42, u'29', 43], [u'INFO  [2017-05-31 21:36:18,182] com.novemberain.quartz.mongodb.dao.TriggerDao: Found 2 triggers which are eligible to be run.', 43, u'29', 44], [u'INFO  [2017-05-31 21:36:18,182] software.wings.service.impl.DelegateServiceImpl: Broadcast new task: Wa9gNxFqSUKE9h8HqI0VNg', 44, u'13', 45], [u'INFO  [2017-05-31 21:36:18,181] com.novemberain.quartz.mongodb.dao.LocksDao: Trigger lock DEFAULT.vJ3t7B6hTYyugnJ0JifqXA.NON_CLUSTERED removed.', 45, u'23', 46], [u'INFO  [2017-05-31 21:36:18,181] com.novemberain.quartz.mongodb.dao.LocksDao: Removing trigger lock DEFAULT.vJ3t7B6hTYyugnJ0JifqXA.NON_CLUSTERED', 46, u'29', 47], [u'INFO  [2017-05-31 21:36:18,179] org.quartz.plugins.history.LoggingTriggerHistoryPlugin: Trigger DEFAULT.vJ3t7B6hTYyugnJ0JifqXA completed firing job vJ3t7B6hTYyugnJ0JifqXA.ARTIFACT_STREAM_CRON_GROUP at  21:36:18 05/31/2017 with resulting trigger instruction code: DO NOTHING', 47, u'20', 48], [u'INFO  [2017-05-31 21:36:18,179] org.quartz.plugins.history.LoggingJobHistoryPlugin: Job vJ3t7B6hTYyugnJ0JifqXA.ARTIFACT_STREAM_CRON_GROUP execution complete at  21:36:18 05/31/2017 and reports: null', 48, u'20', 49], [u'INFO  [2017-05-31 21:36:18,179] org.quartz.plugins.history.LoggingJobHistoryPlugin: Job vJ3t7B6hTYyugnJ0JifqXA.ARTIFACT_STREAM_CRON_GROUP fired (by trigger DEFAULT.vJ3t7B6hTYyugnJ0JifqXA) at:  21:36:18 05/31/2017', 49, u'20', 50], [u'INFO  [2017-05-31 21:36:18,179] org.quartz.plugins.history.LoggingTriggerHistoryPlugin: Trigger DEFAULT.vJ3t7B6hTYyugnJ0JifqXA fired job vJ3t7B6hTYyugnJ0JifqXA.ARTIFACT_STREAM_CRON_GROUP at:  21:36:18 05/31/2017', 50, u'13', 51], [u'INFO  [2017-05-31 21:36:17,188] org.quartz.plugins.history.LoggingTriggerHistoryPlugin: Trigger DEFAULT.84DUAsWyStm1sg5ZXlMung completed firing job 84DUAsWyStm1sg5ZXlMung.ARTIFACT_STREAM_CRON_GROUP at  21:36:17 05/31/2017 with resulting trigger instruction code: DO NOTHING', 51, u'3', 52], [u'INFO  [2017-05-31 21:36:17,188] org.quartz.plugins.history.LoggingJobHistoryPlugin: Job 84DUAsWyStm1sg5ZXlMung.ARTIFACT_STREAM_CRON_GROUP execution complete at  21:36:17 05/31/2017 and reports: null', 52, u'3', 53], [u'INFO  [2017-05-31 21:36:17,188] org.quartz.plugins.history.LoggingJobHistoryPlugin: Job 84DUAsWyStm1sg5ZXlMung.ARTIFACT_STREAM_CRON_GROUP fired (by trigger DEFAULT.84DUAsWyStm1sg5ZXlMung) at:  21:36:17 05/31/2017', 53, u'3', 54], [u'INFO  [2017-05-31 21:36:17,188] org.quartz.plugins.history.LoggingTriggerHistoryPlugin: Trigger DEFAULT.84DUAsWyStm1sg5ZXlMung fired job 84DUAsWyStm1sg5ZXlMung.ARTIFACT_STREAM_CRON_GROUP at:  21:36:17 05/31/2017', 54, u'3', 55], [u'INFO  [2017-05-31 21:36:13,678] org.quartz.plugins.history.LoggingTriggerHistoryPlugin: Trigger DEFAULT.UBBWzVkhQfKVEgzyBBhpeg fired job UBBWzVkhQfKVEgzyBBhpeg.SM_CLEANUP_CRON_GROUP at:  21:36:13 05/31/2017', 55, u'7', 56], [u'INFO  [2017-05-31 21:36:08,731] com.novemberain.quartz.mongodb.dao.LocksDao: Trigger lock DEFAULT.D3H_QL6_Riqw6hHqkzR--A.NON_CLUSTERED removed.', 56, u'6', 57], [u'INFO  [2017-05-31 21:36:08,729] org.quartz.plugins.history.LoggingTriggerHistoryPlugin: Trigger DEFAULT.D3H_QL6_Riqw6hHqkzR--A completed firing job D3H_QL6_Riqw6hHqkzR--A.ARTIFACT_STREAM_CRON_GROUP at  21:36:08 05/31/2017 with resulting trigger instruction code: DO NOTHING', 57, u'1', 58], [u'INFO  [2017-05-31 21:36:08,729] org.quartz.plugins.history.LoggingJobHistoryPlugin: Job D3H_QL6_Riqw6hHqkzR--A.ARTIFACT_STREAM_CRON_GROUP execution complete at  21:36:08 05/31/2017 and reports: null', 58, u'6', 59], [u'INFO  [2017-05-31 21:36:08,729] org.quartz.plugins.history.LoggingJobHistoryPlugin: Job D3H_QL6_Riqw6hHqkzR--A.ARTIFACT_STREAM_CRON_GROUP fired (by trigger DEFAULT.D3H_QL6_Riqw6hHqkzR--A) at:  21:36:08 05/31/2017', 59, u'1', 60], [u'INFO  [2017-05-31 21:36:08,729] org.quartz.plugins.history.LoggingTriggerHistoryPlugin: Trigger DEFAULT.D3H_QL6_Riqw6hHqkzR--A fired job D3H_QL6_Riqw6hHqkzR--A.ARTIFACT_STREAM_CRON_GROUP at:  21:36:08 05/31/2017', 60, u'1', 61], [u'INFO  [2017-05-31 21:36:08,340] org.quartz.plugins.history.LoggingTriggerHistoryPlugin: Trigger DEFAULT.AuG03-OeTsa1gx9m868dNw completed firing job AuG03-OeTsa1gx9m868dNw.SM_CLEANUP_CRON_GROUP at  21:36:08 05/31/2017 with resulting trigger instruction code: DO NOTHING', 61, u'5', 62], [u'INFO  [2017-05-31 21:36:08,337] org.quartz.plugins.history.LoggingJobHistoryPlugin: Job AuG03-OeTsa1gx9m868dNw.SM_CLEANUP_CRON_GROUP fired (by trigger DEFAULT.AuG03-OeTsa1gx9m868dNw) at:  21:36:08 05/31/2017', 62, u'1', 63], [u'INFO  [2017-05-31 21:36:08,337] org.quartz.plugins.history.LoggingTriggerHistoryPlugin: Trigger DEFAULT.AuG03-OeTsa1gx9m868dNw fired job AuG03-OeTsa1gx9m868dNw.SM_CLEANUP_CRON_GROUP at:  21:36:08 05/31/2017', 63, u'1', 64], [u'INFO  [2017-05-31 21:36:01,412] org.quartz.plugins.history.LoggingJobHistoryPlugin: Job K0vzHq-KTsqlPivBpy5SZQ.SM_CLEANUP_CRON_GROUP fired (by trigger DEFAULT.K0vzHq-KTsqlPivBpy5SZQ) at:  21:36:01 05/31/2017', 64, u'1', 65], [u'INFO  [2017-05-31 21:36:01,412] org.quartz.plugins.history.LoggingTriggerHistoryPlugin: Trigger DEFAULT.K0vzHq-KTsqlPivBpy5SZQ fired job K0vzHq-KTsqlPivBpy5SZQ.SM_CLEANUP_CRON_GROUP at:  21:36:01 05/31/2017', 65, u'1', 66], [u'INFO  [2017-05-31 21:35:58,811] org.quartz.plugins.history.LoggingJobHistoryPlugin: Job rDZXPoicQ-y9EHe9vv_HyA.SM_CLEANUP_CRON_GROUP fired (by trigger DEFAULT.rDZXPoicQ-y9EHe9vv_HyA) at:  21:35:58 05/31/2017', 66, u'1', 67], [u'INFO  [2017-05-31 21:35:58,811] org.quartz.plugins.history.LoggingTriggerHistoryPlugin: Trigger DEFAULT.rDZXPoicQ-y9EHe9vv_HyA fired job rDZXPoicQ-y9EHe9vv_HyA.SM_CLEANUP_CRON_GROUP at:  21:35:58 05/31/2017', 67, u'1', 68], [u'WARN  [2017-05-31 21:35:54,623] software.wings.waitnotify.Notifier: No entry in the waitQueue found for the correlationIds: [kaG4hDwsRKGmNSEMH3MMgQ, 0UrlPx9sQeKA8pxVYP-AZA, hsbXDjzWTCWFfojREmmvSQ, hSp55cwERwmz5ujaZsfwHQ, nJ3D48oOR-23j2MNYg1jHg, EoXOwhUZSjCgev5cHT6kTA, PYIm79AoRoif3R54ioxAGQ, WH9DCdnxTt62b2MxgnBcqg, IYpXXgyJRGaKsXwF0n4a2A, hxzQPR1EQ5uIJW8LA1eDdQ, UmxbtjIWRuqo_aPJ0P4LDQ, 4xrEUEZ2SgyjypHGYbDRWQ, n01fA-jeSmaT3sbKtZeJzQ, x6fH5SIwQFq0YvC4p7q5_w, 7w0hvNANSW2AggOMn9w2VA, uM5q5HwSRUupJGlEd6AeTQ, kdS593IUSue4F68ne-P9ag, Ielw1FmMTRidCW6x4d32Vw, f67p97lWQ3CBqDhqCdYeVw, MMq8fSgVRgOls-jD--pWdA, e0H1_6lfRk2_HJUrBJrBtg, tywf4xRhTemM7wc29BcaOw, Q4T-ZCukTmGmISoz-AQJLQ, 2zzAawdaTiumWRfU5PHcBQ, EZSU2TmYRYegZ0YA_2WVnQ, 8xEYjmenTmi-eu8nmHC6rQ, 0Mws3BToTj64MPAxHShjBw, zy4600e0QZ6P6QIv21PIkg, 32Om2QDqSIqvaQCAJYcHfQ, UYd9BQztRwGwegq1rFWKjw, R_Pzz35_Sw6sxpXUQGGOGw, zN8PfdYYQneISSbW9gojhg, YDwjc5tQS6ynOvWaJgbwmg, Ez-HkRjITUO2aeRxfOABGQ, gyoKLsf0STCB-fTUxBDf-g, 0fKMcZEYSJmWhykY71FH4g, tvmhP5EPTbKRmdWfdbKihA, 6KUSdPkMTv-Jkk9knpVfZw, rYYvZ2pSSVqYvjxDYltYlQ, 619y-eDmTh2vouJg-2Zcqw, cekAYtN_RUihqwIqKFji-Q, uZNRwUDYS2CALpi-9kfO0A, nvtumfRmTMe0eqVyDmzrCw, jDV9pZg-SJC9YLYdr5UTjQ, 5lYvP5poQiiFFWkgNzgYqw, Ip_ww7dbTpWFI8Hfv9tFEg, BoV3_tYiSH-zku_-04M1OQ, 2KWgmWcfRmu0rwSwKbNsgQ, 5DFyCt-oQ1aXrADndMxZpQ, mieI53pdQN2psCNNrGtnFw] skipping ...', 68, u'2', 69], [u'INFO  [2017-05-31 21:35:40,040] org.quartz.plugins.history.LoggingJobHistoryPlugin: Job SFmGy4xrRpad9Mql-fTqlg.SM_CLEANUP_CRON_GROUP fired (by trigger DEFAULT.SFmGy4xrRpad9Mql-fTqlg) at:  21:35:40 05/31/2017', 69, u'1', 70], [u'INFO  [2017-05-31 21:35:40,040] org.quartz.plugins.history.LoggingTriggerHistoryPlugin: Trigger DEFAULT.SFmGy4xrRpad9Mql-fTqlg fired job SFmGy4xrRpad9Mql-fTqlg.SM_CLEANUP_CRON_GROUP at:  21:35:40 05/31/2017', 70, u'1', 71], [u'INFO  [2017-05-31 21:35:31,923] org.quartz.plugins.history.LoggingJobHistoryPlugin: Job cMr2y3_5Q-qhVZHKSgtAww.SM_CLEANUP_CRON_GROUP fired (by trigger DEFAULT.cMr2y3_5Q-qhVZHKSgtAww) at:  21:35:31 05/31/2017', 71, u'1', 72], [u'INFO  [2017-05-31 21:35:31,923] org.quartz.plugins.history.LoggingTriggerHistoryPlugin: Trigger DEFAULT.cMr2y3_5Q-qhVZHKSgtAww fired job cMr2y3_5Q-qhVZHKSgtAww.SM_CLEANUP_CRON_GROUP at:  21:35:31 05/31/2017', 72, u'1', 73]]\n",
      "['--sim_threshold', '0.5']\n"
     ]
    },
    {
     "name": "stderr",
     "output_type": "stream",
     "text": [
      "/Users/sriram_parthasarathy/wings/python/splunk_intelligence/.pyenv/lib/python2.7/site-packages/sklearn/utils/validation.py:429: DataConversionWarning:\n",
      "\n",
      "Data with input dtype object was converted to float64 by StandardScaler.\n",
      "\n"
     ]
    },
    {
     "data": {
      "application/vnd.plotly.v1+json": {
       "data": [
        {
         "mode": "markers",
         "text": [
          "172.31.15.70 - - [31/May/2017:21:35:12 +0000] \"GET /todolist/health-check HTTP/1.1\" 200 50<br> id = -1",
          "INFO  [2017-05-31 21:35:18,184] com.novemberain.quartz.mongodb.TriggerRunner: Acquired trigger: DEFA<br> id = 0",
          "INFO  [2017-05-31 21:35:18,184] com.novemberain.quartz.mongodb.dao.LocksDao: Inserting lock for trig<br> id = 1",
          "INFO  [2017-05-31 21:35:18,183] com.novemberain.quartz.mongodb.dao.TriggerDao: Found 2 triggers whic<br> id = 2",
          "INFO  [2017-05-31 21:35:18,182] software.wings.service.impl.DelegateServiceImpl: Broadcast new task:<br> id = 3",
          "INFO  [2017-05-31 21:35:18,182] com.novemberain.quartz.mongodb.dao.LocksDao: Trigger lock DEFAULT.vJ<br> id = 4",
          "INFO  [2017-05-31 21:35:18,181] com.novemberain.quartz.mongodb.dao.LocksDao: Removing trigger lock D<br> id = 5",
          "INFO  [2017-05-31 21:35:18,180] org.quartz.plugins.history.LoggingTriggerHistoryPlugin: Trigger DEFA<br> id = 6",
          "INFO  [2017-05-31 21:35:18,180] org.quartz.plugins.history.LoggingJobHistoryPlugin: Job vJ3t7B6hTYyu<br> id = 7",
          "INFO  [2017-05-31 21:35:18,180] org.quartz.plugins.history.LoggingJobHistoryPlugin: Job vJ3t7B6hTYyu<br> id = 8",
          "INFO  [2017-05-31 21:35:18,179] org.quartz.plugins.history.LoggingTriggerHistoryPlugin: Trigger DEFA<br> id = 9",
          "INFO  [2017-05-31 21:35:18,038] software.wings.service.impl.DelegateServiceImpl: registering delegat<br> id = 10",
          "INFO  [2017-05-31 21:35:17,188] org.quartz.plugins.history.LoggingTriggerHistoryPlugin: Trigger DEFA<br> id = 11",
          "INFO  [2017-05-31 21:35:17,188] org.quartz.plugins.history.LoggingJobHistoryPlugin: Job 84DUAsWyStm1<br> id = 12",
          "INFO  [2017-05-31 21:35:17,188] org.quartz.plugins.history.LoggingJobHistoryPlugin: Job 84DUAsWyStm1<br> id = 13",
          "INFO  [2017-05-31 21:35:17,188] org.quartz.plugins.history.LoggingTriggerHistoryPlugin: Trigger DEFA<br> id = 14",
          "INFO  [2017-05-31 21:35:13,679] org.quartz.plugins.history.LoggingTriggerHistoryPlugin: Trigger DEFA<br> id = 15",
          "INFO  [2017-05-31 21:35:08,731] com.novemberain.quartz.mongodb.dao.LocksDao: Trigger lock DEFAULT.D3<br> id = 16",
          "INFO  [2017-05-31 21:35:08,729] org.quartz.plugins.history.LoggingTriggerHistoryPlugin: Trigger DEFA<br> id = 17",
          "INFO  [2017-05-31 21:35:08,729] org.quartz.plugins.history.LoggingJobHistoryPlugin: Job D3H_QL6_Riqw<br> id = 18",
          "INFO  [2017-05-31 21:35:08,729] org.quartz.plugins.history.LoggingJobHistoryPlugin: Job D3H_QL6_Riqw<br> id = 19",
          "INFO  [2017-05-31 21:35:08,729] org.quartz.plugins.history.LoggingTriggerHistoryPlugin: Trigger DEFA<br> id = 20",
          "INFO  [2017-05-31 21:35:08,340] org.quartz.plugins.history.LoggingTriggerHistoryPlugin: Trigger DEFA<br> id = 21",
          "INFO  [2017-05-31 21:35:08,338] org.quartz.plugins.history.LoggingJobHistoryPlugin: Job AuG03-OeTsa1<br> id = 22",
          "INFO  [2017-05-31 21:35:08,338] org.quartz.plugins.history.LoggingTriggerHistoryPlugin: Trigger DEFA<br> id = 23",
          "INFO  [2017-05-31 21:35:01,412] org.quartz.plugins.history.LoggingJobHistoryPlugin: Job K0vzHq-KTsql<br> id = 24",
          "INFO  [2017-05-31 21:35:01,412] org.quartz.plugins.history.LoggingTriggerHistoryPlugin: Trigger DEFA<br> id = 25",
          "INFO  [2017-05-31 21:34:58,811] org.quartz.plugins.history.LoggingJobHistoryPlugin: Job rDZXPoicQ-y9<br> id = 26",
          "INFO  [2017-05-31 21:34:58,811] org.quartz.plugins.history.LoggingTriggerHistoryPlugin: Trigger DEFA<br> id = 27",
          "WARN  [2017-05-31 21:34:54,590] software.wings.waitnotify.Notifier: No entry in the waitQueue found <br> id = 28",
          "INFO  [2017-05-31 21:34:40,039] org.quartz.plugins.history.LoggingJobHistoryPlugin: Job SFmGy4xrRpad<br> id = 29",
          "INFO  [2017-05-31 21:34:40,039] org.quartz.plugins.history.LoggingTriggerHistoryPlugin: Trigger DEFA<br> id = 30",
          "INFO  [2017-05-31 21:34:31,923] org.quartz.plugins.history.LoggingJobHistoryPlugin: Job cMr2y3_5Q-qh<br> id = 31",
          "INFO  [2017-05-31 21:34:31,923] org.quartz.plugins.history.LoggingTriggerHistoryPlugin: Trigger DEFA<br> id = 32",
          "INFO  [2017-05-31 21:34:29,942] software.wings.app.DelegateQueueTask: Broadcast queued sync task [ld<br> id = 33",
          "INFO  [2017-05-31 21:34:29,941] software.wings.app.DelegateQueueTask: Broadcast queued sync task [ox<br> id = 34",
          "INFO  [2017-05-31 21:34:29,941] software.wings.app.DelegateQueueTask: Broadcast queued sync task [Zd<br> id = 35",
          "INFO  [2017-05-31 21:34:29,939] software.wings.app.DelegateQueueTask: Broadcast queued sync task [96<br> id = 36",
          "172.31.15.70 - - [31/May/2017:21:36:12 +0000] \"GET /todolist/health-check HTTP/1.1\" 200 50<br> id = 37",
          "2017-05-31 21:36:19:690 [AsyncAppender-Worker-async-syslog-accesslogs-appender] com.cloudbees.syslog<br> id = 38",
          "2017-05-31 21:36:19:690 [AsyncAppender-Worker-async-rsyslog-tcp-ssl-appender] com.cloudbees.syslog.s<br> id = 39",
          "INFO  [2017-05-31 21:36:19,600] software.wings.service.impl.DelegateServiceImpl: registering delegat<br> id = 40",
          "INFO  [2017-05-31 21:36:18,184] com.novemberain.quartz.mongodb.TriggerRunner: Acquired trigger: DEFA<br> id = 41",
          "INFO  [2017-05-31 21:36:18,184] com.novemberain.quartz.mongodb.dao.LocksDao: Inserting lock for trig<br> id = 42",
          "INFO  [2017-05-31 21:36:18,182] com.novemberain.quartz.mongodb.dao.TriggerDao: Found 2 triggers whic<br> id = 43",
          "INFO  [2017-05-31 21:36:18,182] software.wings.service.impl.DelegateServiceImpl: Broadcast new task:<br> id = 44",
          "INFO  [2017-05-31 21:36:18,181] com.novemberain.quartz.mongodb.dao.LocksDao: Trigger lock DEFAULT.vJ<br> id = 45",
          "INFO  [2017-05-31 21:36:18,181] com.novemberain.quartz.mongodb.dao.LocksDao: Removing trigger lock D<br> id = 46",
          "INFO  [2017-05-31 21:36:18,179] org.quartz.plugins.history.LoggingTriggerHistoryPlugin: Trigger DEFA<br> id = 47",
          "INFO  [2017-05-31 21:36:18,179] org.quartz.plugins.history.LoggingJobHistoryPlugin: Job vJ3t7B6hTYyu<br> id = 48",
          "INFO  [2017-05-31 21:36:18,179] org.quartz.plugins.history.LoggingJobHistoryPlugin: Job vJ3t7B6hTYyu<br> id = 49",
          "INFO  [2017-05-31 21:36:18,179] org.quartz.plugins.history.LoggingTriggerHistoryPlugin: Trigger DEFA<br> id = 50",
          "INFO  [2017-05-31 21:36:17,188] org.quartz.plugins.history.LoggingTriggerHistoryPlugin: Trigger DEFA<br> id = 51",
          "INFO  [2017-05-31 21:36:17,188] org.quartz.plugins.history.LoggingJobHistoryPlugin: Job 84DUAsWyStm1<br> id = 52",
          "INFO  [2017-05-31 21:36:17,188] org.quartz.plugins.history.LoggingJobHistoryPlugin: Job 84DUAsWyStm1<br> id = 53",
          "INFO  [2017-05-31 21:36:17,188] org.quartz.plugins.history.LoggingTriggerHistoryPlugin: Trigger DEFA<br> id = 54",
          "INFO  [2017-05-31 21:36:13,678] org.quartz.plugins.history.LoggingTriggerHistoryPlugin: Trigger DEFA<br> id = 55",
          "INFO  [2017-05-31 21:36:08,731] com.novemberain.quartz.mongodb.dao.LocksDao: Trigger lock DEFAULT.D3<br> id = 56",
          "INFO  [2017-05-31 21:36:08,729] org.quartz.plugins.history.LoggingTriggerHistoryPlugin: Trigger DEFA<br> id = 57",
          "INFO  [2017-05-31 21:36:08,729] org.quartz.plugins.history.LoggingJobHistoryPlugin: Job D3H_QL6_Riqw<br> id = 58",
          "INFO  [2017-05-31 21:36:08,729] org.quartz.plugins.history.LoggingJobHistoryPlugin: Job D3H_QL6_Riqw<br> id = 59",
          "INFO  [2017-05-31 21:36:08,729] org.quartz.plugins.history.LoggingTriggerHistoryPlugin: Trigger DEFA<br> id = 60",
          "INFO  [2017-05-31 21:36:08,340] org.quartz.plugins.history.LoggingTriggerHistoryPlugin: Trigger DEFA<br> id = 61",
          "INFO  [2017-05-31 21:36:08,337] org.quartz.plugins.history.LoggingJobHistoryPlugin: Job AuG03-OeTsa1<br> id = 62",
          "INFO  [2017-05-31 21:36:08,337] org.quartz.plugins.history.LoggingTriggerHistoryPlugin: Trigger DEFA<br> id = 63",
          "INFO  [2017-05-31 21:36:01,412] org.quartz.plugins.history.LoggingJobHistoryPlugin: Job K0vzHq-KTsql<br> id = 64",
          "INFO  [2017-05-31 21:36:01,412] org.quartz.plugins.history.LoggingTriggerHistoryPlugin: Trigger DEFA<br> id = 65",
          "INFO  [2017-05-31 21:35:58,811] org.quartz.plugins.history.LoggingJobHistoryPlugin: Job rDZXPoicQ-y9<br> id = 66",
          "INFO  [2017-05-31 21:35:58,811] org.quartz.plugins.history.LoggingTriggerHistoryPlugin: Trigger DEFA<br> id = 67",
          "WARN  [2017-05-31 21:35:54,623] software.wings.waitnotify.Notifier: No entry in the waitQueue found <br> id = 68",
          "INFO  [2017-05-31 21:35:40,040] org.quartz.plugins.history.LoggingJobHistoryPlugin: Job SFmGy4xrRpad<br> id = 69",
          "INFO  [2017-05-31 21:35:40,040] org.quartz.plugins.history.LoggingTriggerHistoryPlugin: Trigger DEFA<br> id = 70",
          "INFO  [2017-05-31 21:35:31,923] org.quartz.plugins.history.LoggingJobHistoryPlugin: Job cMr2y3_5Q-qh<br> id = 71",
          "INFO  [2017-05-31 21:35:31,923] org.quartz.plugins.history.LoggingTriggerHistoryPlugin: Trigger DEFA<br> id = 72"
         ],
         "type": "scatter",
         "x": [
          -0.4134442277291136,
          0.08241727581167907,
          0.6562061369876444,
          -0.8101564729933585,
          0.0021594035617564043,
          0.5687447426293059,
          0.5721069584518979,
          0.43575221919259943,
          -0.5795107700731248,
          -0.4016356254455079,
          0.022733617071812734,
          0.011007761738341473,
          0.44854580205195616,
          -0.5795107700731249,
          -0.4374878924255959,
          0.09569023053358831,
          -0.09575917183138567,
          0.5687447426297604,
          0.4637972968246549,
          -0.5795107700731249,
          -0.29299277584202893,
          -0.015643598361538977,
          0.46379729682465504,
          -0.292992775842029,
          -0.015643598361538977,
          -0.292992775842029,
          -0.015643598361538984,
          -0.29299277584202904,
          -0.015643598361538984,
          -0.24560642575289113,
          -0.292992775842029,
          -0.01564359836153897,
          -0.29299277584202893,
          -0.01564359836153897,
          0.3836239773803894,
          0.3952996286815715,
          0.3836226601554648,
          0.4083991839512881,
          0.6943820410339663,
          0.2280699262253307,
          0.2280699262253309,
          0.015572603920382821,
          0.08241727581385071,
          0.6562061371471708,
          -0.49529842298612564,
          -0.06879865269582025,
          0.568744742629306,
          0.5906737370677407,
          0.4357522191925994,
          -0.5795107700731251,
          -0.4016356254455077,
          0.02273361707154945,
          0.44854580205195566,
          -0.5795107700731251,
          -0.437487892424806,
          -0.10077918098790871,
          -0.09575917178371171,
          0.5687447426293061,
          0.46379729682465476,
          -0.5795107700731252,
          -0.292992775842029,
          -0.015643598361538995,
          0.46379729682465476,
          -0.292992775842029,
          -0.015643598361539002,
          -0.29299277584202904,
          -0.015643598361539002,
          -0.292992775842029,
          -0.015643598361539002,
          -0.24560642575286476,
          -0.29299277584202904,
          -0.01564359836153901,
          -0.29299277584202904,
          -0.015643598361538988
         ],
         "y": [
          0.6949066115730885,
          0.3618155692059343,
          0.0456814009811443,
          0.15715964958598064,
          0.6060364394650711,
          0.11089569723374099,
          0.19458272195989768,
          -0.43114603402904905,
          0.3027226310541416,
          -0.33653215324788716,
          -0.5088809557780039,
          0.756030747884773,
          -0.3748504767678073,
          0.3027226310541416,
          -0.21075801578154174,
          -0.2516053420274182,
          -0.6087468830727936,
          0.11089569723340617,
          -0.3916953388953387,
          0.30272263105414154,
          -0.16817960641640017,
          -0.34235001716722474,
          -0.391695338895339,
          -0.16817960641640023,
          -0.34235001716722474,
          -0.16817960641640023,
          -0.34235001716722485,
          -0.16817960641640026,
          -0.34235001716722485,
          0.7620273674161285,
          -0.16817960641640017,
          -0.34235001716722474,
          -0.16817960641640012,
          -0.3423500171672247,
          0.5781385126024365,
          0.5886468803626129,
          0.5781392764815447,
          0.5775626436536897,
          0.47253104919970673,
          0.7192120042774502,
          0.7192120042774505,
          0.7562127579753664,
          0.36181556920543473,
          0.045681403365797395,
          0.5621565349503211,
          0.6219443735572235,
          0.11089569723374094,
          0.18679839895732556,
          -0.4311460340290497,
          0.30272263105414193,
          -0.33653215324788677,
          -0.5088809557780772,
          -0.37485047676780797,
          0.3027226310541418,
          -0.2107580157426323,
          -0.481666641679101,
          -0.6087468830800931,
          0.11089569723374097,
          -0.3916953388953386,
          0.3027226310541418,
          -0.16817960641640023,
          -0.3423500171672246,
          -0.3916953388953388,
          -0.16817960641640023,
          -0.3423500171672245,
          -0.16817960641640023,
          -0.3423500171672245,
          -0.16817960641640017,
          -0.34235001716722446,
          0.7620273674161406,
          -0.16817960641640017,
          -0.3423500171672245,
          -0.1681796064164002,
          -0.34235001716722446
         ]
        }
       ],
       "layout": {
        "hovermode": "closest"
       }
      },
      "text/html": [
       "<div id=\"7733f281-3ff5-4dcf-b286-4e4f5139161d\" style=\"height: 525px; width: 100%;\" class=\"plotly-graph-div\"></div><script type=\"text/javascript\">require([\"plotly\"], function(Plotly) { window.PLOTLYENV=window.PLOTLYENV || {};window.PLOTLYENV.BASE_URL=\"https://plot.ly\";Plotly.newPlot(\"7733f281-3ff5-4dcf-b286-4e4f5139161d\", [{\"y\": [0.6949066115730885, 0.3618155692059343, 0.0456814009811443, 0.15715964958598064, 0.6060364394650711, 0.11089569723374099, 0.19458272195989768, -0.43114603402904905, 0.3027226310541416, -0.33653215324788716, -0.5088809557780039, 0.756030747884773, -0.3748504767678073, 0.3027226310541416, -0.21075801578154174, -0.2516053420274182, -0.6087468830727936, 0.11089569723340617, -0.3916953388953387, 0.30272263105414154, -0.16817960641640017, -0.34235001716722474, -0.391695338895339, -0.16817960641640023, -0.34235001716722474, -0.16817960641640023, -0.34235001716722485, -0.16817960641640026, -0.34235001716722485, 0.7620273674161285, -0.16817960641640017, -0.34235001716722474, -0.16817960641640012, -0.3423500171672247, 0.5781385126024365, 0.5886468803626129, 0.5781392764815447, 0.5775626436536897, 0.47253104919970673, 0.7192120042774502, 0.7192120042774505, 0.7562127579753664, 0.36181556920543473, 0.045681403365797395, 0.5621565349503211, 0.6219443735572235, 0.11089569723374094, 0.18679839895732556, -0.4311460340290497, 0.30272263105414193, -0.33653215324788677, -0.5088809557780772, -0.37485047676780797, 0.3027226310541418, -0.2107580157426323, -0.481666641679101, -0.6087468830800931, 0.11089569723374097, -0.3916953388953386, 0.3027226310541418, -0.16817960641640023, -0.3423500171672246, -0.3916953388953388, -0.16817960641640023, -0.3423500171672245, -0.16817960641640023, -0.3423500171672245, -0.16817960641640017, -0.34235001716722446, 0.7620273674161406, -0.16817960641640017, -0.3423500171672245, -0.1681796064164002, -0.34235001716722446], \"text\": [\"172.31.15.70 - - [31/May/2017:21:35:12 +0000] \\\"GET /todolist/health-check HTTP/1.1\\\" 200 50<br> id = -1\", \"INFO  [2017-05-31 21:35:18,184] com.novemberain.quartz.mongodb.TriggerRunner: Acquired trigger: DEFA<br> id = 0\", \"INFO  [2017-05-31 21:35:18,184] com.novemberain.quartz.mongodb.dao.LocksDao: Inserting lock for trig<br> id = 1\", \"INFO  [2017-05-31 21:35:18,183] com.novemberain.quartz.mongodb.dao.TriggerDao: Found 2 triggers whic<br> id = 2\", \"INFO  [2017-05-31 21:35:18,182] software.wings.service.impl.DelegateServiceImpl: Broadcast new task:<br> id = 3\", \"INFO  [2017-05-31 21:35:18,182] com.novemberain.quartz.mongodb.dao.LocksDao: Trigger lock DEFAULT.vJ<br> id = 4\", \"INFO  [2017-05-31 21:35:18,181] com.novemberain.quartz.mongodb.dao.LocksDao: Removing trigger lock D<br> id = 5\", \"INFO  [2017-05-31 21:35:18,180] org.quartz.plugins.history.LoggingTriggerHistoryPlugin: Trigger DEFA<br> id = 6\", \"INFO  [2017-05-31 21:35:18,180] org.quartz.plugins.history.LoggingJobHistoryPlugin: Job vJ3t7B6hTYyu<br> id = 7\", \"INFO  [2017-05-31 21:35:18,180] org.quartz.plugins.history.LoggingJobHistoryPlugin: Job vJ3t7B6hTYyu<br> id = 8\", \"INFO  [2017-05-31 21:35:18,179] org.quartz.plugins.history.LoggingTriggerHistoryPlugin: Trigger DEFA<br> id = 9\", \"INFO  [2017-05-31 21:35:18,038] software.wings.service.impl.DelegateServiceImpl: registering delegat<br> id = 10\", \"INFO  [2017-05-31 21:35:17,188] org.quartz.plugins.history.LoggingTriggerHistoryPlugin: Trigger DEFA<br> id = 11\", \"INFO  [2017-05-31 21:35:17,188] org.quartz.plugins.history.LoggingJobHistoryPlugin: Job 84DUAsWyStm1<br> id = 12\", \"INFO  [2017-05-31 21:35:17,188] org.quartz.plugins.history.LoggingJobHistoryPlugin: Job 84DUAsWyStm1<br> id = 13\", \"INFO  [2017-05-31 21:35:17,188] org.quartz.plugins.history.LoggingTriggerHistoryPlugin: Trigger DEFA<br> id = 14\", \"INFO  [2017-05-31 21:35:13,679] org.quartz.plugins.history.LoggingTriggerHistoryPlugin: Trigger DEFA<br> id = 15\", \"INFO  [2017-05-31 21:35:08,731] com.novemberain.quartz.mongodb.dao.LocksDao: Trigger lock DEFAULT.D3<br> id = 16\", \"INFO  [2017-05-31 21:35:08,729] org.quartz.plugins.history.LoggingTriggerHistoryPlugin: Trigger DEFA<br> id = 17\", \"INFO  [2017-05-31 21:35:08,729] org.quartz.plugins.history.LoggingJobHistoryPlugin: Job D3H_QL6_Riqw<br> id = 18\", \"INFO  [2017-05-31 21:35:08,729] org.quartz.plugins.history.LoggingJobHistoryPlugin: Job D3H_QL6_Riqw<br> id = 19\", \"INFO  [2017-05-31 21:35:08,729] org.quartz.plugins.history.LoggingTriggerHistoryPlugin: Trigger DEFA<br> id = 20\", \"INFO  [2017-05-31 21:35:08,340] org.quartz.plugins.history.LoggingTriggerHistoryPlugin: Trigger DEFA<br> id = 21\", \"INFO  [2017-05-31 21:35:08,338] org.quartz.plugins.history.LoggingJobHistoryPlugin: Job AuG03-OeTsa1<br> id = 22\", \"INFO  [2017-05-31 21:35:08,338] org.quartz.plugins.history.LoggingTriggerHistoryPlugin: Trigger DEFA<br> id = 23\", \"INFO  [2017-05-31 21:35:01,412] org.quartz.plugins.history.LoggingJobHistoryPlugin: Job K0vzHq-KTsql<br> id = 24\", \"INFO  [2017-05-31 21:35:01,412] org.quartz.plugins.history.LoggingTriggerHistoryPlugin: Trigger DEFA<br> id = 25\", \"INFO  [2017-05-31 21:34:58,811] org.quartz.plugins.history.LoggingJobHistoryPlugin: Job rDZXPoicQ-y9<br> id = 26\", \"INFO  [2017-05-31 21:34:58,811] org.quartz.plugins.history.LoggingTriggerHistoryPlugin: Trigger DEFA<br> id = 27\", \"WARN  [2017-05-31 21:34:54,590] software.wings.waitnotify.Notifier: No entry in the waitQueue found <br> id = 28\", \"INFO  [2017-05-31 21:34:40,039] org.quartz.plugins.history.LoggingJobHistoryPlugin: Job SFmGy4xrRpad<br> id = 29\", \"INFO  [2017-05-31 21:34:40,039] org.quartz.plugins.history.LoggingTriggerHistoryPlugin: Trigger DEFA<br> id = 30\", \"INFO  [2017-05-31 21:34:31,923] org.quartz.plugins.history.LoggingJobHistoryPlugin: Job cMr2y3_5Q-qh<br> id = 31\", \"INFO  [2017-05-31 21:34:31,923] org.quartz.plugins.history.LoggingTriggerHistoryPlugin: Trigger DEFA<br> id = 32\", \"INFO  [2017-05-31 21:34:29,942] software.wings.app.DelegateQueueTask: Broadcast queued sync task [ld<br> id = 33\", \"INFO  [2017-05-31 21:34:29,941] software.wings.app.DelegateQueueTask: Broadcast queued sync task [ox<br> id = 34\", \"INFO  [2017-05-31 21:34:29,941] software.wings.app.DelegateQueueTask: Broadcast queued sync task [Zd<br> id = 35\", \"INFO  [2017-05-31 21:34:29,939] software.wings.app.DelegateQueueTask: Broadcast queued sync task [96<br> id = 36\", \"172.31.15.70 - - [31/May/2017:21:36:12 +0000] \\\"GET /todolist/health-check HTTP/1.1\\\" 200 50<br> id = 37\", \"2017-05-31 21:36:19:690 [AsyncAppender-Worker-async-syslog-accesslogs-appender] com.cloudbees.syslog<br> id = 38\", \"2017-05-31 21:36:19:690 [AsyncAppender-Worker-async-rsyslog-tcp-ssl-appender] com.cloudbees.syslog.s<br> id = 39\", \"INFO  [2017-05-31 21:36:19,600] software.wings.service.impl.DelegateServiceImpl: registering delegat<br> id = 40\", \"INFO  [2017-05-31 21:36:18,184] com.novemberain.quartz.mongodb.TriggerRunner: Acquired trigger: DEFA<br> id = 41\", \"INFO  [2017-05-31 21:36:18,184] com.novemberain.quartz.mongodb.dao.LocksDao: Inserting lock for trig<br> id = 42\", \"INFO  [2017-05-31 21:36:18,182] com.novemberain.quartz.mongodb.dao.TriggerDao: Found 2 triggers whic<br> id = 43\", \"INFO  [2017-05-31 21:36:18,182] software.wings.service.impl.DelegateServiceImpl: Broadcast new task:<br> id = 44\", \"INFO  [2017-05-31 21:36:18,181] com.novemberain.quartz.mongodb.dao.LocksDao: Trigger lock DEFAULT.vJ<br> id = 45\", \"INFO  [2017-05-31 21:36:18,181] com.novemberain.quartz.mongodb.dao.LocksDao: Removing trigger lock D<br> id = 46\", \"INFO  [2017-05-31 21:36:18,179] org.quartz.plugins.history.LoggingTriggerHistoryPlugin: Trigger DEFA<br> id = 47\", \"INFO  [2017-05-31 21:36:18,179] org.quartz.plugins.history.LoggingJobHistoryPlugin: Job vJ3t7B6hTYyu<br> id = 48\", \"INFO  [2017-05-31 21:36:18,179] org.quartz.plugins.history.LoggingJobHistoryPlugin: Job vJ3t7B6hTYyu<br> id = 49\", \"INFO  [2017-05-31 21:36:18,179] org.quartz.plugins.history.LoggingTriggerHistoryPlugin: Trigger DEFA<br> id = 50\", \"INFO  [2017-05-31 21:36:17,188] org.quartz.plugins.history.LoggingTriggerHistoryPlugin: Trigger DEFA<br> id = 51\", \"INFO  [2017-05-31 21:36:17,188] org.quartz.plugins.history.LoggingJobHistoryPlugin: Job 84DUAsWyStm1<br> id = 52\", \"INFO  [2017-05-31 21:36:17,188] org.quartz.plugins.history.LoggingJobHistoryPlugin: Job 84DUAsWyStm1<br> id = 53\", \"INFO  [2017-05-31 21:36:17,188] org.quartz.plugins.history.LoggingTriggerHistoryPlugin: Trigger DEFA<br> id = 54\", \"INFO  [2017-05-31 21:36:13,678] org.quartz.plugins.history.LoggingTriggerHistoryPlugin: Trigger DEFA<br> id = 55\", \"INFO  [2017-05-31 21:36:08,731] com.novemberain.quartz.mongodb.dao.LocksDao: Trigger lock DEFAULT.D3<br> id = 56\", \"INFO  [2017-05-31 21:36:08,729] org.quartz.plugins.history.LoggingTriggerHistoryPlugin: Trigger DEFA<br> id = 57\", \"INFO  [2017-05-31 21:36:08,729] org.quartz.plugins.history.LoggingJobHistoryPlugin: Job D3H_QL6_Riqw<br> id = 58\", \"INFO  [2017-05-31 21:36:08,729] org.quartz.plugins.history.LoggingJobHistoryPlugin: Job D3H_QL6_Riqw<br> id = 59\", \"INFO  [2017-05-31 21:36:08,729] org.quartz.plugins.history.LoggingTriggerHistoryPlugin: Trigger DEFA<br> id = 60\", \"INFO  [2017-05-31 21:36:08,340] org.quartz.plugins.history.LoggingTriggerHistoryPlugin: Trigger DEFA<br> id = 61\", \"INFO  [2017-05-31 21:36:08,337] org.quartz.plugins.history.LoggingJobHistoryPlugin: Job AuG03-OeTsa1<br> id = 62\", \"INFO  [2017-05-31 21:36:08,337] org.quartz.plugins.history.LoggingTriggerHistoryPlugin: Trigger DEFA<br> id = 63\", \"INFO  [2017-05-31 21:36:01,412] org.quartz.plugins.history.LoggingJobHistoryPlugin: Job K0vzHq-KTsql<br> id = 64\", \"INFO  [2017-05-31 21:36:01,412] org.quartz.plugins.history.LoggingTriggerHistoryPlugin: Trigger DEFA<br> id = 65\", \"INFO  [2017-05-31 21:35:58,811] org.quartz.plugins.history.LoggingJobHistoryPlugin: Job rDZXPoicQ-y9<br> id = 66\", \"INFO  [2017-05-31 21:35:58,811] org.quartz.plugins.history.LoggingTriggerHistoryPlugin: Trigger DEFA<br> id = 67\", \"WARN  [2017-05-31 21:35:54,623] software.wings.waitnotify.Notifier: No entry in the waitQueue found <br> id = 68\", \"INFO  [2017-05-31 21:35:40,040] org.quartz.plugins.history.LoggingJobHistoryPlugin: Job SFmGy4xrRpad<br> id = 69\", \"INFO  [2017-05-31 21:35:40,040] org.quartz.plugins.history.LoggingTriggerHistoryPlugin: Trigger DEFA<br> id = 70\", \"INFO  [2017-05-31 21:35:31,923] org.quartz.plugins.history.LoggingJobHistoryPlugin: Job cMr2y3_5Q-qh<br> id = 71\", \"INFO  [2017-05-31 21:35:31,923] org.quartz.plugins.history.LoggingTriggerHistoryPlugin: Trigger DEFA<br> id = 72\"], \"type\": \"scatter\", \"mode\": \"markers\", \"x\": [-0.4134442277291136, 0.08241727581167907, 0.6562061369876444, -0.8101564729933585, 0.0021594035617564043, 0.5687447426293059, 0.5721069584518979, 0.43575221919259943, -0.5795107700731248, -0.4016356254455079, 0.022733617071812734, 0.011007761738341473, 0.44854580205195616, -0.5795107700731249, -0.4374878924255959, 0.09569023053358831, -0.09575917183138567, 0.5687447426297604, 0.4637972968246549, -0.5795107700731249, -0.29299277584202893, -0.015643598361538977, 0.46379729682465504, -0.292992775842029, -0.015643598361538977, -0.292992775842029, -0.015643598361538984, -0.29299277584202904, -0.015643598361538984, -0.24560642575289113, -0.292992775842029, -0.01564359836153897, -0.29299277584202893, -0.01564359836153897, 0.3836239773803894, 0.3952996286815715, 0.3836226601554648, 0.4083991839512881, 0.6943820410339663, 0.2280699262253307, 0.2280699262253309, 0.015572603920382821, 0.08241727581385071, 0.6562061371471708, -0.49529842298612564, -0.06879865269582025, 0.568744742629306, 0.5906737370677407, 0.4357522191925994, -0.5795107700731251, -0.4016356254455077, 0.02273361707154945, 0.44854580205195566, -0.5795107700731251, -0.437487892424806, -0.10077918098790871, -0.09575917178371171, 0.5687447426293061, 0.46379729682465476, -0.5795107700731252, -0.292992775842029, -0.015643598361538995, 0.46379729682465476, -0.292992775842029, -0.015643598361539002, -0.29299277584202904, -0.015643598361539002, -0.292992775842029, -0.015643598361539002, -0.24560642575286476, -0.29299277584202904, -0.01564359836153901, -0.29299277584202904, -0.015643598361538988]}], {\"hovermode\": \"closest\"}, {\"linkText\": \"Export to plot.ly\", \"showLink\": true})});</script>"
      ],
      "text/vnd.plotly.v1+html": [
       "<div id=\"7733f281-3ff5-4dcf-b286-4e4f5139161d\" style=\"height: 525px; width: 100%;\" class=\"plotly-graph-div\"></div><script type=\"text/javascript\">require([\"plotly\"], function(Plotly) { window.PLOTLYENV=window.PLOTLYENV || {};window.PLOTLYENV.BASE_URL=\"https://plot.ly\";Plotly.newPlot(\"7733f281-3ff5-4dcf-b286-4e4f5139161d\", [{\"y\": [0.6949066115730885, 0.3618155692059343, 0.0456814009811443, 0.15715964958598064, 0.6060364394650711, 0.11089569723374099, 0.19458272195989768, -0.43114603402904905, 0.3027226310541416, -0.33653215324788716, -0.5088809557780039, 0.756030747884773, -0.3748504767678073, 0.3027226310541416, -0.21075801578154174, -0.2516053420274182, -0.6087468830727936, 0.11089569723340617, -0.3916953388953387, 0.30272263105414154, -0.16817960641640017, -0.34235001716722474, -0.391695338895339, -0.16817960641640023, -0.34235001716722474, -0.16817960641640023, -0.34235001716722485, -0.16817960641640026, -0.34235001716722485, 0.7620273674161285, -0.16817960641640017, -0.34235001716722474, -0.16817960641640012, -0.3423500171672247, 0.5781385126024365, 0.5886468803626129, 0.5781392764815447, 0.5775626436536897, 0.47253104919970673, 0.7192120042774502, 0.7192120042774505, 0.7562127579753664, 0.36181556920543473, 0.045681403365797395, 0.5621565349503211, 0.6219443735572235, 0.11089569723374094, 0.18679839895732556, -0.4311460340290497, 0.30272263105414193, -0.33653215324788677, -0.5088809557780772, -0.37485047676780797, 0.3027226310541418, -0.2107580157426323, -0.481666641679101, -0.6087468830800931, 0.11089569723374097, -0.3916953388953386, 0.3027226310541418, -0.16817960641640023, -0.3423500171672246, -0.3916953388953388, -0.16817960641640023, -0.3423500171672245, -0.16817960641640023, -0.3423500171672245, -0.16817960641640017, -0.34235001716722446, 0.7620273674161406, -0.16817960641640017, -0.3423500171672245, -0.1681796064164002, -0.34235001716722446], \"text\": [\"172.31.15.70 - - [31/May/2017:21:35:12 +0000] \\\"GET /todolist/health-check HTTP/1.1\\\" 200 50<br> id = -1\", \"INFO  [2017-05-31 21:35:18,184] com.novemberain.quartz.mongodb.TriggerRunner: Acquired trigger: DEFA<br> id = 0\", \"INFO  [2017-05-31 21:35:18,184] com.novemberain.quartz.mongodb.dao.LocksDao: Inserting lock for trig<br> id = 1\", \"INFO  [2017-05-31 21:35:18,183] com.novemberain.quartz.mongodb.dao.TriggerDao: Found 2 triggers whic<br> id = 2\", \"INFO  [2017-05-31 21:35:18,182] software.wings.service.impl.DelegateServiceImpl: Broadcast new task:<br> id = 3\", \"INFO  [2017-05-31 21:35:18,182] com.novemberain.quartz.mongodb.dao.LocksDao: Trigger lock DEFAULT.vJ<br> id = 4\", \"INFO  [2017-05-31 21:35:18,181] com.novemberain.quartz.mongodb.dao.LocksDao: Removing trigger lock D<br> id = 5\", \"INFO  [2017-05-31 21:35:18,180] org.quartz.plugins.history.LoggingTriggerHistoryPlugin: Trigger DEFA<br> id = 6\", \"INFO  [2017-05-31 21:35:18,180] org.quartz.plugins.history.LoggingJobHistoryPlugin: Job vJ3t7B6hTYyu<br> id = 7\", \"INFO  [2017-05-31 21:35:18,180] org.quartz.plugins.history.LoggingJobHistoryPlugin: Job vJ3t7B6hTYyu<br> id = 8\", \"INFO  [2017-05-31 21:35:18,179] org.quartz.plugins.history.LoggingTriggerHistoryPlugin: Trigger DEFA<br> id = 9\", \"INFO  [2017-05-31 21:35:18,038] software.wings.service.impl.DelegateServiceImpl: registering delegat<br> id = 10\", \"INFO  [2017-05-31 21:35:17,188] org.quartz.plugins.history.LoggingTriggerHistoryPlugin: Trigger DEFA<br> id = 11\", \"INFO  [2017-05-31 21:35:17,188] org.quartz.plugins.history.LoggingJobHistoryPlugin: Job 84DUAsWyStm1<br> id = 12\", \"INFO  [2017-05-31 21:35:17,188] org.quartz.plugins.history.LoggingJobHistoryPlugin: Job 84DUAsWyStm1<br> id = 13\", \"INFO  [2017-05-31 21:35:17,188] org.quartz.plugins.history.LoggingTriggerHistoryPlugin: Trigger DEFA<br> id = 14\", \"INFO  [2017-05-31 21:35:13,679] org.quartz.plugins.history.LoggingTriggerHistoryPlugin: Trigger DEFA<br> id = 15\", \"INFO  [2017-05-31 21:35:08,731] com.novemberain.quartz.mongodb.dao.LocksDao: Trigger lock DEFAULT.D3<br> id = 16\", \"INFO  [2017-05-31 21:35:08,729] org.quartz.plugins.history.LoggingTriggerHistoryPlugin: Trigger DEFA<br> id = 17\", \"INFO  [2017-05-31 21:35:08,729] org.quartz.plugins.history.LoggingJobHistoryPlugin: Job D3H_QL6_Riqw<br> id = 18\", \"INFO  [2017-05-31 21:35:08,729] org.quartz.plugins.history.LoggingJobHistoryPlugin: Job D3H_QL6_Riqw<br> id = 19\", \"INFO  [2017-05-31 21:35:08,729] org.quartz.plugins.history.LoggingTriggerHistoryPlugin: Trigger DEFA<br> id = 20\", \"INFO  [2017-05-31 21:35:08,340] org.quartz.plugins.history.LoggingTriggerHistoryPlugin: Trigger DEFA<br> id = 21\", \"INFO  [2017-05-31 21:35:08,338] org.quartz.plugins.history.LoggingJobHistoryPlugin: Job AuG03-OeTsa1<br> id = 22\", \"INFO  [2017-05-31 21:35:08,338] org.quartz.plugins.history.LoggingTriggerHistoryPlugin: Trigger DEFA<br> id = 23\", \"INFO  [2017-05-31 21:35:01,412] org.quartz.plugins.history.LoggingJobHistoryPlugin: Job K0vzHq-KTsql<br> id = 24\", \"INFO  [2017-05-31 21:35:01,412] org.quartz.plugins.history.LoggingTriggerHistoryPlugin: Trigger DEFA<br> id = 25\", \"INFO  [2017-05-31 21:34:58,811] org.quartz.plugins.history.LoggingJobHistoryPlugin: Job rDZXPoicQ-y9<br> id = 26\", \"INFO  [2017-05-31 21:34:58,811] org.quartz.plugins.history.LoggingTriggerHistoryPlugin: Trigger DEFA<br> id = 27\", \"WARN  [2017-05-31 21:34:54,590] software.wings.waitnotify.Notifier: No entry in the waitQueue found <br> id = 28\", \"INFO  [2017-05-31 21:34:40,039] org.quartz.plugins.history.LoggingJobHistoryPlugin: Job SFmGy4xrRpad<br> id = 29\", \"INFO  [2017-05-31 21:34:40,039] org.quartz.plugins.history.LoggingTriggerHistoryPlugin: Trigger DEFA<br> id = 30\", \"INFO  [2017-05-31 21:34:31,923] org.quartz.plugins.history.LoggingJobHistoryPlugin: Job cMr2y3_5Q-qh<br> id = 31\", \"INFO  [2017-05-31 21:34:31,923] org.quartz.plugins.history.LoggingTriggerHistoryPlugin: Trigger DEFA<br> id = 32\", \"INFO  [2017-05-31 21:34:29,942] software.wings.app.DelegateQueueTask: Broadcast queued sync task [ld<br> id = 33\", \"INFO  [2017-05-31 21:34:29,941] software.wings.app.DelegateQueueTask: Broadcast queued sync task [ox<br> id = 34\", \"INFO  [2017-05-31 21:34:29,941] software.wings.app.DelegateQueueTask: Broadcast queued sync task [Zd<br> id = 35\", \"INFO  [2017-05-31 21:34:29,939] software.wings.app.DelegateQueueTask: Broadcast queued sync task [96<br> id = 36\", \"172.31.15.70 - - [31/May/2017:21:36:12 +0000] \\\"GET /todolist/health-check HTTP/1.1\\\" 200 50<br> id = 37\", \"2017-05-31 21:36:19:690 [AsyncAppender-Worker-async-syslog-accesslogs-appender] com.cloudbees.syslog<br> id = 38\", \"2017-05-31 21:36:19:690 [AsyncAppender-Worker-async-rsyslog-tcp-ssl-appender] com.cloudbees.syslog.s<br> id = 39\", \"INFO  [2017-05-31 21:36:19,600] software.wings.service.impl.DelegateServiceImpl: registering delegat<br> id = 40\", \"INFO  [2017-05-31 21:36:18,184] com.novemberain.quartz.mongodb.TriggerRunner: Acquired trigger: DEFA<br> id = 41\", \"INFO  [2017-05-31 21:36:18,184] com.novemberain.quartz.mongodb.dao.LocksDao: Inserting lock for trig<br> id = 42\", \"INFO  [2017-05-31 21:36:18,182] com.novemberain.quartz.mongodb.dao.TriggerDao: Found 2 triggers whic<br> id = 43\", \"INFO  [2017-05-31 21:36:18,182] software.wings.service.impl.DelegateServiceImpl: Broadcast new task:<br> id = 44\", \"INFO  [2017-05-31 21:36:18,181] com.novemberain.quartz.mongodb.dao.LocksDao: Trigger lock DEFAULT.vJ<br> id = 45\", \"INFO  [2017-05-31 21:36:18,181] com.novemberain.quartz.mongodb.dao.LocksDao: Removing trigger lock D<br> id = 46\", \"INFO  [2017-05-31 21:36:18,179] org.quartz.plugins.history.LoggingTriggerHistoryPlugin: Trigger DEFA<br> id = 47\", \"INFO  [2017-05-31 21:36:18,179] org.quartz.plugins.history.LoggingJobHistoryPlugin: Job vJ3t7B6hTYyu<br> id = 48\", \"INFO  [2017-05-31 21:36:18,179] org.quartz.plugins.history.LoggingJobHistoryPlugin: Job vJ3t7B6hTYyu<br> id = 49\", \"INFO  [2017-05-31 21:36:18,179] org.quartz.plugins.history.LoggingTriggerHistoryPlugin: Trigger DEFA<br> id = 50\", \"INFO  [2017-05-31 21:36:17,188] org.quartz.plugins.history.LoggingTriggerHistoryPlugin: Trigger DEFA<br> id = 51\", \"INFO  [2017-05-31 21:36:17,188] org.quartz.plugins.history.LoggingJobHistoryPlugin: Job 84DUAsWyStm1<br> id = 52\", \"INFO  [2017-05-31 21:36:17,188] org.quartz.plugins.history.LoggingJobHistoryPlugin: Job 84DUAsWyStm1<br> id = 53\", \"INFO  [2017-05-31 21:36:17,188] org.quartz.plugins.history.LoggingTriggerHistoryPlugin: Trigger DEFA<br> id = 54\", \"INFO  [2017-05-31 21:36:13,678] org.quartz.plugins.history.LoggingTriggerHistoryPlugin: Trigger DEFA<br> id = 55\", \"INFO  [2017-05-31 21:36:08,731] com.novemberain.quartz.mongodb.dao.LocksDao: Trigger lock DEFAULT.D3<br> id = 56\", \"INFO  [2017-05-31 21:36:08,729] org.quartz.plugins.history.LoggingTriggerHistoryPlugin: Trigger DEFA<br> id = 57\", \"INFO  [2017-05-31 21:36:08,729] org.quartz.plugins.history.LoggingJobHistoryPlugin: Job D3H_QL6_Riqw<br> id = 58\", \"INFO  [2017-05-31 21:36:08,729] org.quartz.plugins.history.LoggingJobHistoryPlugin: Job D3H_QL6_Riqw<br> id = 59\", \"INFO  [2017-05-31 21:36:08,729] org.quartz.plugins.history.LoggingTriggerHistoryPlugin: Trigger DEFA<br> id = 60\", \"INFO  [2017-05-31 21:36:08,340] org.quartz.plugins.history.LoggingTriggerHistoryPlugin: Trigger DEFA<br> id = 61\", \"INFO  [2017-05-31 21:36:08,337] org.quartz.plugins.history.LoggingJobHistoryPlugin: Job AuG03-OeTsa1<br> id = 62\", \"INFO  [2017-05-31 21:36:08,337] org.quartz.plugins.history.LoggingTriggerHistoryPlugin: Trigger DEFA<br> id = 63\", \"INFO  [2017-05-31 21:36:01,412] org.quartz.plugins.history.LoggingJobHistoryPlugin: Job K0vzHq-KTsql<br> id = 64\", \"INFO  [2017-05-31 21:36:01,412] org.quartz.plugins.history.LoggingTriggerHistoryPlugin: Trigger DEFA<br> id = 65\", \"INFO  [2017-05-31 21:35:58,811] org.quartz.plugins.history.LoggingJobHistoryPlugin: Job rDZXPoicQ-y9<br> id = 66\", \"INFO  [2017-05-31 21:35:58,811] org.quartz.plugins.history.LoggingTriggerHistoryPlugin: Trigger DEFA<br> id = 67\", \"WARN  [2017-05-31 21:35:54,623] software.wings.waitnotify.Notifier: No entry in the waitQueue found <br> id = 68\", \"INFO  [2017-05-31 21:35:40,040] org.quartz.plugins.history.LoggingJobHistoryPlugin: Job SFmGy4xrRpad<br> id = 69\", \"INFO  [2017-05-31 21:35:40,040] org.quartz.plugins.history.LoggingTriggerHistoryPlugin: Trigger DEFA<br> id = 70\", \"INFO  [2017-05-31 21:35:31,923] org.quartz.plugins.history.LoggingJobHistoryPlugin: Job cMr2y3_5Q-qh<br> id = 71\", \"INFO  [2017-05-31 21:35:31,923] org.quartz.plugins.history.LoggingTriggerHistoryPlugin: Trigger DEFA<br> id = 72\"], \"type\": \"scatter\", \"mode\": \"markers\", \"x\": [-0.4134442277291136, 0.08241727581167907, 0.6562061369876444, -0.8101564729933585, 0.0021594035617564043, 0.5687447426293059, 0.5721069584518979, 0.43575221919259943, -0.5795107700731248, -0.4016356254455079, 0.022733617071812734, 0.011007761738341473, 0.44854580205195616, -0.5795107700731249, -0.4374878924255959, 0.09569023053358831, -0.09575917183138567, 0.5687447426297604, 0.4637972968246549, -0.5795107700731249, -0.29299277584202893, -0.015643598361538977, 0.46379729682465504, -0.292992775842029, -0.015643598361538977, -0.292992775842029, -0.015643598361538984, -0.29299277584202904, -0.015643598361538984, -0.24560642575289113, -0.292992775842029, -0.01564359836153897, -0.29299277584202893, -0.01564359836153897, 0.3836239773803894, 0.3952996286815715, 0.3836226601554648, 0.4083991839512881, 0.6943820410339663, 0.2280699262253307, 0.2280699262253309, 0.015572603920382821, 0.08241727581385071, 0.6562061371471708, -0.49529842298612564, -0.06879865269582025, 0.568744742629306, 0.5906737370677407, 0.4357522191925994, -0.5795107700731251, -0.4016356254455077, 0.02273361707154945, 0.44854580205195566, -0.5795107700731251, -0.437487892424806, -0.10077918098790871, -0.09575917178371171, 0.5687447426293061, 0.46379729682465476, -0.5795107700731252, -0.292992775842029, -0.015643598361538995, 0.46379729682465476, -0.292992775842029, -0.015643598361539002, -0.29299277584202904, -0.015643598361539002, -0.292992775842029, -0.015643598361539002, -0.24560642575286476, -0.29299277584202904, -0.01564359836153901, -0.29299277584202904, -0.015643598361538988]}], {\"hovermode\": \"closest\"}, {\"linkText\": \"Export to plot.ly\", \"showLink\": true})});</script>"
      ]
     },
     "metadata": {},
     "output_type": "display_data"
    },
    {
     "data": {
      "application/vnd.plotly.v1+json": {
       "data": [
        {
         "marker": {
          "color": "'rgb 157,116,84'"
         },
         "mode": "markers",
         "text": "cluster = 0<br>default.vj3t7b6htyyugnj0jifqxa<br>fired<br>trigger<br>org.quartz.plugins.history.loggingjobhistoryplugin<br>info<br>",
         "type": "scatter",
         "x": [
          -0.4016356254455079,
          0.022733617071812734,
          -0.4016356254455077,
          0.02273361707154945
         ],
         "y": [
          -0.33653215324788716,
          -0.5088809557780039,
          -0.33653215324788677,
          -0.5088809557780772
         ]
        },
        {
         "marker": {
          "color": "'rgb 47,221,129'"
         },
         "mode": "markers",
         "text": "cluster = 1<br>org.quartz.plugins.history.loggingjobhistoryplugin<br>fired<br>trigger<br>info<br>hsp55cwerwmz5ujazsfwhq<br>",
         "type": "scatter",
         "x": [
          -0.29299277584202893,
          -0.292992775842029,
          -0.292992775842029,
          -0.29299277584202904,
          -0.292992775842029,
          -0.29299277584202893,
          -0.292992775842029,
          -0.292992775842029,
          -0.29299277584202904,
          -0.292992775842029,
          -0.29299277584202904,
          -0.29299277584202904
         ],
         "y": [
          -0.16817960641640017,
          -0.16817960641640023,
          -0.16817960641640023,
          -0.16817960641640026,
          -0.16817960641640017,
          -0.16817960641640012,
          -0.16817960641640023,
          -0.16817960641640023,
          -0.16817960641640023,
          -0.16817960641640017,
          -0.16817960641640017,
          -0.1681796064164002
         ]
        },
        {
         "marker": {
          "color": "'rgb 1,51,12'"
         },
         "mode": "markers",
         "text": "cluster = 2<br>org.quartz.plugins.history.loggingtriggerhistoryplugin<br>fired<br>trigger<br>info<br>default.ubbwzvkhqfkvegzybbhpeg<br>",
         "type": "scatter",
         "x": [
          -0.09575917183138567,
          -0.015643598361538977,
          -0.015643598361538977,
          -0.015643598361538984,
          -0.015643598361538984,
          -0.01564359836153897,
          -0.01564359836153897,
          -0.09575917178371171,
          -0.015643598361538995,
          -0.015643598361539002,
          -0.015643598361539002,
          -0.015643598361539002,
          -0.01564359836153901,
          -0.015643598361538988
         ],
         "y": [
          -0.6087468830727936,
          -0.34235001716722474,
          -0.34235001716722474,
          -0.34235001716722485,
          -0.34235001716722485,
          -0.34235001716722474,
          -0.3423500171672247,
          -0.6087468830800931,
          -0.3423500171672246,
          -0.3423500171672245,
          -0.3423500171672245,
          -0.34235001716722446,
          -0.3423500171672245,
          -0.34235001716722446
         ]
        },
        {
         "marker": {
          "color": "'rgb 134,11,162'"
         },
         "mode": "markers",
         "text": "cluster = 3<br>complete<br>execution<br>reports<br>null<br>org.quartz.plugins.history.loggingjobhistoryplugin<br>",
         "type": "scatter",
         "x": [
          -0.5795107700731248,
          -0.5795107700731249,
          -0.5795107700731249,
          -0.5795107700731251,
          -0.5795107700731251,
          -0.5795107700731252
         ],
         "y": [
          0.3027226310541416,
          0.3027226310541416,
          0.30272263105414154,
          0.30272263105414193,
          0.3027226310541418,
          0.3027226310541418
         ]
        },
        {
         "marker": {
          "color": "'rgb 97,85,139'"
         },
         "mode": "markers",
         "text": "cluster = 4<br>resulting<br>firing<br>code<br>completed<br>instruction<br>",
         "type": "scatter",
         "x": [
          0.43575221919259943,
          0.44854580205195616,
          0.4637972968246549,
          0.46379729682465504,
          0.4357522191925994,
          0.44854580205195566,
          0.46379729682465476,
          0.46379729682465476
         ],
         "y": [
          -0.43114603402904905,
          -0.3748504767678073,
          -0.3916953388953387,
          -0.391695338895339,
          -0.4311460340290497,
          -0.37485047676780797,
          -0.3916953388953386,
          -0.3916953388953388
         ]
        },
        {
         "marker": {
          "color": "'rgb 110,76,3'"
         },
         "mode": "markers",
         "text": "cluster = 5<br>lock<br>com.novemberain.quartz.mongodb.dao.locksdao<br>removed<br>trigger<br>info<br>",
         "type": "scatter",
         "x": [
          0.6562061369876444,
          0.5687447426293059,
          0.5721069584518979,
          0.5687447426297604,
          0.6562061371471708,
          0.568744742629306,
          0.5906737370677407,
          0.5687447426293061
         ],
         "y": [
          0.0456814009811443,
          0.11089569723374099,
          0.19458272195989768,
          0.11089569723340617,
          0.045681403365797395,
          0.11089569723374094,
          0.18679839895732556,
          0.11089569723374097
         ]
        },
        {
         "marker": {
          "color": "'rgb 132,223,113'"
         },
         "mode": "markers",
         "text": "cluster = 6<br>delegate<br>command<br>splunk<br>http<br>jenkins<br>",
         "type": "scatter",
         "x": [
          0.011007761738341473,
          0.015572603920382821
         ],
         "y": [
          0.756030747884773,
          0.7562127579753664
         ]
        },
        {
         "marker": {
          "color": "'rgb 184,93,242'"
         },
         "mode": "markers",
         "text": "cluster = 7<br>zy4600e0qz6p6qiv21pikg<br>f67p97lwq3cbqdhqcdyevw<br>nvtumfrmtme0eqvydmzrcw<br>miei53pdqn2pscnnrgtnfw<br>kag4hdwsrkgmnsemh3mmgq<br>",
         "type": "scatter",
         "x": [
          -0.24560642575289113,
          -0.24560642575286476
         ],
         "y": [
          0.7620273674161285,
          0.7620273674161406
         ]
        },
        {
         "marker": {
          "color": "'rgb 109,137,168'"
         },
         "mode": "markers",
         "text": "cluster = 8<br>queued<br>software.wings.app.delegatequeuetask<br>sync<br>broadcast<br>task<br>",
         "type": "scatter",
         "x": [
          0.3836239773803894,
          0.3952996286815715,
          0.3836226601554648,
          0.4083991839512881
         ],
         "y": [
          0.5781385126024365,
          0.5886468803626129,
          0.5781392764815447,
          0.5775626436536897
         ]
        },
        {
         "marker": {
          "color": "'rgb 72,170,236'"
         },
         "mode": "markers",
         "text": "cluster = 9<br>triggers<br>eligible<br>com.novemberain.quartz.mongodb.dao.triggerdao<br>info<br>hsp55cwerwmz5ujazsfwhq<br>",
         "type": "scatter",
         "x": [
          -0.8101564729933585,
          -0.49529842298612564
         ],
         "y": [
          0.15715964958598064,
          0.5621565349503211
         ]
        },
        {
         "marker": {
          "color": "'rgb 4,59,243'"
         },
         "mode": "markers",
         "text": "cluster = 10<br>connection<br>inetaddress<br>server<br>create<br>com.cloudbees.syslog.sender.tcpsyslogmessagesender<br>",
         "type": "scatter",
         "x": [
          0.2280699262253307,
          0.2280699262253309
         ],
         "y": [
          0.7192120042774502,
          0.7192120042774505
         ]
        },
        {
         "marker": {
          "color": "'rgb 160,203,118'"
         },
         "mode": "markers",
         "text": "cluster = 11<br>172.31.15.70 - - [31/may/2017:21:35:12 +0000] \"get /todolist/health-check http/1.1\" 200 50<br>zy4600e0qz6p6qiv21pikg<br>eoxowhuzsjcgev5cht6kta<br>correlationids<br>create<br>",
         "type": "scatter",
         "x": [
          -0.4134442277291136
         ],
         "y": [
          0.6949066115730885
         ]
        },
        {
         "marker": {
          "color": "'rgb 180,172,107'"
         },
         "mode": "markers",
         "text": "cluster = 12<br>com.novemberain.quartz.mongodb.triggerrunner<br>acquired<br>trigger<br>info<br>correlationids<br>",
         "type": "scatter",
         "x": [
          0.08241727581167907,
          0.08241727581385071
         ],
         "y": [
          0.3618155692059343,
          0.36181556920543473
         ]
        },
        {
         "marker": {
          "color": "'rgb 129,244,186'"
         },
         "mode": "markers",
         "text": "cluster = 13<br>software.wings.service.impl.delegateserviceimpl<br>task<br>broadcast<br>wa9gnxfqsuke9h8hqi0vng<br>info<br>",
         "type": "scatter",
         "x": [
          0.0021594035617564043,
          -0.06879865269582025
         ],
         "y": [
          0.6060364394650711,
          0.6219443735572235
         ]
        },
        {
         "marker": {
          "color": "'rgb 253,116,132'"
         },
         "mode": "markers",
         "text": "cluster = 14<br>172.31.15.70 - - [31/may/2017:21:36:12 +0000] \"get /todolist/health-check http/1.1\" 200 50<br>zy4600e0qz6p6qiv21pikg<br>eoxowhuzsjcgev5cht6kta<br>correlationids<br>create<br>",
         "type": "scatter",
         "x": [
          0.6943820410339663
         ],
         "y": [
          0.47253104919970673
         ]
        },
        {
         "marker": {
          "color": "'rgb 74,232,149'"
         },
         "mode": "markers",
         "text": "cluster = 15<br>default.84duaswystm1sg5zxlmung<br>fired<br>trigger<br>org.quartz.plugins.history.loggingjobhistoryplugin<br>info<br>",
         "type": "scatter",
         "x": [
          -0.4374878924255959,
          0.09569023053358831,
          -0.437487892424806,
          -0.10077918098790871
         ],
         "y": [
          -0.21075801578154174,
          -0.2516053420274182,
          -0.2107580157426323,
          -0.481666641679101
         ]
        }
       ],
       "layout": {
        "hovermode": "closest"
       }
      },
      "text/html": [
       "<div id=\"3ff94af9-034c-47de-8035-eacf763a21b4\" style=\"height: 525px; width: 100%;\" class=\"plotly-graph-div\"></div><script type=\"text/javascript\">require([\"plotly\"], function(Plotly) { window.PLOTLYENV=window.PLOTLYENV || {};window.PLOTLYENV.BASE_URL=\"https://plot.ly\";Plotly.newPlot(\"3ff94af9-034c-47de-8035-eacf763a21b4\", [{\"text\": \"cluster = 0<br>default.vj3t7b6htyyugnj0jifqxa<br>fired<br>trigger<br>org.quartz.plugins.history.loggingjobhistoryplugin<br>info<br>\", \"marker\": {\"color\": \"'rgb 157,116,84'\"}, \"mode\": \"markers\", \"y\": [-0.33653215324788716, -0.5088809557780039, -0.33653215324788677, -0.5088809557780772], \"x\": [-0.4016356254455079, 0.022733617071812734, -0.4016356254455077, 0.02273361707154945], \"type\": \"scatter\"}, {\"text\": \"cluster = 1<br>org.quartz.plugins.history.loggingjobhistoryplugin<br>fired<br>trigger<br>info<br>hsp55cwerwmz5ujazsfwhq<br>\", \"marker\": {\"color\": \"'rgb 47,221,129'\"}, \"mode\": \"markers\", \"y\": [-0.16817960641640017, -0.16817960641640023, -0.16817960641640023, -0.16817960641640026, -0.16817960641640017, -0.16817960641640012, -0.16817960641640023, -0.16817960641640023, -0.16817960641640023, -0.16817960641640017, -0.16817960641640017, -0.1681796064164002], \"x\": [-0.29299277584202893, -0.292992775842029, -0.292992775842029, -0.29299277584202904, -0.292992775842029, -0.29299277584202893, -0.292992775842029, -0.292992775842029, -0.29299277584202904, -0.292992775842029, -0.29299277584202904, -0.29299277584202904], \"type\": \"scatter\"}, {\"text\": \"cluster = 2<br>org.quartz.plugins.history.loggingtriggerhistoryplugin<br>fired<br>trigger<br>info<br>default.ubbwzvkhqfkvegzybbhpeg<br>\", \"marker\": {\"color\": \"'rgb 1,51,12'\"}, \"mode\": \"markers\", \"y\": [-0.6087468830727936, -0.34235001716722474, -0.34235001716722474, -0.34235001716722485, -0.34235001716722485, -0.34235001716722474, -0.3423500171672247, -0.6087468830800931, -0.3423500171672246, -0.3423500171672245, -0.3423500171672245, -0.34235001716722446, -0.3423500171672245, -0.34235001716722446], \"x\": [-0.09575917183138567, -0.015643598361538977, -0.015643598361538977, -0.015643598361538984, -0.015643598361538984, -0.01564359836153897, -0.01564359836153897, -0.09575917178371171, -0.015643598361538995, -0.015643598361539002, -0.015643598361539002, -0.015643598361539002, -0.01564359836153901, -0.015643598361538988], \"type\": \"scatter\"}, {\"text\": \"cluster = 3<br>complete<br>execution<br>reports<br>null<br>org.quartz.plugins.history.loggingjobhistoryplugin<br>\", \"marker\": {\"color\": \"'rgb 134,11,162'\"}, \"mode\": \"markers\", \"y\": [0.3027226310541416, 0.3027226310541416, 0.30272263105414154, 0.30272263105414193, 0.3027226310541418, 0.3027226310541418], \"x\": [-0.5795107700731248, -0.5795107700731249, -0.5795107700731249, -0.5795107700731251, -0.5795107700731251, -0.5795107700731252], \"type\": \"scatter\"}, {\"text\": \"cluster = 4<br>resulting<br>firing<br>code<br>completed<br>instruction<br>\", \"marker\": {\"color\": \"'rgb 97,85,139'\"}, \"mode\": \"markers\", \"y\": [-0.43114603402904905, -0.3748504767678073, -0.3916953388953387, -0.391695338895339, -0.4311460340290497, -0.37485047676780797, -0.3916953388953386, -0.3916953388953388], \"x\": [0.43575221919259943, 0.44854580205195616, 0.4637972968246549, 0.46379729682465504, 0.4357522191925994, 0.44854580205195566, 0.46379729682465476, 0.46379729682465476], \"type\": \"scatter\"}, {\"text\": \"cluster = 5<br>lock<br>com.novemberain.quartz.mongodb.dao.locksdao<br>removed<br>trigger<br>info<br>\", \"marker\": {\"color\": \"'rgb 110,76,3'\"}, \"mode\": \"markers\", \"y\": [0.0456814009811443, 0.11089569723374099, 0.19458272195989768, 0.11089569723340617, 0.045681403365797395, 0.11089569723374094, 0.18679839895732556, 0.11089569723374097], \"x\": [0.6562061369876444, 0.5687447426293059, 0.5721069584518979, 0.5687447426297604, 0.6562061371471708, 0.568744742629306, 0.5906737370677407, 0.5687447426293061], \"type\": \"scatter\"}, {\"text\": \"cluster = 6<br>delegate<br>command<br>splunk<br>http<br>jenkins<br>\", \"marker\": {\"color\": \"'rgb 132,223,113'\"}, \"mode\": \"markers\", \"y\": [0.756030747884773, 0.7562127579753664], \"x\": [0.011007761738341473, 0.015572603920382821], \"type\": \"scatter\"}, {\"text\": \"cluster = 7<br>zy4600e0qz6p6qiv21pikg<br>f67p97lwq3cbqdhqcdyevw<br>nvtumfrmtme0eqvydmzrcw<br>miei53pdqn2pscnnrgtnfw<br>kag4hdwsrkgmnsemh3mmgq<br>\", \"marker\": {\"color\": \"'rgb 184,93,242'\"}, \"mode\": \"markers\", \"y\": [0.7620273674161285, 0.7620273674161406], \"x\": [-0.24560642575289113, -0.24560642575286476], \"type\": \"scatter\"}, {\"text\": \"cluster = 8<br>queued<br>software.wings.app.delegatequeuetask<br>sync<br>broadcast<br>task<br>\", \"marker\": {\"color\": \"'rgb 109,137,168'\"}, \"mode\": \"markers\", \"y\": [0.5781385126024365, 0.5886468803626129, 0.5781392764815447, 0.5775626436536897], \"x\": [0.3836239773803894, 0.3952996286815715, 0.3836226601554648, 0.4083991839512881], \"type\": \"scatter\"}, {\"text\": \"cluster = 9<br>triggers<br>eligible<br>com.novemberain.quartz.mongodb.dao.triggerdao<br>info<br>hsp55cwerwmz5ujazsfwhq<br>\", \"marker\": {\"color\": \"'rgb 72,170,236'\"}, \"mode\": \"markers\", \"y\": [0.15715964958598064, 0.5621565349503211], \"x\": [-0.8101564729933585, -0.49529842298612564], \"type\": \"scatter\"}, {\"text\": \"cluster = 10<br>connection<br>inetaddress<br>server<br>create<br>com.cloudbees.syslog.sender.tcpsyslogmessagesender<br>\", \"marker\": {\"color\": \"'rgb 4,59,243'\"}, \"mode\": \"markers\", \"y\": [0.7192120042774502, 0.7192120042774505], \"x\": [0.2280699262253307, 0.2280699262253309], \"type\": \"scatter\"}, {\"text\": \"cluster = 11<br>172.31.15.70 - - [31/may/2017:21:35:12 +0000] \\\"get /todolist/health-check http/1.1\\\" 200 50<br>zy4600e0qz6p6qiv21pikg<br>eoxowhuzsjcgev5cht6kta<br>correlationids<br>create<br>\", \"marker\": {\"color\": \"'rgb 160,203,118'\"}, \"mode\": \"markers\", \"y\": [0.6949066115730885], \"x\": [-0.4134442277291136], \"type\": \"scatter\"}, {\"text\": \"cluster = 12<br>com.novemberain.quartz.mongodb.triggerrunner<br>acquired<br>trigger<br>info<br>correlationids<br>\", \"marker\": {\"color\": \"'rgb 180,172,107'\"}, \"mode\": \"markers\", \"y\": [0.3618155692059343, 0.36181556920543473], \"x\": [0.08241727581167907, 0.08241727581385071], \"type\": \"scatter\"}, {\"text\": \"cluster = 13<br>software.wings.service.impl.delegateserviceimpl<br>task<br>broadcast<br>wa9gnxfqsuke9h8hqi0vng<br>info<br>\", \"marker\": {\"color\": \"'rgb 129,244,186'\"}, \"mode\": \"markers\", \"y\": [0.6060364394650711, 0.6219443735572235], \"x\": [0.0021594035617564043, -0.06879865269582025], \"type\": \"scatter\"}, {\"text\": \"cluster = 14<br>172.31.15.70 - - [31/may/2017:21:36:12 +0000] \\\"get /todolist/health-check http/1.1\\\" 200 50<br>zy4600e0qz6p6qiv21pikg<br>eoxowhuzsjcgev5cht6kta<br>correlationids<br>create<br>\", \"marker\": {\"color\": \"'rgb 253,116,132'\"}, \"mode\": \"markers\", \"y\": [0.47253104919970673], \"x\": [0.6943820410339663], \"type\": \"scatter\"}, {\"text\": \"cluster = 15<br>default.84duaswystm1sg5zxlmung<br>fired<br>trigger<br>org.quartz.plugins.history.loggingjobhistoryplugin<br>info<br>\", \"marker\": {\"color\": \"'rgb 74,232,149'\"}, \"mode\": \"markers\", \"y\": [-0.21075801578154174, -0.2516053420274182, -0.2107580157426323, -0.481666641679101], \"x\": [-0.4374878924255959, 0.09569023053358831, -0.437487892424806, -0.10077918098790871], \"type\": \"scatter\"}], {\"hovermode\": \"closest\"}, {\"linkText\": \"Export to plot.ly\", \"showLink\": false})});</script>"
      ],
      "text/vnd.plotly.v1+html": [
       "<div id=\"3ff94af9-034c-47de-8035-eacf763a21b4\" style=\"height: 525px; width: 100%;\" class=\"plotly-graph-div\"></div><script type=\"text/javascript\">require([\"plotly\"], function(Plotly) { window.PLOTLYENV=window.PLOTLYENV || {};window.PLOTLYENV.BASE_URL=\"https://plot.ly\";Plotly.newPlot(\"3ff94af9-034c-47de-8035-eacf763a21b4\", [{\"text\": \"cluster = 0<br>default.vj3t7b6htyyugnj0jifqxa<br>fired<br>trigger<br>org.quartz.plugins.history.loggingjobhistoryplugin<br>info<br>\", \"marker\": {\"color\": \"'rgb 157,116,84'\"}, \"mode\": \"markers\", \"y\": [-0.33653215324788716, -0.5088809557780039, -0.33653215324788677, -0.5088809557780772], \"x\": [-0.4016356254455079, 0.022733617071812734, -0.4016356254455077, 0.02273361707154945], \"type\": \"scatter\"}, {\"text\": \"cluster = 1<br>org.quartz.plugins.history.loggingjobhistoryplugin<br>fired<br>trigger<br>info<br>hsp55cwerwmz5ujazsfwhq<br>\", \"marker\": {\"color\": \"'rgb 47,221,129'\"}, \"mode\": \"markers\", \"y\": [-0.16817960641640017, -0.16817960641640023, -0.16817960641640023, -0.16817960641640026, -0.16817960641640017, -0.16817960641640012, -0.16817960641640023, -0.16817960641640023, -0.16817960641640023, -0.16817960641640017, -0.16817960641640017, -0.1681796064164002], \"x\": [-0.29299277584202893, -0.292992775842029, -0.292992775842029, -0.29299277584202904, -0.292992775842029, -0.29299277584202893, -0.292992775842029, -0.292992775842029, -0.29299277584202904, -0.292992775842029, -0.29299277584202904, -0.29299277584202904], \"type\": \"scatter\"}, {\"text\": \"cluster = 2<br>org.quartz.plugins.history.loggingtriggerhistoryplugin<br>fired<br>trigger<br>info<br>default.ubbwzvkhqfkvegzybbhpeg<br>\", \"marker\": {\"color\": \"'rgb 1,51,12'\"}, \"mode\": \"markers\", \"y\": [-0.6087468830727936, -0.34235001716722474, -0.34235001716722474, -0.34235001716722485, -0.34235001716722485, -0.34235001716722474, -0.3423500171672247, -0.6087468830800931, -0.3423500171672246, -0.3423500171672245, -0.3423500171672245, -0.34235001716722446, -0.3423500171672245, -0.34235001716722446], \"x\": [-0.09575917183138567, -0.015643598361538977, -0.015643598361538977, -0.015643598361538984, -0.015643598361538984, -0.01564359836153897, -0.01564359836153897, -0.09575917178371171, -0.015643598361538995, -0.015643598361539002, -0.015643598361539002, -0.015643598361539002, -0.01564359836153901, -0.015643598361538988], \"type\": \"scatter\"}, {\"text\": \"cluster = 3<br>complete<br>execution<br>reports<br>null<br>org.quartz.plugins.history.loggingjobhistoryplugin<br>\", \"marker\": {\"color\": \"'rgb 134,11,162'\"}, \"mode\": \"markers\", \"y\": [0.3027226310541416, 0.3027226310541416, 0.30272263105414154, 0.30272263105414193, 0.3027226310541418, 0.3027226310541418], \"x\": [-0.5795107700731248, -0.5795107700731249, -0.5795107700731249, -0.5795107700731251, -0.5795107700731251, -0.5795107700731252], \"type\": \"scatter\"}, {\"text\": \"cluster = 4<br>resulting<br>firing<br>code<br>completed<br>instruction<br>\", \"marker\": {\"color\": \"'rgb 97,85,139'\"}, \"mode\": \"markers\", \"y\": [-0.43114603402904905, -0.3748504767678073, -0.3916953388953387, -0.391695338895339, -0.4311460340290497, -0.37485047676780797, -0.3916953388953386, -0.3916953388953388], \"x\": [0.43575221919259943, 0.44854580205195616, 0.4637972968246549, 0.46379729682465504, 0.4357522191925994, 0.44854580205195566, 0.46379729682465476, 0.46379729682465476], \"type\": \"scatter\"}, {\"text\": \"cluster = 5<br>lock<br>com.novemberain.quartz.mongodb.dao.locksdao<br>removed<br>trigger<br>info<br>\", \"marker\": {\"color\": \"'rgb 110,76,3'\"}, \"mode\": \"markers\", \"y\": [0.0456814009811443, 0.11089569723374099, 0.19458272195989768, 0.11089569723340617, 0.045681403365797395, 0.11089569723374094, 0.18679839895732556, 0.11089569723374097], \"x\": [0.6562061369876444, 0.5687447426293059, 0.5721069584518979, 0.5687447426297604, 0.6562061371471708, 0.568744742629306, 0.5906737370677407, 0.5687447426293061], \"type\": \"scatter\"}, {\"text\": \"cluster = 6<br>delegate<br>command<br>splunk<br>http<br>jenkins<br>\", \"marker\": {\"color\": \"'rgb 132,223,113'\"}, \"mode\": \"markers\", \"y\": [0.756030747884773, 0.7562127579753664], \"x\": [0.011007761738341473, 0.015572603920382821], \"type\": \"scatter\"}, {\"text\": \"cluster = 7<br>zy4600e0qz6p6qiv21pikg<br>f67p97lwq3cbqdhqcdyevw<br>nvtumfrmtme0eqvydmzrcw<br>miei53pdqn2pscnnrgtnfw<br>kag4hdwsrkgmnsemh3mmgq<br>\", \"marker\": {\"color\": \"'rgb 184,93,242'\"}, \"mode\": \"markers\", \"y\": [0.7620273674161285, 0.7620273674161406], \"x\": [-0.24560642575289113, -0.24560642575286476], \"type\": \"scatter\"}, {\"text\": \"cluster = 8<br>queued<br>software.wings.app.delegatequeuetask<br>sync<br>broadcast<br>task<br>\", \"marker\": {\"color\": \"'rgb 109,137,168'\"}, \"mode\": \"markers\", \"y\": [0.5781385126024365, 0.5886468803626129, 0.5781392764815447, 0.5775626436536897], \"x\": [0.3836239773803894, 0.3952996286815715, 0.3836226601554648, 0.4083991839512881], \"type\": \"scatter\"}, {\"text\": \"cluster = 9<br>triggers<br>eligible<br>com.novemberain.quartz.mongodb.dao.triggerdao<br>info<br>hsp55cwerwmz5ujazsfwhq<br>\", \"marker\": {\"color\": \"'rgb 72,170,236'\"}, \"mode\": \"markers\", \"y\": [0.15715964958598064, 0.5621565349503211], \"x\": [-0.8101564729933585, -0.49529842298612564], \"type\": \"scatter\"}, {\"text\": \"cluster = 10<br>connection<br>inetaddress<br>server<br>create<br>com.cloudbees.syslog.sender.tcpsyslogmessagesender<br>\", \"marker\": {\"color\": \"'rgb 4,59,243'\"}, \"mode\": \"markers\", \"y\": [0.7192120042774502, 0.7192120042774505], \"x\": [0.2280699262253307, 0.2280699262253309], \"type\": \"scatter\"}, {\"text\": \"cluster = 11<br>172.31.15.70 - - [31/may/2017:21:35:12 +0000] \\\"get /todolist/health-check http/1.1\\\" 200 50<br>zy4600e0qz6p6qiv21pikg<br>eoxowhuzsjcgev5cht6kta<br>correlationids<br>create<br>\", \"marker\": {\"color\": \"'rgb 160,203,118'\"}, \"mode\": \"markers\", \"y\": [0.6949066115730885], \"x\": [-0.4134442277291136], \"type\": \"scatter\"}, {\"text\": \"cluster = 12<br>com.novemberain.quartz.mongodb.triggerrunner<br>acquired<br>trigger<br>info<br>correlationids<br>\", \"marker\": {\"color\": \"'rgb 180,172,107'\"}, \"mode\": \"markers\", \"y\": [0.3618155692059343, 0.36181556920543473], \"x\": [0.08241727581167907, 0.08241727581385071], \"type\": \"scatter\"}, {\"text\": \"cluster = 13<br>software.wings.service.impl.delegateserviceimpl<br>task<br>broadcast<br>wa9gnxfqsuke9h8hqi0vng<br>info<br>\", \"marker\": {\"color\": \"'rgb 129,244,186'\"}, \"mode\": \"markers\", \"y\": [0.6060364394650711, 0.6219443735572235], \"x\": [0.0021594035617564043, -0.06879865269582025], \"type\": \"scatter\"}, {\"text\": \"cluster = 14<br>172.31.15.70 - - [31/may/2017:21:36:12 +0000] \\\"get /todolist/health-check http/1.1\\\" 200 50<br>zy4600e0qz6p6qiv21pikg<br>eoxowhuzsjcgev5cht6kta<br>correlationids<br>create<br>\", \"marker\": {\"color\": \"'rgb 253,116,132'\"}, \"mode\": \"markers\", \"y\": [0.47253104919970673], \"x\": [0.6943820410339663], \"type\": \"scatter\"}, {\"text\": \"cluster = 15<br>default.84duaswystm1sg5zxlmung<br>fired<br>trigger<br>org.quartz.plugins.history.loggingjobhistoryplugin<br>info<br>\", \"marker\": {\"color\": \"'rgb 74,232,149'\"}, \"mode\": \"markers\", \"y\": [-0.21075801578154174, -0.2516053420274182, -0.2107580157426323, -0.481666641679101], \"x\": [-0.4374878924255959, 0.09569023053358831, -0.437487892424806, -0.10077918098790871], \"type\": \"scatter\"}], {\"hovermode\": \"closest\"}, {\"linkText\": \"Export to plot.ly\", \"showLink\": false})});</script>"
      ]
     },
     "metadata": {},
     "output_type": "display_data"
    },
    {
     "data": {
      "application/vnd.plotly.v1+json": {
       "data": [
        {
         "marker": {
          "color": "blue",
          "opacity": 0.3
         },
         "mode": "markers",
         "name": "control",
         "text": [
          "172.31.15.70 - - [31/May/2017:21:35:12 +0000] \"GET /todolist/health-check HTTP/1.1\" 200 50<br> id = 0<br> cluster = 11",
          "INFO  [2017-05-31 21:35:18,184] com.novemberain.quartz.mongodb.TriggerRunner: Acquired trigger: DEFA<br>ULT.qg1NzWlPRhK-6JwXye_1ug<br> id = 1<br> cluster = 12",
          "INFO  [2017-05-31 21:35:18,184] com.novemberain.quartz.mongodb.dao.LocksDao: Inserting lock for trig<br>ger DEFAULT.qg1NzWlPRhK-6JwXye_1ug<br> id = 2<br> cluster = 5",
          "INFO  [2017-05-31 21:35:18,183] com.novemberain.quartz.mongodb.dao.TriggerDao: Found 2 triggers whic<br>h are eligible to be run.<br> id = 3<br> cluster = 9",
          "INFO  [2017-05-31 21:35:18,182] software.wings.service.impl.DelegateServiceImpl: Broadcast new task:<br> 488s8_pYSTO0ok_UqQNgdg<br> id = 4<br> cluster = 13",
          "INFO  [2017-05-31 21:35:18,182] com.novemberain.quartz.mongodb.dao.LocksDao: Trigger lock DEFAULT.vJ<br>3t7B6hTYyugnJ0JifqXA.NON_CLUSTERED removed.<br> id = 5<br> cluster = 5",
          "INFO  [2017-05-31 21:35:18,181] com.novemberain.quartz.mongodb.dao.LocksDao: Removing trigger lock D<br>EFAULT.vJ3t7B6hTYyugnJ0JifqXA.NON_CLUSTERED<br> id = 6<br> cluster = 5",
          "INFO  [2017-05-31 21:35:18,180] org.quartz.plugins.history.LoggingTriggerHistoryPlugin: Trigger DEFA<br>ULT.vJ3t7B6hTYyugnJ0JifqXA completed firing job vJ3t7B6hTYyugnJ0JifqXA.ARTIFACT_STREAM_CRON_GROUP at<br>  21:35:18 05/31/2017 with resulting trigger instruction code: DO NOTHING<br> id = 7<br> cluster = 4",
          "INFO  [2017-05-31 21:35:18,180] org.quartz.plugins.history.LoggingJobHistoryPlugin: Job vJ3t7B6hTYyu<br>gnJ0JifqXA.ARTIFACT_STREAM_CRON_GROUP execution complete at  21:35:18 05/31/2017 and reports: null<br> id = 8<br> cluster = 3",
          "INFO  [2017-05-31 21:35:18,180] org.quartz.plugins.history.LoggingJobHistoryPlugin: Job vJ3t7B6hTYyu<br>gnJ0JifqXA.ARTIFACT_STREAM_CRON_GROUP fired (by trigger DEFAULT.vJ3t7B6hTYyugnJ0JifqXA) at:  21:35:1<br>8 05/31/2017<br> id = 9<br> cluster = 0",
          "INFO  [2017-05-31 21:35:18,179] org.quartz.plugins.history.LoggingTriggerHistoryPlugin: Trigger DEFA<br>ULT.vJ3t7B6hTYyugnJ0JifqXA fired job vJ3t7B6hTYyugnJ0JifqXA.ARTIFACT_STREAM_CRON_GROUP at:  21:35:18<br> 05/31/2017<br> id = 10<br> cluster = 0",
          "INFO  [2017-05-31 21:35:18,038] software.wings.service.impl.DelegateServiceImpl: registering delegat<br>e: Delegate{accountId='kmpySmUISimoRrJL6NL73w', status=ENABLED, connected=true, ip='172.31.51.78', h<br>ostName='ip-172-31-51-78', lastHeartBeat=1496266518037, version='1.0.10', supportedTaskTypes=[HTTP, <br>SPLUNK, APP_DYNAMICS, JENKINS, JENKINS_COLLECTION, BAMBOO_COLLECTION, COMMAND, JENKINS_GET_BUILDS, J<br>ENKINS_GET_JOBS, JENKINS_GET_ARTIFACT_PATHS, JENKINS_LAST_SUCCESSFUL_BUILD, JENKINS_GET_PLANS, JENKI<br>NS_VALIDATE_ARTIFACT_SERVER, BAMBOO_GET_BUILDS, BAMBOO_GET_JOBS, BAMBOO_GET_ARTIFACT_PATHS, BAMBOO_L<br>AST_SUCCESSFUL_BUILD, BAMBOO_GET_PLANS, BAMBOO_VALIDATE_ARTIFACT_SERVER, DOCKER_GET_BUILDS, DOCKER_V<br>ALIDATE_ARTIFACT_SERVER, DOCKER_VALIDATE_ARTIFACT_STREAM, NEXUS_GET_JOBS, NEXUS_GET_PLANS, NEXUS_GET<br>_ARTIFACT_PATHS, NEXUS_GET_GROUP_IDS, NEXUS_GET_ARTIFACT_NAMES, NEXUS_GET_BUILDS, NEXUS_LAST_SUCCESS<br>FUL_BUILD, NEXUS_COLLECTION, NEXUS_VALIDATE_ARTIFACT_SERVER, APPDYNAMICS_CONFIGURATION_VALIDATE_TASK<br> id = 11<br> cluster = 6",
          "INFO  [2017-05-31 21:35:17,188] org.quartz.plugins.history.LoggingTriggerHistoryPlugin: Trigger DEFA<br>ULT.84DUAsWyStm1sg5ZXlMung completed firing job 84DUAsWyStm1sg5ZXlMung.ARTIFACT_STREAM_CRON_GROUP at<br>  21:35:17 05/31/2017 with resulting trigger instruction code: DO NOTHING<br> id = 12<br> cluster = 4",
          "INFO  [2017-05-31 21:35:17,188] org.quartz.plugins.history.LoggingJobHistoryPlugin: Job 84DUAsWyStm1<br>sg5ZXlMung.ARTIFACT_STREAM_CRON_GROUP execution complete at  21:35:17 05/31/2017 and reports: null<br> id = 13<br> cluster = 3",
          "INFO  [2017-05-31 21:35:17,188] org.quartz.plugins.history.LoggingJobHistoryPlugin: Job 84DUAsWyStm1<br>sg5ZXlMung.ARTIFACT_STREAM_CRON_GROUP fired (by trigger DEFAULT.84DUAsWyStm1sg5ZXlMung) at:  21:35:1<br>7 05/31/2017<br> id = 14<br> cluster = 15",
          "INFO  [2017-05-31 21:35:17,188] org.quartz.plugins.history.LoggingTriggerHistoryPlugin: Trigger DEFA<br>ULT.84DUAsWyStm1sg5ZXlMung fired job 84DUAsWyStm1sg5ZXlMung.ARTIFACT_STREAM_CRON_GROUP at:  21:35:17<br> 05/31/2017<br> id = 15<br> cluster = 15",
          "INFO  [2017-05-31 21:35:13,679] org.quartz.plugins.history.LoggingTriggerHistoryPlugin: Trigger DEFA<br>ULT.UBBWzVkhQfKVEgzyBBhpeg fired job UBBWzVkhQfKVEgzyBBhpeg.SM_CLEANUP_CRON_GROUP at:  21:35:13 05/3<br>1/2017<br> id = 16<br> cluster = 2",
          "INFO  [2017-05-31 21:35:08,731] com.novemberain.quartz.mongodb.dao.LocksDao: Trigger lock DEFAULT.D3<br>H_QL6_Riqw6hHqkzR--A.NON_CLUSTERED removed.<br> id = 17<br> cluster = 5",
          "INFO  [2017-05-31 21:35:08,729] org.quartz.plugins.history.LoggingTriggerHistoryPlugin: Trigger DEFA<br>ULT.D3H_QL6_Riqw6hHqkzR--A completed firing job D3H_QL6_Riqw6hHqkzR--A.ARTIFACT_STREAM_CRON_GROUP at<br>  21:35:08 05/31/2017 with resulting trigger instruction code: DO NOTHING<br> id = 18<br> cluster = 4",
          "INFO  [2017-05-31 21:35:08,729] org.quartz.plugins.history.LoggingJobHistoryPlugin: Job D3H_QL6_Riqw<br>6hHqkzR--A.ARTIFACT_STREAM_CRON_GROUP execution complete at  21:35:08 05/31/2017 and reports: null<br> id = 19<br> cluster = 3",
          "INFO  [2017-05-31 21:35:08,729] org.quartz.plugins.history.LoggingJobHistoryPlugin: Job D3H_QL6_Riqw<br>6hHqkzR--A.ARTIFACT_STREAM_CRON_GROUP fired (by trigger DEFAULT.D3H_QL6_Riqw6hHqkzR--A) at:  21:35:0<br>8 05/31/2017<br> id = 20<br> cluster = 1",
          "INFO  [2017-05-31 21:35:08,729] org.quartz.plugins.history.LoggingTriggerHistoryPlugin: Trigger DEFA<br>ULT.D3H_QL6_Riqw6hHqkzR--A fired job D3H_QL6_Riqw6hHqkzR--A.ARTIFACT_STREAM_CRON_GROUP at:  21:35:08<br> 05/31/2017<br> id = 21<br> cluster = 2",
          "INFO  [2017-05-31 21:35:08,340] org.quartz.plugins.history.LoggingTriggerHistoryPlugin: Trigger DEFA<br>ULT.AuG03-OeTsa1gx9m868dNw completed firing job AuG03-OeTsa1gx9m868dNw.SM_CLEANUP_CRON_GROUP at  21:<br>35:08 05/31/2017 with resulting trigger instruction code: DO NOTHING<br> id = 22<br> cluster = 4",
          "INFO  [2017-05-31 21:35:08,338] org.quartz.plugins.history.LoggingJobHistoryPlugin: Job AuG03-OeTsa1<br>gx9m868dNw.SM_CLEANUP_CRON_GROUP fired (by trigger DEFAULT.AuG03-OeTsa1gx9m868dNw) at:  21:35:08 05/<br>31/2017<br> id = 23<br> cluster = 1",
          "INFO  [2017-05-31 21:35:08,338] org.quartz.plugins.history.LoggingTriggerHistoryPlugin: Trigger DEFA<br>ULT.AuG03-OeTsa1gx9m868dNw fired job AuG03-OeTsa1gx9m868dNw.SM_CLEANUP_CRON_GROUP at:  21:35:08 05/3<br>1/2017<br> id = 24<br> cluster = 2",
          "INFO  [2017-05-31 21:35:01,412] org.quartz.plugins.history.LoggingJobHistoryPlugin: Job K0vzHq-KTsql<br>PivBpy5SZQ.SM_CLEANUP_CRON_GROUP fired (by trigger DEFAULT.K0vzHq-KTsqlPivBpy5SZQ) at:  21:35:01 05/<br>31/2017<br> id = 25<br> cluster = 1",
          "INFO  [2017-05-31 21:35:01,412] org.quartz.plugins.history.LoggingTriggerHistoryPlugin: Trigger DEFA<br>ULT.K0vzHq-KTsqlPivBpy5SZQ fired job K0vzHq-KTsqlPivBpy5SZQ.SM_CLEANUP_CRON_GROUP at:  21:35:01 05/3<br>1/2017<br> id = 26<br> cluster = 2",
          "INFO  [2017-05-31 21:34:58,811] org.quartz.plugins.history.LoggingJobHistoryPlugin: Job rDZXPoicQ-y9<br>EHe9vv_HyA.SM_CLEANUP_CRON_GROUP fired (by trigger DEFAULT.rDZXPoicQ-y9EHe9vv_HyA) at:  21:34:58 05/<br>31/2017<br> id = 27<br> cluster = 1",
          "INFO  [2017-05-31 21:34:58,811] org.quartz.plugins.history.LoggingTriggerHistoryPlugin: Trigger DEFA<br>ULT.rDZXPoicQ-y9EHe9vv_HyA fired job rDZXPoicQ-y9EHe9vv_HyA.SM_CLEANUP_CRON_GROUP at:  21:34:58 05/3<br>1/2017<br> id = 28<br> cluster = 2",
          "WARN  [2017-05-31 21:34:54,590] software.wings.waitnotify.Notifier: No entry in the waitQueue found <br>for the correlationIds: [kaG4hDwsRKGmNSEMH3MMgQ, 0UrlPx9sQeKA8pxVYP-AZA, hsbXDjzWTCWFfojREmmvSQ, hSp<br>55cwERwmz5ujaZsfwHQ, nJ3D48oOR-23j2MNYg1jHg, EoXOwhUZSjCgev5cHT6kTA, PYIm79AoRoif3R54ioxAGQ, WH9DCdn<br>xTt62b2MxgnBcqg, IYpXXgyJRGaKsXwF0n4a2A, hxzQPR1EQ5uIJW8LA1eDdQ, UmxbtjIWRuqo_aPJ0P4LDQ, 4xrEUEZ2Sgy<br>jypHGYbDRWQ, n01fA-jeSmaT3sbKtZeJzQ, x6fH5SIwQFq0YvC4p7q5_w, 7w0hvNANSW2AggOMn9w2VA, uM5q5HwSRUupJGl<br>Ed6AeTQ, kdS593IUSue4F68ne-P9ag, Ielw1FmMTRidCW6x4d32Vw, f67p97lWQ3CBqDhqCdYeVw, MMq8fSgVRgOls-jD--p<br>WdA, e0H1_6lfRk2_HJUrBJrBtg, tywf4xRhTemM7wc29BcaOw, Q4T-ZCukTmGmISoz-AQJLQ, 2zzAawdaTiumWRfU5PHcBQ,<br> EZSU2TmYRYegZ0YA_2WVnQ, 8xEYjmenTmi-eu8nmHC6rQ, 0Mws3BToTj64MPAxHShjBw, zy4600e0QZ6P6QIv21PIkg, 32O<br>m2QDqSIqvaQCAJYcHfQ, UYd9BQztRwGwegq1rFWKjw, R_Pzz35_Sw6sxpXUQGGOGw, zN8PfdYYQneISSbW9gojhg, YDwjc5t<br>QS6ynOvWaJgbwmg, Ez-HkRjITUO2aeRxfOABGQ, gyoKLsf0STCB-fTUxBDf-g, 0fKMcZEYSJmWhykY71FH4g, tvmhP5EPTbK<br> id = 29<br> cluster = 7",
          "INFO  [2017-05-31 21:34:40,039] org.quartz.plugins.history.LoggingJobHistoryPlugin: Job SFmGy4xrRpad<br>9Mql-fTqlg.SM_CLEANUP_CRON_GROUP fired (by trigger DEFAULT.SFmGy4xrRpad9Mql-fTqlg) at:  21:34:40 05/<br>31/2017<br> id = 30<br> cluster = 1",
          "INFO  [2017-05-31 21:34:40,039] org.quartz.plugins.history.LoggingTriggerHistoryPlugin: Trigger DEFA<br>ULT.SFmGy4xrRpad9Mql-fTqlg fired job SFmGy4xrRpad9Mql-fTqlg.SM_CLEANUP_CRON_GROUP at:  21:34:40 05/3<br>1/2017<br> id = 31<br> cluster = 2",
          "INFO  [2017-05-31 21:34:31,923] org.quartz.plugins.history.LoggingJobHistoryPlugin: Job cMr2y3_5Q-qh<br>VZHKSgtAww.SM_CLEANUP_CRON_GROUP fired (by trigger DEFAULT.cMr2y3_5Q-qhVZHKSgtAww) at:  21:34:31 05/<br>31/2017<br> id = 32<br> cluster = 1",
          "INFO  [2017-05-31 21:34:31,923] org.quartz.plugins.history.LoggingTriggerHistoryPlugin: Trigger DEFA<br>ULT.cMr2y3_5Q-qhVZHKSgtAww fired job cMr2y3_5Q-qhVZHKSgtAww.SM_CLEANUP_CRON_GROUP at:  21:34:31 05/3<br>1/2017<br> id = 33<br> cluster = 2",
          "INFO  [2017-05-31 21:34:29,942] software.wings.app.DelegateQueueTask: Broadcast queued sync task [ld<br>gb6-rBSbmK1Gdb5FSDLQ, null, QUEUED]<br> id = 34<br> cluster = 8",
          "INFO  [2017-05-31 21:34:29,941] software.wings.app.DelegateQueueTask: Broadcast queued sync task [ox<br>yvKQ8lQR24IkQN778Ljw, null, QUEUED]<br> id = 35<br> cluster = 8",
          "INFO  [2017-05-31 21:34:29,941] software.wings.app.DelegateQueueTask: Broadcast queued sync task [Zd<br>Z-c4CRQWGuufUP-SjpUA, null, QUEUED]<br> id = 36<br> cluster = 8",
          "INFO  [2017-05-31 21:34:29,939] software.wings.app.DelegateQueueTask: Broadcast queued sync task [96<br>FLHYp5TsaWQN6WEHCpkg, null, QUEUED]<br> id = 37<br> cluster = 8",
          "172.31.15.70 - - [31/May/2017:21:36:12 +0000] \"GET /todolist/health-check HTTP/1.1\" 200 50<br> id = 38<br> cluster = 14",
          "2017-05-31 21:36:19:690 [AsyncAppender-Worker-async-syslog-accesslogs-appender] com.cloudbees.syslog<br>.sender.TcpSyslogMessageSender - INFO: InetAddress of the Syslog Server have changed, create a new c<br>onnection. Before=syslog-a.logdna.com/40.71.95.146, new=syslog-a.logdna.com/40.114.45.243<br> id = 39<br> cluster = 10",
          "2017-05-31 21:36:19:690 [AsyncAppender-Worker-async-rsyslog-tcp-ssl-appender] com.cloudbees.syslog.s<br>ender.TcpSyslogMessageSender - INFO: InetAddress of the Syslog Server have changed, create a new con<br>nection. Before=syslog-a.logdna.com/40.71.95.146, new=syslog-a.logdna.com/40.114.45.243<br> id = 40<br> cluster = 10",
          "INFO  [2017-05-31 21:36:19,600] software.wings.service.impl.DelegateServiceImpl: registering delegat<br>e: Delegate{accountId='kmpySmUISimoRrJL6NL73w', status=ENABLED, connected=true, ip='172.31.51.78', h<br>ostName='ip-172-31-51-78', lastHeartBeat=1496266578037, version='1.0.10', supportedTaskTypes=[HTTP, <br>SPLUNK, APP_DYNAMICS, JENKINS, JENKINS_COLLECTION, BAMBOO_COLLECTION, COMMAND, JENKINS_GET_BUILDS, J<br>ENKINS_GET_JOBS, JENKINS_GET_ARTIFACT_PATHS, JENKINS_LAST_SUCCESSFUL_BUILD, JENKINS_GET_PLANS, JENKI<br>NS_VALIDATE_ARTIFACT_SERVER, BAMBOO_GET_BUILDS, BAMBOO_GET_JOBS, BAMBOO_GET_ARTIFACT_PATHS, BAMBOO_L<br>AST_SUCCESSFUL_BUILD, BAMBOO_GET_PLANS, BAMBOO_VALIDATE_ARTIFACT_SERVER, DOCKER_GET_BUILDS, DOCKER_V<br>ALIDATE_ARTIFACT_SERVER, DOCKER_VALIDATE_ARTIFACT_STREAM, NEXUS_GET_JOBS, NEXUS_GET_PLANS, NEXUS_GET<br>_ARTIFACT_PATHS, NEXUS_GET_GROUP_IDS, NEXUS_GET_ARTIFACT_NAMES, NEXUS_GET_BUILDS, NEXUS_LAST_SUCCESS<br>FUL_BUILD, NEXUS_COLLECTION, NEXUS_VALIDATE_ARTIFACT_SERVER, APPDYNAMICS_CONFIGURATION_VALIDATE_TASK<br> id = 41<br> cluster = 6",
          "INFO  [2017-05-31 21:36:18,184] com.novemberain.quartz.mongodb.TriggerRunner: Acquired trigger: DEFA<br>ULT.qg1NzWlPRhK-6JwXye_1ug<br> id = 42<br> cluster = 12",
          "INFO  [2017-05-31 21:36:18,184] com.novemberain.quartz.mongodb.dao.LocksDao: Inserting lock for trig<br>ger DEFAULT.qg1NzWlPRhK-6JwXye_1ug<br> id = 43<br> cluster = 5",
          "INFO  [2017-05-31 21:36:18,182] com.novemberain.quartz.mongodb.dao.TriggerDao: Found 2 triggers whic<br>h are eligible to be run.<br> id = 44<br> cluster = 9",
          "INFO  [2017-05-31 21:36:18,182] software.wings.service.impl.DelegateServiceImpl: Broadcast new task:<br> Wa9gNxFqSUKE9h8HqI0VNg<br> id = 45<br> cluster = 13",
          "INFO  [2017-05-31 21:36:18,181] com.novemberain.quartz.mongodb.dao.LocksDao: Trigger lock DEFAULT.vJ<br>3t7B6hTYyugnJ0JifqXA.NON_CLUSTERED removed.<br> id = 46<br> cluster = 5",
          "INFO  [2017-05-31 21:36:18,181] com.novemberain.quartz.mongodb.dao.LocksDao: Removing trigger lock D<br>EFAULT.vJ3t7B6hTYyugnJ0JifqXA.NON_CLUSTERED<br> id = 47<br> cluster = 5",
          "INFO  [2017-05-31 21:36:18,179] org.quartz.plugins.history.LoggingTriggerHistoryPlugin: Trigger DEFA<br>ULT.vJ3t7B6hTYyugnJ0JifqXA completed firing job vJ3t7B6hTYyugnJ0JifqXA.ARTIFACT_STREAM_CRON_GROUP at<br>  21:36:18 05/31/2017 with resulting trigger instruction code: DO NOTHING<br> id = 48<br> cluster = 4",
          "INFO  [2017-05-31 21:36:18,179] org.quartz.plugins.history.LoggingJobHistoryPlugin: Job vJ3t7B6hTYyu<br>gnJ0JifqXA.ARTIFACT_STREAM_CRON_GROUP execution complete at  21:36:18 05/31/2017 and reports: null<br> id = 49<br> cluster = 3",
          "INFO  [2017-05-31 21:36:18,179] org.quartz.plugins.history.LoggingJobHistoryPlugin: Job vJ3t7B6hTYyu<br>gnJ0JifqXA.ARTIFACT_STREAM_CRON_GROUP fired (by trigger DEFAULT.vJ3t7B6hTYyugnJ0JifqXA) at:  21:36:1<br>8 05/31/2017<br> id = 50<br> cluster = 0",
          "INFO  [2017-05-31 21:36:18,179] org.quartz.plugins.history.LoggingTriggerHistoryPlugin: Trigger DEFA<br>ULT.vJ3t7B6hTYyugnJ0JifqXA fired job vJ3t7B6hTYyugnJ0JifqXA.ARTIFACT_STREAM_CRON_GROUP at:  21:36:18<br> 05/31/2017<br> id = 51<br> cluster = 0",
          "INFO  [2017-05-31 21:36:17,188] org.quartz.plugins.history.LoggingTriggerHistoryPlugin: Trigger DEFA<br>ULT.84DUAsWyStm1sg5ZXlMung completed firing job 84DUAsWyStm1sg5ZXlMung.ARTIFACT_STREAM_CRON_GROUP at<br>  21:36:17 05/31/2017 with resulting trigger instruction code: DO NOTHING<br> id = 52<br> cluster = 4",
          "INFO  [2017-05-31 21:36:17,188] org.quartz.plugins.history.LoggingJobHistoryPlugin: Job 84DUAsWyStm1<br>sg5ZXlMung.ARTIFACT_STREAM_CRON_GROUP execution complete at  21:36:17 05/31/2017 and reports: null<br> id = 53<br> cluster = 3",
          "INFO  [2017-05-31 21:36:17,188] org.quartz.plugins.history.LoggingJobHistoryPlugin: Job 84DUAsWyStm1<br>sg5ZXlMung.ARTIFACT_STREAM_CRON_GROUP fired (by trigger DEFAULT.84DUAsWyStm1sg5ZXlMung) at:  21:36:1<br>7 05/31/2017<br> id = 54<br> cluster = 15",
          "INFO  [2017-05-31 21:36:17,188] org.quartz.plugins.history.LoggingTriggerHistoryPlugin: Trigger DEFA<br>ULT.84DUAsWyStm1sg5ZXlMung fired job 84DUAsWyStm1sg5ZXlMung.ARTIFACT_STREAM_CRON_GROUP at:  21:36:17<br> 05/31/2017<br> id = 55<br> cluster = 15",
          "INFO  [2017-05-31 21:36:13,678] org.quartz.plugins.history.LoggingTriggerHistoryPlugin: Trigger DEFA<br>ULT.UBBWzVkhQfKVEgzyBBhpeg fired job UBBWzVkhQfKVEgzyBBhpeg.SM_CLEANUP_CRON_GROUP at:  21:36:13 05/3<br>1/2017<br> id = 56<br> cluster = 2",
          "INFO  [2017-05-31 21:36:08,731] com.novemberain.quartz.mongodb.dao.LocksDao: Trigger lock DEFAULT.D3<br>H_QL6_Riqw6hHqkzR--A.NON_CLUSTERED removed.<br> id = 57<br> cluster = 5",
          "INFO  [2017-05-31 21:36:08,729] org.quartz.plugins.history.LoggingTriggerHistoryPlugin: Trigger DEFA<br>ULT.D3H_QL6_Riqw6hHqkzR--A completed firing job D3H_QL6_Riqw6hHqkzR--A.ARTIFACT_STREAM_CRON_GROUP at<br>  21:36:08 05/31/2017 with resulting trigger instruction code: DO NOTHING<br> id = 58<br> cluster = 4",
          "INFO  [2017-05-31 21:36:08,729] org.quartz.plugins.history.LoggingJobHistoryPlugin: Job D3H_QL6_Riqw<br>6hHqkzR--A.ARTIFACT_STREAM_CRON_GROUP execution complete at  21:36:08 05/31/2017 and reports: null<br> id = 59<br> cluster = 3",
          "INFO  [2017-05-31 21:36:08,729] org.quartz.plugins.history.LoggingJobHistoryPlugin: Job D3H_QL6_Riqw<br>6hHqkzR--A.ARTIFACT_STREAM_CRON_GROUP fired (by trigger DEFAULT.D3H_QL6_Riqw6hHqkzR--A) at:  21:36:0<br>8 05/31/2017<br> id = 60<br> cluster = 1",
          "INFO  [2017-05-31 21:36:08,729] org.quartz.plugins.history.LoggingTriggerHistoryPlugin: Trigger DEFA<br>ULT.D3H_QL6_Riqw6hHqkzR--A fired job D3H_QL6_Riqw6hHqkzR--A.ARTIFACT_STREAM_CRON_GROUP at:  21:36:08<br> 05/31/2017<br> id = 61<br> cluster = 2",
          "INFO  [2017-05-31 21:36:08,340] org.quartz.plugins.history.LoggingTriggerHistoryPlugin: Trigger DEFA<br>ULT.AuG03-OeTsa1gx9m868dNw completed firing job AuG03-OeTsa1gx9m868dNw.SM_CLEANUP_CRON_GROUP at  21:<br>36:08 05/31/2017 with resulting trigger instruction code: DO NOTHING<br> id = 62<br> cluster = 4",
          "INFO  [2017-05-31 21:36:08,337] org.quartz.plugins.history.LoggingJobHistoryPlugin: Job AuG03-OeTsa1<br>gx9m868dNw.SM_CLEANUP_CRON_GROUP fired (by trigger DEFAULT.AuG03-OeTsa1gx9m868dNw) at:  21:36:08 05/<br>31/2017<br> id = 63<br> cluster = 1",
          "INFO  [2017-05-31 21:36:08,337] org.quartz.plugins.history.LoggingTriggerHistoryPlugin: Trigger DEFA<br>ULT.AuG03-OeTsa1gx9m868dNw fired job AuG03-OeTsa1gx9m868dNw.SM_CLEANUP_CRON_GROUP at:  21:36:08 05/3<br>1/2017<br> id = 64<br> cluster = 2",
          "INFO  [2017-05-31 21:36:01,412] org.quartz.plugins.history.LoggingJobHistoryPlugin: Job K0vzHq-KTsql<br>PivBpy5SZQ.SM_CLEANUP_CRON_GROUP fired (by trigger DEFAULT.K0vzHq-KTsqlPivBpy5SZQ) at:  21:36:01 05/<br>31/2017<br> id = 65<br> cluster = 1",
          "INFO  [2017-05-31 21:36:01,412] org.quartz.plugins.history.LoggingTriggerHistoryPlugin: Trigger DEFA<br>ULT.K0vzHq-KTsqlPivBpy5SZQ fired job K0vzHq-KTsqlPivBpy5SZQ.SM_CLEANUP_CRON_GROUP at:  21:36:01 05/3<br>1/2017<br> id = 66<br> cluster = 2",
          "INFO  [2017-05-31 21:35:58,811] org.quartz.plugins.history.LoggingJobHistoryPlugin: Job rDZXPoicQ-y9<br>EHe9vv_HyA.SM_CLEANUP_CRON_GROUP fired (by trigger DEFAULT.rDZXPoicQ-y9EHe9vv_HyA) at:  21:35:58 05/<br>31/2017<br> id = 67<br> cluster = 1",
          "INFO  [2017-05-31 21:35:58,811] org.quartz.plugins.history.LoggingTriggerHistoryPlugin: Trigger DEFA<br>ULT.rDZXPoicQ-y9EHe9vv_HyA fired job rDZXPoicQ-y9EHe9vv_HyA.SM_CLEANUP_CRON_GROUP at:  21:35:58 05/3<br>1/2017<br> id = 68<br> cluster = 2",
          "WARN  [2017-05-31 21:35:54,623] software.wings.waitnotify.Notifier: No entry in the waitQueue found <br>for the correlationIds: [kaG4hDwsRKGmNSEMH3MMgQ, 0UrlPx9sQeKA8pxVYP-AZA, hsbXDjzWTCWFfojREmmvSQ, hSp<br>55cwERwmz5ujaZsfwHQ, nJ3D48oOR-23j2MNYg1jHg, EoXOwhUZSjCgev5cHT6kTA, PYIm79AoRoif3R54ioxAGQ, WH9DCdn<br>xTt62b2MxgnBcqg, IYpXXgyJRGaKsXwF0n4a2A, hxzQPR1EQ5uIJW8LA1eDdQ, UmxbtjIWRuqo_aPJ0P4LDQ, 4xrEUEZ2Sgy<br>jypHGYbDRWQ, n01fA-jeSmaT3sbKtZeJzQ, x6fH5SIwQFq0YvC4p7q5_w, 7w0hvNANSW2AggOMn9w2VA, uM5q5HwSRUupJGl<br>Ed6AeTQ, kdS593IUSue4F68ne-P9ag, Ielw1FmMTRidCW6x4d32Vw, f67p97lWQ3CBqDhqCdYeVw, MMq8fSgVRgOls-jD--p<br>WdA, e0H1_6lfRk2_HJUrBJrBtg, tywf4xRhTemM7wc29BcaOw, Q4T-ZCukTmGmISoz-AQJLQ, 2zzAawdaTiumWRfU5PHcBQ,<br> EZSU2TmYRYegZ0YA_2WVnQ, 8xEYjmenTmi-eu8nmHC6rQ, 0Mws3BToTj64MPAxHShjBw, zy4600e0QZ6P6QIv21PIkg, 32O<br>m2QDqSIqvaQCAJYcHfQ, UYd9BQztRwGwegq1rFWKjw, R_Pzz35_Sw6sxpXUQGGOGw, zN8PfdYYQneISSbW9gojhg, YDwjc5t<br>QS6ynOvWaJgbwmg, Ez-HkRjITUO2aeRxfOABGQ, gyoKLsf0STCB-fTUxBDf-g, 0fKMcZEYSJmWhykY71FH4g, tvmhP5EPTbK<br> id = 69<br> cluster = 7",
          "INFO  [2017-05-31 21:35:40,040] org.quartz.plugins.history.LoggingJobHistoryPlugin: Job SFmGy4xrRpad<br>9Mql-fTqlg.SM_CLEANUP_CRON_GROUP fired (by trigger DEFAULT.SFmGy4xrRpad9Mql-fTqlg) at:  21:35:40 05/<br>31/2017<br> id = 70<br> cluster = 1",
          "INFO  [2017-05-31 21:35:40,040] org.quartz.plugins.history.LoggingTriggerHistoryPlugin: Trigger DEFA<br>ULT.SFmGy4xrRpad9Mql-fTqlg fired job SFmGy4xrRpad9Mql-fTqlg.SM_CLEANUP_CRON_GROUP at:  21:35:40 05/3<br>1/2017<br> id = 71<br> cluster = 2",
          "INFO  [2017-05-31 21:35:31,923] org.quartz.plugins.history.LoggingJobHistoryPlugin: Job cMr2y3_5Q-qh<br>VZHKSgtAww.SM_CLEANUP_CRON_GROUP fired (by trigger DEFAULT.cMr2y3_5Q-qhVZHKSgtAww) at:  21:35:31 05/<br>31/2017<br> id = 72<br> cluster = 1",
          "INFO  [2017-05-31 21:35:31,923] org.quartz.plugins.history.LoggingTriggerHistoryPlugin: Trigger DEFA<br>ULT.cMr2y3_5Q-qhVZHKSgtAww fired job cMr2y3_5Q-qhVZHKSgtAww.SM_CLEANUP_CRON_GROUP at:  21:35:31 05/3<br>1/2017<br> id = 73<br> cluster = 2"
         ],
         "type": "scatter",
         "x": [
          0.11769824379267907,
          0.4228665938147823,
          0.3140441797395661,
          0.6252705631831296,
          0.6553051461075394,
          0.22627819404568514,
          0.16399593167184992,
          -0.29815190065376906,
          0.3067442997499703,
          -0.049218412063060574,
          -0.5726690970109661,
          0.7470547682389328,
          -0.36941709562842434,
          0.30674429974997014,
          -0.3630108210274103,
          -0.5391152769193372,
          -0.6272437142100666,
          0.22627819404568505,
          -0.3244332262550072,
          0.3067442997499701,
          -0.18977078460060573,
          -0.3484840978123527,
          -0.3244332262550072,
          -0.18977078460060567,
          -0.3484840978123525,
          -0.18977078460060573,
          -0.3484840978123525,
          -0.18977078460060567,
          -0.3484840978123525,
          -0.08027194003135481,
          -0.1897707846006059,
          -0.3484840978123527,
          -0.18977078460060573,
          -0.3484840978123527,
          0.7173288961716576,
          0.7336104384306803,
          0.7173288961716571,
          0.730972870992054,
          0.22516580229685462,
          0.6987196256236932,
          0.6987196256309869,
          0.7470547682389327,
          0.4228665938147819,
          0.3140439955003115,
          0.6252705609888836,
          0.6315510779070932,
          0.2262781940456852,
          0.1639959316718501,
          -0.2981519006537692,
          0.3067442997499701,
          -0.04921841192176608,
          -0.5726690970105691,
          -0.36941709562842445,
          0.3067442997499701,
          -0.3630108210274102,
          -0.5391152769193372,
          -0.6272437142114046,
          0.22627819404568514,
          -0.32443322625500726,
          0.3067442997499701,
          -0.18977078460060576,
          -0.3484840978123526,
          -0.32443322625500726,
          -0.18977078460060567,
          -0.34848409781235246,
          -0.18977078460060576,
          -0.3484840978123525,
          -0.18977078460060567,
          -0.34848409781235246,
          -0.08027194003051928,
          -0.1897707846006058,
          -0.3484840978123525,
          -0.1897707846006058,
          -0.34848409781235257
         ],
         "y": [
          -0.8530901228960288,
          0.15098723003451567,
          0.5130790885515752,
          0.4444661674706722,
          -0.0061528919112161596,
          0.5617031726566194,
          0.6457842088775079,
          0.5368207867622176,
          -0.5656836931694686,
          -0.36456826544099546,
          0.03346324253738738,
          0.19092012815560744,
          0.49138757861453175,
          -0.5656836931694689,
          -0.3775704773249187,
          -0.0979953412972735,
          0.0852195793838703,
          0.5617031726566194,
          0.5094102254258283,
          -0.5656836931694688,
          -0.24883437476008685,
          0.035102426828499796,
          0.5094102254258283,
          -0.24883437476008685,
          0.03510242682849988,
          -0.24883437476008677,
          0.03510242682849985,
          -0.24883437476008685,
          0.03510242682849988,
          -0.8513197079295655,
          -0.24883437476008685,
          0.035102426828499844,
          -0.24883437476008693,
          0.035102426828499796,
          -0.06811200822367292,
          -0.05853445033255733,
          -0.06811200822367293,
          -0.06545738189993103,
          -0.8383047006963149,
          -0.2514287420899925,
          -0.2514287420578555,
          0.19092012815560744,
          0.1509872300345158,
          0.5130779813979057,
          0.4444661730015484,
          -0.3870575471394359,
          0.56170317265662,
          0.6457842088775082,
          0.5368207867622173,
          -0.5656836931694688,
          -0.3645682652831776,
          0.03346324253866672,
          0.4913875786145319,
          -0.5656836931694688,
          -0.37757047732491866,
          -0.09799534129727366,
          0.08521957938025329,
          0.5617031726566194,
          0.509410225425828,
          -0.5656836931694686,
          -0.24883437476008688,
          0.035102426828499816,
          0.509410225425828,
          -0.24883437476008685,
          0.03510242682849987,
          -0.24883437476008685,
          0.03510242682849985,
          -0.24883437476008685,
          0.03510242682849987,
          -0.8513197079295888,
          -0.24883437476008685,
          0.03510242682849987,
          -0.24883437476008688,
          0.03510242682849983
         ]
        },
        {
         "marker": {
          "color": "orange",
          "opacity": 0.3
         },
         "mode": "markers",
         "name": "test",
         "text": [
          "INFO  [2017-05-31 21:45:32,590] com.novemberain.quartz.mongodb.TriggerRunner: Acquired trigger: DEFA<br>ULT.0dCbD2LCQ3uMm_RlVLMG2A<br> id = 74<br> cluster = 12",
          "INFO  [2017-05-31 21:45:32,589] com.novemberain.quartz.mongodb.dao.LocksDao: Inserting lock for trig<br>ger DEFAULT.0dCbD2LCQ3uMm_RlVLMG2A<br> id = 75<br> cluster = 5",
          "INFO  [2017-05-31 21:45:32,588] com.novemberain.quartz.mongodb.dao.TriggerDao: Found 2 triggers whic<br>h are eligible to be run.<br> id = 76<br> cluster = 9",
          "INFO  [2017-05-31 21:45:32,587] com.novemberain.quartz.mongodb.dao.LocksDao: Trigger lock DEFAULT.JG<br>e5oLOLTyGP_qgqF1YW1A.NON_CLUSTERED removed.<br> id = 77<br> cluster = 5",
          "INFO  [2017-05-31 21:45:32,586] com.novemberain.quartz.mongodb.dao.LocksDao: Removing trigger lock D<br>EFAULT.JGe5oLOLTyGP_qgqF1YW1A.NON_CLUSTERED<br> id = 78<br> cluster = 5",
          "INFO  [2017-05-31 21:45:32,585] org.quartz.plugins.history.LoggingTriggerHistoryPlugin: Trigger DEFA<br>ULT.JGe5oLOLTyGP_qgqF1YW1A completed firing job JGe5oLOLTyGP_qgqF1YW1A.SM_CLEANUP_CRON_GROUP at  21:<br>45:32 05/31/2017 with resulting trigger instruction code: DO NOTHING<br> id = 79<br> cluster = 4",
          "INFO  [2017-05-31 21:45:32,585] org.quartz.plugins.history.LoggingJobHistoryPlugin: Job JGe5oLOLTyGP<br>_qgqF1YW1A.SM_CLEANUP_CRON_GROUP execution complete at  21:45:32 05/31/2017 and reports: null<br> id = 80<br> cluster = 3",
          "INFO  [2017-05-31 21:45:32,583] org.quartz.plugins.history.LoggingJobHistoryPlugin: Job JGe5oLOLTyGP<br>_qgqF1YW1A.SM_CLEANUP_CRON_GROUP fired (by trigger DEFAULT.JGe5oLOLTyGP_qgqF1YW1A) at:  21:45:32 05/<br>31/2017<br> id = 81<br> cluster = 1",
          "INFO  [2017-05-31 21:45:32,583] org.quartz.plugins.history.LoggingTriggerHistoryPlugin: Trigger DEFA<br>ULT.JGe5oLOLTyGP_qgqF1YW1A fired job JGe5oLOLTyGP_qgqF1YW1A.SM_CLEANUP_CRON_GROUP at:  21:45:32 05/3<br>1/2017<br> id = 82<br> cluster = 2",
          "INFO  [2017-05-31 21:45:31,927] com.novemberain.quartz.mongodb.dao.LocksDao: Trigger lock DEFAULT.cM<br>r2y3_5Q-qhVZHKSgtAww.NON_CLUSTERED removed.<br> id = 83<br> cluster = 5",
          "INFO  [2017-05-31 21:45:31,925] org.quartz.plugins.history.LoggingTriggerHistoryPlugin: Trigger DEFA<br>ULT.cMr2y3_5Q-qhVZHKSgtAww completed firing job cMr2y3_5Q-qhVZHKSgtAww.SM_CLEANUP_CRON_GROUP at  21:<br>45:31 05/31/2017 with resulting trigger instruction code: DO NOTHING<br> id = 84<br> cluster = 4",
          "INFO  [2017-05-31 21:45:31,925] org.quartz.plugins.history.LoggingJobHistoryPlugin: Job cMr2y3_5Q-qh<br>VZHKSgtAww.SM_CLEANUP_CRON_GROUP execution complete at  21:45:31 05/31/2017 and reports: null<br> id = 85<br> cluster = 3",
          "INFO  [2017-05-31 21:45:31,923] org.quartz.plugins.history.LoggingJobHistoryPlugin: Job cMr2y3_5Q-qh<br>VZHKSgtAww.SM_CLEANUP_CRON_GROUP fired (by trigger DEFAULT.cMr2y3_5Q-qhVZHKSgtAww) at:  21:45:31 05/<br>31/2017<br> id = 86<br> cluster = 1",
          "INFO  [2017-05-31 21:45:31,923] org.quartz.plugins.history.LoggingTriggerHistoryPlugin: Trigger DEFA<br>ULT.cMr2y3_5Q-qhVZHKSgtAww fired job cMr2y3_5Q-qhVZHKSgtAww.SM_CLEANUP_CRON_GROUP at:  21:45:31 05/3<br>1/2017<br> id = 87<br> cluster = 2",
          "INFO  [2017-05-31 21:45:25,301] software.wings.service.impl.DelegateServiceImpl: Broadcast new task:<br> 4c9sbdU4RC6k5oAnsV8Rqw<br> id = 88<br> cluster = 13",
          "INFO  [2017-05-31 21:45:25,298] org.quartz.plugins.history.LoggingTriggerHistoryPlugin: Trigger DEFA<br>ULT.zrYxDJ8ASo658RtE7UhNug fired job zrYxDJ8ASo658RtE7UhNug.ARTIFACT_STREAM_CRON_GROUP at:  21:45:25<br> 05/31/2017<br> id = 89<br> cluster = 2",
          "WARN  [2017-05-31 21:45:24,942] software.wings.waitnotify.Notifier: No entry in the waitQueue found <br>for the correlationIds: [kaG4hDwsRKGmNSEMH3MMgQ, 0UrlPx9sQeKA8pxVYP-AZA, hsbXDjzWTCWFfojREmmvSQ, hSp<br>55cwERwmz5ujaZsfwHQ, nJ3D48oOR-23j2MNYg1jHg, EoXOwhUZSjCgev5cHT6kTA, PYIm79AoRoif3R54ioxAGQ, WH9DCdn<br>xTt62b2MxgnBcqg, IYpXXgyJRGaKsXwF0n4a2A, hxzQPR1EQ5uIJW8LA1eDdQ, UmxbtjIWRuqo_aPJ0P4LDQ, 4xrEUEZ2Sgy<br>jypHGYbDRWQ, n01fA-jeSmaT3sbKtZeJzQ, x6fH5SIwQFq0YvC4p7q5_w, 7w0hvNANSW2AggOMn9w2VA, uM5q5HwSRUupJGl<br>Ed6AeTQ, kdS593IUSue4F68ne-P9ag, Ielw1FmMTRidCW6x4d32Vw, f67p97lWQ3CBqDhqCdYeVw, MMq8fSgVRgOls-jD--p<br>WdA, e0H1_6lfRk2_HJUrBJrBtg, tywf4xRhTemM7wc29BcaOw, Q4T-ZCukTmGmISoz-AQJLQ, 2zzAawdaTiumWRfU5PHcBQ,<br> EZSU2TmYRYegZ0YA_2WVnQ, 8xEYjmenTmi-eu8nmHC6rQ, 0Mws3BToTj64MPAxHShjBw, zy4600e0QZ6P6QIv21PIkg, 32O<br>m2QDqSIqvaQCAJYcHfQ, UYd9BQztRwGwegq1rFWKjw, R_Pzz35_Sw6sxpXUQGGOGw, zN8PfdYYQneISSbW9gojhg, YDwjc5t<br>QS6ynOvWaJgbwmg, Ez-HkRjITUO2aeRxfOABGQ, gyoKLsf0STCB-fTUxBDf-g, 0fKMcZEYSJmWhykY71FH4g, tvmhP5EPTbK<br> id = 90<br> cluster = 7",
          "INFO  [2017-05-31 21:45:18,038] software.wings.service.impl.DelegateServiceImpl: registering delegat<br>e: Delegate{accountId='kmpySmUISimoRrJL6NL73w', status=ENABLED, connected=true, ip='172.31.51.78', h<br>ostName='ip-172-31-51-78', lastHeartBeat=1496267118037, version='1.0.10', supportedTaskTypes=[HTTP, <br>SPLUNK, APP_DYNAMICS, JENKINS, JENKINS_COLLECTION, BAMBOO_COLLECTION, COMMAND, JENKINS_GET_BUILDS, J<br>ENKINS_GET_JOBS, JENKINS_GET_ARTIFACT_PATHS, JENKINS_LAST_SUCCESSFUL_BUILD, JENKINS_GET_PLANS, JENKI<br>NS_VALIDATE_ARTIFACT_SERVER, BAMBOO_GET_BUILDS, BAMBOO_GET_JOBS, BAMBOO_GET_ARTIFACT_PATHS, BAMBOO_L<br>AST_SUCCESSFUL_BUILD, BAMBOO_GET_PLANS, BAMBOO_VALIDATE_ARTIFACT_SERVER, DOCKER_GET_BUILDS, DOCKER_V<br>ALIDATE_ARTIFACT_SERVER, DOCKER_VALIDATE_ARTIFACT_STREAM, NEXUS_GET_JOBS, NEXUS_GET_PLANS, NEXUS_GET<br>_ARTIFACT_PATHS, NEXUS_GET_GROUP_IDS, NEXUS_GET_ARTIFACT_NAMES, NEXUS_GET_BUILDS, NEXUS_LAST_SUCCESS<br>FUL_BUILD, NEXUS_COLLECTION, NEXUS_VALIDATE_ARTIFACT_SERVER, APPDYNAMICS_CONFIGURATION_VALIDATE_TASK<br> id = 91<br> cluster = 6",
          "INFO  [2017-05-31 21:45:17,189] org.quartz.plugins.history.LoggingTriggerHistoryPlugin: Trigger DEFA<br>ULT.84DUAsWyStm1sg5ZXlMung completed firing job 84DUAsWyStm1sg5ZXlMung.ARTIFACT_STREAM_CRON_GROUP at<br>  21:45:17 05/31/2017 with resulting trigger instruction code: DO NOTHING<br> id = 92<br> cluster = 4",
          "INFO  [2017-05-31 21:45:17,189] org.quartz.plugins.history.LoggingJobHistoryPlugin: Job 84DUAsWyStm1<br>sg5ZXlMung.ARTIFACT_STREAM_CRON_GROUP execution complete at  21:45:17 05/31/2017 and reports: null<br> id = 93<br> cluster = 3",
          "INFO  [2017-05-31 21:45:17,189] org.quartz.plugins.history.LoggingJobHistoryPlugin: Job 84DUAsWyStm1<br>sg5ZXlMung.ARTIFACT_STREAM_CRON_GROUP fired (by trigger DEFAULT.84DUAsWyStm1sg5ZXlMung) at:  21:45:1<br>7 05/31/2017<br> id = 94<br> cluster = 15",
          "INFO  [2017-05-31 21:45:17,189] org.quartz.plugins.history.LoggingTriggerHistoryPlugin: Trigger DEFA<br>ULT.84DUAsWyStm1sg5ZXlMung fired job 84DUAsWyStm1sg5ZXlMung.ARTIFACT_STREAM_CRON_GROUP at:  21:45:17<br> 05/31/2017<br> id = 95<br> cluster = 15",
          "INFO  [2017-05-31 21:45:08,729] org.quartz.plugins.history.LoggingTriggerHistoryPlugin: Trigger DEFA<br>ULT.D3H_QL6_Riqw6hHqkzR--A completed firing job D3H_QL6_Riqw6hHqkzR--A.ARTIFACT_STREAM_CRON_GROUP at<br>  21:45:08 05/31/2017 with resulting trigger instruction code: DO NOTHING<br> id = 96<br> cluster = 4",
          "INFO  [2017-05-31 21:45:08,729] org.quartz.plugins.history.LoggingJobHistoryPlugin: Job D3H_QL6_Riqw<br>6hHqkzR--A.ARTIFACT_STREAM_CRON_GROUP fired (by trigger DEFAULT.D3H_QL6_Riqw6hHqkzR--A) at:  21:45:0<br>8 05/31/2017<br> id = 97<br> cluster = 1",
          "INFO  [2017-05-31 21:45:08,729] org.quartz.plugins.history.LoggingTriggerHistoryPlugin: Trigger DEFA<br>ULT.D3H_QL6_Riqw6hHqkzR--A fired job D3H_QL6_Riqw6hHqkzR--A.ARTIFACT_STREAM_CRON_GROUP at:  21:45:08<br> 05/31/2017<br> id = 98<br> cluster = 2",
          "2017-05-31 21:45:08:338 [AsyncAppender-Worker-async-rsyslog-tcp-ssl-appender] com.cloudbees.syslog.s<br>ender.TcpSyslogMessageSender - INFO: InetAddress of the Syslog Server have changed, create a new con<br>nection. Before=syslog-a.logdna.com/40.114.41.103, new=syslog-a.logdna.com/40.114.45.243<br> id = 99<br> cluster = 10",
          "INFO  [2017-05-31 21:45:08,338] org.quartz.plugins.history.LoggingJobHistoryPlugin: Job AuG03-OeTsa1<br>gx9m868dNw.SM_CLEANUP_CRON_GROUP fired (by trigger DEFAULT.AuG03-OeTsa1gx9m868dNw) at:  21:45:08 05/<br>31/2017<br> id = 100<br> cluster = 1",
          "INFO  [2017-05-31 21:45:08,338] org.quartz.plugins.history.LoggingTriggerHistoryPlugin: Trigger DEFA<br>ULT.AuG03-OeTsa1gx9m868dNw fired job AuG03-OeTsa1gx9m868dNw.SM_CLEANUP_CRON_GROUP at:  21:45:08 05/3<br>1/2017<br> id = 101<br> cluster = 2",
          "2017-05-31 21:45:05:247 [AsyncAppender-Worker-async-syslog-accesslogs-appender] com.cloudbees.syslog<br>.sender.TcpSyslogMessageSender - INFO: InetAddress of the Syslog Server have changed, create a new c<br>onnection. Before=syslog-a.logdna.com/40.114.41.103, new=syslog-a.logdna.com/40.114.45.243<br> id = 102<br> cluster = 10",
          "INFO  [2017-05-31 21:45:01,413] org.quartz.plugins.history.LoggingJobHistoryPlugin: Job K0vzHq-KTsql<br>PivBpy5SZQ.SM_CLEANUP_CRON_GROUP fired (by trigger DEFAULT.K0vzHq-KTsqlPivBpy5SZQ) at:  21:45:01 05/<br>31/2017<br> id = 103<br> cluster = 1",
          "INFO  [2017-05-31 21:45:01,413] org.quartz.plugins.history.LoggingTriggerHistoryPlugin: Trigger DEFA<br>ULT.K0vzHq-KTsqlPivBpy5SZQ fired job K0vzHq-KTsqlPivBpy5SZQ.SM_CLEANUP_CRON_GROUP at:  21:45:01 05/3<br>1/2017<br> id = 104<br> cluster = 2",
          "INFO  [2017-05-31 21:44:58,810] org.quartz.plugins.history.LoggingJobHistoryPlugin: Job rDZXPoicQ-y9<br>EHe9vv_HyA.SM_CLEANUP_CRON_GROUP fired (by trigger DEFAULT.rDZXPoicQ-y9EHe9vv_HyA) at:  21:44:58 05/<br>31/2017<br> id = 105<br> cluster = 1",
          "INFO  [2017-05-31 21:44:58,810] org.quartz.plugins.history.LoggingTriggerHistoryPlugin: Trigger DEFA<br>ULT.rDZXPoicQ-y9EHe9vv_HyA fired job rDZXPoicQ-y9EHe9vv_HyA.SM_CLEANUP_CRON_GROUP at:  21:44:58 05/3<br>1/2017<br> id = 106<br> cluster = 2",
          "INFO  [2017-05-31 21:44:40,040] org.quartz.plugins.history.LoggingJobHistoryPlugin: Job SFmGy4xrRpad<br>9Mql-fTqlg.SM_CLEANUP_CRON_GROUP fired (by trigger DEFAULT.SFmGy4xrRpad9Mql-fTqlg) at:  21:44:40 05/<br>31/2017<br> id = 107<br> cluster = 1",
          "INFO  [2017-05-31 21:44:40,040] org.quartz.plugins.history.LoggingTriggerHistoryPlugin: Trigger DEFA<br>ULT.SFmGy4xrRpad9Mql-fTqlg fired job SFmGy4xrRpad9Mql-fTqlg.SM_CLEANUP_CRON_GROUP at:  21:44:40 05/3<br>1/2017<br> id = 108<br> cluster = 2",
          "INFO  [2017-05-31 21:46:38,313] com.novemberain.quartz.mongodb.TriggerRunner: Acquired trigger: DEFA<br>ULT.SFmGy4xrRpad9Mql-fTqlg<br> id = 109<br> cluster = 12",
          "INFO  [2017-05-31 21:46:38,313] com.novemberain.quartz.mongodb.dao.LocksDao: Inserting lock for trig<br>ger DEFAULT.SFmGy4xrRpad9Mql-fTqlg<br> id = 110<br> cluster = 5",
          "INFO  [2017-05-31 21:46:38,311] com.novemberain.quartz.mongodb.dao.TriggerDao: Found 2 triggers whic<br>h are eligible to be run.<br> id = 111<br> cluster = 9",
          "INFO  [2017-05-31 21:46:38,311] com.novemberain.quartz.mongodb.dao.LocksDao: Trigger lock DEFAULT.0d<br>CbD2LCQ3uMm_RlVLMG2A.NON_CLUSTERED removed.<br> id = 112<br> cluster = 5",
          "INFO  [2017-05-31 21:46:38,310] com.novemberain.quartz.mongodb.dao.LocksDao: Removing trigger lock D<br>EFAULT.0dCbD2LCQ3uMm_RlVLMG2A.NON_CLUSTERED<br> id = 113<br> cluster = 5",
          "INFO  [2017-05-31 21:46:38,309] org.quartz.plugins.history.LoggingTriggerHistoryPlugin: Trigger DEFA<br>ULT.0dCbD2LCQ3uMm_RlVLMG2A completed firing job 0dCbD2LCQ3uMm_RlVLMG2A.SM_CLEANUP_CRON_GROUP at  21:<br>46:38 05/31/2017 with resulting trigger instruction code: DO NOTHING<br> id = 114<br> cluster = 4",
          "INFO  [2017-05-31 21:46:38,309] org.quartz.plugins.history.LoggingJobHistoryPlugin: Job 0dCbD2LCQ3uM<br>m_RlVLMG2A.SM_CLEANUP_CRON_GROUP execution complete at  21:46:38 05/31/2017 and reports: null<br> id = 115<br> cluster = 3",
          "INFO  [2017-05-31 21:46:38,307] org.quartz.plugins.history.LoggingJobHistoryPlugin: Job 0dCbD2LCQ3uM<br>m_RlVLMG2A.SM_CLEANUP_CRON_GROUP fired (by trigger DEFAULT.0dCbD2LCQ3uMm_RlVLMG2A) at:  21:46:38 05/<br>31/2017<br> id = 116<br> cluster = 1",
          "INFO  [2017-05-31 21:46:38,306] org.quartz.plugins.history.LoggingTriggerHistoryPlugin: Trigger DEFA<br>ULT.0dCbD2LCQ3uMm_RlVLMG2A fired job 0dCbD2LCQ3uMm_RlVLMG2A.SM_CLEANUP_CRON_GROUP at:  21:46:38 05/3<br>1/2017<br> id = 117<br> cluster = 2",
          "INFO  [2017-05-31 21:46:32,584] org.quartz.plugins.history.LoggingTriggerHistoryPlugin: Trigger DEFA<br>ULT.JGe5oLOLTyGP_qgqF1YW1A completed firing job JGe5oLOLTyGP_qgqF1YW1A.SM_CLEANUP_CRON_GROUP at  21:<br>46:32 05/31/2017 with resulting trigger instruction code: DO NOTHING<br> id = 118<br> cluster = 4",
          "INFO  [2017-05-31 21:46:32,584] org.quartz.plugins.history.LoggingJobHistoryPlugin: Job JGe5oLOLTyGP<br>_qgqF1YW1A.SM_CLEANUP_CRON_GROUP execution complete at  21:46:32 05/31/2017 and reports: null<br> id = 119<br> cluster = 3",
          "INFO  [2017-05-31 21:46:32,583] org.quartz.plugins.history.LoggingJobHistoryPlugin: Job JGe5oLOLTyGP<br>_qgqF1YW1A.SM_CLEANUP_CRON_GROUP fired (by trigger DEFAULT.JGe5oLOLTyGP_qgqF1YW1A) at:  21:46:32 05/<br>31/2017<br> id = 120<br> cluster = 1",
          "INFO  [2017-05-31 21:46:32,583] org.quartz.plugins.history.LoggingTriggerHistoryPlugin: Trigger DEFA<br>ULT.JGe5oLOLTyGP_qgqF1YW1A fired job JGe5oLOLTyGP_qgqF1YW1A.SM_CLEANUP_CRON_GROUP at:  21:46:32 05/3<br>1/2017<br> id = 121<br> cluster = 2",
          "INFO  [2017-05-31 21:46:31,928] com.novemberain.quartz.mongodb.dao.LocksDao: Trigger lock DEFAULT.cM<br>r2y3_5Q-qhVZHKSgtAww.NON_CLUSTERED removed.<br> id = 122<br> cluster = 5",
          "INFO  [2017-05-31 21:46:31,926] org.quartz.plugins.history.LoggingTriggerHistoryPlugin: Trigger DEFA<br>ULT.cMr2y3_5Q-qhVZHKSgtAww completed firing job cMr2y3_5Q-qhVZHKSgtAww.SM_CLEANUP_CRON_GROUP at  21:<br>46:31 05/31/2017 with resulting trigger instruction code: DO NOTHING<br> id = 123<br> cluster = 4",
          "INFO  [2017-05-31 21:46:31,926] org.quartz.plugins.history.LoggingJobHistoryPlugin: Job cMr2y3_5Q-qh<br>VZHKSgtAww.SM_CLEANUP_CRON_GROUP execution complete at  21:46:31 05/31/2017 and reports: null<br> id = 124<br> cluster = 3",
          "INFO  [2017-05-31 21:46:31,924] org.quartz.plugins.history.LoggingJobHistoryPlugin: Job cMr2y3_5Q-qh<br>VZHKSgtAww.SM_CLEANUP_CRON_GROUP fired (by trigger DEFAULT.cMr2y3_5Q-qhVZHKSgtAww) at:  21:46:31 05/<br>31/2017<br> id = 125<br> cluster = 1",
          "INFO  [2017-05-31 21:46:31,924] org.quartz.plugins.history.LoggingTriggerHistoryPlugin: Trigger DEFA<br>ULT.cMr2y3_5Q-qhVZHKSgtAww fired job cMr2y3_5Q-qhVZHKSgtAww.SM_CLEANUP_CRON_GROUP at:  21:46:31 05/3<br>1/2017<br> id = 126<br> cluster = 2",
          "INFO  [2017-05-31 21:46:25,300] software.wings.service.impl.DelegateServiceImpl: Broadcast new task:<br> UH1yt4G1Q2eCtHOIUY76XA<br> id = 127<br> cluster = 13",
          "INFO  [2017-05-31 21:46:25,298] org.quartz.plugins.history.LoggingTriggerHistoryPlugin: Trigger DEFA<br>ULT.zrYxDJ8ASo658RtE7UhNug fired job zrYxDJ8ASo658RtE7UhNug.ARTIFACT_STREAM_CRON_GROUP at:  21:46:25<br> 05/31/2017<br> id = 128<br> cluster = 2",
          "WARN  [2017-05-31 21:46:24,975] software.wings.waitnotify.Notifier: No entry in the waitQueue found <br>for the correlationIds: [kaG4hDwsRKGmNSEMH3MMgQ, 0UrlPx9sQeKA8pxVYP-AZA, hsbXDjzWTCWFfojREmmvSQ, hSp<br>55cwERwmz5ujaZsfwHQ, nJ3D48oOR-23j2MNYg1jHg, EoXOwhUZSjCgev5cHT6kTA, PYIm79AoRoif3R54ioxAGQ, WH9DCdn<br>xTt62b2MxgnBcqg, IYpXXgyJRGaKsXwF0n4a2A, hxzQPR1EQ5uIJW8LA1eDdQ, UmxbtjIWRuqo_aPJ0P4LDQ, 4xrEUEZ2Sgy<br>jypHGYbDRWQ, n01fA-jeSmaT3sbKtZeJzQ, x6fH5SIwQFq0YvC4p7q5_w, 7w0hvNANSW2AggOMn9w2VA, uM5q5HwSRUupJGl<br>Ed6AeTQ, kdS593IUSue4F68ne-P9ag, Ielw1FmMTRidCW6x4d32Vw, f67p97lWQ3CBqDhqCdYeVw, MMq8fSgVRgOls-jD--p<br>WdA, e0H1_6lfRk2_HJUrBJrBtg, tywf4xRhTemM7wc29BcaOw, Q4T-ZCukTmGmISoz-AQJLQ, 2zzAawdaTiumWRfU5PHcBQ,<br> EZSU2TmYRYegZ0YA_2WVnQ, 8xEYjmenTmi-eu8nmHC6rQ, 0Mws3BToTj64MPAxHShjBw, zy4600e0QZ6P6QIv21PIkg, 32O<br>m2QDqSIqvaQCAJYcHfQ, UYd9BQztRwGwegq1rFWKjw, R_Pzz35_Sw6sxpXUQGGOGw, zN8PfdYYQneISSbW9gojhg, YDwjc5t<br>QS6ynOvWaJgbwmg, Ez-HkRjITUO2aeRxfOABGQ, gyoKLsf0STCB-fTUxBDf-g, 0fKMcZEYSJmWhykY71FH4g, tvmhP5EPTbK<br> id = 129<br> cluster = 7",
          "INFO  [2017-05-31 21:46:18,038] software.wings.service.impl.DelegateServiceImpl: registering delegat<br>e: Delegate{accountId='kmpySmUISimoRrJL6NL73w', status=ENABLED, connected=true, ip='172.31.51.78', h<br>ostName='ip-172-31-51-78', lastHeartBeat=1496267178037, version='1.0.10', supportedTaskTypes=[HTTP, <br>SPLUNK, APP_DYNAMICS, JENKINS, JENKINS_COLLECTION, BAMBOO_COLLECTION, COMMAND, JENKINS_GET_BUILDS, J<br>ENKINS_GET_JOBS, JENKINS_GET_ARTIFACT_PATHS, JENKINS_LAST_SUCCESSFUL_BUILD, JENKINS_GET_PLANS, JENKI<br>NS_VALIDATE_ARTIFACT_SERVER, BAMBOO_GET_BUILDS, BAMBOO_GET_JOBS, BAMBOO_GET_ARTIFACT_PATHS, BAMBOO_L<br>AST_SUCCESSFUL_BUILD, BAMBOO_GET_PLANS, BAMBOO_VALIDATE_ARTIFACT_SERVER, DOCKER_GET_BUILDS, DOCKER_V<br>ALIDATE_ARTIFACT_SERVER, DOCKER_VALIDATE_ARTIFACT_STREAM, NEXUS_GET_JOBS, NEXUS_GET_PLANS, NEXUS_GET<br>_ARTIFACT_PATHS, NEXUS_GET_GROUP_IDS, NEXUS_GET_ARTIFACT_NAMES, NEXUS_GET_BUILDS, NEXUS_LAST_SUCCESS<br>FUL_BUILD, NEXUS_COLLECTION, NEXUS_VALIDATE_ARTIFACT_SERVER, APPDYNAMICS_CONFIGURATION_VALIDATE_TASK<br> id = 130<br> cluster = 6",
          "2017-05-31 21:46:13:679 [AsyncAppender-Worker-async-rsyslog-tcp-ssl-appender] com.cloudbees.syslog.s<br>ender.TcpSyslogMessageSender - INFO: InetAddress of the Syslog Server have changed, create a new con<br>nection. Before=syslog-a.logdna.com/40.114.45.243, new=syslog-a.logdna.com/40.114.41.103<br> id = 131<br> cluster = 10",
          "2017-05-31 21:46:09:151 [AsyncAppender-Worker-async-syslog-accesslogs-appender] com.cloudbees.syslog<br>.sender.TcpSyslogMessageSender - INFO: InetAddress of the Syslog Server have changed, create a new c<br>onnection. Before=syslog-a.logdna.com/40.114.45.243, new=syslog-a.logdna.com/40.114.41.103<br> id = 132<br> cluster = 10",
          "INFO  [2017-05-31 21:46:08,729] org.quartz.plugins.history.LoggingTriggerHistoryPlugin: Trigger DEFA<br>ULT.D3H_QL6_Riqw6hHqkzR--A completed firing job D3H_QL6_Riqw6hHqkzR--A.ARTIFACT_STREAM_CRON_GROUP at<br>  21:46:08 05/31/2017 with resulting trigger instruction code: DO NOTHING<br> id = 133<br> cluster = 4",
          "INFO  [2017-05-31 21:46:08,729] org.quartz.plugins.history.LoggingJobHistoryPlugin: Job D3H_QL6_Riqw<br>6hHqkzR--A.ARTIFACT_STREAM_CRON_GROUP fired (by trigger DEFAULT.D3H_QL6_Riqw6hHqkzR--A) at:  21:46:0<br>8 05/31/2017<br> id = 134<br> cluster = 1",
          "INFO  [2017-05-31 21:46:08,729] org.quartz.plugins.history.LoggingTriggerHistoryPlugin: Trigger DEFA<br>ULT.D3H_QL6_Riqw6hHqkzR--A fired job D3H_QL6_Riqw6hHqkzR--A.ARTIFACT_STREAM_CRON_GROUP at:  21:46:08<br> 05/31/2017<br> id = 135<br> cluster = 2",
          "INFO  [2017-05-31 21:46:08,337] org.quartz.plugins.history.LoggingJobHistoryPlugin: Job AuG03-OeTsa1<br>gx9m868dNw.SM_CLEANUP_CRON_GROUP fired (by trigger DEFAULT.AuG03-OeTsa1gx9m868dNw) at:  21:46:08 05/<br>31/2017<br> id = 136<br> cluster = 1",
          "INFO  [2017-05-31 21:46:08,337] org.quartz.plugins.history.LoggingTriggerHistoryPlugin: Trigger DEFA<br>ULT.AuG03-OeTsa1gx9m868dNw fired job AuG03-OeTsa1gx9m868dNw.SM_CLEANUP_CRON_GROUP at:  21:46:08 05/3<br>1/2017<br> id = 137<br> cluster = 2",
          "INFO  [2017-05-31 21:46:01,412] org.quartz.plugins.history.LoggingJobHistoryPlugin: Job K0vzHq-KTsql<br>PivBpy5SZQ.SM_CLEANUP_CRON_GROUP fired (by trigger DEFAULT.K0vzHq-KTsqlPivBpy5SZQ) at:  21:46:01 05/<br>31/2017<br> id = 138<br> cluster = 1",
          "INFO  [2017-05-31 21:46:01,412] org.quartz.plugins.history.LoggingTriggerHistoryPlugin: Trigger DEFA<br>ULT.K0vzHq-KTsqlPivBpy5SZQ fired job K0vzHq-KTsqlPivBpy5SZQ.SM_CLEANUP_CRON_GROUP at:  21:46:01 05/3<br>1/2017<br> id = 139<br> cluster = 2",
          "INFO  [2017-05-31 21:45:58,810] org.quartz.plugins.history.LoggingJobHistoryPlugin: Job rDZXPoicQ-y9<br>EHe9vv_HyA.SM_CLEANUP_CRON_GROUP fired (by trigger DEFAULT.rDZXPoicQ-y9EHe9vv_HyA) at:  21:45:58 05/<br>31/2017<br> id = 140<br> cluster = 1",
          "INFO  [2017-05-31 21:45:58,810] org.quartz.plugins.history.LoggingTriggerHistoryPlugin: Trigger DEFA<br>ULT.rDZXPoicQ-y9EHe9vv_HyA fired job rDZXPoicQ-y9EHe9vv_HyA.SM_CLEANUP_CRON_GROUP at:  21:45:58 05/3<br>1/2017<br> id = 141<br> cluster = 2",
          "INFO  [2017-05-31 21:45:40,040] org.quartz.plugins.history.LoggingJobHistoryPlugin: Job SFmGy4xrRpad<br>9Mql-fTqlg.SM_CLEANUP_CRON_GROUP fired (by trigger DEFAULT.SFmGy4xrRpad9Mql-fTqlg) at:  21:45:40 05/<br>31/2017<br> id = 142<br> cluster = 1",
          "INFO  [2017-05-31 21:45:40,040] org.quartz.plugins.history.LoggingTriggerHistoryPlugin: Trigger DEFA<br>ULT.SFmGy4xrRpad9Mql-fTqlg fired job SFmGy4xrRpad9Mql-fTqlg.SM_CLEANUP_CRON_GROUP at:  21:45:40 05/3<br>1/2017<br> id = 143<br> cluster = 2",
          "WARN  [2017-05-31 21:47:25,007] software.wings.waitnotify.Notifier: No entry in the waitQueue found <br>for the correlationIds: [kaG4hDwsRKGmNSEMH3MMgQ, 0UrlPx9sQeKA8pxVYP-AZA, hsbXDjzWTCWFfojREmmvSQ, hSp<br>55cwERwmz5ujaZsfwHQ, nJ3D48oOR-23j2MNYg1jHg, EoXOwhUZSjCgev5cHT6kTA, PYIm79AoRoif3R54ioxAGQ, WH9DCdn<br>xTt62b2MxgnBcqg, IYpXXgyJRGaKsXwF0n4a2A, hxzQPR1EQ5uIJW8LA1eDdQ, UmxbtjIWRuqo_aPJ0P4LDQ, 4xrEUEZ2Sgy<br>jypHGYbDRWQ, n01fA-jeSmaT3sbKtZeJzQ, x6fH5SIwQFq0YvC4p7q5_w, 7w0hvNANSW2AggOMn9w2VA, uM5q5HwSRUupJGl<br>Ed6AeTQ, kdS593IUSue4F68ne-P9ag, Ielw1FmMTRidCW6x4d32Vw, f67p97lWQ3CBqDhqCdYeVw, MMq8fSgVRgOls-jD--p<br>WdA, e0H1_6lfRk2_HJUrBJrBtg, tywf4xRhTemM7wc29BcaOw, Q4T-ZCukTmGmISoz-AQJLQ, 2zzAawdaTiumWRfU5PHcBQ,<br> EZSU2TmYRYegZ0YA_2WVnQ, 8xEYjmenTmi-eu8nmHC6rQ, 0Mws3BToTj64MPAxHShjBw, zy4600e0QZ6P6QIv21PIkg, 32O<br>m2QDqSIqvaQCAJYcHfQ, UYd9BQztRwGwegq1rFWKjw, R_Pzz35_Sw6sxpXUQGGOGw, zN8PfdYYQneISSbW9gojhg, YDwjc5t<br>QS6ynOvWaJgbwmg, Ez-HkRjITUO2aeRxfOABGQ, gyoKLsf0STCB-fTUxBDf-g, 0fKMcZEYSJmWhykY71FH4g, tvmhP5EPTbK<br> id = 144<br> cluster = 7",
          "INFO  [2017-05-31 21:47:24,819] com.novemberain.quartz.mongodb.TriggerRunner: Acquired trigger: DEFA<br>ULT.zrYxDJ8ASo658RtE7UhNug<br> id = 145<br> cluster = 12",
          "INFO  [2017-05-31 21:47:24,818] com.novemberain.quartz.mongodb.dao.LocksDao: Inserting lock for trig<br>ger DEFAULT.zrYxDJ8ASo658RtE7UhNug<br> id = 146<br> cluster = 5",
          "INFO  [2017-05-31 21:47:24,817] com.novemberain.quartz.mongodb.dao.TriggerDao: Found 4 triggers whic<br>h are eligible to be run.<br> id = 147<br> cluster = 9",
          "INFO  [2017-05-31 21:47:24,816] com.novemberain.quartz.mongodb.dao.LocksDao: Trigger lock DEFAULT.qg<br>1NzWlPRhK-6JwXye_1ug.NON_CLUSTERED removed.<br> id = 148<br> cluster = 5",
          "INFO  [2017-05-31 21:47:24,815] com.novemberain.quartz.mongodb.dao.LocksDao: Removing trigger lock D<br>EFAULT.qg1NzWlPRhK-6JwXye_1ug.NON_CLUSTERED<br> id = 149<br> cluster = 5",
          "INFO  [2017-05-31 21:47:24,814] org.quartz.plugins.history.LoggingTriggerHistoryPlugin: Trigger DEFA<br>ULT.qg1NzWlPRhK-6JwXye_1ug completed firing job qg1NzWlPRhK-6JwXye_1ug.ARTIFACT_STREAM_CRON_GROUP at<br>  21:47:24 05/31/2017 with resulting trigger instruction code: DO NOTHING<br> id = 150<br> cluster = 4",
          "INFO  [2017-05-31 21:47:24,814] org.quartz.plugins.history.LoggingJobHistoryPlugin: Job qg1NzWlPRhK-<br>6JwXye_1ug.ARTIFACT_STREAM_CRON_GROUP execution complete at  21:47:24 05/31/2017 and reports: null<br> id = 151<br> cluster = 3",
          "2017-05-31 21:47:24:814 [AsyncAppender-Worker-async-rsyslog-tcp-ssl-appender] com.cloudbees.syslog.s<br>ender.TcpSyslogMessageSender - INFO: InetAddress of the Syslog Server have changed, create a new con<br>nection. Before=syslog-a.logdna.com/40.114.41.103, new=syslog-a.logdna.com/40.114.40.67<br> id = 152<br> cluster = 10",
          "INFO  [2017-05-31 21:47:24,814] org.quartz.plugins.history.LoggingJobHistoryPlugin: Job qg1NzWlPRhK-<br>6JwXye_1ug.ARTIFACT_STREAM_CRON_GROUP fired (by trigger DEFAULT.qg1NzWlPRhK-6JwXye_1ug) at:  21:47:2<br>4 05/31/2017<br> id = 153<br> cluster = 1",
          "INFO  [2017-05-31 21:47:24,814] org.quartz.plugins.history.LoggingTriggerHistoryPlugin: Trigger DEFA<br>ULT.qg1NzWlPRhK-6JwXye_1ug fired job qg1NzWlPRhK-6JwXye_1ug.ARTIFACT_STREAM_CRON_GROUP at:  21:47:24<br> 05/31/2017<br> id = 154<br> cluster = 2",
          "INFO  [2017-05-31 21:47:18,181] software.wings.service.impl.DelegateServiceImpl: Broadcast new task:<br> RnDTUmaGTTKV8pSTp2ZDbw<br> id = 155<br> cluster = 13",
          "INFO  [2017-05-31 21:47:18,038] software.wings.service.impl.DelegateServiceImpl: registering delegat<br>e: Delegate{accountId='kmpySmUISimoRrJL6NL73w', status=ENABLED, connected=true, ip='172.31.51.78', h<br>ostName='ip-172-31-51-78', lastHeartBeat=1496267238037, version='1.0.10', supportedTaskTypes=[HTTP, <br>SPLUNK, APP_DYNAMICS, JENKINS, JENKINS_COLLECTION, BAMBOO_COLLECTION, COMMAND, JENKINS_GET_BUILDS, J<br>ENKINS_GET_JOBS, JENKINS_GET_ARTIFACT_PATHS, JENKINS_LAST_SUCCESSFUL_BUILD, JENKINS_GET_PLANS, JENKI<br>NS_VALIDATE_ARTIFACT_SERVER, BAMBOO_GET_BUILDS, BAMBOO_GET_JOBS, BAMBOO_GET_ARTIFACT_PATHS, BAMBOO_L<br>AST_SUCCESSFUL_BUILD, BAMBOO_GET_PLANS, BAMBOO_VALIDATE_ARTIFACT_SERVER, DOCKER_GET_BUILDS, DOCKER_V<br>ALIDATE_ARTIFACT_SERVER, DOCKER_VALIDATE_ARTIFACT_STREAM, NEXUS_GET_JOBS, NEXUS_GET_PLANS, NEXUS_GET<br>_ARTIFACT_PATHS, NEXUS_GET_GROUP_IDS, NEXUS_GET_ARTIFACT_NAMES, NEXUS_GET_BUILDS, NEXUS_LAST_SUCCESS<br>FUL_BUILD, NEXUS_COLLECTION, NEXUS_VALIDATE_ARTIFACT_SERVER, APPDYNAMICS_CONFIGURATION_VALIDATE_TASK<br> id = 156<br> cluster = 6",
          "INFO  [2017-05-31 21:47:17,188] org.quartz.plugins.history.LoggingTriggerHistoryPlugin: Trigger DEFA<br>ULT.84DUAsWyStm1sg5ZXlMung completed firing job 84DUAsWyStm1sg5ZXlMung.ARTIFACT_STREAM_CRON_GROUP at<br>  21:47:17 05/31/2017 with resulting trigger instruction code: DO NOTHING<br> id = 157<br> cluster = 4",
          "INFO  [2017-05-31 21:47:17,188] org.quartz.plugins.history.LoggingJobHistoryPlugin: Job 84DUAsWyStm1<br>sg5ZXlMung.ARTIFACT_STREAM_CRON_GROUP execution complete at  21:47:17 05/31/2017 and reports: null<br> id = 158<br> cluster = 3",
          "INFO  [2017-05-31 21:47:17,188] org.quartz.plugins.history.LoggingJobHistoryPlugin: Job 84DUAsWyStm1<br>sg5ZXlMung.ARTIFACT_STREAM_CRON_GROUP fired (by trigger DEFAULT.84DUAsWyStm1sg5ZXlMung) at:  21:47:1<br>7 05/31/2017<br> id = 159<br> cluster = 15",
          "INFO  [2017-05-31 21:47:17,188] org.quartz.plugins.history.LoggingTriggerHistoryPlugin: Trigger DEFA<br>ULT.84DUAsWyStm1sg5ZXlMung fired job 84DUAsWyStm1sg5ZXlMung.ARTIFACT_STREAM_CRON_GROUP at:  21:47:17<br> 05/31/2017<br> id = 160<br> cluster = 15",
          "2017-05-31 21:47:14:191 [AsyncAppender-Worker-async-syslog-accesslogs-appender] com.cloudbees.syslog<br>.sender.TcpSyslogMessageSender - INFO: InetAddress of the Syslog Server have changed, create a new c<br>onnection. Before=syslog-a.logdna.com/40.114.41.103, new=syslog-a.logdna.com/40.114.40.67<br> id = 161<br> cluster = 10",
          "INFO  [2017-05-31 21:47:13,679] org.quartz.plugins.history.LoggingTriggerHistoryPlugin: Trigger DEFA<br>ULT.UBBWzVkhQfKVEgzyBBhpeg fired job UBBWzVkhQfKVEgzyBBhpeg.SM_CLEANUP_CRON_GROUP at:  21:47:13 05/3<br>1/2017<br> id = 162<br> cluster = 2",
          "INFO  [2017-05-31 21:47:08,731] com.novemberain.quartz.mongodb.dao.LocksDao: Trigger lock DEFAULT.D3<br>H_QL6_Riqw6hHqkzR--A.NON_CLUSTERED removed.<br> id = 163<br> cluster = 5",
          "INFO  [2017-05-31 21:47:08,729] org.quartz.plugins.history.LoggingTriggerHistoryPlugin: Trigger DEFA<br>ULT.D3H_QL6_Riqw6hHqkzR--A completed firing job D3H_QL6_Riqw6hHqkzR--A.ARTIFACT_STREAM_CRON_GROUP at<br>  21:47:08 05/31/2017 with resulting trigger instruction code: DO NOTHING<br> id = 164<br> cluster = 4",
          "INFO  [2017-05-31 21:47:08,728] org.quartz.plugins.history.LoggingJobHistoryPlugin: Job D3H_QL6_Riqw<br>6hHqkzR--A.ARTIFACT_STREAM_CRON_GROUP execution complete at  21:47:08 05/31/2017 and reports: null<br> id = 165<br> cluster = 3",
          "INFO  [2017-05-31 21:47:08,728] org.quartz.plugins.history.LoggingJobHistoryPlugin: Job D3H_QL6_Riqw<br>6hHqkzR--A.ARTIFACT_STREAM_CRON_GROUP fired (by trigger DEFAULT.D3H_QL6_Riqw6hHqkzR--A) at:  21:47:0<br>8 05/31/2017<br> id = 166<br> cluster = 1",
          "INFO  [2017-05-31 21:47:08,728] org.quartz.plugins.history.LoggingTriggerHistoryPlugin: Trigger DEFA<br>ULT.D3H_QL6_Riqw6hHqkzR--A fired job D3H_QL6_Riqw6hHqkzR--A.ARTIFACT_STREAM_CRON_GROUP at:  21:47:08<br> 05/31/2017<br> id = 167<br> cluster = 2",
          "INFO  [2017-05-31 21:47:08,340] org.quartz.plugins.history.LoggingTriggerHistoryPlugin: Trigger DEFA<br>ULT.AuG03-OeTsa1gx9m868dNw completed firing job AuG03-OeTsa1gx9m868dNw.SM_CLEANUP_CRON_GROUP at  21:<br>47:08 05/31/2017 with resulting trigger instruction code: DO NOTHING<br> id = 168<br> cluster = 4",
          "INFO  [2017-05-31 21:47:08,338] org.quartz.plugins.history.LoggingJobHistoryPlugin: Job AuG03-OeTsa1<br>gx9m868dNw.SM_CLEANUP_CRON_GROUP fired (by trigger DEFAULT.AuG03-OeTsa1gx9m868dNw) at:  21:47:08 05/<br>31/2017<br> id = 169<br> cluster = 1",
          "INFO  [2017-05-31 21:47:08,338] org.quartz.plugins.history.LoggingTriggerHistoryPlugin: Trigger DEFA<br>ULT.AuG03-OeTsa1gx9m868dNw fired job AuG03-OeTsa1gx9m868dNw.SM_CLEANUP_CRON_GROUP at:  21:47:08 05/3<br>1/2017<br> id = 170<br> cluster = 2",
          "INFO  [2017-05-31 21:47:01,412] org.quartz.plugins.history.LoggingJobHistoryPlugin: Job K0vzHq-KTsql<br>PivBpy5SZQ.SM_CLEANUP_CRON_GROUP fired (by trigger DEFAULT.K0vzHq-KTsqlPivBpy5SZQ) at:  21:47:01 05/<br>31/2017<br> id = 171<br> cluster = 1",
          "INFO  [2017-05-31 21:47:01,412] org.quartz.plugins.history.LoggingTriggerHistoryPlugin: Trigger DEFA<br>ULT.K0vzHq-KTsqlPivBpy5SZQ fired job K0vzHq-KTsqlPivBpy5SZQ.SM_CLEANUP_CRON_GROUP at:  21:47:01 05/3<br>1/2017<br> id = 172<br> cluster = 2",
          "INFO  [2017-05-31 21:46:58,811] org.quartz.plugins.history.LoggingJobHistoryPlugin: Job rDZXPoicQ-y9<br>EHe9vv_HyA.SM_CLEANUP_CRON_GROUP fired (by trigger DEFAULT.rDZXPoicQ-y9EHe9vv_HyA) at:  21:46:58 05/<br>31/2017<br> id = 173<br> cluster = 1",
          "INFO  [2017-05-31 21:46:58,811] org.quartz.plugins.history.LoggingTriggerHistoryPlugin: Trigger DEFA<br>ULT.rDZXPoicQ-y9EHe9vv_HyA fired job rDZXPoicQ-y9EHe9vv_HyA.SM_CLEANUP_CRON_GROUP at:  21:46:58 05/3<br>1/2017<br> id = 174<br> cluster = 2"
         ],
         "type": "scatter",
         "x": [
          0.4228665938147819,
          0.3140439955003115,
          0.6252705631831561,
          0.22627819404568505,
          0.1639959316718502,
          -0.3244332262550074,
          0.3067442997499701,
          -0.18977078460060567,
          -0.3484840978123525,
          0.2262781940456852,
          -0.32443322625500726,
          0.30674429974997003,
          -0.1897707846006058,
          -0.3484840978123525,
          0.6245919567630259,
          -0.07539769421294891,
          -0.08027193994440814,
          0.7470547682389331,
          -0.3694170956284246,
          0.30674429974997003,
          -0.3630108210274102,
          -0.5391152769193371,
          -0.3244332262550073,
          -0.18977078460060573,
          -0.3484840978123525,
          0.6987196256309867,
          -0.18977078460060573,
          -0.3484840978123525,
          0.6987196256236935,
          -0.1897707846006056,
          -0.3484840978123524,
          -0.18977078460060573,
          -0.3484840978123525,
          -0.1897707846006056,
          -0.3484840978123524,
          0.4228665938147819,
          0.31404417973956583,
          0.6252705609888815,
          0.22627819404568528,
          0.16399593167185028,
          -0.3244332262550073,
          0.30674429974997003,
          -0.18977078460060576,
          -0.3484840978123525,
          -0.3244332262550073,
          0.30674429974997003,
          -0.18977078460060576,
          -0.3484840978123525,
          0.22627819404568514,
          -0.32443322625500737,
          0.30674429974997003,
          -0.18977078460060573,
          -0.3484840978123525,
          0.6261285443307494,
          -0.07539769421294863,
          -0.08027194004122869,
          0.7470547682389331,
          0.6987196256309866,
          0.6987196256236943,
          -0.3244332262550073,
          -0.18977078460060576,
          -0.3484840978123525,
          -0.18977078460060567,
          -0.3484840978123525,
          -0.18977078460060576,
          -0.3484840978123525,
          -0.18977078460060567,
          -0.3484840978123525,
          -0.18977078460060576,
          -0.3484840978123525,
          0.6971952662008694,
          0.4449275169780064,
          0.3571476540068706,
          0.6252705631831298,
          0.2262781940456853,
          0.16399593167184998,
          -0.32443322625500726,
          0.30674429974997,
          0.6987196256236938,
          -0.18977078460060567,
          -0.3484840978123525,
          0.6940311295225265,
          0.7470547682389335,
          -0.3694170956284249,
          0.3067442997499699,
          -0.3630108210274105,
          -0.5391152769193369,
          0.6987196256309868,
          -0.637092342923123,
          0.22627819404568522,
          -0.32443322625500726,
          0.30674429974997003,
          -0.18977078460060573,
          -0.34848409781235246,
          -0.32443322625500726,
          -0.18977078460060567,
          -0.3484840978123525,
          -0.18977078460060573,
          -0.3484840978123525,
          -0.18977078460060573,
          -0.3484840978123525
         ],
         "y": [
          0.1509872300345159,
          0.5130779813979055,
          0.4444661674706097,
          0.5617031726566194,
          0.6457842088775081,
          0.5094102254258283,
          -0.5656836931694685,
          -0.2488343747600868,
          0.03510242682849986,
          0.5617031726566196,
          0.509410225425828,
          -0.5656836931694688,
          -0.24883437476008685,
          0.03510242682849987,
          -0.36175171078242757,
          0.18020977775797983,
          -0.8513197079319056,
          0.19092012815560735,
          0.4913875786145316,
          -0.5656836931694688,
          -0.3775704773249185,
          -0.09799534129727366,
          0.509410225425828,
          -0.24883437476008677,
          0.03510242682849985,
          -0.251428742057856,
          -0.2488343747600868,
          0.03510242682849984,
          -0.25142874208999255,
          -0.24883437476008685,
          0.035102426828499865,
          -0.24883437476008677,
          0.03510242682849986,
          -0.24883437476008685,
          0.035102426828499865,
          0.15098723003451603,
          0.5130790885515747,
          0.444466173001553,
          0.5617031726566194,
          0.6457842088775084,
          0.509410225425828,
          -0.5656836931694686,
          -0.24883437476008685,
          0.035102426828499844,
          0.509410225425828,
          -0.5656836931694686,
          -0.24883437476008685,
          0.035102426828499844,
          0.5617031726566197,
          0.5094102254258284,
          -0.5656836931694684,
          -0.24883437476008685,
          0.03510242682849986,
          -0.4205667689444953,
          0.18020977775797967,
          -0.8513197079293017,
          0.19092012815560727,
          -0.2514287420578556,
          -0.25142874208999255,
          0.5094102254258281,
          -0.24883437476008677,
          0.03510242682849986,
          -0.24883437476008685,
          0.03510242682849984,
          -0.24883437476008677,
          0.03510242682849986,
          -0.24883437476008685,
          0.03510242682849984,
          -0.24883437476008677,
          0.03510242682849986,
          0.2672147656381242,
          0.19719557538065074,
          0.5115461207397992,
          0.44446616747067397,
          0.5617031726566192,
          0.645784208877508,
          0.509410225425828,
          -0.5656836931694686,
          -0.2514287420899925,
          -0.2488343747600868,
          0.035102426828499865,
          0.02413704270947904,
          0.1909201281556071,
          0.49138757861453153,
          -0.5656836931694684,
          -0.37757047732491833,
          -0.09799534129727365,
          -0.2514287420578557,
          0.05196482797505776,
          0.5617031726566194,
          0.5094102254258281,
          -0.5656836931694685,
          -0.2488343747600867,
          0.03510242682849986,
          0.5094102254258281,
          -0.2488343747600868,
          0.035102426828499865,
          -0.24883437476008677,
          0.03510242682849985,
          -0.2488343747600867,
          0.03510242682849985
         ]
        }
       ],
       "layout": {
        "hovermode": "closest"
       }
      },
      "text/html": [
       "<div id=\"8f61adb1-5e12-46df-a294-7c43b1665372\" style=\"height: 525px; width: 100%;\" class=\"plotly-graph-div\"></div><script type=\"text/javascript\">require([\"plotly\"], function(Plotly) { window.PLOTLYENV=window.PLOTLYENV || {};window.PLOTLYENV.BASE_URL=\"https://plot.ly\";Plotly.newPlot(\"8f61adb1-5e12-46df-a294-7c43b1665372\", [{\"name\": \"control\", \"text\": [\"172.31.15.70 - - [31/May/2017:21:35:12 +0000] \\\"GET /todolist/health-check HTTP/1.1\\\" 200 50<br> id = 0<br> cluster = 11\", \"INFO  [2017-05-31 21:35:18,184] com.novemberain.quartz.mongodb.TriggerRunner: Acquired trigger: DEFA<br>ULT.qg1NzWlPRhK-6JwXye_1ug<br> id = 1<br> cluster = 12\", \"INFO  [2017-05-31 21:35:18,184] com.novemberain.quartz.mongodb.dao.LocksDao: Inserting lock for trig<br>ger DEFAULT.qg1NzWlPRhK-6JwXye_1ug<br> id = 2<br> cluster = 5\", \"INFO  [2017-05-31 21:35:18,183] com.novemberain.quartz.mongodb.dao.TriggerDao: Found 2 triggers whic<br>h are eligible to be run.<br> id = 3<br> cluster = 9\", \"INFO  [2017-05-31 21:35:18,182] software.wings.service.impl.DelegateServiceImpl: Broadcast new task:<br> 488s8_pYSTO0ok_UqQNgdg<br> id = 4<br> cluster = 13\", \"INFO  [2017-05-31 21:35:18,182] com.novemberain.quartz.mongodb.dao.LocksDao: Trigger lock DEFAULT.vJ<br>3t7B6hTYyugnJ0JifqXA.NON_CLUSTERED removed.<br> id = 5<br> cluster = 5\", \"INFO  [2017-05-31 21:35:18,181] com.novemberain.quartz.mongodb.dao.LocksDao: Removing trigger lock D<br>EFAULT.vJ3t7B6hTYyugnJ0JifqXA.NON_CLUSTERED<br> id = 6<br> cluster = 5\", \"INFO  [2017-05-31 21:35:18,180] org.quartz.plugins.history.LoggingTriggerHistoryPlugin: Trigger DEFA<br>ULT.vJ3t7B6hTYyugnJ0JifqXA completed firing job vJ3t7B6hTYyugnJ0JifqXA.ARTIFACT_STREAM_CRON_GROUP at<br>  21:35:18 05/31/2017 with resulting trigger instruction code: DO NOTHING<br> id = 7<br> cluster = 4\", \"INFO  [2017-05-31 21:35:18,180] org.quartz.plugins.history.LoggingJobHistoryPlugin: Job vJ3t7B6hTYyu<br>gnJ0JifqXA.ARTIFACT_STREAM_CRON_GROUP execution complete at  21:35:18 05/31/2017 and reports: null<br> id = 8<br> cluster = 3\", \"INFO  [2017-05-31 21:35:18,180] org.quartz.plugins.history.LoggingJobHistoryPlugin: Job vJ3t7B6hTYyu<br>gnJ0JifqXA.ARTIFACT_STREAM_CRON_GROUP fired (by trigger DEFAULT.vJ3t7B6hTYyugnJ0JifqXA) at:  21:35:1<br>8 05/31/2017<br> id = 9<br> cluster = 0\", \"INFO  [2017-05-31 21:35:18,179] org.quartz.plugins.history.LoggingTriggerHistoryPlugin: Trigger DEFA<br>ULT.vJ3t7B6hTYyugnJ0JifqXA fired job vJ3t7B6hTYyugnJ0JifqXA.ARTIFACT_STREAM_CRON_GROUP at:  21:35:18<br> 05/31/2017<br> id = 10<br> cluster = 0\", \"INFO  [2017-05-31 21:35:18,038] software.wings.service.impl.DelegateServiceImpl: registering delegat<br>e: Delegate{accountId='kmpySmUISimoRrJL6NL73w', status=ENABLED, connected=true, ip='172.31.51.78', h<br>ostName='ip-172-31-51-78', lastHeartBeat=1496266518037, version='1.0.10', supportedTaskTypes=[HTTP, <br>SPLUNK, APP_DYNAMICS, JENKINS, JENKINS_COLLECTION, BAMBOO_COLLECTION, COMMAND, JENKINS_GET_BUILDS, J<br>ENKINS_GET_JOBS, JENKINS_GET_ARTIFACT_PATHS, JENKINS_LAST_SUCCESSFUL_BUILD, JENKINS_GET_PLANS, JENKI<br>NS_VALIDATE_ARTIFACT_SERVER, BAMBOO_GET_BUILDS, BAMBOO_GET_JOBS, BAMBOO_GET_ARTIFACT_PATHS, BAMBOO_L<br>AST_SUCCESSFUL_BUILD, BAMBOO_GET_PLANS, BAMBOO_VALIDATE_ARTIFACT_SERVER, DOCKER_GET_BUILDS, DOCKER_V<br>ALIDATE_ARTIFACT_SERVER, DOCKER_VALIDATE_ARTIFACT_STREAM, NEXUS_GET_JOBS, NEXUS_GET_PLANS, NEXUS_GET<br>_ARTIFACT_PATHS, NEXUS_GET_GROUP_IDS, NEXUS_GET_ARTIFACT_NAMES, NEXUS_GET_BUILDS, NEXUS_LAST_SUCCESS<br>FUL_BUILD, NEXUS_COLLECTION, NEXUS_VALIDATE_ARTIFACT_SERVER, APPDYNAMICS_CONFIGURATION_VALIDATE_TASK<br> id = 11<br> cluster = 6\", \"INFO  [2017-05-31 21:35:17,188] org.quartz.plugins.history.LoggingTriggerHistoryPlugin: Trigger DEFA<br>ULT.84DUAsWyStm1sg5ZXlMung completed firing job 84DUAsWyStm1sg5ZXlMung.ARTIFACT_STREAM_CRON_GROUP at<br>  21:35:17 05/31/2017 with resulting trigger instruction code: DO NOTHING<br> id = 12<br> cluster = 4\", \"INFO  [2017-05-31 21:35:17,188] org.quartz.plugins.history.LoggingJobHistoryPlugin: Job 84DUAsWyStm1<br>sg5ZXlMung.ARTIFACT_STREAM_CRON_GROUP execution complete at  21:35:17 05/31/2017 and reports: null<br> id = 13<br> cluster = 3\", \"INFO  [2017-05-31 21:35:17,188] org.quartz.plugins.history.LoggingJobHistoryPlugin: Job 84DUAsWyStm1<br>sg5ZXlMung.ARTIFACT_STREAM_CRON_GROUP fired (by trigger DEFAULT.84DUAsWyStm1sg5ZXlMung) at:  21:35:1<br>7 05/31/2017<br> id = 14<br> cluster = 15\", \"INFO  [2017-05-31 21:35:17,188] org.quartz.plugins.history.LoggingTriggerHistoryPlugin: Trigger DEFA<br>ULT.84DUAsWyStm1sg5ZXlMung fired job 84DUAsWyStm1sg5ZXlMung.ARTIFACT_STREAM_CRON_GROUP at:  21:35:17<br> 05/31/2017<br> id = 15<br> cluster = 15\", \"INFO  [2017-05-31 21:35:13,679] org.quartz.plugins.history.LoggingTriggerHistoryPlugin: Trigger DEFA<br>ULT.UBBWzVkhQfKVEgzyBBhpeg fired job UBBWzVkhQfKVEgzyBBhpeg.SM_CLEANUP_CRON_GROUP at:  21:35:13 05/3<br>1/2017<br> id = 16<br> cluster = 2\", \"INFO  [2017-05-31 21:35:08,731] com.novemberain.quartz.mongodb.dao.LocksDao: Trigger lock DEFAULT.D3<br>H_QL6_Riqw6hHqkzR--A.NON_CLUSTERED removed.<br> id = 17<br> cluster = 5\", \"INFO  [2017-05-31 21:35:08,729] org.quartz.plugins.history.LoggingTriggerHistoryPlugin: Trigger DEFA<br>ULT.D3H_QL6_Riqw6hHqkzR--A completed firing job D3H_QL6_Riqw6hHqkzR--A.ARTIFACT_STREAM_CRON_GROUP at<br>  21:35:08 05/31/2017 with resulting trigger instruction code: DO NOTHING<br> id = 18<br> cluster = 4\", \"INFO  [2017-05-31 21:35:08,729] org.quartz.plugins.history.LoggingJobHistoryPlugin: Job D3H_QL6_Riqw<br>6hHqkzR--A.ARTIFACT_STREAM_CRON_GROUP execution complete at  21:35:08 05/31/2017 and reports: null<br> id = 19<br> cluster = 3\", \"INFO  [2017-05-31 21:35:08,729] org.quartz.plugins.history.LoggingJobHistoryPlugin: Job D3H_QL6_Riqw<br>6hHqkzR--A.ARTIFACT_STREAM_CRON_GROUP fired (by trigger DEFAULT.D3H_QL6_Riqw6hHqkzR--A) at:  21:35:0<br>8 05/31/2017<br> id = 20<br> cluster = 1\", \"INFO  [2017-05-31 21:35:08,729] org.quartz.plugins.history.LoggingTriggerHistoryPlugin: Trigger DEFA<br>ULT.D3H_QL6_Riqw6hHqkzR--A fired job D3H_QL6_Riqw6hHqkzR--A.ARTIFACT_STREAM_CRON_GROUP at:  21:35:08<br> 05/31/2017<br> id = 21<br> cluster = 2\", \"INFO  [2017-05-31 21:35:08,340] org.quartz.plugins.history.LoggingTriggerHistoryPlugin: Trigger DEFA<br>ULT.AuG03-OeTsa1gx9m868dNw completed firing job AuG03-OeTsa1gx9m868dNw.SM_CLEANUP_CRON_GROUP at  21:<br>35:08 05/31/2017 with resulting trigger instruction code: DO NOTHING<br> id = 22<br> cluster = 4\", \"INFO  [2017-05-31 21:35:08,338] org.quartz.plugins.history.LoggingJobHistoryPlugin: Job AuG03-OeTsa1<br>gx9m868dNw.SM_CLEANUP_CRON_GROUP fired (by trigger DEFAULT.AuG03-OeTsa1gx9m868dNw) at:  21:35:08 05/<br>31/2017<br> id = 23<br> cluster = 1\", \"INFO  [2017-05-31 21:35:08,338] org.quartz.plugins.history.LoggingTriggerHistoryPlugin: Trigger DEFA<br>ULT.AuG03-OeTsa1gx9m868dNw fired job AuG03-OeTsa1gx9m868dNw.SM_CLEANUP_CRON_GROUP at:  21:35:08 05/3<br>1/2017<br> id = 24<br> cluster = 2\", \"INFO  [2017-05-31 21:35:01,412] org.quartz.plugins.history.LoggingJobHistoryPlugin: Job K0vzHq-KTsql<br>PivBpy5SZQ.SM_CLEANUP_CRON_GROUP fired (by trigger DEFAULT.K0vzHq-KTsqlPivBpy5SZQ) at:  21:35:01 05/<br>31/2017<br> id = 25<br> cluster = 1\", \"INFO  [2017-05-31 21:35:01,412] org.quartz.plugins.history.LoggingTriggerHistoryPlugin: Trigger DEFA<br>ULT.K0vzHq-KTsqlPivBpy5SZQ fired job K0vzHq-KTsqlPivBpy5SZQ.SM_CLEANUP_CRON_GROUP at:  21:35:01 05/3<br>1/2017<br> id = 26<br> cluster = 2\", \"INFO  [2017-05-31 21:34:58,811] org.quartz.plugins.history.LoggingJobHistoryPlugin: Job rDZXPoicQ-y9<br>EHe9vv_HyA.SM_CLEANUP_CRON_GROUP fired (by trigger DEFAULT.rDZXPoicQ-y9EHe9vv_HyA) at:  21:34:58 05/<br>31/2017<br> id = 27<br> cluster = 1\", \"INFO  [2017-05-31 21:34:58,811] org.quartz.plugins.history.LoggingTriggerHistoryPlugin: Trigger DEFA<br>ULT.rDZXPoicQ-y9EHe9vv_HyA fired job rDZXPoicQ-y9EHe9vv_HyA.SM_CLEANUP_CRON_GROUP at:  21:34:58 05/3<br>1/2017<br> id = 28<br> cluster = 2\", \"WARN  [2017-05-31 21:34:54,590] software.wings.waitnotify.Notifier: No entry in the waitQueue found <br>for the correlationIds: [kaG4hDwsRKGmNSEMH3MMgQ, 0UrlPx9sQeKA8pxVYP-AZA, hsbXDjzWTCWFfojREmmvSQ, hSp<br>55cwERwmz5ujaZsfwHQ, nJ3D48oOR-23j2MNYg1jHg, EoXOwhUZSjCgev5cHT6kTA, PYIm79AoRoif3R54ioxAGQ, WH9DCdn<br>xTt62b2MxgnBcqg, IYpXXgyJRGaKsXwF0n4a2A, hxzQPR1EQ5uIJW8LA1eDdQ, UmxbtjIWRuqo_aPJ0P4LDQ, 4xrEUEZ2Sgy<br>jypHGYbDRWQ, n01fA-jeSmaT3sbKtZeJzQ, x6fH5SIwQFq0YvC4p7q5_w, 7w0hvNANSW2AggOMn9w2VA, uM5q5HwSRUupJGl<br>Ed6AeTQ, kdS593IUSue4F68ne-P9ag, Ielw1FmMTRidCW6x4d32Vw, f67p97lWQ3CBqDhqCdYeVw, MMq8fSgVRgOls-jD--p<br>WdA, e0H1_6lfRk2_HJUrBJrBtg, tywf4xRhTemM7wc29BcaOw, Q4T-ZCukTmGmISoz-AQJLQ, 2zzAawdaTiumWRfU5PHcBQ,<br> EZSU2TmYRYegZ0YA_2WVnQ, 8xEYjmenTmi-eu8nmHC6rQ, 0Mws3BToTj64MPAxHShjBw, zy4600e0QZ6P6QIv21PIkg, 32O<br>m2QDqSIqvaQCAJYcHfQ, UYd9BQztRwGwegq1rFWKjw, R_Pzz35_Sw6sxpXUQGGOGw, zN8PfdYYQneISSbW9gojhg, YDwjc5t<br>QS6ynOvWaJgbwmg, Ez-HkRjITUO2aeRxfOABGQ, gyoKLsf0STCB-fTUxBDf-g, 0fKMcZEYSJmWhykY71FH4g, tvmhP5EPTbK<br> id = 29<br> cluster = 7\", \"INFO  [2017-05-31 21:34:40,039] org.quartz.plugins.history.LoggingJobHistoryPlugin: Job SFmGy4xrRpad<br>9Mql-fTqlg.SM_CLEANUP_CRON_GROUP fired (by trigger DEFAULT.SFmGy4xrRpad9Mql-fTqlg) at:  21:34:40 05/<br>31/2017<br> id = 30<br> cluster = 1\", \"INFO  [2017-05-31 21:34:40,039] org.quartz.plugins.history.LoggingTriggerHistoryPlugin: Trigger DEFA<br>ULT.SFmGy4xrRpad9Mql-fTqlg fired job SFmGy4xrRpad9Mql-fTqlg.SM_CLEANUP_CRON_GROUP at:  21:34:40 05/3<br>1/2017<br> id = 31<br> cluster = 2\", \"INFO  [2017-05-31 21:34:31,923] org.quartz.plugins.history.LoggingJobHistoryPlugin: Job cMr2y3_5Q-qh<br>VZHKSgtAww.SM_CLEANUP_CRON_GROUP fired (by trigger DEFAULT.cMr2y3_5Q-qhVZHKSgtAww) at:  21:34:31 05/<br>31/2017<br> id = 32<br> cluster = 1\", \"INFO  [2017-05-31 21:34:31,923] org.quartz.plugins.history.LoggingTriggerHistoryPlugin: Trigger DEFA<br>ULT.cMr2y3_5Q-qhVZHKSgtAww fired job cMr2y3_5Q-qhVZHKSgtAww.SM_CLEANUP_CRON_GROUP at:  21:34:31 05/3<br>1/2017<br> id = 33<br> cluster = 2\", \"INFO  [2017-05-31 21:34:29,942] software.wings.app.DelegateQueueTask: Broadcast queued sync task [ld<br>gb6-rBSbmK1Gdb5FSDLQ, null, QUEUED]<br> id = 34<br> cluster = 8\", \"INFO  [2017-05-31 21:34:29,941] software.wings.app.DelegateQueueTask: Broadcast queued sync task [ox<br>yvKQ8lQR24IkQN778Ljw, null, QUEUED]<br> id = 35<br> cluster = 8\", \"INFO  [2017-05-31 21:34:29,941] software.wings.app.DelegateQueueTask: Broadcast queued sync task [Zd<br>Z-c4CRQWGuufUP-SjpUA, null, QUEUED]<br> id = 36<br> cluster = 8\", \"INFO  [2017-05-31 21:34:29,939] software.wings.app.DelegateQueueTask: Broadcast queued sync task [96<br>FLHYp5TsaWQN6WEHCpkg, null, QUEUED]<br> id = 37<br> cluster = 8\", \"172.31.15.70 - - [31/May/2017:21:36:12 +0000] \\\"GET /todolist/health-check HTTP/1.1\\\" 200 50<br> id = 38<br> cluster = 14\", \"2017-05-31 21:36:19:690 [AsyncAppender-Worker-async-syslog-accesslogs-appender] com.cloudbees.syslog<br>.sender.TcpSyslogMessageSender - INFO: InetAddress of the Syslog Server have changed, create a new c<br>onnection. Before=syslog-a.logdna.com/40.71.95.146, new=syslog-a.logdna.com/40.114.45.243<br> id = 39<br> cluster = 10\", \"2017-05-31 21:36:19:690 [AsyncAppender-Worker-async-rsyslog-tcp-ssl-appender] com.cloudbees.syslog.s<br>ender.TcpSyslogMessageSender - INFO: InetAddress of the Syslog Server have changed, create a new con<br>nection. Before=syslog-a.logdna.com/40.71.95.146, new=syslog-a.logdna.com/40.114.45.243<br> id = 40<br> cluster = 10\", \"INFO  [2017-05-31 21:36:19,600] software.wings.service.impl.DelegateServiceImpl: registering delegat<br>e: Delegate{accountId='kmpySmUISimoRrJL6NL73w', status=ENABLED, connected=true, ip='172.31.51.78', h<br>ostName='ip-172-31-51-78', lastHeartBeat=1496266578037, version='1.0.10', supportedTaskTypes=[HTTP, <br>SPLUNK, APP_DYNAMICS, JENKINS, JENKINS_COLLECTION, BAMBOO_COLLECTION, COMMAND, JENKINS_GET_BUILDS, J<br>ENKINS_GET_JOBS, JENKINS_GET_ARTIFACT_PATHS, JENKINS_LAST_SUCCESSFUL_BUILD, JENKINS_GET_PLANS, JENKI<br>NS_VALIDATE_ARTIFACT_SERVER, BAMBOO_GET_BUILDS, BAMBOO_GET_JOBS, BAMBOO_GET_ARTIFACT_PATHS, BAMBOO_L<br>AST_SUCCESSFUL_BUILD, BAMBOO_GET_PLANS, BAMBOO_VALIDATE_ARTIFACT_SERVER, DOCKER_GET_BUILDS, DOCKER_V<br>ALIDATE_ARTIFACT_SERVER, DOCKER_VALIDATE_ARTIFACT_STREAM, NEXUS_GET_JOBS, NEXUS_GET_PLANS, NEXUS_GET<br>_ARTIFACT_PATHS, NEXUS_GET_GROUP_IDS, NEXUS_GET_ARTIFACT_NAMES, NEXUS_GET_BUILDS, NEXUS_LAST_SUCCESS<br>FUL_BUILD, NEXUS_COLLECTION, NEXUS_VALIDATE_ARTIFACT_SERVER, APPDYNAMICS_CONFIGURATION_VALIDATE_TASK<br> id = 41<br> cluster = 6\", \"INFO  [2017-05-31 21:36:18,184] com.novemberain.quartz.mongodb.TriggerRunner: Acquired trigger: DEFA<br>ULT.qg1NzWlPRhK-6JwXye_1ug<br> id = 42<br> cluster = 12\", \"INFO  [2017-05-31 21:36:18,184] com.novemberain.quartz.mongodb.dao.LocksDao: Inserting lock for trig<br>ger DEFAULT.qg1NzWlPRhK-6JwXye_1ug<br> id = 43<br> cluster = 5\", \"INFO  [2017-05-31 21:36:18,182] com.novemberain.quartz.mongodb.dao.TriggerDao: Found 2 triggers whic<br>h are eligible to be run.<br> id = 44<br> cluster = 9\", \"INFO  [2017-05-31 21:36:18,182] software.wings.service.impl.DelegateServiceImpl: Broadcast new task:<br> Wa9gNxFqSUKE9h8HqI0VNg<br> id = 45<br> cluster = 13\", \"INFO  [2017-05-31 21:36:18,181] com.novemberain.quartz.mongodb.dao.LocksDao: Trigger lock DEFAULT.vJ<br>3t7B6hTYyugnJ0JifqXA.NON_CLUSTERED removed.<br> id = 46<br> cluster = 5\", \"INFO  [2017-05-31 21:36:18,181] com.novemberain.quartz.mongodb.dao.LocksDao: Removing trigger lock D<br>EFAULT.vJ3t7B6hTYyugnJ0JifqXA.NON_CLUSTERED<br> id = 47<br> cluster = 5\", \"INFO  [2017-05-31 21:36:18,179] org.quartz.plugins.history.LoggingTriggerHistoryPlugin: Trigger DEFA<br>ULT.vJ3t7B6hTYyugnJ0JifqXA completed firing job vJ3t7B6hTYyugnJ0JifqXA.ARTIFACT_STREAM_CRON_GROUP at<br>  21:36:18 05/31/2017 with resulting trigger instruction code: DO NOTHING<br> id = 48<br> cluster = 4\", \"INFO  [2017-05-31 21:36:18,179] org.quartz.plugins.history.LoggingJobHistoryPlugin: Job vJ3t7B6hTYyu<br>gnJ0JifqXA.ARTIFACT_STREAM_CRON_GROUP execution complete at  21:36:18 05/31/2017 and reports: null<br> id = 49<br> cluster = 3\", \"INFO  [2017-05-31 21:36:18,179] org.quartz.plugins.history.LoggingJobHistoryPlugin: Job vJ3t7B6hTYyu<br>gnJ0JifqXA.ARTIFACT_STREAM_CRON_GROUP fired (by trigger DEFAULT.vJ3t7B6hTYyugnJ0JifqXA) at:  21:36:1<br>8 05/31/2017<br> id = 50<br> cluster = 0\", \"INFO  [2017-05-31 21:36:18,179] org.quartz.plugins.history.LoggingTriggerHistoryPlugin: Trigger DEFA<br>ULT.vJ3t7B6hTYyugnJ0JifqXA fired job vJ3t7B6hTYyugnJ0JifqXA.ARTIFACT_STREAM_CRON_GROUP at:  21:36:18<br> 05/31/2017<br> id = 51<br> cluster = 0\", \"INFO  [2017-05-31 21:36:17,188] org.quartz.plugins.history.LoggingTriggerHistoryPlugin: Trigger DEFA<br>ULT.84DUAsWyStm1sg5ZXlMung completed firing job 84DUAsWyStm1sg5ZXlMung.ARTIFACT_STREAM_CRON_GROUP at<br>  21:36:17 05/31/2017 with resulting trigger instruction code: DO NOTHING<br> id = 52<br> cluster = 4\", \"INFO  [2017-05-31 21:36:17,188] org.quartz.plugins.history.LoggingJobHistoryPlugin: Job 84DUAsWyStm1<br>sg5ZXlMung.ARTIFACT_STREAM_CRON_GROUP execution complete at  21:36:17 05/31/2017 and reports: null<br> id = 53<br> cluster = 3\", \"INFO  [2017-05-31 21:36:17,188] org.quartz.plugins.history.LoggingJobHistoryPlugin: Job 84DUAsWyStm1<br>sg5ZXlMung.ARTIFACT_STREAM_CRON_GROUP fired (by trigger DEFAULT.84DUAsWyStm1sg5ZXlMung) at:  21:36:1<br>7 05/31/2017<br> id = 54<br> cluster = 15\", \"INFO  [2017-05-31 21:36:17,188] org.quartz.plugins.history.LoggingTriggerHistoryPlugin: Trigger DEFA<br>ULT.84DUAsWyStm1sg5ZXlMung fired job 84DUAsWyStm1sg5ZXlMung.ARTIFACT_STREAM_CRON_GROUP at:  21:36:17<br> 05/31/2017<br> id = 55<br> cluster = 15\", \"INFO  [2017-05-31 21:36:13,678] org.quartz.plugins.history.LoggingTriggerHistoryPlugin: Trigger DEFA<br>ULT.UBBWzVkhQfKVEgzyBBhpeg fired job UBBWzVkhQfKVEgzyBBhpeg.SM_CLEANUP_CRON_GROUP at:  21:36:13 05/3<br>1/2017<br> id = 56<br> cluster = 2\", \"INFO  [2017-05-31 21:36:08,731] com.novemberain.quartz.mongodb.dao.LocksDao: Trigger lock DEFAULT.D3<br>H_QL6_Riqw6hHqkzR--A.NON_CLUSTERED removed.<br> id = 57<br> cluster = 5\", \"INFO  [2017-05-31 21:36:08,729] org.quartz.plugins.history.LoggingTriggerHistoryPlugin: Trigger DEFA<br>ULT.D3H_QL6_Riqw6hHqkzR--A completed firing job D3H_QL6_Riqw6hHqkzR--A.ARTIFACT_STREAM_CRON_GROUP at<br>  21:36:08 05/31/2017 with resulting trigger instruction code: DO NOTHING<br> id = 58<br> cluster = 4\", \"INFO  [2017-05-31 21:36:08,729] org.quartz.plugins.history.LoggingJobHistoryPlugin: Job D3H_QL6_Riqw<br>6hHqkzR--A.ARTIFACT_STREAM_CRON_GROUP execution complete at  21:36:08 05/31/2017 and reports: null<br> id = 59<br> cluster = 3\", \"INFO  [2017-05-31 21:36:08,729] org.quartz.plugins.history.LoggingJobHistoryPlugin: Job D3H_QL6_Riqw<br>6hHqkzR--A.ARTIFACT_STREAM_CRON_GROUP fired (by trigger DEFAULT.D3H_QL6_Riqw6hHqkzR--A) at:  21:36:0<br>8 05/31/2017<br> id = 60<br> cluster = 1\", \"INFO  [2017-05-31 21:36:08,729] org.quartz.plugins.history.LoggingTriggerHistoryPlugin: Trigger DEFA<br>ULT.D3H_QL6_Riqw6hHqkzR--A fired job D3H_QL6_Riqw6hHqkzR--A.ARTIFACT_STREAM_CRON_GROUP at:  21:36:08<br> 05/31/2017<br> id = 61<br> cluster = 2\", \"INFO  [2017-05-31 21:36:08,340] org.quartz.plugins.history.LoggingTriggerHistoryPlugin: Trigger DEFA<br>ULT.AuG03-OeTsa1gx9m868dNw completed firing job AuG03-OeTsa1gx9m868dNw.SM_CLEANUP_CRON_GROUP at  21:<br>36:08 05/31/2017 with resulting trigger instruction code: DO NOTHING<br> id = 62<br> cluster = 4\", \"INFO  [2017-05-31 21:36:08,337] org.quartz.plugins.history.LoggingJobHistoryPlugin: Job AuG03-OeTsa1<br>gx9m868dNw.SM_CLEANUP_CRON_GROUP fired (by trigger DEFAULT.AuG03-OeTsa1gx9m868dNw) at:  21:36:08 05/<br>31/2017<br> id = 63<br> cluster = 1\", \"INFO  [2017-05-31 21:36:08,337] org.quartz.plugins.history.LoggingTriggerHistoryPlugin: Trigger DEFA<br>ULT.AuG03-OeTsa1gx9m868dNw fired job AuG03-OeTsa1gx9m868dNw.SM_CLEANUP_CRON_GROUP at:  21:36:08 05/3<br>1/2017<br> id = 64<br> cluster = 2\", \"INFO  [2017-05-31 21:36:01,412] org.quartz.plugins.history.LoggingJobHistoryPlugin: Job K0vzHq-KTsql<br>PivBpy5SZQ.SM_CLEANUP_CRON_GROUP fired (by trigger DEFAULT.K0vzHq-KTsqlPivBpy5SZQ) at:  21:36:01 05/<br>31/2017<br> id = 65<br> cluster = 1\", \"INFO  [2017-05-31 21:36:01,412] org.quartz.plugins.history.LoggingTriggerHistoryPlugin: Trigger DEFA<br>ULT.K0vzHq-KTsqlPivBpy5SZQ fired job K0vzHq-KTsqlPivBpy5SZQ.SM_CLEANUP_CRON_GROUP at:  21:36:01 05/3<br>1/2017<br> id = 66<br> cluster = 2\", \"INFO  [2017-05-31 21:35:58,811] org.quartz.plugins.history.LoggingJobHistoryPlugin: Job rDZXPoicQ-y9<br>EHe9vv_HyA.SM_CLEANUP_CRON_GROUP fired (by trigger DEFAULT.rDZXPoicQ-y9EHe9vv_HyA) at:  21:35:58 05/<br>31/2017<br> id = 67<br> cluster = 1\", \"INFO  [2017-05-31 21:35:58,811] org.quartz.plugins.history.LoggingTriggerHistoryPlugin: Trigger DEFA<br>ULT.rDZXPoicQ-y9EHe9vv_HyA fired job rDZXPoicQ-y9EHe9vv_HyA.SM_CLEANUP_CRON_GROUP at:  21:35:58 05/3<br>1/2017<br> id = 68<br> cluster = 2\", \"WARN  [2017-05-31 21:35:54,623] software.wings.waitnotify.Notifier: No entry in the waitQueue found <br>for the correlationIds: [kaG4hDwsRKGmNSEMH3MMgQ, 0UrlPx9sQeKA8pxVYP-AZA, hsbXDjzWTCWFfojREmmvSQ, hSp<br>55cwERwmz5ujaZsfwHQ, nJ3D48oOR-23j2MNYg1jHg, EoXOwhUZSjCgev5cHT6kTA, PYIm79AoRoif3R54ioxAGQ, WH9DCdn<br>xTt62b2MxgnBcqg, IYpXXgyJRGaKsXwF0n4a2A, hxzQPR1EQ5uIJW8LA1eDdQ, UmxbtjIWRuqo_aPJ0P4LDQ, 4xrEUEZ2Sgy<br>jypHGYbDRWQ, n01fA-jeSmaT3sbKtZeJzQ, x6fH5SIwQFq0YvC4p7q5_w, 7w0hvNANSW2AggOMn9w2VA, uM5q5HwSRUupJGl<br>Ed6AeTQ, kdS593IUSue4F68ne-P9ag, Ielw1FmMTRidCW6x4d32Vw, f67p97lWQ3CBqDhqCdYeVw, MMq8fSgVRgOls-jD--p<br>WdA, e0H1_6lfRk2_HJUrBJrBtg, tywf4xRhTemM7wc29BcaOw, Q4T-ZCukTmGmISoz-AQJLQ, 2zzAawdaTiumWRfU5PHcBQ,<br> EZSU2TmYRYegZ0YA_2WVnQ, 8xEYjmenTmi-eu8nmHC6rQ, 0Mws3BToTj64MPAxHShjBw, zy4600e0QZ6P6QIv21PIkg, 32O<br>m2QDqSIqvaQCAJYcHfQ, UYd9BQztRwGwegq1rFWKjw, R_Pzz35_Sw6sxpXUQGGOGw, zN8PfdYYQneISSbW9gojhg, YDwjc5t<br>QS6ynOvWaJgbwmg, Ez-HkRjITUO2aeRxfOABGQ, gyoKLsf0STCB-fTUxBDf-g, 0fKMcZEYSJmWhykY71FH4g, tvmhP5EPTbK<br> id = 69<br> cluster = 7\", \"INFO  [2017-05-31 21:35:40,040] org.quartz.plugins.history.LoggingJobHistoryPlugin: Job SFmGy4xrRpad<br>9Mql-fTqlg.SM_CLEANUP_CRON_GROUP fired (by trigger DEFAULT.SFmGy4xrRpad9Mql-fTqlg) at:  21:35:40 05/<br>31/2017<br> id = 70<br> cluster = 1\", \"INFO  [2017-05-31 21:35:40,040] org.quartz.plugins.history.LoggingTriggerHistoryPlugin: Trigger DEFA<br>ULT.SFmGy4xrRpad9Mql-fTqlg fired job SFmGy4xrRpad9Mql-fTqlg.SM_CLEANUP_CRON_GROUP at:  21:35:40 05/3<br>1/2017<br> id = 71<br> cluster = 2\", \"INFO  [2017-05-31 21:35:31,923] org.quartz.plugins.history.LoggingJobHistoryPlugin: Job cMr2y3_5Q-qh<br>VZHKSgtAww.SM_CLEANUP_CRON_GROUP fired (by trigger DEFAULT.cMr2y3_5Q-qhVZHKSgtAww) at:  21:35:31 05/<br>31/2017<br> id = 72<br> cluster = 1\", \"INFO  [2017-05-31 21:35:31,923] org.quartz.plugins.history.LoggingTriggerHistoryPlugin: Trigger DEFA<br>ULT.cMr2y3_5Q-qhVZHKSgtAww fired job cMr2y3_5Q-qhVZHKSgtAww.SM_CLEANUP_CRON_GROUP at:  21:35:31 05/3<br>1/2017<br> id = 73<br> cluster = 2\"], \"marker\": {\"opacity\": 0.3, \"color\": \"blue\"}, \"mode\": \"markers\", \"y\": [-0.8530901228960288, 0.15098723003451567, 0.5130790885515752, 0.4444661674706722, -0.0061528919112161596, 0.5617031726566194, 0.6457842088775079, 0.5368207867622176, -0.5656836931694686, -0.36456826544099546, 0.03346324253738738, 0.19092012815560744, 0.49138757861453175, -0.5656836931694689, -0.3775704773249187, -0.0979953412972735, 0.0852195793838703, 0.5617031726566194, 0.5094102254258283, -0.5656836931694688, -0.24883437476008685, 0.035102426828499796, 0.5094102254258283, -0.24883437476008685, 0.03510242682849988, -0.24883437476008677, 0.03510242682849985, -0.24883437476008685, 0.03510242682849988, -0.8513197079295655, -0.24883437476008685, 0.035102426828499844, -0.24883437476008693, 0.035102426828499796, -0.06811200822367292, -0.05853445033255733, -0.06811200822367293, -0.06545738189993103, -0.8383047006963149, -0.2514287420899925, -0.2514287420578555, 0.19092012815560744, 0.1509872300345158, 0.5130779813979057, 0.4444661730015484, -0.3870575471394359, 0.56170317265662, 0.6457842088775082, 0.5368207867622173, -0.5656836931694688, -0.3645682652831776, 0.03346324253866672, 0.4913875786145319, -0.5656836931694688, -0.37757047732491866, -0.09799534129727366, 0.08521957938025329, 0.5617031726566194, 0.509410225425828, -0.5656836931694686, -0.24883437476008688, 0.035102426828499816, 0.509410225425828, -0.24883437476008685, 0.03510242682849987, -0.24883437476008685, 0.03510242682849985, -0.24883437476008685, 0.03510242682849987, -0.8513197079295888, -0.24883437476008685, 0.03510242682849987, -0.24883437476008688, 0.03510242682849983], \"x\": [0.11769824379267907, 0.4228665938147823, 0.3140441797395661, 0.6252705631831296, 0.6553051461075394, 0.22627819404568514, 0.16399593167184992, -0.29815190065376906, 0.3067442997499703, -0.049218412063060574, -0.5726690970109661, 0.7470547682389328, -0.36941709562842434, 0.30674429974997014, -0.3630108210274103, -0.5391152769193372, -0.6272437142100666, 0.22627819404568505, -0.3244332262550072, 0.3067442997499701, -0.18977078460060573, -0.3484840978123527, -0.3244332262550072, -0.18977078460060567, -0.3484840978123525, -0.18977078460060573, -0.3484840978123525, -0.18977078460060567, -0.3484840978123525, -0.08027194003135481, -0.1897707846006059, -0.3484840978123527, -0.18977078460060573, -0.3484840978123527, 0.7173288961716576, 0.7336104384306803, 0.7173288961716571, 0.730972870992054, 0.22516580229685462, 0.6987196256236932, 0.6987196256309869, 0.7470547682389327, 0.4228665938147819, 0.3140439955003115, 0.6252705609888836, 0.6315510779070932, 0.2262781940456852, 0.1639959316718501, -0.2981519006537692, 0.3067442997499701, -0.04921841192176608, -0.5726690970105691, -0.36941709562842445, 0.3067442997499701, -0.3630108210274102, -0.5391152769193372, -0.6272437142114046, 0.22627819404568514, -0.32443322625500726, 0.3067442997499701, -0.18977078460060576, -0.3484840978123526, -0.32443322625500726, -0.18977078460060567, -0.34848409781235246, -0.18977078460060576, -0.3484840978123525, -0.18977078460060567, -0.34848409781235246, -0.08027194003051928, -0.1897707846006058, -0.3484840978123525, -0.1897707846006058, -0.34848409781235257], \"type\": \"scatter\"}, {\"name\": \"test\", \"text\": [\"INFO  [2017-05-31 21:45:32,590] com.novemberain.quartz.mongodb.TriggerRunner: Acquired trigger: DEFA<br>ULT.0dCbD2LCQ3uMm_RlVLMG2A<br> id = 74<br> cluster = 12\", \"INFO  [2017-05-31 21:45:32,589] com.novemberain.quartz.mongodb.dao.LocksDao: Inserting lock for trig<br>ger DEFAULT.0dCbD2LCQ3uMm_RlVLMG2A<br> id = 75<br> cluster = 5\", \"INFO  [2017-05-31 21:45:32,588] com.novemberain.quartz.mongodb.dao.TriggerDao: Found 2 triggers whic<br>h are eligible to be run.<br> id = 76<br> cluster = 9\", \"INFO  [2017-05-31 21:45:32,587] com.novemberain.quartz.mongodb.dao.LocksDao: Trigger lock DEFAULT.JG<br>e5oLOLTyGP_qgqF1YW1A.NON_CLUSTERED removed.<br> id = 77<br> cluster = 5\", \"INFO  [2017-05-31 21:45:32,586] com.novemberain.quartz.mongodb.dao.LocksDao: Removing trigger lock D<br>EFAULT.JGe5oLOLTyGP_qgqF1YW1A.NON_CLUSTERED<br> id = 78<br> cluster = 5\", \"INFO  [2017-05-31 21:45:32,585] org.quartz.plugins.history.LoggingTriggerHistoryPlugin: Trigger DEFA<br>ULT.JGe5oLOLTyGP_qgqF1YW1A completed firing job JGe5oLOLTyGP_qgqF1YW1A.SM_CLEANUP_CRON_GROUP at  21:<br>45:32 05/31/2017 with resulting trigger instruction code: DO NOTHING<br> id = 79<br> cluster = 4\", \"INFO  [2017-05-31 21:45:32,585] org.quartz.plugins.history.LoggingJobHistoryPlugin: Job JGe5oLOLTyGP<br>_qgqF1YW1A.SM_CLEANUP_CRON_GROUP execution complete at  21:45:32 05/31/2017 and reports: null<br> id = 80<br> cluster = 3\", \"INFO  [2017-05-31 21:45:32,583] org.quartz.plugins.history.LoggingJobHistoryPlugin: Job JGe5oLOLTyGP<br>_qgqF1YW1A.SM_CLEANUP_CRON_GROUP fired (by trigger DEFAULT.JGe5oLOLTyGP_qgqF1YW1A) at:  21:45:32 05/<br>31/2017<br> id = 81<br> cluster = 1\", \"INFO  [2017-05-31 21:45:32,583] org.quartz.plugins.history.LoggingTriggerHistoryPlugin: Trigger DEFA<br>ULT.JGe5oLOLTyGP_qgqF1YW1A fired job JGe5oLOLTyGP_qgqF1YW1A.SM_CLEANUP_CRON_GROUP at:  21:45:32 05/3<br>1/2017<br> id = 82<br> cluster = 2\", \"INFO  [2017-05-31 21:45:31,927] com.novemberain.quartz.mongodb.dao.LocksDao: Trigger lock DEFAULT.cM<br>r2y3_5Q-qhVZHKSgtAww.NON_CLUSTERED removed.<br> id = 83<br> cluster = 5\", \"INFO  [2017-05-31 21:45:31,925] org.quartz.plugins.history.LoggingTriggerHistoryPlugin: Trigger DEFA<br>ULT.cMr2y3_5Q-qhVZHKSgtAww completed firing job cMr2y3_5Q-qhVZHKSgtAww.SM_CLEANUP_CRON_GROUP at  21:<br>45:31 05/31/2017 with resulting trigger instruction code: DO NOTHING<br> id = 84<br> cluster = 4\", \"INFO  [2017-05-31 21:45:31,925] org.quartz.plugins.history.LoggingJobHistoryPlugin: Job cMr2y3_5Q-qh<br>VZHKSgtAww.SM_CLEANUP_CRON_GROUP execution complete at  21:45:31 05/31/2017 and reports: null<br> id = 85<br> cluster = 3\", \"INFO  [2017-05-31 21:45:31,923] org.quartz.plugins.history.LoggingJobHistoryPlugin: Job cMr2y3_5Q-qh<br>VZHKSgtAww.SM_CLEANUP_CRON_GROUP fired (by trigger DEFAULT.cMr2y3_5Q-qhVZHKSgtAww) at:  21:45:31 05/<br>31/2017<br> id = 86<br> cluster = 1\", \"INFO  [2017-05-31 21:45:31,923] org.quartz.plugins.history.LoggingTriggerHistoryPlugin: Trigger DEFA<br>ULT.cMr2y3_5Q-qhVZHKSgtAww fired job cMr2y3_5Q-qhVZHKSgtAww.SM_CLEANUP_CRON_GROUP at:  21:45:31 05/3<br>1/2017<br> id = 87<br> cluster = 2\", \"INFO  [2017-05-31 21:45:25,301] software.wings.service.impl.DelegateServiceImpl: Broadcast new task:<br> 4c9sbdU4RC6k5oAnsV8Rqw<br> id = 88<br> cluster = 13\", \"INFO  [2017-05-31 21:45:25,298] org.quartz.plugins.history.LoggingTriggerHistoryPlugin: Trigger DEFA<br>ULT.zrYxDJ8ASo658RtE7UhNug fired job zrYxDJ8ASo658RtE7UhNug.ARTIFACT_STREAM_CRON_GROUP at:  21:45:25<br> 05/31/2017<br> id = 89<br> cluster = 2\", \"WARN  [2017-05-31 21:45:24,942] software.wings.waitnotify.Notifier: No entry in the waitQueue found <br>for the correlationIds: [kaG4hDwsRKGmNSEMH3MMgQ, 0UrlPx9sQeKA8pxVYP-AZA, hsbXDjzWTCWFfojREmmvSQ, hSp<br>55cwERwmz5ujaZsfwHQ, nJ3D48oOR-23j2MNYg1jHg, EoXOwhUZSjCgev5cHT6kTA, PYIm79AoRoif3R54ioxAGQ, WH9DCdn<br>xTt62b2MxgnBcqg, IYpXXgyJRGaKsXwF0n4a2A, hxzQPR1EQ5uIJW8LA1eDdQ, UmxbtjIWRuqo_aPJ0P4LDQ, 4xrEUEZ2Sgy<br>jypHGYbDRWQ, n01fA-jeSmaT3sbKtZeJzQ, x6fH5SIwQFq0YvC4p7q5_w, 7w0hvNANSW2AggOMn9w2VA, uM5q5HwSRUupJGl<br>Ed6AeTQ, kdS593IUSue4F68ne-P9ag, Ielw1FmMTRidCW6x4d32Vw, f67p97lWQ3CBqDhqCdYeVw, MMq8fSgVRgOls-jD--p<br>WdA, e0H1_6lfRk2_HJUrBJrBtg, tywf4xRhTemM7wc29BcaOw, Q4T-ZCukTmGmISoz-AQJLQ, 2zzAawdaTiumWRfU5PHcBQ,<br> EZSU2TmYRYegZ0YA_2WVnQ, 8xEYjmenTmi-eu8nmHC6rQ, 0Mws3BToTj64MPAxHShjBw, zy4600e0QZ6P6QIv21PIkg, 32O<br>m2QDqSIqvaQCAJYcHfQ, UYd9BQztRwGwegq1rFWKjw, R_Pzz35_Sw6sxpXUQGGOGw, zN8PfdYYQneISSbW9gojhg, YDwjc5t<br>QS6ynOvWaJgbwmg, Ez-HkRjITUO2aeRxfOABGQ, gyoKLsf0STCB-fTUxBDf-g, 0fKMcZEYSJmWhykY71FH4g, tvmhP5EPTbK<br> id = 90<br> cluster = 7\", \"INFO  [2017-05-31 21:45:18,038] software.wings.service.impl.DelegateServiceImpl: registering delegat<br>e: Delegate{accountId='kmpySmUISimoRrJL6NL73w', status=ENABLED, connected=true, ip='172.31.51.78', h<br>ostName='ip-172-31-51-78', lastHeartBeat=1496267118037, version='1.0.10', supportedTaskTypes=[HTTP, <br>SPLUNK, APP_DYNAMICS, JENKINS, JENKINS_COLLECTION, BAMBOO_COLLECTION, COMMAND, JENKINS_GET_BUILDS, J<br>ENKINS_GET_JOBS, JENKINS_GET_ARTIFACT_PATHS, JENKINS_LAST_SUCCESSFUL_BUILD, JENKINS_GET_PLANS, JENKI<br>NS_VALIDATE_ARTIFACT_SERVER, BAMBOO_GET_BUILDS, BAMBOO_GET_JOBS, BAMBOO_GET_ARTIFACT_PATHS, BAMBOO_L<br>AST_SUCCESSFUL_BUILD, BAMBOO_GET_PLANS, BAMBOO_VALIDATE_ARTIFACT_SERVER, DOCKER_GET_BUILDS, DOCKER_V<br>ALIDATE_ARTIFACT_SERVER, DOCKER_VALIDATE_ARTIFACT_STREAM, NEXUS_GET_JOBS, NEXUS_GET_PLANS, NEXUS_GET<br>_ARTIFACT_PATHS, NEXUS_GET_GROUP_IDS, NEXUS_GET_ARTIFACT_NAMES, NEXUS_GET_BUILDS, NEXUS_LAST_SUCCESS<br>FUL_BUILD, NEXUS_COLLECTION, NEXUS_VALIDATE_ARTIFACT_SERVER, APPDYNAMICS_CONFIGURATION_VALIDATE_TASK<br> id = 91<br> cluster = 6\", \"INFO  [2017-05-31 21:45:17,189] org.quartz.plugins.history.LoggingTriggerHistoryPlugin: Trigger DEFA<br>ULT.84DUAsWyStm1sg5ZXlMung completed firing job 84DUAsWyStm1sg5ZXlMung.ARTIFACT_STREAM_CRON_GROUP at<br>  21:45:17 05/31/2017 with resulting trigger instruction code: DO NOTHING<br> id = 92<br> cluster = 4\", \"INFO  [2017-05-31 21:45:17,189] org.quartz.plugins.history.LoggingJobHistoryPlugin: Job 84DUAsWyStm1<br>sg5ZXlMung.ARTIFACT_STREAM_CRON_GROUP execution complete at  21:45:17 05/31/2017 and reports: null<br> id = 93<br> cluster = 3\", \"INFO  [2017-05-31 21:45:17,189] org.quartz.plugins.history.LoggingJobHistoryPlugin: Job 84DUAsWyStm1<br>sg5ZXlMung.ARTIFACT_STREAM_CRON_GROUP fired (by trigger DEFAULT.84DUAsWyStm1sg5ZXlMung) at:  21:45:1<br>7 05/31/2017<br> id = 94<br> cluster = 15\", \"INFO  [2017-05-31 21:45:17,189] org.quartz.plugins.history.LoggingTriggerHistoryPlugin: Trigger DEFA<br>ULT.84DUAsWyStm1sg5ZXlMung fired job 84DUAsWyStm1sg5ZXlMung.ARTIFACT_STREAM_CRON_GROUP at:  21:45:17<br> 05/31/2017<br> id = 95<br> cluster = 15\", \"INFO  [2017-05-31 21:45:08,729] org.quartz.plugins.history.LoggingTriggerHistoryPlugin: Trigger DEFA<br>ULT.D3H_QL6_Riqw6hHqkzR--A completed firing job D3H_QL6_Riqw6hHqkzR--A.ARTIFACT_STREAM_CRON_GROUP at<br>  21:45:08 05/31/2017 with resulting trigger instruction code: DO NOTHING<br> id = 96<br> cluster = 4\", \"INFO  [2017-05-31 21:45:08,729] org.quartz.plugins.history.LoggingJobHistoryPlugin: Job D3H_QL6_Riqw<br>6hHqkzR--A.ARTIFACT_STREAM_CRON_GROUP fired (by trigger DEFAULT.D3H_QL6_Riqw6hHqkzR--A) at:  21:45:0<br>8 05/31/2017<br> id = 97<br> cluster = 1\", \"INFO  [2017-05-31 21:45:08,729] org.quartz.plugins.history.LoggingTriggerHistoryPlugin: Trigger DEFA<br>ULT.D3H_QL6_Riqw6hHqkzR--A fired job D3H_QL6_Riqw6hHqkzR--A.ARTIFACT_STREAM_CRON_GROUP at:  21:45:08<br> 05/31/2017<br> id = 98<br> cluster = 2\", \"2017-05-31 21:45:08:338 [AsyncAppender-Worker-async-rsyslog-tcp-ssl-appender] com.cloudbees.syslog.s<br>ender.TcpSyslogMessageSender - INFO: InetAddress of the Syslog Server have changed, create a new con<br>nection. Before=syslog-a.logdna.com/40.114.41.103, new=syslog-a.logdna.com/40.114.45.243<br> id = 99<br> cluster = 10\", \"INFO  [2017-05-31 21:45:08,338] org.quartz.plugins.history.LoggingJobHistoryPlugin: Job AuG03-OeTsa1<br>gx9m868dNw.SM_CLEANUP_CRON_GROUP fired (by trigger DEFAULT.AuG03-OeTsa1gx9m868dNw) at:  21:45:08 05/<br>31/2017<br> id = 100<br> cluster = 1\", \"INFO  [2017-05-31 21:45:08,338] org.quartz.plugins.history.LoggingTriggerHistoryPlugin: Trigger DEFA<br>ULT.AuG03-OeTsa1gx9m868dNw fired job AuG03-OeTsa1gx9m868dNw.SM_CLEANUP_CRON_GROUP at:  21:45:08 05/3<br>1/2017<br> id = 101<br> cluster = 2\", \"2017-05-31 21:45:05:247 [AsyncAppender-Worker-async-syslog-accesslogs-appender] com.cloudbees.syslog<br>.sender.TcpSyslogMessageSender - INFO: InetAddress of the Syslog Server have changed, create a new c<br>onnection. Before=syslog-a.logdna.com/40.114.41.103, new=syslog-a.logdna.com/40.114.45.243<br> id = 102<br> cluster = 10\", \"INFO  [2017-05-31 21:45:01,413] org.quartz.plugins.history.LoggingJobHistoryPlugin: Job K0vzHq-KTsql<br>PivBpy5SZQ.SM_CLEANUP_CRON_GROUP fired (by trigger DEFAULT.K0vzHq-KTsqlPivBpy5SZQ) at:  21:45:01 05/<br>31/2017<br> id = 103<br> cluster = 1\", \"INFO  [2017-05-31 21:45:01,413] org.quartz.plugins.history.LoggingTriggerHistoryPlugin: Trigger DEFA<br>ULT.K0vzHq-KTsqlPivBpy5SZQ fired job K0vzHq-KTsqlPivBpy5SZQ.SM_CLEANUP_CRON_GROUP at:  21:45:01 05/3<br>1/2017<br> id = 104<br> cluster = 2\", \"INFO  [2017-05-31 21:44:58,810] org.quartz.plugins.history.LoggingJobHistoryPlugin: Job rDZXPoicQ-y9<br>EHe9vv_HyA.SM_CLEANUP_CRON_GROUP fired (by trigger DEFAULT.rDZXPoicQ-y9EHe9vv_HyA) at:  21:44:58 05/<br>31/2017<br> id = 105<br> cluster = 1\", \"INFO  [2017-05-31 21:44:58,810] org.quartz.plugins.history.LoggingTriggerHistoryPlugin: Trigger DEFA<br>ULT.rDZXPoicQ-y9EHe9vv_HyA fired job rDZXPoicQ-y9EHe9vv_HyA.SM_CLEANUP_CRON_GROUP at:  21:44:58 05/3<br>1/2017<br> id = 106<br> cluster = 2\", \"INFO  [2017-05-31 21:44:40,040] org.quartz.plugins.history.LoggingJobHistoryPlugin: Job SFmGy4xrRpad<br>9Mql-fTqlg.SM_CLEANUP_CRON_GROUP fired (by trigger DEFAULT.SFmGy4xrRpad9Mql-fTqlg) at:  21:44:40 05/<br>31/2017<br> id = 107<br> cluster = 1\", \"INFO  [2017-05-31 21:44:40,040] org.quartz.plugins.history.LoggingTriggerHistoryPlugin: Trigger DEFA<br>ULT.SFmGy4xrRpad9Mql-fTqlg fired job SFmGy4xrRpad9Mql-fTqlg.SM_CLEANUP_CRON_GROUP at:  21:44:40 05/3<br>1/2017<br> id = 108<br> cluster = 2\", \"INFO  [2017-05-31 21:46:38,313] com.novemberain.quartz.mongodb.TriggerRunner: Acquired trigger: DEFA<br>ULT.SFmGy4xrRpad9Mql-fTqlg<br> id = 109<br> cluster = 12\", \"INFO  [2017-05-31 21:46:38,313] com.novemberain.quartz.mongodb.dao.LocksDao: Inserting lock for trig<br>ger DEFAULT.SFmGy4xrRpad9Mql-fTqlg<br> id = 110<br> cluster = 5\", \"INFO  [2017-05-31 21:46:38,311] com.novemberain.quartz.mongodb.dao.TriggerDao: Found 2 triggers whic<br>h are eligible to be run.<br> id = 111<br> cluster = 9\", \"INFO  [2017-05-31 21:46:38,311] com.novemberain.quartz.mongodb.dao.LocksDao: Trigger lock DEFAULT.0d<br>CbD2LCQ3uMm_RlVLMG2A.NON_CLUSTERED removed.<br> id = 112<br> cluster = 5\", \"INFO  [2017-05-31 21:46:38,310] com.novemberain.quartz.mongodb.dao.LocksDao: Removing trigger lock D<br>EFAULT.0dCbD2LCQ3uMm_RlVLMG2A.NON_CLUSTERED<br> id = 113<br> cluster = 5\", \"INFO  [2017-05-31 21:46:38,309] org.quartz.plugins.history.LoggingTriggerHistoryPlugin: Trigger DEFA<br>ULT.0dCbD2LCQ3uMm_RlVLMG2A completed firing job 0dCbD2LCQ3uMm_RlVLMG2A.SM_CLEANUP_CRON_GROUP at  21:<br>46:38 05/31/2017 with resulting trigger instruction code: DO NOTHING<br> id = 114<br> cluster = 4\", \"INFO  [2017-05-31 21:46:38,309] org.quartz.plugins.history.LoggingJobHistoryPlugin: Job 0dCbD2LCQ3uM<br>m_RlVLMG2A.SM_CLEANUP_CRON_GROUP execution complete at  21:46:38 05/31/2017 and reports: null<br> id = 115<br> cluster = 3\", \"INFO  [2017-05-31 21:46:38,307] org.quartz.plugins.history.LoggingJobHistoryPlugin: Job 0dCbD2LCQ3uM<br>m_RlVLMG2A.SM_CLEANUP_CRON_GROUP fired (by trigger DEFAULT.0dCbD2LCQ3uMm_RlVLMG2A) at:  21:46:38 05/<br>31/2017<br> id = 116<br> cluster = 1\", \"INFO  [2017-05-31 21:46:38,306] org.quartz.plugins.history.LoggingTriggerHistoryPlugin: Trigger DEFA<br>ULT.0dCbD2LCQ3uMm_RlVLMG2A fired job 0dCbD2LCQ3uMm_RlVLMG2A.SM_CLEANUP_CRON_GROUP at:  21:46:38 05/3<br>1/2017<br> id = 117<br> cluster = 2\", \"INFO  [2017-05-31 21:46:32,584] org.quartz.plugins.history.LoggingTriggerHistoryPlugin: Trigger DEFA<br>ULT.JGe5oLOLTyGP_qgqF1YW1A completed firing job JGe5oLOLTyGP_qgqF1YW1A.SM_CLEANUP_CRON_GROUP at  21:<br>46:32 05/31/2017 with resulting trigger instruction code: DO NOTHING<br> id = 118<br> cluster = 4\", \"INFO  [2017-05-31 21:46:32,584] org.quartz.plugins.history.LoggingJobHistoryPlugin: Job JGe5oLOLTyGP<br>_qgqF1YW1A.SM_CLEANUP_CRON_GROUP execution complete at  21:46:32 05/31/2017 and reports: null<br> id = 119<br> cluster = 3\", \"INFO  [2017-05-31 21:46:32,583] org.quartz.plugins.history.LoggingJobHistoryPlugin: Job JGe5oLOLTyGP<br>_qgqF1YW1A.SM_CLEANUP_CRON_GROUP fired (by trigger DEFAULT.JGe5oLOLTyGP_qgqF1YW1A) at:  21:46:32 05/<br>31/2017<br> id = 120<br> cluster = 1\", \"INFO  [2017-05-31 21:46:32,583] org.quartz.plugins.history.LoggingTriggerHistoryPlugin: Trigger DEFA<br>ULT.JGe5oLOLTyGP_qgqF1YW1A fired job JGe5oLOLTyGP_qgqF1YW1A.SM_CLEANUP_CRON_GROUP at:  21:46:32 05/3<br>1/2017<br> id = 121<br> cluster = 2\", \"INFO  [2017-05-31 21:46:31,928] com.novemberain.quartz.mongodb.dao.LocksDao: Trigger lock DEFAULT.cM<br>r2y3_5Q-qhVZHKSgtAww.NON_CLUSTERED removed.<br> id = 122<br> cluster = 5\", \"INFO  [2017-05-31 21:46:31,926] org.quartz.plugins.history.LoggingTriggerHistoryPlugin: Trigger DEFA<br>ULT.cMr2y3_5Q-qhVZHKSgtAww completed firing job cMr2y3_5Q-qhVZHKSgtAww.SM_CLEANUP_CRON_GROUP at  21:<br>46:31 05/31/2017 with resulting trigger instruction code: DO NOTHING<br> id = 123<br> cluster = 4\", \"INFO  [2017-05-31 21:46:31,926] org.quartz.plugins.history.LoggingJobHistoryPlugin: Job cMr2y3_5Q-qh<br>VZHKSgtAww.SM_CLEANUP_CRON_GROUP execution complete at  21:46:31 05/31/2017 and reports: null<br> id = 124<br> cluster = 3\", \"INFO  [2017-05-31 21:46:31,924] org.quartz.plugins.history.LoggingJobHistoryPlugin: Job cMr2y3_5Q-qh<br>VZHKSgtAww.SM_CLEANUP_CRON_GROUP fired (by trigger DEFAULT.cMr2y3_5Q-qhVZHKSgtAww) at:  21:46:31 05/<br>31/2017<br> id = 125<br> cluster = 1\", \"INFO  [2017-05-31 21:46:31,924] org.quartz.plugins.history.LoggingTriggerHistoryPlugin: Trigger DEFA<br>ULT.cMr2y3_5Q-qhVZHKSgtAww fired job cMr2y3_5Q-qhVZHKSgtAww.SM_CLEANUP_CRON_GROUP at:  21:46:31 05/3<br>1/2017<br> id = 126<br> cluster = 2\", \"INFO  [2017-05-31 21:46:25,300] software.wings.service.impl.DelegateServiceImpl: Broadcast new task:<br> UH1yt4G1Q2eCtHOIUY76XA<br> id = 127<br> cluster = 13\", \"INFO  [2017-05-31 21:46:25,298] org.quartz.plugins.history.LoggingTriggerHistoryPlugin: Trigger DEFA<br>ULT.zrYxDJ8ASo658RtE7UhNug fired job zrYxDJ8ASo658RtE7UhNug.ARTIFACT_STREAM_CRON_GROUP at:  21:46:25<br> 05/31/2017<br> id = 128<br> cluster = 2\", \"WARN  [2017-05-31 21:46:24,975] software.wings.waitnotify.Notifier: No entry in the waitQueue found <br>for the correlationIds: [kaG4hDwsRKGmNSEMH3MMgQ, 0UrlPx9sQeKA8pxVYP-AZA, hsbXDjzWTCWFfojREmmvSQ, hSp<br>55cwERwmz5ujaZsfwHQ, nJ3D48oOR-23j2MNYg1jHg, EoXOwhUZSjCgev5cHT6kTA, PYIm79AoRoif3R54ioxAGQ, WH9DCdn<br>xTt62b2MxgnBcqg, IYpXXgyJRGaKsXwF0n4a2A, hxzQPR1EQ5uIJW8LA1eDdQ, UmxbtjIWRuqo_aPJ0P4LDQ, 4xrEUEZ2Sgy<br>jypHGYbDRWQ, n01fA-jeSmaT3sbKtZeJzQ, x6fH5SIwQFq0YvC4p7q5_w, 7w0hvNANSW2AggOMn9w2VA, uM5q5HwSRUupJGl<br>Ed6AeTQ, kdS593IUSue4F68ne-P9ag, Ielw1FmMTRidCW6x4d32Vw, f67p97lWQ3CBqDhqCdYeVw, MMq8fSgVRgOls-jD--p<br>WdA, e0H1_6lfRk2_HJUrBJrBtg, tywf4xRhTemM7wc29BcaOw, Q4T-ZCukTmGmISoz-AQJLQ, 2zzAawdaTiumWRfU5PHcBQ,<br> EZSU2TmYRYegZ0YA_2WVnQ, 8xEYjmenTmi-eu8nmHC6rQ, 0Mws3BToTj64MPAxHShjBw, zy4600e0QZ6P6QIv21PIkg, 32O<br>m2QDqSIqvaQCAJYcHfQ, UYd9BQztRwGwegq1rFWKjw, R_Pzz35_Sw6sxpXUQGGOGw, zN8PfdYYQneISSbW9gojhg, YDwjc5t<br>QS6ynOvWaJgbwmg, Ez-HkRjITUO2aeRxfOABGQ, gyoKLsf0STCB-fTUxBDf-g, 0fKMcZEYSJmWhykY71FH4g, tvmhP5EPTbK<br> id = 129<br> cluster = 7\", \"INFO  [2017-05-31 21:46:18,038] software.wings.service.impl.DelegateServiceImpl: registering delegat<br>e: Delegate{accountId='kmpySmUISimoRrJL6NL73w', status=ENABLED, connected=true, ip='172.31.51.78', h<br>ostName='ip-172-31-51-78', lastHeartBeat=1496267178037, version='1.0.10', supportedTaskTypes=[HTTP, <br>SPLUNK, APP_DYNAMICS, JENKINS, JENKINS_COLLECTION, BAMBOO_COLLECTION, COMMAND, JENKINS_GET_BUILDS, J<br>ENKINS_GET_JOBS, JENKINS_GET_ARTIFACT_PATHS, JENKINS_LAST_SUCCESSFUL_BUILD, JENKINS_GET_PLANS, JENKI<br>NS_VALIDATE_ARTIFACT_SERVER, BAMBOO_GET_BUILDS, BAMBOO_GET_JOBS, BAMBOO_GET_ARTIFACT_PATHS, BAMBOO_L<br>AST_SUCCESSFUL_BUILD, BAMBOO_GET_PLANS, BAMBOO_VALIDATE_ARTIFACT_SERVER, DOCKER_GET_BUILDS, DOCKER_V<br>ALIDATE_ARTIFACT_SERVER, DOCKER_VALIDATE_ARTIFACT_STREAM, NEXUS_GET_JOBS, NEXUS_GET_PLANS, NEXUS_GET<br>_ARTIFACT_PATHS, NEXUS_GET_GROUP_IDS, NEXUS_GET_ARTIFACT_NAMES, NEXUS_GET_BUILDS, NEXUS_LAST_SUCCESS<br>FUL_BUILD, NEXUS_COLLECTION, NEXUS_VALIDATE_ARTIFACT_SERVER, APPDYNAMICS_CONFIGURATION_VALIDATE_TASK<br> id = 130<br> cluster = 6\", \"2017-05-31 21:46:13:679 [AsyncAppender-Worker-async-rsyslog-tcp-ssl-appender] com.cloudbees.syslog.s<br>ender.TcpSyslogMessageSender - INFO: InetAddress of the Syslog Server have changed, create a new con<br>nection. Before=syslog-a.logdna.com/40.114.45.243, new=syslog-a.logdna.com/40.114.41.103<br> id = 131<br> cluster = 10\", \"2017-05-31 21:46:09:151 [AsyncAppender-Worker-async-syslog-accesslogs-appender] com.cloudbees.syslog<br>.sender.TcpSyslogMessageSender - INFO: InetAddress of the Syslog Server have changed, create a new c<br>onnection. Before=syslog-a.logdna.com/40.114.45.243, new=syslog-a.logdna.com/40.114.41.103<br> id = 132<br> cluster = 10\", \"INFO  [2017-05-31 21:46:08,729] org.quartz.plugins.history.LoggingTriggerHistoryPlugin: Trigger DEFA<br>ULT.D3H_QL6_Riqw6hHqkzR--A completed firing job D3H_QL6_Riqw6hHqkzR--A.ARTIFACT_STREAM_CRON_GROUP at<br>  21:46:08 05/31/2017 with resulting trigger instruction code: DO NOTHING<br> id = 133<br> cluster = 4\", \"INFO  [2017-05-31 21:46:08,729] org.quartz.plugins.history.LoggingJobHistoryPlugin: Job D3H_QL6_Riqw<br>6hHqkzR--A.ARTIFACT_STREAM_CRON_GROUP fired (by trigger DEFAULT.D3H_QL6_Riqw6hHqkzR--A) at:  21:46:0<br>8 05/31/2017<br> id = 134<br> cluster = 1\", \"INFO  [2017-05-31 21:46:08,729] org.quartz.plugins.history.LoggingTriggerHistoryPlugin: Trigger DEFA<br>ULT.D3H_QL6_Riqw6hHqkzR--A fired job D3H_QL6_Riqw6hHqkzR--A.ARTIFACT_STREAM_CRON_GROUP at:  21:46:08<br> 05/31/2017<br> id = 135<br> cluster = 2\", \"INFO  [2017-05-31 21:46:08,337] org.quartz.plugins.history.LoggingJobHistoryPlugin: Job AuG03-OeTsa1<br>gx9m868dNw.SM_CLEANUP_CRON_GROUP fired (by trigger DEFAULT.AuG03-OeTsa1gx9m868dNw) at:  21:46:08 05/<br>31/2017<br> id = 136<br> cluster = 1\", \"INFO  [2017-05-31 21:46:08,337] org.quartz.plugins.history.LoggingTriggerHistoryPlugin: Trigger DEFA<br>ULT.AuG03-OeTsa1gx9m868dNw fired job AuG03-OeTsa1gx9m868dNw.SM_CLEANUP_CRON_GROUP at:  21:46:08 05/3<br>1/2017<br> id = 137<br> cluster = 2\", \"INFO  [2017-05-31 21:46:01,412] org.quartz.plugins.history.LoggingJobHistoryPlugin: Job K0vzHq-KTsql<br>PivBpy5SZQ.SM_CLEANUP_CRON_GROUP fired (by trigger DEFAULT.K0vzHq-KTsqlPivBpy5SZQ) at:  21:46:01 05/<br>31/2017<br> id = 138<br> cluster = 1\", \"INFO  [2017-05-31 21:46:01,412] org.quartz.plugins.history.LoggingTriggerHistoryPlugin: Trigger DEFA<br>ULT.K0vzHq-KTsqlPivBpy5SZQ fired job K0vzHq-KTsqlPivBpy5SZQ.SM_CLEANUP_CRON_GROUP at:  21:46:01 05/3<br>1/2017<br> id = 139<br> cluster = 2\", \"INFO  [2017-05-31 21:45:58,810] org.quartz.plugins.history.LoggingJobHistoryPlugin: Job rDZXPoicQ-y9<br>EHe9vv_HyA.SM_CLEANUP_CRON_GROUP fired (by trigger DEFAULT.rDZXPoicQ-y9EHe9vv_HyA) at:  21:45:58 05/<br>31/2017<br> id = 140<br> cluster = 1\", \"INFO  [2017-05-31 21:45:58,810] org.quartz.plugins.history.LoggingTriggerHistoryPlugin: Trigger DEFA<br>ULT.rDZXPoicQ-y9EHe9vv_HyA fired job rDZXPoicQ-y9EHe9vv_HyA.SM_CLEANUP_CRON_GROUP at:  21:45:58 05/3<br>1/2017<br> id = 141<br> cluster = 2\", \"INFO  [2017-05-31 21:45:40,040] org.quartz.plugins.history.LoggingJobHistoryPlugin: Job SFmGy4xrRpad<br>9Mql-fTqlg.SM_CLEANUP_CRON_GROUP fired (by trigger DEFAULT.SFmGy4xrRpad9Mql-fTqlg) at:  21:45:40 05/<br>31/2017<br> id = 142<br> cluster = 1\", \"INFO  [2017-05-31 21:45:40,040] org.quartz.plugins.history.LoggingTriggerHistoryPlugin: Trigger DEFA<br>ULT.SFmGy4xrRpad9Mql-fTqlg fired job SFmGy4xrRpad9Mql-fTqlg.SM_CLEANUP_CRON_GROUP at:  21:45:40 05/3<br>1/2017<br> id = 143<br> cluster = 2\", \"WARN  [2017-05-31 21:47:25,007] software.wings.waitnotify.Notifier: No entry in the waitQueue found <br>for the correlationIds: [kaG4hDwsRKGmNSEMH3MMgQ, 0UrlPx9sQeKA8pxVYP-AZA, hsbXDjzWTCWFfojREmmvSQ, hSp<br>55cwERwmz5ujaZsfwHQ, nJ3D48oOR-23j2MNYg1jHg, EoXOwhUZSjCgev5cHT6kTA, PYIm79AoRoif3R54ioxAGQ, WH9DCdn<br>xTt62b2MxgnBcqg, IYpXXgyJRGaKsXwF0n4a2A, hxzQPR1EQ5uIJW8LA1eDdQ, UmxbtjIWRuqo_aPJ0P4LDQ, 4xrEUEZ2Sgy<br>jypHGYbDRWQ, n01fA-jeSmaT3sbKtZeJzQ, x6fH5SIwQFq0YvC4p7q5_w, 7w0hvNANSW2AggOMn9w2VA, uM5q5HwSRUupJGl<br>Ed6AeTQ, kdS593IUSue4F68ne-P9ag, Ielw1FmMTRidCW6x4d32Vw, f67p97lWQ3CBqDhqCdYeVw, MMq8fSgVRgOls-jD--p<br>WdA, e0H1_6lfRk2_HJUrBJrBtg, tywf4xRhTemM7wc29BcaOw, Q4T-ZCukTmGmISoz-AQJLQ, 2zzAawdaTiumWRfU5PHcBQ,<br> EZSU2TmYRYegZ0YA_2WVnQ, 8xEYjmenTmi-eu8nmHC6rQ, 0Mws3BToTj64MPAxHShjBw, zy4600e0QZ6P6QIv21PIkg, 32O<br>m2QDqSIqvaQCAJYcHfQ, UYd9BQztRwGwegq1rFWKjw, R_Pzz35_Sw6sxpXUQGGOGw, zN8PfdYYQneISSbW9gojhg, YDwjc5t<br>QS6ynOvWaJgbwmg, Ez-HkRjITUO2aeRxfOABGQ, gyoKLsf0STCB-fTUxBDf-g, 0fKMcZEYSJmWhykY71FH4g, tvmhP5EPTbK<br> id = 144<br> cluster = 7\", \"INFO  [2017-05-31 21:47:24,819] com.novemberain.quartz.mongodb.TriggerRunner: Acquired trigger: DEFA<br>ULT.zrYxDJ8ASo658RtE7UhNug<br> id = 145<br> cluster = 12\", \"INFO  [2017-05-31 21:47:24,818] com.novemberain.quartz.mongodb.dao.LocksDao: Inserting lock for trig<br>ger DEFAULT.zrYxDJ8ASo658RtE7UhNug<br> id = 146<br> cluster = 5\", \"INFO  [2017-05-31 21:47:24,817] com.novemberain.quartz.mongodb.dao.TriggerDao: Found 4 triggers whic<br>h are eligible to be run.<br> id = 147<br> cluster = 9\", \"INFO  [2017-05-31 21:47:24,816] com.novemberain.quartz.mongodb.dao.LocksDao: Trigger lock DEFAULT.qg<br>1NzWlPRhK-6JwXye_1ug.NON_CLUSTERED removed.<br> id = 148<br> cluster = 5\", \"INFO  [2017-05-31 21:47:24,815] com.novemberain.quartz.mongodb.dao.LocksDao: Removing trigger lock D<br>EFAULT.qg1NzWlPRhK-6JwXye_1ug.NON_CLUSTERED<br> id = 149<br> cluster = 5\", \"INFO  [2017-05-31 21:47:24,814] org.quartz.plugins.history.LoggingTriggerHistoryPlugin: Trigger DEFA<br>ULT.qg1NzWlPRhK-6JwXye_1ug completed firing job qg1NzWlPRhK-6JwXye_1ug.ARTIFACT_STREAM_CRON_GROUP at<br>  21:47:24 05/31/2017 with resulting trigger instruction code: DO NOTHING<br> id = 150<br> cluster = 4\", \"INFO  [2017-05-31 21:47:24,814] org.quartz.plugins.history.LoggingJobHistoryPlugin: Job qg1NzWlPRhK-<br>6JwXye_1ug.ARTIFACT_STREAM_CRON_GROUP execution complete at  21:47:24 05/31/2017 and reports: null<br> id = 151<br> cluster = 3\", \"2017-05-31 21:47:24:814 [AsyncAppender-Worker-async-rsyslog-tcp-ssl-appender] com.cloudbees.syslog.s<br>ender.TcpSyslogMessageSender - INFO: InetAddress of the Syslog Server have changed, create a new con<br>nection. Before=syslog-a.logdna.com/40.114.41.103, new=syslog-a.logdna.com/40.114.40.67<br> id = 152<br> cluster = 10\", \"INFO  [2017-05-31 21:47:24,814] org.quartz.plugins.history.LoggingJobHistoryPlugin: Job qg1NzWlPRhK-<br>6JwXye_1ug.ARTIFACT_STREAM_CRON_GROUP fired (by trigger DEFAULT.qg1NzWlPRhK-6JwXye_1ug) at:  21:47:2<br>4 05/31/2017<br> id = 153<br> cluster = 1\", \"INFO  [2017-05-31 21:47:24,814] org.quartz.plugins.history.LoggingTriggerHistoryPlugin: Trigger DEFA<br>ULT.qg1NzWlPRhK-6JwXye_1ug fired job qg1NzWlPRhK-6JwXye_1ug.ARTIFACT_STREAM_CRON_GROUP at:  21:47:24<br> 05/31/2017<br> id = 154<br> cluster = 2\", \"INFO  [2017-05-31 21:47:18,181] software.wings.service.impl.DelegateServiceImpl: Broadcast new task:<br> RnDTUmaGTTKV8pSTp2ZDbw<br> id = 155<br> cluster = 13\", \"INFO  [2017-05-31 21:47:18,038] software.wings.service.impl.DelegateServiceImpl: registering delegat<br>e: Delegate{accountId='kmpySmUISimoRrJL6NL73w', status=ENABLED, connected=true, ip='172.31.51.78', h<br>ostName='ip-172-31-51-78', lastHeartBeat=1496267238037, version='1.0.10', supportedTaskTypes=[HTTP, <br>SPLUNK, APP_DYNAMICS, JENKINS, JENKINS_COLLECTION, BAMBOO_COLLECTION, COMMAND, JENKINS_GET_BUILDS, J<br>ENKINS_GET_JOBS, JENKINS_GET_ARTIFACT_PATHS, JENKINS_LAST_SUCCESSFUL_BUILD, JENKINS_GET_PLANS, JENKI<br>NS_VALIDATE_ARTIFACT_SERVER, BAMBOO_GET_BUILDS, BAMBOO_GET_JOBS, BAMBOO_GET_ARTIFACT_PATHS, BAMBOO_L<br>AST_SUCCESSFUL_BUILD, BAMBOO_GET_PLANS, BAMBOO_VALIDATE_ARTIFACT_SERVER, DOCKER_GET_BUILDS, DOCKER_V<br>ALIDATE_ARTIFACT_SERVER, DOCKER_VALIDATE_ARTIFACT_STREAM, NEXUS_GET_JOBS, NEXUS_GET_PLANS, NEXUS_GET<br>_ARTIFACT_PATHS, NEXUS_GET_GROUP_IDS, NEXUS_GET_ARTIFACT_NAMES, NEXUS_GET_BUILDS, NEXUS_LAST_SUCCESS<br>FUL_BUILD, NEXUS_COLLECTION, NEXUS_VALIDATE_ARTIFACT_SERVER, APPDYNAMICS_CONFIGURATION_VALIDATE_TASK<br> id = 156<br> cluster = 6\", \"INFO  [2017-05-31 21:47:17,188] org.quartz.plugins.history.LoggingTriggerHistoryPlugin: Trigger DEFA<br>ULT.84DUAsWyStm1sg5ZXlMung completed firing job 84DUAsWyStm1sg5ZXlMung.ARTIFACT_STREAM_CRON_GROUP at<br>  21:47:17 05/31/2017 with resulting trigger instruction code: DO NOTHING<br> id = 157<br> cluster = 4\", \"INFO  [2017-05-31 21:47:17,188] org.quartz.plugins.history.LoggingJobHistoryPlugin: Job 84DUAsWyStm1<br>sg5ZXlMung.ARTIFACT_STREAM_CRON_GROUP execution complete at  21:47:17 05/31/2017 and reports: null<br> id = 158<br> cluster = 3\", \"INFO  [2017-05-31 21:47:17,188] org.quartz.plugins.history.LoggingJobHistoryPlugin: Job 84DUAsWyStm1<br>sg5ZXlMung.ARTIFACT_STREAM_CRON_GROUP fired (by trigger DEFAULT.84DUAsWyStm1sg5ZXlMung) at:  21:47:1<br>7 05/31/2017<br> id = 159<br> cluster = 15\", \"INFO  [2017-05-31 21:47:17,188] org.quartz.plugins.history.LoggingTriggerHistoryPlugin: Trigger DEFA<br>ULT.84DUAsWyStm1sg5ZXlMung fired job 84DUAsWyStm1sg5ZXlMung.ARTIFACT_STREAM_CRON_GROUP at:  21:47:17<br> 05/31/2017<br> id = 160<br> cluster = 15\", \"2017-05-31 21:47:14:191 [AsyncAppender-Worker-async-syslog-accesslogs-appender] com.cloudbees.syslog<br>.sender.TcpSyslogMessageSender - INFO: InetAddress of the Syslog Server have changed, create a new c<br>onnection. Before=syslog-a.logdna.com/40.114.41.103, new=syslog-a.logdna.com/40.114.40.67<br> id = 161<br> cluster = 10\", \"INFO  [2017-05-31 21:47:13,679] org.quartz.plugins.history.LoggingTriggerHistoryPlugin: Trigger DEFA<br>ULT.UBBWzVkhQfKVEgzyBBhpeg fired job UBBWzVkhQfKVEgzyBBhpeg.SM_CLEANUP_CRON_GROUP at:  21:47:13 05/3<br>1/2017<br> id = 162<br> cluster = 2\", \"INFO  [2017-05-31 21:47:08,731] com.novemberain.quartz.mongodb.dao.LocksDao: Trigger lock DEFAULT.D3<br>H_QL6_Riqw6hHqkzR--A.NON_CLUSTERED removed.<br> id = 163<br> cluster = 5\", \"INFO  [2017-05-31 21:47:08,729] org.quartz.plugins.history.LoggingTriggerHistoryPlugin: Trigger DEFA<br>ULT.D3H_QL6_Riqw6hHqkzR--A completed firing job D3H_QL6_Riqw6hHqkzR--A.ARTIFACT_STREAM_CRON_GROUP at<br>  21:47:08 05/31/2017 with resulting trigger instruction code: DO NOTHING<br> id = 164<br> cluster = 4\", \"INFO  [2017-05-31 21:47:08,728] org.quartz.plugins.history.LoggingJobHistoryPlugin: Job D3H_QL6_Riqw<br>6hHqkzR--A.ARTIFACT_STREAM_CRON_GROUP execution complete at  21:47:08 05/31/2017 and reports: null<br> id = 165<br> cluster = 3\", \"INFO  [2017-05-31 21:47:08,728] org.quartz.plugins.history.LoggingJobHistoryPlugin: Job D3H_QL6_Riqw<br>6hHqkzR--A.ARTIFACT_STREAM_CRON_GROUP fired (by trigger DEFAULT.D3H_QL6_Riqw6hHqkzR--A) at:  21:47:0<br>8 05/31/2017<br> id = 166<br> cluster = 1\", \"INFO  [2017-05-31 21:47:08,728] org.quartz.plugins.history.LoggingTriggerHistoryPlugin: Trigger DEFA<br>ULT.D3H_QL6_Riqw6hHqkzR--A fired job D3H_QL6_Riqw6hHqkzR--A.ARTIFACT_STREAM_CRON_GROUP at:  21:47:08<br> 05/31/2017<br> id = 167<br> cluster = 2\", \"INFO  [2017-05-31 21:47:08,340] org.quartz.plugins.history.LoggingTriggerHistoryPlugin: Trigger DEFA<br>ULT.AuG03-OeTsa1gx9m868dNw completed firing job AuG03-OeTsa1gx9m868dNw.SM_CLEANUP_CRON_GROUP at  21:<br>47:08 05/31/2017 with resulting trigger instruction code: DO NOTHING<br> id = 168<br> cluster = 4\", \"INFO  [2017-05-31 21:47:08,338] org.quartz.plugins.history.LoggingJobHistoryPlugin: Job AuG03-OeTsa1<br>gx9m868dNw.SM_CLEANUP_CRON_GROUP fired (by trigger DEFAULT.AuG03-OeTsa1gx9m868dNw) at:  21:47:08 05/<br>31/2017<br> id = 169<br> cluster = 1\", \"INFO  [2017-05-31 21:47:08,338] org.quartz.plugins.history.LoggingTriggerHistoryPlugin: Trigger DEFA<br>ULT.AuG03-OeTsa1gx9m868dNw fired job AuG03-OeTsa1gx9m868dNw.SM_CLEANUP_CRON_GROUP at:  21:47:08 05/3<br>1/2017<br> id = 170<br> cluster = 2\", \"INFO  [2017-05-31 21:47:01,412] org.quartz.plugins.history.LoggingJobHistoryPlugin: Job K0vzHq-KTsql<br>PivBpy5SZQ.SM_CLEANUP_CRON_GROUP fired (by trigger DEFAULT.K0vzHq-KTsqlPivBpy5SZQ) at:  21:47:01 05/<br>31/2017<br> id = 171<br> cluster = 1\", \"INFO  [2017-05-31 21:47:01,412] org.quartz.plugins.history.LoggingTriggerHistoryPlugin: Trigger DEFA<br>ULT.K0vzHq-KTsqlPivBpy5SZQ fired job K0vzHq-KTsqlPivBpy5SZQ.SM_CLEANUP_CRON_GROUP at:  21:47:01 05/3<br>1/2017<br> id = 172<br> cluster = 2\", \"INFO  [2017-05-31 21:46:58,811] org.quartz.plugins.history.LoggingJobHistoryPlugin: Job rDZXPoicQ-y9<br>EHe9vv_HyA.SM_CLEANUP_CRON_GROUP fired (by trigger DEFAULT.rDZXPoicQ-y9EHe9vv_HyA) at:  21:46:58 05/<br>31/2017<br> id = 173<br> cluster = 1\", \"INFO  [2017-05-31 21:46:58,811] org.quartz.plugins.history.LoggingTriggerHistoryPlugin: Trigger DEFA<br>ULT.rDZXPoicQ-y9EHe9vv_HyA fired job rDZXPoicQ-y9EHe9vv_HyA.SM_CLEANUP_CRON_GROUP at:  21:46:58 05/3<br>1/2017<br> id = 174<br> cluster = 2\"], \"marker\": {\"opacity\": 0.3, \"color\": \"orange\"}, \"mode\": \"markers\", \"y\": [0.1509872300345159, 0.5130779813979055, 0.4444661674706097, 0.5617031726566194, 0.6457842088775081, 0.5094102254258283, -0.5656836931694685, -0.2488343747600868, 0.03510242682849986, 0.5617031726566196, 0.509410225425828, -0.5656836931694688, -0.24883437476008685, 0.03510242682849987, -0.36175171078242757, 0.18020977775797983, -0.8513197079319056, 0.19092012815560735, 0.4913875786145316, -0.5656836931694688, -0.3775704773249185, -0.09799534129727366, 0.509410225425828, -0.24883437476008677, 0.03510242682849985, -0.251428742057856, -0.2488343747600868, 0.03510242682849984, -0.25142874208999255, -0.24883437476008685, 0.035102426828499865, -0.24883437476008677, 0.03510242682849986, -0.24883437476008685, 0.035102426828499865, 0.15098723003451603, 0.5130790885515747, 0.444466173001553, 0.5617031726566194, 0.6457842088775084, 0.509410225425828, -0.5656836931694686, -0.24883437476008685, 0.035102426828499844, 0.509410225425828, -0.5656836931694686, -0.24883437476008685, 0.035102426828499844, 0.5617031726566197, 0.5094102254258284, -0.5656836931694684, -0.24883437476008685, 0.03510242682849986, -0.4205667689444953, 0.18020977775797967, -0.8513197079293017, 0.19092012815560727, -0.2514287420578556, -0.25142874208999255, 0.5094102254258281, -0.24883437476008677, 0.03510242682849986, -0.24883437476008685, 0.03510242682849984, -0.24883437476008677, 0.03510242682849986, -0.24883437476008685, 0.03510242682849984, -0.24883437476008677, 0.03510242682849986, 0.2672147656381242, 0.19719557538065074, 0.5115461207397992, 0.44446616747067397, 0.5617031726566192, 0.645784208877508, 0.509410225425828, -0.5656836931694686, -0.2514287420899925, -0.2488343747600868, 0.035102426828499865, 0.02413704270947904, 0.1909201281556071, 0.49138757861453153, -0.5656836931694684, -0.37757047732491833, -0.09799534129727365, -0.2514287420578557, 0.05196482797505776, 0.5617031726566194, 0.5094102254258281, -0.5656836931694685, -0.2488343747600867, 0.03510242682849986, 0.5094102254258281, -0.2488343747600868, 0.035102426828499865, -0.24883437476008677, 0.03510242682849985, -0.2488343747600867, 0.03510242682849985], \"x\": [0.4228665938147819, 0.3140439955003115, 0.6252705631831561, 0.22627819404568505, 0.1639959316718502, -0.3244332262550074, 0.3067442997499701, -0.18977078460060567, -0.3484840978123525, 0.2262781940456852, -0.32443322625500726, 0.30674429974997003, -0.1897707846006058, -0.3484840978123525, 0.6245919567630259, -0.07539769421294891, -0.08027193994440814, 0.7470547682389331, -0.3694170956284246, 0.30674429974997003, -0.3630108210274102, -0.5391152769193371, -0.3244332262550073, -0.18977078460060573, -0.3484840978123525, 0.6987196256309867, -0.18977078460060573, -0.3484840978123525, 0.6987196256236935, -0.1897707846006056, -0.3484840978123524, -0.18977078460060573, -0.3484840978123525, -0.1897707846006056, -0.3484840978123524, 0.4228665938147819, 0.31404417973956583, 0.6252705609888815, 0.22627819404568528, 0.16399593167185028, -0.3244332262550073, 0.30674429974997003, -0.18977078460060576, -0.3484840978123525, -0.3244332262550073, 0.30674429974997003, -0.18977078460060576, -0.3484840978123525, 0.22627819404568514, -0.32443322625500737, 0.30674429974997003, -0.18977078460060573, -0.3484840978123525, 0.6261285443307494, -0.07539769421294863, -0.08027194004122869, 0.7470547682389331, 0.6987196256309866, 0.6987196256236943, -0.3244332262550073, -0.18977078460060576, -0.3484840978123525, -0.18977078460060567, -0.3484840978123525, -0.18977078460060576, -0.3484840978123525, -0.18977078460060567, -0.3484840978123525, -0.18977078460060576, -0.3484840978123525, 0.6971952662008694, 0.4449275169780064, 0.3571476540068706, 0.6252705631831298, 0.2262781940456853, 0.16399593167184998, -0.32443322625500726, 0.30674429974997, 0.6987196256236938, -0.18977078460060567, -0.3484840978123525, 0.6940311295225265, 0.7470547682389335, -0.3694170956284249, 0.3067442997499699, -0.3630108210274105, -0.5391152769193369, 0.6987196256309868, -0.637092342923123, 0.22627819404568522, -0.32443322625500726, 0.30674429974997003, -0.18977078460060573, -0.34848409781235246, -0.32443322625500726, -0.18977078460060567, -0.3484840978123525, -0.18977078460060573, -0.3484840978123525, -0.18977078460060573, -0.3484840978123525], \"type\": \"scatter\"}], {\"hovermode\": \"closest\"}, {\"linkText\": \"Export to plot.ly\", \"showLink\": false})});</script>"
      ],
      "text/vnd.plotly.v1+html": [
       "<div id=\"8f61adb1-5e12-46df-a294-7c43b1665372\" style=\"height: 525px; width: 100%;\" class=\"plotly-graph-div\"></div><script type=\"text/javascript\">require([\"plotly\"], function(Plotly) { window.PLOTLYENV=window.PLOTLYENV || {};window.PLOTLYENV.BASE_URL=\"https://plot.ly\";Plotly.newPlot(\"8f61adb1-5e12-46df-a294-7c43b1665372\", [{\"name\": \"control\", \"text\": [\"172.31.15.70 - - [31/May/2017:21:35:12 +0000] \\\"GET /todolist/health-check HTTP/1.1\\\" 200 50<br> id = 0<br> cluster = 11\", \"INFO  [2017-05-31 21:35:18,184] com.novemberain.quartz.mongodb.TriggerRunner: Acquired trigger: DEFA<br>ULT.qg1NzWlPRhK-6JwXye_1ug<br> id = 1<br> cluster = 12\", \"INFO  [2017-05-31 21:35:18,184] com.novemberain.quartz.mongodb.dao.LocksDao: Inserting lock for trig<br>ger DEFAULT.qg1NzWlPRhK-6JwXye_1ug<br> id = 2<br> cluster = 5\", \"INFO  [2017-05-31 21:35:18,183] com.novemberain.quartz.mongodb.dao.TriggerDao: Found 2 triggers whic<br>h are eligible to be run.<br> id = 3<br> cluster = 9\", \"INFO  [2017-05-31 21:35:18,182] software.wings.service.impl.DelegateServiceImpl: Broadcast new task:<br> 488s8_pYSTO0ok_UqQNgdg<br> id = 4<br> cluster = 13\", \"INFO  [2017-05-31 21:35:18,182] com.novemberain.quartz.mongodb.dao.LocksDao: Trigger lock DEFAULT.vJ<br>3t7B6hTYyugnJ0JifqXA.NON_CLUSTERED removed.<br> id = 5<br> cluster = 5\", \"INFO  [2017-05-31 21:35:18,181] com.novemberain.quartz.mongodb.dao.LocksDao: Removing trigger lock D<br>EFAULT.vJ3t7B6hTYyugnJ0JifqXA.NON_CLUSTERED<br> id = 6<br> cluster = 5\", \"INFO  [2017-05-31 21:35:18,180] org.quartz.plugins.history.LoggingTriggerHistoryPlugin: Trigger DEFA<br>ULT.vJ3t7B6hTYyugnJ0JifqXA completed firing job vJ3t7B6hTYyugnJ0JifqXA.ARTIFACT_STREAM_CRON_GROUP at<br>  21:35:18 05/31/2017 with resulting trigger instruction code: DO NOTHING<br> id = 7<br> cluster = 4\", \"INFO  [2017-05-31 21:35:18,180] org.quartz.plugins.history.LoggingJobHistoryPlugin: Job vJ3t7B6hTYyu<br>gnJ0JifqXA.ARTIFACT_STREAM_CRON_GROUP execution complete at  21:35:18 05/31/2017 and reports: null<br> id = 8<br> cluster = 3\", \"INFO  [2017-05-31 21:35:18,180] org.quartz.plugins.history.LoggingJobHistoryPlugin: Job vJ3t7B6hTYyu<br>gnJ0JifqXA.ARTIFACT_STREAM_CRON_GROUP fired (by trigger DEFAULT.vJ3t7B6hTYyugnJ0JifqXA) at:  21:35:1<br>8 05/31/2017<br> id = 9<br> cluster = 0\", \"INFO  [2017-05-31 21:35:18,179] org.quartz.plugins.history.LoggingTriggerHistoryPlugin: Trigger DEFA<br>ULT.vJ3t7B6hTYyugnJ0JifqXA fired job vJ3t7B6hTYyugnJ0JifqXA.ARTIFACT_STREAM_CRON_GROUP at:  21:35:18<br> 05/31/2017<br> id = 10<br> cluster = 0\", \"INFO  [2017-05-31 21:35:18,038] software.wings.service.impl.DelegateServiceImpl: registering delegat<br>e: Delegate{accountId='kmpySmUISimoRrJL6NL73w', status=ENABLED, connected=true, ip='172.31.51.78', h<br>ostName='ip-172-31-51-78', lastHeartBeat=1496266518037, version='1.0.10', supportedTaskTypes=[HTTP, <br>SPLUNK, APP_DYNAMICS, JENKINS, JENKINS_COLLECTION, BAMBOO_COLLECTION, COMMAND, JENKINS_GET_BUILDS, J<br>ENKINS_GET_JOBS, JENKINS_GET_ARTIFACT_PATHS, JENKINS_LAST_SUCCESSFUL_BUILD, JENKINS_GET_PLANS, JENKI<br>NS_VALIDATE_ARTIFACT_SERVER, BAMBOO_GET_BUILDS, BAMBOO_GET_JOBS, BAMBOO_GET_ARTIFACT_PATHS, BAMBOO_L<br>AST_SUCCESSFUL_BUILD, BAMBOO_GET_PLANS, BAMBOO_VALIDATE_ARTIFACT_SERVER, DOCKER_GET_BUILDS, DOCKER_V<br>ALIDATE_ARTIFACT_SERVER, DOCKER_VALIDATE_ARTIFACT_STREAM, NEXUS_GET_JOBS, NEXUS_GET_PLANS, NEXUS_GET<br>_ARTIFACT_PATHS, NEXUS_GET_GROUP_IDS, NEXUS_GET_ARTIFACT_NAMES, NEXUS_GET_BUILDS, NEXUS_LAST_SUCCESS<br>FUL_BUILD, NEXUS_COLLECTION, NEXUS_VALIDATE_ARTIFACT_SERVER, APPDYNAMICS_CONFIGURATION_VALIDATE_TASK<br> id = 11<br> cluster = 6\", \"INFO  [2017-05-31 21:35:17,188] org.quartz.plugins.history.LoggingTriggerHistoryPlugin: Trigger DEFA<br>ULT.84DUAsWyStm1sg5ZXlMung completed firing job 84DUAsWyStm1sg5ZXlMung.ARTIFACT_STREAM_CRON_GROUP at<br>  21:35:17 05/31/2017 with resulting trigger instruction code: DO NOTHING<br> id = 12<br> cluster = 4\", \"INFO  [2017-05-31 21:35:17,188] org.quartz.plugins.history.LoggingJobHistoryPlugin: Job 84DUAsWyStm1<br>sg5ZXlMung.ARTIFACT_STREAM_CRON_GROUP execution complete at  21:35:17 05/31/2017 and reports: null<br> id = 13<br> cluster = 3\", \"INFO  [2017-05-31 21:35:17,188] org.quartz.plugins.history.LoggingJobHistoryPlugin: Job 84DUAsWyStm1<br>sg5ZXlMung.ARTIFACT_STREAM_CRON_GROUP fired (by trigger DEFAULT.84DUAsWyStm1sg5ZXlMung) at:  21:35:1<br>7 05/31/2017<br> id = 14<br> cluster = 15\", \"INFO  [2017-05-31 21:35:17,188] org.quartz.plugins.history.LoggingTriggerHistoryPlugin: Trigger DEFA<br>ULT.84DUAsWyStm1sg5ZXlMung fired job 84DUAsWyStm1sg5ZXlMung.ARTIFACT_STREAM_CRON_GROUP at:  21:35:17<br> 05/31/2017<br> id = 15<br> cluster = 15\", \"INFO  [2017-05-31 21:35:13,679] org.quartz.plugins.history.LoggingTriggerHistoryPlugin: Trigger DEFA<br>ULT.UBBWzVkhQfKVEgzyBBhpeg fired job UBBWzVkhQfKVEgzyBBhpeg.SM_CLEANUP_CRON_GROUP at:  21:35:13 05/3<br>1/2017<br> id = 16<br> cluster = 2\", \"INFO  [2017-05-31 21:35:08,731] com.novemberain.quartz.mongodb.dao.LocksDao: Trigger lock DEFAULT.D3<br>H_QL6_Riqw6hHqkzR--A.NON_CLUSTERED removed.<br> id = 17<br> cluster = 5\", \"INFO  [2017-05-31 21:35:08,729] org.quartz.plugins.history.LoggingTriggerHistoryPlugin: Trigger DEFA<br>ULT.D3H_QL6_Riqw6hHqkzR--A completed firing job D3H_QL6_Riqw6hHqkzR--A.ARTIFACT_STREAM_CRON_GROUP at<br>  21:35:08 05/31/2017 with resulting trigger instruction code: DO NOTHING<br> id = 18<br> cluster = 4\", \"INFO  [2017-05-31 21:35:08,729] org.quartz.plugins.history.LoggingJobHistoryPlugin: Job D3H_QL6_Riqw<br>6hHqkzR--A.ARTIFACT_STREAM_CRON_GROUP execution complete at  21:35:08 05/31/2017 and reports: null<br> id = 19<br> cluster = 3\", \"INFO  [2017-05-31 21:35:08,729] org.quartz.plugins.history.LoggingJobHistoryPlugin: Job D3H_QL6_Riqw<br>6hHqkzR--A.ARTIFACT_STREAM_CRON_GROUP fired (by trigger DEFAULT.D3H_QL6_Riqw6hHqkzR--A) at:  21:35:0<br>8 05/31/2017<br> id = 20<br> cluster = 1\", \"INFO  [2017-05-31 21:35:08,729] org.quartz.plugins.history.LoggingTriggerHistoryPlugin: Trigger DEFA<br>ULT.D3H_QL6_Riqw6hHqkzR--A fired job D3H_QL6_Riqw6hHqkzR--A.ARTIFACT_STREAM_CRON_GROUP at:  21:35:08<br> 05/31/2017<br> id = 21<br> cluster = 2\", \"INFO  [2017-05-31 21:35:08,340] org.quartz.plugins.history.LoggingTriggerHistoryPlugin: Trigger DEFA<br>ULT.AuG03-OeTsa1gx9m868dNw completed firing job AuG03-OeTsa1gx9m868dNw.SM_CLEANUP_CRON_GROUP at  21:<br>35:08 05/31/2017 with resulting trigger instruction code: DO NOTHING<br> id = 22<br> cluster = 4\", \"INFO  [2017-05-31 21:35:08,338] org.quartz.plugins.history.LoggingJobHistoryPlugin: Job AuG03-OeTsa1<br>gx9m868dNw.SM_CLEANUP_CRON_GROUP fired (by trigger DEFAULT.AuG03-OeTsa1gx9m868dNw) at:  21:35:08 05/<br>31/2017<br> id = 23<br> cluster = 1\", \"INFO  [2017-05-31 21:35:08,338] org.quartz.plugins.history.LoggingTriggerHistoryPlugin: Trigger DEFA<br>ULT.AuG03-OeTsa1gx9m868dNw fired job AuG03-OeTsa1gx9m868dNw.SM_CLEANUP_CRON_GROUP at:  21:35:08 05/3<br>1/2017<br> id = 24<br> cluster = 2\", \"INFO  [2017-05-31 21:35:01,412] org.quartz.plugins.history.LoggingJobHistoryPlugin: Job K0vzHq-KTsql<br>PivBpy5SZQ.SM_CLEANUP_CRON_GROUP fired (by trigger DEFAULT.K0vzHq-KTsqlPivBpy5SZQ) at:  21:35:01 05/<br>31/2017<br> id = 25<br> cluster = 1\", \"INFO  [2017-05-31 21:35:01,412] org.quartz.plugins.history.LoggingTriggerHistoryPlugin: Trigger DEFA<br>ULT.K0vzHq-KTsqlPivBpy5SZQ fired job K0vzHq-KTsqlPivBpy5SZQ.SM_CLEANUP_CRON_GROUP at:  21:35:01 05/3<br>1/2017<br> id = 26<br> cluster = 2\", \"INFO  [2017-05-31 21:34:58,811] org.quartz.plugins.history.LoggingJobHistoryPlugin: Job rDZXPoicQ-y9<br>EHe9vv_HyA.SM_CLEANUP_CRON_GROUP fired (by trigger DEFAULT.rDZXPoicQ-y9EHe9vv_HyA) at:  21:34:58 05/<br>31/2017<br> id = 27<br> cluster = 1\", \"INFO  [2017-05-31 21:34:58,811] org.quartz.plugins.history.LoggingTriggerHistoryPlugin: Trigger DEFA<br>ULT.rDZXPoicQ-y9EHe9vv_HyA fired job rDZXPoicQ-y9EHe9vv_HyA.SM_CLEANUP_CRON_GROUP at:  21:34:58 05/3<br>1/2017<br> id = 28<br> cluster = 2\", \"WARN  [2017-05-31 21:34:54,590] software.wings.waitnotify.Notifier: No entry in the waitQueue found <br>for the correlationIds: [kaG4hDwsRKGmNSEMH3MMgQ, 0UrlPx9sQeKA8pxVYP-AZA, hsbXDjzWTCWFfojREmmvSQ, hSp<br>55cwERwmz5ujaZsfwHQ, nJ3D48oOR-23j2MNYg1jHg, EoXOwhUZSjCgev5cHT6kTA, PYIm79AoRoif3R54ioxAGQ, WH9DCdn<br>xTt62b2MxgnBcqg, IYpXXgyJRGaKsXwF0n4a2A, hxzQPR1EQ5uIJW8LA1eDdQ, UmxbtjIWRuqo_aPJ0P4LDQ, 4xrEUEZ2Sgy<br>jypHGYbDRWQ, n01fA-jeSmaT3sbKtZeJzQ, x6fH5SIwQFq0YvC4p7q5_w, 7w0hvNANSW2AggOMn9w2VA, uM5q5HwSRUupJGl<br>Ed6AeTQ, kdS593IUSue4F68ne-P9ag, Ielw1FmMTRidCW6x4d32Vw, f67p97lWQ3CBqDhqCdYeVw, MMq8fSgVRgOls-jD--p<br>WdA, e0H1_6lfRk2_HJUrBJrBtg, tywf4xRhTemM7wc29BcaOw, Q4T-ZCukTmGmISoz-AQJLQ, 2zzAawdaTiumWRfU5PHcBQ,<br> EZSU2TmYRYegZ0YA_2WVnQ, 8xEYjmenTmi-eu8nmHC6rQ, 0Mws3BToTj64MPAxHShjBw, zy4600e0QZ6P6QIv21PIkg, 32O<br>m2QDqSIqvaQCAJYcHfQ, UYd9BQztRwGwegq1rFWKjw, R_Pzz35_Sw6sxpXUQGGOGw, zN8PfdYYQneISSbW9gojhg, YDwjc5t<br>QS6ynOvWaJgbwmg, Ez-HkRjITUO2aeRxfOABGQ, gyoKLsf0STCB-fTUxBDf-g, 0fKMcZEYSJmWhykY71FH4g, tvmhP5EPTbK<br> id = 29<br> cluster = 7\", \"INFO  [2017-05-31 21:34:40,039] org.quartz.plugins.history.LoggingJobHistoryPlugin: Job SFmGy4xrRpad<br>9Mql-fTqlg.SM_CLEANUP_CRON_GROUP fired (by trigger DEFAULT.SFmGy4xrRpad9Mql-fTqlg) at:  21:34:40 05/<br>31/2017<br> id = 30<br> cluster = 1\", \"INFO  [2017-05-31 21:34:40,039] org.quartz.plugins.history.LoggingTriggerHistoryPlugin: Trigger DEFA<br>ULT.SFmGy4xrRpad9Mql-fTqlg fired job SFmGy4xrRpad9Mql-fTqlg.SM_CLEANUP_CRON_GROUP at:  21:34:40 05/3<br>1/2017<br> id = 31<br> cluster = 2\", \"INFO  [2017-05-31 21:34:31,923] org.quartz.plugins.history.LoggingJobHistoryPlugin: Job cMr2y3_5Q-qh<br>VZHKSgtAww.SM_CLEANUP_CRON_GROUP fired (by trigger DEFAULT.cMr2y3_5Q-qhVZHKSgtAww) at:  21:34:31 05/<br>31/2017<br> id = 32<br> cluster = 1\", \"INFO  [2017-05-31 21:34:31,923] org.quartz.plugins.history.LoggingTriggerHistoryPlugin: Trigger DEFA<br>ULT.cMr2y3_5Q-qhVZHKSgtAww fired job cMr2y3_5Q-qhVZHKSgtAww.SM_CLEANUP_CRON_GROUP at:  21:34:31 05/3<br>1/2017<br> id = 33<br> cluster = 2\", \"INFO  [2017-05-31 21:34:29,942] software.wings.app.DelegateQueueTask: Broadcast queued sync task [ld<br>gb6-rBSbmK1Gdb5FSDLQ, null, QUEUED]<br> id = 34<br> cluster = 8\", \"INFO  [2017-05-31 21:34:29,941] software.wings.app.DelegateQueueTask: Broadcast queued sync task [ox<br>yvKQ8lQR24IkQN778Ljw, null, QUEUED]<br> id = 35<br> cluster = 8\", \"INFO  [2017-05-31 21:34:29,941] software.wings.app.DelegateQueueTask: Broadcast queued sync task [Zd<br>Z-c4CRQWGuufUP-SjpUA, null, QUEUED]<br> id = 36<br> cluster = 8\", \"INFO  [2017-05-31 21:34:29,939] software.wings.app.DelegateQueueTask: Broadcast queued sync task [96<br>FLHYp5TsaWQN6WEHCpkg, null, QUEUED]<br> id = 37<br> cluster = 8\", \"172.31.15.70 - - [31/May/2017:21:36:12 +0000] \\\"GET /todolist/health-check HTTP/1.1\\\" 200 50<br> id = 38<br> cluster = 14\", \"2017-05-31 21:36:19:690 [AsyncAppender-Worker-async-syslog-accesslogs-appender] com.cloudbees.syslog<br>.sender.TcpSyslogMessageSender - INFO: InetAddress of the Syslog Server have changed, create a new c<br>onnection. Before=syslog-a.logdna.com/40.71.95.146, new=syslog-a.logdna.com/40.114.45.243<br> id = 39<br> cluster = 10\", \"2017-05-31 21:36:19:690 [AsyncAppender-Worker-async-rsyslog-tcp-ssl-appender] com.cloudbees.syslog.s<br>ender.TcpSyslogMessageSender - INFO: InetAddress of the Syslog Server have changed, create a new con<br>nection. Before=syslog-a.logdna.com/40.71.95.146, new=syslog-a.logdna.com/40.114.45.243<br> id = 40<br> cluster = 10\", \"INFO  [2017-05-31 21:36:19,600] software.wings.service.impl.DelegateServiceImpl: registering delegat<br>e: Delegate{accountId='kmpySmUISimoRrJL6NL73w', status=ENABLED, connected=true, ip='172.31.51.78', h<br>ostName='ip-172-31-51-78', lastHeartBeat=1496266578037, version='1.0.10', supportedTaskTypes=[HTTP, <br>SPLUNK, APP_DYNAMICS, JENKINS, JENKINS_COLLECTION, BAMBOO_COLLECTION, COMMAND, JENKINS_GET_BUILDS, J<br>ENKINS_GET_JOBS, JENKINS_GET_ARTIFACT_PATHS, JENKINS_LAST_SUCCESSFUL_BUILD, JENKINS_GET_PLANS, JENKI<br>NS_VALIDATE_ARTIFACT_SERVER, BAMBOO_GET_BUILDS, BAMBOO_GET_JOBS, BAMBOO_GET_ARTIFACT_PATHS, BAMBOO_L<br>AST_SUCCESSFUL_BUILD, BAMBOO_GET_PLANS, BAMBOO_VALIDATE_ARTIFACT_SERVER, DOCKER_GET_BUILDS, DOCKER_V<br>ALIDATE_ARTIFACT_SERVER, DOCKER_VALIDATE_ARTIFACT_STREAM, NEXUS_GET_JOBS, NEXUS_GET_PLANS, NEXUS_GET<br>_ARTIFACT_PATHS, NEXUS_GET_GROUP_IDS, NEXUS_GET_ARTIFACT_NAMES, NEXUS_GET_BUILDS, NEXUS_LAST_SUCCESS<br>FUL_BUILD, NEXUS_COLLECTION, NEXUS_VALIDATE_ARTIFACT_SERVER, APPDYNAMICS_CONFIGURATION_VALIDATE_TASK<br> id = 41<br> cluster = 6\", \"INFO  [2017-05-31 21:36:18,184] com.novemberain.quartz.mongodb.TriggerRunner: Acquired trigger: DEFA<br>ULT.qg1NzWlPRhK-6JwXye_1ug<br> id = 42<br> cluster = 12\", \"INFO  [2017-05-31 21:36:18,184] com.novemberain.quartz.mongodb.dao.LocksDao: Inserting lock for trig<br>ger DEFAULT.qg1NzWlPRhK-6JwXye_1ug<br> id = 43<br> cluster = 5\", \"INFO  [2017-05-31 21:36:18,182] com.novemberain.quartz.mongodb.dao.TriggerDao: Found 2 triggers whic<br>h are eligible to be run.<br> id = 44<br> cluster = 9\", \"INFO  [2017-05-31 21:36:18,182] software.wings.service.impl.DelegateServiceImpl: Broadcast new task:<br> Wa9gNxFqSUKE9h8HqI0VNg<br> id = 45<br> cluster = 13\", \"INFO  [2017-05-31 21:36:18,181] com.novemberain.quartz.mongodb.dao.LocksDao: Trigger lock DEFAULT.vJ<br>3t7B6hTYyugnJ0JifqXA.NON_CLUSTERED removed.<br> id = 46<br> cluster = 5\", \"INFO  [2017-05-31 21:36:18,181] com.novemberain.quartz.mongodb.dao.LocksDao: Removing trigger lock D<br>EFAULT.vJ3t7B6hTYyugnJ0JifqXA.NON_CLUSTERED<br> id = 47<br> cluster = 5\", \"INFO  [2017-05-31 21:36:18,179] org.quartz.plugins.history.LoggingTriggerHistoryPlugin: Trigger DEFA<br>ULT.vJ3t7B6hTYyugnJ0JifqXA completed firing job vJ3t7B6hTYyugnJ0JifqXA.ARTIFACT_STREAM_CRON_GROUP at<br>  21:36:18 05/31/2017 with resulting trigger instruction code: DO NOTHING<br> id = 48<br> cluster = 4\", \"INFO  [2017-05-31 21:36:18,179] org.quartz.plugins.history.LoggingJobHistoryPlugin: Job vJ3t7B6hTYyu<br>gnJ0JifqXA.ARTIFACT_STREAM_CRON_GROUP execution complete at  21:36:18 05/31/2017 and reports: null<br> id = 49<br> cluster = 3\", \"INFO  [2017-05-31 21:36:18,179] org.quartz.plugins.history.LoggingJobHistoryPlugin: Job vJ3t7B6hTYyu<br>gnJ0JifqXA.ARTIFACT_STREAM_CRON_GROUP fired (by trigger DEFAULT.vJ3t7B6hTYyugnJ0JifqXA) at:  21:36:1<br>8 05/31/2017<br> id = 50<br> cluster = 0\", \"INFO  [2017-05-31 21:36:18,179] org.quartz.plugins.history.LoggingTriggerHistoryPlugin: Trigger DEFA<br>ULT.vJ3t7B6hTYyugnJ0JifqXA fired job vJ3t7B6hTYyugnJ0JifqXA.ARTIFACT_STREAM_CRON_GROUP at:  21:36:18<br> 05/31/2017<br> id = 51<br> cluster = 0\", \"INFO  [2017-05-31 21:36:17,188] org.quartz.plugins.history.LoggingTriggerHistoryPlugin: Trigger DEFA<br>ULT.84DUAsWyStm1sg5ZXlMung completed firing job 84DUAsWyStm1sg5ZXlMung.ARTIFACT_STREAM_CRON_GROUP at<br>  21:36:17 05/31/2017 with resulting trigger instruction code: DO NOTHING<br> id = 52<br> cluster = 4\", \"INFO  [2017-05-31 21:36:17,188] org.quartz.plugins.history.LoggingJobHistoryPlugin: Job 84DUAsWyStm1<br>sg5ZXlMung.ARTIFACT_STREAM_CRON_GROUP execution complete at  21:36:17 05/31/2017 and reports: null<br> id = 53<br> cluster = 3\", \"INFO  [2017-05-31 21:36:17,188] org.quartz.plugins.history.LoggingJobHistoryPlugin: Job 84DUAsWyStm1<br>sg5ZXlMung.ARTIFACT_STREAM_CRON_GROUP fired (by trigger DEFAULT.84DUAsWyStm1sg5ZXlMung) at:  21:36:1<br>7 05/31/2017<br> id = 54<br> cluster = 15\", \"INFO  [2017-05-31 21:36:17,188] org.quartz.plugins.history.LoggingTriggerHistoryPlugin: Trigger DEFA<br>ULT.84DUAsWyStm1sg5ZXlMung fired job 84DUAsWyStm1sg5ZXlMung.ARTIFACT_STREAM_CRON_GROUP at:  21:36:17<br> 05/31/2017<br> id = 55<br> cluster = 15\", \"INFO  [2017-05-31 21:36:13,678] org.quartz.plugins.history.LoggingTriggerHistoryPlugin: Trigger DEFA<br>ULT.UBBWzVkhQfKVEgzyBBhpeg fired job UBBWzVkhQfKVEgzyBBhpeg.SM_CLEANUP_CRON_GROUP at:  21:36:13 05/3<br>1/2017<br> id = 56<br> cluster = 2\", \"INFO  [2017-05-31 21:36:08,731] com.novemberain.quartz.mongodb.dao.LocksDao: Trigger lock DEFAULT.D3<br>H_QL6_Riqw6hHqkzR--A.NON_CLUSTERED removed.<br> id = 57<br> cluster = 5\", \"INFO  [2017-05-31 21:36:08,729] org.quartz.plugins.history.LoggingTriggerHistoryPlugin: Trigger DEFA<br>ULT.D3H_QL6_Riqw6hHqkzR--A completed firing job D3H_QL6_Riqw6hHqkzR--A.ARTIFACT_STREAM_CRON_GROUP at<br>  21:36:08 05/31/2017 with resulting trigger instruction code: DO NOTHING<br> id = 58<br> cluster = 4\", \"INFO  [2017-05-31 21:36:08,729] org.quartz.plugins.history.LoggingJobHistoryPlugin: Job D3H_QL6_Riqw<br>6hHqkzR--A.ARTIFACT_STREAM_CRON_GROUP execution complete at  21:36:08 05/31/2017 and reports: null<br> id = 59<br> cluster = 3\", \"INFO  [2017-05-31 21:36:08,729] org.quartz.plugins.history.LoggingJobHistoryPlugin: Job D3H_QL6_Riqw<br>6hHqkzR--A.ARTIFACT_STREAM_CRON_GROUP fired (by trigger DEFAULT.D3H_QL6_Riqw6hHqkzR--A) at:  21:36:0<br>8 05/31/2017<br> id = 60<br> cluster = 1\", \"INFO  [2017-05-31 21:36:08,729] org.quartz.plugins.history.LoggingTriggerHistoryPlugin: Trigger DEFA<br>ULT.D3H_QL6_Riqw6hHqkzR--A fired job D3H_QL6_Riqw6hHqkzR--A.ARTIFACT_STREAM_CRON_GROUP at:  21:36:08<br> 05/31/2017<br> id = 61<br> cluster = 2\", \"INFO  [2017-05-31 21:36:08,340] org.quartz.plugins.history.LoggingTriggerHistoryPlugin: Trigger DEFA<br>ULT.AuG03-OeTsa1gx9m868dNw completed firing job AuG03-OeTsa1gx9m868dNw.SM_CLEANUP_CRON_GROUP at  21:<br>36:08 05/31/2017 with resulting trigger instruction code: DO NOTHING<br> id = 62<br> cluster = 4\", \"INFO  [2017-05-31 21:36:08,337] org.quartz.plugins.history.LoggingJobHistoryPlugin: Job AuG03-OeTsa1<br>gx9m868dNw.SM_CLEANUP_CRON_GROUP fired (by trigger DEFAULT.AuG03-OeTsa1gx9m868dNw) at:  21:36:08 05/<br>31/2017<br> id = 63<br> cluster = 1\", \"INFO  [2017-05-31 21:36:08,337] org.quartz.plugins.history.LoggingTriggerHistoryPlugin: Trigger DEFA<br>ULT.AuG03-OeTsa1gx9m868dNw fired job AuG03-OeTsa1gx9m868dNw.SM_CLEANUP_CRON_GROUP at:  21:36:08 05/3<br>1/2017<br> id = 64<br> cluster = 2\", \"INFO  [2017-05-31 21:36:01,412] org.quartz.plugins.history.LoggingJobHistoryPlugin: Job K0vzHq-KTsql<br>PivBpy5SZQ.SM_CLEANUP_CRON_GROUP fired (by trigger DEFAULT.K0vzHq-KTsqlPivBpy5SZQ) at:  21:36:01 05/<br>31/2017<br> id = 65<br> cluster = 1\", \"INFO  [2017-05-31 21:36:01,412] org.quartz.plugins.history.LoggingTriggerHistoryPlugin: Trigger DEFA<br>ULT.K0vzHq-KTsqlPivBpy5SZQ fired job K0vzHq-KTsqlPivBpy5SZQ.SM_CLEANUP_CRON_GROUP at:  21:36:01 05/3<br>1/2017<br> id = 66<br> cluster = 2\", \"INFO  [2017-05-31 21:35:58,811] org.quartz.plugins.history.LoggingJobHistoryPlugin: Job rDZXPoicQ-y9<br>EHe9vv_HyA.SM_CLEANUP_CRON_GROUP fired (by trigger DEFAULT.rDZXPoicQ-y9EHe9vv_HyA) at:  21:35:58 05/<br>31/2017<br> id = 67<br> cluster = 1\", \"INFO  [2017-05-31 21:35:58,811] org.quartz.plugins.history.LoggingTriggerHistoryPlugin: Trigger DEFA<br>ULT.rDZXPoicQ-y9EHe9vv_HyA fired job rDZXPoicQ-y9EHe9vv_HyA.SM_CLEANUP_CRON_GROUP at:  21:35:58 05/3<br>1/2017<br> id = 68<br> cluster = 2\", \"WARN  [2017-05-31 21:35:54,623] software.wings.waitnotify.Notifier: No entry in the waitQueue found <br>for the correlationIds: [kaG4hDwsRKGmNSEMH3MMgQ, 0UrlPx9sQeKA8pxVYP-AZA, hsbXDjzWTCWFfojREmmvSQ, hSp<br>55cwERwmz5ujaZsfwHQ, nJ3D48oOR-23j2MNYg1jHg, EoXOwhUZSjCgev5cHT6kTA, PYIm79AoRoif3R54ioxAGQ, WH9DCdn<br>xTt62b2MxgnBcqg, IYpXXgyJRGaKsXwF0n4a2A, hxzQPR1EQ5uIJW8LA1eDdQ, UmxbtjIWRuqo_aPJ0P4LDQ, 4xrEUEZ2Sgy<br>jypHGYbDRWQ, n01fA-jeSmaT3sbKtZeJzQ, x6fH5SIwQFq0YvC4p7q5_w, 7w0hvNANSW2AggOMn9w2VA, uM5q5HwSRUupJGl<br>Ed6AeTQ, kdS593IUSue4F68ne-P9ag, Ielw1FmMTRidCW6x4d32Vw, f67p97lWQ3CBqDhqCdYeVw, MMq8fSgVRgOls-jD--p<br>WdA, e0H1_6lfRk2_HJUrBJrBtg, tywf4xRhTemM7wc29BcaOw, Q4T-ZCukTmGmISoz-AQJLQ, 2zzAawdaTiumWRfU5PHcBQ,<br> EZSU2TmYRYegZ0YA_2WVnQ, 8xEYjmenTmi-eu8nmHC6rQ, 0Mws3BToTj64MPAxHShjBw, zy4600e0QZ6P6QIv21PIkg, 32O<br>m2QDqSIqvaQCAJYcHfQ, UYd9BQztRwGwegq1rFWKjw, R_Pzz35_Sw6sxpXUQGGOGw, zN8PfdYYQneISSbW9gojhg, YDwjc5t<br>QS6ynOvWaJgbwmg, Ez-HkRjITUO2aeRxfOABGQ, gyoKLsf0STCB-fTUxBDf-g, 0fKMcZEYSJmWhykY71FH4g, tvmhP5EPTbK<br> id = 69<br> cluster = 7\", \"INFO  [2017-05-31 21:35:40,040] org.quartz.plugins.history.LoggingJobHistoryPlugin: Job SFmGy4xrRpad<br>9Mql-fTqlg.SM_CLEANUP_CRON_GROUP fired (by trigger DEFAULT.SFmGy4xrRpad9Mql-fTqlg) at:  21:35:40 05/<br>31/2017<br> id = 70<br> cluster = 1\", \"INFO  [2017-05-31 21:35:40,040] org.quartz.plugins.history.LoggingTriggerHistoryPlugin: Trigger DEFA<br>ULT.SFmGy4xrRpad9Mql-fTqlg fired job SFmGy4xrRpad9Mql-fTqlg.SM_CLEANUP_CRON_GROUP at:  21:35:40 05/3<br>1/2017<br> id = 71<br> cluster = 2\", \"INFO  [2017-05-31 21:35:31,923] org.quartz.plugins.history.LoggingJobHistoryPlugin: Job cMr2y3_5Q-qh<br>VZHKSgtAww.SM_CLEANUP_CRON_GROUP fired (by trigger DEFAULT.cMr2y3_5Q-qhVZHKSgtAww) at:  21:35:31 05/<br>31/2017<br> id = 72<br> cluster = 1\", \"INFO  [2017-05-31 21:35:31,923] org.quartz.plugins.history.LoggingTriggerHistoryPlugin: Trigger DEFA<br>ULT.cMr2y3_5Q-qhVZHKSgtAww fired job cMr2y3_5Q-qhVZHKSgtAww.SM_CLEANUP_CRON_GROUP at:  21:35:31 05/3<br>1/2017<br> id = 73<br> cluster = 2\"], \"marker\": {\"opacity\": 0.3, \"color\": \"blue\"}, \"mode\": \"markers\", \"y\": [-0.8530901228960288, 0.15098723003451567, 0.5130790885515752, 0.4444661674706722, -0.0061528919112161596, 0.5617031726566194, 0.6457842088775079, 0.5368207867622176, -0.5656836931694686, -0.36456826544099546, 0.03346324253738738, 0.19092012815560744, 0.49138757861453175, -0.5656836931694689, -0.3775704773249187, -0.0979953412972735, 0.0852195793838703, 0.5617031726566194, 0.5094102254258283, -0.5656836931694688, -0.24883437476008685, 0.035102426828499796, 0.5094102254258283, -0.24883437476008685, 0.03510242682849988, -0.24883437476008677, 0.03510242682849985, -0.24883437476008685, 0.03510242682849988, -0.8513197079295655, -0.24883437476008685, 0.035102426828499844, -0.24883437476008693, 0.035102426828499796, -0.06811200822367292, -0.05853445033255733, -0.06811200822367293, -0.06545738189993103, -0.8383047006963149, -0.2514287420899925, -0.2514287420578555, 0.19092012815560744, 0.1509872300345158, 0.5130779813979057, 0.4444661730015484, -0.3870575471394359, 0.56170317265662, 0.6457842088775082, 0.5368207867622173, -0.5656836931694688, -0.3645682652831776, 0.03346324253866672, 0.4913875786145319, -0.5656836931694688, -0.37757047732491866, -0.09799534129727366, 0.08521957938025329, 0.5617031726566194, 0.509410225425828, -0.5656836931694686, -0.24883437476008688, 0.035102426828499816, 0.509410225425828, -0.24883437476008685, 0.03510242682849987, -0.24883437476008685, 0.03510242682849985, -0.24883437476008685, 0.03510242682849987, -0.8513197079295888, -0.24883437476008685, 0.03510242682849987, -0.24883437476008688, 0.03510242682849983], \"x\": [0.11769824379267907, 0.4228665938147823, 0.3140441797395661, 0.6252705631831296, 0.6553051461075394, 0.22627819404568514, 0.16399593167184992, -0.29815190065376906, 0.3067442997499703, -0.049218412063060574, -0.5726690970109661, 0.7470547682389328, -0.36941709562842434, 0.30674429974997014, -0.3630108210274103, -0.5391152769193372, -0.6272437142100666, 0.22627819404568505, -0.3244332262550072, 0.3067442997499701, -0.18977078460060573, -0.3484840978123527, -0.3244332262550072, -0.18977078460060567, -0.3484840978123525, -0.18977078460060573, -0.3484840978123525, -0.18977078460060567, -0.3484840978123525, -0.08027194003135481, -0.1897707846006059, -0.3484840978123527, -0.18977078460060573, -0.3484840978123527, 0.7173288961716576, 0.7336104384306803, 0.7173288961716571, 0.730972870992054, 0.22516580229685462, 0.6987196256236932, 0.6987196256309869, 0.7470547682389327, 0.4228665938147819, 0.3140439955003115, 0.6252705609888836, 0.6315510779070932, 0.2262781940456852, 0.1639959316718501, -0.2981519006537692, 0.3067442997499701, -0.04921841192176608, -0.5726690970105691, -0.36941709562842445, 0.3067442997499701, -0.3630108210274102, -0.5391152769193372, -0.6272437142114046, 0.22627819404568514, -0.32443322625500726, 0.3067442997499701, -0.18977078460060576, -0.3484840978123526, -0.32443322625500726, -0.18977078460060567, -0.34848409781235246, -0.18977078460060576, -0.3484840978123525, -0.18977078460060567, -0.34848409781235246, -0.08027194003051928, -0.1897707846006058, -0.3484840978123525, -0.1897707846006058, -0.34848409781235257], \"type\": \"scatter\"}, {\"name\": \"test\", \"text\": [\"INFO  [2017-05-31 21:45:32,590] com.novemberain.quartz.mongodb.TriggerRunner: Acquired trigger: DEFA<br>ULT.0dCbD2LCQ3uMm_RlVLMG2A<br> id = 74<br> cluster = 12\", \"INFO  [2017-05-31 21:45:32,589] com.novemberain.quartz.mongodb.dao.LocksDao: Inserting lock for trig<br>ger DEFAULT.0dCbD2LCQ3uMm_RlVLMG2A<br> id = 75<br> cluster = 5\", \"INFO  [2017-05-31 21:45:32,588] com.novemberain.quartz.mongodb.dao.TriggerDao: Found 2 triggers whic<br>h are eligible to be run.<br> id = 76<br> cluster = 9\", \"INFO  [2017-05-31 21:45:32,587] com.novemberain.quartz.mongodb.dao.LocksDao: Trigger lock DEFAULT.JG<br>e5oLOLTyGP_qgqF1YW1A.NON_CLUSTERED removed.<br> id = 77<br> cluster = 5\", \"INFO  [2017-05-31 21:45:32,586] com.novemberain.quartz.mongodb.dao.LocksDao: Removing trigger lock D<br>EFAULT.JGe5oLOLTyGP_qgqF1YW1A.NON_CLUSTERED<br> id = 78<br> cluster = 5\", \"INFO  [2017-05-31 21:45:32,585] org.quartz.plugins.history.LoggingTriggerHistoryPlugin: Trigger DEFA<br>ULT.JGe5oLOLTyGP_qgqF1YW1A completed firing job JGe5oLOLTyGP_qgqF1YW1A.SM_CLEANUP_CRON_GROUP at  21:<br>45:32 05/31/2017 with resulting trigger instruction code: DO NOTHING<br> id = 79<br> cluster = 4\", \"INFO  [2017-05-31 21:45:32,585] org.quartz.plugins.history.LoggingJobHistoryPlugin: Job JGe5oLOLTyGP<br>_qgqF1YW1A.SM_CLEANUP_CRON_GROUP execution complete at  21:45:32 05/31/2017 and reports: null<br> id = 80<br> cluster = 3\", \"INFO  [2017-05-31 21:45:32,583] org.quartz.plugins.history.LoggingJobHistoryPlugin: Job JGe5oLOLTyGP<br>_qgqF1YW1A.SM_CLEANUP_CRON_GROUP fired (by trigger DEFAULT.JGe5oLOLTyGP_qgqF1YW1A) at:  21:45:32 05/<br>31/2017<br> id = 81<br> cluster = 1\", \"INFO  [2017-05-31 21:45:32,583] org.quartz.plugins.history.LoggingTriggerHistoryPlugin: Trigger DEFA<br>ULT.JGe5oLOLTyGP_qgqF1YW1A fired job JGe5oLOLTyGP_qgqF1YW1A.SM_CLEANUP_CRON_GROUP at:  21:45:32 05/3<br>1/2017<br> id = 82<br> cluster = 2\", \"INFO  [2017-05-31 21:45:31,927] com.novemberain.quartz.mongodb.dao.LocksDao: Trigger lock DEFAULT.cM<br>r2y3_5Q-qhVZHKSgtAww.NON_CLUSTERED removed.<br> id = 83<br> cluster = 5\", \"INFO  [2017-05-31 21:45:31,925] org.quartz.plugins.history.LoggingTriggerHistoryPlugin: Trigger DEFA<br>ULT.cMr2y3_5Q-qhVZHKSgtAww completed firing job cMr2y3_5Q-qhVZHKSgtAww.SM_CLEANUP_CRON_GROUP at  21:<br>45:31 05/31/2017 with resulting trigger instruction code: DO NOTHING<br> id = 84<br> cluster = 4\", \"INFO  [2017-05-31 21:45:31,925] org.quartz.plugins.history.LoggingJobHistoryPlugin: Job cMr2y3_5Q-qh<br>VZHKSgtAww.SM_CLEANUP_CRON_GROUP execution complete at  21:45:31 05/31/2017 and reports: null<br> id = 85<br> cluster = 3\", \"INFO  [2017-05-31 21:45:31,923] org.quartz.plugins.history.LoggingJobHistoryPlugin: Job cMr2y3_5Q-qh<br>VZHKSgtAww.SM_CLEANUP_CRON_GROUP fired (by trigger DEFAULT.cMr2y3_5Q-qhVZHKSgtAww) at:  21:45:31 05/<br>31/2017<br> id = 86<br> cluster = 1\", \"INFO  [2017-05-31 21:45:31,923] org.quartz.plugins.history.LoggingTriggerHistoryPlugin: Trigger DEFA<br>ULT.cMr2y3_5Q-qhVZHKSgtAww fired job cMr2y3_5Q-qhVZHKSgtAww.SM_CLEANUP_CRON_GROUP at:  21:45:31 05/3<br>1/2017<br> id = 87<br> cluster = 2\", \"INFO  [2017-05-31 21:45:25,301] software.wings.service.impl.DelegateServiceImpl: Broadcast new task:<br> 4c9sbdU4RC6k5oAnsV8Rqw<br> id = 88<br> cluster = 13\", \"INFO  [2017-05-31 21:45:25,298] org.quartz.plugins.history.LoggingTriggerHistoryPlugin: Trigger DEFA<br>ULT.zrYxDJ8ASo658RtE7UhNug fired job zrYxDJ8ASo658RtE7UhNug.ARTIFACT_STREAM_CRON_GROUP at:  21:45:25<br> 05/31/2017<br> id = 89<br> cluster = 2\", \"WARN  [2017-05-31 21:45:24,942] software.wings.waitnotify.Notifier: No entry in the waitQueue found <br>for the correlationIds: [kaG4hDwsRKGmNSEMH3MMgQ, 0UrlPx9sQeKA8pxVYP-AZA, hsbXDjzWTCWFfojREmmvSQ, hSp<br>55cwERwmz5ujaZsfwHQ, nJ3D48oOR-23j2MNYg1jHg, EoXOwhUZSjCgev5cHT6kTA, PYIm79AoRoif3R54ioxAGQ, WH9DCdn<br>xTt62b2MxgnBcqg, IYpXXgyJRGaKsXwF0n4a2A, hxzQPR1EQ5uIJW8LA1eDdQ, UmxbtjIWRuqo_aPJ0P4LDQ, 4xrEUEZ2Sgy<br>jypHGYbDRWQ, n01fA-jeSmaT3sbKtZeJzQ, x6fH5SIwQFq0YvC4p7q5_w, 7w0hvNANSW2AggOMn9w2VA, uM5q5HwSRUupJGl<br>Ed6AeTQ, kdS593IUSue4F68ne-P9ag, Ielw1FmMTRidCW6x4d32Vw, f67p97lWQ3CBqDhqCdYeVw, MMq8fSgVRgOls-jD--p<br>WdA, e0H1_6lfRk2_HJUrBJrBtg, tywf4xRhTemM7wc29BcaOw, Q4T-ZCukTmGmISoz-AQJLQ, 2zzAawdaTiumWRfU5PHcBQ,<br> EZSU2TmYRYegZ0YA_2WVnQ, 8xEYjmenTmi-eu8nmHC6rQ, 0Mws3BToTj64MPAxHShjBw, zy4600e0QZ6P6QIv21PIkg, 32O<br>m2QDqSIqvaQCAJYcHfQ, UYd9BQztRwGwegq1rFWKjw, R_Pzz35_Sw6sxpXUQGGOGw, zN8PfdYYQneISSbW9gojhg, YDwjc5t<br>QS6ynOvWaJgbwmg, Ez-HkRjITUO2aeRxfOABGQ, gyoKLsf0STCB-fTUxBDf-g, 0fKMcZEYSJmWhykY71FH4g, tvmhP5EPTbK<br> id = 90<br> cluster = 7\", \"INFO  [2017-05-31 21:45:18,038] software.wings.service.impl.DelegateServiceImpl: registering delegat<br>e: Delegate{accountId='kmpySmUISimoRrJL6NL73w', status=ENABLED, connected=true, ip='172.31.51.78', h<br>ostName='ip-172-31-51-78', lastHeartBeat=1496267118037, version='1.0.10', supportedTaskTypes=[HTTP, <br>SPLUNK, APP_DYNAMICS, JENKINS, JENKINS_COLLECTION, BAMBOO_COLLECTION, COMMAND, JENKINS_GET_BUILDS, J<br>ENKINS_GET_JOBS, JENKINS_GET_ARTIFACT_PATHS, JENKINS_LAST_SUCCESSFUL_BUILD, JENKINS_GET_PLANS, JENKI<br>NS_VALIDATE_ARTIFACT_SERVER, BAMBOO_GET_BUILDS, BAMBOO_GET_JOBS, BAMBOO_GET_ARTIFACT_PATHS, BAMBOO_L<br>AST_SUCCESSFUL_BUILD, BAMBOO_GET_PLANS, BAMBOO_VALIDATE_ARTIFACT_SERVER, DOCKER_GET_BUILDS, DOCKER_V<br>ALIDATE_ARTIFACT_SERVER, DOCKER_VALIDATE_ARTIFACT_STREAM, NEXUS_GET_JOBS, NEXUS_GET_PLANS, NEXUS_GET<br>_ARTIFACT_PATHS, NEXUS_GET_GROUP_IDS, NEXUS_GET_ARTIFACT_NAMES, NEXUS_GET_BUILDS, NEXUS_LAST_SUCCESS<br>FUL_BUILD, NEXUS_COLLECTION, NEXUS_VALIDATE_ARTIFACT_SERVER, APPDYNAMICS_CONFIGURATION_VALIDATE_TASK<br> id = 91<br> cluster = 6\", \"INFO  [2017-05-31 21:45:17,189] org.quartz.plugins.history.LoggingTriggerHistoryPlugin: Trigger DEFA<br>ULT.84DUAsWyStm1sg5ZXlMung completed firing job 84DUAsWyStm1sg5ZXlMung.ARTIFACT_STREAM_CRON_GROUP at<br>  21:45:17 05/31/2017 with resulting trigger instruction code: DO NOTHING<br> id = 92<br> cluster = 4\", \"INFO  [2017-05-31 21:45:17,189] org.quartz.plugins.history.LoggingJobHistoryPlugin: Job 84DUAsWyStm1<br>sg5ZXlMung.ARTIFACT_STREAM_CRON_GROUP execution complete at  21:45:17 05/31/2017 and reports: null<br> id = 93<br> cluster = 3\", \"INFO  [2017-05-31 21:45:17,189] org.quartz.plugins.history.LoggingJobHistoryPlugin: Job 84DUAsWyStm1<br>sg5ZXlMung.ARTIFACT_STREAM_CRON_GROUP fired (by trigger DEFAULT.84DUAsWyStm1sg5ZXlMung) at:  21:45:1<br>7 05/31/2017<br> id = 94<br> cluster = 15\", \"INFO  [2017-05-31 21:45:17,189] org.quartz.plugins.history.LoggingTriggerHistoryPlugin: Trigger DEFA<br>ULT.84DUAsWyStm1sg5ZXlMung fired job 84DUAsWyStm1sg5ZXlMung.ARTIFACT_STREAM_CRON_GROUP at:  21:45:17<br> 05/31/2017<br> id = 95<br> cluster = 15\", \"INFO  [2017-05-31 21:45:08,729] org.quartz.plugins.history.LoggingTriggerHistoryPlugin: Trigger DEFA<br>ULT.D3H_QL6_Riqw6hHqkzR--A completed firing job D3H_QL6_Riqw6hHqkzR--A.ARTIFACT_STREAM_CRON_GROUP at<br>  21:45:08 05/31/2017 with resulting trigger instruction code: DO NOTHING<br> id = 96<br> cluster = 4\", \"INFO  [2017-05-31 21:45:08,729] org.quartz.plugins.history.LoggingJobHistoryPlugin: Job D3H_QL6_Riqw<br>6hHqkzR--A.ARTIFACT_STREAM_CRON_GROUP fired (by trigger DEFAULT.D3H_QL6_Riqw6hHqkzR--A) at:  21:45:0<br>8 05/31/2017<br> id = 97<br> cluster = 1\", \"INFO  [2017-05-31 21:45:08,729] org.quartz.plugins.history.LoggingTriggerHistoryPlugin: Trigger DEFA<br>ULT.D3H_QL6_Riqw6hHqkzR--A fired job D3H_QL6_Riqw6hHqkzR--A.ARTIFACT_STREAM_CRON_GROUP at:  21:45:08<br> 05/31/2017<br> id = 98<br> cluster = 2\", \"2017-05-31 21:45:08:338 [AsyncAppender-Worker-async-rsyslog-tcp-ssl-appender] com.cloudbees.syslog.s<br>ender.TcpSyslogMessageSender - INFO: InetAddress of the Syslog Server have changed, create a new con<br>nection. Before=syslog-a.logdna.com/40.114.41.103, new=syslog-a.logdna.com/40.114.45.243<br> id = 99<br> cluster = 10\", \"INFO  [2017-05-31 21:45:08,338] org.quartz.plugins.history.LoggingJobHistoryPlugin: Job AuG03-OeTsa1<br>gx9m868dNw.SM_CLEANUP_CRON_GROUP fired (by trigger DEFAULT.AuG03-OeTsa1gx9m868dNw) at:  21:45:08 05/<br>31/2017<br> id = 100<br> cluster = 1\", \"INFO  [2017-05-31 21:45:08,338] org.quartz.plugins.history.LoggingTriggerHistoryPlugin: Trigger DEFA<br>ULT.AuG03-OeTsa1gx9m868dNw fired job AuG03-OeTsa1gx9m868dNw.SM_CLEANUP_CRON_GROUP at:  21:45:08 05/3<br>1/2017<br> id = 101<br> cluster = 2\", \"2017-05-31 21:45:05:247 [AsyncAppender-Worker-async-syslog-accesslogs-appender] com.cloudbees.syslog<br>.sender.TcpSyslogMessageSender - INFO: InetAddress of the Syslog Server have changed, create a new c<br>onnection. Before=syslog-a.logdna.com/40.114.41.103, new=syslog-a.logdna.com/40.114.45.243<br> id = 102<br> cluster = 10\", \"INFO  [2017-05-31 21:45:01,413] org.quartz.plugins.history.LoggingJobHistoryPlugin: Job K0vzHq-KTsql<br>PivBpy5SZQ.SM_CLEANUP_CRON_GROUP fired (by trigger DEFAULT.K0vzHq-KTsqlPivBpy5SZQ) at:  21:45:01 05/<br>31/2017<br> id = 103<br> cluster = 1\", \"INFO  [2017-05-31 21:45:01,413] org.quartz.plugins.history.LoggingTriggerHistoryPlugin: Trigger DEFA<br>ULT.K0vzHq-KTsqlPivBpy5SZQ fired job K0vzHq-KTsqlPivBpy5SZQ.SM_CLEANUP_CRON_GROUP at:  21:45:01 05/3<br>1/2017<br> id = 104<br> cluster = 2\", \"INFO  [2017-05-31 21:44:58,810] org.quartz.plugins.history.LoggingJobHistoryPlugin: Job rDZXPoicQ-y9<br>EHe9vv_HyA.SM_CLEANUP_CRON_GROUP fired (by trigger DEFAULT.rDZXPoicQ-y9EHe9vv_HyA) at:  21:44:58 05/<br>31/2017<br> id = 105<br> cluster = 1\", \"INFO  [2017-05-31 21:44:58,810] org.quartz.plugins.history.LoggingTriggerHistoryPlugin: Trigger DEFA<br>ULT.rDZXPoicQ-y9EHe9vv_HyA fired job rDZXPoicQ-y9EHe9vv_HyA.SM_CLEANUP_CRON_GROUP at:  21:44:58 05/3<br>1/2017<br> id = 106<br> cluster = 2\", \"INFO  [2017-05-31 21:44:40,040] org.quartz.plugins.history.LoggingJobHistoryPlugin: Job SFmGy4xrRpad<br>9Mql-fTqlg.SM_CLEANUP_CRON_GROUP fired (by trigger DEFAULT.SFmGy4xrRpad9Mql-fTqlg) at:  21:44:40 05/<br>31/2017<br> id = 107<br> cluster = 1\", \"INFO  [2017-05-31 21:44:40,040] org.quartz.plugins.history.LoggingTriggerHistoryPlugin: Trigger DEFA<br>ULT.SFmGy4xrRpad9Mql-fTqlg fired job SFmGy4xrRpad9Mql-fTqlg.SM_CLEANUP_CRON_GROUP at:  21:44:40 05/3<br>1/2017<br> id = 108<br> cluster = 2\", \"INFO  [2017-05-31 21:46:38,313] com.novemberain.quartz.mongodb.TriggerRunner: Acquired trigger: DEFA<br>ULT.SFmGy4xrRpad9Mql-fTqlg<br> id = 109<br> cluster = 12\", \"INFO  [2017-05-31 21:46:38,313] com.novemberain.quartz.mongodb.dao.LocksDao: Inserting lock for trig<br>ger DEFAULT.SFmGy4xrRpad9Mql-fTqlg<br> id = 110<br> cluster = 5\", \"INFO  [2017-05-31 21:46:38,311] com.novemberain.quartz.mongodb.dao.TriggerDao: Found 2 triggers whic<br>h are eligible to be run.<br> id = 111<br> cluster = 9\", \"INFO  [2017-05-31 21:46:38,311] com.novemberain.quartz.mongodb.dao.LocksDao: Trigger lock DEFAULT.0d<br>CbD2LCQ3uMm_RlVLMG2A.NON_CLUSTERED removed.<br> id = 112<br> cluster = 5\", \"INFO  [2017-05-31 21:46:38,310] com.novemberain.quartz.mongodb.dao.LocksDao: Removing trigger lock D<br>EFAULT.0dCbD2LCQ3uMm_RlVLMG2A.NON_CLUSTERED<br> id = 113<br> cluster = 5\", \"INFO  [2017-05-31 21:46:38,309] org.quartz.plugins.history.LoggingTriggerHistoryPlugin: Trigger DEFA<br>ULT.0dCbD2LCQ3uMm_RlVLMG2A completed firing job 0dCbD2LCQ3uMm_RlVLMG2A.SM_CLEANUP_CRON_GROUP at  21:<br>46:38 05/31/2017 with resulting trigger instruction code: DO NOTHING<br> id = 114<br> cluster = 4\", \"INFO  [2017-05-31 21:46:38,309] org.quartz.plugins.history.LoggingJobHistoryPlugin: Job 0dCbD2LCQ3uM<br>m_RlVLMG2A.SM_CLEANUP_CRON_GROUP execution complete at  21:46:38 05/31/2017 and reports: null<br> id = 115<br> cluster = 3\", \"INFO  [2017-05-31 21:46:38,307] org.quartz.plugins.history.LoggingJobHistoryPlugin: Job 0dCbD2LCQ3uM<br>m_RlVLMG2A.SM_CLEANUP_CRON_GROUP fired (by trigger DEFAULT.0dCbD2LCQ3uMm_RlVLMG2A) at:  21:46:38 05/<br>31/2017<br> id = 116<br> cluster = 1\", \"INFO  [2017-05-31 21:46:38,306] org.quartz.plugins.history.LoggingTriggerHistoryPlugin: Trigger DEFA<br>ULT.0dCbD2LCQ3uMm_RlVLMG2A fired job 0dCbD2LCQ3uMm_RlVLMG2A.SM_CLEANUP_CRON_GROUP at:  21:46:38 05/3<br>1/2017<br> id = 117<br> cluster = 2\", \"INFO  [2017-05-31 21:46:32,584] org.quartz.plugins.history.LoggingTriggerHistoryPlugin: Trigger DEFA<br>ULT.JGe5oLOLTyGP_qgqF1YW1A completed firing job JGe5oLOLTyGP_qgqF1YW1A.SM_CLEANUP_CRON_GROUP at  21:<br>46:32 05/31/2017 with resulting trigger instruction code: DO NOTHING<br> id = 118<br> cluster = 4\", \"INFO  [2017-05-31 21:46:32,584] org.quartz.plugins.history.LoggingJobHistoryPlugin: Job JGe5oLOLTyGP<br>_qgqF1YW1A.SM_CLEANUP_CRON_GROUP execution complete at  21:46:32 05/31/2017 and reports: null<br> id = 119<br> cluster = 3\", \"INFO  [2017-05-31 21:46:32,583] org.quartz.plugins.history.LoggingJobHistoryPlugin: Job JGe5oLOLTyGP<br>_qgqF1YW1A.SM_CLEANUP_CRON_GROUP fired (by trigger DEFAULT.JGe5oLOLTyGP_qgqF1YW1A) at:  21:46:32 05/<br>31/2017<br> id = 120<br> cluster = 1\", \"INFO  [2017-05-31 21:46:32,583] org.quartz.plugins.history.LoggingTriggerHistoryPlugin: Trigger DEFA<br>ULT.JGe5oLOLTyGP_qgqF1YW1A fired job JGe5oLOLTyGP_qgqF1YW1A.SM_CLEANUP_CRON_GROUP at:  21:46:32 05/3<br>1/2017<br> id = 121<br> cluster = 2\", \"INFO  [2017-05-31 21:46:31,928] com.novemberain.quartz.mongodb.dao.LocksDao: Trigger lock DEFAULT.cM<br>r2y3_5Q-qhVZHKSgtAww.NON_CLUSTERED removed.<br> id = 122<br> cluster = 5\", \"INFO  [2017-05-31 21:46:31,926] org.quartz.plugins.history.LoggingTriggerHistoryPlugin: Trigger DEFA<br>ULT.cMr2y3_5Q-qhVZHKSgtAww completed firing job cMr2y3_5Q-qhVZHKSgtAww.SM_CLEANUP_CRON_GROUP at  21:<br>46:31 05/31/2017 with resulting trigger instruction code: DO NOTHING<br> id = 123<br> cluster = 4\", \"INFO  [2017-05-31 21:46:31,926] org.quartz.plugins.history.LoggingJobHistoryPlugin: Job cMr2y3_5Q-qh<br>VZHKSgtAww.SM_CLEANUP_CRON_GROUP execution complete at  21:46:31 05/31/2017 and reports: null<br> id = 124<br> cluster = 3\", \"INFO  [2017-05-31 21:46:31,924] org.quartz.plugins.history.LoggingJobHistoryPlugin: Job cMr2y3_5Q-qh<br>VZHKSgtAww.SM_CLEANUP_CRON_GROUP fired (by trigger DEFAULT.cMr2y3_5Q-qhVZHKSgtAww) at:  21:46:31 05/<br>31/2017<br> id = 125<br> cluster = 1\", \"INFO  [2017-05-31 21:46:31,924] org.quartz.plugins.history.LoggingTriggerHistoryPlugin: Trigger DEFA<br>ULT.cMr2y3_5Q-qhVZHKSgtAww fired job cMr2y3_5Q-qhVZHKSgtAww.SM_CLEANUP_CRON_GROUP at:  21:46:31 05/3<br>1/2017<br> id = 126<br> cluster = 2\", \"INFO  [2017-05-31 21:46:25,300] software.wings.service.impl.DelegateServiceImpl: Broadcast new task:<br> UH1yt4G1Q2eCtHOIUY76XA<br> id = 127<br> cluster = 13\", \"INFO  [2017-05-31 21:46:25,298] org.quartz.plugins.history.LoggingTriggerHistoryPlugin: Trigger DEFA<br>ULT.zrYxDJ8ASo658RtE7UhNug fired job zrYxDJ8ASo658RtE7UhNug.ARTIFACT_STREAM_CRON_GROUP at:  21:46:25<br> 05/31/2017<br> id = 128<br> cluster = 2\", \"WARN  [2017-05-31 21:46:24,975] software.wings.waitnotify.Notifier: No entry in the waitQueue found <br>for the correlationIds: [kaG4hDwsRKGmNSEMH3MMgQ, 0UrlPx9sQeKA8pxVYP-AZA, hsbXDjzWTCWFfojREmmvSQ, hSp<br>55cwERwmz5ujaZsfwHQ, nJ3D48oOR-23j2MNYg1jHg, EoXOwhUZSjCgev5cHT6kTA, PYIm79AoRoif3R54ioxAGQ, WH9DCdn<br>xTt62b2MxgnBcqg, IYpXXgyJRGaKsXwF0n4a2A, hxzQPR1EQ5uIJW8LA1eDdQ, UmxbtjIWRuqo_aPJ0P4LDQ, 4xrEUEZ2Sgy<br>jypHGYbDRWQ, n01fA-jeSmaT3sbKtZeJzQ, x6fH5SIwQFq0YvC4p7q5_w, 7w0hvNANSW2AggOMn9w2VA, uM5q5HwSRUupJGl<br>Ed6AeTQ, kdS593IUSue4F68ne-P9ag, Ielw1FmMTRidCW6x4d32Vw, f67p97lWQ3CBqDhqCdYeVw, MMq8fSgVRgOls-jD--p<br>WdA, e0H1_6lfRk2_HJUrBJrBtg, tywf4xRhTemM7wc29BcaOw, Q4T-ZCukTmGmISoz-AQJLQ, 2zzAawdaTiumWRfU5PHcBQ,<br> EZSU2TmYRYegZ0YA_2WVnQ, 8xEYjmenTmi-eu8nmHC6rQ, 0Mws3BToTj64MPAxHShjBw, zy4600e0QZ6P6QIv21PIkg, 32O<br>m2QDqSIqvaQCAJYcHfQ, UYd9BQztRwGwegq1rFWKjw, R_Pzz35_Sw6sxpXUQGGOGw, zN8PfdYYQneISSbW9gojhg, YDwjc5t<br>QS6ynOvWaJgbwmg, Ez-HkRjITUO2aeRxfOABGQ, gyoKLsf0STCB-fTUxBDf-g, 0fKMcZEYSJmWhykY71FH4g, tvmhP5EPTbK<br> id = 129<br> cluster = 7\", \"INFO  [2017-05-31 21:46:18,038] software.wings.service.impl.DelegateServiceImpl: registering delegat<br>e: Delegate{accountId='kmpySmUISimoRrJL6NL73w', status=ENABLED, connected=true, ip='172.31.51.78', h<br>ostName='ip-172-31-51-78', lastHeartBeat=1496267178037, version='1.0.10', supportedTaskTypes=[HTTP, <br>SPLUNK, APP_DYNAMICS, JENKINS, JENKINS_COLLECTION, BAMBOO_COLLECTION, COMMAND, JENKINS_GET_BUILDS, J<br>ENKINS_GET_JOBS, JENKINS_GET_ARTIFACT_PATHS, JENKINS_LAST_SUCCESSFUL_BUILD, JENKINS_GET_PLANS, JENKI<br>NS_VALIDATE_ARTIFACT_SERVER, BAMBOO_GET_BUILDS, BAMBOO_GET_JOBS, BAMBOO_GET_ARTIFACT_PATHS, BAMBOO_L<br>AST_SUCCESSFUL_BUILD, BAMBOO_GET_PLANS, BAMBOO_VALIDATE_ARTIFACT_SERVER, DOCKER_GET_BUILDS, DOCKER_V<br>ALIDATE_ARTIFACT_SERVER, DOCKER_VALIDATE_ARTIFACT_STREAM, NEXUS_GET_JOBS, NEXUS_GET_PLANS, NEXUS_GET<br>_ARTIFACT_PATHS, NEXUS_GET_GROUP_IDS, NEXUS_GET_ARTIFACT_NAMES, NEXUS_GET_BUILDS, NEXUS_LAST_SUCCESS<br>FUL_BUILD, NEXUS_COLLECTION, NEXUS_VALIDATE_ARTIFACT_SERVER, APPDYNAMICS_CONFIGURATION_VALIDATE_TASK<br> id = 130<br> cluster = 6\", \"2017-05-31 21:46:13:679 [AsyncAppender-Worker-async-rsyslog-tcp-ssl-appender] com.cloudbees.syslog.s<br>ender.TcpSyslogMessageSender - INFO: InetAddress of the Syslog Server have changed, create a new con<br>nection. Before=syslog-a.logdna.com/40.114.45.243, new=syslog-a.logdna.com/40.114.41.103<br> id = 131<br> cluster = 10\", \"2017-05-31 21:46:09:151 [AsyncAppender-Worker-async-syslog-accesslogs-appender] com.cloudbees.syslog<br>.sender.TcpSyslogMessageSender - INFO: InetAddress of the Syslog Server have changed, create a new c<br>onnection. Before=syslog-a.logdna.com/40.114.45.243, new=syslog-a.logdna.com/40.114.41.103<br> id = 132<br> cluster = 10\", \"INFO  [2017-05-31 21:46:08,729] org.quartz.plugins.history.LoggingTriggerHistoryPlugin: Trigger DEFA<br>ULT.D3H_QL6_Riqw6hHqkzR--A completed firing job D3H_QL6_Riqw6hHqkzR--A.ARTIFACT_STREAM_CRON_GROUP at<br>  21:46:08 05/31/2017 with resulting trigger instruction code: DO NOTHING<br> id = 133<br> cluster = 4\", \"INFO  [2017-05-31 21:46:08,729] org.quartz.plugins.history.LoggingJobHistoryPlugin: Job D3H_QL6_Riqw<br>6hHqkzR--A.ARTIFACT_STREAM_CRON_GROUP fired (by trigger DEFAULT.D3H_QL6_Riqw6hHqkzR--A) at:  21:46:0<br>8 05/31/2017<br> id = 134<br> cluster = 1\", \"INFO  [2017-05-31 21:46:08,729] org.quartz.plugins.history.LoggingTriggerHistoryPlugin: Trigger DEFA<br>ULT.D3H_QL6_Riqw6hHqkzR--A fired job D3H_QL6_Riqw6hHqkzR--A.ARTIFACT_STREAM_CRON_GROUP at:  21:46:08<br> 05/31/2017<br> id = 135<br> cluster = 2\", \"INFO  [2017-05-31 21:46:08,337] org.quartz.plugins.history.LoggingJobHistoryPlugin: Job AuG03-OeTsa1<br>gx9m868dNw.SM_CLEANUP_CRON_GROUP fired (by trigger DEFAULT.AuG03-OeTsa1gx9m868dNw) at:  21:46:08 05/<br>31/2017<br> id = 136<br> cluster = 1\", \"INFO  [2017-05-31 21:46:08,337] org.quartz.plugins.history.LoggingTriggerHistoryPlugin: Trigger DEFA<br>ULT.AuG03-OeTsa1gx9m868dNw fired job AuG03-OeTsa1gx9m868dNw.SM_CLEANUP_CRON_GROUP at:  21:46:08 05/3<br>1/2017<br> id = 137<br> cluster = 2\", \"INFO  [2017-05-31 21:46:01,412] org.quartz.plugins.history.LoggingJobHistoryPlugin: Job K0vzHq-KTsql<br>PivBpy5SZQ.SM_CLEANUP_CRON_GROUP fired (by trigger DEFAULT.K0vzHq-KTsqlPivBpy5SZQ) at:  21:46:01 05/<br>31/2017<br> id = 138<br> cluster = 1\", \"INFO  [2017-05-31 21:46:01,412] org.quartz.plugins.history.LoggingTriggerHistoryPlugin: Trigger DEFA<br>ULT.K0vzHq-KTsqlPivBpy5SZQ fired job K0vzHq-KTsqlPivBpy5SZQ.SM_CLEANUP_CRON_GROUP at:  21:46:01 05/3<br>1/2017<br> id = 139<br> cluster = 2\", \"INFO  [2017-05-31 21:45:58,810] org.quartz.plugins.history.LoggingJobHistoryPlugin: Job rDZXPoicQ-y9<br>EHe9vv_HyA.SM_CLEANUP_CRON_GROUP fired (by trigger DEFAULT.rDZXPoicQ-y9EHe9vv_HyA) at:  21:45:58 05/<br>31/2017<br> id = 140<br> cluster = 1\", \"INFO  [2017-05-31 21:45:58,810] org.quartz.plugins.history.LoggingTriggerHistoryPlugin: Trigger DEFA<br>ULT.rDZXPoicQ-y9EHe9vv_HyA fired job rDZXPoicQ-y9EHe9vv_HyA.SM_CLEANUP_CRON_GROUP at:  21:45:58 05/3<br>1/2017<br> id = 141<br> cluster = 2\", \"INFO  [2017-05-31 21:45:40,040] org.quartz.plugins.history.LoggingJobHistoryPlugin: Job SFmGy4xrRpad<br>9Mql-fTqlg.SM_CLEANUP_CRON_GROUP fired (by trigger DEFAULT.SFmGy4xrRpad9Mql-fTqlg) at:  21:45:40 05/<br>31/2017<br> id = 142<br> cluster = 1\", \"INFO  [2017-05-31 21:45:40,040] org.quartz.plugins.history.LoggingTriggerHistoryPlugin: Trigger DEFA<br>ULT.SFmGy4xrRpad9Mql-fTqlg fired job SFmGy4xrRpad9Mql-fTqlg.SM_CLEANUP_CRON_GROUP at:  21:45:40 05/3<br>1/2017<br> id = 143<br> cluster = 2\", \"WARN  [2017-05-31 21:47:25,007] software.wings.waitnotify.Notifier: No entry in the waitQueue found <br>for the correlationIds: [kaG4hDwsRKGmNSEMH3MMgQ, 0UrlPx9sQeKA8pxVYP-AZA, hsbXDjzWTCWFfojREmmvSQ, hSp<br>55cwERwmz5ujaZsfwHQ, nJ3D48oOR-23j2MNYg1jHg, EoXOwhUZSjCgev5cHT6kTA, PYIm79AoRoif3R54ioxAGQ, WH9DCdn<br>xTt62b2MxgnBcqg, IYpXXgyJRGaKsXwF0n4a2A, hxzQPR1EQ5uIJW8LA1eDdQ, UmxbtjIWRuqo_aPJ0P4LDQ, 4xrEUEZ2Sgy<br>jypHGYbDRWQ, n01fA-jeSmaT3sbKtZeJzQ, x6fH5SIwQFq0YvC4p7q5_w, 7w0hvNANSW2AggOMn9w2VA, uM5q5HwSRUupJGl<br>Ed6AeTQ, kdS593IUSue4F68ne-P9ag, Ielw1FmMTRidCW6x4d32Vw, f67p97lWQ3CBqDhqCdYeVw, MMq8fSgVRgOls-jD--p<br>WdA, e0H1_6lfRk2_HJUrBJrBtg, tywf4xRhTemM7wc29BcaOw, Q4T-ZCukTmGmISoz-AQJLQ, 2zzAawdaTiumWRfU5PHcBQ,<br> EZSU2TmYRYegZ0YA_2WVnQ, 8xEYjmenTmi-eu8nmHC6rQ, 0Mws3BToTj64MPAxHShjBw, zy4600e0QZ6P6QIv21PIkg, 32O<br>m2QDqSIqvaQCAJYcHfQ, UYd9BQztRwGwegq1rFWKjw, R_Pzz35_Sw6sxpXUQGGOGw, zN8PfdYYQneISSbW9gojhg, YDwjc5t<br>QS6ynOvWaJgbwmg, Ez-HkRjITUO2aeRxfOABGQ, gyoKLsf0STCB-fTUxBDf-g, 0fKMcZEYSJmWhykY71FH4g, tvmhP5EPTbK<br> id = 144<br> cluster = 7\", \"INFO  [2017-05-31 21:47:24,819] com.novemberain.quartz.mongodb.TriggerRunner: Acquired trigger: DEFA<br>ULT.zrYxDJ8ASo658RtE7UhNug<br> id = 145<br> cluster = 12\", \"INFO  [2017-05-31 21:47:24,818] com.novemberain.quartz.mongodb.dao.LocksDao: Inserting lock for trig<br>ger DEFAULT.zrYxDJ8ASo658RtE7UhNug<br> id = 146<br> cluster = 5\", \"INFO  [2017-05-31 21:47:24,817] com.novemberain.quartz.mongodb.dao.TriggerDao: Found 4 triggers whic<br>h are eligible to be run.<br> id = 147<br> cluster = 9\", \"INFO  [2017-05-31 21:47:24,816] com.novemberain.quartz.mongodb.dao.LocksDao: Trigger lock DEFAULT.qg<br>1NzWlPRhK-6JwXye_1ug.NON_CLUSTERED removed.<br> id = 148<br> cluster = 5\", \"INFO  [2017-05-31 21:47:24,815] com.novemberain.quartz.mongodb.dao.LocksDao: Removing trigger lock D<br>EFAULT.qg1NzWlPRhK-6JwXye_1ug.NON_CLUSTERED<br> id = 149<br> cluster = 5\", \"INFO  [2017-05-31 21:47:24,814] org.quartz.plugins.history.LoggingTriggerHistoryPlugin: Trigger DEFA<br>ULT.qg1NzWlPRhK-6JwXye_1ug completed firing job qg1NzWlPRhK-6JwXye_1ug.ARTIFACT_STREAM_CRON_GROUP at<br>  21:47:24 05/31/2017 with resulting trigger instruction code: DO NOTHING<br> id = 150<br> cluster = 4\", \"INFO  [2017-05-31 21:47:24,814] org.quartz.plugins.history.LoggingJobHistoryPlugin: Job qg1NzWlPRhK-<br>6JwXye_1ug.ARTIFACT_STREAM_CRON_GROUP execution complete at  21:47:24 05/31/2017 and reports: null<br> id = 151<br> cluster = 3\", \"2017-05-31 21:47:24:814 [AsyncAppender-Worker-async-rsyslog-tcp-ssl-appender] com.cloudbees.syslog.s<br>ender.TcpSyslogMessageSender - INFO: InetAddress of the Syslog Server have changed, create a new con<br>nection. Before=syslog-a.logdna.com/40.114.41.103, new=syslog-a.logdna.com/40.114.40.67<br> id = 152<br> cluster = 10\", \"INFO  [2017-05-31 21:47:24,814] org.quartz.plugins.history.LoggingJobHistoryPlugin: Job qg1NzWlPRhK-<br>6JwXye_1ug.ARTIFACT_STREAM_CRON_GROUP fired (by trigger DEFAULT.qg1NzWlPRhK-6JwXye_1ug) at:  21:47:2<br>4 05/31/2017<br> id = 153<br> cluster = 1\", \"INFO  [2017-05-31 21:47:24,814] org.quartz.plugins.history.LoggingTriggerHistoryPlugin: Trigger DEFA<br>ULT.qg1NzWlPRhK-6JwXye_1ug fired job qg1NzWlPRhK-6JwXye_1ug.ARTIFACT_STREAM_CRON_GROUP at:  21:47:24<br> 05/31/2017<br> id = 154<br> cluster = 2\", \"INFO  [2017-05-31 21:47:18,181] software.wings.service.impl.DelegateServiceImpl: Broadcast new task:<br> RnDTUmaGTTKV8pSTp2ZDbw<br> id = 155<br> cluster = 13\", \"INFO  [2017-05-31 21:47:18,038] software.wings.service.impl.DelegateServiceImpl: registering delegat<br>e: Delegate{accountId='kmpySmUISimoRrJL6NL73w', status=ENABLED, connected=true, ip='172.31.51.78', h<br>ostName='ip-172-31-51-78', lastHeartBeat=1496267238037, version='1.0.10', supportedTaskTypes=[HTTP, <br>SPLUNK, APP_DYNAMICS, JENKINS, JENKINS_COLLECTION, BAMBOO_COLLECTION, COMMAND, JENKINS_GET_BUILDS, J<br>ENKINS_GET_JOBS, JENKINS_GET_ARTIFACT_PATHS, JENKINS_LAST_SUCCESSFUL_BUILD, JENKINS_GET_PLANS, JENKI<br>NS_VALIDATE_ARTIFACT_SERVER, BAMBOO_GET_BUILDS, BAMBOO_GET_JOBS, BAMBOO_GET_ARTIFACT_PATHS, BAMBOO_L<br>AST_SUCCESSFUL_BUILD, BAMBOO_GET_PLANS, BAMBOO_VALIDATE_ARTIFACT_SERVER, DOCKER_GET_BUILDS, DOCKER_V<br>ALIDATE_ARTIFACT_SERVER, DOCKER_VALIDATE_ARTIFACT_STREAM, NEXUS_GET_JOBS, NEXUS_GET_PLANS, NEXUS_GET<br>_ARTIFACT_PATHS, NEXUS_GET_GROUP_IDS, NEXUS_GET_ARTIFACT_NAMES, NEXUS_GET_BUILDS, NEXUS_LAST_SUCCESS<br>FUL_BUILD, NEXUS_COLLECTION, NEXUS_VALIDATE_ARTIFACT_SERVER, APPDYNAMICS_CONFIGURATION_VALIDATE_TASK<br> id = 156<br> cluster = 6\", \"INFO  [2017-05-31 21:47:17,188] org.quartz.plugins.history.LoggingTriggerHistoryPlugin: Trigger DEFA<br>ULT.84DUAsWyStm1sg5ZXlMung completed firing job 84DUAsWyStm1sg5ZXlMung.ARTIFACT_STREAM_CRON_GROUP at<br>  21:47:17 05/31/2017 with resulting trigger instruction code: DO NOTHING<br> id = 157<br> cluster = 4\", \"INFO  [2017-05-31 21:47:17,188] org.quartz.plugins.history.LoggingJobHistoryPlugin: Job 84DUAsWyStm1<br>sg5ZXlMung.ARTIFACT_STREAM_CRON_GROUP execution complete at  21:47:17 05/31/2017 and reports: null<br> id = 158<br> cluster = 3\", \"INFO  [2017-05-31 21:47:17,188] org.quartz.plugins.history.LoggingJobHistoryPlugin: Job 84DUAsWyStm1<br>sg5ZXlMung.ARTIFACT_STREAM_CRON_GROUP fired (by trigger DEFAULT.84DUAsWyStm1sg5ZXlMung) at:  21:47:1<br>7 05/31/2017<br> id = 159<br> cluster = 15\", \"INFO  [2017-05-31 21:47:17,188] org.quartz.plugins.history.LoggingTriggerHistoryPlugin: Trigger DEFA<br>ULT.84DUAsWyStm1sg5ZXlMung fired job 84DUAsWyStm1sg5ZXlMung.ARTIFACT_STREAM_CRON_GROUP at:  21:47:17<br> 05/31/2017<br> id = 160<br> cluster = 15\", \"2017-05-31 21:47:14:191 [AsyncAppender-Worker-async-syslog-accesslogs-appender] com.cloudbees.syslog<br>.sender.TcpSyslogMessageSender - INFO: InetAddress of the Syslog Server have changed, create a new c<br>onnection. Before=syslog-a.logdna.com/40.114.41.103, new=syslog-a.logdna.com/40.114.40.67<br> id = 161<br> cluster = 10\", \"INFO  [2017-05-31 21:47:13,679] org.quartz.plugins.history.LoggingTriggerHistoryPlugin: Trigger DEFA<br>ULT.UBBWzVkhQfKVEgzyBBhpeg fired job UBBWzVkhQfKVEgzyBBhpeg.SM_CLEANUP_CRON_GROUP at:  21:47:13 05/3<br>1/2017<br> id = 162<br> cluster = 2\", \"INFO  [2017-05-31 21:47:08,731] com.novemberain.quartz.mongodb.dao.LocksDao: Trigger lock DEFAULT.D3<br>H_QL6_Riqw6hHqkzR--A.NON_CLUSTERED removed.<br> id = 163<br> cluster = 5\", \"INFO  [2017-05-31 21:47:08,729] org.quartz.plugins.history.LoggingTriggerHistoryPlugin: Trigger DEFA<br>ULT.D3H_QL6_Riqw6hHqkzR--A completed firing job D3H_QL6_Riqw6hHqkzR--A.ARTIFACT_STREAM_CRON_GROUP at<br>  21:47:08 05/31/2017 with resulting trigger instruction code: DO NOTHING<br> id = 164<br> cluster = 4\", \"INFO  [2017-05-31 21:47:08,728] org.quartz.plugins.history.LoggingJobHistoryPlugin: Job D3H_QL6_Riqw<br>6hHqkzR--A.ARTIFACT_STREAM_CRON_GROUP execution complete at  21:47:08 05/31/2017 and reports: null<br> id = 165<br> cluster = 3\", \"INFO  [2017-05-31 21:47:08,728] org.quartz.plugins.history.LoggingJobHistoryPlugin: Job D3H_QL6_Riqw<br>6hHqkzR--A.ARTIFACT_STREAM_CRON_GROUP fired (by trigger DEFAULT.D3H_QL6_Riqw6hHqkzR--A) at:  21:47:0<br>8 05/31/2017<br> id = 166<br> cluster = 1\", \"INFO  [2017-05-31 21:47:08,728] org.quartz.plugins.history.LoggingTriggerHistoryPlugin: Trigger DEFA<br>ULT.D3H_QL6_Riqw6hHqkzR--A fired job D3H_QL6_Riqw6hHqkzR--A.ARTIFACT_STREAM_CRON_GROUP at:  21:47:08<br> 05/31/2017<br> id = 167<br> cluster = 2\", \"INFO  [2017-05-31 21:47:08,340] org.quartz.plugins.history.LoggingTriggerHistoryPlugin: Trigger DEFA<br>ULT.AuG03-OeTsa1gx9m868dNw completed firing job AuG03-OeTsa1gx9m868dNw.SM_CLEANUP_CRON_GROUP at  21:<br>47:08 05/31/2017 with resulting trigger instruction code: DO NOTHING<br> id = 168<br> cluster = 4\", \"INFO  [2017-05-31 21:47:08,338] org.quartz.plugins.history.LoggingJobHistoryPlugin: Job AuG03-OeTsa1<br>gx9m868dNw.SM_CLEANUP_CRON_GROUP fired (by trigger DEFAULT.AuG03-OeTsa1gx9m868dNw) at:  21:47:08 05/<br>31/2017<br> id = 169<br> cluster = 1\", \"INFO  [2017-05-31 21:47:08,338] org.quartz.plugins.history.LoggingTriggerHistoryPlugin: Trigger DEFA<br>ULT.AuG03-OeTsa1gx9m868dNw fired job AuG03-OeTsa1gx9m868dNw.SM_CLEANUP_CRON_GROUP at:  21:47:08 05/3<br>1/2017<br> id = 170<br> cluster = 2\", \"INFO  [2017-05-31 21:47:01,412] org.quartz.plugins.history.LoggingJobHistoryPlugin: Job K0vzHq-KTsql<br>PivBpy5SZQ.SM_CLEANUP_CRON_GROUP fired (by trigger DEFAULT.K0vzHq-KTsqlPivBpy5SZQ) at:  21:47:01 05/<br>31/2017<br> id = 171<br> cluster = 1\", \"INFO  [2017-05-31 21:47:01,412] org.quartz.plugins.history.LoggingTriggerHistoryPlugin: Trigger DEFA<br>ULT.K0vzHq-KTsqlPivBpy5SZQ fired job K0vzHq-KTsqlPivBpy5SZQ.SM_CLEANUP_CRON_GROUP at:  21:47:01 05/3<br>1/2017<br> id = 172<br> cluster = 2\", \"INFO  [2017-05-31 21:46:58,811] org.quartz.plugins.history.LoggingJobHistoryPlugin: Job rDZXPoicQ-y9<br>EHe9vv_HyA.SM_CLEANUP_CRON_GROUP fired (by trigger DEFAULT.rDZXPoicQ-y9EHe9vv_HyA) at:  21:46:58 05/<br>31/2017<br> id = 173<br> cluster = 1\", \"INFO  [2017-05-31 21:46:58,811] org.quartz.plugins.history.LoggingTriggerHistoryPlugin: Trigger DEFA<br>ULT.rDZXPoicQ-y9EHe9vv_HyA fired job rDZXPoicQ-y9EHe9vv_HyA.SM_CLEANUP_CRON_GROUP at:  21:46:58 05/3<br>1/2017<br> id = 174<br> cluster = 2\"], \"marker\": {\"opacity\": 0.3, \"color\": \"orange\"}, \"mode\": \"markers\", \"y\": [0.1509872300345159, 0.5130779813979055, 0.4444661674706097, 0.5617031726566194, 0.6457842088775081, 0.5094102254258283, -0.5656836931694685, -0.2488343747600868, 0.03510242682849986, 0.5617031726566196, 0.509410225425828, -0.5656836931694688, -0.24883437476008685, 0.03510242682849987, -0.36175171078242757, 0.18020977775797983, -0.8513197079319056, 0.19092012815560735, 0.4913875786145316, -0.5656836931694688, -0.3775704773249185, -0.09799534129727366, 0.509410225425828, -0.24883437476008677, 0.03510242682849985, -0.251428742057856, -0.2488343747600868, 0.03510242682849984, -0.25142874208999255, -0.24883437476008685, 0.035102426828499865, -0.24883437476008677, 0.03510242682849986, -0.24883437476008685, 0.035102426828499865, 0.15098723003451603, 0.5130790885515747, 0.444466173001553, 0.5617031726566194, 0.6457842088775084, 0.509410225425828, -0.5656836931694686, -0.24883437476008685, 0.035102426828499844, 0.509410225425828, -0.5656836931694686, -0.24883437476008685, 0.035102426828499844, 0.5617031726566197, 0.5094102254258284, -0.5656836931694684, -0.24883437476008685, 0.03510242682849986, -0.4205667689444953, 0.18020977775797967, -0.8513197079293017, 0.19092012815560727, -0.2514287420578556, -0.25142874208999255, 0.5094102254258281, -0.24883437476008677, 0.03510242682849986, -0.24883437476008685, 0.03510242682849984, -0.24883437476008677, 0.03510242682849986, -0.24883437476008685, 0.03510242682849984, -0.24883437476008677, 0.03510242682849986, 0.2672147656381242, 0.19719557538065074, 0.5115461207397992, 0.44446616747067397, 0.5617031726566192, 0.645784208877508, 0.509410225425828, -0.5656836931694686, -0.2514287420899925, -0.2488343747600868, 0.035102426828499865, 0.02413704270947904, 0.1909201281556071, 0.49138757861453153, -0.5656836931694684, -0.37757047732491833, -0.09799534129727365, -0.2514287420578557, 0.05196482797505776, 0.5617031726566194, 0.5094102254258281, -0.5656836931694685, -0.2488343747600867, 0.03510242682849986, 0.5094102254258281, -0.2488343747600868, 0.035102426828499865, -0.24883437476008677, 0.03510242682849985, -0.2488343747600867, 0.03510242682849985], \"x\": [0.4228665938147819, 0.3140439955003115, 0.6252705631831561, 0.22627819404568505, 0.1639959316718502, -0.3244332262550074, 0.3067442997499701, -0.18977078460060567, -0.3484840978123525, 0.2262781940456852, -0.32443322625500726, 0.30674429974997003, -0.1897707846006058, -0.3484840978123525, 0.6245919567630259, -0.07539769421294891, -0.08027193994440814, 0.7470547682389331, -0.3694170956284246, 0.30674429974997003, -0.3630108210274102, -0.5391152769193371, -0.3244332262550073, -0.18977078460060573, -0.3484840978123525, 0.6987196256309867, -0.18977078460060573, -0.3484840978123525, 0.6987196256236935, -0.1897707846006056, -0.3484840978123524, -0.18977078460060573, -0.3484840978123525, -0.1897707846006056, -0.3484840978123524, 0.4228665938147819, 0.31404417973956583, 0.6252705609888815, 0.22627819404568528, 0.16399593167185028, -0.3244332262550073, 0.30674429974997003, -0.18977078460060576, -0.3484840978123525, -0.3244332262550073, 0.30674429974997003, -0.18977078460060576, -0.3484840978123525, 0.22627819404568514, -0.32443322625500737, 0.30674429974997003, -0.18977078460060573, -0.3484840978123525, 0.6261285443307494, -0.07539769421294863, -0.08027194004122869, 0.7470547682389331, 0.6987196256309866, 0.6987196256236943, -0.3244332262550073, -0.18977078460060576, -0.3484840978123525, -0.18977078460060567, -0.3484840978123525, -0.18977078460060576, -0.3484840978123525, -0.18977078460060567, -0.3484840978123525, -0.18977078460060576, -0.3484840978123525, 0.6971952662008694, 0.4449275169780064, 0.3571476540068706, 0.6252705631831298, 0.2262781940456853, 0.16399593167184998, -0.32443322625500726, 0.30674429974997, 0.6987196256236938, -0.18977078460060567, -0.3484840978123525, 0.6940311295225265, 0.7470547682389335, -0.3694170956284249, 0.3067442997499699, -0.3630108210274105, -0.5391152769193369, 0.6987196256309868, -0.637092342923123, 0.22627819404568522, -0.32443322625500726, 0.30674429974997003, -0.18977078460060573, -0.34848409781235246, -0.32443322625500726, -0.18977078460060567, -0.3484840978123525, -0.18977078460060573, -0.3484840978123525, -0.18977078460060573, -0.3484840978123525], \"type\": \"scatter\"}], {\"hovermode\": \"closest\"}, {\"linkText\": \"Export to plot.ly\", \"showLink\": false})});</script>"
      ]
     },
     "metadata": {},
     "output_type": "display_data"
    },
    {
     "data": {
      "application/vnd.plotly.v1+json": {
       "data": [
        {
         "legendgroup": "cluster - 0",
         "marker": {
          "color": "blue",
          "opacity": 0.5,
          "size": 6
         },
         "mode": "markers",
         "name": "cluster - 0",
         "text": [
          "INFO  [2017-05-31 21:35:18,180] org.quartz.plugins.history.LoggingJobHistoryPlugin: Job vJ3t7B6hTYyu<br>gnJ0JifqXA.ARTIFACT_STREAM_CRON_GROUP fired (by trigger DEFAULT.vJ3t7B6hTYyugnJ0JifqXA) at:  21:35:1<br>8 05/31/2017<br> id = 9<br> cluster = 0",
          "INFO  [2017-05-31 21:35:18,179] org.quartz.plugins.history.LoggingTriggerHistoryPlugin: Trigger DEFA<br>ULT.vJ3t7B6hTYyugnJ0JifqXA fired job vJ3t7B6hTYyugnJ0JifqXA.ARTIFACT_STREAM_CRON_GROUP at:  21:35:18<br> 05/31/2017<br> id = 10<br> cluster = 0",
          "INFO  [2017-05-31 21:36:18,179] org.quartz.plugins.history.LoggingJobHistoryPlugin: Job vJ3t7B6hTYyu<br>gnJ0JifqXA.ARTIFACT_STREAM_CRON_GROUP fired (by trigger DEFAULT.vJ3t7B6hTYyugnJ0JifqXA) at:  21:36:1<br>8 05/31/2017<br> id = 50<br> cluster = 0",
          "INFO  [2017-05-31 21:36:18,179] org.quartz.plugins.history.LoggingTriggerHistoryPlugin: Trigger DEFA<br>ULT.vJ3t7B6hTYyugnJ0JifqXA fired job vJ3t7B6hTYyugnJ0JifqXA.ARTIFACT_STREAM_CRON_GROUP at:  21:36:18<br> 05/31/2017<br> id = 51<br> cluster = 0"
         ],
         "type": "scatter3d",
         "x": [
          "-0.0492184120631",
          "-0.572669097011",
          "-0.0492184119218",
          "-0.572669097011"
         ],
         "y": [
          "-0.364568265441",
          "0.0334632425374",
          "-0.364568265283",
          "0.0334632425387"
         ],
         "z": [
          "20",
          "13",
          "20",
          "13"
         ]
        },
        {
         "legendgroup": "cluster - 1",
         "marker": {
          "color": "blue",
          "opacity": 0.5,
          "size": 6
         },
         "mode": "markers",
         "name": "cluster - 1",
         "text": [
          "INFO  [2017-05-31 21:35:08,729] org.quartz.plugins.history.LoggingJobHistoryPlugin: Job D3H_QL6_Riqw<br>6hHqkzR--A.ARTIFACT_STREAM_CRON_GROUP fired (by trigger DEFAULT.D3H_QL6_Riqw6hHqkzR--A) at:  21:35:0<br>8 05/31/2017<br> id = 20<br> cluster = 1",
          "INFO  [2017-05-31 21:35:08,338] org.quartz.plugins.history.LoggingJobHistoryPlugin: Job AuG03-OeTsa1<br>gx9m868dNw.SM_CLEANUP_CRON_GROUP fired (by trigger DEFAULT.AuG03-OeTsa1gx9m868dNw) at:  21:35:08 05/<br>31/2017<br> id = 23<br> cluster = 1",
          "INFO  [2017-05-31 21:35:01,412] org.quartz.plugins.history.LoggingJobHistoryPlugin: Job K0vzHq-KTsql<br>PivBpy5SZQ.SM_CLEANUP_CRON_GROUP fired (by trigger DEFAULT.K0vzHq-KTsqlPivBpy5SZQ) at:  21:35:01 05/<br>31/2017<br> id = 25<br> cluster = 1",
          "INFO  [2017-05-31 21:34:58,811] org.quartz.plugins.history.LoggingJobHistoryPlugin: Job rDZXPoicQ-y9<br>EHe9vv_HyA.SM_CLEANUP_CRON_GROUP fired (by trigger DEFAULT.rDZXPoicQ-y9EHe9vv_HyA) at:  21:34:58 05/<br>31/2017<br> id = 27<br> cluster = 1",
          "INFO  [2017-05-31 21:34:40,039] org.quartz.plugins.history.LoggingJobHistoryPlugin: Job SFmGy4xrRpad<br>9Mql-fTqlg.SM_CLEANUP_CRON_GROUP fired (by trigger DEFAULT.SFmGy4xrRpad9Mql-fTqlg) at:  21:34:40 05/<br>31/2017<br> id = 30<br> cluster = 1",
          "INFO  [2017-05-31 21:34:31,923] org.quartz.plugins.history.LoggingJobHistoryPlugin: Job cMr2y3_5Q-qh<br>VZHKSgtAww.SM_CLEANUP_CRON_GROUP fired (by trigger DEFAULT.cMr2y3_5Q-qhVZHKSgtAww) at:  21:34:31 05/<br>31/2017<br> id = 32<br> cluster = 1",
          "INFO  [2017-05-31 21:36:08,729] org.quartz.plugins.history.LoggingJobHistoryPlugin: Job D3H_QL6_Riqw<br>6hHqkzR--A.ARTIFACT_STREAM_CRON_GROUP fired (by trigger DEFAULT.D3H_QL6_Riqw6hHqkzR--A) at:  21:36:0<br>8 05/31/2017<br> id = 60<br> cluster = 1",
          "INFO  [2017-05-31 21:36:08,337] org.quartz.plugins.history.LoggingJobHistoryPlugin: Job AuG03-OeTsa1<br>gx9m868dNw.SM_CLEANUP_CRON_GROUP fired (by trigger DEFAULT.AuG03-OeTsa1gx9m868dNw) at:  21:36:08 05/<br>31/2017<br> id = 63<br> cluster = 1",
          "INFO  [2017-05-31 21:36:01,412] org.quartz.plugins.history.LoggingJobHistoryPlugin: Job K0vzHq-KTsql<br>PivBpy5SZQ.SM_CLEANUP_CRON_GROUP fired (by trigger DEFAULT.K0vzHq-KTsqlPivBpy5SZQ) at:  21:36:01 05/<br>31/2017<br> id = 65<br> cluster = 1",
          "INFO  [2017-05-31 21:35:58,811] org.quartz.plugins.history.LoggingJobHistoryPlugin: Job rDZXPoicQ-y9<br>EHe9vv_HyA.SM_CLEANUP_CRON_GROUP fired (by trigger DEFAULT.rDZXPoicQ-y9EHe9vv_HyA) at:  21:35:58 05/<br>31/2017<br> id = 67<br> cluster = 1",
          "INFO  [2017-05-31 21:35:40,040] org.quartz.plugins.history.LoggingJobHistoryPlugin: Job SFmGy4xrRpad<br>9Mql-fTqlg.SM_CLEANUP_CRON_GROUP fired (by trigger DEFAULT.SFmGy4xrRpad9Mql-fTqlg) at:  21:35:40 05/<br>31/2017<br> id = 70<br> cluster = 1",
          "INFO  [2017-05-31 21:35:31,923] org.quartz.plugins.history.LoggingJobHistoryPlugin: Job cMr2y3_5Q-qh<br>VZHKSgtAww.SM_CLEANUP_CRON_GROUP fired (by trigger DEFAULT.cMr2y3_5Q-qhVZHKSgtAww) at:  21:35:31 05/<br>31/2017<br> id = 72<br> cluster = 1"
         ],
         "type": "scatter3d",
         "x": [
          "-0.189770784601",
          "-0.189770784601",
          "-0.189770784601",
          "-0.189770784601",
          "-0.189770784601",
          "-0.189770784601",
          "-0.189770784601",
          "-0.189770784601",
          "-0.189770784601",
          "-0.189770784601",
          "-0.189770784601",
          "-0.189770784601"
         ],
         "y": [
          "-0.24883437476",
          "-0.24883437476",
          "-0.24883437476",
          "-0.24883437476",
          "-0.24883437476",
          "-0.24883437476",
          "-0.24883437476",
          "-0.24883437476",
          "-0.24883437476",
          "-0.24883437476",
          "-0.24883437476",
          "-0.24883437476"
         ],
         "z": [
          "1",
          "1",
          "1",
          "1",
          "1",
          "1",
          "1",
          "1",
          "1",
          "1",
          "1",
          "1"
         ]
        },
        {
         "legendgroup": "cluster - 1",
         "marker": {
          "color": "orange",
          "opacity": 0.5,
          "size": 7
         },
         "mode": "markers",
         "name": "cluster - 1",
         "text": [
          "INFO  [2017-05-31 21:45:31,923] org.quartz.plugins.history.LoggingJobHistoryPlugin: Job cMr2y3_5Q-qh<br>VZHKSgtAww.SM_CLEANUP_CRON_GROUP fired (by trigger DEFAULT.cMr2y3_5Q-qhVZHKSgtAww) at:  21:45:31 05/<br>31/2017<br> id = 86<br> cluster = 1",
          "INFO  [2017-05-31 21:45:08,729] org.quartz.plugins.history.LoggingJobHistoryPlugin: Job D3H_QL6_Riqw<br>6hHqkzR--A.ARTIFACT_STREAM_CRON_GROUP fired (by trigger DEFAULT.D3H_QL6_Riqw6hHqkzR--A) at:  21:45:0<br>8 05/31/2017<br> id = 97<br> cluster = 1",
          "INFO  [2017-05-31 21:45:08,338] org.quartz.plugins.history.LoggingJobHistoryPlugin: Job AuG03-OeTsa1<br>gx9m868dNw.SM_CLEANUP_CRON_GROUP fired (by trigger DEFAULT.AuG03-OeTsa1gx9m868dNw) at:  21:45:08 05/<br>31/2017<br> id = 100<br> cluster = 1",
          "INFO  [2017-05-31 21:45:01,413] org.quartz.plugins.history.LoggingJobHistoryPlugin: Job K0vzHq-KTsql<br>PivBpy5SZQ.SM_CLEANUP_CRON_GROUP fired (by trigger DEFAULT.K0vzHq-KTsqlPivBpy5SZQ) at:  21:45:01 05/<br>31/2017<br> id = 103<br> cluster = 1",
          "INFO  [2017-05-31 21:44:58,810] org.quartz.plugins.history.LoggingJobHistoryPlugin: Job rDZXPoicQ-y9<br>EHe9vv_HyA.SM_CLEANUP_CRON_GROUP fired (by trigger DEFAULT.rDZXPoicQ-y9EHe9vv_HyA) at:  21:44:58 05/<br>31/2017<br> id = 105<br> cluster = 1",
          "INFO  [2017-05-31 21:44:40,040] org.quartz.plugins.history.LoggingJobHistoryPlugin: Job SFmGy4xrRpad<br>9Mql-fTqlg.SM_CLEANUP_CRON_GROUP fired (by trigger DEFAULT.SFmGy4xrRpad9Mql-fTqlg) at:  21:44:40 05/<br>31/2017<br> id = 107<br> cluster = 1",
          "INFO  [2017-05-31 21:46:38,307] org.quartz.plugins.history.LoggingJobHistoryPlugin: Job 0dCbD2LCQ3uM<br>m_RlVLMG2A.SM_CLEANUP_CRON_GROUP fired (by trigger DEFAULT.0dCbD2LCQ3uMm_RlVLMG2A) at:  21:46:38 05/<br>31/2017<br> id = 116<br> cluster = 1",
          "INFO  [2017-05-31 21:46:31,924] org.quartz.plugins.history.LoggingJobHistoryPlugin: Job cMr2y3_5Q-qh<br>VZHKSgtAww.SM_CLEANUP_CRON_GROUP fired (by trigger DEFAULT.cMr2y3_5Q-qhVZHKSgtAww) at:  21:46:31 05/<br>31/2017<br> id = 125<br> cluster = 1",
          "INFO  [2017-05-31 21:46:08,729] org.quartz.plugins.history.LoggingJobHistoryPlugin: Job D3H_QL6_Riqw<br>6hHqkzR--A.ARTIFACT_STREAM_CRON_GROUP fired (by trigger DEFAULT.D3H_QL6_Riqw6hHqkzR--A) at:  21:46:0<br>8 05/31/2017<br> id = 134<br> cluster = 1",
          "INFO  [2017-05-31 21:46:08,337] org.quartz.plugins.history.LoggingJobHistoryPlugin: Job AuG03-OeTsa1<br>gx9m868dNw.SM_CLEANUP_CRON_GROUP fired (by trigger DEFAULT.AuG03-OeTsa1gx9m868dNw) at:  21:46:08 05/<br>31/2017<br> id = 136<br> cluster = 1",
          "INFO  [2017-05-31 21:46:01,412] org.quartz.plugins.history.LoggingJobHistoryPlugin: Job K0vzHq-KTsql<br>PivBpy5SZQ.SM_CLEANUP_CRON_GROUP fired (by trigger DEFAULT.K0vzHq-KTsqlPivBpy5SZQ) at:  21:46:01 05/<br>31/2017<br> id = 138<br> cluster = 1",
          "INFO  [2017-05-31 21:45:58,810] org.quartz.plugins.history.LoggingJobHistoryPlugin: Job rDZXPoicQ-y9<br>EHe9vv_HyA.SM_CLEANUP_CRON_GROUP fired (by trigger DEFAULT.rDZXPoicQ-y9EHe9vv_HyA) at:  21:45:58 05/<br>31/2017<br> id = 140<br> cluster = 1",
          "INFO  [2017-05-31 21:45:40,040] org.quartz.plugins.history.LoggingJobHistoryPlugin: Job SFmGy4xrRpad<br>9Mql-fTqlg.SM_CLEANUP_CRON_GROUP fired (by trigger DEFAULT.SFmGy4xrRpad9Mql-fTqlg) at:  21:45:40 05/<br>31/2017<br> id = 142<br> cluster = 1",
          "INFO  [2017-05-31 21:47:08,728] org.quartz.plugins.history.LoggingJobHistoryPlugin: Job D3H_QL6_Riqw<br>6hHqkzR--A.ARTIFACT_STREAM_CRON_GROUP fired (by trigger DEFAULT.D3H_QL6_Riqw6hHqkzR--A) at:  21:47:0<br>8 05/31/2017<br> id = 166<br> cluster = 1",
          "INFO  [2017-05-31 21:47:08,338] org.quartz.plugins.history.LoggingJobHistoryPlugin: Job AuG03-OeTsa1<br>gx9m868dNw.SM_CLEANUP_CRON_GROUP fired (by trigger DEFAULT.AuG03-OeTsa1gx9m868dNw) at:  21:47:08 05/<br>31/2017<br> id = 169<br> cluster = 1",
          "INFO  [2017-05-31 21:47:01,412] org.quartz.plugins.history.LoggingJobHistoryPlugin: Job K0vzHq-KTsql<br>PivBpy5SZQ.SM_CLEANUP_CRON_GROUP fired (by trigger DEFAULT.K0vzHq-KTsqlPivBpy5SZQ) at:  21:47:01 05/<br>31/2017<br> id = 171<br> cluster = 1",
          "INFO  [2017-05-31 21:46:58,811] org.quartz.plugins.history.LoggingJobHistoryPlugin: Job rDZXPoicQ-y9<br>EHe9vv_HyA.SM_CLEANUP_CRON_GROUP fired (by trigger DEFAULT.rDZXPoicQ-y9EHe9vv_HyA) at:  21:46:58 05/<br>31/2017<br> id = 173<br> cluster = 1"
         ],
         "type": "scatter3d",
         "x": [
          "-0.189770784601",
          "-0.189770784601",
          "-0.189770784601",
          "-0.189770784601",
          "-0.189770784601",
          "-0.189770784601",
          "-0.189770784601",
          "-0.189770784601",
          "-0.189770784601",
          "-0.189770784601",
          "-0.189770784601",
          "-0.189770784601",
          "-0.189770784601",
          "-0.189770784601",
          "-0.189770784601",
          "-0.189770784601",
          "-0.189770784601"
         ],
         "y": [
          "-0.24883437476",
          "-0.24883437476",
          "-0.24883437476",
          "-0.24883437476",
          "-0.24883437476",
          "-0.24883437476",
          "-0.24883437476",
          "-0.24883437476",
          "-0.24883437476",
          "-0.24883437476",
          "-0.24883437476",
          "-0.24883437476",
          "-0.24883437476",
          "-0.24883437476",
          "-0.24883437476",
          "-0.24883437476",
          "-0.24883437476"
         ],
         "z": [
          "1",
          "1",
          "1",
          "1",
          "1",
          "1",
          "3",
          "1",
          "1",
          "1",
          "1",
          "1",
          "1",
          "1",
          "1",
          "1",
          "1"
         ]
        },
        {
         "legendgroup": "cluster - 1",
         "marker": {
          "color": "red",
          "opacity": 0.5,
          "size": 8
         },
         "mode": "markers",
         "name": "cluster - 1",
         "text": [
          "INFO  [2017-05-31 21:45:32,583] org.quartz.plugins.history.LoggingJobHistoryPlugin: Job JGe5oLOLTyGP<br>_qgqF1YW1A.SM_CLEANUP_CRON_GROUP fired (by trigger DEFAULT.JGe5oLOLTyGP_qgqF1YW1A) at:  21:45:32 05/<br>31/2017<br> id = 81<br> cluster = 1",
          "INFO  [2017-05-31 21:46:32,583] org.quartz.plugins.history.LoggingJobHistoryPlugin: Job JGe5oLOLTyGP<br>_qgqF1YW1A.SM_CLEANUP_CRON_GROUP fired (by trigger DEFAULT.JGe5oLOLTyGP_qgqF1YW1A) at:  21:46:32 05/<br>31/2017<br> id = 120<br> cluster = 1",
          "INFO  [2017-05-31 21:47:24,814] org.quartz.plugins.history.LoggingJobHistoryPlugin: Job qg1NzWlPRhK-<br>6JwXye_1ug.ARTIFACT_STREAM_CRON_GROUP fired (by trigger DEFAULT.qg1NzWlPRhK-6JwXye_1ug) at:  21:47:2<br>4 05/31/2017<br> id = 153<br> cluster = 1"
         ],
         "type": "scatter3d",
         "x": [
          "-0.189770784601",
          "-0.189770784601",
          "-0.189770784601"
         ],
         "y": [
          "-0.24883437476",
          "-0.24883437476",
          "-0.24883437476"
         ],
         "z": [
          "20",
          "20",
          "17"
         ]
        },
        {
         "legendgroup": "cluster - 2",
         "marker": {
          "color": "blue",
          "opacity": 0.5,
          "size": 6
         },
         "mode": "markers",
         "name": "cluster - 2",
         "text": [
          "INFO  [2017-05-31 21:35:13,679] org.quartz.plugins.history.LoggingTriggerHistoryPlugin: Trigger DEFA<br>ULT.UBBWzVkhQfKVEgzyBBhpeg fired job UBBWzVkhQfKVEgzyBBhpeg.SM_CLEANUP_CRON_GROUP at:  21:35:13 05/3<br>1/2017<br> id = 16<br> cluster = 2",
          "INFO  [2017-05-31 21:35:08,729] org.quartz.plugins.history.LoggingTriggerHistoryPlugin: Trigger DEFA<br>ULT.D3H_QL6_Riqw6hHqkzR--A fired job D3H_QL6_Riqw6hHqkzR--A.ARTIFACT_STREAM_CRON_GROUP at:  21:35:08<br> 05/31/2017<br> id = 21<br> cluster = 2",
          "INFO  [2017-05-31 21:35:08,338] org.quartz.plugins.history.LoggingTriggerHistoryPlugin: Trigger DEFA<br>ULT.AuG03-OeTsa1gx9m868dNw fired job AuG03-OeTsa1gx9m868dNw.SM_CLEANUP_CRON_GROUP at:  21:35:08 05/3<br>1/2017<br> id = 24<br> cluster = 2",
          "INFO  [2017-05-31 21:35:01,412] org.quartz.plugins.history.LoggingTriggerHistoryPlugin: Trigger DEFA<br>ULT.K0vzHq-KTsqlPivBpy5SZQ fired job K0vzHq-KTsqlPivBpy5SZQ.SM_CLEANUP_CRON_GROUP at:  21:35:01 05/3<br>1/2017<br> id = 26<br> cluster = 2",
          "INFO  [2017-05-31 21:34:58,811] org.quartz.plugins.history.LoggingTriggerHistoryPlugin: Trigger DEFA<br>ULT.rDZXPoicQ-y9EHe9vv_HyA fired job rDZXPoicQ-y9EHe9vv_HyA.SM_CLEANUP_CRON_GROUP at:  21:34:58 05/3<br>1/2017<br> id = 28<br> cluster = 2",
          "INFO  [2017-05-31 21:34:40,039] org.quartz.plugins.history.LoggingTriggerHistoryPlugin: Trigger DEFA<br>ULT.SFmGy4xrRpad9Mql-fTqlg fired job SFmGy4xrRpad9Mql-fTqlg.SM_CLEANUP_CRON_GROUP at:  21:34:40 05/3<br>1/2017<br> id = 31<br> cluster = 2",
          "INFO  [2017-05-31 21:34:31,923] org.quartz.plugins.history.LoggingTriggerHistoryPlugin: Trigger DEFA<br>ULT.cMr2y3_5Q-qhVZHKSgtAww fired job cMr2y3_5Q-qhVZHKSgtAww.SM_CLEANUP_CRON_GROUP at:  21:34:31 05/3<br>1/2017<br> id = 33<br> cluster = 2",
          "INFO  [2017-05-31 21:36:13,678] org.quartz.plugins.history.LoggingTriggerHistoryPlugin: Trigger DEFA<br>ULT.UBBWzVkhQfKVEgzyBBhpeg fired job UBBWzVkhQfKVEgzyBBhpeg.SM_CLEANUP_CRON_GROUP at:  21:36:13 05/3<br>1/2017<br> id = 56<br> cluster = 2",
          "INFO  [2017-05-31 21:36:08,729] org.quartz.plugins.history.LoggingTriggerHistoryPlugin: Trigger DEFA<br>ULT.D3H_QL6_Riqw6hHqkzR--A fired job D3H_QL6_Riqw6hHqkzR--A.ARTIFACT_STREAM_CRON_GROUP at:  21:36:08<br> 05/31/2017<br> id = 61<br> cluster = 2",
          "INFO  [2017-05-31 21:36:08,337] org.quartz.plugins.history.LoggingTriggerHistoryPlugin: Trigger DEFA<br>ULT.AuG03-OeTsa1gx9m868dNw fired job AuG03-OeTsa1gx9m868dNw.SM_CLEANUP_CRON_GROUP at:  21:36:08 05/3<br>1/2017<br> id = 64<br> cluster = 2",
          "INFO  [2017-05-31 21:36:01,412] org.quartz.plugins.history.LoggingTriggerHistoryPlugin: Trigger DEFA<br>ULT.K0vzHq-KTsqlPivBpy5SZQ fired job K0vzHq-KTsqlPivBpy5SZQ.SM_CLEANUP_CRON_GROUP at:  21:36:01 05/3<br>1/2017<br> id = 66<br> cluster = 2",
          "INFO  [2017-05-31 21:35:58,811] org.quartz.plugins.history.LoggingTriggerHistoryPlugin: Trigger DEFA<br>ULT.rDZXPoicQ-y9EHe9vv_HyA fired job rDZXPoicQ-y9EHe9vv_HyA.SM_CLEANUP_CRON_GROUP at:  21:35:58 05/3<br>1/2017<br> id = 68<br> cluster = 2",
          "INFO  [2017-05-31 21:35:40,040] org.quartz.plugins.history.LoggingTriggerHistoryPlugin: Trigger DEFA<br>ULT.SFmGy4xrRpad9Mql-fTqlg fired job SFmGy4xrRpad9Mql-fTqlg.SM_CLEANUP_CRON_GROUP at:  21:35:40 05/3<br>1/2017<br> id = 71<br> cluster = 2",
          "INFO  [2017-05-31 21:35:31,923] org.quartz.plugins.history.LoggingTriggerHistoryPlugin: Trigger DEFA<br>ULT.cMr2y3_5Q-qhVZHKSgtAww fired job cMr2y3_5Q-qhVZHKSgtAww.SM_CLEANUP_CRON_GROUP at:  21:35:31 05/3<br>1/2017<br> id = 73<br> cluster = 2"
         ],
         "type": "scatter3d",
         "x": [
          "-0.62724371421",
          "-0.348484097812",
          "-0.348484097812",
          "-0.348484097812",
          "-0.348484097812",
          "-0.348484097812",
          "-0.348484097812",
          "-0.627243714211",
          "-0.348484097812",
          "-0.348484097812",
          "-0.348484097812",
          "-0.348484097812",
          "-0.348484097812",
          "-0.348484097812"
         ],
         "y": [
          "0.0852195793839",
          "0.0351024268285",
          "0.0351024268285",
          "0.0351024268285",
          "0.0351024268285",
          "0.0351024268285",
          "0.0351024268285",
          "0.0852195793803",
          "0.0351024268285",
          "0.0351024268285",
          "0.0351024268285",
          "0.0351024268285",
          "0.0351024268285",
          "0.0351024268285"
         ],
         "z": [
          "7",
          "1",
          "1",
          "1",
          "1",
          "1",
          "1",
          "7",
          "1",
          "1",
          "1",
          "1",
          "1",
          "1"
         ]
        },
        {
         "legendgroup": "cluster - 2",
         "marker": {
          "color": "orange",
          "opacity": 0.5,
          "size": 7
         },
         "mode": "markers",
         "name": "cluster - 2",
         "text": [
          "INFO  [2017-05-31 21:47:08,728] org.quartz.plugins.history.LoggingTriggerHistoryPlugin: Trigger DEFA<br>ULT.D3H_QL6_Riqw6hHqkzR--A fired job D3H_QL6_Riqw6hHqkzR--A.ARTIFACT_STREAM_CRON_GROUP at:  21:47:08<br> 05/31/2017<br> id = 167<br> cluster = 2"
         ],
         "type": "scatter3d",
         "x": [
          "-0.348484097812"
         ],
         "y": [
          "0.0351024268285"
         ],
         "z": [
          "1"
         ]
        },
        {
         "legendgroup": "cluster - 2",
         "marker": {
          "color": "red",
          "opacity": 0.5,
          "size": 8
         },
         "mode": "markers",
         "name": "cluster - 2",
         "text": [
          "INFO  [2017-05-31 21:45:32,583] org.quartz.plugins.history.LoggingTriggerHistoryPlugin: Trigger DEFA<br>ULT.JGe5oLOLTyGP_qgqF1YW1A fired job JGe5oLOLTyGP_qgqF1YW1A.SM_CLEANUP_CRON_GROUP at:  21:45:32 05/3<br>1/2017<br> id = 82<br> cluster = 2",
          "INFO  [2017-05-31 21:45:31,923] org.quartz.plugins.history.LoggingTriggerHistoryPlugin: Trigger DEFA<br>ULT.cMr2y3_5Q-qhVZHKSgtAww fired job cMr2y3_5Q-qhVZHKSgtAww.SM_CLEANUP_CRON_GROUP at:  21:45:31 05/3<br>1/2017<br> id = 87<br> cluster = 2",
          "INFO  [2017-05-31 21:45:25,298] org.quartz.plugins.history.LoggingTriggerHistoryPlugin: Trigger DEFA<br>ULT.zrYxDJ8ASo658RtE7UhNug fired job zrYxDJ8ASo658RtE7UhNug.ARTIFACT_STREAM_CRON_GROUP at:  21:45:25<br> 05/31/2017<br> id = 89<br> cluster = 2",
          "INFO  [2017-05-31 21:45:08,729] org.quartz.plugins.history.LoggingTriggerHistoryPlugin: Trigger DEFA<br>ULT.D3H_QL6_Riqw6hHqkzR--A fired job D3H_QL6_Riqw6hHqkzR--A.ARTIFACT_STREAM_CRON_GROUP at:  21:45:08<br> 05/31/2017<br> id = 98<br> cluster = 2",
          "INFO  [2017-05-31 21:45:08,338] org.quartz.plugins.history.LoggingTriggerHistoryPlugin: Trigger DEFA<br>ULT.AuG03-OeTsa1gx9m868dNw fired job AuG03-OeTsa1gx9m868dNw.SM_CLEANUP_CRON_GROUP at:  21:45:08 05/3<br>1/2017<br> id = 101<br> cluster = 2",
          "INFO  [2017-05-31 21:45:01,413] org.quartz.plugins.history.LoggingTriggerHistoryPlugin: Trigger DEFA<br>ULT.K0vzHq-KTsqlPivBpy5SZQ fired job K0vzHq-KTsqlPivBpy5SZQ.SM_CLEANUP_CRON_GROUP at:  21:45:01 05/3<br>1/2017<br> id = 104<br> cluster = 2",
          "INFO  [2017-05-31 21:44:58,810] org.quartz.plugins.history.LoggingTriggerHistoryPlugin: Trigger DEFA<br>ULT.rDZXPoicQ-y9EHe9vv_HyA fired job rDZXPoicQ-y9EHe9vv_HyA.SM_CLEANUP_CRON_GROUP at:  21:44:58 05/3<br>1/2017<br> id = 106<br> cluster = 2",
          "INFO  [2017-05-31 21:44:40,040] org.quartz.plugins.history.LoggingTriggerHistoryPlugin: Trigger DEFA<br>ULT.SFmGy4xrRpad9Mql-fTqlg fired job SFmGy4xrRpad9Mql-fTqlg.SM_CLEANUP_CRON_GROUP at:  21:44:40 05/3<br>1/2017<br> id = 108<br> cluster = 2",
          "INFO  [2017-05-31 21:46:38,306] org.quartz.plugins.history.LoggingTriggerHistoryPlugin: Trigger DEFA<br>ULT.0dCbD2LCQ3uMm_RlVLMG2A fired job 0dCbD2LCQ3uMm_RlVLMG2A.SM_CLEANUP_CRON_GROUP at:  21:46:38 05/3<br>1/2017<br> id = 117<br> cluster = 2",
          "INFO  [2017-05-31 21:46:32,583] org.quartz.plugins.history.LoggingTriggerHistoryPlugin: Trigger DEFA<br>ULT.JGe5oLOLTyGP_qgqF1YW1A fired job JGe5oLOLTyGP_qgqF1YW1A.SM_CLEANUP_CRON_GROUP at:  21:46:32 05/3<br>1/2017<br> id = 121<br> cluster = 2",
          "INFO  [2017-05-31 21:46:31,924] org.quartz.plugins.history.LoggingTriggerHistoryPlugin: Trigger DEFA<br>ULT.cMr2y3_5Q-qhVZHKSgtAww fired job cMr2y3_5Q-qhVZHKSgtAww.SM_CLEANUP_CRON_GROUP at:  21:46:31 05/3<br>1/2017<br> id = 126<br> cluster = 2",
          "INFO  [2017-05-31 21:46:25,298] org.quartz.plugins.history.LoggingTriggerHistoryPlugin: Trigger DEFA<br>ULT.zrYxDJ8ASo658RtE7UhNug fired job zrYxDJ8ASo658RtE7UhNug.ARTIFACT_STREAM_CRON_GROUP at:  21:46:25<br> 05/31/2017<br> id = 128<br> cluster = 2",
          "INFO  [2017-05-31 21:46:08,729] org.quartz.plugins.history.LoggingTriggerHistoryPlugin: Trigger DEFA<br>ULT.D3H_QL6_Riqw6hHqkzR--A fired job D3H_QL6_Riqw6hHqkzR--A.ARTIFACT_STREAM_CRON_GROUP at:  21:46:08<br> 05/31/2017<br> id = 135<br> cluster = 2",
          "INFO  [2017-05-31 21:46:08,337] org.quartz.plugins.history.LoggingTriggerHistoryPlugin: Trigger DEFA<br>ULT.AuG03-OeTsa1gx9m868dNw fired job AuG03-OeTsa1gx9m868dNw.SM_CLEANUP_CRON_GROUP at:  21:46:08 05/3<br>1/2017<br> id = 137<br> cluster = 2",
          "INFO  [2017-05-31 21:46:01,412] org.quartz.plugins.history.LoggingTriggerHistoryPlugin: Trigger DEFA<br>ULT.K0vzHq-KTsqlPivBpy5SZQ fired job K0vzHq-KTsqlPivBpy5SZQ.SM_CLEANUP_CRON_GROUP at:  21:46:01 05/3<br>1/2017<br> id = 139<br> cluster = 2",
          "INFO  [2017-05-31 21:45:58,810] org.quartz.plugins.history.LoggingTriggerHistoryPlugin: Trigger DEFA<br>ULT.rDZXPoicQ-y9EHe9vv_HyA fired job rDZXPoicQ-y9EHe9vv_HyA.SM_CLEANUP_CRON_GROUP at:  21:45:58 05/3<br>1/2017<br> id = 141<br> cluster = 2",
          "INFO  [2017-05-31 21:45:40,040] org.quartz.plugins.history.LoggingTriggerHistoryPlugin: Trigger DEFA<br>ULT.SFmGy4xrRpad9Mql-fTqlg fired job SFmGy4xrRpad9Mql-fTqlg.SM_CLEANUP_CRON_GROUP at:  21:45:40 05/3<br>1/2017<br> id = 143<br> cluster = 2",
          "INFO  [2017-05-31 21:47:24,814] org.quartz.plugins.history.LoggingTriggerHistoryPlugin: Trigger DEFA<br>ULT.qg1NzWlPRhK-6JwXye_1ug fired job qg1NzWlPRhK-6JwXye_1ug.ARTIFACT_STREAM_CRON_GROUP at:  21:47:24<br> 05/31/2017<br> id = 154<br> cluster = 2",
          "INFO  [2017-05-31 21:47:13,679] org.quartz.plugins.history.LoggingTriggerHistoryPlugin: Trigger DEFA<br>ULT.UBBWzVkhQfKVEgzyBBhpeg fired job UBBWzVkhQfKVEgzyBBhpeg.SM_CLEANUP_CRON_GROUP at:  21:47:13 05/3<br>1/2017<br> id = 162<br> cluster = 2",
          "INFO  [2017-05-31 21:47:08,338] org.quartz.plugins.history.LoggingTriggerHistoryPlugin: Trigger DEFA<br>ULT.AuG03-OeTsa1gx9m868dNw fired job AuG03-OeTsa1gx9m868dNw.SM_CLEANUP_CRON_GROUP at:  21:47:08 05/3<br>1/2017<br> id = 170<br> cluster = 2",
          "INFO  [2017-05-31 21:47:01,412] org.quartz.plugins.history.LoggingTriggerHistoryPlugin: Trigger DEFA<br>ULT.K0vzHq-KTsqlPivBpy5SZQ fired job K0vzHq-KTsqlPivBpy5SZQ.SM_CLEANUP_CRON_GROUP at:  21:47:01 05/3<br>1/2017<br> id = 172<br> cluster = 2",
          "INFO  [2017-05-31 21:46:58,811] org.quartz.plugins.history.LoggingTriggerHistoryPlugin: Trigger DEFA<br>ULT.rDZXPoicQ-y9EHe9vv_HyA fired job rDZXPoicQ-y9EHe9vv_HyA.SM_CLEANUP_CRON_GROUP at:  21:46:58 05/3<br>1/2017<br> id = 174<br> cluster = 2"
         ],
         "type": "scatter3d",
         "x": [
          "-0.348484097812",
          "-0.348484097812",
          "-0.0753976942129",
          "-0.348484097812",
          "-0.348484097812",
          "-0.348484097812",
          "-0.348484097812",
          "-0.348484097812",
          "-0.348484097812",
          "-0.348484097812",
          "-0.348484097812",
          "-0.0753976942129",
          "-0.348484097812",
          "-0.348484097812",
          "-0.348484097812",
          "-0.348484097812",
          "-0.348484097812",
          "-0.348484097812",
          "-0.637092342923",
          "-0.348484097812",
          "-0.348484097812",
          "-0.348484097812"
         ],
         "y": [
          "0.0351024268285",
          "0.0351024268285",
          "0.180209777758",
          "0.0351024268285",
          "0.0351024268285",
          "0.0351024268285",
          "0.0351024268285",
          "0.0351024268285",
          "0.0351024268285",
          "0.0351024268285",
          "0.0351024268285",
          "0.180209777758",
          "0.0351024268285",
          "0.0351024268285",
          "0.0351024268285",
          "0.0351024268285",
          "0.0351024268285",
          "0.0351024268285",
          "0.0519648279751",
          "0.0351024268285",
          "0.0351024268285",
          "0.0351024268285"
         ],
         "z": [
          "7",
          "1",
          "13",
          "1",
          "1",
          "1",
          "1",
          "1",
          "3",
          "7",
          "1",
          "13",
          "1",
          "1",
          "1",
          "1",
          "1",
          "12",
          "5",
          "1",
          "1",
          "1"
         ]
        },
        {
         "legendgroup": "cluster - 3",
         "marker": {
          "color": "blue",
          "opacity": 0.5,
          "size": 6
         },
         "mode": "markers",
         "name": "cluster - 3",
         "text": [
          "INFO  [2017-05-31 21:35:18,180] org.quartz.plugins.history.LoggingJobHistoryPlugin: Job vJ3t7B6hTYyu<br>gnJ0JifqXA.ARTIFACT_STREAM_CRON_GROUP execution complete at  21:35:18 05/31/2017 and reports: null<br> id = 8<br> cluster = 3",
          "INFO  [2017-05-31 21:35:17,188] org.quartz.plugins.history.LoggingJobHistoryPlugin: Job 84DUAsWyStm1<br>sg5ZXlMung.ARTIFACT_STREAM_CRON_GROUP execution complete at  21:35:17 05/31/2017 and reports: null<br> id = 13<br> cluster = 3",
          "INFO  [2017-05-31 21:35:08,729] org.quartz.plugins.history.LoggingJobHistoryPlugin: Job D3H_QL6_Riqw<br>6hHqkzR--A.ARTIFACT_STREAM_CRON_GROUP execution complete at  21:35:08 05/31/2017 and reports: null<br> id = 19<br> cluster = 3",
          "INFO  [2017-05-31 21:36:18,179] org.quartz.plugins.history.LoggingJobHistoryPlugin: Job vJ3t7B6hTYyu<br>gnJ0JifqXA.ARTIFACT_STREAM_CRON_GROUP execution complete at  21:36:18 05/31/2017 and reports: null<br> id = 49<br> cluster = 3",
          "INFO  [2017-05-31 21:36:17,188] org.quartz.plugins.history.LoggingJobHistoryPlugin: Job 84DUAsWyStm1<br>sg5ZXlMung.ARTIFACT_STREAM_CRON_GROUP execution complete at  21:36:17 05/31/2017 and reports: null<br> id = 53<br> cluster = 3",
          "INFO  [2017-05-31 21:36:08,729] org.quartz.plugins.history.LoggingJobHistoryPlugin: Job D3H_QL6_Riqw<br>6hHqkzR--A.ARTIFACT_STREAM_CRON_GROUP execution complete at  21:36:08 05/31/2017 and reports: null<br> id = 59<br> cluster = 3"
         ],
         "type": "scatter3d",
         "x": [
          "0.30674429975",
          "0.30674429975",
          "0.30674429975",
          "0.30674429975",
          "0.30674429975",
          "0.30674429975"
         ],
         "y": [
          "-0.565683693169",
          "-0.565683693169",
          "-0.565683693169",
          "-0.565683693169",
          "-0.565683693169",
          "-0.565683693169"
         ],
         "z": [
          "20",
          "3",
          "6",
          "20",
          "3",
          "6"
         ]
        },
        {
         "legendgroup": "cluster - 3",
         "marker": {
          "color": "red",
          "opacity": 0.5,
          "size": 8
         },
         "mode": "markers",
         "name": "cluster - 3",
         "text": [
          "INFO  [2017-05-31 21:45:32,585] org.quartz.plugins.history.LoggingJobHistoryPlugin: Job JGe5oLOLTyGP<br>_qgqF1YW1A.SM_CLEANUP_CRON_GROUP execution complete at  21:45:32 05/31/2017 and reports: null<br> id = 80<br> cluster = 3",
          "INFO  [2017-05-31 21:45:31,925] org.quartz.plugins.history.LoggingJobHistoryPlugin: Job cMr2y3_5Q-qh<br>VZHKSgtAww.SM_CLEANUP_CRON_GROUP execution complete at  21:45:31 05/31/2017 and reports: null<br> id = 85<br> cluster = 3",
          "INFO  [2017-05-31 21:45:17,189] org.quartz.plugins.history.LoggingJobHistoryPlugin: Job 84DUAsWyStm1<br>sg5ZXlMung.ARTIFACT_STREAM_CRON_GROUP execution complete at  21:45:17 05/31/2017 and reports: null<br> id = 93<br> cluster = 3",
          "INFO  [2017-05-31 21:46:38,309] org.quartz.plugins.history.LoggingJobHistoryPlugin: Job 0dCbD2LCQ3uM<br>m_RlVLMG2A.SM_CLEANUP_CRON_GROUP execution complete at  21:46:38 05/31/2017 and reports: null<br> id = 115<br> cluster = 3",
          "INFO  [2017-05-31 21:46:32,584] org.quartz.plugins.history.LoggingJobHistoryPlugin: Job JGe5oLOLTyGP<br>_qgqF1YW1A.SM_CLEANUP_CRON_GROUP execution complete at  21:46:32 05/31/2017 and reports: null<br> id = 119<br> cluster = 3",
          "INFO  [2017-05-31 21:46:31,926] org.quartz.plugins.history.LoggingJobHistoryPlugin: Job cMr2y3_5Q-qh<br>VZHKSgtAww.SM_CLEANUP_CRON_GROUP execution complete at  21:46:31 05/31/2017 and reports: null<br> id = 124<br> cluster = 3",
          "INFO  [2017-05-31 21:47:24,814] org.quartz.plugins.history.LoggingJobHistoryPlugin: Job qg1NzWlPRhK-<br>6JwXye_1ug.ARTIFACT_STREAM_CRON_GROUP execution complete at  21:47:24 05/31/2017 and reports: null<br> id = 151<br> cluster = 3",
          "INFO  [2017-05-31 21:47:17,188] org.quartz.plugins.history.LoggingJobHistoryPlugin: Job 84DUAsWyStm1<br>sg5ZXlMung.ARTIFACT_STREAM_CRON_GROUP execution complete at  21:47:17 05/31/2017 and reports: null<br> id = 158<br> cluster = 3",
          "INFO  [2017-05-31 21:47:08,728] org.quartz.plugins.history.LoggingJobHistoryPlugin: Job D3H_QL6_Riqw<br>6hHqkzR--A.ARTIFACT_STREAM_CRON_GROUP execution complete at  21:47:08 05/31/2017 and reports: null<br> id = 165<br> cluster = 3"
         ],
         "type": "scatter3d",
         "x": [
          "0.30674429975",
          "0.30674429975",
          "0.30674429975",
          "0.30674429975",
          "0.30674429975",
          "0.30674429975",
          "0.30674429975",
          "0.30674429975",
          "0.30674429975"
         ],
         "y": [
          "-0.565683693169",
          "-0.565683693169",
          "-0.565683693169",
          "-0.565683693169",
          "-0.565683693169",
          "-0.565683693169",
          "-0.565683693169",
          "-0.565683693169",
          "-0.565683693169"
         ],
         "z": [
          "20",
          "6",
          "3",
          "3",
          "20",
          "6",
          "17",
          "2",
          "4"
         ]
        },
        {
         "legendgroup": "cluster - 4",
         "marker": {
          "color": "blue",
          "opacity": 0.5,
          "size": 6
         },
         "mode": "markers",
         "name": "cluster - 4",
         "text": [
          "INFO  [2017-05-31 21:35:18,180] org.quartz.plugins.history.LoggingTriggerHistoryPlugin: Trigger DEFA<br>ULT.vJ3t7B6hTYyugnJ0JifqXA completed firing job vJ3t7B6hTYyugnJ0JifqXA.ARTIFACT_STREAM_CRON_GROUP at<br>  21:35:18 05/31/2017 with resulting trigger instruction code: DO NOTHING<br> id = 7<br> cluster = 4",
          "INFO  [2017-05-31 21:35:17,188] org.quartz.plugins.history.LoggingTriggerHistoryPlugin: Trigger DEFA<br>ULT.84DUAsWyStm1sg5ZXlMung completed firing job 84DUAsWyStm1sg5ZXlMung.ARTIFACT_STREAM_CRON_GROUP at<br>  21:35:17 05/31/2017 with resulting trigger instruction code: DO NOTHING<br> id = 12<br> cluster = 4",
          "INFO  [2017-05-31 21:35:08,729] org.quartz.plugins.history.LoggingTriggerHistoryPlugin: Trigger DEFA<br>ULT.D3H_QL6_Riqw6hHqkzR--A completed firing job D3H_QL6_Riqw6hHqkzR--A.ARTIFACT_STREAM_CRON_GROUP at<br>  21:35:08 05/31/2017 with resulting trigger instruction code: DO NOTHING<br> id = 18<br> cluster = 4",
          "INFO  [2017-05-31 21:35:08,340] org.quartz.plugins.history.LoggingTriggerHistoryPlugin: Trigger DEFA<br>ULT.AuG03-OeTsa1gx9m868dNw completed firing job AuG03-OeTsa1gx9m868dNw.SM_CLEANUP_CRON_GROUP at  21:<br>35:08 05/31/2017 with resulting trigger instruction code: DO NOTHING<br> id = 22<br> cluster = 4",
          "INFO  [2017-05-31 21:36:18,179] org.quartz.plugins.history.LoggingTriggerHistoryPlugin: Trigger DEFA<br>ULT.vJ3t7B6hTYyugnJ0JifqXA completed firing job vJ3t7B6hTYyugnJ0JifqXA.ARTIFACT_STREAM_CRON_GROUP at<br>  21:36:18 05/31/2017 with resulting trigger instruction code: DO NOTHING<br> id = 48<br> cluster = 4",
          "INFO  [2017-05-31 21:36:17,188] org.quartz.plugins.history.LoggingTriggerHistoryPlugin: Trigger DEFA<br>ULT.84DUAsWyStm1sg5ZXlMung completed firing job 84DUAsWyStm1sg5ZXlMung.ARTIFACT_STREAM_CRON_GROUP at<br>  21:36:17 05/31/2017 with resulting trigger instruction code: DO NOTHING<br> id = 52<br> cluster = 4",
          "INFO  [2017-05-31 21:36:08,729] org.quartz.plugins.history.LoggingTriggerHistoryPlugin: Trigger DEFA<br>ULT.D3H_QL6_Riqw6hHqkzR--A completed firing job D3H_QL6_Riqw6hHqkzR--A.ARTIFACT_STREAM_CRON_GROUP at<br>  21:36:08 05/31/2017 with resulting trigger instruction code: DO NOTHING<br> id = 58<br> cluster = 4",
          "INFO  [2017-05-31 21:36:08,340] org.quartz.plugins.history.LoggingTriggerHistoryPlugin: Trigger DEFA<br>ULT.AuG03-OeTsa1gx9m868dNw completed firing job AuG03-OeTsa1gx9m868dNw.SM_CLEANUP_CRON_GROUP at  21:<br>36:08 05/31/2017 with resulting trigger instruction code: DO NOTHING<br> id = 62<br> cluster = 4"
         ],
         "type": "scatter3d",
         "x": [
          "-0.298151900654",
          "-0.369417095628",
          "-0.324433226255",
          "-0.324433226255",
          "-0.298151900654",
          "-0.369417095628",
          "-0.324433226255",
          "-0.324433226255"
         ],
         "y": [
          "0.536820786762",
          "0.491387578615",
          "0.509410225426",
          "0.509410225426",
          "0.536820786762",
          "0.491387578615",
          "0.509410225426",
          "0.509410225426"
         ],
         "z": [
          "20",
          "3",
          "1",
          "5",
          "20",
          "3",
          "1",
          "5"
         ]
        },
        {
         "legendgroup": "cluster - 4",
         "marker": {
          "color": "orange",
          "opacity": 0.5,
          "size": 7
         },
         "mode": "markers",
         "name": "cluster - 4",
         "text": [
          "INFO  [2017-05-31 21:45:31,925] org.quartz.plugins.history.LoggingTriggerHistoryPlugin: Trigger DEFA<br>ULT.cMr2y3_5Q-qhVZHKSgtAww completed firing job cMr2y3_5Q-qhVZHKSgtAww.SM_CLEANUP_CRON_GROUP at  21:<br>45:31 05/31/2017 with resulting trigger instruction code: DO NOTHING<br> id = 84<br> cluster = 4",
          "INFO  [2017-05-31 21:45:17,189] org.quartz.plugins.history.LoggingTriggerHistoryPlugin: Trigger DEFA<br>ULT.84DUAsWyStm1sg5ZXlMung completed firing job 84DUAsWyStm1sg5ZXlMung.ARTIFACT_STREAM_CRON_GROUP at<br>  21:45:17 05/31/2017 with resulting trigger instruction code: DO NOTHING<br> id = 92<br> cluster = 4",
          "INFO  [2017-05-31 21:46:38,309] org.quartz.plugins.history.LoggingTriggerHistoryPlugin: Trigger DEFA<br>ULT.0dCbD2LCQ3uMm_RlVLMG2A completed firing job 0dCbD2LCQ3uMm_RlVLMG2A.SM_CLEANUP_CRON_GROUP at  21:<br>46:38 05/31/2017 with resulting trigger instruction code: DO NOTHING<br> id = 114<br> cluster = 4",
          "INFO  [2017-05-31 21:46:31,926] org.quartz.plugins.history.LoggingTriggerHistoryPlugin: Trigger DEFA<br>ULT.cMr2y3_5Q-qhVZHKSgtAww completed firing job cMr2y3_5Q-qhVZHKSgtAww.SM_CLEANUP_CRON_GROUP at  21:<br>46:31 05/31/2017 with resulting trigger instruction code: DO NOTHING<br> id = 123<br> cluster = 4",
          "INFO  [2017-05-31 21:47:24,814] org.quartz.plugins.history.LoggingTriggerHistoryPlugin: Trigger DEFA<br>ULT.qg1NzWlPRhK-6JwXye_1ug completed firing job qg1NzWlPRhK-6JwXye_1ug.ARTIFACT_STREAM_CRON_GROUP at<br>  21:47:24 05/31/2017 with resulting trigger instruction code: DO NOTHING<br> id = 150<br> cluster = 4",
          "INFO  [2017-05-31 21:47:17,188] org.quartz.plugins.history.LoggingTriggerHistoryPlugin: Trigger DEFA<br>ULT.84DUAsWyStm1sg5ZXlMung completed firing job 84DUAsWyStm1sg5ZXlMung.ARTIFACT_STREAM_CRON_GROUP at<br>  21:47:17 05/31/2017 with resulting trigger instruction code: DO NOTHING<br> id = 157<br> cluster = 4",
          "INFO  [2017-05-31 21:47:08,729] org.quartz.plugins.history.LoggingTriggerHistoryPlugin: Trigger DEFA<br>ULT.D3H_QL6_Riqw6hHqkzR--A completed firing job D3H_QL6_Riqw6hHqkzR--A.ARTIFACT_STREAM_CRON_GROUP at<br>  21:47:08 05/31/2017 with resulting trigger instruction code: DO NOTHING<br> id = 164<br> cluster = 4"
         ],
         "type": "scatter3d",
         "x": [
          "-0.324433226255",
          "-0.369417095628",
          "-0.324433226255",
          "-0.324433226255",
          "-0.324433226255",
          "-0.369417095628",
          "-0.324433226255"
         ],
         "y": [
          "0.509410225426",
          "0.491387578615",
          "0.509410225426",
          "0.509410225426",
          "0.509410225426",
          "0.491387578615",
          "0.509410225426"
         ],
         "z": [
          "5",
          "3",
          "3",
          "5",
          "17",
          "2",
          "1"
         ]
        },
        {
         "legendgroup": "cluster - 4",
         "marker": {
          "color": "red",
          "opacity": 0.5,
          "size": 8
         },
         "mode": "markers",
         "name": "cluster - 4",
         "text": [
          "INFO  [2017-05-31 21:45:32,585] org.quartz.plugins.history.LoggingTriggerHistoryPlugin: Trigger DEFA<br>ULT.JGe5oLOLTyGP_qgqF1YW1A completed firing job JGe5oLOLTyGP_qgqF1YW1A.SM_CLEANUP_CRON_GROUP at  21:<br>45:32 05/31/2017 with resulting trigger instruction code: DO NOTHING<br> id = 79<br> cluster = 4",
          "INFO  [2017-05-31 21:45:08,729] org.quartz.plugins.history.LoggingTriggerHistoryPlugin: Trigger DEFA<br>ULT.D3H_QL6_Riqw6hHqkzR--A completed firing job D3H_QL6_Riqw6hHqkzR--A.ARTIFACT_STREAM_CRON_GROUP at<br>  21:45:08 05/31/2017 with resulting trigger instruction code: DO NOTHING<br> id = 96<br> cluster = 4",
          "INFO  [2017-05-31 21:46:32,584] org.quartz.plugins.history.LoggingTriggerHistoryPlugin: Trigger DEFA<br>ULT.JGe5oLOLTyGP_qgqF1YW1A completed firing job JGe5oLOLTyGP_qgqF1YW1A.SM_CLEANUP_CRON_GROUP at  21:<br>46:32 05/31/2017 with resulting trigger instruction code: DO NOTHING<br> id = 118<br> cluster = 4",
          "INFO  [2017-05-31 21:46:08,729] org.quartz.plugins.history.LoggingTriggerHistoryPlugin: Trigger DEFA<br>ULT.D3H_QL6_Riqw6hHqkzR--A completed firing job D3H_QL6_Riqw6hHqkzR--A.ARTIFACT_STREAM_CRON_GROUP at<br>  21:46:08 05/31/2017 with resulting trigger instruction code: DO NOTHING<br> id = 133<br> cluster = 4",
          "INFO  [2017-05-31 21:47:08,340] org.quartz.plugins.history.LoggingTriggerHistoryPlugin: Trigger DEFA<br>ULT.AuG03-OeTsa1gx9m868dNw completed firing job AuG03-OeTsa1gx9m868dNw.SM_CLEANUP_CRON_GROUP at  21:<br>47:08 05/31/2017 with resulting trigger instruction code: DO NOTHING<br> id = 168<br> cluster = 4"
         ],
         "type": "scatter3d",
         "x": [
          "-0.324433226255",
          "-0.324433226255",
          "-0.324433226255",
          "-0.324433226255",
          "-0.324433226255"
         ],
         "y": [
          "0.509410225426",
          "0.509410225426",
          "0.509410225426",
          "0.509410225426",
          "0.509410225426"
         ],
         "z": [
          "20",
          "1",
          "20",
          "1",
          "3"
         ]
        },
        {
         "legendgroup": "cluster - 5",
         "marker": {
          "color": "blue",
          "opacity": 0.5,
          "size": 6
         },
         "mode": "markers",
         "name": "cluster - 5",
         "text": [
          "INFO  [2017-05-31 21:35:18,184] com.novemberain.quartz.mongodb.dao.LocksDao: Inserting lock for trig<br>ger DEFAULT.qg1NzWlPRhK-6JwXye_1ug<br> id = 2<br> cluster = 5",
          "INFO  [2017-05-31 21:35:18,182] com.novemberain.quartz.mongodb.dao.LocksDao: Trigger lock DEFAULT.vJ<br>3t7B6hTYyugnJ0JifqXA.NON_CLUSTERED removed.<br> id = 5<br> cluster = 5",
          "INFO  [2017-05-31 21:35:18,181] com.novemberain.quartz.mongodb.dao.LocksDao: Removing trigger lock D<br>EFAULT.vJ3t7B6hTYyugnJ0JifqXA.NON_CLUSTERED<br> id = 6<br> cluster = 5",
          "INFO  [2017-05-31 21:35:08,731] com.novemberain.quartz.mongodb.dao.LocksDao: Trigger lock DEFAULT.D3<br>H_QL6_Riqw6hHqkzR--A.NON_CLUSTERED removed.<br> id = 17<br> cluster = 5",
          "INFO  [2017-05-31 21:36:18,184] com.novemberain.quartz.mongodb.dao.LocksDao: Inserting lock for trig<br>ger DEFAULT.qg1NzWlPRhK-6JwXye_1ug<br> id = 43<br> cluster = 5",
          "INFO  [2017-05-31 21:36:18,181] com.novemberain.quartz.mongodb.dao.LocksDao: Trigger lock DEFAULT.vJ<br>3t7B6hTYyugnJ0JifqXA.NON_CLUSTERED removed.<br> id = 46<br> cluster = 5",
          "INFO  [2017-05-31 21:36:18,181] com.novemberain.quartz.mongodb.dao.LocksDao: Removing trigger lock D<br>EFAULT.vJ3t7B6hTYyugnJ0JifqXA.NON_CLUSTERED<br> id = 47<br> cluster = 5",
          "INFO  [2017-05-31 21:36:08,731] com.novemberain.quartz.mongodb.dao.LocksDao: Trigger lock DEFAULT.D3<br>H_QL6_Riqw6hHqkzR--A.NON_CLUSTERED removed.<br> id = 57<br> cluster = 5"
         ],
         "type": "scatter3d",
         "x": [
          "0.31404417974",
          "0.226278194046",
          "0.163995931672",
          "0.226278194046",
          "0.3140439955",
          "0.226278194046",
          "0.163995931672",
          "0.226278194046"
         ],
         "y": [
          "0.513079088552",
          "0.561703172657",
          "0.645784208878",
          "0.561703172657",
          "0.513077981398",
          "0.561703172657",
          "0.645784208878",
          "0.561703172657"
         ],
         "z": [
          "29",
          "23",
          "29",
          "6",
          "29",
          "23",
          "29",
          "6"
         ]
        },
        {
         "legendgroup": "cluster - 5",
         "marker": {
          "color": "orange",
          "opacity": 0.5,
          "size": 7
         },
         "mode": "markers",
         "name": "cluster - 5",
         "text": [
          "INFO  [2017-05-31 21:45:32,587] com.novemberain.quartz.mongodb.dao.LocksDao: Trigger lock DEFAULT.JG<br>e5oLOLTyGP_qgqF1YW1A.NON_CLUSTERED removed.<br> id = 77<br> cluster = 5",
          "INFO  [2017-05-31 21:45:31,927] com.novemberain.quartz.mongodb.dao.LocksDao: Trigger lock DEFAULT.cM<br>r2y3_5Q-qhVZHKSgtAww.NON_CLUSTERED removed.<br> id = 83<br> cluster = 5",
          "INFO  [2017-05-31 21:46:38,311] com.novemberain.quartz.mongodb.dao.LocksDao: Trigger lock DEFAULT.0d<br>CbD2LCQ3uMm_RlVLMG2A.NON_CLUSTERED removed.<br> id = 112<br> cluster = 5",
          "INFO  [2017-05-31 21:46:38,310] com.novemberain.quartz.mongodb.dao.LocksDao: Removing trigger lock D<br>EFAULT.0dCbD2LCQ3uMm_RlVLMG2A.NON_CLUSTERED<br> id = 113<br> cluster = 5",
          "INFO  [2017-05-31 21:46:31,928] com.novemberain.quartz.mongodb.dao.LocksDao: Trigger lock DEFAULT.cM<br>r2y3_5Q-qhVZHKSgtAww.NON_CLUSTERED removed.<br> id = 122<br> cluster = 5",
          "INFO  [2017-05-31 21:47:24,816] com.novemberain.quartz.mongodb.dao.LocksDao: Trigger lock DEFAULT.qg<br>1NzWlPRhK-6JwXye_1ug.NON_CLUSTERED removed.<br> id = 148<br> cluster = 5",
          "INFO  [2017-05-31 21:47:24,815] com.novemberain.quartz.mongodb.dao.LocksDao: Removing trigger lock D<br>EFAULT.qg1NzWlPRhK-6JwXye_1ug.NON_CLUSTERED<br> id = 149<br> cluster = 5",
          "INFO  [2017-05-31 21:47:08,731] com.novemberain.quartz.mongodb.dao.LocksDao: Trigger lock DEFAULT.D3<br>H_QL6_Riqw6hHqkzR--A.NON_CLUSTERED removed.<br> id = 163<br> cluster = 5"
         ],
         "type": "scatter3d",
         "x": [
          "0.226278194046",
          "0.226278194046",
          "0.226278194046",
          "0.163995931672",
          "0.226278194046",
          "0.226278194046",
          "0.163995931672",
          "0.226278194046"
         ],
         "y": [
          "0.561703172657",
          "0.561703172657",
          "0.561703172657",
          "0.645784208878",
          "0.561703172657",
          "0.561703172657",
          "0.645784208878",
          "0.561703172657"
         ],
         "z": [
          "23",
          "6",
          "23",
          "29",
          "6",
          "19",
          "23",
          "4"
         ]
        },
        {
         "legendgroup": "cluster - 5",
         "marker": {
          "color": "red",
          "opacity": 0.5,
          "size": 8
         },
         "mode": "markers",
         "name": "cluster - 5",
         "text": [
          "INFO  [2017-05-31 21:45:32,589] com.novemberain.quartz.mongodb.dao.LocksDao: Inserting lock for trig<br>ger DEFAULT.0dCbD2LCQ3uMm_RlVLMG2A<br> id = 75<br> cluster = 5",
          "INFO  [2017-05-31 21:45:32,586] com.novemberain.quartz.mongodb.dao.LocksDao: Removing trigger lock D<br>EFAULT.JGe5oLOLTyGP_qgqF1YW1A.NON_CLUSTERED<br> id = 78<br> cluster = 5",
          "INFO  [2017-05-31 21:46:38,313] com.novemberain.quartz.mongodb.dao.LocksDao: Inserting lock for trig<br>ger DEFAULT.SFmGy4xrRpad9Mql-fTqlg<br> id = 110<br> cluster = 5",
          "INFO  [2017-05-31 21:47:24,818] com.novemberain.quartz.mongodb.dao.LocksDao: Inserting lock for trig<br>ger DEFAULT.zrYxDJ8ASo658RtE7UhNug<br> id = 146<br> cluster = 5"
         ],
         "type": "scatter3d",
         "x": [
          "0.3140439955",
          "0.163995931672",
          "0.31404417974",
          "0.357147654007"
         ],
         "y": [
          "0.513077981398",
          "0.645784208878",
          "0.513079088552",
          "0.51154612074"
         ],
         "z": [
          "29",
          "29",
          "29",
          "23"
         ]
        },
        {
         "legendgroup": "cluster - 6",
         "marker": {
          "color": "blue",
          "opacity": 0.5,
          "size": 6
         },
         "mode": "markers",
         "name": "cluster - 6",
         "text": [
          "INFO  [2017-05-31 21:35:18,038] software.wings.service.impl.DelegateServiceImpl: registering delegat<br>e: Delegate{accountId='kmpySmUISimoRrJL6NL73w', status=ENABLED, connected=true, ip='172.31.51.78', h<br>ostName='ip-172-31-51-78', lastHeartBeat=1496266518037, version='1.0.10', supportedTaskTypes=[HTTP, <br>SPLUNK, APP_DYNAMICS, JENKINS, JENKINS_COLLECTION, BAMBOO_COLLECTION, COMMAND, JENKINS_GET_BUILDS, J<br>ENKINS_GET_JOBS, JENKINS_GET_ARTIFACT_PATHS, JENKINS_LAST_SUCCESSFUL_BUILD, JENKINS_GET_PLANS, JENKI<br>NS_VALIDATE_ARTIFACT_SERVER, BAMBOO_GET_BUILDS, BAMBOO_GET_JOBS, BAMBOO_GET_ARTIFACT_PATHS, BAMBOO_L<br>AST_SUCCESSFUL_BUILD, BAMBOO_GET_PLANS, BAMBOO_VALIDATE_ARTIFACT_SERVER, DOCKER_GET_BUILDS, DOCKER_V<br>ALIDATE_ARTIFACT_SERVER, DOCKER_VALIDATE_ARTIFACT_STREAM, NEXUS_GET_JOBS, NEXUS_GET_PLANS, NEXUS_GET<br>_ARTIFACT_PATHS, NEXUS_GET_GROUP_IDS, NEXUS_GET_ARTIFACT_NAMES, NEXUS_GET_BUILDS, NEXUS_LAST_SUCCESS<br>FUL_BUILD, NEXUS_COLLECTION, NEXUS_VALIDATE_ARTIFACT_SERVER, APPDYNAMICS_CONFIGURATION_VALIDATE_TASK<br> id = 11<br> cluster = 6",
          "INFO  [2017-05-31 21:36:19,600] software.wings.service.impl.DelegateServiceImpl: registering delegat<br>e: Delegate{accountId='kmpySmUISimoRrJL6NL73w', status=ENABLED, connected=true, ip='172.31.51.78', h<br>ostName='ip-172-31-51-78', lastHeartBeat=1496266578037, version='1.0.10', supportedTaskTypes=[HTTP, <br>SPLUNK, APP_DYNAMICS, JENKINS, JENKINS_COLLECTION, BAMBOO_COLLECTION, COMMAND, JENKINS_GET_BUILDS, J<br>ENKINS_GET_JOBS, JENKINS_GET_ARTIFACT_PATHS, JENKINS_LAST_SUCCESSFUL_BUILD, JENKINS_GET_PLANS, JENKI<br>NS_VALIDATE_ARTIFACT_SERVER, BAMBOO_GET_BUILDS, BAMBOO_GET_JOBS, BAMBOO_GET_ARTIFACT_PATHS, BAMBOO_L<br>AST_SUCCESSFUL_BUILD, BAMBOO_GET_PLANS, BAMBOO_VALIDATE_ARTIFACT_SERVER, DOCKER_GET_BUILDS, DOCKER_V<br>ALIDATE_ARTIFACT_SERVER, DOCKER_VALIDATE_ARTIFACT_STREAM, NEXUS_GET_JOBS, NEXUS_GET_PLANS, NEXUS_GET<br>_ARTIFACT_PATHS, NEXUS_GET_GROUP_IDS, NEXUS_GET_ARTIFACT_NAMES, NEXUS_GET_BUILDS, NEXUS_LAST_SUCCESS<br>FUL_BUILD, NEXUS_COLLECTION, NEXUS_VALIDATE_ARTIFACT_SERVER, APPDYNAMICS_CONFIGURATION_VALIDATE_TASK<br> id = 41<br> cluster = 6"
         ],
         "type": "scatter3d",
         "x": [
          "0.747054768239",
          "0.747054768239"
         ],
         "y": [
          "0.190920128156",
          "0.190920128156"
         ],
         "z": [
          "2",
          "1"
         ]
        },
        {
         "legendgroup": "cluster - 6",
         "marker": {
          "color": "orange",
          "opacity": 0.5,
          "size": 7
         },
         "mode": "markers",
         "name": "cluster - 6",
         "text": [
          "INFO  [2017-05-31 21:45:18,038] software.wings.service.impl.DelegateServiceImpl: registering delegat<br>e: Delegate{accountId='kmpySmUISimoRrJL6NL73w', status=ENABLED, connected=true, ip='172.31.51.78', h<br>ostName='ip-172-31-51-78', lastHeartBeat=1496267118037, version='1.0.10', supportedTaskTypes=[HTTP, <br>SPLUNK, APP_DYNAMICS, JENKINS, JENKINS_COLLECTION, BAMBOO_COLLECTION, COMMAND, JENKINS_GET_BUILDS, J<br>ENKINS_GET_JOBS, JENKINS_GET_ARTIFACT_PATHS, JENKINS_LAST_SUCCESSFUL_BUILD, JENKINS_GET_PLANS, JENKI<br>NS_VALIDATE_ARTIFACT_SERVER, BAMBOO_GET_BUILDS, BAMBOO_GET_JOBS, BAMBOO_GET_ARTIFACT_PATHS, BAMBOO_L<br>AST_SUCCESSFUL_BUILD, BAMBOO_GET_PLANS, BAMBOO_VALIDATE_ARTIFACT_SERVER, DOCKER_GET_BUILDS, DOCKER_V<br>ALIDATE_ARTIFACT_SERVER, DOCKER_VALIDATE_ARTIFACT_STREAM, NEXUS_GET_JOBS, NEXUS_GET_PLANS, NEXUS_GET<br>_ARTIFACT_PATHS, NEXUS_GET_GROUP_IDS, NEXUS_GET_ARTIFACT_NAMES, NEXUS_GET_BUILDS, NEXUS_LAST_SUCCESS<br>FUL_BUILD, NEXUS_COLLECTION, NEXUS_VALIDATE_ARTIFACT_SERVER, APPDYNAMICS_CONFIGURATION_VALIDATE_TASK<br> id = 91<br> cluster = 6",
          "INFO  [2017-05-31 21:47:18,038] software.wings.service.impl.DelegateServiceImpl: registering delegat<br>e: Delegate{accountId='kmpySmUISimoRrJL6NL73w', status=ENABLED, connected=true, ip='172.31.51.78', h<br>ostName='ip-172-31-51-78', lastHeartBeat=1496267238037, version='1.0.10', supportedTaskTypes=[HTTP, <br>SPLUNK, APP_DYNAMICS, JENKINS, JENKINS_COLLECTION, BAMBOO_COLLECTION, COMMAND, JENKINS_GET_BUILDS, J<br>ENKINS_GET_JOBS, JENKINS_GET_ARTIFACT_PATHS, JENKINS_LAST_SUCCESSFUL_BUILD, JENKINS_GET_PLANS, JENKI<br>NS_VALIDATE_ARTIFACT_SERVER, BAMBOO_GET_BUILDS, BAMBOO_GET_JOBS, BAMBOO_GET_ARTIFACT_PATHS, BAMBOO_L<br>AST_SUCCESSFUL_BUILD, BAMBOO_GET_PLANS, BAMBOO_VALIDATE_ARTIFACT_SERVER, DOCKER_GET_BUILDS, DOCKER_V<br>ALIDATE_ARTIFACT_SERVER, DOCKER_VALIDATE_ARTIFACT_STREAM, NEXUS_GET_JOBS, NEXUS_GET_PLANS, NEXUS_GET<br>_ARTIFACT_PATHS, NEXUS_GET_GROUP_IDS, NEXUS_GET_ARTIFACT_NAMES, NEXUS_GET_BUILDS, NEXUS_LAST_SUCCESS<br>FUL_BUILD, NEXUS_COLLECTION, NEXUS_VALIDATE_ARTIFACT_SERVER, APPDYNAMICS_CONFIGURATION_VALIDATE_TASK<br> id = 156<br> cluster = 6"
         ],
         "type": "scatter3d",
         "x": [
          "0.747054768239",
          "0.747054768239"
         ],
         "y": [
          "0.190920128156",
          "0.190920128156"
         ],
         "z": [
          "1",
          "1"
         ]
        },
        {
         "legendgroup": "cluster - 6",
         "marker": {
          "color": "red",
          "opacity": 0.5,
          "size": 8
         },
         "mode": "markers",
         "name": "cluster - 6",
         "text": [
          "INFO  [2017-05-31 21:46:18,038] software.wings.service.impl.DelegateServiceImpl: registering delegat<br>e: Delegate{accountId='kmpySmUISimoRrJL6NL73w', status=ENABLED, connected=true, ip='172.31.51.78', h<br>ostName='ip-172-31-51-78', lastHeartBeat=1496267178037, version='1.0.10', supportedTaskTypes=[HTTP, <br>SPLUNK, APP_DYNAMICS, JENKINS, JENKINS_COLLECTION, BAMBOO_COLLECTION, COMMAND, JENKINS_GET_BUILDS, J<br>ENKINS_GET_JOBS, JENKINS_GET_ARTIFACT_PATHS, JENKINS_LAST_SUCCESSFUL_BUILD, JENKINS_GET_PLANS, JENKI<br>NS_VALIDATE_ARTIFACT_SERVER, BAMBOO_GET_BUILDS, BAMBOO_GET_JOBS, BAMBOO_GET_ARTIFACT_PATHS, BAMBOO_L<br>AST_SUCCESSFUL_BUILD, BAMBOO_GET_PLANS, BAMBOO_VALIDATE_ARTIFACT_SERVER, DOCKER_GET_BUILDS, DOCKER_V<br>ALIDATE_ARTIFACT_SERVER, DOCKER_VALIDATE_ARTIFACT_STREAM, NEXUS_GET_JOBS, NEXUS_GET_PLANS, NEXUS_GET<br>_ARTIFACT_PATHS, NEXUS_GET_GROUP_IDS, NEXUS_GET_ARTIFACT_NAMES, NEXUS_GET_BUILDS, NEXUS_LAST_SUCCESS<br>FUL_BUILD, NEXUS_COLLECTION, NEXUS_VALIDATE_ARTIFACT_SERVER, APPDYNAMICS_CONFIGURATION_VALIDATE_TASK<br> id = 130<br> cluster = 6"
         ],
         "type": "scatter3d",
         "x": [
          "0.747054768239"
         ],
         "y": [
          "0.190920128156"
         ],
         "z": [
          "1"
         ]
        },
        {
         "legendgroup": "cluster - 7",
         "marker": {
          "color": "blue",
          "opacity": 0.5,
          "size": 6
         },
         "mode": "markers",
         "name": "cluster - 7",
         "text": [
          "WARN  [2017-05-31 21:34:54,590] software.wings.waitnotify.Notifier: No entry in the waitQueue found <br>for the correlationIds: [kaG4hDwsRKGmNSEMH3MMgQ, 0UrlPx9sQeKA8pxVYP-AZA, hsbXDjzWTCWFfojREmmvSQ, hSp<br>55cwERwmz5ujaZsfwHQ, nJ3D48oOR-23j2MNYg1jHg, EoXOwhUZSjCgev5cHT6kTA, PYIm79AoRoif3R54ioxAGQ, WH9DCdn<br>xTt62b2MxgnBcqg, IYpXXgyJRGaKsXwF0n4a2A, hxzQPR1EQ5uIJW8LA1eDdQ, UmxbtjIWRuqo_aPJ0P4LDQ, 4xrEUEZ2Sgy<br>jypHGYbDRWQ, n01fA-jeSmaT3sbKtZeJzQ, x6fH5SIwQFq0YvC4p7q5_w, 7w0hvNANSW2AggOMn9w2VA, uM5q5HwSRUupJGl<br>Ed6AeTQ, kdS593IUSue4F68ne-P9ag, Ielw1FmMTRidCW6x4d32Vw, f67p97lWQ3CBqDhqCdYeVw, MMq8fSgVRgOls-jD--p<br>WdA, e0H1_6lfRk2_HJUrBJrBtg, tywf4xRhTemM7wc29BcaOw, Q4T-ZCukTmGmISoz-AQJLQ, 2zzAawdaTiumWRfU5PHcBQ,<br> EZSU2TmYRYegZ0YA_2WVnQ, 8xEYjmenTmi-eu8nmHC6rQ, 0Mws3BToTj64MPAxHShjBw, zy4600e0QZ6P6QIv21PIkg, 32O<br>m2QDqSIqvaQCAJYcHfQ, UYd9BQztRwGwegq1rFWKjw, R_Pzz35_Sw6sxpXUQGGOGw, zN8PfdYYQneISSbW9gojhg, YDwjc5t<br>QS6ynOvWaJgbwmg, Ez-HkRjITUO2aeRxfOABGQ, gyoKLsf0STCB-fTUxBDf-g, 0fKMcZEYSJmWhykY71FH4g, tvmhP5EPTbK<br> id = 29<br> cluster = 7",
          "WARN  [2017-05-31 21:35:54,623] software.wings.waitnotify.Notifier: No entry in the waitQueue found <br>for the correlationIds: [kaG4hDwsRKGmNSEMH3MMgQ, 0UrlPx9sQeKA8pxVYP-AZA, hsbXDjzWTCWFfojREmmvSQ, hSp<br>55cwERwmz5ujaZsfwHQ, nJ3D48oOR-23j2MNYg1jHg, EoXOwhUZSjCgev5cHT6kTA, PYIm79AoRoif3R54ioxAGQ, WH9DCdn<br>xTt62b2MxgnBcqg, IYpXXgyJRGaKsXwF0n4a2A, hxzQPR1EQ5uIJW8LA1eDdQ, UmxbtjIWRuqo_aPJ0P4LDQ, 4xrEUEZ2Sgy<br>jypHGYbDRWQ, n01fA-jeSmaT3sbKtZeJzQ, x6fH5SIwQFq0YvC4p7q5_w, 7w0hvNANSW2AggOMn9w2VA, uM5q5HwSRUupJGl<br>Ed6AeTQ, kdS593IUSue4F68ne-P9ag, Ielw1FmMTRidCW6x4d32Vw, f67p97lWQ3CBqDhqCdYeVw, MMq8fSgVRgOls-jD--p<br>WdA, e0H1_6lfRk2_HJUrBJrBtg, tywf4xRhTemM7wc29BcaOw, Q4T-ZCukTmGmISoz-AQJLQ, 2zzAawdaTiumWRfU5PHcBQ,<br> EZSU2TmYRYegZ0YA_2WVnQ, 8xEYjmenTmi-eu8nmHC6rQ, 0Mws3BToTj64MPAxHShjBw, zy4600e0QZ6P6QIv21PIkg, 32O<br>m2QDqSIqvaQCAJYcHfQ, UYd9BQztRwGwegq1rFWKjw, R_Pzz35_Sw6sxpXUQGGOGw, zN8PfdYYQneISSbW9gojhg, YDwjc5t<br>QS6ynOvWaJgbwmg, Ez-HkRjITUO2aeRxfOABGQ, gyoKLsf0STCB-fTUxBDf-g, 0fKMcZEYSJmWhykY71FH4g, tvmhP5EPTbK<br> id = 69<br> cluster = 7"
         ],
         "type": "scatter3d",
         "x": [
          "-0.0802719400314",
          "-0.0802719400305"
         ],
         "y": [
          "-0.85131970793",
          "-0.85131970793"
         ],
         "z": [
          "2",
          "2"
         ]
        },
        {
         "legendgroup": "cluster - 7",
         "marker": {
          "color": "red",
          "opacity": 0.5,
          "size": 8
         },
         "mode": "markers",
         "name": "cluster - 7",
         "text": [
          "WARN  [2017-05-31 21:45:24,942] software.wings.waitnotify.Notifier: No entry in the waitQueue found <br>for the correlationIds: [kaG4hDwsRKGmNSEMH3MMgQ, 0UrlPx9sQeKA8pxVYP-AZA, hsbXDjzWTCWFfojREmmvSQ, hSp<br>55cwERwmz5ujaZsfwHQ, nJ3D48oOR-23j2MNYg1jHg, EoXOwhUZSjCgev5cHT6kTA, PYIm79AoRoif3R54ioxAGQ, WH9DCdn<br>xTt62b2MxgnBcqg, IYpXXgyJRGaKsXwF0n4a2A, hxzQPR1EQ5uIJW8LA1eDdQ, UmxbtjIWRuqo_aPJ0P4LDQ, 4xrEUEZ2Sgy<br>jypHGYbDRWQ, n01fA-jeSmaT3sbKtZeJzQ, x6fH5SIwQFq0YvC4p7q5_w, 7w0hvNANSW2AggOMn9w2VA, uM5q5HwSRUupJGl<br>Ed6AeTQ, kdS593IUSue4F68ne-P9ag, Ielw1FmMTRidCW6x4d32Vw, f67p97lWQ3CBqDhqCdYeVw, MMq8fSgVRgOls-jD--p<br>WdA, e0H1_6lfRk2_HJUrBJrBtg, tywf4xRhTemM7wc29BcaOw, Q4T-ZCukTmGmISoz-AQJLQ, 2zzAawdaTiumWRfU5PHcBQ,<br> EZSU2TmYRYegZ0YA_2WVnQ, 8xEYjmenTmi-eu8nmHC6rQ, 0Mws3BToTj64MPAxHShjBw, zy4600e0QZ6P6QIv21PIkg, 32O<br>m2QDqSIqvaQCAJYcHfQ, UYd9BQztRwGwegq1rFWKjw, R_Pzz35_Sw6sxpXUQGGOGw, zN8PfdYYQneISSbW9gojhg, YDwjc5t<br>QS6ynOvWaJgbwmg, Ez-HkRjITUO2aeRxfOABGQ, gyoKLsf0STCB-fTUxBDf-g, 0fKMcZEYSJmWhykY71FH4g, tvmhP5EPTbK<br> id = 90<br> cluster = 7",
          "WARN  [2017-05-31 21:46:24,975] software.wings.waitnotify.Notifier: No entry in the waitQueue found <br>for the correlationIds: [kaG4hDwsRKGmNSEMH3MMgQ, 0UrlPx9sQeKA8pxVYP-AZA, hsbXDjzWTCWFfojREmmvSQ, hSp<br>55cwERwmz5ujaZsfwHQ, nJ3D48oOR-23j2MNYg1jHg, EoXOwhUZSjCgev5cHT6kTA, PYIm79AoRoif3R54ioxAGQ, WH9DCdn<br>xTt62b2MxgnBcqg, IYpXXgyJRGaKsXwF0n4a2A, hxzQPR1EQ5uIJW8LA1eDdQ, UmxbtjIWRuqo_aPJ0P4LDQ, 4xrEUEZ2Sgy<br>jypHGYbDRWQ, n01fA-jeSmaT3sbKtZeJzQ, x6fH5SIwQFq0YvC4p7q5_w, 7w0hvNANSW2AggOMn9w2VA, uM5q5HwSRUupJGl<br>Ed6AeTQ, kdS593IUSue4F68ne-P9ag, Ielw1FmMTRidCW6x4d32Vw, f67p97lWQ3CBqDhqCdYeVw, MMq8fSgVRgOls-jD--p<br>WdA, e0H1_6lfRk2_HJUrBJrBtg, tywf4xRhTemM7wc29BcaOw, Q4T-ZCukTmGmISoz-AQJLQ, 2zzAawdaTiumWRfU5PHcBQ,<br> EZSU2TmYRYegZ0YA_2WVnQ, 8xEYjmenTmi-eu8nmHC6rQ, 0Mws3BToTj64MPAxHShjBw, zy4600e0QZ6P6QIv21PIkg, 32O<br>m2QDqSIqvaQCAJYcHfQ, UYd9BQztRwGwegq1rFWKjw, R_Pzz35_Sw6sxpXUQGGOGw, zN8PfdYYQneISSbW9gojhg, YDwjc5t<br>QS6ynOvWaJgbwmg, Ez-HkRjITUO2aeRxfOABGQ, gyoKLsf0STCB-fTUxBDf-g, 0fKMcZEYSJmWhykY71FH4g, tvmhP5EPTbK<br> id = 129<br> cluster = 7",
          "WARN  [2017-05-31 21:47:25,007] software.wings.waitnotify.Notifier: No entry in the waitQueue found <br>for the correlationIds: [kaG4hDwsRKGmNSEMH3MMgQ, 0UrlPx9sQeKA8pxVYP-AZA, hsbXDjzWTCWFfojREmmvSQ, hSp<br>55cwERwmz5ujaZsfwHQ, nJ3D48oOR-23j2MNYg1jHg, EoXOwhUZSjCgev5cHT6kTA, PYIm79AoRoif3R54ioxAGQ, WH9DCdn<br>xTt62b2MxgnBcqg, IYpXXgyJRGaKsXwF0n4a2A, hxzQPR1EQ5uIJW8LA1eDdQ, UmxbtjIWRuqo_aPJ0P4LDQ, 4xrEUEZ2Sgy<br>jypHGYbDRWQ, n01fA-jeSmaT3sbKtZeJzQ, x6fH5SIwQFq0YvC4p7q5_w, 7w0hvNANSW2AggOMn9w2VA, uM5q5HwSRUupJGl<br>Ed6AeTQ, kdS593IUSue4F68ne-P9ag, Ielw1FmMTRidCW6x4d32Vw, f67p97lWQ3CBqDhqCdYeVw, MMq8fSgVRgOls-jD--p<br>WdA, e0H1_6lfRk2_HJUrBJrBtg, tywf4xRhTemM7wc29BcaOw, Q4T-ZCukTmGmISoz-AQJLQ, 2zzAawdaTiumWRfU5PHcBQ,<br> EZSU2TmYRYegZ0YA_2WVnQ, 8xEYjmenTmi-eu8nmHC6rQ, 0Mws3BToTj64MPAxHShjBw, zy4600e0QZ6P6QIv21PIkg, 32O<br>m2QDqSIqvaQCAJYcHfQ, UYd9BQztRwGwegq1rFWKjw, R_Pzz35_Sw6sxpXUQGGOGw, zN8PfdYYQneISSbW9gojhg, YDwjc5t<br>QS6ynOvWaJgbwmg, Ez-HkRjITUO2aeRxfOABGQ, gyoKLsf0STCB-fTUxBDf-g, 0fKMcZEYSJmWhykY71FH4g, tvmhP5EPTbK<br> id = 144<br> cluster = 7"
         ],
         "type": "scatter3d",
         "x": [
          "-0.0802719399444",
          "-0.0802719400412",
          "0.697195266201"
         ],
         "y": [
          "-0.851319707932",
          "-0.851319707929",
          "0.267214765638"
         ],
         "z": [
          "2",
          "2",
          "2"
         ]
        },
        {
         "legendgroup": "cluster - 8",
         "marker": {
          "color": "blue",
          "opacity": 0.5,
          "size": 6
         },
         "mode": "markers",
         "name": "cluster - 8",
         "text": [
          "INFO  [2017-05-31 21:34:29,942] software.wings.app.DelegateQueueTask: Broadcast queued sync task [ld<br>gb6-rBSbmK1Gdb5FSDLQ, null, QUEUED]<br> id = 34<br> cluster = 8",
          "INFO  [2017-05-31 21:34:29,941] software.wings.app.DelegateQueueTask: Broadcast queued sync task [ox<br>yvKQ8lQR24IkQN778Ljw, null, QUEUED]<br> id = 35<br> cluster = 8",
          "INFO  [2017-05-31 21:34:29,941] software.wings.app.DelegateQueueTask: Broadcast queued sync task [Zd<br>Z-c4CRQWGuufUP-SjpUA, null, QUEUED]<br> id = 36<br> cluster = 8",
          "INFO  [2017-05-31 21:34:29,939] software.wings.app.DelegateQueueTask: Broadcast queued sync task [96<br>FLHYp5TsaWQN6WEHCpkg, null, QUEUED]<br> id = 37<br> cluster = 8"
         ],
         "type": "scatter3d",
         "x": [
          "0.717328896172",
          "0.733610438431",
          "0.717328896172",
          "0.730972870992"
         ],
         "y": [
          "-0.0681120082237",
          "-0.0585344503326",
          "-0.0681120082237",
          "-0.0654573818999"
         ],
         "z": [
          "4",
          "13",
          "2",
          "6"
         ]
        },
        {
         "legendgroup": "cluster - 9",
         "marker": {
          "color": "blue",
          "opacity": 0.5,
          "size": 6
         },
         "mode": "markers",
         "name": "cluster - 9",
         "text": [
          "INFO  [2017-05-31 21:35:18,183] com.novemberain.quartz.mongodb.dao.TriggerDao: Found 2 triggers whic<br>h are eligible to be run.<br> id = 3<br> cluster = 9",
          "INFO  [2017-05-31 21:36:18,182] com.novemberain.quartz.mongodb.dao.TriggerDao: Found 2 triggers whic<br>h are eligible to be run.<br> id = 44<br> cluster = 9"
         ],
         "type": "scatter3d",
         "x": [
          "0.625270563183",
          "0.625270560989"
         ],
         "y": [
          "0.444466167471",
          "0.444466173002"
         ],
         "z": [
          "29",
          "29"
         ]
        },
        {
         "legendgroup": "cluster - 9",
         "marker": {
          "color": "orange",
          "opacity": 0.5,
          "size": 7
         },
         "mode": "markers",
         "name": "cluster - 9",
         "text": [
          "INFO  [2017-05-31 21:45:32,588] com.novemberain.quartz.mongodb.dao.TriggerDao: Found 2 triggers whic<br>h are eligible to be run.<br> id = 76<br> cluster = 9",
          "INFO  [2017-05-31 21:46:38,311] com.novemberain.quartz.mongodb.dao.TriggerDao: Found 2 triggers whic<br>h are eligible to be run.<br> id = 111<br> cluster = 9",
          "INFO  [2017-05-31 21:47:24,817] com.novemberain.quartz.mongodb.dao.TriggerDao: Found 4 triggers whic<br>h are eligible to be run.<br> id = 147<br> cluster = 9"
         ],
         "type": "scatter3d",
         "x": [
          "0.625270563183",
          "0.625270560989",
          "0.625270563183"
         ],
         "y": [
          "0.444466167471",
          "0.444466173002",
          "0.444466167471"
         ],
         "z": [
          "29",
          "29",
          "23"
         ]
        },
        {
         "legendgroup": "cluster - 10",
         "marker": {
          "color": "blue",
          "opacity": 0.5,
          "size": 6
         },
         "mode": "markers",
         "name": "cluster - 10",
         "text": [
          "2017-05-31 21:36:19:690 [AsyncAppender-Worker-async-syslog-accesslogs-appender] com.cloudbees.syslog<br>.sender.TcpSyslogMessageSender - INFO: InetAddress of the Syslog Server have changed, create a new c<br>onnection. Before=syslog-a.logdna.com/40.71.95.146, new=syslog-a.logdna.com/40.114.45.243<br> id = 39<br> cluster = 10",
          "2017-05-31 21:36:19:690 [AsyncAppender-Worker-async-rsyslog-tcp-ssl-appender] com.cloudbees.syslog.s<br>ender.TcpSyslogMessageSender - INFO: InetAddress of the Syslog Server have changed, create a new con<br>nection. Before=syslog-a.logdna.com/40.71.95.146, new=syslog-a.logdna.com/40.114.45.243<br> id = 40<br> cluster = 10"
         ],
         "type": "scatter3d",
         "x": [
          "0.698719625624",
          "0.698719625631"
         ],
         "y": [
          "-0.25142874209",
          "-0.251428742058"
         ],
         "z": [
          "1",
          "1"
         ]
        },
        {
         "legendgroup": "cluster - 10",
         "marker": {
          "color": "orange",
          "opacity": 0.5,
          "size": 7
         },
         "mode": "markers",
         "name": "cluster - 10",
         "text": [
          "2017-05-31 21:46:09:151 [AsyncAppender-Worker-async-syslog-accesslogs-appender] com.cloudbees.syslog<br>.sender.TcpSyslogMessageSender - INFO: InetAddress of the Syslog Server have changed, create a new c<br>onnection. Before=syslog-a.logdna.com/40.114.45.243, new=syslog-a.logdna.com/40.114.41.103<br> id = 132<br> cluster = 10",
          "2017-05-31 21:47:14:191 [AsyncAppender-Worker-async-syslog-accesslogs-appender] com.cloudbees.syslog<br>.sender.TcpSyslogMessageSender - INFO: InetAddress of the Syslog Server have changed, create a new c<br>onnection. Before=syslog-a.logdna.com/40.114.41.103, new=syslog-a.logdna.com/40.114.40.67<br> id = 161<br> cluster = 10"
         ],
         "type": "scatter3d",
         "x": [
          "0.698719625624",
          "0.698719625631"
         ],
         "y": [
          "-0.25142874209",
          "-0.251428742058"
         ],
         "z": [
          "1",
          "1"
         ]
        },
        {
         "legendgroup": "cluster - 10",
         "marker": {
          "color": "red",
          "opacity": 0.5,
          "size": 8
         },
         "mode": "markers",
         "name": "cluster - 10",
         "text": [
          "2017-05-31 21:45:08:338 [AsyncAppender-Worker-async-rsyslog-tcp-ssl-appender] com.cloudbees.syslog.s<br>ender.TcpSyslogMessageSender - INFO: InetAddress of the Syslog Server have changed, create a new con<br>nection. Before=syslog-a.logdna.com/40.114.41.103, new=syslog-a.logdna.com/40.114.45.243<br> id = 99<br> cluster = 10",
          "2017-05-31 21:45:05:247 [AsyncAppender-Worker-async-syslog-accesslogs-appender] com.cloudbees.syslog<br>.sender.TcpSyslogMessageSender - INFO: InetAddress of the Syslog Server have changed, create a new c<br>onnection. Before=syslog-a.logdna.com/40.114.41.103, new=syslog-a.logdna.com/40.114.45.243<br> id = 102<br> cluster = 10",
          "2017-05-31 21:46:13:679 [AsyncAppender-Worker-async-rsyslog-tcp-ssl-appender] com.cloudbees.syslog.s<br>ender.TcpSyslogMessageSender - INFO: InetAddress of the Syslog Server have changed, create a new con<br>nection. Before=syslog-a.logdna.com/40.114.45.243, new=syslog-a.logdna.com/40.114.41.103<br> id = 131<br> cluster = 10",
          "2017-05-31 21:47:24:814 [AsyncAppender-Worker-async-rsyslog-tcp-ssl-appender] com.cloudbees.syslog.s<br>ender.TcpSyslogMessageSender - INFO: InetAddress of the Syslog Server have changed, create a new con<br>nection. Before=syslog-a.logdna.com/40.114.41.103, new=syslog-a.logdna.com/40.114.40.67<br> id = 152<br> cluster = 10"
         ],
         "type": "scatter3d",
         "x": [
          "0.698719625631",
          "0.698719625624",
          "0.698719625631",
          "0.698719625624"
         ],
         "y": [
          "-0.251428742058",
          "-0.25142874209",
          "-0.251428742058",
          "-0.25142874209"
         ],
         "z": [
          "2",
          "1",
          "1",
          "1"
         ]
        },
        {
         "legendgroup": "cluster - 11",
         "marker": {
          "color": "blue",
          "opacity": 0.5,
          "size": 6
         },
         "mode": "markers",
         "name": "cluster - 11",
         "text": [
          "172.31.15.70 - - [31/May/2017:21:35:12 +0000] \"GET /todolist/health-check HTTP/1.1\" 200 50<br> id = 0<br> cluster = 11"
         ],
         "type": "scatter3d",
         "x": [
          "0.117698243793"
         ],
         "y": [
          "-0.853090122896"
         ],
         "z": [
          "4"
         ]
        },
        {
         "legendgroup": "cluster - 12",
         "marker": {
          "color": "blue",
          "opacity": 0.5,
          "size": 6
         },
         "mode": "markers",
         "name": "cluster - 12",
         "text": [
          "INFO  [2017-05-31 21:35:18,184] com.novemberain.quartz.mongodb.TriggerRunner: Acquired trigger: DEFA<br>ULT.qg1NzWlPRhK-6JwXye_1ug<br> id = 1<br> cluster = 12",
          "INFO  [2017-05-31 21:36:18,184] com.novemberain.quartz.mongodb.TriggerRunner: Acquired trigger: DEFA<br>ULT.qg1NzWlPRhK-6JwXye_1ug<br> id = 42<br> cluster = 12"
         ],
         "type": "scatter3d",
         "x": [
          "0.422866593815",
          "0.422866593815"
         ],
         "y": [
          "0.150987230035",
          "0.150987230035"
         ],
         "z": [
          "29",
          "29"
         ]
        },
        {
         "legendgroup": "cluster - 12",
         "marker": {
          "color": "orange",
          "opacity": 0.5,
          "size": 7
         },
         "mode": "markers",
         "name": "cluster - 12",
         "text": [
          "INFO  [2017-05-31 21:45:32,590] com.novemberain.quartz.mongodb.TriggerRunner: Acquired trigger: DEFA<br>ULT.0dCbD2LCQ3uMm_RlVLMG2A<br> id = 74<br> cluster = 12",
          "INFO  [2017-05-31 21:46:38,313] com.novemberain.quartz.mongodb.TriggerRunner: Acquired trigger: DEFA<br>ULT.SFmGy4xrRpad9Mql-fTqlg<br> id = 109<br> cluster = 12",
          "INFO  [2017-05-31 21:47:24,819] com.novemberain.quartz.mongodb.TriggerRunner: Acquired trigger: DEFA<br>ULT.zrYxDJ8ASo658RtE7UhNug<br> id = 145<br> cluster = 12"
         ],
         "type": "scatter3d",
         "x": [
          "0.422866593815",
          "0.422866593815",
          "0.444927516978"
         ],
         "y": [
          "0.150987230035",
          "0.150987230035",
          "0.197195575381"
         ],
         "z": [
          "29",
          "29",
          "23"
         ]
        },
        {
         "legendgroup": "cluster - 13",
         "marker": {
          "color": "blue",
          "opacity": 0.5,
          "size": 6
         },
         "mode": "markers",
         "name": "cluster - 13",
         "text": [
          "INFO  [2017-05-31 21:35:18,182] software.wings.service.impl.DelegateServiceImpl: Broadcast new task:<br> 488s8_pYSTO0ok_UqQNgdg<br> id = 4<br> cluster = 13",
          "INFO  [2017-05-31 21:36:18,182] software.wings.service.impl.DelegateServiceImpl: Broadcast new task:<br> Wa9gNxFqSUKE9h8HqI0VNg<br> id = 45<br> cluster = 13"
         ],
         "type": "scatter3d",
         "x": [
          "0.655305146108",
          "0.631551077907"
         ],
         "y": [
          "-0.00615289191122",
          "-0.387057547139"
         ],
         "z": [
          "13",
          "13"
         ]
        },
        {
         "legendgroup": "cluster - 13",
         "marker": {
          "color": "red",
          "opacity": 0.5,
          "size": 8
         },
         "mode": "markers",
         "name": "cluster - 13",
         "text": [
          "INFO  [2017-05-31 21:45:25,301] software.wings.service.impl.DelegateServiceImpl: Broadcast new task:<br> 4c9sbdU4RC6k5oAnsV8Rqw<br> id = 88<br> cluster = 13",
          "INFO  [2017-05-31 21:46:25,300] software.wings.service.impl.DelegateServiceImpl: Broadcast new task:<br> UH1yt4G1Q2eCtHOIUY76XA<br> id = 127<br> cluster = 13",
          "INFO  [2017-05-31 21:47:18,181] software.wings.service.impl.DelegateServiceImpl: Broadcast new task:<br> RnDTUmaGTTKV8pSTp2ZDbw<br> id = 155<br> cluster = 13"
         ],
         "type": "scatter3d",
         "x": [
          "0.624591956763",
          "0.626128544331",
          "0.694031129523"
         ],
         "y": [
          "-0.361751710782",
          "-0.420566768944",
          "0.0241370427095"
         ],
         "z": [
          "13",
          "13",
          "12"
         ]
        },
        {
         "legendgroup": "cluster - 14",
         "marker": {
          "color": "blue",
          "opacity": 0.5,
          "size": 6
         },
         "mode": "markers",
         "name": "cluster - 14",
         "text": [
          "172.31.15.70 - - [31/May/2017:21:36:12 +0000] \"GET /todolist/health-check HTTP/1.1\" 200 50<br> id = 38<br> cluster = 14"
         ],
         "type": "scatter3d",
         "x": [
          "0.225165802297"
         ],
         "y": [
          "-0.838304700696"
         ],
         "z": [
          "4"
         ]
        },
        {
         "legendgroup": "cluster - 15",
         "marker": {
          "color": "blue",
          "opacity": 0.5,
          "size": 6
         },
         "mode": "markers",
         "name": "cluster - 15",
         "text": [
          "INFO  [2017-05-31 21:35:17,188] org.quartz.plugins.history.LoggingJobHistoryPlugin: Job 84DUAsWyStm1<br>sg5ZXlMung.ARTIFACT_STREAM_CRON_GROUP fired (by trigger DEFAULT.84DUAsWyStm1sg5ZXlMung) at:  21:35:1<br>7 05/31/2017<br> id = 14<br> cluster = 15",
          "INFO  [2017-05-31 21:35:17,188] org.quartz.plugins.history.LoggingTriggerHistoryPlugin: Trigger DEFA<br>ULT.84DUAsWyStm1sg5ZXlMung fired job 84DUAsWyStm1sg5ZXlMung.ARTIFACT_STREAM_CRON_GROUP at:  21:35:17<br> 05/31/2017<br> id = 15<br> cluster = 15",
          "INFO  [2017-05-31 21:36:17,188] org.quartz.plugins.history.LoggingJobHistoryPlugin: Job 84DUAsWyStm1<br>sg5ZXlMung.ARTIFACT_STREAM_CRON_GROUP fired (by trigger DEFAULT.84DUAsWyStm1sg5ZXlMung) at:  21:36:1<br>7 05/31/2017<br> id = 54<br> cluster = 15",
          "INFO  [2017-05-31 21:36:17,188] org.quartz.plugins.history.LoggingTriggerHistoryPlugin: Trigger DEFA<br>ULT.84DUAsWyStm1sg5ZXlMung fired job 84DUAsWyStm1sg5ZXlMung.ARTIFACT_STREAM_CRON_GROUP at:  21:36:17<br> 05/31/2017<br> id = 55<br> cluster = 15"
         ],
         "type": "scatter3d",
         "x": [
          "-0.363010821027",
          "-0.539115276919",
          "-0.363010821027",
          "-0.539115276919"
         ],
         "y": [
          "-0.377570477325",
          "-0.0979953412973",
          "-0.377570477325",
          "-0.0979953412973"
         ],
         "z": [
          "3",
          "3",
          "3",
          "3"
         ]
        },
        {
         "legendgroup": "cluster - 15",
         "marker": {
          "color": "orange",
          "opacity": 0.5,
          "size": 7
         },
         "mode": "markers",
         "name": "cluster - 15",
         "text": [
          "INFO  [2017-05-31 21:45:17,189] org.quartz.plugins.history.LoggingTriggerHistoryPlugin: Trigger DEFA<br>ULT.84DUAsWyStm1sg5ZXlMung fired job 84DUAsWyStm1sg5ZXlMung.ARTIFACT_STREAM_CRON_GROUP at:  21:45:17<br> 05/31/2017<br> id = 95<br> cluster = 15"
         ],
         "type": "scatter3d",
         "x": [
          "-0.539115276919"
         ],
         "y": [
          "-0.0979953412973"
         ],
         "z": [
          "3"
         ]
        },
        {
         "legendgroup": "cluster - 15",
         "marker": {
          "color": "red",
          "opacity": 0.5,
          "size": 8
         },
         "mode": "markers",
         "name": "cluster - 15",
         "text": [
          "INFO  [2017-05-31 21:45:17,189] org.quartz.plugins.history.LoggingJobHistoryPlugin: Job 84DUAsWyStm1<br>sg5ZXlMung.ARTIFACT_STREAM_CRON_GROUP fired (by trigger DEFAULT.84DUAsWyStm1sg5ZXlMung) at:  21:45:1<br>7 05/31/2017<br> id = 94<br> cluster = 15",
          "INFO  [2017-05-31 21:47:17,188] org.quartz.plugins.history.LoggingJobHistoryPlugin: Job 84DUAsWyStm1<br>sg5ZXlMung.ARTIFACT_STREAM_CRON_GROUP fired (by trigger DEFAULT.84DUAsWyStm1sg5ZXlMung) at:  21:47:1<br>7 05/31/2017<br> id = 159<br> cluster = 15",
          "INFO  [2017-05-31 21:47:17,188] org.quartz.plugins.history.LoggingTriggerHistoryPlugin: Trigger DEFA<br>ULT.84DUAsWyStm1sg5ZXlMung fired job 84DUAsWyStm1sg5ZXlMung.ARTIFACT_STREAM_CRON_GROUP at:  21:47:17<br> 05/31/2017<br> id = 160<br> cluster = 15"
         ],
         "type": "scatter3d",
         "x": [
          "-0.363010821027",
          "-0.363010821027",
          "-0.539115276919"
         ],
         "y": [
          "-0.377570477325",
          "-0.377570477325",
          "-0.0979953412973"
         ],
         "z": [
          "3",
          "2",
          "2"
         ]
        }
       ],
       "layout": {
        "hovermode": "closest"
       }
      },
      "text/html": [
       "<div id=\"0661b0a5-a6bc-42d0-8ea0-611ac23742e9\" style=\"height: 525px; width: 100%;\" class=\"plotly-graph-div\"></div><script type=\"text/javascript\">require([\"plotly\"], function(Plotly) { window.PLOTLYENV=window.PLOTLYENV || {};window.PLOTLYENV.BASE_URL=\"https://plot.ly\";Plotly.newPlot(\"0661b0a5-a6bc-42d0-8ea0-611ac23742e9\", [{\"legendgroup\": \"cluster - 0\", \"name\": \"cluster - 0\", \"text\": [\"INFO  [2017-05-31 21:35:18,180] org.quartz.plugins.history.LoggingJobHistoryPlugin: Job vJ3t7B6hTYyu<br>gnJ0JifqXA.ARTIFACT_STREAM_CRON_GROUP fired (by trigger DEFAULT.vJ3t7B6hTYyugnJ0JifqXA) at:  21:35:1<br>8 05/31/2017<br> id = 9<br> cluster = 0\", \"INFO  [2017-05-31 21:35:18,179] org.quartz.plugins.history.LoggingTriggerHistoryPlugin: Trigger DEFA<br>ULT.vJ3t7B6hTYyugnJ0JifqXA fired job vJ3t7B6hTYyugnJ0JifqXA.ARTIFACT_STREAM_CRON_GROUP at:  21:35:18<br> 05/31/2017<br> id = 10<br> cluster = 0\", \"INFO  [2017-05-31 21:36:18,179] org.quartz.plugins.history.LoggingJobHistoryPlugin: Job vJ3t7B6hTYyu<br>gnJ0JifqXA.ARTIFACT_STREAM_CRON_GROUP fired (by trigger DEFAULT.vJ3t7B6hTYyugnJ0JifqXA) at:  21:36:1<br>8 05/31/2017<br> id = 50<br> cluster = 0\", \"INFO  [2017-05-31 21:36:18,179] org.quartz.plugins.history.LoggingTriggerHistoryPlugin: Trigger DEFA<br>ULT.vJ3t7B6hTYyugnJ0JifqXA fired job vJ3t7B6hTYyugnJ0JifqXA.ARTIFACT_STREAM_CRON_GROUP at:  21:36:18<br> 05/31/2017<br> id = 51<br> cluster = 0\"], \"marker\": {\"opacity\": 0.5, \"color\": \"blue\", \"size\": 6}, \"mode\": \"markers\", \"y\": [\"-0.364568265441\", \"0.0334632425374\", \"-0.364568265283\", \"0.0334632425387\"], \"x\": [\"-0.0492184120631\", \"-0.572669097011\", \"-0.0492184119218\", \"-0.572669097011\"], \"z\": [\"20\", \"13\", \"20\", \"13\"], \"type\": \"scatter3d\"}, {\"legendgroup\": \"cluster - 1\", \"name\": \"cluster - 1\", \"text\": [\"INFO  [2017-05-31 21:35:08,729] org.quartz.plugins.history.LoggingJobHistoryPlugin: Job D3H_QL6_Riqw<br>6hHqkzR--A.ARTIFACT_STREAM_CRON_GROUP fired (by trigger DEFAULT.D3H_QL6_Riqw6hHqkzR--A) at:  21:35:0<br>8 05/31/2017<br> id = 20<br> cluster = 1\", \"INFO  [2017-05-31 21:35:08,338] org.quartz.plugins.history.LoggingJobHistoryPlugin: Job AuG03-OeTsa1<br>gx9m868dNw.SM_CLEANUP_CRON_GROUP fired (by trigger DEFAULT.AuG03-OeTsa1gx9m868dNw) at:  21:35:08 05/<br>31/2017<br> id = 23<br> cluster = 1\", \"INFO  [2017-05-31 21:35:01,412] org.quartz.plugins.history.LoggingJobHistoryPlugin: Job K0vzHq-KTsql<br>PivBpy5SZQ.SM_CLEANUP_CRON_GROUP fired (by trigger DEFAULT.K0vzHq-KTsqlPivBpy5SZQ) at:  21:35:01 05/<br>31/2017<br> id = 25<br> cluster = 1\", \"INFO  [2017-05-31 21:34:58,811] org.quartz.plugins.history.LoggingJobHistoryPlugin: Job rDZXPoicQ-y9<br>EHe9vv_HyA.SM_CLEANUP_CRON_GROUP fired (by trigger DEFAULT.rDZXPoicQ-y9EHe9vv_HyA) at:  21:34:58 05/<br>31/2017<br> id = 27<br> cluster = 1\", \"INFO  [2017-05-31 21:34:40,039] org.quartz.plugins.history.LoggingJobHistoryPlugin: Job SFmGy4xrRpad<br>9Mql-fTqlg.SM_CLEANUP_CRON_GROUP fired (by trigger DEFAULT.SFmGy4xrRpad9Mql-fTqlg) at:  21:34:40 05/<br>31/2017<br> id = 30<br> cluster = 1\", \"INFO  [2017-05-31 21:34:31,923] org.quartz.plugins.history.LoggingJobHistoryPlugin: Job cMr2y3_5Q-qh<br>VZHKSgtAww.SM_CLEANUP_CRON_GROUP fired (by trigger DEFAULT.cMr2y3_5Q-qhVZHKSgtAww) at:  21:34:31 05/<br>31/2017<br> id = 32<br> cluster = 1\", \"INFO  [2017-05-31 21:36:08,729] org.quartz.plugins.history.LoggingJobHistoryPlugin: Job D3H_QL6_Riqw<br>6hHqkzR--A.ARTIFACT_STREAM_CRON_GROUP fired (by trigger DEFAULT.D3H_QL6_Riqw6hHqkzR--A) at:  21:36:0<br>8 05/31/2017<br> id = 60<br> cluster = 1\", \"INFO  [2017-05-31 21:36:08,337] org.quartz.plugins.history.LoggingJobHistoryPlugin: Job AuG03-OeTsa1<br>gx9m868dNw.SM_CLEANUP_CRON_GROUP fired (by trigger DEFAULT.AuG03-OeTsa1gx9m868dNw) at:  21:36:08 05/<br>31/2017<br> id = 63<br> cluster = 1\", \"INFO  [2017-05-31 21:36:01,412] org.quartz.plugins.history.LoggingJobHistoryPlugin: Job K0vzHq-KTsql<br>PivBpy5SZQ.SM_CLEANUP_CRON_GROUP fired (by trigger DEFAULT.K0vzHq-KTsqlPivBpy5SZQ) at:  21:36:01 05/<br>31/2017<br> id = 65<br> cluster = 1\", \"INFO  [2017-05-31 21:35:58,811] org.quartz.plugins.history.LoggingJobHistoryPlugin: Job rDZXPoicQ-y9<br>EHe9vv_HyA.SM_CLEANUP_CRON_GROUP fired (by trigger DEFAULT.rDZXPoicQ-y9EHe9vv_HyA) at:  21:35:58 05/<br>31/2017<br> id = 67<br> cluster = 1\", \"INFO  [2017-05-31 21:35:40,040] org.quartz.plugins.history.LoggingJobHistoryPlugin: Job SFmGy4xrRpad<br>9Mql-fTqlg.SM_CLEANUP_CRON_GROUP fired (by trigger DEFAULT.SFmGy4xrRpad9Mql-fTqlg) at:  21:35:40 05/<br>31/2017<br> id = 70<br> cluster = 1\", \"INFO  [2017-05-31 21:35:31,923] org.quartz.plugins.history.LoggingJobHistoryPlugin: Job cMr2y3_5Q-qh<br>VZHKSgtAww.SM_CLEANUP_CRON_GROUP fired (by trigger DEFAULT.cMr2y3_5Q-qhVZHKSgtAww) at:  21:35:31 05/<br>31/2017<br> id = 72<br> cluster = 1\"], \"marker\": {\"opacity\": 0.5, \"color\": \"blue\", \"size\": 6}, \"mode\": \"markers\", \"y\": [\"-0.24883437476\", \"-0.24883437476\", \"-0.24883437476\", \"-0.24883437476\", \"-0.24883437476\", \"-0.24883437476\", \"-0.24883437476\", \"-0.24883437476\", \"-0.24883437476\", \"-0.24883437476\", \"-0.24883437476\", \"-0.24883437476\"], \"x\": [\"-0.189770784601\", \"-0.189770784601\", \"-0.189770784601\", \"-0.189770784601\", \"-0.189770784601\", \"-0.189770784601\", \"-0.189770784601\", \"-0.189770784601\", \"-0.189770784601\", \"-0.189770784601\", \"-0.189770784601\", \"-0.189770784601\"], \"z\": [\"1\", \"1\", \"1\", \"1\", \"1\", \"1\", \"1\", \"1\", \"1\", \"1\", \"1\", \"1\"], \"type\": \"scatter3d\"}, {\"legendgroup\": \"cluster - 1\", \"name\": \"cluster - 1\", \"text\": [\"INFO  [2017-05-31 21:45:31,923] org.quartz.plugins.history.LoggingJobHistoryPlugin: Job cMr2y3_5Q-qh<br>VZHKSgtAww.SM_CLEANUP_CRON_GROUP fired (by trigger DEFAULT.cMr2y3_5Q-qhVZHKSgtAww) at:  21:45:31 05/<br>31/2017<br> id = 86<br> cluster = 1\", \"INFO  [2017-05-31 21:45:08,729] org.quartz.plugins.history.LoggingJobHistoryPlugin: Job D3H_QL6_Riqw<br>6hHqkzR--A.ARTIFACT_STREAM_CRON_GROUP fired (by trigger DEFAULT.D3H_QL6_Riqw6hHqkzR--A) at:  21:45:0<br>8 05/31/2017<br> id = 97<br> cluster = 1\", \"INFO  [2017-05-31 21:45:08,338] org.quartz.plugins.history.LoggingJobHistoryPlugin: Job AuG03-OeTsa1<br>gx9m868dNw.SM_CLEANUP_CRON_GROUP fired (by trigger DEFAULT.AuG03-OeTsa1gx9m868dNw) at:  21:45:08 05/<br>31/2017<br> id = 100<br> cluster = 1\", \"INFO  [2017-05-31 21:45:01,413] org.quartz.plugins.history.LoggingJobHistoryPlugin: Job K0vzHq-KTsql<br>PivBpy5SZQ.SM_CLEANUP_CRON_GROUP fired (by trigger DEFAULT.K0vzHq-KTsqlPivBpy5SZQ) at:  21:45:01 05/<br>31/2017<br> id = 103<br> cluster = 1\", \"INFO  [2017-05-31 21:44:58,810] org.quartz.plugins.history.LoggingJobHistoryPlugin: Job rDZXPoicQ-y9<br>EHe9vv_HyA.SM_CLEANUP_CRON_GROUP fired (by trigger DEFAULT.rDZXPoicQ-y9EHe9vv_HyA) at:  21:44:58 05/<br>31/2017<br> id = 105<br> cluster = 1\", \"INFO  [2017-05-31 21:44:40,040] org.quartz.plugins.history.LoggingJobHistoryPlugin: Job SFmGy4xrRpad<br>9Mql-fTqlg.SM_CLEANUP_CRON_GROUP fired (by trigger DEFAULT.SFmGy4xrRpad9Mql-fTqlg) at:  21:44:40 05/<br>31/2017<br> id = 107<br> cluster = 1\", \"INFO  [2017-05-31 21:46:38,307] org.quartz.plugins.history.LoggingJobHistoryPlugin: Job 0dCbD2LCQ3uM<br>m_RlVLMG2A.SM_CLEANUP_CRON_GROUP fired (by trigger DEFAULT.0dCbD2LCQ3uMm_RlVLMG2A) at:  21:46:38 05/<br>31/2017<br> id = 116<br> cluster = 1\", \"INFO  [2017-05-31 21:46:31,924] org.quartz.plugins.history.LoggingJobHistoryPlugin: Job cMr2y3_5Q-qh<br>VZHKSgtAww.SM_CLEANUP_CRON_GROUP fired (by trigger DEFAULT.cMr2y3_5Q-qhVZHKSgtAww) at:  21:46:31 05/<br>31/2017<br> id = 125<br> cluster = 1\", \"INFO  [2017-05-31 21:46:08,729] org.quartz.plugins.history.LoggingJobHistoryPlugin: Job D3H_QL6_Riqw<br>6hHqkzR--A.ARTIFACT_STREAM_CRON_GROUP fired (by trigger DEFAULT.D3H_QL6_Riqw6hHqkzR--A) at:  21:46:0<br>8 05/31/2017<br> id = 134<br> cluster = 1\", \"INFO  [2017-05-31 21:46:08,337] org.quartz.plugins.history.LoggingJobHistoryPlugin: Job AuG03-OeTsa1<br>gx9m868dNw.SM_CLEANUP_CRON_GROUP fired (by trigger DEFAULT.AuG03-OeTsa1gx9m868dNw) at:  21:46:08 05/<br>31/2017<br> id = 136<br> cluster = 1\", \"INFO  [2017-05-31 21:46:01,412] org.quartz.plugins.history.LoggingJobHistoryPlugin: Job K0vzHq-KTsql<br>PivBpy5SZQ.SM_CLEANUP_CRON_GROUP fired (by trigger DEFAULT.K0vzHq-KTsqlPivBpy5SZQ) at:  21:46:01 05/<br>31/2017<br> id = 138<br> cluster = 1\", \"INFO  [2017-05-31 21:45:58,810] org.quartz.plugins.history.LoggingJobHistoryPlugin: Job rDZXPoicQ-y9<br>EHe9vv_HyA.SM_CLEANUP_CRON_GROUP fired (by trigger DEFAULT.rDZXPoicQ-y9EHe9vv_HyA) at:  21:45:58 05/<br>31/2017<br> id = 140<br> cluster = 1\", \"INFO  [2017-05-31 21:45:40,040] org.quartz.plugins.history.LoggingJobHistoryPlugin: Job SFmGy4xrRpad<br>9Mql-fTqlg.SM_CLEANUP_CRON_GROUP fired (by trigger DEFAULT.SFmGy4xrRpad9Mql-fTqlg) at:  21:45:40 05/<br>31/2017<br> id = 142<br> cluster = 1\", \"INFO  [2017-05-31 21:47:08,728] org.quartz.plugins.history.LoggingJobHistoryPlugin: Job D3H_QL6_Riqw<br>6hHqkzR--A.ARTIFACT_STREAM_CRON_GROUP fired (by trigger DEFAULT.D3H_QL6_Riqw6hHqkzR--A) at:  21:47:0<br>8 05/31/2017<br> id = 166<br> cluster = 1\", \"INFO  [2017-05-31 21:47:08,338] org.quartz.plugins.history.LoggingJobHistoryPlugin: Job AuG03-OeTsa1<br>gx9m868dNw.SM_CLEANUP_CRON_GROUP fired (by trigger DEFAULT.AuG03-OeTsa1gx9m868dNw) at:  21:47:08 05/<br>31/2017<br> id = 169<br> cluster = 1\", \"INFO  [2017-05-31 21:47:01,412] org.quartz.plugins.history.LoggingJobHistoryPlugin: Job K0vzHq-KTsql<br>PivBpy5SZQ.SM_CLEANUP_CRON_GROUP fired (by trigger DEFAULT.K0vzHq-KTsqlPivBpy5SZQ) at:  21:47:01 05/<br>31/2017<br> id = 171<br> cluster = 1\", \"INFO  [2017-05-31 21:46:58,811] org.quartz.plugins.history.LoggingJobHistoryPlugin: Job rDZXPoicQ-y9<br>EHe9vv_HyA.SM_CLEANUP_CRON_GROUP fired (by trigger DEFAULT.rDZXPoicQ-y9EHe9vv_HyA) at:  21:46:58 05/<br>31/2017<br> id = 173<br> cluster = 1\"], \"marker\": {\"opacity\": 0.5, \"color\": \"orange\", \"size\": 7}, \"mode\": \"markers\", \"y\": [\"-0.24883437476\", \"-0.24883437476\", \"-0.24883437476\", \"-0.24883437476\", \"-0.24883437476\", \"-0.24883437476\", \"-0.24883437476\", \"-0.24883437476\", \"-0.24883437476\", \"-0.24883437476\", \"-0.24883437476\", \"-0.24883437476\", \"-0.24883437476\", \"-0.24883437476\", \"-0.24883437476\", \"-0.24883437476\", \"-0.24883437476\"], \"x\": [\"-0.189770784601\", \"-0.189770784601\", \"-0.189770784601\", \"-0.189770784601\", \"-0.189770784601\", \"-0.189770784601\", \"-0.189770784601\", \"-0.189770784601\", \"-0.189770784601\", \"-0.189770784601\", \"-0.189770784601\", \"-0.189770784601\", \"-0.189770784601\", \"-0.189770784601\", \"-0.189770784601\", \"-0.189770784601\", \"-0.189770784601\"], \"z\": [\"1\", \"1\", \"1\", \"1\", \"1\", \"1\", \"3\", \"1\", \"1\", \"1\", \"1\", \"1\", \"1\", \"1\", \"1\", \"1\", \"1\"], \"type\": \"scatter3d\"}, {\"legendgroup\": \"cluster - 1\", \"name\": \"cluster - 1\", \"text\": [\"INFO  [2017-05-31 21:45:32,583] org.quartz.plugins.history.LoggingJobHistoryPlugin: Job JGe5oLOLTyGP<br>_qgqF1YW1A.SM_CLEANUP_CRON_GROUP fired (by trigger DEFAULT.JGe5oLOLTyGP_qgqF1YW1A) at:  21:45:32 05/<br>31/2017<br> id = 81<br> cluster = 1\", \"INFO  [2017-05-31 21:46:32,583] org.quartz.plugins.history.LoggingJobHistoryPlugin: Job JGe5oLOLTyGP<br>_qgqF1YW1A.SM_CLEANUP_CRON_GROUP fired (by trigger DEFAULT.JGe5oLOLTyGP_qgqF1YW1A) at:  21:46:32 05/<br>31/2017<br> id = 120<br> cluster = 1\", \"INFO  [2017-05-31 21:47:24,814] org.quartz.plugins.history.LoggingJobHistoryPlugin: Job qg1NzWlPRhK-<br>6JwXye_1ug.ARTIFACT_STREAM_CRON_GROUP fired (by trigger DEFAULT.qg1NzWlPRhK-6JwXye_1ug) at:  21:47:2<br>4 05/31/2017<br> id = 153<br> cluster = 1\"], \"marker\": {\"opacity\": 0.5, \"color\": \"red\", \"size\": 8}, \"mode\": \"markers\", \"y\": [\"-0.24883437476\", \"-0.24883437476\", \"-0.24883437476\"], \"x\": [\"-0.189770784601\", \"-0.189770784601\", \"-0.189770784601\"], \"z\": [\"20\", \"20\", \"17\"], \"type\": \"scatter3d\"}, {\"legendgroup\": \"cluster - 2\", \"name\": \"cluster - 2\", \"text\": [\"INFO  [2017-05-31 21:35:13,679] org.quartz.plugins.history.LoggingTriggerHistoryPlugin: Trigger DEFA<br>ULT.UBBWzVkhQfKVEgzyBBhpeg fired job UBBWzVkhQfKVEgzyBBhpeg.SM_CLEANUP_CRON_GROUP at:  21:35:13 05/3<br>1/2017<br> id = 16<br> cluster = 2\", \"INFO  [2017-05-31 21:35:08,729] org.quartz.plugins.history.LoggingTriggerHistoryPlugin: Trigger DEFA<br>ULT.D3H_QL6_Riqw6hHqkzR--A fired job D3H_QL6_Riqw6hHqkzR--A.ARTIFACT_STREAM_CRON_GROUP at:  21:35:08<br> 05/31/2017<br> id = 21<br> cluster = 2\", \"INFO  [2017-05-31 21:35:08,338] org.quartz.plugins.history.LoggingTriggerHistoryPlugin: Trigger DEFA<br>ULT.AuG03-OeTsa1gx9m868dNw fired job AuG03-OeTsa1gx9m868dNw.SM_CLEANUP_CRON_GROUP at:  21:35:08 05/3<br>1/2017<br> id = 24<br> cluster = 2\", \"INFO  [2017-05-31 21:35:01,412] org.quartz.plugins.history.LoggingTriggerHistoryPlugin: Trigger DEFA<br>ULT.K0vzHq-KTsqlPivBpy5SZQ fired job K0vzHq-KTsqlPivBpy5SZQ.SM_CLEANUP_CRON_GROUP at:  21:35:01 05/3<br>1/2017<br> id = 26<br> cluster = 2\", \"INFO  [2017-05-31 21:34:58,811] org.quartz.plugins.history.LoggingTriggerHistoryPlugin: Trigger DEFA<br>ULT.rDZXPoicQ-y9EHe9vv_HyA fired job rDZXPoicQ-y9EHe9vv_HyA.SM_CLEANUP_CRON_GROUP at:  21:34:58 05/3<br>1/2017<br> id = 28<br> cluster = 2\", \"INFO  [2017-05-31 21:34:40,039] org.quartz.plugins.history.LoggingTriggerHistoryPlugin: Trigger DEFA<br>ULT.SFmGy4xrRpad9Mql-fTqlg fired job SFmGy4xrRpad9Mql-fTqlg.SM_CLEANUP_CRON_GROUP at:  21:34:40 05/3<br>1/2017<br> id = 31<br> cluster = 2\", \"INFO  [2017-05-31 21:34:31,923] org.quartz.plugins.history.LoggingTriggerHistoryPlugin: Trigger DEFA<br>ULT.cMr2y3_5Q-qhVZHKSgtAww fired job cMr2y3_5Q-qhVZHKSgtAww.SM_CLEANUP_CRON_GROUP at:  21:34:31 05/3<br>1/2017<br> id = 33<br> cluster = 2\", \"INFO  [2017-05-31 21:36:13,678] org.quartz.plugins.history.LoggingTriggerHistoryPlugin: Trigger DEFA<br>ULT.UBBWzVkhQfKVEgzyBBhpeg fired job UBBWzVkhQfKVEgzyBBhpeg.SM_CLEANUP_CRON_GROUP at:  21:36:13 05/3<br>1/2017<br> id = 56<br> cluster = 2\", \"INFO  [2017-05-31 21:36:08,729] org.quartz.plugins.history.LoggingTriggerHistoryPlugin: Trigger DEFA<br>ULT.D3H_QL6_Riqw6hHqkzR--A fired job D3H_QL6_Riqw6hHqkzR--A.ARTIFACT_STREAM_CRON_GROUP at:  21:36:08<br> 05/31/2017<br> id = 61<br> cluster = 2\", \"INFO  [2017-05-31 21:36:08,337] org.quartz.plugins.history.LoggingTriggerHistoryPlugin: Trigger DEFA<br>ULT.AuG03-OeTsa1gx9m868dNw fired job AuG03-OeTsa1gx9m868dNw.SM_CLEANUP_CRON_GROUP at:  21:36:08 05/3<br>1/2017<br> id = 64<br> cluster = 2\", \"INFO  [2017-05-31 21:36:01,412] org.quartz.plugins.history.LoggingTriggerHistoryPlugin: Trigger DEFA<br>ULT.K0vzHq-KTsqlPivBpy5SZQ fired job K0vzHq-KTsqlPivBpy5SZQ.SM_CLEANUP_CRON_GROUP at:  21:36:01 05/3<br>1/2017<br> id = 66<br> cluster = 2\", \"INFO  [2017-05-31 21:35:58,811] org.quartz.plugins.history.LoggingTriggerHistoryPlugin: Trigger DEFA<br>ULT.rDZXPoicQ-y9EHe9vv_HyA fired job rDZXPoicQ-y9EHe9vv_HyA.SM_CLEANUP_CRON_GROUP at:  21:35:58 05/3<br>1/2017<br> id = 68<br> cluster = 2\", \"INFO  [2017-05-31 21:35:40,040] org.quartz.plugins.history.LoggingTriggerHistoryPlugin: Trigger DEFA<br>ULT.SFmGy4xrRpad9Mql-fTqlg fired job SFmGy4xrRpad9Mql-fTqlg.SM_CLEANUP_CRON_GROUP at:  21:35:40 05/3<br>1/2017<br> id = 71<br> cluster = 2\", \"INFO  [2017-05-31 21:35:31,923] org.quartz.plugins.history.LoggingTriggerHistoryPlugin: Trigger DEFA<br>ULT.cMr2y3_5Q-qhVZHKSgtAww fired job cMr2y3_5Q-qhVZHKSgtAww.SM_CLEANUP_CRON_GROUP at:  21:35:31 05/3<br>1/2017<br> id = 73<br> cluster = 2\"], \"marker\": {\"opacity\": 0.5, \"color\": \"blue\", \"size\": 6}, \"mode\": \"markers\", \"y\": [\"0.0852195793839\", \"0.0351024268285\", \"0.0351024268285\", \"0.0351024268285\", \"0.0351024268285\", \"0.0351024268285\", \"0.0351024268285\", \"0.0852195793803\", \"0.0351024268285\", \"0.0351024268285\", \"0.0351024268285\", \"0.0351024268285\", \"0.0351024268285\", \"0.0351024268285\"], \"x\": [\"-0.62724371421\", \"-0.348484097812\", \"-0.348484097812\", \"-0.348484097812\", \"-0.348484097812\", \"-0.348484097812\", \"-0.348484097812\", \"-0.627243714211\", \"-0.348484097812\", \"-0.348484097812\", \"-0.348484097812\", \"-0.348484097812\", \"-0.348484097812\", \"-0.348484097812\"], \"z\": [\"7\", \"1\", \"1\", \"1\", \"1\", \"1\", \"1\", \"7\", \"1\", \"1\", \"1\", \"1\", \"1\", \"1\"], \"type\": \"scatter3d\"}, {\"legendgroup\": \"cluster - 2\", \"name\": \"cluster - 2\", \"text\": [\"INFO  [2017-05-31 21:47:08,728] org.quartz.plugins.history.LoggingTriggerHistoryPlugin: Trigger DEFA<br>ULT.D3H_QL6_Riqw6hHqkzR--A fired job D3H_QL6_Riqw6hHqkzR--A.ARTIFACT_STREAM_CRON_GROUP at:  21:47:08<br> 05/31/2017<br> id = 167<br> cluster = 2\"], \"marker\": {\"opacity\": 0.5, \"color\": \"orange\", \"size\": 7}, \"mode\": \"markers\", \"y\": [\"0.0351024268285\"], \"x\": [\"-0.348484097812\"], \"z\": [\"1\"], \"type\": \"scatter3d\"}, {\"legendgroup\": \"cluster - 2\", \"name\": \"cluster - 2\", \"text\": [\"INFO  [2017-05-31 21:45:32,583] org.quartz.plugins.history.LoggingTriggerHistoryPlugin: Trigger DEFA<br>ULT.JGe5oLOLTyGP_qgqF1YW1A fired job JGe5oLOLTyGP_qgqF1YW1A.SM_CLEANUP_CRON_GROUP at:  21:45:32 05/3<br>1/2017<br> id = 82<br> cluster = 2\", \"INFO  [2017-05-31 21:45:31,923] org.quartz.plugins.history.LoggingTriggerHistoryPlugin: Trigger DEFA<br>ULT.cMr2y3_5Q-qhVZHKSgtAww fired job cMr2y3_5Q-qhVZHKSgtAww.SM_CLEANUP_CRON_GROUP at:  21:45:31 05/3<br>1/2017<br> id = 87<br> cluster = 2\", \"INFO  [2017-05-31 21:45:25,298] org.quartz.plugins.history.LoggingTriggerHistoryPlugin: Trigger DEFA<br>ULT.zrYxDJ8ASo658RtE7UhNug fired job zrYxDJ8ASo658RtE7UhNug.ARTIFACT_STREAM_CRON_GROUP at:  21:45:25<br> 05/31/2017<br> id = 89<br> cluster = 2\", \"INFO  [2017-05-31 21:45:08,729] org.quartz.plugins.history.LoggingTriggerHistoryPlugin: Trigger DEFA<br>ULT.D3H_QL6_Riqw6hHqkzR--A fired job D3H_QL6_Riqw6hHqkzR--A.ARTIFACT_STREAM_CRON_GROUP at:  21:45:08<br> 05/31/2017<br> id = 98<br> cluster = 2\", \"INFO  [2017-05-31 21:45:08,338] org.quartz.plugins.history.LoggingTriggerHistoryPlugin: Trigger DEFA<br>ULT.AuG03-OeTsa1gx9m868dNw fired job AuG03-OeTsa1gx9m868dNw.SM_CLEANUP_CRON_GROUP at:  21:45:08 05/3<br>1/2017<br> id = 101<br> cluster = 2\", \"INFO  [2017-05-31 21:45:01,413] org.quartz.plugins.history.LoggingTriggerHistoryPlugin: Trigger DEFA<br>ULT.K0vzHq-KTsqlPivBpy5SZQ fired job K0vzHq-KTsqlPivBpy5SZQ.SM_CLEANUP_CRON_GROUP at:  21:45:01 05/3<br>1/2017<br> id = 104<br> cluster = 2\", \"INFO  [2017-05-31 21:44:58,810] org.quartz.plugins.history.LoggingTriggerHistoryPlugin: Trigger DEFA<br>ULT.rDZXPoicQ-y9EHe9vv_HyA fired job rDZXPoicQ-y9EHe9vv_HyA.SM_CLEANUP_CRON_GROUP at:  21:44:58 05/3<br>1/2017<br> id = 106<br> cluster = 2\", \"INFO  [2017-05-31 21:44:40,040] org.quartz.plugins.history.LoggingTriggerHistoryPlugin: Trigger DEFA<br>ULT.SFmGy4xrRpad9Mql-fTqlg fired job SFmGy4xrRpad9Mql-fTqlg.SM_CLEANUP_CRON_GROUP at:  21:44:40 05/3<br>1/2017<br> id = 108<br> cluster = 2\", \"INFO  [2017-05-31 21:46:38,306] org.quartz.plugins.history.LoggingTriggerHistoryPlugin: Trigger DEFA<br>ULT.0dCbD2LCQ3uMm_RlVLMG2A fired job 0dCbD2LCQ3uMm_RlVLMG2A.SM_CLEANUP_CRON_GROUP at:  21:46:38 05/3<br>1/2017<br> id = 117<br> cluster = 2\", \"INFO  [2017-05-31 21:46:32,583] org.quartz.plugins.history.LoggingTriggerHistoryPlugin: Trigger DEFA<br>ULT.JGe5oLOLTyGP_qgqF1YW1A fired job JGe5oLOLTyGP_qgqF1YW1A.SM_CLEANUP_CRON_GROUP at:  21:46:32 05/3<br>1/2017<br> id = 121<br> cluster = 2\", \"INFO  [2017-05-31 21:46:31,924] org.quartz.plugins.history.LoggingTriggerHistoryPlugin: Trigger DEFA<br>ULT.cMr2y3_5Q-qhVZHKSgtAww fired job cMr2y3_5Q-qhVZHKSgtAww.SM_CLEANUP_CRON_GROUP at:  21:46:31 05/3<br>1/2017<br> id = 126<br> cluster = 2\", \"INFO  [2017-05-31 21:46:25,298] org.quartz.plugins.history.LoggingTriggerHistoryPlugin: Trigger DEFA<br>ULT.zrYxDJ8ASo658RtE7UhNug fired job zrYxDJ8ASo658RtE7UhNug.ARTIFACT_STREAM_CRON_GROUP at:  21:46:25<br> 05/31/2017<br> id = 128<br> cluster = 2\", \"INFO  [2017-05-31 21:46:08,729] org.quartz.plugins.history.LoggingTriggerHistoryPlugin: Trigger DEFA<br>ULT.D3H_QL6_Riqw6hHqkzR--A fired job D3H_QL6_Riqw6hHqkzR--A.ARTIFACT_STREAM_CRON_GROUP at:  21:46:08<br> 05/31/2017<br> id = 135<br> cluster = 2\", \"INFO  [2017-05-31 21:46:08,337] org.quartz.plugins.history.LoggingTriggerHistoryPlugin: Trigger DEFA<br>ULT.AuG03-OeTsa1gx9m868dNw fired job AuG03-OeTsa1gx9m868dNw.SM_CLEANUP_CRON_GROUP at:  21:46:08 05/3<br>1/2017<br> id = 137<br> cluster = 2\", \"INFO  [2017-05-31 21:46:01,412] org.quartz.plugins.history.LoggingTriggerHistoryPlugin: Trigger DEFA<br>ULT.K0vzHq-KTsqlPivBpy5SZQ fired job K0vzHq-KTsqlPivBpy5SZQ.SM_CLEANUP_CRON_GROUP at:  21:46:01 05/3<br>1/2017<br> id = 139<br> cluster = 2\", \"INFO  [2017-05-31 21:45:58,810] org.quartz.plugins.history.LoggingTriggerHistoryPlugin: Trigger DEFA<br>ULT.rDZXPoicQ-y9EHe9vv_HyA fired job rDZXPoicQ-y9EHe9vv_HyA.SM_CLEANUP_CRON_GROUP at:  21:45:58 05/3<br>1/2017<br> id = 141<br> cluster = 2\", \"INFO  [2017-05-31 21:45:40,040] org.quartz.plugins.history.LoggingTriggerHistoryPlugin: Trigger DEFA<br>ULT.SFmGy4xrRpad9Mql-fTqlg fired job SFmGy4xrRpad9Mql-fTqlg.SM_CLEANUP_CRON_GROUP at:  21:45:40 05/3<br>1/2017<br> id = 143<br> cluster = 2\", \"INFO  [2017-05-31 21:47:24,814] org.quartz.plugins.history.LoggingTriggerHistoryPlugin: Trigger DEFA<br>ULT.qg1NzWlPRhK-6JwXye_1ug fired job qg1NzWlPRhK-6JwXye_1ug.ARTIFACT_STREAM_CRON_GROUP at:  21:47:24<br> 05/31/2017<br> id = 154<br> cluster = 2\", \"INFO  [2017-05-31 21:47:13,679] org.quartz.plugins.history.LoggingTriggerHistoryPlugin: Trigger DEFA<br>ULT.UBBWzVkhQfKVEgzyBBhpeg fired job UBBWzVkhQfKVEgzyBBhpeg.SM_CLEANUP_CRON_GROUP at:  21:47:13 05/3<br>1/2017<br> id = 162<br> cluster = 2\", \"INFO  [2017-05-31 21:47:08,338] org.quartz.plugins.history.LoggingTriggerHistoryPlugin: Trigger DEFA<br>ULT.AuG03-OeTsa1gx9m868dNw fired job AuG03-OeTsa1gx9m868dNw.SM_CLEANUP_CRON_GROUP at:  21:47:08 05/3<br>1/2017<br> id = 170<br> cluster = 2\", \"INFO  [2017-05-31 21:47:01,412] org.quartz.plugins.history.LoggingTriggerHistoryPlugin: Trigger DEFA<br>ULT.K0vzHq-KTsqlPivBpy5SZQ fired job K0vzHq-KTsqlPivBpy5SZQ.SM_CLEANUP_CRON_GROUP at:  21:47:01 05/3<br>1/2017<br> id = 172<br> cluster = 2\", \"INFO  [2017-05-31 21:46:58,811] org.quartz.plugins.history.LoggingTriggerHistoryPlugin: Trigger DEFA<br>ULT.rDZXPoicQ-y9EHe9vv_HyA fired job rDZXPoicQ-y9EHe9vv_HyA.SM_CLEANUP_CRON_GROUP at:  21:46:58 05/3<br>1/2017<br> id = 174<br> cluster = 2\"], \"marker\": {\"opacity\": 0.5, \"color\": \"red\", \"size\": 8}, \"mode\": \"markers\", \"y\": [\"0.0351024268285\", \"0.0351024268285\", \"0.180209777758\", \"0.0351024268285\", \"0.0351024268285\", \"0.0351024268285\", \"0.0351024268285\", \"0.0351024268285\", \"0.0351024268285\", \"0.0351024268285\", \"0.0351024268285\", \"0.180209777758\", \"0.0351024268285\", \"0.0351024268285\", \"0.0351024268285\", \"0.0351024268285\", \"0.0351024268285\", \"0.0351024268285\", \"0.0519648279751\", \"0.0351024268285\", \"0.0351024268285\", \"0.0351024268285\"], \"x\": [\"-0.348484097812\", \"-0.348484097812\", \"-0.0753976942129\", \"-0.348484097812\", \"-0.348484097812\", \"-0.348484097812\", \"-0.348484097812\", \"-0.348484097812\", \"-0.348484097812\", \"-0.348484097812\", \"-0.348484097812\", \"-0.0753976942129\", \"-0.348484097812\", \"-0.348484097812\", \"-0.348484097812\", \"-0.348484097812\", \"-0.348484097812\", \"-0.348484097812\", \"-0.637092342923\", \"-0.348484097812\", \"-0.348484097812\", \"-0.348484097812\"], \"z\": [\"7\", \"1\", \"13\", \"1\", \"1\", \"1\", \"1\", \"1\", \"3\", \"7\", \"1\", \"13\", \"1\", \"1\", \"1\", \"1\", \"1\", \"12\", \"5\", \"1\", \"1\", \"1\"], \"type\": \"scatter3d\"}, {\"legendgroup\": \"cluster - 3\", \"name\": \"cluster - 3\", \"text\": [\"INFO  [2017-05-31 21:35:18,180] org.quartz.plugins.history.LoggingJobHistoryPlugin: Job vJ3t7B6hTYyu<br>gnJ0JifqXA.ARTIFACT_STREAM_CRON_GROUP execution complete at  21:35:18 05/31/2017 and reports: null<br> id = 8<br> cluster = 3\", \"INFO  [2017-05-31 21:35:17,188] org.quartz.plugins.history.LoggingJobHistoryPlugin: Job 84DUAsWyStm1<br>sg5ZXlMung.ARTIFACT_STREAM_CRON_GROUP execution complete at  21:35:17 05/31/2017 and reports: null<br> id = 13<br> cluster = 3\", \"INFO  [2017-05-31 21:35:08,729] org.quartz.plugins.history.LoggingJobHistoryPlugin: Job D3H_QL6_Riqw<br>6hHqkzR--A.ARTIFACT_STREAM_CRON_GROUP execution complete at  21:35:08 05/31/2017 and reports: null<br> id = 19<br> cluster = 3\", \"INFO  [2017-05-31 21:36:18,179] org.quartz.plugins.history.LoggingJobHistoryPlugin: Job vJ3t7B6hTYyu<br>gnJ0JifqXA.ARTIFACT_STREAM_CRON_GROUP execution complete at  21:36:18 05/31/2017 and reports: null<br> id = 49<br> cluster = 3\", \"INFO  [2017-05-31 21:36:17,188] org.quartz.plugins.history.LoggingJobHistoryPlugin: Job 84DUAsWyStm1<br>sg5ZXlMung.ARTIFACT_STREAM_CRON_GROUP execution complete at  21:36:17 05/31/2017 and reports: null<br> id = 53<br> cluster = 3\", \"INFO  [2017-05-31 21:36:08,729] org.quartz.plugins.history.LoggingJobHistoryPlugin: Job D3H_QL6_Riqw<br>6hHqkzR--A.ARTIFACT_STREAM_CRON_GROUP execution complete at  21:36:08 05/31/2017 and reports: null<br> id = 59<br> cluster = 3\"], \"marker\": {\"opacity\": 0.5, \"color\": \"blue\", \"size\": 6}, \"mode\": \"markers\", \"y\": [\"-0.565683693169\", \"-0.565683693169\", \"-0.565683693169\", \"-0.565683693169\", \"-0.565683693169\", \"-0.565683693169\"], \"x\": [\"0.30674429975\", \"0.30674429975\", \"0.30674429975\", \"0.30674429975\", \"0.30674429975\", \"0.30674429975\"], \"z\": [\"20\", \"3\", \"6\", \"20\", \"3\", \"6\"], \"type\": \"scatter3d\"}, {\"legendgroup\": \"cluster - 3\", \"name\": \"cluster - 3\", \"text\": [\"INFO  [2017-05-31 21:45:32,585] org.quartz.plugins.history.LoggingJobHistoryPlugin: Job JGe5oLOLTyGP<br>_qgqF1YW1A.SM_CLEANUP_CRON_GROUP execution complete at  21:45:32 05/31/2017 and reports: null<br> id = 80<br> cluster = 3\", \"INFO  [2017-05-31 21:45:31,925] org.quartz.plugins.history.LoggingJobHistoryPlugin: Job cMr2y3_5Q-qh<br>VZHKSgtAww.SM_CLEANUP_CRON_GROUP execution complete at  21:45:31 05/31/2017 and reports: null<br> id = 85<br> cluster = 3\", \"INFO  [2017-05-31 21:45:17,189] org.quartz.plugins.history.LoggingJobHistoryPlugin: Job 84DUAsWyStm1<br>sg5ZXlMung.ARTIFACT_STREAM_CRON_GROUP execution complete at  21:45:17 05/31/2017 and reports: null<br> id = 93<br> cluster = 3\", \"INFO  [2017-05-31 21:46:38,309] org.quartz.plugins.history.LoggingJobHistoryPlugin: Job 0dCbD2LCQ3uM<br>m_RlVLMG2A.SM_CLEANUP_CRON_GROUP execution complete at  21:46:38 05/31/2017 and reports: null<br> id = 115<br> cluster = 3\", \"INFO  [2017-05-31 21:46:32,584] org.quartz.plugins.history.LoggingJobHistoryPlugin: Job JGe5oLOLTyGP<br>_qgqF1YW1A.SM_CLEANUP_CRON_GROUP execution complete at  21:46:32 05/31/2017 and reports: null<br> id = 119<br> cluster = 3\", \"INFO  [2017-05-31 21:46:31,926] org.quartz.plugins.history.LoggingJobHistoryPlugin: Job cMr2y3_5Q-qh<br>VZHKSgtAww.SM_CLEANUP_CRON_GROUP execution complete at  21:46:31 05/31/2017 and reports: null<br> id = 124<br> cluster = 3\", \"INFO  [2017-05-31 21:47:24,814] org.quartz.plugins.history.LoggingJobHistoryPlugin: Job qg1NzWlPRhK-<br>6JwXye_1ug.ARTIFACT_STREAM_CRON_GROUP execution complete at  21:47:24 05/31/2017 and reports: null<br> id = 151<br> cluster = 3\", \"INFO  [2017-05-31 21:47:17,188] org.quartz.plugins.history.LoggingJobHistoryPlugin: Job 84DUAsWyStm1<br>sg5ZXlMung.ARTIFACT_STREAM_CRON_GROUP execution complete at  21:47:17 05/31/2017 and reports: null<br> id = 158<br> cluster = 3\", \"INFO  [2017-05-31 21:47:08,728] org.quartz.plugins.history.LoggingJobHistoryPlugin: Job D3H_QL6_Riqw<br>6hHqkzR--A.ARTIFACT_STREAM_CRON_GROUP execution complete at  21:47:08 05/31/2017 and reports: null<br> id = 165<br> cluster = 3\"], \"marker\": {\"opacity\": 0.5, \"color\": \"red\", \"size\": 8}, \"mode\": \"markers\", \"y\": [\"-0.565683693169\", \"-0.565683693169\", \"-0.565683693169\", \"-0.565683693169\", \"-0.565683693169\", \"-0.565683693169\", \"-0.565683693169\", \"-0.565683693169\", \"-0.565683693169\"], \"x\": [\"0.30674429975\", \"0.30674429975\", \"0.30674429975\", \"0.30674429975\", \"0.30674429975\", \"0.30674429975\", \"0.30674429975\", \"0.30674429975\", \"0.30674429975\"], \"z\": [\"20\", \"6\", \"3\", \"3\", \"20\", \"6\", \"17\", \"2\", \"4\"], \"type\": \"scatter3d\"}, {\"legendgroup\": \"cluster - 4\", \"name\": \"cluster - 4\", \"text\": [\"INFO  [2017-05-31 21:35:18,180] org.quartz.plugins.history.LoggingTriggerHistoryPlugin: Trigger DEFA<br>ULT.vJ3t7B6hTYyugnJ0JifqXA completed firing job vJ3t7B6hTYyugnJ0JifqXA.ARTIFACT_STREAM_CRON_GROUP at<br>  21:35:18 05/31/2017 with resulting trigger instruction code: DO NOTHING<br> id = 7<br> cluster = 4\", \"INFO  [2017-05-31 21:35:17,188] org.quartz.plugins.history.LoggingTriggerHistoryPlugin: Trigger DEFA<br>ULT.84DUAsWyStm1sg5ZXlMung completed firing job 84DUAsWyStm1sg5ZXlMung.ARTIFACT_STREAM_CRON_GROUP at<br>  21:35:17 05/31/2017 with resulting trigger instruction code: DO NOTHING<br> id = 12<br> cluster = 4\", \"INFO  [2017-05-31 21:35:08,729] org.quartz.plugins.history.LoggingTriggerHistoryPlugin: Trigger DEFA<br>ULT.D3H_QL6_Riqw6hHqkzR--A completed firing job D3H_QL6_Riqw6hHqkzR--A.ARTIFACT_STREAM_CRON_GROUP at<br>  21:35:08 05/31/2017 with resulting trigger instruction code: DO NOTHING<br> id = 18<br> cluster = 4\", \"INFO  [2017-05-31 21:35:08,340] org.quartz.plugins.history.LoggingTriggerHistoryPlugin: Trigger DEFA<br>ULT.AuG03-OeTsa1gx9m868dNw completed firing job AuG03-OeTsa1gx9m868dNw.SM_CLEANUP_CRON_GROUP at  21:<br>35:08 05/31/2017 with resulting trigger instruction code: DO NOTHING<br> id = 22<br> cluster = 4\", \"INFO  [2017-05-31 21:36:18,179] org.quartz.plugins.history.LoggingTriggerHistoryPlugin: Trigger DEFA<br>ULT.vJ3t7B6hTYyugnJ0JifqXA completed firing job vJ3t7B6hTYyugnJ0JifqXA.ARTIFACT_STREAM_CRON_GROUP at<br>  21:36:18 05/31/2017 with resulting trigger instruction code: DO NOTHING<br> id = 48<br> cluster = 4\", \"INFO  [2017-05-31 21:36:17,188] org.quartz.plugins.history.LoggingTriggerHistoryPlugin: Trigger DEFA<br>ULT.84DUAsWyStm1sg5ZXlMung completed firing job 84DUAsWyStm1sg5ZXlMung.ARTIFACT_STREAM_CRON_GROUP at<br>  21:36:17 05/31/2017 with resulting trigger instruction code: DO NOTHING<br> id = 52<br> cluster = 4\", \"INFO  [2017-05-31 21:36:08,729] org.quartz.plugins.history.LoggingTriggerHistoryPlugin: Trigger DEFA<br>ULT.D3H_QL6_Riqw6hHqkzR--A completed firing job D3H_QL6_Riqw6hHqkzR--A.ARTIFACT_STREAM_CRON_GROUP at<br>  21:36:08 05/31/2017 with resulting trigger instruction code: DO NOTHING<br> id = 58<br> cluster = 4\", \"INFO  [2017-05-31 21:36:08,340] org.quartz.plugins.history.LoggingTriggerHistoryPlugin: Trigger DEFA<br>ULT.AuG03-OeTsa1gx9m868dNw completed firing job AuG03-OeTsa1gx9m868dNw.SM_CLEANUP_CRON_GROUP at  21:<br>36:08 05/31/2017 with resulting trigger instruction code: DO NOTHING<br> id = 62<br> cluster = 4\"], \"marker\": {\"opacity\": 0.5, \"color\": \"blue\", \"size\": 6}, \"mode\": \"markers\", \"y\": [\"0.536820786762\", \"0.491387578615\", \"0.509410225426\", \"0.509410225426\", \"0.536820786762\", \"0.491387578615\", \"0.509410225426\", \"0.509410225426\"], \"x\": [\"-0.298151900654\", \"-0.369417095628\", \"-0.324433226255\", \"-0.324433226255\", \"-0.298151900654\", \"-0.369417095628\", \"-0.324433226255\", \"-0.324433226255\"], \"z\": [\"20\", \"3\", \"1\", \"5\", \"20\", \"3\", \"1\", \"5\"], \"type\": \"scatter3d\"}, {\"legendgroup\": \"cluster - 4\", \"name\": \"cluster - 4\", \"text\": [\"INFO  [2017-05-31 21:45:31,925] org.quartz.plugins.history.LoggingTriggerHistoryPlugin: Trigger DEFA<br>ULT.cMr2y3_5Q-qhVZHKSgtAww completed firing job cMr2y3_5Q-qhVZHKSgtAww.SM_CLEANUP_CRON_GROUP at  21:<br>45:31 05/31/2017 with resulting trigger instruction code: DO NOTHING<br> id = 84<br> cluster = 4\", \"INFO  [2017-05-31 21:45:17,189] org.quartz.plugins.history.LoggingTriggerHistoryPlugin: Trigger DEFA<br>ULT.84DUAsWyStm1sg5ZXlMung completed firing job 84DUAsWyStm1sg5ZXlMung.ARTIFACT_STREAM_CRON_GROUP at<br>  21:45:17 05/31/2017 with resulting trigger instruction code: DO NOTHING<br> id = 92<br> cluster = 4\", \"INFO  [2017-05-31 21:46:38,309] org.quartz.plugins.history.LoggingTriggerHistoryPlugin: Trigger DEFA<br>ULT.0dCbD2LCQ3uMm_RlVLMG2A completed firing job 0dCbD2LCQ3uMm_RlVLMG2A.SM_CLEANUP_CRON_GROUP at  21:<br>46:38 05/31/2017 with resulting trigger instruction code: DO NOTHING<br> id = 114<br> cluster = 4\", \"INFO  [2017-05-31 21:46:31,926] org.quartz.plugins.history.LoggingTriggerHistoryPlugin: Trigger DEFA<br>ULT.cMr2y3_5Q-qhVZHKSgtAww completed firing job cMr2y3_5Q-qhVZHKSgtAww.SM_CLEANUP_CRON_GROUP at  21:<br>46:31 05/31/2017 with resulting trigger instruction code: DO NOTHING<br> id = 123<br> cluster = 4\", \"INFO  [2017-05-31 21:47:24,814] org.quartz.plugins.history.LoggingTriggerHistoryPlugin: Trigger DEFA<br>ULT.qg1NzWlPRhK-6JwXye_1ug completed firing job qg1NzWlPRhK-6JwXye_1ug.ARTIFACT_STREAM_CRON_GROUP at<br>  21:47:24 05/31/2017 with resulting trigger instruction code: DO NOTHING<br> id = 150<br> cluster = 4\", \"INFO  [2017-05-31 21:47:17,188] org.quartz.plugins.history.LoggingTriggerHistoryPlugin: Trigger DEFA<br>ULT.84DUAsWyStm1sg5ZXlMung completed firing job 84DUAsWyStm1sg5ZXlMung.ARTIFACT_STREAM_CRON_GROUP at<br>  21:47:17 05/31/2017 with resulting trigger instruction code: DO NOTHING<br> id = 157<br> cluster = 4\", \"INFO  [2017-05-31 21:47:08,729] org.quartz.plugins.history.LoggingTriggerHistoryPlugin: Trigger DEFA<br>ULT.D3H_QL6_Riqw6hHqkzR--A completed firing job D3H_QL6_Riqw6hHqkzR--A.ARTIFACT_STREAM_CRON_GROUP at<br>  21:47:08 05/31/2017 with resulting trigger instruction code: DO NOTHING<br> id = 164<br> cluster = 4\"], \"marker\": {\"opacity\": 0.5, \"color\": \"orange\", \"size\": 7}, \"mode\": \"markers\", \"y\": [\"0.509410225426\", \"0.491387578615\", \"0.509410225426\", \"0.509410225426\", \"0.509410225426\", \"0.491387578615\", \"0.509410225426\"], \"x\": [\"-0.324433226255\", \"-0.369417095628\", \"-0.324433226255\", \"-0.324433226255\", \"-0.324433226255\", \"-0.369417095628\", \"-0.324433226255\"], \"z\": [\"5\", \"3\", \"3\", \"5\", \"17\", \"2\", \"1\"], \"type\": \"scatter3d\"}, {\"legendgroup\": \"cluster - 4\", \"name\": \"cluster - 4\", \"text\": [\"INFO  [2017-05-31 21:45:32,585] org.quartz.plugins.history.LoggingTriggerHistoryPlugin: Trigger DEFA<br>ULT.JGe5oLOLTyGP_qgqF1YW1A completed firing job JGe5oLOLTyGP_qgqF1YW1A.SM_CLEANUP_CRON_GROUP at  21:<br>45:32 05/31/2017 with resulting trigger instruction code: DO NOTHING<br> id = 79<br> cluster = 4\", \"INFO  [2017-05-31 21:45:08,729] org.quartz.plugins.history.LoggingTriggerHistoryPlugin: Trigger DEFA<br>ULT.D3H_QL6_Riqw6hHqkzR--A completed firing job D3H_QL6_Riqw6hHqkzR--A.ARTIFACT_STREAM_CRON_GROUP at<br>  21:45:08 05/31/2017 with resulting trigger instruction code: DO NOTHING<br> id = 96<br> cluster = 4\", \"INFO  [2017-05-31 21:46:32,584] org.quartz.plugins.history.LoggingTriggerHistoryPlugin: Trigger DEFA<br>ULT.JGe5oLOLTyGP_qgqF1YW1A completed firing job JGe5oLOLTyGP_qgqF1YW1A.SM_CLEANUP_CRON_GROUP at  21:<br>46:32 05/31/2017 with resulting trigger instruction code: DO NOTHING<br> id = 118<br> cluster = 4\", \"INFO  [2017-05-31 21:46:08,729] org.quartz.plugins.history.LoggingTriggerHistoryPlugin: Trigger DEFA<br>ULT.D3H_QL6_Riqw6hHqkzR--A completed firing job D3H_QL6_Riqw6hHqkzR--A.ARTIFACT_STREAM_CRON_GROUP at<br>  21:46:08 05/31/2017 with resulting trigger instruction code: DO NOTHING<br> id = 133<br> cluster = 4\", \"INFO  [2017-05-31 21:47:08,340] org.quartz.plugins.history.LoggingTriggerHistoryPlugin: Trigger DEFA<br>ULT.AuG03-OeTsa1gx9m868dNw completed firing job AuG03-OeTsa1gx9m868dNw.SM_CLEANUP_CRON_GROUP at  21:<br>47:08 05/31/2017 with resulting trigger instruction code: DO NOTHING<br> id = 168<br> cluster = 4\"], \"marker\": {\"opacity\": 0.5, \"color\": \"red\", \"size\": 8}, \"mode\": \"markers\", \"y\": [\"0.509410225426\", \"0.509410225426\", \"0.509410225426\", \"0.509410225426\", \"0.509410225426\"], \"x\": [\"-0.324433226255\", \"-0.324433226255\", \"-0.324433226255\", \"-0.324433226255\", \"-0.324433226255\"], \"z\": [\"20\", \"1\", \"20\", \"1\", \"3\"], \"type\": \"scatter3d\"}, {\"legendgroup\": \"cluster - 5\", \"name\": \"cluster - 5\", \"text\": [\"INFO  [2017-05-31 21:35:18,184] com.novemberain.quartz.mongodb.dao.LocksDao: Inserting lock for trig<br>ger DEFAULT.qg1NzWlPRhK-6JwXye_1ug<br> id = 2<br> cluster = 5\", \"INFO  [2017-05-31 21:35:18,182] com.novemberain.quartz.mongodb.dao.LocksDao: Trigger lock DEFAULT.vJ<br>3t7B6hTYyugnJ0JifqXA.NON_CLUSTERED removed.<br> id = 5<br> cluster = 5\", \"INFO  [2017-05-31 21:35:18,181] com.novemberain.quartz.mongodb.dao.LocksDao: Removing trigger lock D<br>EFAULT.vJ3t7B6hTYyugnJ0JifqXA.NON_CLUSTERED<br> id = 6<br> cluster = 5\", \"INFO  [2017-05-31 21:35:08,731] com.novemberain.quartz.mongodb.dao.LocksDao: Trigger lock DEFAULT.D3<br>H_QL6_Riqw6hHqkzR--A.NON_CLUSTERED removed.<br> id = 17<br> cluster = 5\", \"INFO  [2017-05-31 21:36:18,184] com.novemberain.quartz.mongodb.dao.LocksDao: Inserting lock for trig<br>ger DEFAULT.qg1NzWlPRhK-6JwXye_1ug<br> id = 43<br> cluster = 5\", \"INFO  [2017-05-31 21:36:18,181] com.novemberain.quartz.mongodb.dao.LocksDao: Trigger lock DEFAULT.vJ<br>3t7B6hTYyugnJ0JifqXA.NON_CLUSTERED removed.<br> id = 46<br> cluster = 5\", \"INFO  [2017-05-31 21:36:18,181] com.novemberain.quartz.mongodb.dao.LocksDao: Removing trigger lock D<br>EFAULT.vJ3t7B6hTYyugnJ0JifqXA.NON_CLUSTERED<br> id = 47<br> cluster = 5\", \"INFO  [2017-05-31 21:36:08,731] com.novemberain.quartz.mongodb.dao.LocksDao: Trigger lock DEFAULT.D3<br>H_QL6_Riqw6hHqkzR--A.NON_CLUSTERED removed.<br> id = 57<br> cluster = 5\"], \"marker\": {\"opacity\": 0.5, \"color\": \"blue\", \"size\": 6}, \"mode\": \"markers\", \"y\": [\"0.513079088552\", \"0.561703172657\", \"0.645784208878\", \"0.561703172657\", \"0.513077981398\", \"0.561703172657\", \"0.645784208878\", \"0.561703172657\"], \"x\": [\"0.31404417974\", \"0.226278194046\", \"0.163995931672\", \"0.226278194046\", \"0.3140439955\", \"0.226278194046\", \"0.163995931672\", \"0.226278194046\"], \"z\": [\"29\", \"23\", \"29\", \"6\", \"29\", \"23\", \"29\", \"6\"], \"type\": \"scatter3d\"}, {\"legendgroup\": \"cluster - 5\", \"name\": \"cluster - 5\", \"text\": [\"INFO  [2017-05-31 21:45:32,587] com.novemberain.quartz.mongodb.dao.LocksDao: Trigger lock DEFAULT.JG<br>e5oLOLTyGP_qgqF1YW1A.NON_CLUSTERED removed.<br> id = 77<br> cluster = 5\", \"INFO  [2017-05-31 21:45:31,927] com.novemberain.quartz.mongodb.dao.LocksDao: Trigger lock DEFAULT.cM<br>r2y3_5Q-qhVZHKSgtAww.NON_CLUSTERED removed.<br> id = 83<br> cluster = 5\", \"INFO  [2017-05-31 21:46:38,311] com.novemberain.quartz.mongodb.dao.LocksDao: Trigger lock DEFAULT.0d<br>CbD2LCQ3uMm_RlVLMG2A.NON_CLUSTERED removed.<br> id = 112<br> cluster = 5\", \"INFO  [2017-05-31 21:46:38,310] com.novemberain.quartz.mongodb.dao.LocksDao: Removing trigger lock D<br>EFAULT.0dCbD2LCQ3uMm_RlVLMG2A.NON_CLUSTERED<br> id = 113<br> cluster = 5\", \"INFO  [2017-05-31 21:46:31,928] com.novemberain.quartz.mongodb.dao.LocksDao: Trigger lock DEFAULT.cM<br>r2y3_5Q-qhVZHKSgtAww.NON_CLUSTERED removed.<br> id = 122<br> cluster = 5\", \"INFO  [2017-05-31 21:47:24,816] com.novemberain.quartz.mongodb.dao.LocksDao: Trigger lock DEFAULT.qg<br>1NzWlPRhK-6JwXye_1ug.NON_CLUSTERED removed.<br> id = 148<br> cluster = 5\", \"INFO  [2017-05-31 21:47:24,815] com.novemberain.quartz.mongodb.dao.LocksDao: Removing trigger lock D<br>EFAULT.qg1NzWlPRhK-6JwXye_1ug.NON_CLUSTERED<br> id = 149<br> cluster = 5\", \"INFO  [2017-05-31 21:47:08,731] com.novemberain.quartz.mongodb.dao.LocksDao: Trigger lock DEFAULT.D3<br>H_QL6_Riqw6hHqkzR--A.NON_CLUSTERED removed.<br> id = 163<br> cluster = 5\"], \"marker\": {\"opacity\": 0.5, \"color\": \"orange\", \"size\": 7}, \"mode\": \"markers\", \"y\": [\"0.561703172657\", \"0.561703172657\", \"0.561703172657\", \"0.645784208878\", \"0.561703172657\", \"0.561703172657\", \"0.645784208878\", \"0.561703172657\"], \"x\": [\"0.226278194046\", \"0.226278194046\", \"0.226278194046\", \"0.163995931672\", \"0.226278194046\", \"0.226278194046\", \"0.163995931672\", \"0.226278194046\"], \"z\": [\"23\", \"6\", \"23\", \"29\", \"6\", \"19\", \"23\", \"4\"], \"type\": \"scatter3d\"}, {\"legendgroup\": \"cluster - 5\", \"name\": \"cluster - 5\", \"text\": [\"INFO  [2017-05-31 21:45:32,589] com.novemberain.quartz.mongodb.dao.LocksDao: Inserting lock for trig<br>ger DEFAULT.0dCbD2LCQ3uMm_RlVLMG2A<br> id = 75<br> cluster = 5\", \"INFO  [2017-05-31 21:45:32,586] com.novemberain.quartz.mongodb.dao.LocksDao: Removing trigger lock D<br>EFAULT.JGe5oLOLTyGP_qgqF1YW1A.NON_CLUSTERED<br> id = 78<br> cluster = 5\", \"INFO  [2017-05-31 21:46:38,313] com.novemberain.quartz.mongodb.dao.LocksDao: Inserting lock for trig<br>ger DEFAULT.SFmGy4xrRpad9Mql-fTqlg<br> id = 110<br> cluster = 5\", \"INFO  [2017-05-31 21:47:24,818] com.novemberain.quartz.mongodb.dao.LocksDao: Inserting lock for trig<br>ger DEFAULT.zrYxDJ8ASo658RtE7UhNug<br> id = 146<br> cluster = 5\"], \"marker\": {\"opacity\": 0.5, \"color\": \"red\", \"size\": 8}, \"mode\": \"markers\", \"y\": [\"0.513077981398\", \"0.645784208878\", \"0.513079088552\", \"0.51154612074\"], \"x\": [\"0.3140439955\", \"0.163995931672\", \"0.31404417974\", \"0.357147654007\"], \"z\": [\"29\", \"29\", \"29\", \"23\"], \"type\": \"scatter3d\"}, {\"legendgroup\": \"cluster - 6\", \"name\": \"cluster - 6\", \"text\": [\"INFO  [2017-05-31 21:35:18,038] software.wings.service.impl.DelegateServiceImpl: registering delegat<br>e: Delegate{accountId='kmpySmUISimoRrJL6NL73w', status=ENABLED, connected=true, ip='172.31.51.78', h<br>ostName='ip-172-31-51-78', lastHeartBeat=1496266518037, version='1.0.10', supportedTaskTypes=[HTTP, <br>SPLUNK, APP_DYNAMICS, JENKINS, JENKINS_COLLECTION, BAMBOO_COLLECTION, COMMAND, JENKINS_GET_BUILDS, J<br>ENKINS_GET_JOBS, JENKINS_GET_ARTIFACT_PATHS, JENKINS_LAST_SUCCESSFUL_BUILD, JENKINS_GET_PLANS, JENKI<br>NS_VALIDATE_ARTIFACT_SERVER, BAMBOO_GET_BUILDS, BAMBOO_GET_JOBS, BAMBOO_GET_ARTIFACT_PATHS, BAMBOO_L<br>AST_SUCCESSFUL_BUILD, BAMBOO_GET_PLANS, BAMBOO_VALIDATE_ARTIFACT_SERVER, DOCKER_GET_BUILDS, DOCKER_V<br>ALIDATE_ARTIFACT_SERVER, DOCKER_VALIDATE_ARTIFACT_STREAM, NEXUS_GET_JOBS, NEXUS_GET_PLANS, NEXUS_GET<br>_ARTIFACT_PATHS, NEXUS_GET_GROUP_IDS, NEXUS_GET_ARTIFACT_NAMES, NEXUS_GET_BUILDS, NEXUS_LAST_SUCCESS<br>FUL_BUILD, NEXUS_COLLECTION, NEXUS_VALIDATE_ARTIFACT_SERVER, APPDYNAMICS_CONFIGURATION_VALIDATE_TASK<br> id = 11<br> cluster = 6\", \"INFO  [2017-05-31 21:36:19,600] software.wings.service.impl.DelegateServiceImpl: registering delegat<br>e: Delegate{accountId='kmpySmUISimoRrJL6NL73w', status=ENABLED, connected=true, ip='172.31.51.78', h<br>ostName='ip-172-31-51-78', lastHeartBeat=1496266578037, version='1.0.10', supportedTaskTypes=[HTTP, <br>SPLUNK, APP_DYNAMICS, JENKINS, JENKINS_COLLECTION, BAMBOO_COLLECTION, COMMAND, JENKINS_GET_BUILDS, J<br>ENKINS_GET_JOBS, JENKINS_GET_ARTIFACT_PATHS, JENKINS_LAST_SUCCESSFUL_BUILD, JENKINS_GET_PLANS, JENKI<br>NS_VALIDATE_ARTIFACT_SERVER, BAMBOO_GET_BUILDS, BAMBOO_GET_JOBS, BAMBOO_GET_ARTIFACT_PATHS, BAMBOO_L<br>AST_SUCCESSFUL_BUILD, BAMBOO_GET_PLANS, BAMBOO_VALIDATE_ARTIFACT_SERVER, DOCKER_GET_BUILDS, DOCKER_V<br>ALIDATE_ARTIFACT_SERVER, DOCKER_VALIDATE_ARTIFACT_STREAM, NEXUS_GET_JOBS, NEXUS_GET_PLANS, NEXUS_GET<br>_ARTIFACT_PATHS, NEXUS_GET_GROUP_IDS, NEXUS_GET_ARTIFACT_NAMES, NEXUS_GET_BUILDS, NEXUS_LAST_SUCCESS<br>FUL_BUILD, NEXUS_COLLECTION, NEXUS_VALIDATE_ARTIFACT_SERVER, APPDYNAMICS_CONFIGURATION_VALIDATE_TASK<br> id = 41<br> cluster = 6\"], \"marker\": {\"opacity\": 0.5, \"color\": \"blue\", \"size\": 6}, \"mode\": \"markers\", \"y\": [\"0.190920128156\", \"0.190920128156\"], \"x\": [\"0.747054768239\", \"0.747054768239\"], \"z\": [\"2\", \"1\"], \"type\": \"scatter3d\"}, {\"legendgroup\": \"cluster - 6\", \"name\": \"cluster - 6\", \"text\": [\"INFO  [2017-05-31 21:45:18,038] software.wings.service.impl.DelegateServiceImpl: registering delegat<br>e: Delegate{accountId='kmpySmUISimoRrJL6NL73w', status=ENABLED, connected=true, ip='172.31.51.78', h<br>ostName='ip-172-31-51-78', lastHeartBeat=1496267118037, version='1.0.10', supportedTaskTypes=[HTTP, <br>SPLUNK, APP_DYNAMICS, JENKINS, JENKINS_COLLECTION, BAMBOO_COLLECTION, COMMAND, JENKINS_GET_BUILDS, J<br>ENKINS_GET_JOBS, JENKINS_GET_ARTIFACT_PATHS, JENKINS_LAST_SUCCESSFUL_BUILD, JENKINS_GET_PLANS, JENKI<br>NS_VALIDATE_ARTIFACT_SERVER, BAMBOO_GET_BUILDS, BAMBOO_GET_JOBS, BAMBOO_GET_ARTIFACT_PATHS, BAMBOO_L<br>AST_SUCCESSFUL_BUILD, BAMBOO_GET_PLANS, BAMBOO_VALIDATE_ARTIFACT_SERVER, DOCKER_GET_BUILDS, DOCKER_V<br>ALIDATE_ARTIFACT_SERVER, DOCKER_VALIDATE_ARTIFACT_STREAM, NEXUS_GET_JOBS, NEXUS_GET_PLANS, NEXUS_GET<br>_ARTIFACT_PATHS, NEXUS_GET_GROUP_IDS, NEXUS_GET_ARTIFACT_NAMES, NEXUS_GET_BUILDS, NEXUS_LAST_SUCCESS<br>FUL_BUILD, NEXUS_COLLECTION, NEXUS_VALIDATE_ARTIFACT_SERVER, APPDYNAMICS_CONFIGURATION_VALIDATE_TASK<br> id = 91<br> cluster = 6\", \"INFO  [2017-05-31 21:47:18,038] software.wings.service.impl.DelegateServiceImpl: registering delegat<br>e: Delegate{accountId='kmpySmUISimoRrJL6NL73w', status=ENABLED, connected=true, ip='172.31.51.78', h<br>ostName='ip-172-31-51-78', lastHeartBeat=1496267238037, version='1.0.10', supportedTaskTypes=[HTTP, <br>SPLUNK, APP_DYNAMICS, JENKINS, JENKINS_COLLECTION, BAMBOO_COLLECTION, COMMAND, JENKINS_GET_BUILDS, J<br>ENKINS_GET_JOBS, JENKINS_GET_ARTIFACT_PATHS, JENKINS_LAST_SUCCESSFUL_BUILD, JENKINS_GET_PLANS, JENKI<br>NS_VALIDATE_ARTIFACT_SERVER, BAMBOO_GET_BUILDS, BAMBOO_GET_JOBS, BAMBOO_GET_ARTIFACT_PATHS, BAMBOO_L<br>AST_SUCCESSFUL_BUILD, BAMBOO_GET_PLANS, BAMBOO_VALIDATE_ARTIFACT_SERVER, DOCKER_GET_BUILDS, DOCKER_V<br>ALIDATE_ARTIFACT_SERVER, DOCKER_VALIDATE_ARTIFACT_STREAM, NEXUS_GET_JOBS, NEXUS_GET_PLANS, NEXUS_GET<br>_ARTIFACT_PATHS, NEXUS_GET_GROUP_IDS, NEXUS_GET_ARTIFACT_NAMES, NEXUS_GET_BUILDS, NEXUS_LAST_SUCCESS<br>FUL_BUILD, NEXUS_COLLECTION, NEXUS_VALIDATE_ARTIFACT_SERVER, APPDYNAMICS_CONFIGURATION_VALIDATE_TASK<br> id = 156<br> cluster = 6\"], \"marker\": {\"opacity\": 0.5, \"color\": \"orange\", \"size\": 7}, \"mode\": \"markers\", \"y\": [\"0.190920128156\", \"0.190920128156\"], \"x\": [\"0.747054768239\", \"0.747054768239\"], \"z\": [\"1\", \"1\"], \"type\": \"scatter3d\"}, {\"legendgroup\": \"cluster - 6\", \"name\": \"cluster - 6\", \"text\": [\"INFO  [2017-05-31 21:46:18,038] software.wings.service.impl.DelegateServiceImpl: registering delegat<br>e: Delegate{accountId='kmpySmUISimoRrJL6NL73w', status=ENABLED, connected=true, ip='172.31.51.78', h<br>ostName='ip-172-31-51-78', lastHeartBeat=1496267178037, version='1.0.10', supportedTaskTypes=[HTTP, <br>SPLUNK, APP_DYNAMICS, JENKINS, JENKINS_COLLECTION, BAMBOO_COLLECTION, COMMAND, JENKINS_GET_BUILDS, J<br>ENKINS_GET_JOBS, JENKINS_GET_ARTIFACT_PATHS, JENKINS_LAST_SUCCESSFUL_BUILD, JENKINS_GET_PLANS, JENKI<br>NS_VALIDATE_ARTIFACT_SERVER, BAMBOO_GET_BUILDS, BAMBOO_GET_JOBS, BAMBOO_GET_ARTIFACT_PATHS, BAMBOO_L<br>AST_SUCCESSFUL_BUILD, BAMBOO_GET_PLANS, BAMBOO_VALIDATE_ARTIFACT_SERVER, DOCKER_GET_BUILDS, DOCKER_V<br>ALIDATE_ARTIFACT_SERVER, DOCKER_VALIDATE_ARTIFACT_STREAM, NEXUS_GET_JOBS, NEXUS_GET_PLANS, NEXUS_GET<br>_ARTIFACT_PATHS, NEXUS_GET_GROUP_IDS, NEXUS_GET_ARTIFACT_NAMES, NEXUS_GET_BUILDS, NEXUS_LAST_SUCCESS<br>FUL_BUILD, NEXUS_COLLECTION, NEXUS_VALIDATE_ARTIFACT_SERVER, APPDYNAMICS_CONFIGURATION_VALIDATE_TASK<br> id = 130<br> cluster = 6\"], \"marker\": {\"opacity\": 0.5, \"color\": \"red\", \"size\": 8}, \"mode\": \"markers\", \"y\": [\"0.190920128156\"], \"x\": [\"0.747054768239\"], \"z\": [\"1\"], \"type\": \"scatter3d\"}, {\"legendgroup\": \"cluster - 7\", \"name\": \"cluster - 7\", \"text\": [\"WARN  [2017-05-31 21:34:54,590] software.wings.waitnotify.Notifier: No entry in the waitQueue found <br>for the correlationIds: [kaG4hDwsRKGmNSEMH3MMgQ, 0UrlPx9sQeKA8pxVYP-AZA, hsbXDjzWTCWFfojREmmvSQ, hSp<br>55cwERwmz5ujaZsfwHQ, nJ3D48oOR-23j2MNYg1jHg, EoXOwhUZSjCgev5cHT6kTA, PYIm79AoRoif3R54ioxAGQ, WH9DCdn<br>xTt62b2MxgnBcqg, IYpXXgyJRGaKsXwF0n4a2A, hxzQPR1EQ5uIJW8LA1eDdQ, UmxbtjIWRuqo_aPJ0P4LDQ, 4xrEUEZ2Sgy<br>jypHGYbDRWQ, n01fA-jeSmaT3sbKtZeJzQ, x6fH5SIwQFq0YvC4p7q5_w, 7w0hvNANSW2AggOMn9w2VA, uM5q5HwSRUupJGl<br>Ed6AeTQ, kdS593IUSue4F68ne-P9ag, Ielw1FmMTRidCW6x4d32Vw, f67p97lWQ3CBqDhqCdYeVw, MMq8fSgVRgOls-jD--p<br>WdA, e0H1_6lfRk2_HJUrBJrBtg, tywf4xRhTemM7wc29BcaOw, Q4T-ZCukTmGmISoz-AQJLQ, 2zzAawdaTiumWRfU5PHcBQ,<br> EZSU2TmYRYegZ0YA_2WVnQ, 8xEYjmenTmi-eu8nmHC6rQ, 0Mws3BToTj64MPAxHShjBw, zy4600e0QZ6P6QIv21PIkg, 32O<br>m2QDqSIqvaQCAJYcHfQ, UYd9BQztRwGwegq1rFWKjw, R_Pzz35_Sw6sxpXUQGGOGw, zN8PfdYYQneISSbW9gojhg, YDwjc5t<br>QS6ynOvWaJgbwmg, Ez-HkRjITUO2aeRxfOABGQ, gyoKLsf0STCB-fTUxBDf-g, 0fKMcZEYSJmWhykY71FH4g, tvmhP5EPTbK<br> id = 29<br> cluster = 7\", \"WARN  [2017-05-31 21:35:54,623] software.wings.waitnotify.Notifier: No entry in the waitQueue found <br>for the correlationIds: [kaG4hDwsRKGmNSEMH3MMgQ, 0UrlPx9sQeKA8pxVYP-AZA, hsbXDjzWTCWFfojREmmvSQ, hSp<br>55cwERwmz5ujaZsfwHQ, nJ3D48oOR-23j2MNYg1jHg, EoXOwhUZSjCgev5cHT6kTA, PYIm79AoRoif3R54ioxAGQ, WH9DCdn<br>xTt62b2MxgnBcqg, IYpXXgyJRGaKsXwF0n4a2A, hxzQPR1EQ5uIJW8LA1eDdQ, UmxbtjIWRuqo_aPJ0P4LDQ, 4xrEUEZ2Sgy<br>jypHGYbDRWQ, n01fA-jeSmaT3sbKtZeJzQ, x6fH5SIwQFq0YvC4p7q5_w, 7w0hvNANSW2AggOMn9w2VA, uM5q5HwSRUupJGl<br>Ed6AeTQ, kdS593IUSue4F68ne-P9ag, Ielw1FmMTRidCW6x4d32Vw, f67p97lWQ3CBqDhqCdYeVw, MMq8fSgVRgOls-jD--p<br>WdA, e0H1_6lfRk2_HJUrBJrBtg, tywf4xRhTemM7wc29BcaOw, Q4T-ZCukTmGmISoz-AQJLQ, 2zzAawdaTiumWRfU5PHcBQ,<br> EZSU2TmYRYegZ0YA_2WVnQ, 8xEYjmenTmi-eu8nmHC6rQ, 0Mws3BToTj64MPAxHShjBw, zy4600e0QZ6P6QIv21PIkg, 32O<br>m2QDqSIqvaQCAJYcHfQ, UYd9BQztRwGwegq1rFWKjw, R_Pzz35_Sw6sxpXUQGGOGw, zN8PfdYYQneISSbW9gojhg, YDwjc5t<br>QS6ynOvWaJgbwmg, Ez-HkRjITUO2aeRxfOABGQ, gyoKLsf0STCB-fTUxBDf-g, 0fKMcZEYSJmWhykY71FH4g, tvmhP5EPTbK<br> id = 69<br> cluster = 7\"], \"marker\": {\"opacity\": 0.5, \"color\": \"blue\", \"size\": 6}, \"mode\": \"markers\", \"y\": [\"-0.85131970793\", \"-0.85131970793\"], \"x\": [\"-0.0802719400314\", \"-0.0802719400305\"], \"z\": [\"2\", \"2\"], \"type\": \"scatter3d\"}, {\"legendgroup\": \"cluster - 7\", \"name\": \"cluster - 7\", \"text\": [\"WARN  [2017-05-31 21:45:24,942] software.wings.waitnotify.Notifier: No entry in the waitQueue found <br>for the correlationIds: [kaG4hDwsRKGmNSEMH3MMgQ, 0UrlPx9sQeKA8pxVYP-AZA, hsbXDjzWTCWFfojREmmvSQ, hSp<br>55cwERwmz5ujaZsfwHQ, nJ3D48oOR-23j2MNYg1jHg, EoXOwhUZSjCgev5cHT6kTA, PYIm79AoRoif3R54ioxAGQ, WH9DCdn<br>xTt62b2MxgnBcqg, IYpXXgyJRGaKsXwF0n4a2A, hxzQPR1EQ5uIJW8LA1eDdQ, UmxbtjIWRuqo_aPJ0P4LDQ, 4xrEUEZ2Sgy<br>jypHGYbDRWQ, n01fA-jeSmaT3sbKtZeJzQ, x6fH5SIwQFq0YvC4p7q5_w, 7w0hvNANSW2AggOMn9w2VA, uM5q5HwSRUupJGl<br>Ed6AeTQ, kdS593IUSue4F68ne-P9ag, Ielw1FmMTRidCW6x4d32Vw, f67p97lWQ3CBqDhqCdYeVw, MMq8fSgVRgOls-jD--p<br>WdA, e0H1_6lfRk2_HJUrBJrBtg, tywf4xRhTemM7wc29BcaOw, Q4T-ZCukTmGmISoz-AQJLQ, 2zzAawdaTiumWRfU5PHcBQ,<br> EZSU2TmYRYegZ0YA_2WVnQ, 8xEYjmenTmi-eu8nmHC6rQ, 0Mws3BToTj64MPAxHShjBw, zy4600e0QZ6P6QIv21PIkg, 32O<br>m2QDqSIqvaQCAJYcHfQ, UYd9BQztRwGwegq1rFWKjw, R_Pzz35_Sw6sxpXUQGGOGw, zN8PfdYYQneISSbW9gojhg, YDwjc5t<br>QS6ynOvWaJgbwmg, Ez-HkRjITUO2aeRxfOABGQ, gyoKLsf0STCB-fTUxBDf-g, 0fKMcZEYSJmWhykY71FH4g, tvmhP5EPTbK<br> id = 90<br> cluster = 7\", \"WARN  [2017-05-31 21:46:24,975] software.wings.waitnotify.Notifier: No entry in the waitQueue found <br>for the correlationIds: [kaG4hDwsRKGmNSEMH3MMgQ, 0UrlPx9sQeKA8pxVYP-AZA, hsbXDjzWTCWFfojREmmvSQ, hSp<br>55cwERwmz5ujaZsfwHQ, nJ3D48oOR-23j2MNYg1jHg, EoXOwhUZSjCgev5cHT6kTA, PYIm79AoRoif3R54ioxAGQ, WH9DCdn<br>xTt62b2MxgnBcqg, IYpXXgyJRGaKsXwF0n4a2A, hxzQPR1EQ5uIJW8LA1eDdQ, UmxbtjIWRuqo_aPJ0P4LDQ, 4xrEUEZ2Sgy<br>jypHGYbDRWQ, n01fA-jeSmaT3sbKtZeJzQ, x6fH5SIwQFq0YvC4p7q5_w, 7w0hvNANSW2AggOMn9w2VA, uM5q5HwSRUupJGl<br>Ed6AeTQ, kdS593IUSue4F68ne-P9ag, Ielw1FmMTRidCW6x4d32Vw, f67p97lWQ3CBqDhqCdYeVw, MMq8fSgVRgOls-jD--p<br>WdA, e0H1_6lfRk2_HJUrBJrBtg, tywf4xRhTemM7wc29BcaOw, Q4T-ZCukTmGmISoz-AQJLQ, 2zzAawdaTiumWRfU5PHcBQ,<br> EZSU2TmYRYegZ0YA_2WVnQ, 8xEYjmenTmi-eu8nmHC6rQ, 0Mws3BToTj64MPAxHShjBw, zy4600e0QZ6P6QIv21PIkg, 32O<br>m2QDqSIqvaQCAJYcHfQ, UYd9BQztRwGwegq1rFWKjw, R_Pzz35_Sw6sxpXUQGGOGw, zN8PfdYYQneISSbW9gojhg, YDwjc5t<br>QS6ynOvWaJgbwmg, Ez-HkRjITUO2aeRxfOABGQ, gyoKLsf0STCB-fTUxBDf-g, 0fKMcZEYSJmWhykY71FH4g, tvmhP5EPTbK<br> id = 129<br> cluster = 7\", \"WARN  [2017-05-31 21:47:25,007] software.wings.waitnotify.Notifier: No entry in the waitQueue found <br>for the correlationIds: [kaG4hDwsRKGmNSEMH3MMgQ, 0UrlPx9sQeKA8pxVYP-AZA, hsbXDjzWTCWFfojREmmvSQ, hSp<br>55cwERwmz5ujaZsfwHQ, nJ3D48oOR-23j2MNYg1jHg, EoXOwhUZSjCgev5cHT6kTA, PYIm79AoRoif3R54ioxAGQ, WH9DCdn<br>xTt62b2MxgnBcqg, IYpXXgyJRGaKsXwF0n4a2A, hxzQPR1EQ5uIJW8LA1eDdQ, UmxbtjIWRuqo_aPJ0P4LDQ, 4xrEUEZ2Sgy<br>jypHGYbDRWQ, n01fA-jeSmaT3sbKtZeJzQ, x6fH5SIwQFq0YvC4p7q5_w, 7w0hvNANSW2AggOMn9w2VA, uM5q5HwSRUupJGl<br>Ed6AeTQ, kdS593IUSue4F68ne-P9ag, Ielw1FmMTRidCW6x4d32Vw, f67p97lWQ3CBqDhqCdYeVw, MMq8fSgVRgOls-jD--p<br>WdA, e0H1_6lfRk2_HJUrBJrBtg, tywf4xRhTemM7wc29BcaOw, Q4T-ZCukTmGmISoz-AQJLQ, 2zzAawdaTiumWRfU5PHcBQ,<br> EZSU2TmYRYegZ0YA_2WVnQ, 8xEYjmenTmi-eu8nmHC6rQ, 0Mws3BToTj64MPAxHShjBw, zy4600e0QZ6P6QIv21PIkg, 32O<br>m2QDqSIqvaQCAJYcHfQ, UYd9BQztRwGwegq1rFWKjw, R_Pzz35_Sw6sxpXUQGGOGw, zN8PfdYYQneISSbW9gojhg, YDwjc5t<br>QS6ynOvWaJgbwmg, Ez-HkRjITUO2aeRxfOABGQ, gyoKLsf0STCB-fTUxBDf-g, 0fKMcZEYSJmWhykY71FH4g, tvmhP5EPTbK<br> id = 144<br> cluster = 7\"], \"marker\": {\"opacity\": 0.5, \"color\": \"red\", \"size\": 8}, \"mode\": \"markers\", \"y\": [\"-0.851319707932\", \"-0.851319707929\", \"0.267214765638\"], \"x\": [\"-0.0802719399444\", \"-0.0802719400412\", \"0.697195266201\"], \"z\": [\"2\", \"2\", \"2\"], \"type\": \"scatter3d\"}, {\"legendgroup\": \"cluster - 8\", \"name\": \"cluster - 8\", \"text\": [\"INFO  [2017-05-31 21:34:29,942] software.wings.app.DelegateQueueTask: Broadcast queued sync task [ld<br>gb6-rBSbmK1Gdb5FSDLQ, null, QUEUED]<br> id = 34<br> cluster = 8\", \"INFO  [2017-05-31 21:34:29,941] software.wings.app.DelegateQueueTask: Broadcast queued sync task [ox<br>yvKQ8lQR24IkQN778Ljw, null, QUEUED]<br> id = 35<br> cluster = 8\", \"INFO  [2017-05-31 21:34:29,941] software.wings.app.DelegateQueueTask: Broadcast queued sync task [Zd<br>Z-c4CRQWGuufUP-SjpUA, null, QUEUED]<br> id = 36<br> cluster = 8\", \"INFO  [2017-05-31 21:34:29,939] software.wings.app.DelegateQueueTask: Broadcast queued sync task [96<br>FLHYp5TsaWQN6WEHCpkg, null, QUEUED]<br> id = 37<br> cluster = 8\"], \"marker\": {\"opacity\": 0.5, \"color\": \"blue\", \"size\": 6}, \"mode\": \"markers\", \"y\": [\"-0.0681120082237\", \"-0.0585344503326\", \"-0.0681120082237\", \"-0.0654573818999\"], \"x\": [\"0.717328896172\", \"0.733610438431\", \"0.717328896172\", \"0.730972870992\"], \"z\": [\"4\", \"13\", \"2\", \"6\"], \"type\": \"scatter3d\"}, {\"legendgroup\": \"cluster - 9\", \"name\": \"cluster - 9\", \"text\": [\"INFO  [2017-05-31 21:35:18,183] com.novemberain.quartz.mongodb.dao.TriggerDao: Found 2 triggers whic<br>h are eligible to be run.<br> id = 3<br> cluster = 9\", \"INFO  [2017-05-31 21:36:18,182] com.novemberain.quartz.mongodb.dao.TriggerDao: Found 2 triggers whic<br>h are eligible to be run.<br> id = 44<br> cluster = 9\"], \"marker\": {\"opacity\": 0.5, \"color\": \"blue\", \"size\": 6}, \"mode\": \"markers\", \"y\": [\"0.444466167471\", \"0.444466173002\"], \"x\": [\"0.625270563183\", \"0.625270560989\"], \"z\": [\"29\", \"29\"], \"type\": \"scatter3d\"}, {\"legendgroup\": \"cluster - 9\", \"name\": \"cluster - 9\", \"text\": [\"INFO  [2017-05-31 21:45:32,588] com.novemberain.quartz.mongodb.dao.TriggerDao: Found 2 triggers whic<br>h are eligible to be run.<br> id = 76<br> cluster = 9\", \"INFO  [2017-05-31 21:46:38,311] com.novemberain.quartz.mongodb.dao.TriggerDao: Found 2 triggers whic<br>h are eligible to be run.<br> id = 111<br> cluster = 9\", \"INFO  [2017-05-31 21:47:24,817] com.novemberain.quartz.mongodb.dao.TriggerDao: Found 4 triggers whic<br>h are eligible to be run.<br> id = 147<br> cluster = 9\"], \"marker\": {\"opacity\": 0.5, \"color\": \"orange\", \"size\": 7}, \"mode\": \"markers\", \"y\": [\"0.444466167471\", \"0.444466173002\", \"0.444466167471\"], \"x\": [\"0.625270563183\", \"0.625270560989\", \"0.625270563183\"], \"z\": [\"29\", \"29\", \"23\"], \"type\": \"scatter3d\"}, {\"legendgroup\": \"cluster - 10\", \"name\": \"cluster - 10\", \"text\": [\"2017-05-31 21:36:19:690 [AsyncAppender-Worker-async-syslog-accesslogs-appender] com.cloudbees.syslog<br>.sender.TcpSyslogMessageSender - INFO: InetAddress of the Syslog Server have changed, create a new c<br>onnection. Before=syslog-a.logdna.com/40.71.95.146, new=syslog-a.logdna.com/40.114.45.243<br> id = 39<br> cluster = 10\", \"2017-05-31 21:36:19:690 [AsyncAppender-Worker-async-rsyslog-tcp-ssl-appender] com.cloudbees.syslog.s<br>ender.TcpSyslogMessageSender - INFO: InetAddress of the Syslog Server have changed, create a new con<br>nection. Before=syslog-a.logdna.com/40.71.95.146, new=syslog-a.logdna.com/40.114.45.243<br> id = 40<br> cluster = 10\"], \"marker\": {\"opacity\": 0.5, \"color\": \"blue\", \"size\": 6}, \"mode\": \"markers\", \"y\": [\"-0.25142874209\", \"-0.251428742058\"], \"x\": [\"0.698719625624\", \"0.698719625631\"], \"z\": [\"1\", \"1\"], \"type\": \"scatter3d\"}, {\"legendgroup\": \"cluster - 10\", \"name\": \"cluster - 10\", \"text\": [\"2017-05-31 21:46:09:151 [AsyncAppender-Worker-async-syslog-accesslogs-appender] com.cloudbees.syslog<br>.sender.TcpSyslogMessageSender - INFO: InetAddress of the Syslog Server have changed, create a new c<br>onnection. Before=syslog-a.logdna.com/40.114.45.243, new=syslog-a.logdna.com/40.114.41.103<br> id = 132<br> cluster = 10\", \"2017-05-31 21:47:14:191 [AsyncAppender-Worker-async-syslog-accesslogs-appender] com.cloudbees.syslog<br>.sender.TcpSyslogMessageSender - INFO: InetAddress of the Syslog Server have changed, create a new c<br>onnection. Before=syslog-a.logdna.com/40.114.41.103, new=syslog-a.logdna.com/40.114.40.67<br> id = 161<br> cluster = 10\"], \"marker\": {\"opacity\": 0.5, \"color\": \"orange\", \"size\": 7}, \"mode\": \"markers\", \"y\": [\"-0.25142874209\", \"-0.251428742058\"], \"x\": [\"0.698719625624\", \"0.698719625631\"], \"z\": [\"1\", \"1\"], \"type\": \"scatter3d\"}, {\"legendgroup\": \"cluster - 10\", \"name\": \"cluster - 10\", \"text\": [\"2017-05-31 21:45:08:338 [AsyncAppender-Worker-async-rsyslog-tcp-ssl-appender] com.cloudbees.syslog.s<br>ender.TcpSyslogMessageSender - INFO: InetAddress of the Syslog Server have changed, create a new con<br>nection. Before=syslog-a.logdna.com/40.114.41.103, new=syslog-a.logdna.com/40.114.45.243<br> id = 99<br> cluster = 10\", \"2017-05-31 21:45:05:247 [AsyncAppender-Worker-async-syslog-accesslogs-appender] com.cloudbees.syslog<br>.sender.TcpSyslogMessageSender - INFO: InetAddress of the Syslog Server have changed, create a new c<br>onnection. Before=syslog-a.logdna.com/40.114.41.103, new=syslog-a.logdna.com/40.114.45.243<br> id = 102<br> cluster = 10\", \"2017-05-31 21:46:13:679 [AsyncAppender-Worker-async-rsyslog-tcp-ssl-appender] com.cloudbees.syslog.s<br>ender.TcpSyslogMessageSender - INFO: InetAddress of the Syslog Server have changed, create a new con<br>nection. Before=syslog-a.logdna.com/40.114.45.243, new=syslog-a.logdna.com/40.114.41.103<br> id = 131<br> cluster = 10\", \"2017-05-31 21:47:24:814 [AsyncAppender-Worker-async-rsyslog-tcp-ssl-appender] com.cloudbees.syslog.s<br>ender.TcpSyslogMessageSender - INFO: InetAddress of the Syslog Server have changed, create a new con<br>nection. Before=syslog-a.logdna.com/40.114.41.103, new=syslog-a.logdna.com/40.114.40.67<br> id = 152<br> cluster = 10\"], \"marker\": {\"opacity\": 0.5, \"color\": \"red\", \"size\": 8}, \"mode\": \"markers\", \"y\": [\"-0.251428742058\", \"-0.25142874209\", \"-0.251428742058\", \"-0.25142874209\"], \"x\": [\"0.698719625631\", \"0.698719625624\", \"0.698719625631\", \"0.698719625624\"], \"z\": [\"2\", \"1\", \"1\", \"1\"], \"type\": \"scatter3d\"}, {\"legendgroup\": \"cluster - 11\", \"name\": \"cluster - 11\", \"text\": [\"172.31.15.70 - - [31/May/2017:21:35:12 +0000] \\\"GET /todolist/health-check HTTP/1.1\\\" 200 50<br> id = 0<br> cluster = 11\"], \"marker\": {\"opacity\": 0.5, \"color\": \"blue\", \"size\": 6}, \"mode\": \"markers\", \"y\": [\"-0.853090122896\"], \"x\": [\"0.117698243793\"], \"z\": [\"4\"], \"type\": \"scatter3d\"}, {\"legendgroup\": \"cluster - 12\", \"name\": \"cluster - 12\", \"text\": [\"INFO  [2017-05-31 21:35:18,184] com.novemberain.quartz.mongodb.TriggerRunner: Acquired trigger: DEFA<br>ULT.qg1NzWlPRhK-6JwXye_1ug<br> id = 1<br> cluster = 12\", \"INFO  [2017-05-31 21:36:18,184] com.novemberain.quartz.mongodb.TriggerRunner: Acquired trigger: DEFA<br>ULT.qg1NzWlPRhK-6JwXye_1ug<br> id = 42<br> cluster = 12\"], \"marker\": {\"opacity\": 0.5, \"color\": \"blue\", \"size\": 6}, \"mode\": \"markers\", \"y\": [\"0.150987230035\", \"0.150987230035\"], \"x\": [\"0.422866593815\", \"0.422866593815\"], \"z\": [\"29\", \"29\"], \"type\": \"scatter3d\"}, {\"legendgroup\": \"cluster - 12\", \"name\": \"cluster - 12\", \"text\": [\"INFO  [2017-05-31 21:45:32,590] com.novemberain.quartz.mongodb.TriggerRunner: Acquired trigger: DEFA<br>ULT.0dCbD2LCQ3uMm_RlVLMG2A<br> id = 74<br> cluster = 12\", \"INFO  [2017-05-31 21:46:38,313] com.novemberain.quartz.mongodb.TriggerRunner: Acquired trigger: DEFA<br>ULT.SFmGy4xrRpad9Mql-fTqlg<br> id = 109<br> cluster = 12\", \"INFO  [2017-05-31 21:47:24,819] com.novemberain.quartz.mongodb.TriggerRunner: Acquired trigger: DEFA<br>ULT.zrYxDJ8ASo658RtE7UhNug<br> id = 145<br> cluster = 12\"], \"marker\": {\"opacity\": 0.5, \"color\": \"orange\", \"size\": 7}, \"mode\": \"markers\", \"y\": [\"0.150987230035\", \"0.150987230035\", \"0.197195575381\"], \"x\": [\"0.422866593815\", \"0.422866593815\", \"0.444927516978\"], \"z\": [\"29\", \"29\", \"23\"], \"type\": \"scatter3d\"}, {\"legendgroup\": \"cluster - 13\", \"name\": \"cluster - 13\", \"text\": [\"INFO  [2017-05-31 21:35:18,182] software.wings.service.impl.DelegateServiceImpl: Broadcast new task:<br> 488s8_pYSTO0ok_UqQNgdg<br> id = 4<br> cluster = 13\", \"INFO  [2017-05-31 21:36:18,182] software.wings.service.impl.DelegateServiceImpl: Broadcast new task:<br> Wa9gNxFqSUKE9h8HqI0VNg<br> id = 45<br> cluster = 13\"], \"marker\": {\"opacity\": 0.5, \"color\": \"blue\", \"size\": 6}, \"mode\": \"markers\", \"y\": [\"-0.00615289191122\", \"-0.387057547139\"], \"x\": [\"0.655305146108\", \"0.631551077907\"], \"z\": [\"13\", \"13\"], \"type\": \"scatter3d\"}, {\"legendgroup\": \"cluster - 13\", \"name\": \"cluster - 13\", \"text\": [\"INFO  [2017-05-31 21:45:25,301] software.wings.service.impl.DelegateServiceImpl: Broadcast new task:<br> 4c9sbdU4RC6k5oAnsV8Rqw<br> id = 88<br> cluster = 13\", \"INFO  [2017-05-31 21:46:25,300] software.wings.service.impl.DelegateServiceImpl: Broadcast new task:<br> UH1yt4G1Q2eCtHOIUY76XA<br> id = 127<br> cluster = 13\", \"INFO  [2017-05-31 21:47:18,181] software.wings.service.impl.DelegateServiceImpl: Broadcast new task:<br> RnDTUmaGTTKV8pSTp2ZDbw<br> id = 155<br> cluster = 13\"], \"marker\": {\"opacity\": 0.5, \"color\": \"red\", \"size\": 8}, \"mode\": \"markers\", \"y\": [\"-0.361751710782\", \"-0.420566768944\", \"0.0241370427095\"], \"x\": [\"0.624591956763\", \"0.626128544331\", \"0.694031129523\"], \"z\": [\"13\", \"13\", \"12\"], \"type\": \"scatter3d\"}, {\"legendgroup\": \"cluster - 14\", \"name\": \"cluster - 14\", \"text\": [\"172.31.15.70 - - [31/May/2017:21:36:12 +0000] \\\"GET /todolist/health-check HTTP/1.1\\\" 200 50<br> id = 38<br> cluster = 14\"], \"marker\": {\"opacity\": 0.5, \"color\": \"blue\", \"size\": 6}, \"mode\": \"markers\", \"y\": [\"-0.838304700696\"], \"x\": [\"0.225165802297\"], \"z\": [\"4\"], \"type\": \"scatter3d\"}, {\"legendgroup\": \"cluster - 15\", \"name\": \"cluster - 15\", \"text\": [\"INFO  [2017-05-31 21:35:17,188] org.quartz.plugins.history.LoggingJobHistoryPlugin: Job 84DUAsWyStm1<br>sg5ZXlMung.ARTIFACT_STREAM_CRON_GROUP fired (by trigger DEFAULT.84DUAsWyStm1sg5ZXlMung) at:  21:35:1<br>7 05/31/2017<br> id = 14<br> cluster = 15\", \"INFO  [2017-05-31 21:35:17,188] org.quartz.plugins.history.LoggingTriggerHistoryPlugin: Trigger DEFA<br>ULT.84DUAsWyStm1sg5ZXlMung fired job 84DUAsWyStm1sg5ZXlMung.ARTIFACT_STREAM_CRON_GROUP at:  21:35:17<br> 05/31/2017<br> id = 15<br> cluster = 15\", \"INFO  [2017-05-31 21:36:17,188] org.quartz.plugins.history.LoggingJobHistoryPlugin: Job 84DUAsWyStm1<br>sg5ZXlMung.ARTIFACT_STREAM_CRON_GROUP fired (by trigger DEFAULT.84DUAsWyStm1sg5ZXlMung) at:  21:36:1<br>7 05/31/2017<br> id = 54<br> cluster = 15\", \"INFO  [2017-05-31 21:36:17,188] org.quartz.plugins.history.LoggingTriggerHistoryPlugin: Trigger DEFA<br>ULT.84DUAsWyStm1sg5ZXlMung fired job 84DUAsWyStm1sg5ZXlMung.ARTIFACT_STREAM_CRON_GROUP at:  21:36:17<br> 05/31/2017<br> id = 55<br> cluster = 15\"], \"marker\": {\"opacity\": 0.5, \"color\": \"blue\", \"size\": 6}, \"mode\": \"markers\", \"y\": [\"-0.377570477325\", \"-0.0979953412973\", \"-0.377570477325\", \"-0.0979953412973\"], \"x\": [\"-0.363010821027\", \"-0.539115276919\", \"-0.363010821027\", \"-0.539115276919\"], \"z\": [\"3\", \"3\", \"3\", \"3\"], \"type\": \"scatter3d\"}, {\"legendgroup\": \"cluster - 15\", \"name\": \"cluster - 15\", \"text\": [\"INFO  [2017-05-31 21:45:17,189] org.quartz.plugins.history.LoggingTriggerHistoryPlugin: Trigger DEFA<br>ULT.84DUAsWyStm1sg5ZXlMung fired job 84DUAsWyStm1sg5ZXlMung.ARTIFACT_STREAM_CRON_GROUP at:  21:45:17<br> 05/31/2017<br> id = 95<br> cluster = 15\"], \"marker\": {\"opacity\": 0.5, \"color\": \"orange\", \"size\": 7}, \"mode\": \"markers\", \"y\": [\"-0.0979953412973\"], \"x\": [\"-0.539115276919\"], \"z\": [\"3\"], \"type\": \"scatter3d\"}, {\"legendgroup\": \"cluster - 15\", \"name\": \"cluster - 15\", \"text\": [\"INFO  [2017-05-31 21:45:17,189] org.quartz.plugins.history.LoggingJobHistoryPlugin: Job 84DUAsWyStm1<br>sg5ZXlMung.ARTIFACT_STREAM_CRON_GROUP fired (by trigger DEFAULT.84DUAsWyStm1sg5ZXlMung) at:  21:45:1<br>7 05/31/2017<br> id = 94<br> cluster = 15\", \"INFO  [2017-05-31 21:47:17,188] org.quartz.plugins.history.LoggingJobHistoryPlugin: Job 84DUAsWyStm1<br>sg5ZXlMung.ARTIFACT_STREAM_CRON_GROUP fired (by trigger DEFAULT.84DUAsWyStm1sg5ZXlMung) at:  21:47:1<br>7 05/31/2017<br> id = 159<br> cluster = 15\", \"INFO  [2017-05-31 21:47:17,188] org.quartz.plugins.history.LoggingTriggerHistoryPlugin: Trigger DEFA<br>ULT.84DUAsWyStm1sg5ZXlMung fired job 84DUAsWyStm1sg5ZXlMung.ARTIFACT_STREAM_CRON_GROUP at:  21:47:17<br> 05/31/2017<br> id = 160<br> cluster = 15\"], \"marker\": {\"opacity\": 0.5, \"color\": \"red\", \"size\": 8}, \"mode\": \"markers\", \"y\": [\"-0.377570477325\", \"-0.377570477325\", \"-0.0979953412973\"], \"x\": [\"-0.363010821027\", \"-0.363010821027\", \"-0.539115276919\"], \"z\": [\"3\", \"2\", \"2\"], \"type\": \"scatter3d\"}], {\"hovermode\": \"closest\"}, {\"linkText\": \"Export to plot.ly\", \"showLink\": false})});</script>"
      ],
      "text/vnd.plotly.v1+html": [
       "<div id=\"0661b0a5-a6bc-42d0-8ea0-611ac23742e9\" style=\"height: 525px; width: 100%;\" class=\"plotly-graph-div\"></div><script type=\"text/javascript\">require([\"plotly\"], function(Plotly) { window.PLOTLYENV=window.PLOTLYENV || {};window.PLOTLYENV.BASE_URL=\"https://plot.ly\";Plotly.newPlot(\"0661b0a5-a6bc-42d0-8ea0-611ac23742e9\", [{\"legendgroup\": \"cluster - 0\", \"name\": \"cluster - 0\", \"text\": [\"INFO  [2017-05-31 21:35:18,180] org.quartz.plugins.history.LoggingJobHistoryPlugin: Job vJ3t7B6hTYyu<br>gnJ0JifqXA.ARTIFACT_STREAM_CRON_GROUP fired (by trigger DEFAULT.vJ3t7B6hTYyugnJ0JifqXA) at:  21:35:1<br>8 05/31/2017<br> id = 9<br> cluster = 0\", \"INFO  [2017-05-31 21:35:18,179] org.quartz.plugins.history.LoggingTriggerHistoryPlugin: Trigger DEFA<br>ULT.vJ3t7B6hTYyugnJ0JifqXA fired job vJ3t7B6hTYyugnJ0JifqXA.ARTIFACT_STREAM_CRON_GROUP at:  21:35:18<br> 05/31/2017<br> id = 10<br> cluster = 0\", \"INFO  [2017-05-31 21:36:18,179] org.quartz.plugins.history.LoggingJobHistoryPlugin: Job vJ3t7B6hTYyu<br>gnJ0JifqXA.ARTIFACT_STREAM_CRON_GROUP fired (by trigger DEFAULT.vJ3t7B6hTYyugnJ0JifqXA) at:  21:36:1<br>8 05/31/2017<br> id = 50<br> cluster = 0\", \"INFO  [2017-05-31 21:36:18,179] org.quartz.plugins.history.LoggingTriggerHistoryPlugin: Trigger DEFA<br>ULT.vJ3t7B6hTYyugnJ0JifqXA fired job vJ3t7B6hTYyugnJ0JifqXA.ARTIFACT_STREAM_CRON_GROUP at:  21:36:18<br> 05/31/2017<br> id = 51<br> cluster = 0\"], \"marker\": {\"opacity\": 0.5, \"color\": \"blue\", \"size\": 6}, \"mode\": \"markers\", \"y\": [\"-0.364568265441\", \"0.0334632425374\", \"-0.364568265283\", \"0.0334632425387\"], \"x\": [\"-0.0492184120631\", \"-0.572669097011\", \"-0.0492184119218\", \"-0.572669097011\"], \"z\": [\"20\", \"13\", \"20\", \"13\"], \"type\": \"scatter3d\"}, {\"legendgroup\": \"cluster - 1\", \"name\": \"cluster - 1\", \"text\": [\"INFO  [2017-05-31 21:35:08,729] org.quartz.plugins.history.LoggingJobHistoryPlugin: Job D3H_QL6_Riqw<br>6hHqkzR--A.ARTIFACT_STREAM_CRON_GROUP fired (by trigger DEFAULT.D3H_QL6_Riqw6hHqkzR--A) at:  21:35:0<br>8 05/31/2017<br> id = 20<br> cluster = 1\", \"INFO  [2017-05-31 21:35:08,338] org.quartz.plugins.history.LoggingJobHistoryPlugin: Job AuG03-OeTsa1<br>gx9m868dNw.SM_CLEANUP_CRON_GROUP fired (by trigger DEFAULT.AuG03-OeTsa1gx9m868dNw) at:  21:35:08 05/<br>31/2017<br> id = 23<br> cluster = 1\", \"INFO  [2017-05-31 21:35:01,412] org.quartz.plugins.history.LoggingJobHistoryPlugin: Job K0vzHq-KTsql<br>PivBpy5SZQ.SM_CLEANUP_CRON_GROUP fired (by trigger DEFAULT.K0vzHq-KTsqlPivBpy5SZQ) at:  21:35:01 05/<br>31/2017<br> id = 25<br> cluster = 1\", \"INFO  [2017-05-31 21:34:58,811] org.quartz.plugins.history.LoggingJobHistoryPlugin: Job rDZXPoicQ-y9<br>EHe9vv_HyA.SM_CLEANUP_CRON_GROUP fired (by trigger DEFAULT.rDZXPoicQ-y9EHe9vv_HyA) at:  21:34:58 05/<br>31/2017<br> id = 27<br> cluster = 1\", \"INFO  [2017-05-31 21:34:40,039] org.quartz.plugins.history.LoggingJobHistoryPlugin: Job SFmGy4xrRpad<br>9Mql-fTqlg.SM_CLEANUP_CRON_GROUP fired (by trigger DEFAULT.SFmGy4xrRpad9Mql-fTqlg) at:  21:34:40 05/<br>31/2017<br> id = 30<br> cluster = 1\", \"INFO  [2017-05-31 21:34:31,923] org.quartz.plugins.history.LoggingJobHistoryPlugin: Job cMr2y3_5Q-qh<br>VZHKSgtAww.SM_CLEANUP_CRON_GROUP fired (by trigger DEFAULT.cMr2y3_5Q-qhVZHKSgtAww) at:  21:34:31 05/<br>31/2017<br> id = 32<br> cluster = 1\", \"INFO  [2017-05-31 21:36:08,729] org.quartz.plugins.history.LoggingJobHistoryPlugin: Job D3H_QL6_Riqw<br>6hHqkzR--A.ARTIFACT_STREAM_CRON_GROUP fired (by trigger DEFAULT.D3H_QL6_Riqw6hHqkzR--A) at:  21:36:0<br>8 05/31/2017<br> id = 60<br> cluster = 1\", \"INFO  [2017-05-31 21:36:08,337] org.quartz.plugins.history.LoggingJobHistoryPlugin: Job AuG03-OeTsa1<br>gx9m868dNw.SM_CLEANUP_CRON_GROUP fired (by trigger DEFAULT.AuG03-OeTsa1gx9m868dNw) at:  21:36:08 05/<br>31/2017<br> id = 63<br> cluster = 1\", \"INFO  [2017-05-31 21:36:01,412] org.quartz.plugins.history.LoggingJobHistoryPlugin: Job K0vzHq-KTsql<br>PivBpy5SZQ.SM_CLEANUP_CRON_GROUP fired (by trigger DEFAULT.K0vzHq-KTsqlPivBpy5SZQ) at:  21:36:01 05/<br>31/2017<br> id = 65<br> cluster = 1\", \"INFO  [2017-05-31 21:35:58,811] org.quartz.plugins.history.LoggingJobHistoryPlugin: Job rDZXPoicQ-y9<br>EHe9vv_HyA.SM_CLEANUP_CRON_GROUP fired (by trigger DEFAULT.rDZXPoicQ-y9EHe9vv_HyA) at:  21:35:58 05/<br>31/2017<br> id = 67<br> cluster = 1\", \"INFO  [2017-05-31 21:35:40,040] org.quartz.plugins.history.LoggingJobHistoryPlugin: Job SFmGy4xrRpad<br>9Mql-fTqlg.SM_CLEANUP_CRON_GROUP fired (by trigger DEFAULT.SFmGy4xrRpad9Mql-fTqlg) at:  21:35:40 05/<br>31/2017<br> id = 70<br> cluster = 1\", \"INFO  [2017-05-31 21:35:31,923] org.quartz.plugins.history.LoggingJobHistoryPlugin: Job cMr2y3_5Q-qh<br>VZHKSgtAww.SM_CLEANUP_CRON_GROUP fired (by trigger DEFAULT.cMr2y3_5Q-qhVZHKSgtAww) at:  21:35:31 05/<br>31/2017<br> id = 72<br> cluster = 1\"], \"marker\": {\"opacity\": 0.5, \"color\": \"blue\", \"size\": 6}, \"mode\": \"markers\", \"y\": [\"-0.24883437476\", \"-0.24883437476\", \"-0.24883437476\", \"-0.24883437476\", \"-0.24883437476\", \"-0.24883437476\", \"-0.24883437476\", \"-0.24883437476\", \"-0.24883437476\", \"-0.24883437476\", \"-0.24883437476\", \"-0.24883437476\"], \"x\": [\"-0.189770784601\", \"-0.189770784601\", \"-0.189770784601\", \"-0.189770784601\", \"-0.189770784601\", \"-0.189770784601\", \"-0.189770784601\", \"-0.189770784601\", \"-0.189770784601\", \"-0.189770784601\", \"-0.189770784601\", \"-0.189770784601\"], \"z\": [\"1\", \"1\", \"1\", \"1\", \"1\", \"1\", \"1\", \"1\", \"1\", \"1\", \"1\", \"1\"], \"type\": \"scatter3d\"}, {\"legendgroup\": \"cluster - 1\", \"name\": \"cluster - 1\", \"text\": [\"INFO  [2017-05-31 21:45:31,923] org.quartz.plugins.history.LoggingJobHistoryPlugin: Job cMr2y3_5Q-qh<br>VZHKSgtAww.SM_CLEANUP_CRON_GROUP fired (by trigger DEFAULT.cMr2y3_5Q-qhVZHKSgtAww) at:  21:45:31 05/<br>31/2017<br> id = 86<br> cluster = 1\", \"INFO  [2017-05-31 21:45:08,729] org.quartz.plugins.history.LoggingJobHistoryPlugin: Job D3H_QL6_Riqw<br>6hHqkzR--A.ARTIFACT_STREAM_CRON_GROUP fired (by trigger DEFAULT.D3H_QL6_Riqw6hHqkzR--A) at:  21:45:0<br>8 05/31/2017<br> id = 97<br> cluster = 1\", \"INFO  [2017-05-31 21:45:08,338] org.quartz.plugins.history.LoggingJobHistoryPlugin: Job AuG03-OeTsa1<br>gx9m868dNw.SM_CLEANUP_CRON_GROUP fired (by trigger DEFAULT.AuG03-OeTsa1gx9m868dNw) at:  21:45:08 05/<br>31/2017<br> id = 100<br> cluster = 1\", \"INFO  [2017-05-31 21:45:01,413] org.quartz.plugins.history.LoggingJobHistoryPlugin: Job K0vzHq-KTsql<br>PivBpy5SZQ.SM_CLEANUP_CRON_GROUP fired (by trigger DEFAULT.K0vzHq-KTsqlPivBpy5SZQ) at:  21:45:01 05/<br>31/2017<br> id = 103<br> cluster = 1\", \"INFO  [2017-05-31 21:44:58,810] org.quartz.plugins.history.LoggingJobHistoryPlugin: Job rDZXPoicQ-y9<br>EHe9vv_HyA.SM_CLEANUP_CRON_GROUP fired (by trigger DEFAULT.rDZXPoicQ-y9EHe9vv_HyA) at:  21:44:58 05/<br>31/2017<br> id = 105<br> cluster = 1\", \"INFO  [2017-05-31 21:44:40,040] org.quartz.plugins.history.LoggingJobHistoryPlugin: Job SFmGy4xrRpad<br>9Mql-fTqlg.SM_CLEANUP_CRON_GROUP fired (by trigger DEFAULT.SFmGy4xrRpad9Mql-fTqlg) at:  21:44:40 05/<br>31/2017<br> id = 107<br> cluster = 1\", \"INFO  [2017-05-31 21:46:38,307] org.quartz.plugins.history.LoggingJobHistoryPlugin: Job 0dCbD2LCQ3uM<br>m_RlVLMG2A.SM_CLEANUP_CRON_GROUP fired (by trigger DEFAULT.0dCbD2LCQ3uMm_RlVLMG2A) at:  21:46:38 05/<br>31/2017<br> id = 116<br> cluster = 1\", \"INFO  [2017-05-31 21:46:31,924] org.quartz.plugins.history.LoggingJobHistoryPlugin: Job cMr2y3_5Q-qh<br>VZHKSgtAww.SM_CLEANUP_CRON_GROUP fired (by trigger DEFAULT.cMr2y3_5Q-qhVZHKSgtAww) at:  21:46:31 05/<br>31/2017<br> id = 125<br> cluster = 1\", \"INFO  [2017-05-31 21:46:08,729] org.quartz.plugins.history.LoggingJobHistoryPlugin: Job D3H_QL6_Riqw<br>6hHqkzR--A.ARTIFACT_STREAM_CRON_GROUP fired (by trigger DEFAULT.D3H_QL6_Riqw6hHqkzR--A) at:  21:46:0<br>8 05/31/2017<br> id = 134<br> cluster = 1\", \"INFO  [2017-05-31 21:46:08,337] org.quartz.plugins.history.LoggingJobHistoryPlugin: Job AuG03-OeTsa1<br>gx9m868dNw.SM_CLEANUP_CRON_GROUP fired (by trigger DEFAULT.AuG03-OeTsa1gx9m868dNw) at:  21:46:08 05/<br>31/2017<br> id = 136<br> cluster = 1\", \"INFO  [2017-05-31 21:46:01,412] org.quartz.plugins.history.LoggingJobHistoryPlugin: Job K0vzHq-KTsql<br>PivBpy5SZQ.SM_CLEANUP_CRON_GROUP fired (by trigger DEFAULT.K0vzHq-KTsqlPivBpy5SZQ) at:  21:46:01 05/<br>31/2017<br> id = 138<br> cluster = 1\", \"INFO  [2017-05-31 21:45:58,810] org.quartz.plugins.history.LoggingJobHistoryPlugin: Job rDZXPoicQ-y9<br>EHe9vv_HyA.SM_CLEANUP_CRON_GROUP fired (by trigger DEFAULT.rDZXPoicQ-y9EHe9vv_HyA) at:  21:45:58 05/<br>31/2017<br> id = 140<br> cluster = 1\", \"INFO  [2017-05-31 21:45:40,040] org.quartz.plugins.history.LoggingJobHistoryPlugin: Job SFmGy4xrRpad<br>9Mql-fTqlg.SM_CLEANUP_CRON_GROUP fired (by trigger DEFAULT.SFmGy4xrRpad9Mql-fTqlg) at:  21:45:40 05/<br>31/2017<br> id = 142<br> cluster = 1\", \"INFO  [2017-05-31 21:47:08,728] org.quartz.plugins.history.LoggingJobHistoryPlugin: Job D3H_QL6_Riqw<br>6hHqkzR--A.ARTIFACT_STREAM_CRON_GROUP fired (by trigger DEFAULT.D3H_QL6_Riqw6hHqkzR--A) at:  21:47:0<br>8 05/31/2017<br> id = 166<br> cluster = 1\", \"INFO  [2017-05-31 21:47:08,338] org.quartz.plugins.history.LoggingJobHistoryPlugin: Job AuG03-OeTsa1<br>gx9m868dNw.SM_CLEANUP_CRON_GROUP fired (by trigger DEFAULT.AuG03-OeTsa1gx9m868dNw) at:  21:47:08 05/<br>31/2017<br> id = 169<br> cluster = 1\", \"INFO  [2017-05-31 21:47:01,412] org.quartz.plugins.history.LoggingJobHistoryPlugin: Job K0vzHq-KTsql<br>PivBpy5SZQ.SM_CLEANUP_CRON_GROUP fired (by trigger DEFAULT.K0vzHq-KTsqlPivBpy5SZQ) at:  21:47:01 05/<br>31/2017<br> id = 171<br> cluster = 1\", \"INFO  [2017-05-31 21:46:58,811] org.quartz.plugins.history.LoggingJobHistoryPlugin: Job rDZXPoicQ-y9<br>EHe9vv_HyA.SM_CLEANUP_CRON_GROUP fired (by trigger DEFAULT.rDZXPoicQ-y9EHe9vv_HyA) at:  21:46:58 05/<br>31/2017<br> id = 173<br> cluster = 1\"], \"marker\": {\"opacity\": 0.5, \"color\": \"orange\", \"size\": 7}, \"mode\": \"markers\", \"y\": [\"-0.24883437476\", \"-0.24883437476\", \"-0.24883437476\", \"-0.24883437476\", \"-0.24883437476\", \"-0.24883437476\", \"-0.24883437476\", \"-0.24883437476\", \"-0.24883437476\", \"-0.24883437476\", \"-0.24883437476\", \"-0.24883437476\", \"-0.24883437476\", \"-0.24883437476\", \"-0.24883437476\", \"-0.24883437476\", \"-0.24883437476\"], \"x\": [\"-0.189770784601\", \"-0.189770784601\", \"-0.189770784601\", \"-0.189770784601\", \"-0.189770784601\", \"-0.189770784601\", \"-0.189770784601\", \"-0.189770784601\", \"-0.189770784601\", \"-0.189770784601\", \"-0.189770784601\", \"-0.189770784601\", \"-0.189770784601\", \"-0.189770784601\", \"-0.189770784601\", \"-0.189770784601\", \"-0.189770784601\"], \"z\": [\"1\", \"1\", \"1\", \"1\", \"1\", \"1\", \"3\", \"1\", \"1\", \"1\", \"1\", \"1\", \"1\", \"1\", \"1\", \"1\", \"1\"], \"type\": \"scatter3d\"}, {\"legendgroup\": \"cluster - 1\", \"name\": \"cluster - 1\", \"text\": [\"INFO  [2017-05-31 21:45:32,583] org.quartz.plugins.history.LoggingJobHistoryPlugin: Job JGe5oLOLTyGP<br>_qgqF1YW1A.SM_CLEANUP_CRON_GROUP fired (by trigger DEFAULT.JGe5oLOLTyGP_qgqF1YW1A) at:  21:45:32 05/<br>31/2017<br> id = 81<br> cluster = 1\", \"INFO  [2017-05-31 21:46:32,583] org.quartz.plugins.history.LoggingJobHistoryPlugin: Job JGe5oLOLTyGP<br>_qgqF1YW1A.SM_CLEANUP_CRON_GROUP fired (by trigger DEFAULT.JGe5oLOLTyGP_qgqF1YW1A) at:  21:46:32 05/<br>31/2017<br> id = 120<br> cluster = 1\", \"INFO  [2017-05-31 21:47:24,814] org.quartz.plugins.history.LoggingJobHistoryPlugin: Job qg1NzWlPRhK-<br>6JwXye_1ug.ARTIFACT_STREAM_CRON_GROUP fired (by trigger DEFAULT.qg1NzWlPRhK-6JwXye_1ug) at:  21:47:2<br>4 05/31/2017<br> id = 153<br> cluster = 1\"], \"marker\": {\"opacity\": 0.5, \"color\": \"red\", \"size\": 8}, \"mode\": \"markers\", \"y\": [\"-0.24883437476\", \"-0.24883437476\", \"-0.24883437476\"], \"x\": [\"-0.189770784601\", \"-0.189770784601\", \"-0.189770784601\"], \"z\": [\"20\", \"20\", \"17\"], \"type\": \"scatter3d\"}, {\"legendgroup\": \"cluster - 2\", \"name\": \"cluster - 2\", \"text\": [\"INFO  [2017-05-31 21:35:13,679] org.quartz.plugins.history.LoggingTriggerHistoryPlugin: Trigger DEFA<br>ULT.UBBWzVkhQfKVEgzyBBhpeg fired job UBBWzVkhQfKVEgzyBBhpeg.SM_CLEANUP_CRON_GROUP at:  21:35:13 05/3<br>1/2017<br> id = 16<br> cluster = 2\", \"INFO  [2017-05-31 21:35:08,729] org.quartz.plugins.history.LoggingTriggerHistoryPlugin: Trigger DEFA<br>ULT.D3H_QL6_Riqw6hHqkzR--A fired job D3H_QL6_Riqw6hHqkzR--A.ARTIFACT_STREAM_CRON_GROUP at:  21:35:08<br> 05/31/2017<br> id = 21<br> cluster = 2\", \"INFO  [2017-05-31 21:35:08,338] org.quartz.plugins.history.LoggingTriggerHistoryPlugin: Trigger DEFA<br>ULT.AuG03-OeTsa1gx9m868dNw fired job AuG03-OeTsa1gx9m868dNw.SM_CLEANUP_CRON_GROUP at:  21:35:08 05/3<br>1/2017<br> id = 24<br> cluster = 2\", \"INFO  [2017-05-31 21:35:01,412] org.quartz.plugins.history.LoggingTriggerHistoryPlugin: Trigger DEFA<br>ULT.K0vzHq-KTsqlPivBpy5SZQ fired job K0vzHq-KTsqlPivBpy5SZQ.SM_CLEANUP_CRON_GROUP at:  21:35:01 05/3<br>1/2017<br> id = 26<br> cluster = 2\", \"INFO  [2017-05-31 21:34:58,811] org.quartz.plugins.history.LoggingTriggerHistoryPlugin: Trigger DEFA<br>ULT.rDZXPoicQ-y9EHe9vv_HyA fired job rDZXPoicQ-y9EHe9vv_HyA.SM_CLEANUP_CRON_GROUP at:  21:34:58 05/3<br>1/2017<br> id = 28<br> cluster = 2\", \"INFO  [2017-05-31 21:34:40,039] org.quartz.plugins.history.LoggingTriggerHistoryPlugin: Trigger DEFA<br>ULT.SFmGy4xrRpad9Mql-fTqlg fired job SFmGy4xrRpad9Mql-fTqlg.SM_CLEANUP_CRON_GROUP at:  21:34:40 05/3<br>1/2017<br> id = 31<br> cluster = 2\", \"INFO  [2017-05-31 21:34:31,923] org.quartz.plugins.history.LoggingTriggerHistoryPlugin: Trigger DEFA<br>ULT.cMr2y3_5Q-qhVZHKSgtAww fired job cMr2y3_5Q-qhVZHKSgtAww.SM_CLEANUP_CRON_GROUP at:  21:34:31 05/3<br>1/2017<br> id = 33<br> cluster = 2\", \"INFO  [2017-05-31 21:36:13,678] org.quartz.plugins.history.LoggingTriggerHistoryPlugin: Trigger DEFA<br>ULT.UBBWzVkhQfKVEgzyBBhpeg fired job UBBWzVkhQfKVEgzyBBhpeg.SM_CLEANUP_CRON_GROUP at:  21:36:13 05/3<br>1/2017<br> id = 56<br> cluster = 2\", \"INFO  [2017-05-31 21:36:08,729] org.quartz.plugins.history.LoggingTriggerHistoryPlugin: Trigger DEFA<br>ULT.D3H_QL6_Riqw6hHqkzR--A fired job D3H_QL6_Riqw6hHqkzR--A.ARTIFACT_STREAM_CRON_GROUP at:  21:36:08<br> 05/31/2017<br> id = 61<br> cluster = 2\", \"INFO  [2017-05-31 21:36:08,337] org.quartz.plugins.history.LoggingTriggerHistoryPlugin: Trigger DEFA<br>ULT.AuG03-OeTsa1gx9m868dNw fired job AuG03-OeTsa1gx9m868dNw.SM_CLEANUP_CRON_GROUP at:  21:36:08 05/3<br>1/2017<br> id = 64<br> cluster = 2\", \"INFO  [2017-05-31 21:36:01,412] org.quartz.plugins.history.LoggingTriggerHistoryPlugin: Trigger DEFA<br>ULT.K0vzHq-KTsqlPivBpy5SZQ fired job K0vzHq-KTsqlPivBpy5SZQ.SM_CLEANUP_CRON_GROUP at:  21:36:01 05/3<br>1/2017<br> id = 66<br> cluster = 2\", \"INFO  [2017-05-31 21:35:58,811] org.quartz.plugins.history.LoggingTriggerHistoryPlugin: Trigger DEFA<br>ULT.rDZXPoicQ-y9EHe9vv_HyA fired job rDZXPoicQ-y9EHe9vv_HyA.SM_CLEANUP_CRON_GROUP at:  21:35:58 05/3<br>1/2017<br> id = 68<br> cluster = 2\", \"INFO  [2017-05-31 21:35:40,040] org.quartz.plugins.history.LoggingTriggerHistoryPlugin: Trigger DEFA<br>ULT.SFmGy4xrRpad9Mql-fTqlg fired job SFmGy4xrRpad9Mql-fTqlg.SM_CLEANUP_CRON_GROUP at:  21:35:40 05/3<br>1/2017<br> id = 71<br> cluster = 2\", \"INFO  [2017-05-31 21:35:31,923] org.quartz.plugins.history.LoggingTriggerHistoryPlugin: Trigger DEFA<br>ULT.cMr2y3_5Q-qhVZHKSgtAww fired job cMr2y3_5Q-qhVZHKSgtAww.SM_CLEANUP_CRON_GROUP at:  21:35:31 05/3<br>1/2017<br> id = 73<br> cluster = 2\"], \"marker\": {\"opacity\": 0.5, \"color\": \"blue\", \"size\": 6}, \"mode\": \"markers\", \"y\": [\"0.0852195793839\", \"0.0351024268285\", \"0.0351024268285\", \"0.0351024268285\", \"0.0351024268285\", \"0.0351024268285\", \"0.0351024268285\", \"0.0852195793803\", \"0.0351024268285\", \"0.0351024268285\", \"0.0351024268285\", \"0.0351024268285\", \"0.0351024268285\", \"0.0351024268285\"], \"x\": [\"-0.62724371421\", \"-0.348484097812\", \"-0.348484097812\", \"-0.348484097812\", \"-0.348484097812\", \"-0.348484097812\", \"-0.348484097812\", \"-0.627243714211\", \"-0.348484097812\", \"-0.348484097812\", \"-0.348484097812\", \"-0.348484097812\", \"-0.348484097812\", \"-0.348484097812\"], \"z\": [\"7\", \"1\", \"1\", \"1\", \"1\", \"1\", \"1\", \"7\", \"1\", \"1\", \"1\", \"1\", \"1\", \"1\"], \"type\": \"scatter3d\"}, {\"legendgroup\": \"cluster - 2\", \"name\": \"cluster - 2\", \"text\": [\"INFO  [2017-05-31 21:47:08,728] org.quartz.plugins.history.LoggingTriggerHistoryPlugin: Trigger DEFA<br>ULT.D3H_QL6_Riqw6hHqkzR--A fired job D3H_QL6_Riqw6hHqkzR--A.ARTIFACT_STREAM_CRON_GROUP at:  21:47:08<br> 05/31/2017<br> id = 167<br> cluster = 2\"], \"marker\": {\"opacity\": 0.5, \"color\": \"orange\", \"size\": 7}, \"mode\": \"markers\", \"y\": [\"0.0351024268285\"], \"x\": [\"-0.348484097812\"], \"z\": [\"1\"], \"type\": \"scatter3d\"}, {\"legendgroup\": \"cluster - 2\", \"name\": \"cluster - 2\", \"text\": [\"INFO  [2017-05-31 21:45:32,583] org.quartz.plugins.history.LoggingTriggerHistoryPlugin: Trigger DEFA<br>ULT.JGe5oLOLTyGP_qgqF1YW1A fired job JGe5oLOLTyGP_qgqF1YW1A.SM_CLEANUP_CRON_GROUP at:  21:45:32 05/3<br>1/2017<br> id = 82<br> cluster = 2\", \"INFO  [2017-05-31 21:45:31,923] org.quartz.plugins.history.LoggingTriggerHistoryPlugin: Trigger DEFA<br>ULT.cMr2y3_5Q-qhVZHKSgtAww fired job cMr2y3_5Q-qhVZHKSgtAww.SM_CLEANUP_CRON_GROUP at:  21:45:31 05/3<br>1/2017<br> id = 87<br> cluster = 2\", \"INFO  [2017-05-31 21:45:25,298] org.quartz.plugins.history.LoggingTriggerHistoryPlugin: Trigger DEFA<br>ULT.zrYxDJ8ASo658RtE7UhNug fired job zrYxDJ8ASo658RtE7UhNug.ARTIFACT_STREAM_CRON_GROUP at:  21:45:25<br> 05/31/2017<br> id = 89<br> cluster = 2\", \"INFO  [2017-05-31 21:45:08,729] org.quartz.plugins.history.LoggingTriggerHistoryPlugin: Trigger DEFA<br>ULT.D3H_QL6_Riqw6hHqkzR--A fired job D3H_QL6_Riqw6hHqkzR--A.ARTIFACT_STREAM_CRON_GROUP at:  21:45:08<br> 05/31/2017<br> id = 98<br> cluster = 2\", \"INFO  [2017-05-31 21:45:08,338] org.quartz.plugins.history.LoggingTriggerHistoryPlugin: Trigger DEFA<br>ULT.AuG03-OeTsa1gx9m868dNw fired job AuG03-OeTsa1gx9m868dNw.SM_CLEANUP_CRON_GROUP at:  21:45:08 05/3<br>1/2017<br> id = 101<br> cluster = 2\", \"INFO  [2017-05-31 21:45:01,413] org.quartz.plugins.history.LoggingTriggerHistoryPlugin: Trigger DEFA<br>ULT.K0vzHq-KTsqlPivBpy5SZQ fired job K0vzHq-KTsqlPivBpy5SZQ.SM_CLEANUP_CRON_GROUP at:  21:45:01 05/3<br>1/2017<br> id = 104<br> cluster = 2\", \"INFO  [2017-05-31 21:44:58,810] org.quartz.plugins.history.LoggingTriggerHistoryPlugin: Trigger DEFA<br>ULT.rDZXPoicQ-y9EHe9vv_HyA fired job rDZXPoicQ-y9EHe9vv_HyA.SM_CLEANUP_CRON_GROUP at:  21:44:58 05/3<br>1/2017<br> id = 106<br> cluster = 2\", \"INFO  [2017-05-31 21:44:40,040] org.quartz.plugins.history.LoggingTriggerHistoryPlugin: Trigger DEFA<br>ULT.SFmGy4xrRpad9Mql-fTqlg fired job SFmGy4xrRpad9Mql-fTqlg.SM_CLEANUP_CRON_GROUP at:  21:44:40 05/3<br>1/2017<br> id = 108<br> cluster = 2\", \"INFO  [2017-05-31 21:46:38,306] org.quartz.plugins.history.LoggingTriggerHistoryPlugin: Trigger DEFA<br>ULT.0dCbD2LCQ3uMm_RlVLMG2A fired job 0dCbD2LCQ3uMm_RlVLMG2A.SM_CLEANUP_CRON_GROUP at:  21:46:38 05/3<br>1/2017<br> id = 117<br> cluster = 2\", \"INFO  [2017-05-31 21:46:32,583] org.quartz.plugins.history.LoggingTriggerHistoryPlugin: Trigger DEFA<br>ULT.JGe5oLOLTyGP_qgqF1YW1A fired job JGe5oLOLTyGP_qgqF1YW1A.SM_CLEANUP_CRON_GROUP at:  21:46:32 05/3<br>1/2017<br> id = 121<br> cluster = 2\", \"INFO  [2017-05-31 21:46:31,924] org.quartz.plugins.history.LoggingTriggerHistoryPlugin: Trigger DEFA<br>ULT.cMr2y3_5Q-qhVZHKSgtAww fired job cMr2y3_5Q-qhVZHKSgtAww.SM_CLEANUP_CRON_GROUP at:  21:46:31 05/3<br>1/2017<br> id = 126<br> cluster = 2\", \"INFO  [2017-05-31 21:46:25,298] org.quartz.plugins.history.LoggingTriggerHistoryPlugin: Trigger DEFA<br>ULT.zrYxDJ8ASo658RtE7UhNug fired job zrYxDJ8ASo658RtE7UhNug.ARTIFACT_STREAM_CRON_GROUP at:  21:46:25<br> 05/31/2017<br> id = 128<br> cluster = 2\", \"INFO  [2017-05-31 21:46:08,729] org.quartz.plugins.history.LoggingTriggerHistoryPlugin: Trigger DEFA<br>ULT.D3H_QL6_Riqw6hHqkzR--A fired job D3H_QL6_Riqw6hHqkzR--A.ARTIFACT_STREAM_CRON_GROUP at:  21:46:08<br> 05/31/2017<br> id = 135<br> cluster = 2\", \"INFO  [2017-05-31 21:46:08,337] org.quartz.plugins.history.LoggingTriggerHistoryPlugin: Trigger DEFA<br>ULT.AuG03-OeTsa1gx9m868dNw fired job AuG03-OeTsa1gx9m868dNw.SM_CLEANUP_CRON_GROUP at:  21:46:08 05/3<br>1/2017<br> id = 137<br> cluster = 2\", \"INFO  [2017-05-31 21:46:01,412] org.quartz.plugins.history.LoggingTriggerHistoryPlugin: Trigger DEFA<br>ULT.K0vzHq-KTsqlPivBpy5SZQ fired job K0vzHq-KTsqlPivBpy5SZQ.SM_CLEANUP_CRON_GROUP at:  21:46:01 05/3<br>1/2017<br> id = 139<br> cluster = 2\", \"INFO  [2017-05-31 21:45:58,810] org.quartz.plugins.history.LoggingTriggerHistoryPlugin: Trigger DEFA<br>ULT.rDZXPoicQ-y9EHe9vv_HyA fired job rDZXPoicQ-y9EHe9vv_HyA.SM_CLEANUP_CRON_GROUP at:  21:45:58 05/3<br>1/2017<br> id = 141<br> cluster = 2\", \"INFO  [2017-05-31 21:45:40,040] org.quartz.plugins.history.LoggingTriggerHistoryPlugin: Trigger DEFA<br>ULT.SFmGy4xrRpad9Mql-fTqlg fired job SFmGy4xrRpad9Mql-fTqlg.SM_CLEANUP_CRON_GROUP at:  21:45:40 05/3<br>1/2017<br> id = 143<br> cluster = 2\", \"INFO  [2017-05-31 21:47:24,814] org.quartz.plugins.history.LoggingTriggerHistoryPlugin: Trigger DEFA<br>ULT.qg1NzWlPRhK-6JwXye_1ug fired job qg1NzWlPRhK-6JwXye_1ug.ARTIFACT_STREAM_CRON_GROUP at:  21:47:24<br> 05/31/2017<br> id = 154<br> cluster = 2\", \"INFO  [2017-05-31 21:47:13,679] org.quartz.plugins.history.LoggingTriggerHistoryPlugin: Trigger DEFA<br>ULT.UBBWzVkhQfKVEgzyBBhpeg fired job UBBWzVkhQfKVEgzyBBhpeg.SM_CLEANUP_CRON_GROUP at:  21:47:13 05/3<br>1/2017<br> id = 162<br> cluster = 2\", \"INFO  [2017-05-31 21:47:08,338] org.quartz.plugins.history.LoggingTriggerHistoryPlugin: Trigger DEFA<br>ULT.AuG03-OeTsa1gx9m868dNw fired job AuG03-OeTsa1gx9m868dNw.SM_CLEANUP_CRON_GROUP at:  21:47:08 05/3<br>1/2017<br> id = 170<br> cluster = 2\", \"INFO  [2017-05-31 21:47:01,412] org.quartz.plugins.history.LoggingTriggerHistoryPlugin: Trigger DEFA<br>ULT.K0vzHq-KTsqlPivBpy5SZQ fired job K0vzHq-KTsqlPivBpy5SZQ.SM_CLEANUP_CRON_GROUP at:  21:47:01 05/3<br>1/2017<br> id = 172<br> cluster = 2\", \"INFO  [2017-05-31 21:46:58,811] org.quartz.plugins.history.LoggingTriggerHistoryPlugin: Trigger DEFA<br>ULT.rDZXPoicQ-y9EHe9vv_HyA fired job rDZXPoicQ-y9EHe9vv_HyA.SM_CLEANUP_CRON_GROUP at:  21:46:58 05/3<br>1/2017<br> id = 174<br> cluster = 2\"], \"marker\": {\"opacity\": 0.5, \"color\": \"red\", \"size\": 8}, \"mode\": \"markers\", \"y\": [\"0.0351024268285\", \"0.0351024268285\", \"0.180209777758\", \"0.0351024268285\", \"0.0351024268285\", \"0.0351024268285\", \"0.0351024268285\", \"0.0351024268285\", \"0.0351024268285\", \"0.0351024268285\", \"0.0351024268285\", \"0.180209777758\", \"0.0351024268285\", \"0.0351024268285\", \"0.0351024268285\", \"0.0351024268285\", \"0.0351024268285\", \"0.0351024268285\", \"0.0519648279751\", \"0.0351024268285\", \"0.0351024268285\", \"0.0351024268285\"], \"x\": [\"-0.348484097812\", \"-0.348484097812\", \"-0.0753976942129\", \"-0.348484097812\", \"-0.348484097812\", \"-0.348484097812\", \"-0.348484097812\", \"-0.348484097812\", \"-0.348484097812\", \"-0.348484097812\", \"-0.348484097812\", \"-0.0753976942129\", \"-0.348484097812\", \"-0.348484097812\", \"-0.348484097812\", \"-0.348484097812\", \"-0.348484097812\", \"-0.348484097812\", \"-0.637092342923\", \"-0.348484097812\", \"-0.348484097812\", \"-0.348484097812\"], \"z\": [\"7\", \"1\", \"13\", \"1\", \"1\", \"1\", \"1\", \"1\", \"3\", \"7\", \"1\", \"13\", \"1\", \"1\", \"1\", \"1\", \"1\", \"12\", \"5\", \"1\", \"1\", \"1\"], \"type\": \"scatter3d\"}, {\"legendgroup\": \"cluster - 3\", \"name\": \"cluster - 3\", \"text\": [\"INFO  [2017-05-31 21:35:18,180] org.quartz.plugins.history.LoggingJobHistoryPlugin: Job vJ3t7B6hTYyu<br>gnJ0JifqXA.ARTIFACT_STREAM_CRON_GROUP execution complete at  21:35:18 05/31/2017 and reports: null<br> id = 8<br> cluster = 3\", \"INFO  [2017-05-31 21:35:17,188] org.quartz.plugins.history.LoggingJobHistoryPlugin: Job 84DUAsWyStm1<br>sg5ZXlMung.ARTIFACT_STREAM_CRON_GROUP execution complete at  21:35:17 05/31/2017 and reports: null<br> id = 13<br> cluster = 3\", \"INFO  [2017-05-31 21:35:08,729] org.quartz.plugins.history.LoggingJobHistoryPlugin: Job D3H_QL6_Riqw<br>6hHqkzR--A.ARTIFACT_STREAM_CRON_GROUP execution complete at  21:35:08 05/31/2017 and reports: null<br> id = 19<br> cluster = 3\", \"INFO  [2017-05-31 21:36:18,179] org.quartz.plugins.history.LoggingJobHistoryPlugin: Job vJ3t7B6hTYyu<br>gnJ0JifqXA.ARTIFACT_STREAM_CRON_GROUP execution complete at  21:36:18 05/31/2017 and reports: null<br> id = 49<br> cluster = 3\", \"INFO  [2017-05-31 21:36:17,188] org.quartz.plugins.history.LoggingJobHistoryPlugin: Job 84DUAsWyStm1<br>sg5ZXlMung.ARTIFACT_STREAM_CRON_GROUP execution complete at  21:36:17 05/31/2017 and reports: null<br> id = 53<br> cluster = 3\", \"INFO  [2017-05-31 21:36:08,729] org.quartz.plugins.history.LoggingJobHistoryPlugin: Job D3H_QL6_Riqw<br>6hHqkzR--A.ARTIFACT_STREAM_CRON_GROUP execution complete at  21:36:08 05/31/2017 and reports: null<br> id = 59<br> cluster = 3\"], \"marker\": {\"opacity\": 0.5, \"color\": \"blue\", \"size\": 6}, \"mode\": \"markers\", \"y\": [\"-0.565683693169\", \"-0.565683693169\", \"-0.565683693169\", \"-0.565683693169\", \"-0.565683693169\", \"-0.565683693169\"], \"x\": [\"0.30674429975\", \"0.30674429975\", \"0.30674429975\", \"0.30674429975\", \"0.30674429975\", \"0.30674429975\"], \"z\": [\"20\", \"3\", \"6\", \"20\", \"3\", \"6\"], \"type\": \"scatter3d\"}, {\"legendgroup\": \"cluster - 3\", \"name\": \"cluster - 3\", \"text\": [\"INFO  [2017-05-31 21:45:32,585] org.quartz.plugins.history.LoggingJobHistoryPlugin: Job JGe5oLOLTyGP<br>_qgqF1YW1A.SM_CLEANUP_CRON_GROUP execution complete at  21:45:32 05/31/2017 and reports: null<br> id = 80<br> cluster = 3\", \"INFO  [2017-05-31 21:45:31,925] org.quartz.plugins.history.LoggingJobHistoryPlugin: Job cMr2y3_5Q-qh<br>VZHKSgtAww.SM_CLEANUP_CRON_GROUP execution complete at  21:45:31 05/31/2017 and reports: null<br> id = 85<br> cluster = 3\", \"INFO  [2017-05-31 21:45:17,189] org.quartz.plugins.history.LoggingJobHistoryPlugin: Job 84DUAsWyStm1<br>sg5ZXlMung.ARTIFACT_STREAM_CRON_GROUP execution complete at  21:45:17 05/31/2017 and reports: null<br> id = 93<br> cluster = 3\", \"INFO  [2017-05-31 21:46:38,309] org.quartz.plugins.history.LoggingJobHistoryPlugin: Job 0dCbD2LCQ3uM<br>m_RlVLMG2A.SM_CLEANUP_CRON_GROUP execution complete at  21:46:38 05/31/2017 and reports: null<br> id = 115<br> cluster = 3\", \"INFO  [2017-05-31 21:46:32,584] org.quartz.plugins.history.LoggingJobHistoryPlugin: Job JGe5oLOLTyGP<br>_qgqF1YW1A.SM_CLEANUP_CRON_GROUP execution complete at  21:46:32 05/31/2017 and reports: null<br> id = 119<br> cluster = 3\", \"INFO  [2017-05-31 21:46:31,926] org.quartz.plugins.history.LoggingJobHistoryPlugin: Job cMr2y3_5Q-qh<br>VZHKSgtAww.SM_CLEANUP_CRON_GROUP execution complete at  21:46:31 05/31/2017 and reports: null<br> id = 124<br> cluster = 3\", \"INFO  [2017-05-31 21:47:24,814] org.quartz.plugins.history.LoggingJobHistoryPlugin: Job qg1NzWlPRhK-<br>6JwXye_1ug.ARTIFACT_STREAM_CRON_GROUP execution complete at  21:47:24 05/31/2017 and reports: null<br> id = 151<br> cluster = 3\", \"INFO  [2017-05-31 21:47:17,188] org.quartz.plugins.history.LoggingJobHistoryPlugin: Job 84DUAsWyStm1<br>sg5ZXlMung.ARTIFACT_STREAM_CRON_GROUP execution complete at  21:47:17 05/31/2017 and reports: null<br> id = 158<br> cluster = 3\", \"INFO  [2017-05-31 21:47:08,728] org.quartz.plugins.history.LoggingJobHistoryPlugin: Job D3H_QL6_Riqw<br>6hHqkzR--A.ARTIFACT_STREAM_CRON_GROUP execution complete at  21:47:08 05/31/2017 and reports: null<br> id = 165<br> cluster = 3\"], \"marker\": {\"opacity\": 0.5, \"color\": \"red\", \"size\": 8}, \"mode\": \"markers\", \"y\": [\"-0.565683693169\", \"-0.565683693169\", \"-0.565683693169\", \"-0.565683693169\", \"-0.565683693169\", \"-0.565683693169\", \"-0.565683693169\", \"-0.565683693169\", \"-0.565683693169\"], \"x\": [\"0.30674429975\", \"0.30674429975\", \"0.30674429975\", \"0.30674429975\", \"0.30674429975\", \"0.30674429975\", \"0.30674429975\", \"0.30674429975\", \"0.30674429975\"], \"z\": [\"20\", \"6\", \"3\", \"3\", \"20\", \"6\", \"17\", \"2\", \"4\"], \"type\": \"scatter3d\"}, {\"legendgroup\": \"cluster - 4\", \"name\": \"cluster - 4\", \"text\": [\"INFO  [2017-05-31 21:35:18,180] org.quartz.plugins.history.LoggingTriggerHistoryPlugin: Trigger DEFA<br>ULT.vJ3t7B6hTYyugnJ0JifqXA completed firing job vJ3t7B6hTYyugnJ0JifqXA.ARTIFACT_STREAM_CRON_GROUP at<br>  21:35:18 05/31/2017 with resulting trigger instruction code: DO NOTHING<br> id = 7<br> cluster = 4\", \"INFO  [2017-05-31 21:35:17,188] org.quartz.plugins.history.LoggingTriggerHistoryPlugin: Trigger DEFA<br>ULT.84DUAsWyStm1sg5ZXlMung completed firing job 84DUAsWyStm1sg5ZXlMung.ARTIFACT_STREAM_CRON_GROUP at<br>  21:35:17 05/31/2017 with resulting trigger instruction code: DO NOTHING<br> id = 12<br> cluster = 4\", \"INFO  [2017-05-31 21:35:08,729] org.quartz.plugins.history.LoggingTriggerHistoryPlugin: Trigger DEFA<br>ULT.D3H_QL6_Riqw6hHqkzR--A completed firing job D3H_QL6_Riqw6hHqkzR--A.ARTIFACT_STREAM_CRON_GROUP at<br>  21:35:08 05/31/2017 with resulting trigger instruction code: DO NOTHING<br> id = 18<br> cluster = 4\", \"INFO  [2017-05-31 21:35:08,340] org.quartz.plugins.history.LoggingTriggerHistoryPlugin: Trigger DEFA<br>ULT.AuG03-OeTsa1gx9m868dNw completed firing job AuG03-OeTsa1gx9m868dNw.SM_CLEANUP_CRON_GROUP at  21:<br>35:08 05/31/2017 with resulting trigger instruction code: DO NOTHING<br> id = 22<br> cluster = 4\", \"INFO  [2017-05-31 21:36:18,179] org.quartz.plugins.history.LoggingTriggerHistoryPlugin: Trigger DEFA<br>ULT.vJ3t7B6hTYyugnJ0JifqXA completed firing job vJ3t7B6hTYyugnJ0JifqXA.ARTIFACT_STREAM_CRON_GROUP at<br>  21:36:18 05/31/2017 with resulting trigger instruction code: DO NOTHING<br> id = 48<br> cluster = 4\", \"INFO  [2017-05-31 21:36:17,188] org.quartz.plugins.history.LoggingTriggerHistoryPlugin: Trigger DEFA<br>ULT.84DUAsWyStm1sg5ZXlMung completed firing job 84DUAsWyStm1sg5ZXlMung.ARTIFACT_STREAM_CRON_GROUP at<br>  21:36:17 05/31/2017 with resulting trigger instruction code: DO NOTHING<br> id = 52<br> cluster = 4\", \"INFO  [2017-05-31 21:36:08,729] org.quartz.plugins.history.LoggingTriggerHistoryPlugin: Trigger DEFA<br>ULT.D3H_QL6_Riqw6hHqkzR--A completed firing job D3H_QL6_Riqw6hHqkzR--A.ARTIFACT_STREAM_CRON_GROUP at<br>  21:36:08 05/31/2017 with resulting trigger instruction code: DO NOTHING<br> id = 58<br> cluster = 4\", \"INFO  [2017-05-31 21:36:08,340] org.quartz.plugins.history.LoggingTriggerHistoryPlugin: Trigger DEFA<br>ULT.AuG03-OeTsa1gx9m868dNw completed firing job AuG03-OeTsa1gx9m868dNw.SM_CLEANUP_CRON_GROUP at  21:<br>36:08 05/31/2017 with resulting trigger instruction code: DO NOTHING<br> id = 62<br> cluster = 4\"], \"marker\": {\"opacity\": 0.5, \"color\": \"blue\", \"size\": 6}, \"mode\": \"markers\", \"y\": [\"0.536820786762\", \"0.491387578615\", \"0.509410225426\", \"0.509410225426\", \"0.536820786762\", \"0.491387578615\", \"0.509410225426\", \"0.509410225426\"], \"x\": [\"-0.298151900654\", \"-0.369417095628\", \"-0.324433226255\", \"-0.324433226255\", \"-0.298151900654\", \"-0.369417095628\", \"-0.324433226255\", \"-0.324433226255\"], \"z\": [\"20\", \"3\", \"1\", \"5\", \"20\", \"3\", \"1\", \"5\"], \"type\": \"scatter3d\"}, {\"legendgroup\": \"cluster - 4\", \"name\": \"cluster - 4\", \"text\": [\"INFO  [2017-05-31 21:45:31,925] org.quartz.plugins.history.LoggingTriggerHistoryPlugin: Trigger DEFA<br>ULT.cMr2y3_5Q-qhVZHKSgtAww completed firing job cMr2y3_5Q-qhVZHKSgtAww.SM_CLEANUP_CRON_GROUP at  21:<br>45:31 05/31/2017 with resulting trigger instruction code: DO NOTHING<br> id = 84<br> cluster = 4\", \"INFO  [2017-05-31 21:45:17,189] org.quartz.plugins.history.LoggingTriggerHistoryPlugin: Trigger DEFA<br>ULT.84DUAsWyStm1sg5ZXlMung completed firing job 84DUAsWyStm1sg5ZXlMung.ARTIFACT_STREAM_CRON_GROUP at<br>  21:45:17 05/31/2017 with resulting trigger instruction code: DO NOTHING<br> id = 92<br> cluster = 4\", \"INFO  [2017-05-31 21:46:38,309] org.quartz.plugins.history.LoggingTriggerHistoryPlugin: Trigger DEFA<br>ULT.0dCbD2LCQ3uMm_RlVLMG2A completed firing job 0dCbD2LCQ3uMm_RlVLMG2A.SM_CLEANUP_CRON_GROUP at  21:<br>46:38 05/31/2017 with resulting trigger instruction code: DO NOTHING<br> id = 114<br> cluster = 4\", \"INFO  [2017-05-31 21:46:31,926] org.quartz.plugins.history.LoggingTriggerHistoryPlugin: Trigger DEFA<br>ULT.cMr2y3_5Q-qhVZHKSgtAww completed firing job cMr2y3_5Q-qhVZHKSgtAww.SM_CLEANUP_CRON_GROUP at  21:<br>46:31 05/31/2017 with resulting trigger instruction code: DO NOTHING<br> id = 123<br> cluster = 4\", \"INFO  [2017-05-31 21:47:24,814] org.quartz.plugins.history.LoggingTriggerHistoryPlugin: Trigger DEFA<br>ULT.qg1NzWlPRhK-6JwXye_1ug completed firing job qg1NzWlPRhK-6JwXye_1ug.ARTIFACT_STREAM_CRON_GROUP at<br>  21:47:24 05/31/2017 with resulting trigger instruction code: DO NOTHING<br> id = 150<br> cluster = 4\", \"INFO  [2017-05-31 21:47:17,188] org.quartz.plugins.history.LoggingTriggerHistoryPlugin: Trigger DEFA<br>ULT.84DUAsWyStm1sg5ZXlMung completed firing job 84DUAsWyStm1sg5ZXlMung.ARTIFACT_STREAM_CRON_GROUP at<br>  21:47:17 05/31/2017 with resulting trigger instruction code: DO NOTHING<br> id = 157<br> cluster = 4\", \"INFO  [2017-05-31 21:47:08,729] org.quartz.plugins.history.LoggingTriggerHistoryPlugin: Trigger DEFA<br>ULT.D3H_QL6_Riqw6hHqkzR--A completed firing job D3H_QL6_Riqw6hHqkzR--A.ARTIFACT_STREAM_CRON_GROUP at<br>  21:47:08 05/31/2017 with resulting trigger instruction code: DO NOTHING<br> id = 164<br> cluster = 4\"], \"marker\": {\"opacity\": 0.5, \"color\": \"orange\", \"size\": 7}, \"mode\": \"markers\", \"y\": [\"0.509410225426\", \"0.491387578615\", \"0.509410225426\", \"0.509410225426\", \"0.509410225426\", \"0.491387578615\", \"0.509410225426\"], \"x\": [\"-0.324433226255\", \"-0.369417095628\", \"-0.324433226255\", \"-0.324433226255\", \"-0.324433226255\", \"-0.369417095628\", \"-0.324433226255\"], \"z\": [\"5\", \"3\", \"3\", \"5\", \"17\", \"2\", \"1\"], \"type\": \"scatter3d\"}, {\"legendgroup\": \"cluster - 4\", \"name\": \"cluster - 4\", \"text\": [\"INFO  [2017-05-31 21:45:32,585] org.quartz.plugins.history.LoggingTriggerHistoryPlugin: Trigger DEFA<br>ULT.JGe5oLOLTyGP_qgqF1YW1A completed firing job JGe5oLOLTyGP_qgqF1YW1A.SM_CLEANUP_CRON_GROUP at  21:<br>45:32 05/31/2017 with resulting trigger instruction code: DO NOTHING<br> id = 79<br> cluster = 4\", \"INFO  [2017-05-31 21:45:08,729] org.quartz.plugins.history.LoggingTriggerHistoryPlugin: Trigger DEFA<br>ULT.D3H_QL6_Riqw6hHqkzR--A completed firing job D3H_QL6_Riqw6hHqkzR--A.ARTIFACT_STREAM_CRON_GROUP at<br>  21:45:08 05/31/2017 with resulting trigger instruction code: DO NOTHING<br> id = 96<br> cluster = 4\", \"INFO  [2017-05-31 21:46:32,584] org.quartz.plugins.history.LoggingTriggerHistoryPlugin: Trigger DEFA<br>ULT.JGe5oLOLTyGP_qgqF1YW1A completed firing job JGe5oLOLTyGP_qgqF1YW1A.SM_CLEANUP_CRON_GROUP at  21:<br>46:32 05/31/2017 with resulting trigger instruction code: DO NOTHING<br> id = 118<br> cluster = 4\", \"INFO  [2017-05-31 21:46:08,729] org.quartz.plugins.history.LoggingTriggerHistoryPlugin: Trigger DEFA<br>ULT.D3H_QL6_Riqw6hHqkzR--A completed firing job D3H_QL6_Riqw6hHqkzR--A.ARTIFACT_STREAM_CRON_GROUP at<br>  21:46:08 05/31/2017 with resulting trigger instruction code: DO NOTHING<br> id = 133<br> cluster = 4\", \"INFO  [2017-05-31 21:47:08,340] org.quartz.plugins.history.LoggingTriggerHistoryPlugin: Trigger DEFA<br>ULT.AuG03-OeTsa1gx9m868dNw completed firing job AuG03-OeTsa1gx9m868dNw.SM_CLEANUP_CRON_GROUP at  21:<br>47:08 05/31/2017 with resulting trigger instruction code: DO NOTHING<br> id = 168<br> cluster = 4\"], \"marker\": {\"opacity\": 0.5, \"color\": \"red\", \"size\": 8}, \"mode\": \"markers\", \"y\": [\"0.509410225426\", \"0.509410225426\", \"0.509410225426\", \"0.509410225426\", \"0.509410225426\"], \"x\": [\"-0.324433226255\", \"-0.324433226255\", \"-0.324433226255\", \"-0.324433226255\", \"-0.324433226255\"], \"z\": [\"20\", \"1\", \"20\", \"1\", \"3\"], \"type\": \"scatter3d\"}, {\"legendgroup\": \"cluster - 5\", \"name\": \"cluster - 5\", \"text\": [\"INFO  [2017-05-31 21:35:18,184] com.novemberain.quartz.mongodb.dao.LocksDao: Inserting lock for trig<br>ger DEFAULT.qg1NzWlPRhK-6JwXye_1ug<br> id = 2<br> cluster = 5\", \"INFO  [2017-05-31 21:35:18,182] com.novemberain.quartz.mongodb.dao.LocksDao: Trigger lock DEFAULT.vJ<br>3t7B6hTYyugnJ0JifqXA.NON_CLUSTERED removed.<br> id = 5<br> cluster = 5\", \"INFO  [2017-05-31 21:35:18,181] com.novemberain.quartz.mongodb.dao.LocksDao: Removing trigger lock D<br>EFAULT.vJ3t7B6hTYyugnJ0JifqXA.NON_CLUSTERED<br> id = 6<br> cluster = 5\", \"INFO  [2017-05-31 21:35:08,731] com.novemberain.quartz.mongodb.dao.LocksDao: Trigger lock DEFAULT.D3<br>H_QL6_Riqw6hHqkzR--A.NON_CLUSTERED removed.<br> id = 17<br> cluster = 5\", \"INFO  [2017-05-31 21:36:18,184] com.novemberain.quartz.mongodb.dao.LocksDao: Inserting lock for trig<br>ger DEFAULT.qg1NzWlPRhK-6JwXye_1ug<br> id = 43<br> cluster = 5\", \"INFO  [2017-05-31 21:36:18,181] com.novemberain.quartz.mongodb.dao.LocksDao: Trigger lock DEFAULT.vJ<br>3t7B6hTYyugnJ0JifqXA.NON_CLUSTERED removed.<br> id = 46<br> cluster = 5\", \"INFO  [2017-05-31 21:36:18,181] com.novemberain.quartz.mongodb.dao.LocksDao: Removing trigger lock D<br>EFAULT.vJ3t7B6hTYyugnJ0JifqXA.NON_CLUSTERED<br> id = 47<br> cluster = 5\", \"INFO  [2017-05-31 21:36:08,731] com.novemberain.quartz.mongodb.dao.LocksDao: Trigger lock DEFAULT.D3<br>H_QL6_Riqw6hHqkzR--A.NON_CLUSTERED removed.<br> id = 57<br> cluster = 5\"], \"marker\": {\"opacity\": 0.5, \"color\": \"blue\", \"size\": 6}, \"mode\": \"markers\", \"y\": [\"0.513079088552\", \"0.561703172657\", \"0.645784208878\", \"0.561703172657\", \"0.513077981398\", \"0.561703172657\", \"0.645784208878\", \"0.561703172657\"], \"x\": [\"0.31404417974\", \"0.226278194046\", \"0.163995931672\", \"0.226278194046\", \"0.3140439955\", \"0.226278194046\", \"0.163995931672\", \"0.226278194046\"], \"z\": [\"29\", \"23\", \"29\", \"6\", \"29\", \"23\", \"29\", \"6\"], \"type\": \"scatter3d\"}, {\"legendgroup\": \"cluster - 5\", \"name\": \"cluster - 5\", \"text\": [\"INFO  [2017-05-31 21:45:32,587] com.novemberain.quartz.mongodb.dao.LocksDao: Trigger lock DEFAULT.JG<br>e5oLOLTyGP_qgqF1YW1A.NON_CLUSTERED removed.<br> id = 77<br> cluster = 5\", \"INFO  [2017-05-31 21:45:31,927] com.novemberain.quartz.mongodb.dao.LocksDao: Trigger lock DEFAULT.cM<br>r2y3_5Q-qhVZHKSgtAww.NON_CLUSTERED removed.<br> id = 83<br> cluster = 5\", \"INFO  [2017-05-31 21:46:38,311] com.novemberain.quartz.mongodb.dao.LocksDao: Trigger lock DEFAULT.0d<br>CbD2LCQ3uMm_RlVLMG2A.NON_CLUSTERED removed.<br> id = 112<br> cluster = 5\", \"INFO  [2017-05-31 21:46:38,310] com.novemberain.quartz.mongodb.dao.LocksDao: Removing trigger lock D<br>EFAULT.0dCbD2LCQ3uMm_RlVLMG2A.NON_CLUSTERED<br> id = 113<br> cluster = 5\", \"INFO  [2017-05-31 21:46:31,928] com.novemberain.quartz.mongodb.dao.LocksDao: Trigger lock DEFAULT.cM<br>r2y3_5Q-qhVZHKSgtAww.NON_CLUSTERED removed.<br> id = 122<br> cluster = 5\", \"INFO  [2017-05-31 21:47:24,816] com.novemberain.quartz.mongodb.dao.LocksDao: Trigger lock DEFAULT.qg<br>1NzWlPRhK-6JwXye_1ug.NON_CLUSTERED removed.<br> id = 148<br> cluster = 5\", \"INFO  [2017-05-31 21:47:24,815] com.novemberain.quartz.mongodb.dao.LocksDao: Removing trigger lock D<br>EFAULT.qg1NzWlPRhK-6JwXye_1ug.NON_CLUSTERED<br> id = 149<br> cluster = 5\", \"INFO  [2017-05-31 21:47:08,731] com.novemberain.quartz.mongodb.dao.LocksDao: Trigger lock DEFAULT.D3<br>H_QL6_Riqw6hHqkzR--A.NON_CLUSTERED removed.<br> id = 163<br> cluster = 5\"], \"marker\": {\"opacity\": 0.5, \"color\": \"orange\", \"size\": 7}, \"mode\": \"markers\", \"y\": [\"0.561703172657\", \"0.561703172657\", \"0.561703172657\", \"0.645784208878\", \"0.561703172657\", \"0.561703172657\", \"0.645784208878\", \"0.561703172657\"], \"x\": [\"0.226278194046\", \"0.226278194046\", \"0.226278194046\", \"0.163995931672\", \"0.226278194046\", \"0.226278194046\", \"0.163995931672\", \"0.226278194046\"], \"z\": [\"23\", \"6\", \"23\", \"29\", \"6\", \"19\", \"23\", \"4\"], \"type\": \"scatter3d\"}, {\"legendgroup\": \"cluster - 5\", \"name\": \"cluster - 5\", \"text\": [\"INFO  [2017-05-31 21:45:32,589] com.novemberain.quartz.mongodb.dao.LocksDao: Inserting lock for trig<br>ger DEFAULT.0dCbD2LCQ3uMm_RlVLMG2A<br> id = 75<br> cluster = 5\", \"INFO  [2017-05-31 21:45:32,586] com.novemberain.quartz.mongodb.dao.LocksDao: Removing trigger lock D<br>EFAULT.JGe5oLOLTyGP_qgqF1YW1A.NON_CLUSTERED<br> id = 78<br> cluster = 5\", \"INFO  [2017-05-31 21:46:38,313] com.novemberain.quartz.mongodb.dao.LocksDao: Inserting lock for trig<br>ger DEFAULT.SFmGy4xrRpad9Mql-fTqlg<br> id = 110<br> cluster = 5\", \"INFO  [2017-05-31 21:47:24,818] com.novemberain.quartz.mongodb.dao.LocksDao: Inserting lock for trig<br>ger DEFAULT.zrYxDJ8ASo658RtE7UhNug<br> id = 146<br> cluster = 5\"], \"marker\": {\"opacity\": 0.5, \"color\": \"red\", \"size\": 8}, \"mode\": \"markers\", \"y\": [\"0.513077981398\", \"0.645784208878\", \"0.513079088552\", \"0.51154612074\"], \"x\": [\"0.3140439955\", \"0.163995931672\", \"0.31404417974\", \"0.357147654007\"], \"z\": [\"29\", \"29\", \"29\", \"23\"], \"type\": \"scatter3d\"}, {\"legendgroup\": \"cluster - 6\", \"name\": \"cluster - 6\", \"text\": [\"INFO  [2017-05-31 21:35:18,038] software.wings.service.impl.DelegateServiceImpl: registering delegat<br>e: Delegate{accountId='kmpySmUISimoRrJL6NL73w', status=ENABLED, connected=true, ip='172.31.51.78', h<br>ostName='ip-172-31-51-78', lastHeartBeat=1496266518037, version='1.0.10', supportedTaskTypes=[HTTP, <br>SPLUNK, APP_DYNAMICS, JENKINS, JENKINS_COLLECTION, BAMBOO_COLLECTION, COMMAND, JENKINS_GET_BUILDS, J<br>ENKINS_GET_JOBS, JENKINS_GET_ARTIFACT_PATHS, JENKINS_LAST_SUCCESSFUL_BUILD, JENKINS_GET_PLANS, JENKI<br>NS_VALIDATE_ARTIFACT_SERVER, BAMBOO_GET_BUILDS, BAMBOO_GET_JOBS, BAMBOO_GET_ARTIFACT_PATHS, BAMBOO_L<br>AST_SUCCESSFUL_BUILD, BAMBOO_GET_PLANS, BAMBOO_VALIDATE_ARTIFACT_SERVER, DOCKER_GET_BUILDS, DOCKER_V<br>ALIDATE_ARTIFACT_SERVER, DOCKER_VALIDATE_ARTIFACT_STREAM, NEXUS_GET_JOBS, NEXUS_GET_PLANS, NEXUS_GET<br>_ARTIFACT_PATHS, NEXUS_GET_GROUP_IDS, NEXUS_GET_ARTIFACT_NAMES, NEXUS_GET_BUILDS, NEXUS_LAST_SUCCESS<br>FUL_BUILD, NEXUS_COLLECTION, NEXUS_VALIDATE_ARTIFACT_SERVER, APPDYNAMICS_CONFIGURATION_VALIDATE_TASK<br> id = 11<br> cluster = 6\", \"INFO  [2017-05-31 21:36:19,600] software.wings.service.impl.DelegateServiceImpl: registering delegat<br>e: Delegate{accountId='kmpySmUISimoRrJL6NL73w', status=ENABLED, connected=true, ip='172.31.51.78', h<br>ostName='ip-172-31-51-78', lastHeartBeat=1496266578037, version='1.0.10', supportedTaskTypes=[HTTP, <br>SPLUNK, APP_DYNAMICS, JENKINS, JENKINS_COLLECTION, BAMBOO_COLLECTION, COMMAND, JENKINS_GET_BUILDS, J<br>ENKINS_GET_JOBS, JENKINS_GET_ARTIFACT_PATHS, JENKINS_LAST_SUCCESSFUL_BUILD, JENKINS_GET_PLANS, JENKI<br>NS_VALIDATE_ARTIFACT_SERVER, BAMBOO_GET_BUILDS, BAMBOO_GET_JOBS, BAMBOO_GET_ARTIFACT_PATHS, BAMBOO_L<br>AST_SUCCESSFUL_BUILD, BAMBOO_GET_PLANS, BAMBOO_VALIDATE_ARTIFACT_SERVER, DOCKER_GET_BUILDS, DOCKER_V<br>ALIDATE_ARTIFACT_SERVER, DOCKER_VALIDATE_ARTIFACT_STREAM, NEXUS_GET_JOBS, NEXUS_GET_PLANS, NEXUS_GET<br>_ARTIFACT_PATHS, NEXUS_GET_GROUP_IDS, NEXUS_GET_ARTIFACT_NAMES, NEXUS_GET_BUILDS, NEXUS_LAST_SUCCESS<br>FUL_BUILD, NEXUS_COLLECTION, NEXUS_VALIDATE_ARTIFACT_SERVER, APPDYNAMICS_CONFIGURATION_VALIDATE_TASK<br> id = 41<br> cluster = 6\"], \"marker\": {\"opacity\": 0.5, \"color\": \"blue\", \"size\": 6}, \"mode\": \"markers\", \"y\": [\"0.190920128156\", \"0.190920128156\"], \"x\": [\"0.747054768239\", \"0.747054768239\"], \"z\": [\"2\", \"1\"], \"type\": \"scatter3d\"}, {\"legendgroup\": \"cluster - 6\", \"name\": \"cluster - 6\", \"text\": [\"INFO  [2017-05-31 21:45:18,038] software.wings.service.impl.DelegateServiceImpl: registering delegat<br>e: Delegate{accountId='kmpySmUISimoRrJL6NL73w', status=ENABLED, connected=true, ip='172.31.51.78', h<br>ostName='ip-172-31-51-78', lastHeartBeat=1496267118037, version='1.0.10', supportedTaskTypes=[HTTP, <br>SPLUNK, APP_DYNAMICS, JENKINS, JENKINS_COLLECTION, BAMBOO_COLLECTION, COMMAND, JENKINS_GET_BUILDS, J<br>ENKINS_GET_JOBS, JENKINS_GET_ARTIFACT_PATHS, JENKINS_LAST_SUCCESSFUL_BUILD, JENKINS_GET_PLANS, JENKI<br>NS_VALIDATE_ARTIFACT_SERVER, BAMBOO_GET_BUILDS, BAMBOO_GET_JOBS, BAMBOO_GET_ARTIFACT_PATHS, BAMBOO_L<br>AST_SUCCESSFUL_BUILD, BAMBOO_GET_PLANS, BAMBOO_VALIDATE_ARTIFACT_SERVER, DOCKER_GET_BUILDS, DOCKER_V<br>ALIDATE_ARTIFACT_SERVER, DOCKER_VALIDATE_ARTIFACT_STREAM, NEXUS_GET_JOBS, NEXUS_GET_PLANS, NEXUS_GET<br>_ARTIFACT_PATHS, NEXUS_GET_GROUP_IDS, NEXUS_GET_ARTIFACT_NAMES, NEXUS_GET_BUILDS, NEXUS_LAST_SUCCESS<br>FUL_BUILD, NEXUS_COLLECTION, NEXUS_VALIDATE_ARTIFACT_SERVER, APPDYNAMICS_CONFIGURATION_VALIDATE_TASK<br> id = 91<br> cluster = 6\", \"INFO  [2017-05-31 21:47:18,038] software.wings.service.impl.DelegateServiceImpl: registering delegat<br>e: Delegate{accountId='kmpySmUISimoRrJL6NL73w', status=ENABLED, connected=true, ip='172.31.51.78', h<br>ostName='ip-172-31-51-78', lastHeartBeat=1496267238037, version='1.0.10', supportedTaskTypes=[HTTP, <br>SPLUNK, APP_DYNAMICS, JENKINS, JENKINS_COLLECTION, BAMBOO_COLLECTION, COMMAND, JENKINS_GET_BUILDS, J<br>ENKINS_GET_JOBS, JENKINS_GET_ARTIFACT_PATHS, JENKINS_LAST_SUCCESSFUL_BUILD, JENKINS_GET_PLANS, JENKI<br>NS_VALIDATE_ARTIFACT_SERVER, BAMBOO_GET_BUILDS, BAMBOO_GET_JOBS, BAMBOO_GET_ARTIFACT_PATHS, BAMBOO_L<br>AST_SUCCESSFUL_BUILD, BAMBOO_GET_PLANS, BAMBOO_VALIDATE_ARTIFACT_SERVER, DOCKER_GET_BUILDS, DOCKER_V<br>ALIDATE_ARTIFACT_SERVER, DOCKER_VALIDATE_ARTIFACT_STREAM, NEXUS_GET_JOBS, NEXUS_GET_PLANS, NEXUS_GET<br>_ARTIFACT_PATHS, NEXUS_GET_GROUP_IDS, NEXUS_GET_ARTIFACT_NAMES, NEXUS_GET_BUILDS, NEXUS_LAST_SUCCESS<br>FUL_BUILD, NEXUS_COLLECTION, NEXUS_VALIDATE_ARTIFACT_SERVER, APPDYNAMICS_CONFIGURATION_VALIDATE_TASK<br> id = 156<br> cluster = 6\"], \"marker\": {\"opacity\": 0.5, \"color\": \"orange\", \"size\": 7}, \"mode\": \"markers\", \"y\": [\"0.190920128156\", \"0.190920128156\"], \"x\": [\"0.747054768239\", \"0.747054768239\"], \"z\": [\"1\", \"1\"], \"type\": \"scatter3d\"}, {\"legendgroup\": \"cluster - 6\", \"name\": \"cluster - 6\", \"text\": [\"INFO  [2017-05-31 21:46:18,038] software.wings.service.impl.DelegateServiceImpl: registering delegat<br>e: Delegate{accountId='kmpySmUISimoRrJL6NL73w', status=ENABLED, connected=true, ip='172.31.51.78', h<br>ostName='ip-172-31-51-78', lastHeartBeat=1496267178037, version='1.0.10', supportedTaskTypes=[HTTP, <br>SPLUNK, APP_DYNAMICS, JENKINS, JENKINS_COLLECTION, BAMBOO_COLLECTION, COMMAND, JENKINS_GET_BUILDS, J<br>ENKINS_GET_JOBS, JENKINS_GET_ARTIFACT_PATHS, JENKINS_LAST_SUCCESSFUL_BUILD, JENKINS_GET_PLANS, JENKI<br>NS_VALIDATE_ARTIFACT_SERVER, BAMBOO_GET_BUILDS, BAMBOO_GET_JOBS, BAMBOO_GET_ARTIFACT_PATHS, BAMBOO_L<br>AST_SUCCESSFUL_BUILD, BAMBOO_GET_PLANS, BAMBOO_VALIDATE_ARTIFACT_SERVER, DOCKER_GET_BUILDS, DOCKER_V<br>ALIDATE_ARTIFACT_SERVER, DOCKER_VALIDATE_ARTIFACT_STREAM, NEXUS_GET_JOBS, NEXUS_GET_PLANS, NEXUS_GET<br>_ARTIFACT_PATHS, NEXUS_GET_GROUP_IDS, NEXUS_GET_ARTIFACT_NAMES, NEXUS_GET_BUILDS, NEXUS_LAST_SUCCESS<br>FUL_BUILD, NEXUS_COLLECTION, NEXUS_VALIDATE_ARTIFACT_SERVER, APPDYNAMICS_CONFIGURATION_VALIDATE_TASK<br> id = 130<br> cluster = 6\"], \"marker\": {\"opacity\": 0.5, \"color\": \"red\", \"size\": 8}, \"mode\": \"markers\", \"y\": [\"0.190920128156\"], \"x\": [\"0.747054768239\"], \"z\": [\"1\"], \"type\": \"scatter3d\"}, {\"legendgroup\": \"cluster - 7\", \"name\": \"cluster - 7\", \"text\": [\"WARN  [2017-05-31 21:34:54,590] software.wings.waitnotify.Notifier: No entry in the waitQueue found <br>for the correlationIds: [kaG4hDwsRKGmNSEMH3MMgQ, 0UrlPx9sQeKA8pxVYP-AZA, hsbXDjzWTCWFfojREmmvSQ, hSp<br>55cwERwmz5ujaZsfwHQ, nJ3D48oOR-23j2MNYg1jHg, EoXOwhUZSjCgev5cHT6kTA, PYIm79AoRoif3R54ioxAGQ, WH9DCdn<br>xTt62b2MxgnBcqg, IYpXXgyJRGaKsXwF0n4a2A, hxzQPR1EQ5uIJW8LA1eDdQ, UmxbtjIWRuqo_aPJ0P4LDQ, 4xrEUEZ2Sgy<br>jypHGYbDRWQ, n01fA-jeSmaT3sbKtZeJzQ, x6fH5SIwQFq0YvC4p7q5_w, 7w0hvNANSW2AggOMn9w2VA, uM5q5HwSRUupJGl<br>Ed6AeTQ, kdS593IUSue4F68ne-P9ag, Ielw1FmMTRidCW6x4d32Vw, f67p97lWQ3CBqDhqCdYeVw, MMq8fSgVRgOls-jD--p<br>WdA, e0H1_6lfRk2_HJUrBJrBtg, tywf4xRhTemM7wc29BcaOw, Q4T-ZCukTmGmISoz-AQJLQ, 2zzAawdaTiumWRfU5PHcBQ,<br> EZSU2TmYRYegZ0YA_2WVnQ, 8xEYjmenTmi-eu8nmHC6rQ, 0Mws3BToTj64MPAxHShjBw, zy4600e0QZ6P6QIv21PIkg, 32O<br>m2QDqSIqvaQCAJYcHfQ, UYd9BQztRwGwegq1rFWKjw, R_Pzz35_Sw6sxpXUQGGOGw, zN8PfdYYQneISSbW9gojhg, YDwjc5t<br>QS6ynOvWaJgbwmg, Ez-HkRjITUO2aeRxfOABGQ, gyoKLsf0STCB-fTUxBDf-g, 0fKMcZEYSJmWhykY71FH4g, tvmhP5EPTbK<br> id = 29<br> cluster = 7\", \"WARN  [2017-05-31 21:35:54,623] software.wings.waitnotify.Notifier: No entry in the waitQueue found <br>for the correlationIds: [kaG4hDwsRKGmNSEMH3MMgQ, 0UrlPx9sQeKA8pxVYP-AZA, hsbXDjzWTCWFfojREmmvSQ, hSp<br>55cwERwmz5ujaZsfwHQ, nJ3D48oOR-23j2MNYg1jHg, EoXOwhUZSjCgev5cHT6kTA, PYIm79AoRoif3R54ioxAGQ, WH9DCdn<br>xTt62b2MxgnBcqg, IYpXXgyJRGaKsXwF0n4a2A, hxzQPR1EQ5uIJW8LA1eDdQ, UmxbtjIWRuqo_aPJ0P4LDQ, 4xrEUEZ2Sgy<br>jypHGYbDRWQ, n01fA-jeSmaT3sbKtZeJzQ, x6fH5SIwQFq0YvC4p7q5_w, 7w0hvNANSW2AggOMn9w2VA, uM5q5HwSRUupJGl<br>Ed6AeTQ, kdS593IUSue4F68ne-P9ag, Ielw1FmMTRidCW6x4d32Vw, f67p97lWQ3CBqDhqCdYeVw, MMq8fSgVRgOls-jD--p<br>WdA, e0H1_6lfRk2_HJUrBJrBtg, tywf4xRhTemM7wc29BcaOw, Q4T-ZCukTmGmISoz-AQJLQ, 2zzAawdaTiumWRfU5PHcBQ,<br> EZSU2TmYRYegZ0YA_2WVnQ, 8xEYjmenTmi-eu8nmHC6rQ, 0Mws3BToTj64MPAxHShjBw, zy4600e0QZ6P6QIv21PIkg, 32O<br>m2QDqSIqvaQCAJYcHfQ, UYd9BQztRwGwegq1rFWKjw, R_Pzz35_Sw6sxpXUQGGOGw, zN8PfdYYQneISSbW9gojhg, YDwjc5t<br>QS6ynOvWaJgbwmg, Ez-HkRjITUO2aeRxfOABGQ, gyoKLsf0STCB-fTUxBDf-g, 0fKMcZEYSJmWhykY71FH4g, tvmhP5EPTbK<br> id = 69<br> cluster = 7\"], \"marker\": {\"opacity\": 0.5, \"color\": \"blue\", \"size\": 6}, \"mode\": \"markers\", \"y\": [\"-0.85131970793\", \"-0.85131970793\"], \"x\": [\"-0.0802719400314\", \"-0.0802719400305\"], \"z\": [\"2\", \"2\"], \"type\": \"scatter3d\"}, {\"legendgroup\": \"cluster - 7\", \"name\": \"cluster - 7\", \"text\": [\"WARN  [2017-05-31 21:45:24,942] software.wings.waitnotify.Notifier: No entry in the waitQueue found <br>for the correlationIds: [kaG4hDwsRKGmNSEMH3MMgQ, 0UrlPx9sQeKA8pxVYP-AZA, hsbXDjzWTCWFfojREmmvSQ, hSp<br>55cwERwmz5ujaZsfwHQ, nJ3D48oOR-23j2MNYg1jHg, EoXOwhUZSjCgev5cHT6kTA, PYIm79AoRoif3R54ioxAGQ, WH9DCdn<br>xTt62b2MxgnBcqg, IYpXXgyJRGaKsXwF0n4a2A, hxzQPR1EQ5uIJW8LA1eDdQ, UmxbtjIWRuqo_aPJ0P4LDQ, 4xrEUEZ2Sgy<br>jypHGYbDRWQ, n01fA-jeSmaT3sbKtZeJzQ, x6fH5SIwQFq0YvC4p7q5_w, 7w0hvNANSW2AggOMn9w2VA, uM5q5HwSRUupJGl<br>Ed6AeTQ, kdS593IUSue4F68ne-P9ag, Ielw1FmMTRidCW6x4d32Vw, f67p97lWQ3CBqDhqCdYeVw, MMq8fSgVRgOls-jD--p<br>WdA, e0H1_6lfRk2_HJUrBJrBtg, tywf4xRhTemM7wc29BcaOw, Q4T-ZCukTmGmISoz-AQJLQ, 2zzAawdaTiumWRfU5PHcBQ,<br> EZSU2TmYRYegZ0YA_2WVnQ, 8xEYjmenTmi-eu8nmHC6rQ, 0Mws3BToTj64MPAxHShjBw, zy4600e0QZ6P6QIv21PIkg, 32O<br>m2QDqSIqvaQCAJYcHfQ, UYd9BQztRwGwegq1rFWKjw, R_Pzz35_Sw6sxpXUQGGOGw, zN8PfdYYQneISSbW9gojhg, YDwjc5t<br>QS6ynOvWaJgbwmg, Ez-HkRjITUO2aeRxfOABGQ, gyoKLsf0STCB-fTUxBDf-g, 0fKMcZEYSJmWhykY71FH4g, tvmhP5EPTbK<br> id = 90<br> cluster = 7\", \"WARN  [2017-05-31 21:46:24,975] software.wings.waitnotify.Notifier: No entry in the waitQueue found <br>for the correlationIds: [kaG4hDwsRKGmNSEMH3MMgQ, 0UrlPx9sQeKA8pxVYP-AZA, hsbXDjzWTCWFfojREmmvSQ, hSp<br>55cwERwmz5ujaZsfwHQ, nJ3D48oOR-23j2MNYg1jHg, EoXOwhUZSjCgev5cHT6kTA, PYIm79AoRoif3R54ioxAGQ, WH9DCdn<br>xTt62b2MxgnBcqg, IYpXXgyJRGaKsXwF0n4a2A, hxzQPR1EQ5uIJW8LA1eDdQ, UmxbtjIWRuqo_aPJ0P4LDQ, 4xrEUEZ2Sgy<br>jypHGYbDRWQ, n01fA-jeSmaT3sbKtZeJzQ, x6fH5SIwQFq0YvC4p7q5_w, 7w0hvNANSW2AggOMn9w2VA, uM5q5HwSRUupJGl<br>Ed6AeTQ, kdS593IUSue4F68ne-P9ag, Ielw1FmMTRidCW6x4d32Vw, f67p97lWQ3CBqDhqCdYeVw, MMq8fSgVRgOls-jD--p<br>WdA, e0H1_6lfRk2_HJUrBJrBtg, tywf4xRhTemM7wc29BcaOw, Q4T-ZCukTmGmISoz-AQJLQ, 2zzAawdaTiumWRfU5PHcBQ,<br> EZSU2TmYRYegZ0YA_2WVnQ, 8xEYjmenTmi-eu8nmHC6rQ, 0Mws3BToTj64MPAxHShjBw, zy4600e0QZ6P6QIv21PIkg, 32O<br>m2QDqSIqvaQCAJYcHfQ, UYd9BQztRwGwegq1rFWKjw, R_Pzz35_Sw6sxpXUQGGOGw, zN8PfdYYQneISSbW9gojhg, YDwjc5t<br>QS6ynOvWaJgbwmg, Ez-HkRjITUO2aeRxfOABGQ, gyoKLsf0STCB-fTUxBDf-g, 0fKMcZEYSJmWhykY71FH4g, tvmhP5EPTbK<br> id = 129<br> cluster = 7\", \"WARN  [2017-05-31 21:47:25,007] software.wings.waitnotify.Notifier: No entry in the waitQueue found <br>for the correlationIds: [kaG4hDwsRKGmNSEMH3MMgQ, 0UrlPx9sQeKA8pxVYP-AZA, hsbXDjzWTCWFfojREmmvSQ, hSp<br>55cwERwmz5ujaZsfwHQ, nJ3D48oOR-23j2MNYg1jHg, EoXOwhUZSjCgev5cHT6kTA, PYIm79AoRoif3R54ioxAGQ, WH9DCdn<br>xTt62b2MxgnBcqg, IYpXXgyJRGaKsXwF0n4a2A, hxzQPR1EQ5uIJW8LA1eDdQ, UmxbtjIWRuqo_aPJ0P4LDQ, 4xrEUEZ2Sgy<br>jypHGYbDRWQ, n01fA-jeSmaT3sbKtZeJzQ, x6fH5SIwQFq0YvC4p7q5_w, 7w0hvNANSW2AggOMn9w2VA, uM5q5HwSRUupJGl<br>Ed6AeTQ, kdS593IUSue4F68ne-P9ag, Ielw1FmMTRidCW6x4d32Vw, f67p97lWQ3CBqDhqCdYeVw, MMq8fSgVRgOls-jD--p<br>WdA, e0H1_6lfRk2_HJUrBJrBtg, tywf4xRhTemM7wc29BcaOw, Q4T-ZCukTmGmISoz-AQJLQ, 2zzAawdaTiumWRfU5PHcBQ,<br> EZSU2TmYRYegZ0YA_2WVnQ, 8xEYjmenTmi-eu8nmHC6rQ, 0Mws3BToTj64MPAxHShjBw, zy4600e0QZ6P6QIv21PIkg, 32O<br>m2QDqSIqvaQCAJYcHfQ, UYd9BQztRwGwegq1rFWKjw, R_Pzz35_Sw6sxpXUQGGOGw, zN8PfdYYQneISSbW9gojhg, YDwjc5t<br>QS6ynOvWaJgbwmg, Ez-HkRjITUO2aeRxfOABGQ, gyoKLsf0STCB-fTUxBDf-g, 0fKMcZEYSJmWhykY71FH4g, tvmhP5EPTbK<br> id = 144<br> cluster = 7\"], \"marker\": {\"opacity\": 0.5, \"color\": \"red\", \"size\": 8}, \"mode\": \"markers\", \"y\": [\"-0.851319707932\", \"-0.851319707929\", \"0.267214765638\"], \"x\": [\"-0.0802719399444\", \"-0.0802719400412\", \"0.697195266201\"], \"z\": [\"2\", \"2\", \"2\"], \"type\": \"scatter3d\"}, {\"legendgroup\": \"cluster - 8\", \"name\": \"cluster - 8\", \"text\": [\"INFO  [2017-05-31 21:34:29,942] software.wings.app.DelegateQueueTask: Broadcast queued sync task [ld<br>gb6-rBSbmK1Gdb5FSDLQ, null, QUEUED]<br> id = 34<br> cluster = 8\", \"INFO  [2017-05-31 21:34:29,941] software.wings.app.DelegateQueueTask: Broadcast queued sync task [ox<br>yvKQ8lQR24IkQN778Ljw, null, QUEUED]<br> id = 35<br> cluster = 8\", \"INFO  [2017-05-31 21:34:29,941] software.wings.app.DelegateQueueTask: Broadcast queued sync task [Zd<br>Z-c4CRQWGuufUP-SjpUA, null, QUEUED]<br> id = 36<br> cluster = 8\", \"INFO  [2017-05-31 21:34:29,939] software.wings.app.DelegateQueueTask: Broadcast queued sync task [96<br>FLHYp5TsaWQN6WEHCpkg, null, QUEUED]<br> id = 37<br> cluster = 8\"], \"marker\": {\"opacity\": 0.5, \"color\": \"blue\", \"size\": 6}, \"mode\": \"markers\", \"y\": [\"-0.0681120082237\", \"-0.0585344503326\", \"-0.0681120082237\", \"-0.0654573818999\"], \"x\": [\"0.717328896172\", \"0.733610438431\", \"0.717328896172\", \"0.730972870992\"], \"z\": [\"4\", \"13\", \"2\", \"6\"], \"type\": \"scatter3d\"}, {\"legendgroup\": \"cluster - 9\", \"name\": \"cluster - 9\", \"text\": [\"INFO  [2017-05-31 21:35:18,183] com.novemberain.quartz.mongodb.dao.TriggerDao: Found 2 triggers whic<br>h are eligible to be run.<br> id = 3<br> cluster = 9\", \"INFO  [2017-05-31 21:36:18,182] com.novemberain.quartz.mongodb.dao.TriggerDao: Found 2 triggers whic<br>h are eligible to be run.<br> id = 44<br> cluster = 9\"], \"marker\": {\"opacity\": 0.5, \"color\": \"blue\", \"size\": 6}, \"mode\": \"markers\", \"y\": [\"0.444466167471\", \"0.444466173002\"], \"x\": [\"0.625270563183\", \"0.625270560989\"], \"z\": [\"29\", \"29\"], \"type\": \"scatter3d\"}, {\"legendgroup\": \"cluster - 9\", \"name\": \"cluster - 9\", \"text\": [\"INFO  [2017-05-31 21:45:32,588] com.novemberain.quartz.mongodb.dao.TriggerDao: Found 2 triggers whic<br>h are eligible to be run.<br> id = 76<br> cluster = 9\", \"INFO  [2017-05-31 21:46:38,311] com.novemberain.quartz.mongodb.dao.TriggerDao: Found 2 triggers whic<br>h are eligible to be run.<br> id = 111<br> cluster = 9\", \"INFO  [2017-05-31 21:47:24,817] com.novemberain.quartz.mongodb.dao.TriggerDao: Found 4 triggers whic<br>h are eligible to be run.<br> id = 147<br> cluster = 9\"], \"marker\": {\"opacity\": 0.5, \"color\": \"orange\", \"size\": 7}, \"mode\": \"markers\", \"y\": [\"0.444466167471\", \"0.444466173002\", \"0.444466167471\"], \"x\": [\"0.625270563183\", \"0.625270560989\", \"0.625270563183\"], \"z\": [\"29\", \"29\", \"23\"], \"type\": \"scatter3d\"}, {\"legendgroup\": \"cluster - 10\", \"name\": \"cluster - 10\", \"text\": [\"2017-05-31 21:36:19:690 [AsyncAppender-Worker-async-syslog-accesslogs-appender] com.cloudbees.syslog<br>.sender.TcpSyslogMessageSender - INFO: InetAddress of the Syslog Server have changed, create a new c<br>onnection. Before=syslog-a.logdna.com/40.71.95.146, new=syslog-a.logdna.com/40.114.45.243<br> id = 39<br> cluster = 10\", \"2017-05-31 21:36:19:690 [AsyncAppender-Worker-async-rsyslog-tcp-ssl-appender] com.cloudbees.syslog.s<br>ender.TcpSyslogMessageSender - INFO: InetAddress of the Syslog Server have changed, create a new con<br>nection. Before=syslog-a.logdna.com/40.71.95.146, new=syslog-a.logdna.com/40.114.45.243<br> id = 40<br> cluster = 10\"], \"marker\": {\"opacity\": 0.5, \"color\": \"blue\", \"size\": 6}, \"mode\": \"markers\", \"y\": [\"-0.25142874209\", \"-0.251428742058\"], \"x\": [\"0.698719625624\", \"0.698719625631\"], \"z\": [\"1\", \"1\"], \"type\": \"scatter3d\"}, {\"legendgroup\": \"cluster - 10\", \"name\": \"cluster - 10\", \"text\": [\"2017-05-31 21:46:09:151 [AsyncAppender-Worker-async-syslog-accesslogs-appender] com.cloudbees.syslog<br>.sender.TcpSyslogMessageSender - INFO: InetAddress of the Syslog Server have changed, create a new c<br>onnection. Before=syslog-a.logdna.com/40.114.45.243, new=syslog-a.logdna.com/40.114.41.103<br> id = 132<br> cluster = 10\", \"2017-05-31 21:47:14:191 [AsyncAppender-Worker-async-syslog-accesslogs-appender] com.cloudbees.syslog<br>.sender.TcpSyslogMessageSender - INFO: InetAddress of the Syslog Server have changed, create a new c<br>onnection. Before=syslog-a.logdna.com/40.114.41.103, new=syslog-a.logdna.com/40.114.40.67<br> id = 161<br> cluster = 10\"], \"marker\": {\"opacity\": 0.5, \"color\": \"orange\", \"size\": 7}, \"mode\": \"markers\", \"y\": [\"-0.25142874209\", \"-0.251428742058\"], \"x\": [\"0.698719625624\", \"0.698719625631\"], \"z\": [\"1\", \"1\"], \"type\": \"scatter3d\"}, {\"legendgroup\": \"cluster - 10\", \"name\": \"cluster - 10\", \"text\": [\"2017-05-31 21:45:08:338 [AsyncAppender-Worker-async-rsyslog-tcp-ssl-appender] com.cloudbees.syslog.s<br>ender.TcpSyslogMessageSender - INFO: InetAddress of the Syslog Server have changed, create a new con<br>nection. Before=syslog-a.logdna.com/40.114.41.103, new=syslog-a.logdna.com/40.114.45.243<br> id = 99<br> cluster = 10\", \"2017-05-31 21:45:05:247 [AsyncAppender-Worker-async-syslog-accesslogs-appender] com.cloudbees.syslog<br>.sender.TcpSyslogMessageSender - INFO: InetAddress of the Syslog Server have changed, create a new c<br>onnection. Before=syslog-a.logdna.com/40.114.41.103, new=syslog-a.logdna.com/40.114.45.243<br> id = 102<br> cluster = 10\", \"2017-05-31 21:46:13:679 [AsyncAppender-Worker-async-rsyslog-tcp-ssl-appender] com.cloudbees.syslog.s<br>ender.TcpSyslogMessageSender - INFO: InetAddress of the Syslog Server have changed, create a new con<br>nection. Before=syslog-a.logdna.com/40.114.45.243, new=syslog-a.logdna.com/40.114.41.103<br> id = 131<br> cluster = 10\", \"2017-05-31 21:47:24:814 [AsyncAppender-Worker-async-rsyslog-tcp-ssl-appender] com.cloudbees.syslog.s<br>ender.TcpSyslogMessageSender - INFO: InetAddress of the Syslog Server have changed, create a new con<br>nection. Before=syslog-a.logdna.com/40.114.41.103, new=syslog-a.logdna.com/40.114.40.67<br> id = 152<br> cluster = 10\"], \"marker\": {\"opacity\": 0.5, \"color\": \"red\", \"size\": 8}, \"mode\": \"markers\", \"y\": [\"-0.251428742058\", \"-0.25142874209\", \"-0.251428742058\", \"-0.25142874209\"], \"x\": [\"0.698719625631\", \"0.698719625624\", \"0.698719625631\", \"0.698719625624\"], \"z\": [\"2\", \"1\", \"1\", \"1\"], \"type\": \"scatter3d\"}, {\"legendgroup\": \"cluster - 11\", \"name\": \"cluster - 11\", \"text\": [\"172.31.15.70 - - [31/May/2017:21:35:12 +0000] \\\"GET /todolist/health-check HTTP/1.1\\\" 200 50<br> id = 0<br> cluster = 11\"], \"marker\": {\"opacity\": 0.5, \"color\": \"blue\", \"size\": 6}, \"mode\": \"markers\", \"y\": [\"-0.853090122896\"], \"x\": [\"0.117698243793\"], \"z\": [\"4\"], \"type\": \"scatter3d\"}, {\"legendgroup\": \"cluster - 12\", \"name\": \"cluster - 12\", \"text\": [\"INFO  [2017-05-31 21:35:18,184] com.novemberain.quartz.mongodb.TriggerRunner: Acquired trigger: DEFA<br>ULT.qg1NzWlPRhK-6JwXye_1ug<br> id = 1<br> cluster = 12\", \"INFO  [2017-05-31 21:36:18,184] com.novemberain.quartz.mongodb.TriggerRunner: Acquired trigger: DEFA<br>ULT.qg1NzWlPRhK-6JwXye_1ug<br> id = 42<br> cluster = 12\"], \"marker\": {\"opacity\": 0.5, \"color\": \"blue\", \"size\": 6}, \"mode\": \"markers\", \"y\": [\"0.150987230035\", \"0.150987230035\"], \"x\": [\"0.422866593815\", \"0.422866593815\"], \"z\": [\"29\", \"29\"], \"type\": \"scatter3d\"}, {\"legendgroup\": \"cluster - 12\", \"name\": \"cluster - 12\", \"text\": [\"INFO  [2017-05-31 21:45:32,590] com.novemberain.quartz.mongodb.TriggerRunner: Acquired trigger: DEFA<br>ULT.0dCbD2LCQ3uMm_RlVLMG2A<br> id = 74<br> cluster = 12\", \"INFO  [2017-05-31 21:46:38,313] com.novemberain.quartz.mongodb.TriggerRunner: Acquired trigger: DEFA<br>ULT.SFmGy4xrRpad9Mql-fTqlg<br> id = 109<br> cluster = 12\", \"INFO  [2017-05-31 21:47:24,819] com.novemberain.quartz.mongodb.TriggerRunner: Acquired trigger: DEFA<br>ULT.zrYxDJ8ASo658RtE7UhNug<br> id = 145<br> cluster = 12\"], \"marker\": {\"opacity\": 0.5, \"color\": \"orange\", \"size\": 7}, \"mode\": \"markers\", \"y\": [\"0.150987230035\", \"0.150987230035\", \"0.197195575381\"], \"x\": [\"0.422866593815\", \"0.422866593815\", \"0.444927516978\"], \"z\": [\"29\", \"29\", \"23\"], \"type\": \"scatter3d\"}, {\"legendgroup\": \"cluster - 13\", \"name\": \"cluster - 13\", \"text\": [\"INFO  [2017-05-31 21:35:18,182] software.wings.service.impl.DelegateServiceImpl: Broadcast new task:<br> 488s8_pYSTO0ok_UqQNgdg<br> id = 4<br> cluster = 13\", \"INFO  [2017-05-31 21:36:18,182] software.wings.service.impl.DelegateServiceImpl: Broadcast new task:<br> Wa9gNxFqSUKE9h8HqI0VNg<br> id = 45<br> cluster = 13\"], \"marker\": {\"opacity\": 0.5, \"color\": \"blue\", \"size\": 6}, \"mode\": \"markers\", \"y\": [\"-0.00615289191122\", \"-0.387057547139\"], \"x\": [\"0.655305146108\", \"0.631551077907\"], \"z\": [\"13\", \"13\"], \"type\": \"scatter3d\"}, {\"legendgroup\": \"cluster - 13\", \"name\": \"cluster - 13\", \"text\": [\"INFO  [2017-05-31 21:45:25,301] software.wings.service.impl.DelegateServiceImpl: Broadcast new task:<br> 4c9sbdU4RC6k5oAnsV8Rqw<br> id = 88<br> cluster = 13\", \"INFO  [2017-05-31 21:46:25,300] software.wings.service.impl.DelegateServiceImpl: Broadcast new task:<br> UH1yt4G1Q2eCtHOIUY76XA<br> id = 127<br> cluster = 13\", \"INFO  [2017-05-31 21:47:18,181] software.wings.service.impl.DelegateServiceImpl: Broadcast new task:<br> RnDTUmaGTTKV8pSTp2ZDbw<br> id = 155<br> cluster = 13\"], \"marker\": {\"opacity\": 0.5, \"color\": \"red\", \"size\": 8}, \"mode\": \"markers\", \"y\": [\"-0.361751710782\", \"-0.420566768944\", \"0.0241370427095\"], \"x\": [\"0.624591956763\", \"0.626128544331\", \"0.694031129523\"], \"z\": [\"13\", \"13\", \"12\"], \"type\": \"scatter3d\"}, {\"legendgroup\": \"cluster - 14\", \"name\": \"cluster - 14\", \"text\": [\"172.31.15.70 - - [31/May/2017:21:36:12 +0000] \\\"GET /todolist/health-check HTTP/1.1\\\" 200 50<br> id = 38<br> cluster = 14\"], \"marker\": {\"opacity\": 0.5, \"color\": \"blue\", \"size\": 6}, \"mode\": \"markers\", \"y\": [\"-0.838304700696\"], \"x\": [\"0.225165802297\"], \"z\": [\"4\"], \"type\": \"scatter3d\"}, {\"legendgroup\": \"cluster - 15\", \"name\": \"cluster - 15\", \"text\": [\"INFO  [2017-05-31 21:35:17,188] org.quartz.plugins.history.LoggingJobHistoryPlugin: Job 84DUAsWyStm1<br>sg5ZXlMung.ARTIFACT_STREAM_CRON_GROUP fired (by trigger DEFAULT.84DUAsWyStm1sg5ZXlMung) at:  21:35:1<br>7 05/31/2017<br> id = 14<br> cluster = 15\", \"INFO  [2017-05-31 21:35:17,188] org.quartz.plugins.history.LoggingTriggerHistoryPlugin: Trigger DEFA<br>ULT.84DUAsWyStm1sg5ZXlMung fired job 84DUAsWyStm1sg5ZXlMung.ARTIFACT_STREAM_CRON_GROUP at:  21:35:17<br> 05/31/2017<br> id = 15<br> cluster = 15\", \"INFO  [2017-05-31 21:36:17,188] org.quartz.plugins.history.LoggingJobHistoryPlugin: Job 84DUAsWyStm1<br>sg5ZXlMung.ARTIFACT_STREAM_CRON_GROUP fired (by trigger DEFAULT.84DUAsWyStm1sg5ZXlMung) at:  21:36:1<br>7 05/31/2017<br> id = 54<br> cluster = 15\", \"INFO  [2017-05-31 21:36:17,188] org.quartz.plugins.history.LoggingTriggerHistoryPlugin: Trigger DEFA<br>ULT.84DUAsWyStm1sg5ZXlMung fired job 84DUAsWyStm1sg5ZXlMung.ARTIFACT_STREAM_CRON_GROUP at:  21:36:17<br> 05/31/2017<br> id = 55<br> cluster = 15\"], \"marker\": {\"opacity\": 0.5, \"color\": \"blue\", \"size\": 6}, \"mode\": \"markers\", \"y\": [\"-0.377570477325\", \"-0.0979953412973\", \"-0.377570477325\", \"-0.0979953412973\"], \"x\": [\"-0.363010821027\", \"-0.539115276919\", \"-0.363010821027\", \"-0.539115276919\"], \"z\": [\"3\", \"3\", \"3\", \"3\"], \"type\": \"scatter3d\"}, {\"legendgroup\": \"cluster - 15\", \"name\": \"cluster - 15\", \"text\": [\"INFO  [2017-05-31 21:45:17,189] org.quartz.plugins.history.LoggingTriggerHistoryPlugin: Trigger DEFA<br>ULT.84DUAsWyStm1sg5ZXlMung fired job 84DUAsWyStm1sg5ZXlMung.ARTIFACT_STREAM_CRON_GROUP at:  21:45:17<br> 05/31/2017<br> id = 95<br> cluster = 15\"], \"marker\": {\"opacity\": 0.5, \"color\": \"orange\", \"size\": 7}, \"mode\": \"markers\", \"y\": [\"-0.0979953412973\"], \"x\": [\"-0.539115276919\"], \"z\": [\"3\"], \"type\": \"scatter3d\"}, {\"legendgroup\": \"cluster - 15\", \"name\": \"cluster - 15\", \"text\": [\"INFO  [2017-05-31 21:45:17,189] org.quartz.plugins.history.LoggingJobHistoryPlugin: Job 84DUAsWyStm1<br>sg5ZXlMung.ARTIFACT_STREAM_CRON_GROUP fired (by trigger DEFAULT.84DUAsWyStm1sg5ZXlMung) at:  21:45:1<br>7 05/31/2017<br> id = 94<br> cluster = 15\", \"INFO  [2017-05-31 21:47:17,188] org.quartz.plugins.history.LoggingJobHistoryPlugin: Job 84DUAsWyStm1<br>sg5ZXlMung.ARTIFACT_STREAM_CRON_GROUP fired (by trigger DEFAULT.84DUAsWyStm1sg5ZXlMung) at:  21:47:1<br>7 05/31/2017<br> id = 159<br> cluster = 15\", \"INFO  [2017-05-31 21:47:17,188] org.quartz.plugins.history.LoggingTriggerHistoryPlugin: Trigger DEFA<br>ULT.84DUAsWyStm1sg5ZXlMung fired job 84DUAsWyStm1sg5ZXlMung.ARTIFACT_STREAM_CRON_GROUP at:  21:47:17<br> 05/31/2017<br> id = 160<br> cluster = 15\"], \"marker\": {\"opacity\": 0.5, \"color\": \"red\", \"size\": 8}, \"mode\": \"markers\", \"y\": [\"-0.377570477325\", \"-0.377570477325\", \"-0.0979953412973\"], \"x\": [\"-0.363010821027\", \"-0.363010821027\", \"-0.539115276919\"], \"z\": [\"3\", \"2\", \"2\"], \"type\": \"scatter3d\"}], {\"hovermode\": \"closest\"}, {\"linkText\": \"Export to plot.ly\", \"showLink\": false})});</script>"
      ]
     },
     "metadata": {},
     "output_type": "display_data"
    },
    {
     "data": {
      "application/vnd.jupyter.widget-view+json": {
       "model_id": "f1baa07f90d944fc9dc3d0e1c562611f"
      }
     },
     "metadata": {},
     "output_type": "display_data"
    },
    {
     "data": {
      "application/vnd.jupyter.widget-view+json": {
       "model_id": "d26c55865cda442e9e9c764befac0213"
      }
     },
     "metadata": {},
     "output_type": "display_data"
    },
    {
     "data": {
      "application/vnd.jupyter.widget-view+json": {
       "model_id": "36c353d1394648a7bc04be2b6ef36771"
      }
     },
     "metadata": {},
     "output_type": "display_data"
    },
    {
     "data": {
      "application/vnd.jupyter.widget-view+json": {
       "model_id": "c345b4366330456abf43d2728e57b097"
      }
     },
     "metadata": {},
     "output_type": "display_data"
    }
   ],
   "source": [
    "import sys\n",
    "sys.path.insert(0, '..')\n",
    "sys.path.insert(0, 'plots')\n",
    "\n",
    "import os\n",
    "\n",
    "from IPython.display import display\n",
    "from IPython.display import clear_output\n",
    "import ipywidgets as widgets\n",
    "\n",
    "\n",
    "import json\n",
    "from SplunkIntel import SplunkIntel\n",
    "from sources.SplunkDataset import SplunkDataset\n",
    "from sources.SplunkFileSource import SplunkFileSource\n",
    "\n",
    "import plotly as py\n",
    "import pandas as pd\n",
    "import numpy as np\n",
    "import plot as plot\n",
    "\n",
    "py.offline.init_notebook_mode()\n",
    "pd.set_option('display.notebook_repr_html', True)\n",
    "\n",
    "data_sources_names = []\n",
    "\n",
    "data_source_picker = None\n",
    "time_range_picker = None\n",
    "event_picker = None\n",
    "event_text_area = None \n",
    "threshold_picker = None\n",
    "new_time_range_picker = None\n",
    "\n",
    "#create widgets\n",
    "def create_widgets():\n",
    "    global data_source_picker, time_range_picker, event_picker\n",
    "    global event_text_area, threshold_picker, new_time_range_picker\n",
    "    for file in os.listdir(\"../../data\"):\n",
    "            if file.endswith(\".json\"):\n",
    "                data_sources_names.append(file)\n",
    "\n",
    "    data_source_picker = widgets.Dropdown(\n",
    "            options=data_sources_names,\n",
    "            description='Data Source:',\n",
    "            disabled=False,\n",
    "            button_style='' # 'success', 'info', 'warning', 'danger' or ''\n",
    "        )    \n",
    "\n",
    "    time_range_picker = widgets.IntRangeSlider(\n",
    "                value=[1, 2],\n",
    "                min=0,\n",
    "                max=100,\n",
    "                step=1,\n",
    "                description='Control Time:',\n",
    "                disabled=False,\n",
    "                continuous_update=False,\n",
    "                orientation='horizontal',\n",
    "                readout=True,\n",
    "                readout_format='i',\n",
    "                slider_color='white',\n",
    "                color='black'\n",
    "        )\n",
    "    \n",
    "    new_time_range_picker = widgets.IntRangeSlider(\n",
    "                value=[1, 2],\n",
    "                min=0,\n",
    "                max=100,\n",
    "                step=1,\n",
    "                description='Test Time:',\n",
    "                disabled=False,\n",
    "                continuous_update=False,\n",
    "                orientation='horizontal',\n",
    "                readout=True,\n",
    "                readout_format='i',\n",
    "                slider_color='white',\n",
    "                color='black'\n",
    "        )\n",
    "    \n",
    "    threshold_picker = widgets.FloatSlider(\n",
    "                value=0.5,\n",
    "                min=0,\n",
    "                max=1,\n",
    "                step=0.1,\n",
    "                description='Threshold:',\n",
    "                disabled=False,\n",
    "                continuous_update=False,\n",
    "                orientation='horizontal',\n",
    "                readout=True,\n",
    "                readout_format='.1f',\n",
    "                slider_color='white',\n",
    "                color='black'\n",
    "        )\n",
    "    \n",
    "    event_picker = widgets.Dropdown(\n",
    "            options=[1,2,3],\n",
    "            description='Event Number:',\n",
    "            disabled=False,\n",
    "            button_style='' # 'success', 'info', 'warning', 'danger' or ''\n",
    "        )\n",
    "    \n",
    "    l = widgets.Layout(height='40px', width='800px')\n",
    "    event_text_area = widgets.Textarea(value='TA: height=40px', layout=l)\n",
    "\n",
    "    \n",
    "def initialize(change):    \n",
    "    # Just to set the widgets\n",
    "    all_events = []\n",
    "    all_events.extend(SplunkFileSource.load_data('../../data/' + data_source_picker.value))    \n",
    "    minutes = 0\n",
    "    for dict in all_events:\n",
    "        if dict.get('cluster_label') == '1':\n",
    "            minutes = minutes + 1\n",
    "\n",
    "    time_range_picker.value = [1,2]\n",
    "    time_range_picker.min = 1\n",
    "    time_range_picker.max = minutes\n",
    "    \n",
    "    new_time_range_picker.value = [minutes -2, minutes]\n",
    "    new_time_range_picker.min = 1\n",
    "    new_time_range_picker.max = minutes \n",
    "    \n",
    "    change_event_handler(None)\n",
    "    \n",
    "    \n",
    "splunkDataset = SplunkDataset()\n",
    "splunkIntelargs = []\n",
    "\n",
    "def event_picker_change_handler(change):\n",
    "    event_text_area.value = json.dumps(splunkDataset.get_all_events()[event_picker.value])\n",
    "\n",
    "def split(input, length, size):\n",
    "    input.replace('\\n', ' ')\n",
    "    input.replace('\\tat', ' ')\n",
    "    return '<br>'.join([input[start:start + size] for start in range(0, length, size)])\n",
    "\n",
    "def get_tool_tips(all_events):\n",
    "    tooltips = []\n",
    "    for idx, event in enumerate(all_events):\n",
    "        tooltips.append(\n",
    "            split(event[0], min(100, len(event[0])), 100) + '<br> id = ' + str(idx) + '<br> cluster = ' + str(\n",
    "            event[3]))\n",
    "            \n",
    "    return tooltips\n",
    "    \n",
    "# Handle data source change\n",
    "def change_event_handler(change):\n",
    "    global splunkDataset\n",
    "    \n",
    "    clear_output()\n",
    "\n",
    "    \n",
    "    splunkDataset.load_from_file('../../data/' + data_source_picker.value,\n",
    "                                     [time_range_picker.value[0], time_range_picker.value[1]],\n",
    "                                     [new_time_range_picker.value[0], new_time_range_picker.value[1]])\n",
    "    \n",
    "    splunkIntelargs.append('--sim_threshold')\n",
    "    splunkIntelargs.append(str(float(threshold_picker.value)))\n",
    "    \n",
    "    print(splunkIntelargs)\n",
    "\n",
    "    splunkIntel = SplunkIntel(splunkDataset, SplunkIntel.parse(splunkIntelargs))\n",
    "    splunkDataset = splunkIntel.run()\n",
    "\n",
    "    \n",
    "    plot.scatter_plot(splunkDataset.get_xy_matrix_control(), splunkDataset.get_control_events())\n",
    "\n",
    "    plot.scatter_plot_groups(splunkDataset.get_xy_matrix_control(), \n",
    "                             splunkDataset.get_control_clusters(), \n",
    "                             splunkDataset.get_cluster_tags(5))\n",
    "    \n",
    "    plot.scatter_plot_groups(splunkDataset.get_xy_matrix_all(), \n",
    "                             [event[4] for event in splunkDataset.get_all_events()],\n",
    "                            get_tool_tips(splunkDataset.get_all_events()), \n",
    "                             ['control', 'test', 'test-anomaly'], ['blue','orange','red'])\n",
    "    \n",
    "    plot.scatter_plot_groups_4d(splunkDataset.get_xyz_matrix_all(), \n",
    "                                [event[5] for event in splunkDataset.get_all_events()],\n",
    "                                splunkDataset.get_all_clusters(),\n",
    "                                get_tool_tips(splunkDataset.get_all_events()),\n",
    "                                ['blue','orange','red'])\n",
    "\n",
    "\n",
    "            \n",
    "    event_picker.options = [ x for x in range(len(splunkDataset.get_all_events()))] \n",
    "     \n",
    "\n",
    "create_widgets()\n",
    "\n",
    "#intialize\n",
    "initialize(None)\n",
    "    \n",
    "#setup even handlers    \n",
    "data_source_picker.observe(initialize, names=\"value\")\n",
    "time_range_picker.observe(change_event_handler, names=\"value\")\n",
    "new_time_range_picker.observe(change_event_handler, names=\"value\")\n",
    "event_picker.observe(event_picker_change_handler, names=\"value\")\n",
    "threshold_picker.observe(change_event_handler, names=\"value\")\n",
    "\n",
    "\n",
    "\n",
    "# show widgets\n",
    "display(widgets.HBox([data_source_picker]))\n",
    "display(widgets.HBox([time_range_picker, threshold_picker]))\n",
    "display(widgets.HBox([new_time_range_picker]))\n",
    "display(widgets.HBox([event_picker, event_text_area]))"
   ]
  },
  {
   "cell_type": "code",
   "execution_count": null,
   "metadata": {
    "collapsed": true
   },
   "outputs": [],
   "source": []
  },
  {
   "cell_type": "code",
   "execution_count": null,
   "metadata": {
    "collapsed": true
   },
   "outputs": [],
   "source": []
  }
 ],
 "metadata": {
  "kernelspec": {
   "display_name": "Python 2",
   "language": "python",
   "name": "python2"
  },
  "language_info": {
   "codemirror_mode": {
    "name": "ipython",
    "version": 2
   },
   "file_extension": ".py",
   "mimetype": "text/x-python",
   "name": "python",
   "nbconvert_exporter": "python",
   "pygments_lexer": "ipython2",
   "version": "2.7.10"
  }
 },
 "nbformat": 4,
 "nbformat_minor": 2
}
