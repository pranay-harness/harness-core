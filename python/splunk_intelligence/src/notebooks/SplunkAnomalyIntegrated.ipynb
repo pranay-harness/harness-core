{
 "cells": [
  {
   "cell_type": "code",
   "execution_count": 2,
   "metadata": {},
   "outputs": [
    {
     "name": "stdout",
     "output_type": "stream",
     "text": [
      "plotting....\n"
     ]
    },
    {
     "data": {
      "application/vnd.plotly.v1+json": {
       "data": [
        {
         "mode": "markers",
         "text": [
          "172.31.15.70 - - [31/May/2017:21:35:12 +0000] \"GET /todolist/health-check HTTP/1.1\" 200 50<br> id = 0",
          "INFO  [2017-05-31 21:35:18,184] com.novemberain.quartz.mongodb.TriggerRunner: Acquired trigger: DEFA<br> id = 1",
          "INFO  [2017-05-31 21:35:18,184] com.novemberain.quartz.mongodb.dao.LocksDao: Inserting lock for trig<br> id = 2",
          "INFO  [2017-05-31 21:35:18,183] com.novemberain.quartz.mongodb.dao.TriggerDao: Found 2 triggers whic<br> id = 3",
          "INFO  [2017-05-31 21:35:18,182] software.wings.service.impl.DelegateServiceImpl: Broadcast new task:<br> id = 4",
          "INFO  [2017-05-31 21:35:18,182] com.novemberain.quartz.mongodb.dao.LocksDao: Trigger lock DEFAULT.vJ<br> id = 5",
          "INFO  [2017-05-31 21:35:18,181] com.novemberain.quartz.mongodb.dao.LocksDao: Removing trigger lock D<br> id = 6",
          "INFO  [2017-05-31 21:35:18,180] org.quartz.plugins.history.LoggingTriggerHistoryPlugin: Trigger DEFA<br> id = 7",
          "INFO  [2017-05-31 21:35:18,180] org.quartz.plugins.history.LoggingJobHistoryPlugin: Job vJ3t7B6hTYyu<br> id = 8",
          "INFO  [2017-05-31 21:35:18,180] org.quartz.plugins.history.LoggingJobHistoryPlugin: Job vJ3t7B6hTYyu<br> id = 9",
          "INFO  [2017-05-31 21:35:18,179] org.quartz.plugins.history.LoggingTriggerHistoryPlugin: Trigger DEFA<br> id = 10",
          "INFO  [2017-05-31 21:35:18,038] software.wings.service.impl.DelegateServiceImpl: registering delegat<br> id = 11",
          "INFO  [2017-05-31 21:35:17,188] org.quartz.plugins.history.LoggingTriggerHistoryPlugin: Trigger DEFA<br> id = 12",
          "INFO  [2017-05-31 21:35:17,188] org.quartz.plugins.history.LoggingJobHistoryPlugin: Job 84DUAsWyStm1<br> id = 13",
          "INFO  [2017-05-31 21:35:17,188] org.quartz.plugins.history.LoggingJobHistoryPlugin: Job 84DUAsWyStm1<br> id = 14",
          "INFO  [2017-05-31 21:35:17,188] org.quartz.plugins.history.LoggingTriggerHistoryPlugin: Trigger DEFA<br> id = 15",
          "INFO  [2017-05-31 21:35:13,679] org.quartz.plugins.history.LoggingTriggerHistoryPlugin: Trigger DEFA<br> id = 16",
          "INFO  [2017-05-31 21:35:08,731] com.novemberain.quartz.mongodb.dao.LocksDao: Trigger lock DEFAULT.D3<br> id = 17",
          "INFO  [2017-05-31 21:35:08,729] org.quartz.plugins.history.LoggingTriggerHistoryPlugin: Trigger DEFA<br> id = 18",
          "INFO  [2017-05-31 21:35:08,729] org.quartz.plugins.history.LoggingJobHistoryPlugin: Job D3H_QL6_Riqw<br> id = 19",
          "INFO  [2017-05-31 21:35:08,729] org.quartz.plugins.history.LoggingJobHistoryPlugin: Job D3H_QL6_Riqw<br> id = 20",
          "INFO  [2017-05-31 21:35:08,729] org.quartz.plugins.history.LoggingTriggerHistoryPlugin: Trigger DEFA<br> id = 21",
          "INFO  [2017-05-31 21:35:08,340] org.quartz.plugins.history.LoggingTriggerHistoryPlugin: Trigger DEFA<br> id = 22",
          "INFO  [2017-05-31 21:35:08,338] org.quartz.plugins.history.LoggingJobHistoryPlugin: Job AuG03-OeTsa1<br> id = 23",
          "INFO  [2017-05-31 21:35:08,338] org.quartz.plugins.history.LoggingTriggerHistoryPlugin: Trigger DEFA<br> id = 24",
          "INFO  [2017-05-31 21:35:01,412] org.quartz.plugins.history.LoggingJobHistoryPlugin: Job K0vzHq-KTsql<br> id = 25",
          "INFO  [2017-05-31 21:35:01,412] org.quartz.plugins.history.LoggingTriggerHistoryPlugin: Trigger DEFA<br> id = 26",
          "INFO  [2017-05-31 21:34:58,811] org.quartz.plugins.history.LoggingJobHistoryPlugin: Job rDZXPoicQ-y9<br> id = 27",
          "INFO  [2017-05-31 21:34:58,811] org.quartz.plugins.history.LoggingTriggerHistoryPlugin: Trigger DEFA<br> id = 28",
          "WARN  [2017-05-31 21:34:54,590] software.wings.waitnotify.Notifier: No entry in the waitQueue found <br> id = 29",
          "INFO  [2017-05-31 21:34:40,039] org.quartz.plugins.history.LoggingJobHistoryPlugin: Job SFmGy4xrRpad<br> id = 30",
          "INFO  [2017-05-31 21:34:40,039] org.quartz.plugins.history.LoggingTriggerHistoryPlugin: Trigger DEFA<br> id = 31",
          "INFO  [2017-05-31 21:34:31,923] org.quartz.plugins.history.LoggingJobHistoryPlugin: Job cMr2y3_5Q-qh<br> id = 32",
          "INFO  [2017-05-31 21:34:31,923] org.quartz.plugins.history.LoggingTriggerHistoryPlugin: Trigger DEFA<br> id = 33",
          "INFO  [2017-05-31 21:34:29,942] software.wings.app.DelegateQueueTask: Broadcast queued sync task [ld<br> id = 34",
          "INFO  [2017-05-31 21:34:29,941] software.wings.app.DelegateQueueTask: Broadcast queued sync task [ox<br> id = 35",
          "INFO  [2017-05-31 21:34:29,941] software.wings.app.DelegateQueueTask: Broadcast queued sync task [Zd<br> id = 36",
          "INFO  [2017-05-31 21:34:29,939] software.wings.app.DelegateQueueTask: Broadcast queued sync task [96<br> id = 37",
          "172.31.15.70 - - [31/May/2017:21:36:12 +0000] \"GET /todolist/health-check HTTP/1.1\" 200 50<br> id = 38",
          "2017-05-31 21:36:19:690 [AsyncAppender-Worker-async-syslog-accesslogs-appender] com.cloudbees.syslog<br> id = 39",
          "2017-05-31 21:36:19:690 [AsyncAppender-Worker-async-rsyslog-tcp-ssl-appender] com.cloudbees.syslog.s<br> id = 40",
          "INFO  [2017-05-31 21:36:19,600] software.wings.service.impl.DelegateServiceImpl: registering delegat<br> id = 41",
          "INFO  [2017-05-31 21:36:18,184] com.novemberain.quartz.mongodb.TriggerRunner: Acquired trigger: DEFA<br> id = 42",
          "INFO  [2017-05-31 21:36:18,184] com.novemberain.quartz.mongodb.dao.LocksDao: Inserting lock for trig<br> id = 43",
          "INFO  [2017-05-31 21:36:18,182] com.novemberain.quartz.mongodb.dao.TriggerDao: Found 2 triggers whic<br> id = 44",
          "INFO  [2017-05-31 21:36:18,182] software.wings.service.impl.DelegateServiceImpl: Broadcast new task:<br> id = 45",
          "INFO  [2017-05-31 21:36:18,181] com.novemberain.quartz.mongodb.dao.LocksDao: Trigger lock DEFAULT.vJ<br> id = 46",
          "INFO  [2017-05-31 21:36:18,181] com.novemberain.quartz.mongodb.dao.LocksDao: Removing trigger lock D<br> id = 47",
          "INFO  [2017-05-31 21:36:18,179] org.quartz.plugins.history.LoggingTriggerHistoryPlugin: Trigger DEFA<br> id = 48",
          "INFO  [2017-05-31 21:36:18,179] org.quartz.plugins.history.LoggingJobHistoryPlugin: Job vJ3t7B6hTYyu<br> id = 49",
          "INFO  [2017-05-31 21:36:18,179] org.quartz.plugins.history.LoggingJobHistoryPlugin: Job vJ3t7B6hTYyu<br> id = 50",
          "INFO  [2017-05-31 21:36:18,179] org.quartz.plugins.history.LoggingTriggerHistoryPlugin: Trigger DEFA<br> id = 51",
          "INFO  [2017-05-31 21:36:17,188] org.quartz.plugins.history.LoggingTriggerHistoryPlugin: Trigger DEFA<br> id = 52",
          "INFO  [2017-05-31 21:36:17,188] org.quartz.plugins.history.LoggingJobHistoryPlugin: Job 84DUAsWyStm1<br> id = 53",
          "INFO  [2017-05-31 21:36:17,188] org.quartz.plugins.history.LoggingJobHistoryPlugin: Job 84DUAsWyStm1<br> id = 54",
          "INFO  [2017-05-31 21:36:17,188] org.quartz.plugins.history.LoggingTriggerHistoryPlugin: Trigger DEFA<br> id = 55",
          "INFO  [2017-05-31 21:36:13,678] org.quartz.plugins.history.LoggingTriggerHistoryPlugin: Trigger DEFA<br> id = 56",
          "INFO  [2017-05-31 21:36:08,731] com.novemberain.quartz.mongodb.dao.LocksDao: Trigger lock DEFAULT.D3<br> id = 57",
          "INFO  [2017-05-31 21:36:08,729] org.quartz.plugins.history.LoggingTriggerHistoryPlugin: Trigger DEFA<br> id = 58",
          "INFO  [2017-05-31 21:36:08,729] org.quartz.plugins.history.LoggingJobHistoryPlugin: Job D3H_QL6_Riqw<br> id = 59",
          "INFO  [2017-05-31 21:36:08,729] org.quartz.plugins.history.LoggingJobHistoryPlugin: Job D3H_QL6_Riqw<br> id = 60",
          "INFO  [2017-05-31 21:36:08,729] org.quartz.plugins.history.LoggingTriggerHistoryPlugin: Trigger DEFA<br> id = 61",
          "INFO  [2017-05-31 21:36:08,340] org.quartz.plugins.history.LoggingTriggerHistoryPlugin: Trigger DEFA<br> id = 62",
          "INFO  [2017-05-31 21:36:08,337] org.quartz.plugins.history.LoggingJobHistoryPlugin: Job AuG03-OeTsa1<br> id = 63",
          "INFO  [2017-05-31 21:36:08,337] org.quartz.plugins.history.LoggingTriggerHistoryPlugin: Trigger DEFA<br> id = 64",
          "INFO  [2017-05-31 21:36:01,412] org.quartz.plugins.history.LoggingJobHistoryPlugin: Job K0vzHq-KTsql<br> id = 65",
          "INFO  [2017-05-31 21:36:01,412] org.quartz.plugins.history.LoggingTriggerHistoryPlugin: Trigger DEFA<br> id = 66",
          "INFO  [2017-05-31 21:35:58,811] org.quartz.plugins.history.LoggingJobHistoryPlugin: Job rDZXPoicQ-y9<br> id = 67",
          "INFO  [2017-05-31 21:35:58,811] org.quartz.plugins.history.LoggingTriggerHistoryPlugin: Trigger DEFA<br> id = 68",
          "WARN  [2017-05-31 21:35:54,623] software.wings.waitnotify.Notifier: No entry in the waitQueue found <br> id = 69",
          "INFO  [2017-05-31 21:35:40,040] org.quartz.plugins.history.LoggingJobHistoryPlugin: Job SFmGy4xrRpad<br> id = 70",
          "INFO  [2017-05-31 21:35:40,040] org.quartz.plugins.history.LoggingTriggerHistoryPlugin: Trigger DEFA<br> id = 71",
          "INFO  [2017-05-31 21:35:31,923] org.quartz.plugins.history.LoggingJobHistoryPlugin: Job cMr2y3_5Q-qh<br> id = 72",
          "INFO  [2017-05-31 21:35:31,923] org.quartz.plugins.history.LoggingTriggerHistoryPlugin: Trigger DEFA<br> id = 73"
         ],
         "type": "scatter",
         "x": [
          -0.4134442277291136,
          0.08241727581167907,
          0.6562061369876444,
          -0.8101564729933585,
          0.0021594035617564043,
          0.5687447426293059,
          0.5721069584518979,
          0.43575221919259943,
          -0.5795107700731248,
          -0.4016356254455079,
          0.022733617071812734,
          0.011007761738341473,
          0.44854580205195616,
          -0.5795107700731249,
          -0.4374878924255959,
          0.09569023053358831,
          -0.09575917183138567,
          0.5687447426297604,
          0.4637972968246549,
          -0.5795107700731249,
          -0.29299277584202893,
          -0.015643598361538977,
          0.46379729682465504,
          -0.292992775842029,
          -0.015643598361538977,
          -0.292992775842029,
          -0.015643598361538984,
          -0.29299277584202904,
          -0.015643598361538984,
          -0.24560642575289113,
          -0.292992775842029,
          -0.01564359836153897,
          -0.29299277584202893,
          -0.01564359836153897,
          0.3836239773803894,
          0.3952996286815715,
          0.3836226601554648,
          0.4083991839512881,
          0.6943820410339663,
          0.2280699262253307,
          0.2280699262253309,
          0.015572603920382821,
          0.08241727581385071,
          0.6562061371471708,
          -0.49529842298612564,
          -0.06879865269582025,
          0.568744742629306,
          0.5906737370677407,
          0.4357522191925994,
          -0.5795107700731251,
          -0.4016356254455077,
          0.02273361707154945,
          0.44854580205195566,
          -0.5795107700731251,
          -0.437487892424806,
          -0.10077918098790871,
          -0.09575917178371171,
          0.5687447426293061,
          0.46379729682465476,
          -0.5795107700731252,
          -0.292992775842029,
          -0.015643598361538995,
          0.46379729682465476,
          -0.292992775842029,
          -0.015643598361539002,
          -0.29299277584202904,
          -0.015643598361539002,
          -0.292992775842029,
          -0.015643598361539002,
          -0.24560642575286476,
          -0.29299277584202904,
          -0.01564359836153901,
          -0.29299277584202904,
          -0.015643598361538988
         ],
         "y": [
          0.6949066115730885,
          0.3618155692059343,
          0.0456814009811443,
          0.15715964958598064,
          0.6060364394650711,
          0.11089569723374099,
          0.19458272195989768,
          -0.43114603402904905,
          0.3027226310541416,
          -0.33653215324788716,
          -0.5088809557780039,
          0.756030747884773,
          -0.3748504767678073,
          0.3027226310541416,
          -0.21075801578154174,
          -0.2516053420274182,
          -0.6087468830727936,
          0.11089569723340617,
          -0.3916953388953387,
          0.30272263105414154,
          -0.16817960641640017,
          -0.34235001716722474,
          -0.391695338895339,
          -0.16817960641640023,
          -0.34235001716722474,
          -0.16817960641640023,
          -0.34235001716722485,
          -0.16817960641640026,
          -0.34235001716722485,
          0.7620273674161285,
          -0.16817960641640017,
          -0.34235001716722474,
          -0.16817960641640012,
          -0.3423500171672247,
          0.5781385126024365,
          0.5886468803626129,
          0.5781392764815447,
          0.5775626436536897,
          0.47253104919970673,
          0.7192120042774502,
          0.7192120042774505,
          0.7562127579753664,
          0.36181556920543473,
          0.045681403365797395,
          0.5621565349503211,
          0.6219443735572235,
          0.11089569723374094,
          0.18679839895732556,
          -0.4311460340290497,
          0.30272263105414193,
          -0.33653215324788677,
          -0.5088809557780772,
          -0.37485047676780797,
          0.3027226310541418,
          -0.2107580157426323,
          -0.481666641679101,
          -0.6087468830800931,
          0.11089569723374097,
          -0.3916953388953386,
          0.3027226310541418,
          -0.16817960641640023,
          -0.3423500171672246,
          -0.3916953388953388,
          -0.16817960641640023,
          -0.3423500171672245,
          -0.16817960641640023,
          -0.3423500171672245,
          -0.16817960641640017,
          -0.34235001716722446,
          0.7620273674161406,
          -0.16817960641640017,
          -0.3423500171672245,
          -0.1681796064164002,
          -0.34235001716722446
         ]
        }
       ],
       "layout": {
        "hovermode": "closest"
       }
      },
      "text/html": [
       "<div id=\"0ee230a5-a244-4c0f-bb0f-ea8e6c4b3191\" style=\"height: 525px; width: 100%;\" class=\"plotly-graph-div\"></div><script type=\"text/javascript\">require([\"plotly\"], function(Plotly) { window.PLOTLYENV=window.PLOTLYENV || {};window.PLOTLYENV.BASE_URL=\"https://plot.ly\";Plotly.newPlot(\"0ee230a5-a244-4c0f-bb0f-ea8e6c4b3191\", [{\"y\": [0.6949066115730885, 0.3618155692059343, 0.0456814009811443, 0.15715964958598064, 0.6060364394650711, 0.11089569723374099, 0.19458272195989768, -0.43114603402904905, 0.3027226310541416, -0.33653215324788716, -0.5088809557780039, 0.756030747884773, -0.3748504767678073, 0.3027226310541416, -0.21075801578154174, -0.2516053420274182, -0.6087468830727936, 0.11089569723340617, -0.3916953388953387, 0.30272263105414154, -0.16817960641640017, -0.34235001716722474, -0.391695338895339, -0.16817960641640023, -0.34235001716722474, -0.16817960641640023, -0.34235001716722485, -0.16817960641640026, -0.34235001716722485, 0.7620273674161285, -0.16817960641640017, -0.34235001716722474, -0.16817960641640012, -0.3423500171672247, 0.5781385126024365, 0.5886468803626129, 0.5781392764815447, 0.5775626436536897, 0.47253104919970673, 0.7192120042774502, 0.7192120042774505, 0.7562127579753664, 0.36181556920543473, 0.045681403365797395, 0.5621565349503211, 0.6219443735572235, 0.11089569723374094, 0.18679839895732556, -0.4311460340290497, 0.30272263105414193, -0.33653215324788677, -0.5088809557780772, -0.37485047676780797, 0.3027226310541418, -0.2107580157426323, -0.481666641679101, -0.6087468830800931, 0.11089569723374097, -0.3916953388953386, 0.3027226310541418, -0.16817960641640023, -0.3423500171672246, -0.3916953388953388, -0.16817960641640023, -0.3423500171672245, -0.16817960641640023, -0.3423500171672245, -0.16817960641640017, -0.34235001716722446, 0.7620273674161406, -0.16817960641640017, -0.3423500171672245, -0.1681796064164002, -0.34235001716722446], \"text\": [\"172.31.15.70 - - [31/May/2017:21:35:12 +0000] \\\"GET /todolist/health-check HTTP/1.1\\\" 200 50<br> id = 0\", \"INFO  [2017-05-31 21:35:18,184] com.novemberain.quartz.mongodb.TriggerRunner: Acquired trigger: DEFA<br> id = 1\", \"INFO  [2017-05-31 21:35:18,184] com.novemberain.quartz.mongodb.dao.LocksDao: Inserting lock for trig<br> id = 2\", \"INFO  [2017-05-31 21:35:18,183] com.novemberain.quartz.mongodb.dao.TriggerDao: Found 2 triggers whic<br> id = 3\", \"INFO  [2017-05-31 21:35:18,182] software.wings.service.impl.DelegateServiceImpl: Broadcast new task:<br> id = 4\", \"INFO  [2017-05-31 21:35:18,182] com.novemberain.quartz.mongodb.dao.LocksDao: Trigger lock DEFAULT.vJ<br> id = 5\", \"INFO  [2017-05-31 21:35:18,181] com.novemberain.quartz.mongodb.dao.LocksDao: Removing trigger lock D<br> id = 6\", \"INFO  [2017-05-31 21:35:18,180] org.quartz.plugins.history.LoggingTriggerHistoryPlugin: Trigger DEFA<br> id = 7\", \"INFO  [2017-05-31 21:35:18,180] org.quartz.plugins.history.LoggingJobHistoryPlugin: Job vJ3t7B6hTYyu<br> id = 8\", \"INFO  [2017-05-31 21:35:18,180] org.quartz.plugins.history.LoggingJobHistoryPlugin: Job vJ3t7B6hTYyu<br> id = 9\", \"INFO  [2017-05-31 21:35:18,179] org.quartz.plugins.history.LoggingTriggerHistoryPlugin: Trigger DEFA<br> id = 10\", \"INFO  [2017-05-31 21:35:18,038] software.wings.service.impl.DelegateServiceImpl: registering delegat<br> id = 11\", \"INFO  [2017-05-31 21:35:17,188] org.quartz.plugins.history.LoggingTriggerHistoryPlugin: Trigger DEFA<br> id = 12\", \"INFO  [2017-05-31 21:35:17,188] org.quartz.plugins.history.LoggingJobHistoryPlugin: Job 84DUAsWyStm1<br> id = 13\", \"INFO  [2017-05-31 21:35:17,188] org.quartz.plugins.history.LoggingJobHistoryPlugin: Job 84DUAsWyStm1<br> id = 14\", \"INFO  [2017-05-31 21:35:17,188] org.quartz.plugins.history.LoggingTriggerHistoryPlugin: Trigger DEFA<br> id = 15\", \"INFO  [2017-05-31 21:35:13,679] org.quartz.plugins.history.LoggingTriggerHistoryPlugin: Trigger DEFA<br> id = 16\", \"INFO  [2017-05-31 21:35:08,731] com.novemberain.quartz.mongodb.dao.LocksDao: Trigger lock DEFAULT.D3<br> id = 17\", \"INFO  [2017-05-31 21:35:08,729] org.quartz.plugins.history.LoggingTriggerHistoryPlugin: Trigger DEFA<br> id = 18\", \"INFO  [2017-05-31 21:35:08,729] org.quartz.plugins.history.LoggingJobHistoryPlugin: Job D3H_QL6_Riqw<br> id = 19\", \"INFO  [2017-05-31 21:35:08,729] org.quartz.plugins.history.LoggingJobHistoryPlugin: Job D3H_QL6_Riqw<br> id = 20\", \"INFO  [2017-05-31 21:35:08,729] org.quartz.plugins.history.LoggingTriggerHistoryPlugin: Trigger DEFA<br> id = 21\", \"INFO  [2017-05-31 21:35:08,340] org.quartz.plugins.history.LoggingTriggerHistoryPlugin: Trigger DEFA<br> id = 22\", \"INFO  [2017-05-31 21:35:08,338] org.quartz.plugins.history.LoggingJobHistoryPlugin: Job AuG03-OeTsa1<br> id = 23\", \"INFO  [2017-05-31 21:35:08,338] org.quartz.plugins.history.LoggingTriggerHistoryPlugin: Trigger DEFA<br> id = 24\", \"INFO  [2017-05-31 21:35:01,412] org.quartz.plugins.history.LoggingJobHistoryPlugin: Job K0vzHq-KTsql<br> id = 25\", \"INFO  [2017-05-31 21:35:01,412] org.quartz.plugins.history.LoggingTriggerHistoryPlugin: Trigger DEFA<br> id = 26\", \"INFO  [2017-05-31 21:34:58,811] org.quartz.plugins.history.LoggingJobHistoryPlugin: Job rDZXPoicQ-y9<br> id = 27\", \"INFO  [2017-05-31 21:34:58,811] org.quartz.plugins.history.LoggingTriggerHistoryPlugin: Trigger DEFA<br> id = 28\", \"WARN  [2017-05-31 21:34:54,590] software.wings.waitnotify.Notifier: No entry in the waitQueue found <br> id = 29\", \"INFO  [2017-05-31 21:34:40,039] org.quartz.plugins.history.LoggingJobHistoryPlugin: Job SFmGy4xrRpad<br> id = 30\", \"INFO  [2017-05-31 21:34:40,039] org.quartz.plugins.history.LoggingTriggerHistoryPlugin: Trigger DEFA<br> id = 31\", \"INFO  [2017-05-31 21:34:31,923] org.quartz.plugins.history.LoggingJobHistoryPlugin: Job cMr2y3_5Q-qh<br> id = 32\", \"INFO  [2017-05-31 21:34:31,923] org.quartz.plugins.history.LoggingTriggerHistoryPlugin: Trigger DEFA<br> id = 33\", \"INFO  [2017-05-31 21:34:29,942] software.wings.app.DelegateQueueTask: Broadcast queued sync task [ld<br> id = 34\", \"INFO  [2017-05-31 21:34:29,941] software.wings.app.DelegateQueueTask: Broadcast queued sync task [ox<br> id = 35\", \"INFO  [2017-05-31 21:34:29,941] software.wings.app.DelegateQueueTask: Broadcast queued sync task [Zd<br> id = 36\", \"INFO  [2017-05-31 21:34:29,939] software.wings.app.DelegateQueueTask: Broadcast queued sync task [96<br> id = 37\", \"172.31.15.70 - - [31/May/2017:21:36:12 +0000] \\\"GET /todolist/health-check HTTP/1.1\\\" 200 50<br> id = 38\", \"2017-05-31 21:36:19:690 [AsyncAppender-Worker-async-syslog-accesslogs-appender] com.cloudbees.syslog<br> id = 39\", \"2017-05-31 21:36:19:690 [AsyncAppender-Worker-async-rsyslog-tcp-ssl-appender] com.cloudbees.syslog.s<br> id = 40\", \"INFO  [2017-05-31 21:36:19,600] software.wings.service.impl.DelegateServiceImpl: registering delegat<br> id = 41\", \"INFO  [2017-05-31 21:36:18,184] com.novemberain.quartz.mongodb.TriggerRunner: Acquired trigger: DEFA<br> id = 42\", \"INFO  [2017-05-31 21:36:18,184] com.novemberain.quartz.mongodb.dao.LocksDao: Inserting lock for trig<br> id = 43\", \"INFO  [2017-05-31 21:36:18,182] com.novemberain.quartz.mongodb.dao.TriggerDao: Found 2 triggers whic<br> id = 44\", \"INFO  [2017-05-31 21:36:18,182] software.wings.service.impl.DelegateServiceImpl: Broadcast new task:<br> id = 45\", \"INFO  [2017-05-31 21:36:18,181] com.novemberain.quartz.mongodb.dao.LocksDao: Trigger lock DEFAULT.vJ<br> id = 46\", \"INFO  [2017-05-31 21:36:18,181] com.novemberain.quartz.mongodb.dao.LocksDao: Removing trigger lock D<br> id = 47\", \"INFO  [2017-05-31 21:36:18,179] org.quartz.plugins.history.LoggingTriggerHistoryPlugin: Trigger DEFA<br> id = 48\", \"INFO  [2017-05-31 21:36:18,179] org.quartz.plugins.history.LoggingJobHistoryPlugin: Job vJ3t7B6hTYyu<br> id = 49\", \"INFO  [2017-05-31 21:36:18,179] org.quartz.plugins.history.LoggingJobHistoryPlugin: Job vJ3t7B6hTYyu<br> id = 50\", \"INFO  [2017-05-31 21:36:18,179] org.quartz.plugins.history.LoggingTriggerHistoryPlugin: Trigger DEFA<br> id = 51\", \"INFO  [2017-05-31 21:36:17,188] org.quartz.plugins.history.LoggingTriggerHistoryPlugin: Trigger DEFA<br> id = 52\", \"INFO  [2017-05-31 21:36:17,188] org.quartz.plugins.history.LoggingJobHistoryPlugin: Job 84DUAsWyStm1<br> id = 53\", \"INFO  [2017-05-31 21:36:17,188] org.quartz.plugins.history.LoggingJobHistoryPlugin: Job 84DUAsWyStm1<br> id = 54\", \"INFO  [2017-05-31 21:36:17,188] org.quartz.plugins.history.LoggingTriggerHistoryPlugin: Trigger DEFA<br> id = 55\", \"INFO  [2017-05-31 21:36:13,678] org.quartz.plugins.history.LoggingTriggerHistoryPlugin: Trigger DEFA<br> id = 56\", \"INFO  [2017-05-31 21:36:08,731] com.novemberain.quartz.mongodb.dao.LocksDao: Trigger lock DEFAULT.D3<br> id = 57\", \"INFO  [2017-05-31 21:36:08,729] org.quartz.plugins.history.LoggingTriggerHistoryPlugin: Trigger DEFA<br> id = 58\", \"INFO  [2017-05-31 21:36:08,729] org.quartz.plugins.history.LoggingJobHistoryPlugin: Job D3H_QL6_Riqw<br> id = 59\", \"INFO  [2017-05-31 21:36:08,729] org.quartz.plugins.history.LoggingJobHistoryPlugin: Job D3H_QL6_Riqw<br> id = 60\", \"INFO  [2017-05-31 21:36:08,729] org.quartz.plugins.history.LoggingTriggerHistoryPlugin: Trigger DEFA<br> id = 61\", \"INFO  [2017-05-31 21:36:08,340] org.quartz.plugins.history.LoggingTriggerHistoryPlugin: Trigger DEFA<br> id = 62\", \"INFO  [2017-05-31 21:36:08,337] org.quartz.plugins.history.LoggingJobHistoryPlugin: Job AuG03-OeTsa1<br> id = 63\", \"INFO  [2017-05-31 21:36:08,337] org.quartz.plugins.history.LoggingTriggerHistoryPlugin: Trigger DEFA<br> id = 64\", \"INFO  [2017-05-31 21:36:01,412] org.quartz.plugins.history.LoggingJobHistoryPlugin: Job K0vzHq-KTsql<br> id = 65\", \"INFO  [2017-05-31 21:36:01,412] org.quartz.plugins.history.LoggingTriggerHistoryPlugin: Trigger DEFA<br> id = 66\", \"INFO  [2017-05-31 21:35:58,811] org.quartz.plugins.history.LoggingJobHistoryPlugin: Job rDZXPoicQ-y9<br> id = 67\", \"INFO  [2017-05-31 21:35:58,811] org.quartz.plugins.history.LoggingTriggerHistoryPlugin: Trigger DEFA<br> id = 68\", \"WARN  [2017-05-31 21:35:54,623] software.wings.waitnotify.Notifier: No entry in the waitQueue found <br> id = 69\", \"INFO  [2017-05-31 21:35:40,040] org.quartz.plugins.history.LoggingJobHistoryPlugin: Job SFmGy4xrRpad<br> id = 70\", \"INFO  [2017-05-31 21:35:40,040] org.quartz.plugins.history.LoggingTriggerHistoryPlugin: Trigger DEFA<br> id = 71\", \"INFO  [2017-05-31 21:35:31,923] org.quartz.plugins.history.LoggingJobHistoryPlugin: Job cMr2y3_5Q-qh<br> id = 72\", \"INFO  [2017-05-31 21:35:31,923] org.quartz.plugins.history.LoggingTriggerHistoryPlugin: Trigger DEFA<br> id = 73\"], \"type\": \"scatter\", \"mode\": \"markers\", \"x\": [-0.4134442277291136, 0.08241727581167907, 0.6562061369876444, -0.8101564729933585, 0.0021594035617564043, 0.5687447426293059, 0.5721069584518979, 0.43575221919259943, -0.5795107700731248, -0.4016356254455079, 0.022733617071812734, 0.011007761738341473, 0.44854580205195616, -0.5795107700731249, -0.4374878924255959, 0.09569023053358831, -0.09575917183138567, 0.5687447426297604, 0.4637972968246549, -0.5795107700731249, -0.29299277584202893, -0.015643598361538977, 0.46379729682465504, -0.292992775842029, -0.015643598361538977, -0.292992775842029, -0.015643598361538984, -0.29299277584202904, -0.015643598361538984, -0.24560642575289113, -0.292992775842029, -0.01564359836153897, -0.29299277584202893, -0.01564359836153897, 0.3836239773803894, 0.3952996286815715, 0.3836226601554648, 0.4083991839512881, 0.6943820410339663, 0.2280699262253307, 0.2280699262253309, 0.015572603920382821, 0.08241727581385071, 0.6562061371471708, -0.49529842298612564, -0.06879865269582025, 0.568744742629306, 0.5906737370677407, 0.4357522191925994, -0.5795107700731251, -0.4016356254455077, 0.02273361707154945, 0.44854580205195566, -0.5795107700731251, -0.437487892424806, -0.10077918098790871, -0.09575917178371171, 0.5687447426293061, 0.46379729682465476, -0.5795107700731252, -0.292992775842029, -0.015643598361538995, 0.46379729682465476, -0.292992775842029, -0.015643598361539002, -0.29299277584202904, -0.015643598361539002, -0.292992775842029, -0.015643598361539002, -0.24560642575286476, -0.29299277584202904, -0.01564359836153901, -0.29299277584202904, -0.015643598361538988]}], {\"hovermode\": \"closest\"}, {\"linkText\": \"Export to plot.ly\", \"showLink\": true})});</script>"
      ],
      "text/vnd.plotly.v1+html": [
       "<div id=\"0ee230a5-a244-4c0f-bb0f-ea8e6c4b3191\" style=\"height: 525px; width: 100%;\" class=\"plotly-graph-div\"></div><script type=\"text/javascript\">require([\"plotly\"], function(Plotly) { window.PLOTLYENV=window.PLOTLYENV || {};window.PLOTLYENV.BASE_URL=\"https://plot.ly\";Plotly.newPlot(\"0ee230a5-a244-4c0f-bb0f-ea8e6c4b3191\", [{\"y\": [0.6949066115730885, 0.3618155692059343, 0.0456814009811443, 0.15715964958598064, 0.6060364394650711, 0.11089569723374099, 0.19458272195989768, -0.43114603402904905, 0.3027226310541416, -0.33653215324788716, -0.5088809557780039, 0.756030747884773, -0.3748504767678073, 0.3027226310541416, -0.21075801578154174, -0.2516053420274182, -0.6087468830727936, 0.11089569723340617, -0.3916953388953387, 0.30272263105414154, -0.16817960641640017, -0.34235001716722474, -0.391695338895339, -0.16817960641640023, -0.34235001716722474, -0.16817960641640023, -0.34235001716722485, -0.16817960641640026, -0.34235001716722485, 0.7620273674161285, -0.16817960641640017, -0.34235001716722474, -0.16817960641640012, -0.3423500171672247, 0.5781385126024365, 0.5886468803626129, 0.5781392764815447, 0.5775626436536897, 0.47253104919970673, 0.7192120042774502, 0.7192120042774505, 0.7562127579753664, 0.36181556920543473, 0.045681403365797395, 0.5621565349503211, 0.6219443735572235, 0.11089569723374094, 0.18679839895732556, -0.4311460340290497, 0.30272263105414193, -0.33653215324788677, -0.5088809557780772, -0.37485047676780797, 0.3027226310541418, -0.2107580157426323, -0.481666641679101, -0.6087468830800931, 0.11089569723374097, -0.3916953388953386, 0.3027226310541418, -0.16817960641640023, -0.3423500171672246, -0.3916953388953388, -0.16817960641640023, -0.3423500171672245, -0.16817960641640023, -0.3423500171672245, -0.16817960641640017, -0.34235001716722446, 0.7620273674161406, -0.16817960641640017, -0.3423500171672245, -0.1681796064164002, -0.34235001716722446], \"text\": [\"172.31.15.70 - - [31/May/2017:21:35:12 +0000] \\\"GET /todolist/health-check HTTP/1.1\\\" 200 50<br> id = 0\", \"INFO  [2017-05-31 21:35:18,184] com.novemberain.quartz.mongodb.TriggerRunner: Acquired trigger: DEFA<br> id = 1\", \"INFO  [2017-05-31 21:35:18,184] com.novemberain.quartz.mongodb.dao.LocksDao: Inserting lock for trig<br> id = 2\", \"INFO  [2017-05-31 21:35:18,183] com.novemberain.quartz.mongodb.dao.TriggerDao: Found 2 triggers whic<br> id = 3\", \"INFO  [2017-05-31 21:35:18,182] software.wings.service.impl.DelegateServiceImpl: Broadcast new task:<br> id = 4\", \"INFO  [2017-05-31 21:35:18,182] com.novemberain.quartz.mongodb.dao.LocksDao: Trigger lock DEFAULT.vJ<br> id = 5\", \"INFO  [2017-05-31 21:35:18,181] com.novemberain.quartz.mongodb.dao.LocksDao: Removing trigger lock D<br> id = 6\", \"INFO  [2017-05-31 21:35:18,180] org.quartz.plugins.history.LoggingTriggerHistoryPlugin: Trigger DEFA<br> id = 7\", \"INFO  [2017-05-31 21:35:18,180] org.quartz.plugins.history.LoggingJobHistoryPlugin: Job vJ3t7B6hTYyu<br> id = 8\", \"INFO  [2017-05-31 21:35:18,180] org.quartz.plugins.history.LoggingJobHistoryPlugin: Job vJ3t7B6hTYyu<br> id = 9\", \"INFO  [2017-05-31 21:35:18,179] org.quartz.plugins.history.LoggingTriggerHistoryPlugin: Trigger DEFA<br> id = 10\", \"INFO  [2017-05-31 21:35:18,038] software.wings.service.impl.DelegateServiceImpl: registering delegat<br> id = 11\", \"INFO  [2017-05-31 21:35:17,188] org.quartz.plugins.history.LoggingTriggerHistoryPlugin: Trigger DEFA<br> id = 12\", \"INFO  [2017-05-31 21:35:17,188] org.quartz.plugins.history.LoggingJobHistoryPlugin: Job 84DUAsWyStm1<br> id = 13\", \"INFO  [2017-05-31 21:35:17,188] org.quartz.plugins.history.LoggingJobHistoryPlugin: Job 84DUAsWyStm1<br> id = 14\", \"INFO  [2017-05-31 21:35:17,188] org.quartz.plugins.history.LoggingTriggerHistoryPlugin: Trigger DEFA<br> id = 15\", \"INFO  [2017-05-31 21:35:13,679] org.quartz.plugins.history.LoggingTriggerHistoryPlugin: Trigger DEFA<br> id = 16\", \"INFO  [2017-05-31 21:35:08,731] com.novemberain.quartz.mongodb.dao.LocksDao: Trigger lock DEFAULT.D3<br> id = 17\", \"INFO  [2017-05-31 21:35:08,729] org.quartz.plugins.history.LoggingTriggerHistoryPlugin: Trigger DEFA<br> id = 18\", \"INFO  [2017-05-31 21:35:08,729] org.quartz.plugins.history.LoggingJobHistoryPlugin: Job D3H_QL6_Riqw<br> id = 19\", \"INFO  [2017-05-31 21:35:08,729] org.quartz.plugins.history.LoggingJobHistoryPlugin: Job D3H_QL6_Riqw<br> id = 20\", \"INFO  [2017-05-31 21:35:08,729] org.quartz.plugins.history.LoggingTriggerHistoryPlugin: Trigger DEFA<br> id = 21\", \"INFO  [2017-05-31 21:35:08,340] org.quartz.plugins.history.LoggingTriggerHistoryPlugin: Trigger DEFA<br> id = 22\", \"INFO  [2017-05-31 21:35:08,338] org.quartz.plugins.history.LoggingJobHistoryPlugin: Job AuG03-OeTsa1<br> id = 23\", \"INFO  [2017-05-31 21:35:08,338] org.quartz.plugins.history.LoggingTriggerHistoryPlugin: Trigger DEFA<br> id = 24\", \"INFO  [2017-05-31 21:35:01,412] org.quartz.plugins.history.LoggingJobHistoryPlugin: Job K0vzHq-KTsql<br> id = 25\", \"INFO  [2017-05-31 21:35:01,412] org.quartz.plugins.history.LoggingTriggerHistoryPlugin: Trigger DEFA<br> id = 26\", \"INFO  [2017-05-31 21:34:58,811] org.quartz.plugins.history.LoggingJobHistoryPlugin: Job rDZXPoicQ-y9<br> id = 27\", \"INFO  [2017-05-31 21:34:58,811] org.quartz.plugins.history.LoggingTriggerHistoryPlugin: Trigger DEFA<br> id = 28\", \"WARN  [2017-05-31 21:34:54,590] software.wings.waitnotify.Notifier: No entry in the waitQueue found <br> id = 29\", \"INFO  [2017-05-31 21:34:40,039] org.quartz.plugins.history.LoggingJobHistoryPlugin: Job SFmGy4xrRpad<br> id = 30\", \"INFO  [2017-05-31 21:34:40,039] org.quartz.plugins.history.LoggingTriggerHistoryPlugin: Trigger DEFA<br> id = 31\", \"INFO  [2017-05-31 21:34:31,923] org.quartz.plugins.history.LoggingJobHistoryPlugin: Job cMr2y3_5Q-qh<br> id = 32\", \"INFO  [2017-05-31 21:34:31,923] org.quartz.plugins.history.LoggingTriggerHistoryPlugin: Trigger DEFA<br> id = 33\", \"INFO  [2017-05-31 21:34:29,942] software.wings.app.DelegateQueueTask: Broadcast queued sync task [ld<br> id = 34\", \"INFO  [2017-05-31 21:34:29,941] software.wings.app.DelegateQueueTask: Broadcast queued sync task [ox<br> id = 35\", \"INFO  [2017-05-31 21:34:29,941] software.wings.app.DelegateQueueTask: Broadcast queued sync task [Zd<br> id = 36\", \"INFO  [2017-05-31 21:34:29,939] software.wings.app.DelegateQueueTask: Broadcast queued sync task [96<br> id = 37\", \"172.31.15.70 - - [31/May/2017:21:36:12 +0000] \\\"GET /todolist/health-check HTTP/1.1\\\" 200 50<br> id = 38\", \"2017-05-31 21:36:19:690 [AsyncAppender-Worker-async-syslog-accesslogs-appender] com.cloudbees.syslog<br> id = 39\", \"2017-05-31 21:36:19:690 [AsyncAppender-Worker-async-rsyslog-tcp-ssl-appender] com.cloudbees.syslog.s<br> id = 40\", \"INFO  [2017-05-31 21:36:19,600] software.wings.service.impl.DelegateServiceImpl: registering delegat<br> id = 41\", \"INFO  [2017-05-31 21:36:18,184] com.novemberain.quartz.mongodb.TriggerRunner: Acquired trigger: DEFA<br> id = 42\", \"INFO  [2017-05-31 21:36:18,184] com.novemberain.quartz.mongodb.dao.LocksDao: Inserting lock for trig<br> id = 43\", \"INFO  [2017-05-31 21:36:18,182] com.novemberain.quartz.mongodb.dao.TriggerDao: Found 2 triggers whic<br> id = 44\", \"INFO  [2017-05-31 21:36:18,182] software.wings.service.impl.DelegateServiceImpl: Broadcast new task:<br> id = 45\", \"INFO  [2017-05-31 21:36:18,181] com.novemberain.quartz.mongodb.dao.LocksDao: Trigger lock DEFAULT.vJ<br> id = 46\", \"INFO  [2017-05-31 21:36:18,181] com.novemberain.quartz.mongodb.dao.LocksDao: Removing trigger lock D<br> id = 47\", \"INFO  [2017-05-31 21:36:18,179] org.quartz.plugins.history.LoggingTriggerHistoryPlugin: Trigger DEFA<br> id = 48\", \"INFO  [2017-05-31 21:36:18,179] org.quartz.plugins.history.LoggingJobHistoryPlugin: Job vJ3t7B6hTYyu<br> id = 49\", \"INFO  [2017-05-31 21:36:18,179] org.quartz.plugins.history.LoggingJobHistoryPlugin: Job vJ3t7B6hTYyu<br> id = 50\", \"INFO  [2017-05-31 21:36:18,179] org.quartz.plugins.history.LoggingTriggerHistoryPlugin: Trigger DEFA<br> id = 51\", \"INFO  [2017-05-31 21:36:17,188] org.quartz.plugins.history.LoggingTriggerHistoryPlugin: Trigger DEFA<br> id = 52\", \"INFO  [2017-05-31 21:36:17,188] org.quartz.plugins.history.LoggingJobHistoryPlugin: Job 84DUAsWyStm1<br> id = 53\", \"INFO  [2017-05-31 21:36:17,188] org.quartz.plugins.history.LoggingJobHistoryPlugin: Job 84DUAsWyStm1<br> id = 54\", \"INFO  [2017-05-31 21:36:17,188] org.quartz.plugins.history.LoggingTriggerHistoryPlugin: Trigger DEFA<br> id = 55\", \"INFO  [2017-05-31 21:36:13,678] org.quartz.plugins.history.LoggingTriggerHistoryPlugin: Trigger DEFA<br> id = 56\", \"INFO  [2017-05-31 21:36:08,731] com.novemberain.quartz.mongodb.dao.LocksDao: Trigger lock DEFAULT.D3<br> id = 57\", \"INFO  [2017-05-31 21:36:08,729] org.quartz.plugins.history.LoggingTriggerHistoryPlugin: Trigger DEFA<br> id = 58\", \"INFO  [2017-05-31 21:36:08,729] org.quartz.plugins.history.LoggingJobHistoryPlugin: Job D3H_QL6_Riqw<br> id = 59\", \"INFO  [2017-05-31 21:36:08,729] org.quartz.plugins.history.LoggingJobHistoryPlugin: Job D3H_QL6_Riqw<br> id = 60\", \"INFO  [2017-05-31 21:36:08,729] org.quartz.plugins.history.LoggingTriggerHistoryPlugin: Trigger DEFA<br> id = 61\", \"INFO  [2017-05-31 21:36:08,340] org.quartz.plugins.history.LoggingTriggerHistoryPlugin: Trigger DEFA<br> id = 62\", \"INFO  [2017-05-31 21:36:08,337] org.quartz.plugins.history.LoggingJobHistoryPlugin: Job AuG03-OeTsa1<br> id = 63\", \"INFO  [2017-05-31 21:36:08,337] org.quartz.plugins.history.LoggingTriggerHistoryPlugin: Trigger DEFA<br> id = 64\", \"INFO  [2017-05-31 21:36:01,412] org.quartz.plugins.history.LoggingJobHistoryPlugin: Job K0vzHq-KTsql<br> id = 65\", \"INFO  [2017-05-31 21:36:01,412] org.quartz.plugins.history.LoggingTriggerHistoryPlugin: Trigger DEFA<br> id = 66\", \"INFO  [2017-05-31 21:35:58,811] org.quartz.plugins.history.LoggingJobHistoryPlugin: Job rDZXPoicQ-y9<br> id = 67\", \"INFO  [2017-05-31 21:35:58,811] org.quartz.plugins.history.LoggingTriggerHistoryPlugin: Trigger DEFA<br> id = 68\", \"WARN  [2017-05-31 21:35:54,623] software.wings.waitnotify.Notifier: No entry in the waitQueue found <br> id = 69\", \"INFO  [2017-05-31 21:35:40,040] org.quartz.plugins.history.LoggingJobHistoryPlugin: Job SFmGy4xrRpad<br> id = 70\", \"INFO  [2017-05-31 21:35:40,040] org.quartz.plugins.history.LoggingTriggerHistoryPlugin: Trigger DEFA<br> id = 71\", \"INFO  [2017-05-31 21:35:31,923] org.quartz.plugins.history.LoggingJobHistoryPlugin: Job cMr2y3_5Q-qh<br> id = 72\", \"INFO  [2017-05-31 21:35:31,923] org.quartz.plugins.history.LoggingTriggerHistoryPlugin: Trigger DEFA<br> id = 73\"], \"type\": \"scatter\", \"mode\": \"markers\", \"x\": [-0.4134442277291136, 0.08241727581167907, 0.6562061369876444, -0.8101564729933585, 0.0021594035617564043, 0.5687447426293059, 0.5721069584518979, 0.43575221919259943, -0.5795107700731248, -0.4016356254455079, 0.022733617071812734, 0.011007761738341473, 0.44854580205195616, -0.5795107700731249, -0.4374878924255959, 0.09569023053358831, -0.09575917183138567, 0.5687447426297604, 0.4637972968246549, -0.5795107700731249, -0.29299277584202893, -0.015643598361538977, 0.46379729682465504, -0.292992775842029, -0.015643598361538977, -0.292992775842029, -0.015643598361538984, -0.29299277584202904, -0.015643598361538984, -0.24560642575289113, -0.292992775842029, -0.01564359836153897, -0.29299277584202893, -0.01564359836153897, 0.3836239773803894, 0.3952996286815715, 0.3836226601554648, 0.4083991839512881, 0.6943820410339663, 0.2280699262253307, 0.2280699262253309, 0.015572603920382821, 0.08241727581385071, 0.6562061371471708, -0.49529842298612564, -0.06879865269582025, 0.568744742629306, 0.5906737370677407, 0.4357522191925994, -0.5795107700731251, -0.4016356254455077, 0.02273361707154945, 0.44854580205195566, -0.5795107700731251, -0.437487892424806, -0.10077918098790871, -0.09575917178371171, 0.5687447426293061, 0.46379729682465476, -0.5795107700731252, -0.292992775842029, -0.015643598361538995, 0.46379729682465476, -0.292992775842029, -0.015643598361539002, -0.29299277584202904, -0.015643598361539002, -0.292992775842029, -0.015643598361539002, -0.24560642575286476, -0.29299277584202904, -0.01564359836153901, -0.29299277584202904, -0.015643598361538988]}], {\"hovermode\": \"closest\"}, {\"linkText\": \"Export to plot.ly\", \"showLink\": true})});</script>"
      ]
     },
     "metadata": {},
     "output_type": "display_data"
    },
    {
     "name": "stdout",
     "output_type": "stream",
     "text": [
      "clustering....\n"
     ]
    },
    {
     "data": {
      "application/vnd.plotly.v1+json": {
       "data": [
        {
         "marker": {
          "color": "'rgb 157,156,207'"
         },
         "mode": "markers",
         "text": "cluster = 0<br>com.novemberain.quartz.mongodb.triggerrunner<br>acquired<br>trigger<br>info<br>correlationids<br>create<br>default.84duaswystm1sg5zxlmung<br>default.ubbwzvkhqfkvegzybbhpeg<br>default.vj3t7b6htyyugnj0jifqxa<br>delegate<br>eligible<br>entry<br>completed<br>eoxowhuzsjcgev5cht6kta<br>execution<br>",
         "type": "scatter",
         "x": [
          0.08241727581167907,
          0.08241727581385071
         ],
         "y": [
          0.3618155692059343,
          0.36181556920543473
         ]
        },
        {
         "marker": {
          "color": "'rgb 191,4,112'"
         },
         "mode": "markers",
         "text": "cluster = 1<br>org.quartz.plugins.history.loggingtriggerhistoryplugin<br>fired<br>trigger<br>info<br>default.ubbwzvkhqfkvegzybbhpeg<br>correlationids<br>create<br>default.84duaswystm1sg5zxlmung<br>default.vj3t7b6htyyugnj0jifqxa<br>delegate<br>eligible<br>entry<br>completed<br>eoxowhuzsjcgev5cht6kta<br>execution<br>",
         "type": "scatter",
         "x": [
          -0.09575917183138567,
          -0.015643598361538977,
          -0.015643598361538977,
          -0.015643598361538984,
          -0.015643598361538984,
          -0.01564359836153897,
          -0.01564359836153897,
          -0.09575917178371171,
          -0.015643598361538995,
          -0.015643598361539002,
          -0.015643598361539002,
          -0.015643598361539002,
          -0.01564359836153901,
          -0.015643598361538988
         ],
         "y": [
          -0.6087468830727936,
          -0.34235001716722474,
          -0.34235001716722474,
          -0.34235001716722485,
          -0.34235001716722485,
          -0.34235001716722474,
          -0.3423500171672247,
          -0.6087468830800931,
          -0.3423500171672246,
          -0.3423500171672245,
          -0.3423500171672245,
          -0.34235001716722446,
          -0.3423500171672245,
          -0.34235001716722446
         ]
        },
        {
         "marker": {
          "color": "'rgb 27,52,23'"
         },
         "mode": "markers",
         "text": "cluster = 2<br>complete<br>execution<br>reports<br>null<br>org.quartz.plugins.history.loggingjobhistoryplugin<br>info<br>delegate<br>http<br>correlationids<br>create<br>default.84duaswystm1sg5zxlmung<br>default.ubbwzvkhqfkvegzybbhpeg<br>default.vj3t7b6htyyugnj0jifqxa<br>firing<br>fired<br>",
         "type": "scatter",
         "x": [
          -0.5795107700731248,
          -0.5795107700731249,
          -0.5795107700731249,
          -0.5795107700731251,
          -0.5795107700731251,
          -0.5795107700731252
         ],
         "y": [
          0.3027226310541416,
          0.3027226310541416,
          0.30272263105414154,
          0.30272263105414193,
          0.3027226310541418,
          0.3027226310541418
         ]
        },
        {
         "marker": {
          "color": "'rgb 191,232,12'"
         },
         "mode": "markers",
         "text": "cluster = 3<br>queued<br>software.wings.app.delegatequeuetask<br>sync<br>broadcast<br>task<br>null<br>96flhyp5tsawqn6wehcpkg<br>oxyvkq8lqr24ikqn778ljw<br>info<br>entry<br>eligible<br>eoxowhuzsjcgev5cht6kta<br>connection<br>execution<br>f67p97lwq3cbqdhqcdyevw<br>",
         "type": "scatter",
         "x": [
          0.3836239773803894,
          0.3952996286815715,
          0.3836226601554648,
          0.4083991839512881
         ],
         "y": [
          0.5781385126024365,
          0.5886468803626129,
          0.5781392764815447,
          0.5775626436536897
         ]
        },
        {
         "marker": {
          "color": "'rgb 186,241,179'"
         },
         "mode": "markers",
         "text": "cluster = 4<br>lock<br>com.novemberain.quartz.mongodb.dao.locksdao<br>removed<br>trigger<br>info<br>removing<br>inserting<br>fired<br>default.vj3t7b6htyyugnj0jifqxa<br>hsp55cwerwmz5ujazsfwhq<br>correlationids<br>create<br>default.84duaswystm1sg5zxlmung<br>default.ubbwzvkhqfkvegzybbhpeg<br>delegate<br>",
         "type": "scatter",
         "x": [
          0.6562061369876444,
          0.5687447426293059,
          0.5721069584518979,
          0.5687447426297604,
          0.6562061371471708,
          0.568744742629306,
          0.5906737370677407,
          0.5687447426293061
         ],
         "y": [
          0.0456814009811443,
          0.11089569723374099,
          0.19458272195989768,
          0.11089569723340617,
          0.045681403365797395,
          0.11089569723374094,
          0.18679839895732556,
          0.11089569723374097
         ]
        },
        {
         "marker": {
          "color": "'rgb 57,198,21'"
         },
         "mode": "markers",
         "text": "cluster = 5<br>org.quartz.plugins.history.loggingjobhistoryplugin<br>fired<br>trigger<br>info<br>hsp55cwerwmz5ujazsfwhq<br>hsbxdjzwtcwffojremmvsq<br>correlationids<br>create<br>default.84duaswystm1sg5zxlmung<br>default.ubbwzvkhqfkvegzybbhpeg<br>default.vj3t7b6htyyugnj0jifqxa<br>delegate<br>eligible<br>entry<br>hxzqpr1eq5uijw8la1eddq<br>",
         "type": "scatter",
         "x": [
          -0.29299277584202893,
          -0.292992775842029,
          -0.292992775842029,
          -0.29299277584202904,
          -0.292992775842029,
          -0.29299277584202893,
          -0.292992775842029,
          -0.292992775842029,
          -0.29299277584202904,
          -0.292992775842029,
          -0.29299277584202904,
          -0.29299277584202904
         ],
         "y": [
          -0.16817960641640017,
          -0.16817960641640023,
          -0.16817960641640023,
          -0.16817960641640026,
          -0.16817960641640017,
          -0.16817960641640012,
          -0.16817960641640023,
          -0.16817960641640023,
          -0.16817960641640023,
          -0.16817960641640017,
          -0.16817960641640017,
          -0.1681796064164002
         ]
        },
        {
         "marker": {
          "color": "'rgb 247,123,11'"
         },
         "mode": "markers",
         "text": "cluster = 6<br>zy4600e0qz6p6qiv21pikg<br>f67p97lwq3cbqdhqcdyevw<br>nvtumfrmtme0eqvydmzrcw<br>miei53pdqn2pscnnrgtnfw<br>kag4hdwsrkgmnsemh3mmgq<br>iypxxgyjrgaksxwf0n4a2a<br>zn8pfdyyqneissbw9gojhg<br>ielw1fmmtridcw6x4d32vw<br>hxzqpr1eq5uijw8la1eddq<br>hsp55cwerwmz5ujazsfwhq<br>hsbxdjzwtcwffojremmvsq<br>eoxowhuzsjcgev5cht6kta<br>pyim79aoroif3r54ioxagq<br>entry<br>correlationids<br>",
         "type": "scatter",
         "x": [
          -0.24560642575289113,
          -0.24560642575286476
         ],
         "y": [
          0.7620273674161285,
          0.7620273674161406
         ]
        },
        {
         "marker": {
          "color": "'rgb 81,84,132'"
         },
         "mode": "markers",
         "text": "cluster = 7<br>delegate<br>command<br>splunk<br>http<br>jenkins<br>registering<br>software.wings.service.impl.delegateserviceimpl<br>info<br>4xreuez2sgyjyphgybdrwq<br>2kwgmwcfrmu0rwswkbnsgq<br>default.84duaswystm1sg5zxlmung<br>default.ubbwzvkhqfkvegzybbhpeg<br>default.vj3t7b6htyyugnj0jifqxa<br>172.31.15.70 - - [31/may/2017:21:36:12 +0000] \"get /todolist/health-check http/1.1\" 200 50<br>eligible<br>",
         "type": "scatter",
         "x": [
          0.011007761738341473,
          0.015572603920382821
         ],
         "y": [
          0.756030747884773,
          0.7562127579753664
         ]
        },
        {
         "marker": {
          "color": "'rgb 13,33,8'"
         },
         "mode": "markers",
         "text": "cluster = 8<br>resulting<br>firing<br>code<br>completed<br>instruction<br>trigger<br>org.quartz.plugins.history.loggingtriggerhistoryplugin<br>info<br>default.84duaswystm1sg5zxlmung<br>default.vj3t7b6htyyugnj0jifqxa<br>http<br>connection<br>correlationids<br>create<br>default.ubbwzvkhqfkvegzybbhpeg<br>",
         "type": "scatter",
         "x": [
          0.43575221919259943,
          0.44854580205195616,
          0.4637972968246549,
          0.46379729682465504,
          0.4357522191925994,
          0.44854580205195566,
          0.46379729682465476,
          0.46379729682465476
         ],
         "y": [
          -0.43114603402904905,
          -0.3748504767678073,
          -0.3916953388953387,
          -0.391695338895339,
          -0.4311460340290497,
          -0.37485047676780797,
          -0.3916953388953386,
          -0.3916953388953388
         ]
        },
        {
         "marker": {
          "color": "'rgb 4,74,80'"
         },
         "mode": "markers",
         "text": "cluster = 9<br>connection<br>inetaddress<br>server<br>create<br>com.cloudbees.syslog.sender.tcpsyslogmessagesender<br>changed<br>syslog<br>info<br>default.84duaswystm1sg5zxlmung<br>default.ubbwzvkhqfkvegzybbhpeg<br>default.vj3t7b6htyyugnj0jifqxa<br>delegate<br>eligible<br>entry<br>eoxowhuzsjcgev5cht6kta<br>",
         "type": "scatter",
         "x": [
          0.2280699262253307,
          0.2280699262253309
         ],
         "y": [
          0.7192120042774502,
          0.7192120042774505
         ]
        },
        {
         "marker": {
          "color": "'rgb 196,206,217'"
         },
         "mode": "markers",
         "text": "cluster = 10<br>triggers<br>eligible<br>com.novemberain.quartz.mongodb.dao.triggerdao<br>info<br>hsp55cwerwmz5ujazsfwhq<br>hsbxdjzwtcwffojremmvsq<br>correlationids<br>hxzqpr1eq5uijw8la1eddq<br>create<br>default.84duaswystm1sg5zxlmung<br>default.ubbwzvkhqfkvegzybbhpeg<br>default.vj3t7b6htyyugnj0jifqxa<br>delegate<br>http<br>entry<br>",
         "type": "scatter",
         "x": [
          -0.8101564729933585,
          -0.49529842298612564
         ],
         "y": [
          0.15715964958598064,
          0.5621565349503211
         ]
        },
        {
         "marker": {
          "color": "'rgb 50,35,19'"
         },
         "mode": "markers",
         "text": "cluster = 11<br>software.wings.service.impl.delegateserviceimpl<br>task<br>broadcast<br>wa9gnxfqsuke9h8hqi0vng<br>info<br>connection<br>correlationids<br>create<br>default.84duaswystm1sg5zxlmung<br>default.ubbwzvkhqfkvegzybbhpeg<br>default.vj3t7b6htyyugnj0jifqxa<br>delegate<br>eligible<br>complete<br>entry<br>",
         "type": "scatter",
         "x": [
          0.0021594035617564043,
          -0.06879865269582025
         ],
         "y": [
          0.6060364394650711,
          0.6219443735572235
         ]
        },
        {
         "marker": {
          "color": "'rgb 214,103,93'"
         },
         "mode": "markers",
         "text": "cluster = 12<br>172.31.15.70 - - [31/may/2017:21:35:12 +0000] \"get /todolist/health-check http/1.1\" 200 50<br>zy4600e0qz6p6qiv21pikg<br>eoxowhuzsjcgev5cht6kta<br>correlationids<br>create<br>default.84duaswystm1sg5zxlmung<br>default.ubbwzvkhqfkvegzybbhpeg<br>default.vj3t7b6htyyugnj0jifqxa<br>delegate<br>eligible<br>entry<br>execution<br>completed<br>f67p97lwq3cbqdhqcdyevw<br>fired<br>",
         "type": "scatter",
         "x": [
          -0.4134442277291136
         ],
         "y": [
          0.6949066115730885
         ]
        },
        {
         "marker": {
          "color": "'rgb 60,44,196'"
         },
         "mode": "markers",
         "text": "cluster = 13<br>default.84duaswystm1sg5zxlmung<br>fired<br>trigger<br>org.quartz.plugins.history.loggingjobhistoryplugin<br>info<br>org.quartz.plugins.history.loggingtriggerhistoryplugin<br>eligible<br>correlationids<br>create<br>http<br>default.ubbwzvkhqfkvegzybbhpeg<br>default.vj3t7b6htyyugnj0jifqxa<br>delegate<br>firing<br>hsbxdjzwtcwffojremmvsq<br>",
         "type": "scatter",
         "x": [
          -0.4374878924255959,
          0.09569023053358831,
          -0.437487892424806,
          -0.10077918098790871
         ],
         "y": [
          -0.21075801578154174,
          -0.2516053420274182,
          -0.2107580157426323,
          -0.481666641679101
         ]
        },
        {
         "marker": {
          "color": "'rgb 95,181,245'"
         },
         "mode": "markers",
         "text": "cluster = 14<br>default.vj3t7b6htyyugnj0jifqxa<br>fired<br>trigger<br>org.quartz.plugins.history.loggingjobhistoryplugin<br>info<br>org.quartz.plugins.history.loggingtriggerhistoryplugin<br>eligible<br>correlationids<br>create<br>default.84duaswystm1sg5zxlmung<br>default.ubbwzvkhqfkvegzybbhpeg<br>http<br>delegate<br>firing<br>hsbxdjzwtcwffojremmvsq<br>",
         "type": "scatter",
         "x": [
          -0.4016356254455079,
          0.022733617071812734,
          -0.4016356254455077,
          0.02273361707154945
         ],
         "y": [
          -0.33653215324788716,
          -0.5088809557780039,
          -0.33653215324788677,
          -0.5088809557780772
         ]
        },
        {
         "marker": {
          "color": "'rgb 226,123,188'"
         },
         "mode": "markers",
         "text": "cluster = 15<br>172.31.15.70 - - [31/may/2017:21:36:12 +0000] \"get /todolist/health-check http/1.1\" 200 50<br>zy4600e0qz6p6qiv21pikg<br>eoxowhuzsjcgev5cht6kta<br>correlationids<br>create<br>default.84duaswystm1sg5zxlmung<br>default.ubbwzvkhqfkvegzybbhpeg<br>default.vj3t7b6htyyugnj0jifqxa<br>delegate<br>eligible<br>entry<br>execution<br>completed<br>f67p97lwq3cbqdhqcdyevw<br>fired<br>",
         "type": "scatter",
         "x": [
          0.6943820410339663
         ],
         "y": [
          0.47253104919970673
         ]
        }
       ],
       "layout": {
        "hovermode": "closest"
       }
      },
      "text/html": [
       "<div id=\"5afd57bc-16d4-4f49-8df9-acbf38f4cdbd\" style=\"height: 525px; width: 100%;\" class=\"plotly-graph-div\"></div><script type=\"text/javascript\">require([\"plotly\"], function(Plotly) { window.PLOTLYENV=window.PLOTLYENV || {};window.PLOTLYENV.BASE_URL=\"https://plot.ly\";Plotly.newPlot(\"5afd57bc-16d4-4f49-8df9-acbf38f4cdbd\", [{\"text\": \"cluster = 0<br>com.novemberain.quartz.mongodb.triggerrunner<br>acquired<br>trigger<br>info<br>correlationids<br>create<br>default.84duaswystm1sg5zxlmung<br>default.ubbwzvkhqfkvegzybbhpeg<br>default.vj3t7b6htyyugnj0jifqxa<br>delegate<br>eligible<br>entry<br>completed<br>eoxowhuzsjcgev5cht6kta<br>execution<br>\", \"marker\": {\"color\": \"'rgb 157,156,207'\"}, \"mode\": \"markers\", \"y\": [0.3618155692059343, 0.36181556920543473], \"x\": [0.08241727581167907, 0.08241727581385071], \"type\": \"scatter\"}, {\"text\": \"cluster = 1<br>org.quartz.plugins.history.loggingtriggerhistoryplugin<br>fired<br>trigger<br>info<br>default.ubbwzvkhqfkvegzybbhpeg<br>correlationids<br>create<br>default.84duaswystm1sg5zxlmung<br>default.vj3t7b6htyyugnj0jifqxa<br>delegate<br>eligible<br>entry<br>completed<br>eoxowhuzsjcgev5cht6kta<br>execution<br>\", \"marker\": {\"color\": \"'rgb 191,4,112'\"}, \"mode\": \"markers\", \"y\": [-0.6087468830727936, -0.34235001716722474, -0.34235001716722474, -0.34235001716722485, -0.34235001716722485, -0.34235001716722474, -0.3423500171672247, -0.6087468830800931, -0.3423500171672246, -0.3423500171672245, -0.3423500171672245, -0.34235001716722446, -0.3423500171672245, -0.34235001716722446], \"x\": [-0.09575917183138567, -0.015643598361538977, -0.015643598361538977, -0.015643598361538984, -0.015643598361538984, -0.01564359836153897, -0.01564359836153897, -0.09575917178371171, -0.015643598361538995, -0.015643598361539002, -0.015643598361539002, -0.015643598361539002, -0.01564359836153901, -0.015643598361538988], \"type\": \"scatter\"}, {\"text\": \"cluster = 2<br>complete<br>execution<br>reports<br>null<br>org.quartz.plugins.history.loggingjobhistoryplugin<br>info<br>delegate<br>http<br>correlationids<br>create<br>default.84duaswystm1sg5zxlmung<br>default.ubbwzvkhqfkvegzybbhpeg<br>default.vj3t7b6htyyugnj0jifqxa<br>firing<br>fired<br>\", \"marker\": {\"color\": \"'rgb 27,52,23'\"}, \"mode\": \"markers\", \"y\": [0.3027226310541416, 0.3027226310541416, 0.30272263105414154, 0.30272263105414193, 0.3027226310541418, 0.3027226310541418], \"x\": [-0.5795107700731248, -0.5795107700731249, -0.5795107700731249, -0.5795107700731251, -0.5795107700731251, -0.5795107700731252], \"type\": \"scatter\"}, {\"text\": \"cluster = 3<br>queued<br>software.wings.app.delegatequeuetask<br>sync<br>broadcast<br>task<br>null<br>96flhyp5tsawqn6wehcpkg<br>oxyvkq8lqr24ikqn778ljw<br>info<br>entry<br>eligible<br>eoxowhuzsjcgev5cht6kta<br>connection<br>execution<br>f67p97lwq3cbqdhqcdyevw<br>\", \"marker\": {\"color\": \"'rgb 191,232,12'\"}, \"mode\": \"markers\", \"y\": [0.5781385126024365, 0.5886468803626129, 0.5781392764815447, 0.5775626436536897], \"x\": [0.3836239773803894, 0.3952996286815715, 0.3836226601554648, 0.4083991839512881], \"type\": \"scatter\"}, {\"text\": \"cluster = 4<br>lock<br>com.novemberain.quartz.mongodb.dao.locksdao<br>removed<br>trigger<br>info<br>removing<br>inserting<br>fired<br>default.vj3t7b6htyyugnj0jifqxa<br>hsp55cwerwmz5ujazsfwhq<br>correlationids<br>create<br>default.84duaswystm1sg5zxlmung<br>default.ubbwzvkhqfkvegzybbhpeg<br>delegate<br>\", \"marker\": {\"color\": \"'rgb 186,241,179'\"}, \"mode\": \"markers\", \"y\": [0.0456814009811443, 0.11089569723374099, 0.19458272195989768, 0.11089569723340617, 0.045681403365797395, 0.11089569723374094, 0.18679839895732556, 0.11089569723374097], \"x\": [0.6562061369876444, 0.5687447426293059, 0.5721069584518979, 0.5687447426297604, 0.6562061371471708, 0.568744742629306, 0.5906737370677407, 0.5687447426293061], \"type\": \"scatter\"}, {\"text\": \"cluster = 5<br>org.quartz.plugins.history.loggingjobhistoryplugin<br>fired<br>trigger<br>info<br>hsp55cwerwmz5ujazsfwhq<br>hsbxdjzwtcwffojremmvsq<br>correlationids<br>create<br>default.84duaswystm1sg5zxlmung<br>default.ubbwzvkhqfkvegzybbhpeg<br>default.vj3t7b6htyyugnj0jifqxa<br>delegate<br>eligible<br>entry<br>hxzqpr1eq5uijw8la1eddq<br>\", \"marker\": {\"color\": \"'rgb 57,198,21'\"}, \"mode\": \"markers\", \"y\": [-0.16817960641640017, -0.16817960641640023, -0.16817960641640023, -0.16817960641640026, -0.16817960641640017, -0.16817960641640012, -0.16817960641640023, -0.16817960641640023, -0.16817960641640023, -0.16817960641640017, -0.16817960641640017, -0.1681796064164002], \"x\": [-0.29299277584202893, -0.292992775842029, -0.292992775842029, -0.29299277584202904, -0.292992775842029, -0.29299277584202893, -0.292992775842029, -0.292992775842029, -0.29299277584202904, -0.292992775842029, -0.29299277584202904, -0.29299277584202904], \"type\": \"scatter\"}, {\"text\": \"cluster = 6<br>zy4600e0qz6p6qiv21pikg<br>f67p97lwq3cbqdhqcdyevw<br>nvtumfrmtme0eqvydmzrcw<br>miei53pdqn2pscnnrgtnfw<br>kag4hdwsrkgmnsemh3mmgq<br>iypxxgyjrgaksxwf0n4a2a<br>zn8pfdyyqneissbw9gojhg<br>ielw1fmmtridcw6x4d32vw<br>hxzqpr1eq5uijw8la1eddq<br>hsp55cwerwmz5ujazsfwhq<br>hsbxdjzwtcwffojremmvsq<br>eoxowhuzsjcgev5cht6kta<br>pyim79aoroif3r54ioxagq<br>entry<br>correlationids<br>\", \"marker\": {\"color\": \"'rgb 247,123,11'\"}, \"mode\": \"markers\", \"y\": [0.7620273674161285, 0.7620273674161406], \"x\": [-0.24560642575289113, -0.24560642575286476], \"type\": \"scatter\"}, {\"text\": \"cluster = 7<br>delegate<br>command<br>splunk<br>http<br>jenkins<br>registering<br>software.wings.service.impl.delegateserviceimpl<br>info<br>4xreuez2sgyjyphgybdrwq<br>2kwgmwcfrmu0rwswkbnsgq<br>default.84duaswystm1sg5zxlmung<br>default.ubbwzvkhqfkvegzybbhpeg<br>default.vj3t7b6htyyugnj0jifqxa<br>172.31.15.70 - - [31/may/2017:21:36:12 +0000] \\\"get /todolist/health-check http/1.1\\\" 200 50<br>eligible<br>\", \"marker\": {\"color\": \"'rgb 81,84,132'\"}, \"mode\": \"markers\", \"y\": [0.756030747884773, 0.7562127579753664], \"x\": [0.011007761738341473, 0.015572603920382821], \"type\": \"scatter\"}, {\"text\": \"cluster = 8<br>resulting<br>firing<br>code<br>completed<br>instruction<br>trigger<br>org.quartz.plugins.history.loggingtriggerhistoryplugin<br>info<br>default.84duaswystm1sg5zxlmung<br>default.vj3t7b6htyyugnj0jifqxa<br>http<br>connection<br>correlationids<br>create<br>default.ubbwzvkhqfkvegzybbhpeg<br>\", \"marker\": {\"color\": \"'rgb 13,33,8'\"}, \"mode\": \"markers\", \"y\": [-0.43114603402904905, -0.3748504767678073, -0.3916953388953387, -0.391695338895339, -0.4311460340290497, -0.37485047676780797, -0.3916953388953386, -0.3916953388953388], \"x\": [0.43575221919259943, 0.44854580205195616, 0.4637972968246549, 0.46379729682465504, 0.4357522191925994, 0.44854580205195566, 0.46379729682465476, 0.46379729682465476], \"type\": \"scatter\"}, {\"text\": \"cluster = 9<br>connection<br>inetaddress<br>server<br>create<br>com.cloudbees.syslog.sender.tcpsyslogmessagesender<br>changed<br>syslog<br>info<br>default.84duaswystm1sg5zxlmung<br>default.ubbwzvkhqfkvegzybbhpeg<br>default.vj3t7b6htyyugnj0jifqxa<br>delegate<br>eligible<br>entry<br>eoxowhuzsjcgev5cht6kta<br>\", \"marker\": {\"color\": \"'rgb 4,74,80'\"}, \"mode\": \"markers\", \"y\": [0.7192120042774502, 0.7192120042774505], \"x\": [0.2280699262253307, 0.2280699262253309], \"type\": \"scatter\"}, {\"text\": \"cluster = 10<br>triggers<br>eligible<br>com.novemberain.quartz.mongodb.dao.triggerdao<br>info<br>hsp55cwerwmz5ujazsfwhq<br>hsbxdjzwtcwffojremmvsq<br>correlationids<br>hxzqpr1eq5uijw8la1eddq<br>create<br>default.84duaswystm1sg5zxlmung<br>default.ubbwzvkhqfkvegzybbhpeg<br>default.vj3t7b6htyyugnj0jifqxa<br>delegate<br>http<br>entry<br>\", \"marker\": {\"color\": \"'rgb 196,206,217'\"}, \"mode\": \"markers\", \"y\": [0.15715964958598064, 0.5621565349503211], \"x\": [-0.8101564729933585, -0.49529842298612564], \"type\": \"scatter\"}, {\"text\": \"cluster = 11<br>software.wings.service.impl.delegateserviceimpl<br>task<br>broadcast<br>wa9gnxfqsuke9h8hqi0vng<br>info<br>connection<br>correlationids<br>create<br>default.84duaswystm1sg5zxlmung<br>default.ubbwzvkhqfkvegzybbhpeg<br>default.vj3t7b6htyyugnj0jifqxa<br>delegate<br>eligible<br>complete<br>entry<br>\", \"marker\": {\"color\": \"'rgb 50,35,19'\"}, \"mode\": \"markers\", \"y\": [0.6060364394650711, 0.6219443735572235], \"x\": [0.0021594035617564043, -0.06879865269582025], \"type\": \"scatter\"}, {\"text\": \"cluster = 12<br>172.31.15.70 - - [31/may/2017:21:35:12 +0000] \\\"get /todolist/health-check http/1.1\\\" 200 50<br>zy4600e0qz6p6qiv21pikg<br>eoxowhuzsjcgev5cht6kta<br>correlationids<br>create<br>default.84duaswystm1sg5zxlmung<br>default.ubbwzvkhqfkvegzybbhpeg<br>default.vj3t7b6htyyugnj0jifqxa<br>delegate<br>eligible<br>entry<br>execution<br>completed<br>f67p97lwq3cbqdhqcdyevw<br>fired<br>\", \"marker\": {\"color\": \"'rgb 214,103,93'\"}, \"mode\": \"markers\", \"y\": [0.6949066115730885], \"x\": [-0.4134442277291136], \"type\": \"scatter\"}, {\"text\": \"cluster = 13<br>default.84duaswystm1sg5zxlmung<br>fired<br>trigger<br>org.quartz.plugins.history.loggingjobhistoryplugin<br>info<br>org.quartz.plugins.history.loggingtriggerhistoryplugin<br>eligible<br>correlationids<br>create<br>http<br>default.ubbwzvkhqfkvegzybbhpeg<br>default.vj3t7b6htyyugnj0jifqxa<br>delegate<br>firing<br>hsbxdjzwtcwffojremmvsq<br>\", \"marker\": {\"color\": \"'rgb 60,44,196'\"}, \"mode\": \"markers\", \"y\": [-0.21075801578154174, -0.2516053420274182, -0.2107580157426323, -0.481666641679101], \"x\": [-0.4374878924255959, 0.09569023053358831, -0.437487892424806, -0.10077918098790871], \"type\": \"scatter\"}, {\"text\": \"cluster = 14<br>default.vj3t7b6htyyugnj0jifqxa<br>fired<br>trigger<br>org.quartz.plugins.history.loggingjobhistoryplugin<br>info<br>org.quartz.plugins.history.loggingtriggerhistoryplugin<br>eligible<br>correlationids<br>create<br>default.84duaswystm1sg5zxlmung<br>default.ubbwzvkhqfkvegzybbhpeg<br>http<br>delegate<br>firing<br>hsbxdjzwtcwffojremmvsq<br>\", \"marker\": {\"color\": \"'rgb 95,181,245'\"}, \"mode\": \"markers\", \"y\": [-0.33653215324788716, -0.5088809557780039, -0.33653215324788677, -0.5088809557780772], \"x\": [-0.4016356254455079, 0.022733617071812734, -0.4016356254455077, 0.02273361707154945], \"type\": \"scatter\"}, {\"text\": \"cluster = 15<br>172.31.15.70 - - [31/may/2017:21:36:12 +0000] \\\"get /todolist/health-check http/1.1\\\" 200 50<br>zy4600e0qz6p6qiv21pikg<br>eoxowhuzsjcgev5cht6kta<br>correlationids<br>create<br>default.84duaswystm1sg5zxlmung<br>default.ubbwzvkhqfkvegzybbhpeg<br>default.vj3t7b6htyyugnj0jifqxa<br>delegate<br>eligible<br>entry<br>execution<br>completed<br>f67p97lwq3cbqdhqcdyevw<br>fired<br>\", \"marker\": {\"color\": \"'rgb 226,123,188'\"}, \"mode\": \"markers\", \"y\": [0.47253104919970673], \"x\": [0.6943820410339663], \"type\": \"scatter\"}], {\"hovermode\": \"closest\"}, {\"linkText\": \"Export to plot.ly\", \"showLink\": false})});</script>"
      ],
      "text/vnd.plotly.v1+html": [
       "<div id=\"5afd57bc-16d4-4f49-8df9-acbf38f4cdbd\" style=\"height: 525px; width: 100%;\" class=\"plotly-graph-div\"></div><script type=\"text/javascript\">require([\"plotly\"], function(Plotly) { window.PLOTLYENV=window.PLOTLYENV || {};window.PLOTLYENV.BASE_URL=\"https://plot.ly\";Plotly.newPlot(\"5afd57bc-16d4-4f49-8df9-acbf38f4cdbd\", [{\"text\": \"cluster = 0<br>com.novemberain.quartz.mongodb.triggerrunner<br>acquired<br>trigger<br>info<br>correlationids<br>create<br>default.84duaswystm1sg5zxlmung<br>default.ubbwzvkhqfkvegzybbhpeg<br>default.vj3t7b6htyyugnj0jifqxa<br>delegate<br>eligible<br>entry<br>completed<br>eoxowhuzsjcgev5cht6kta<br>execution<br>\", \"marker\": {\"color\": \"'rgb 157,156,207'\"}, \"mode\": \"markers\", \"y\": [0.3618155692059343, 0.36181556920543473], \"x\": [0.08241727581167907, 0.08241727581385071], \"type\": \"scatter\"}, {\"text\": \"cluster = 1<br>org.quartz.plugins.history.loggingtriggerhistoryplugin<br>fired<br>trigger<br>info<br>default.ubbwzvkhqfkvegzybbhpeg<br>correlationids<br>create<br>default.84duaswystm1sg5zxlmung<br>default.vj3t7b6htyyugnj0jifqxa<br>delegate<br>eligible<br>entry<br>completed<br>eoxowhuzsjcgev5cht6kta<br>execution<br>\", \"marker\": {\"color\": \"'rgb 191,4,112'\"}, \"mode\": \"markers\", \"y\": [-0.6087468830727936, -0.34235001716722474, -0.34235001716722474, -0.34235001716722485, -0.34235001716722485, -0.34235001716722474, -0.3423500171672247, -0.6087468830800931, -0.3423500171672246, -0.3423500171672245, -0.3423500171672245, -0.34235001716722446, -0.3423500171672245, -0.34235001716722446], \"x\": [-0.09575917183138567, -0.015643598361538977, -0.015643598361538977, -0.015643598361538984, -0.015643598361538984, -0.01564359836153897, -0.01564359836153897, -0.09575917178371171, -0.015643598361538995, -0.015643598361539002, -0.015643598361539002, -0.015643598361539002, -0.01564359836153901, -0.015643598361538988], \"type\": \"scatter\"}, {\"text\": \"cluster = 2<br>complete<br>execution<br>reports<br>null<br>org.quartz.plugins.history.loggingjobhistoryplugin<br>info<br>delegate<br>http<br>correlationids<br>create<br>default.84duaswystm1sg5zxlmung<br>default.ubbwzvkhqfkvegzybbhpeg<br>default.vj3t7b6htyyugnj0jifqxa<br>firing<br>fired<br>\", \"marker\": {\"color\": \"'rgb 27,52,23'\"}, \"mode\": \"markers\", \"y\": [0.3027226310541416, 0.3027226310541416, 0.30272263105414154, 0.30272263105414193, 0.3027226310541418, 0.3027226310541418], \"x\": [-0.5795107700731248, -0.5795107700731249, -0.5795107700731249, -0.5795107700731251, -0.5795107700731251, -0.5795107700731252], \"type\": \"scatter\"}, {\"text\": \"cluster = 3<br>queued<br>software.wings.app.delegatequeuetask<br>sync<br>broadcast<br>task<br>null<br>96flhyp5tsawqn6wehcpkg<br>oxyvkq8lqr24ikqn778ljw<br>info<br>entry<br>eligible<br>eoxowhuzsjcgev5cht6kta<br>connection<br>execution<br>f67p97lwq3cbqdhqcdyevw<br>\", \"marker\": {\"color\": \"'rgb 191,232,12'\"}, \"mode\": \"markers\", \"y\": [0.5781385126024365, 0.5886468803626129, 0.5781392764815447, 0.5775626436536897], \"x\": [0.3836239773803894, 0.3952996286815715, 0.3836226601554648, 0.4083991839512881], \"type\": \"scatter\"}, {\"text\": \"cluster = 4<br>lock<br>com.novemberain.quartz.mongodb.dao.locksdao<br>removed<br>trigger<br>info<br>removing<br>inserting<br>fired<br>default.vj3t7b6htyyugnj0jifqxa<br>hsp55cwerwmz5ujazsfwhq<br>correlationids<br>create<br>default.84duaswystm1sg5zxlmung<br>default.ubbwzvkhqfkvegzybbhpeg<br>delegate<br>\", \"marker\": {\"color\": \"'rgb 186,241,179'\"}, \"mode\": \"markers\", \"y\": [0.0456814009811443, 0.11089569723374099, 0.19458272195989768, 0.11089569723340617, 0.045681403365797395, 0.11089569723374094, 0.18679839895732556, 0.11089569723374097], \"x\": [0.6562061369876444, 0.5687447426293059, 0.5721069584518979, 0.5687447426297604, 0.6562061371471708, 0.568744742629306, 0.5906737370677407, 0.5687447426293061], \"type\": \"scatter\"}, {\"text\": \"cluster = 5<br>org.quartz.plugins.history.loggingjobhistoryplugin<br>fired<br>trigger<br>info<br>hsp55cwerwmz5ujazsfwhq<br>hsbxdjzwtcwffojremmvsq<br>correlationids<br>create<br>default.84duaswystm1sg5zxlmung<br>default.ubbwzvkhqfkvegzybbhpeg<br>default.vj3t7b6htyyugnj0jifqxa<br>delegate<br>eligible<br>entry<br>hxzqpr1eq5uijw8la1eddq<br>\", \"marker\": {\"color\": \"'rgb 57,198,21'\"}, \"mode\": \"markers\", \"y\": [-0.16817960641640017, -0.16817960641640023, -0.16817960641640023, -0.16817960641640026, -0.16817960641640017, -0.16817960641640012, -0.16817960641640023, -0.16817960641640023, -0.16817960641640023, -0.16817960641640017, -0.16817960641640017, -0.1681796064164002], \"x\": [-0.29299277584202893, -0.292992775842029, -0.292992775842029, -0.29299277584202904, -0.292992775842029, -0.29299277584202893, -0.292992775842029, -0.292992775842029, -0.29299277584202904, -0.292992775842029, -0.29299277584202904, -0.29299277584202904], \"type\": \"scatter\"}, {\"text\": \"cluster = 6<br>zy4600e0qz6p6qiv21pikg<br>f67p97lwq3cbqdhqcdyevw<br>nvtumfrmtme0eqvydmzrcw<br>miei53pdqn2pscnnrgtnfw<br>kag4hdwsrkgmnsemh3mmgq<br>iypxxgyjrgaksxwf0n4a2a<br>zn8pfdyyqneissbw9gojhg<br>ielw1fmmtridcw6x4d32vw<br>hxzqpr1eq5uijw8la1eddq<br>hsp55cwerwmz5ujazsfwhq<br>hsbxdjzwtcwffojremmvsq<br>eoxowhuzsjcgev5cht6kta<br>pyim79aoroif3r54ioxagq<br>entry<br>correlationids<br>\", \"marker\": {\"color\": \"'rgb 247,123,11'\"}, \"mode\": \"markers\", \"y\": [0.7620273674161285, 0.7620273674161406], \"x\": [-0.24560642575289113, -0.24560642575286476], \"type\": \"scatter\"}, {\"text\": \"cluster = 7<br>delegate<br>command<br>splunk<br>http<br>jenkins<br>registering<br>software.wings.service.impl.delegateserviceimpl<br>info<br>4xreuez2sgyjyphgybdrwq<br>2kwgmwcfrmu0rwswkbnsgq<br>default.84duaswystm1sg5zxlmung<br>default.ubbwzvkhqfkvegzybbhpeg<br>default.vj3t7b6htyyugnj0jifqxa<br>172.31.15.70 - - [31/may/2017:21:36:12 +0000] \\\"get /todolist/health-check http/1.1\\\" 200 50<br>eligible<br>\", \"marker\": {\"color\": \"'rgb 81,84,132'\"}, \"mode\": \"markers\", \"y\": [0.756030747884773, 0.7562127579753664], \"x\": [0.011007761738341473, 0.015572603920382821], \"type\": \"scatter\"}, {\"text\": \"cluster = 8<br>resulting<br>firing<br>code<br>completed<br>instruction<br>trigger<br>org.quartz.plugins.history.loggingtriggerhistoryplugin<br>info<br>default.84duaswystm1sg5zxlmung<br>default.vj3t7b6htyyugnj0jifqxa<br>http<br>connection<br>correlationids<br>create<br>default.ubbwzvkhqfkvegzybbhpeg<br>\", \"marker\": {\"color\": \"'rgb 13,33,8'\"}, \"mode\": \"markers\", \"y\": [-0.43114603402904905, -0.3748504767678073, -0.3916953388953387, -0.391695338895339, -0.4311460340290497, -0.37485047676780797, -0.3916953388953386, -0.3916953388953388], \"x\": [0.43575221919259943, 0.44854580205195616, 0.4637972968246549, 0.46379729682465504, 0.4357522191925994, 0.44854580205195566, 0.46379729682465476, 0.46379729682465476], \"type\": \"scatter\"}, {\"text\": \"cluster = 9<br>connection<br>inetaddress<br>server<br>create<br>com.cloudbees.syslog.sender.tcpsyslogmessagesender<br>changed<br>syslog<br>info<br>default.84duaswystm1sg5zxlmung<br>default.ubbwzvkhqfkvegzybbhpeg<br>default.vj3t7b6htyyugnj0jifqxa<br>delegate<br>eligible<br>entry<br>eoxowhuzsjcgev5cht6kta<br>\", \"marker\": {\"color\": \"'rgb 4,74,80'\"}, \"mode\": \"markers\", \"y\": [0.7192120042774502, 0.7192120042774505], \"x\": [0.2280699262253307, 0.2280699262253309], \"type\": \"scatter\"}, {\"text\": \"cluster = 10<br>triggers<br>eligible<br>com.novemberain.quartz.mongodb.dao.triggerdao<br>info<br>hsp55cwerwmz5ujazsfwhq<br>hsbxdjzwtcwffojremmvsq<br>correlationids<br>hxzqpr1eq5uijw8la1eddq<br>create<br>default.84duaswystm1sg5zxlmung<br>default.ubbwzvkhqfkvegzybbhpeg<br>default.vj3t7b6htyyugnj0jifqxa<br>delegate<br>http<br>entry<br>\", \"marker\": {\"color\": \"'rgb 196,206,217'\"}, \"mode\": \"markers\", \"y\": [0.15715964958598064, 0.5621565349503211], \"x\": [-0.8101564729933585, -0.49529842298612564], \"type\": \"scatter\"}, {\"text\": \"cluster = 11<br>software.wings.service.impl.delegateserviceimpl<br>task<br>broadcast<br>wa9gnxfqsuke9h8hqi0vng<br>info<br>connection<br>correlationids<br>create<br>default.84duaswystm1sg5zxlmung<br>default.ubbwzvkhqfkvegzybbhpeg<br>default.vj3t7b6htyyugnj0jifqxa<br>delegate<br>eligible<br>complete<br>entry<br>\", \"marker\": {\"color\": \"'rgb 50,35,19'\"}, \"mode\": \"markers\", \"y\": [0.6060364394650711, 0.6219443735572235], \"x\": [0.0021594035617564043, -0.06879865269582025], \"type\": \"scatter\"}, {\"text\": \"cluster = 12<br>172.31.15.70 - - [31/may/2017:21:35:12 +0000] \\\"get /todolist/health-check http/1.1\\\" 200 50<br>zy4600e0qz6p6qiv21pikg<br>eoxowhuzsjcgev5cht6kta<br>correlationids<br>create<br>default.84duaswystm1sg5zxlmung<br>default.ubbwzvkhqfkvegzybbhpeg<br>default.vj3t7b6htyyugnj0jifqxa<br>delegate<br>eligible<br>entry<br>execution<br>completed<br>f67p97lwq3cbqdhqcdyevw<br>fired<br>\", \"marker\": {\"color\": \"'rgb 214,103,93'\"}, \"mode\": \"markers\", \"y\": [0.6949066115730885], \"x\": [-0.4134442277291136], \"type\": \"scatter\"}, {\"text\": \"cluster = 13<br>default.84duaswystm1sg5zxlmung<br>fired<br>trigger<br>org.quartz.plugins.history.loggingjobhistoryplugin<br>info<br>org.quartz.plugins.history.loggingtriggerhistoryplugin<br>eligible<br>correlationids<br>create<br>http<br>default.ubbwzvkhqfkvegzybbhpeg<br>default.vj3t7b6htyyugnj0jifqxa<br>delegate<br>firing<br>hsbxdjzwtcwffojremmvsq<br>\", \"marker\": {\"color\": \"'rgb 60,44,196'\"}, \"mode\": \"markers\", \"y\": [-0.21075801578154174, -0.2516053420274182, -0.2107580157426323, -0.481666641679101], \"x\": [-0.4374878924255959, 0.09569023053358831, -0.437487892424806, -0.10077918098790871], \"type\": \"scatter\"}, {\"text\": \"cluster = 14<br>default.vj3t7b6htyyugnj0jifqxa<br>fired<br>trigger<br>org.quartz.plugins.history.loggingjobhistoryplugin<br>info<br>org.quartz.plugins.history.loggingtriggerhistoryplugin<br>eligible<br>correlationids<br>create<br>default.84duaswystm1sg5zxlmung<br>default.ubbwzvkhqfkvegzybbhpeg<br>http<br>delegate<br>firing<br>hsbxdjzwtcwffojremmvsq<br>\", \"marker\": {\"color\": \"'rgb 95,181,245'\"}, \"mode\": \"markers\", \"y\": [-0.33653215324788716, -0.5088809557780039, -0.33653215324788677, -0.5088809557780772], \"x\": [-0.4016356254455079, 0.022733617071812734, -0.4016356254455077, 0.02273361707154945], \"type\": \"scatter\"}, {\"text\": \"cluster = 15<br>172.31.15.70 - - [31/may/2017:21:36:12 +0000] \\\"get /todolist/health-check http/1.1\\\" 200 50<br>zy4600e0qz6p6qiv21pikg<br>eoxowhuzsjcgev5cht6kta<br>correlationids<br>create<br>default.84duaswystm1sg5zxlmung<br>default.ubbwzvkhqfkvegzybbhpeg<br>default.vj3t7b6htyyugnj0jifqxa<br>delegate<br>eligible<br>entry<br>execution<br>completed<br>f67p97lwq3cbqdhqcdyevw<br>fired<br>\", \"marker\": {\"color\": \"'rgb 226,123,188'\"}, \"mode\": \"markers\", \"y\": [0.47253104919970673], \"x\": [0.6943820410339663], \"type\": \"scatter\"}], {\"hovermode\": \"closest\"}, {\"linkText\": \"Export to plot.ly\", \"showLink\": false})});</script>"
      ]
     },
     "metadata": {},
     "output_type": "display_data"
    },
    {
     "name": "stdout",
     "output_type": "stream",
     "text": [
      "Detecting new anomaly\n"
     ]
    },
    {
     "ename": "ValueError",
     "evalue": "The truth value of an array with more than one element is ambiguous. Use a.any() or a.all()",
     "output_type": "error",
     "traceback": [
      "\u001b[0;31m---------------------------------------------------------------------------\u001b[0m",
      "\u001b[0;31mValueError\u001b[0m                                Traceback (most recent call last)",
      "\u001b[0;32m<ipython-input-2-9e87b8b9c687>\u001b[0m in \u001b[0;36m<module>\u001b[0;34m()\u001b[0m\n\u001b[1;32m    377\u001b[0m \u001b[0;31m#threshold_picker.observe(threshold_picker_change_handler, names=\"value\")\u001b[0m\u001b[0;34m\u001b[0m\u001b[0;34m\u001b[0m\u001b[0m\n\u001b[1;32m    378\u001b[0m \u001b[0;31m#intialize\u001b[0m\u001b[0;34m\u001b[0m\u001b[0;34m\u001b[0m\u001b[0m\n\u001b[0;32m--> 379\u001b[0;31m \u001b[0mdata_source_change_handler\u001b[0m\u001b[0;34m(\u001b[0m\u001b[0;34m''\u001b[0m\u001b[0;34m)\u001b[0m\u001b[0;34m\u001b[0m\u001b[0m\n\u001b[0m\u001b[1;32m    380\u001b[0m \u001b[0mevent_picker_change_handler\u001b[0m\u001b[0;34m(\u001b[0m\u001b[0;34m''\u001b[0m\u001b[0;34m)\u001b[0m\u001b[0;34m\u001b[0m\u001b[0m\n\u001b[1;32m    381\u001b[0m \u001b[0;34m\u001b[0m\u001b[0m\n",
      "\u001b[0;32m<ipython-input-2-9e87b8b9c687>\u001b[0m in \u001b[0;36mdata_source_change_handler\u001b[0;34m(change)\u001b[0m\n\u001b[1;32m    130\u001b[0m     \u001b[0mtime_range_picker\u001b[0m\u001b[0;34m.\u001b[0m\u001b[0mmax\u001b[0m \u001b[0;34m=\u001b[0m \u001b[0mminutes\u001b[0m\u001b[0;34m\u001b[0m\u001b[0m\n\u001b[1;32m    131\u001b[0m \u001b[0;34m\u001b[0m\u001b[0m\n\u001b[0;32m--> 132\u001b[0;31m     \u001b[0mnew_time_range_picker\u001b[0m\u001b[0;34m.\u001b[0m\u001b[0mvalue\u001b[0m \u001b[0;34m=\u001b[0m \u001b[0;34m[\u001b[0m\u001b[0mminutes\u001b[0m \u001b[0;34m-\u001b[0m\u001b[0;36m2\u001b[0m\u001b[0;34m,\u001b[0m \u001b[0mminutes\u001b[0m\u001b[0;34m]\u001b[0m\u001b[0;34m\u001b[0m\u001b[0m\n\u001b[0m\u001b[1;32m    133\u001b[0m     \u001b[0mnew_time_range_picker\u001b[0m\u001b[0;34m.\u001b[0m\u001b[0mmin\u001b[0m \u001b[0;34m=\u001b[0m \u001b[0;36m1\u001b[0m\u001b[0;34m\u001b[0m\u001b[0m\n\u001b[1;32m    134\u001b[0m     \u001b[0mnew_time_range_picker\u001b[0m\u001b[0;34m.\u001b[0m\u001b[0mmax\u001b[0m \u001b[0;34m=\u001b[0m \u001b[0mminutes\u001b[0m\u001b[0;34m\u001b[0m\u001b[0m\n",
      "\u001b[0;32m/Users/sriram_parthasarathy/wings/python/splunk_intelligence/.pyenv/lib/python2.7/site-packages/traitlets/traitlets.pyc\u001b[0m in \u001b[0;36m__set__\u001b[0;34m(self, obj, value)\u001b[0m\n\u001b[1;32m    583\u001b[0m             \u001b[0;32mraise\u001b[0m \u001b[0mTraitError\u001b[0m\u001b[0;34m(\u001b[0m\u001b[0;34m'The \"%s\" trait is read-only.'\u001b[0m \u001b[0;34m%\u001b[0m \u001b[0mself\u001b[0m\u001b[0;34m.\u001b[0m\u001b[0mname\u001b[0m\u001b[0;34m)\u001b[0m\u001b[0;34m\u001b[0m\u001b[0m\n\u001b[1;32m    584\u001b[0m         \u001b[0;32melse\u001b[0m\u001b[0;34m:\u001b[0m\u001b[0;34m\u001b[0m\u001b[0m\n\u001b[0;32m--> 585\u001b[0;31m             \u001b[0mself\u001b[0m\u001b[0;34m.\u001b[0m\u001b[0mset\u001b[0m\u001b[0;34m(\u001b[0m\u001b[0mobj\u001b[0m\u001b[0;34m,\u001b[0m \u001b[0mvalue\u001b[0m\u001b[0;34m)\u001b[0m\u001b[0;34m\u001b[0m\u001b[0m\n\u001b[0m\u001b[1;32m    586\u001b[0m \u001b[0;34m\u001b[0m\u001b[0m\n\u001b[1;32m    587\u001b[0m     \u001b[0;32mdef\u001b[0m \u001b[0m_validate\u001b[0m\u001b[0;34m(\u001b[0m\u001b[0mself\u001b[0m\u001b[0;34m,\u001b[0m \u001b[0mobj\u001b[0m\u001b[0;34m,\u001b[0m \u001b[0mvalue\u001b[0m\u001b[0;34m)\u001b[0m\u001b[0;34m:\u001b[0m\u001b[0;34m\u001b[0m\u001b[0m\n",
      "\u001b[0;32m/Users/sriram_parthasarathy/wings/python/splunk_intelligence/.pyenv/lib/python2.7/site-packages/traitlets/traitlets.pyc\u001b[0m in \u001b[0;36mset\u001b[0;34m(self, obj, value)\u001b[0m\n\u001b[1;32m    572\u001b[0m             \u001b[0;31m# we explicitly compare silent to True just in case the equality\u001b[0m\u001b[0;34m\u001b[0m\u001b[0;34m\u001b[0m\u001b[0m\n\u001b[1;32m    573\u001b[0m             \u001b[0;31m# comparison above returns something other than True/False\u001b[0m\u001b[0;34m\u001b[0m\u001b[0;34m\u001b[0m\u001b[0m\n\u001b[0;32m--> 574\u001b[0;31m             \u001b[0mobj\u001b[0m\u001b[0;34m.\u001b[0m\u001b[0m_notify_trait\u001b[0m\u001b[0;34m(\u001b[0m\u001b[0mself\u001b[0m\u001b[0;34m.\u001b[0m\u001b[0mname\u001b[0m\u001b[0;34m,\u001b[0m \u001b[0mold_value\u001b[0m\u001b[0;34m,\u001b[0m \u001b[0mnew_value\u001b[0m\u001b[0;34m)\u001b[0m\u001b[0;34m\u001b[0m\u001b[0m\n\u001b[0m\u001b[1;32m    575\u001b[0m \u001b[0;34m\u001b[0m\u001b[0m\n\u001b[1;32m    576\u001b[0m     \u001b[0;32mdef\u001b[0m \u001b[0m__set__\u001b[0m\u001b[0;34m(\u001b[0m\u001b[0mself\u001b[0m\u001b[0;34m,\u001b[0m \u001b[0mobj\u001b[0m\u001b[0;34m,\u001b[0m \u001b[0mvalue\u001b[0m\u001b[0;34m)\u001b[0m\u001b[0;34m:\u001b[0m\u001b[0;34m\u001b[0m\u001b[0m\n",
      "\u001b[0;32m/Users/sriram_parthasarathy/wings/python/splunk_intelligence/.pyenv/lib/python2.7/site-packages/traitlets/traitlets.pyc\u001b[0m in \u001b[0;36m_notify_trait\u001b[0;34m(self, name, old_value, new_value)\u001b[0m\n\u001b[1;32m   1137\u001b[0m             \u001b[0mnew\u001b[0m\u001b[0;34m=\u001b[0m\u001b[0mnew_value\u001b[0m\u001b[0;34m,\u001b[0m\u001b[0;34m\u001b[0m\u001b[0m\n\u001b[1;32m   1138\u001b[0m             \u001b[0mowner\u001b[0m\u001b[0;34m=\u001b[0m\u001b[0mself\u001b[0m\u001b[0;34m,\u001b[0m\u001b[0;34m\u001b[0m\u001b[0m\n\u001b[0;32m-> 1139\u001b[0;31m             \u001b[0mtype\u001b[0m\u001b[0;34m=\u001b[0m\u001b[0;34m'change'\u001b[0m\u001b[0;34m,\u001b[0m\u001b[0;34m\u001b[0m\u001b[0m\n\u001b[0m\u001b[1;32m   1140\u001b[0m         ))\n\u001b[1;32m   1141\u001b[0m \u001b[0;34m\u001b[0m\u001b[0m\n",
      "\u001b[0;32m/Users/sriram_parthasarathy/wings/python/splunk_intelligence/.pyenv/lib/python2.7/site-packages/ipywidgets/widgets/widget.pyc\u001b[0m in \u001b[0;36mnotify_change\u001b[0;34m(self, change)\u001b[0m\n\u001b[1;32m    396\u001b[0m                 \u001b[0;31m# Send new state to front-end\u001b[0m\u001b[0;34m\u001b[0m\u001b[0;34m\u001b[0m\u001b[0m\n\u001b[1;32m    397\u001b[0m                 \u001b[0mself\u001b[0m\u001b[0;34m.\u001b[0m\u001b[0msend_state\u001b[0m\u001b[0;34m(\u001b[0m\u001b[0mkey\u001b[0m\u001b[0;34m=\u001b[0m\u001b[0mname\u001b[0m\u001b[0;34m)\u001b[0m\u001b[0;34m\u001b[0m\u001b[0m\n\u001b[0;32m--> 398\u001b[0;31m         \u001b[0mLoggingConfigurable\u001b[0m\u001b[0;34m.\u001b[0m\u001b[0mnotify_change\u001b[0m\u001b[0;34m(\u001b[0m\u001b[0mself\u001b[0m\u001b[0;34m,\u001b[0m \u001b[0mchange\u001b[0m\u001b[0;34m)\u001b[0m\u001b[0;34m\u001b[0m\u001b[0m\n\u001b[0m\u001b[1;32m    399\u001b[0m \u001b[0;34m\u001b[0m\u001b[0m\n\u001b[1;32m    400\u001b[0m     \u001b[0;31m#-------------------------------------------------------------------------\u001b[0m\u001b[0;34m\u001b[0m\u001b[0;34m\u001b[0m\u001b[0m\n",
      "\u001b[0;32m/Users/sriram_parthasarathy/wings/python/splunk_intelligence/.pyenv/lib/python2.7/site-packages/traitlets/traitlets.pyc\u001b[0m in \u001b[0;36mnotify_change\u001b[0;34m(self, change)\u001b[0m\n\u001b[1;32m   1174\u001b[0m                 \u001b[0mc\u001b[0m \u001b[0;34m=\u001b[0m \u001b[0mgetattr\u001b[0m\u001b[0;34m(\u001b[0m\u001b[0mself\u001b[0m\u001b[0;34m,\u001b[0m \u001b[0mc\u001b[0m\u001b[0;34m.\u001b[0m\u001b[0mname\u001b[0m\u001b[0;34m)\u001b[0m\u001b[0;34m\u001b[0m\u001b[0m\n\u001b[1;32m   1175\u001b[0m \u001b[0;34m\u001b[0m\u001b[0m\n\u001b[0;32m-> 1176\u001b[0;31m             \u001b[0mc\u001b[0m\u001b[0;34m(\u001b[0m\u001b[0mchange\u001b[0m\u001b[0;34m)\u001b[0m\u001b[0;34m\u001b[0m\u001b[0m\n\u001b[0m\u001b[1;32m   1177\u001b[0m \u001b[0;34m\u001b[0m\u001b[0m\n\u001b[1;32m   1178\u001b[0m     \u001b[0;32mdef\u001b[0m \u001b[0m_add_notifiers\u001b[0m\u001b[0;34m(\u001b[0m\u001b[0mself\u001b[0m\u001b[0;34m,\u001b[0m \u001b[0mhandler\u001b[0m\u001b[0;34m,\u001b[0m \u001b[0mname\u001b[0m\u001b[0;34m,\u001b[0m \u001b[0mtype\u001b[0m\u001b[0;34m)\u001b[0m\u001b[0;34m:\u001b[0m\u001b[0;34m\u001b[0m\u001b[0m\n",
      "\u001b[0;32m<ipython-input-2-9e87b8b9c687>\u001b[0m in \u001b[0;36mtime_slider_change_handler\u001b[0;34m(change)\u001b[0m\n\u001b[1;32m    154\u001b[0m \u001b[0;34m\u001b[0m\u001b[0m\n\u001b[1;32m    155\u001b[0m     \u001b[0mevent_picker\u001b[0m\u001b[0;34m.\u001b[0m\u001b[0moptions\u001b[0m \u001b[0;34m=\u001b[0m \u001b[0;34m[\u001b[0m \u001b[0mx\u001b[0m \u001b[0;32mfor\u001b[0m \u001b[0mx\u001b[0m \u001b[0;32min\u001b[0m \u001b[0mrange\u001b[0m\u001b[0;34m(\u001b[0m\u001b[0mlen\u001b[0m\u001b[0;34m(\u001b[0m\u001b[0musable_events\u001b[0m\u001b[0;34m)\u001b[0m\u001b[0;34m)\u001b[0m\u001b[0;34m]\u001b[0m\u001b[0;34m\u001b[0m\u001b[0m\n\u001b[0;32m--> 156\u001b[0;31m     \u001b[0mcluster\u001b[0m\u001b[0;34m(\u001b[0m\u001b[0;34m)\u001b[0m\u001b[0;34m\u001b[0m\u001b[0m\n\u001b[0m\u001b[1;32m    157\u001b[0m \u001b[0;34m\u001b[0m\u001b[0m\n\u001b[1;32m    158\u001b[0m \u001b[0;32mdef\u001b[0m \u001b[0mplot_cluster\u001b[0m\u001b[0;34m(\u001b[0m\u001b[0mdist\u001b[0m\u001b[0;34m,\u001b[0m \u001b[0mkm\u001b[0m\u001b[0;34m,\u001b[0m \u001b[0mfeatures\u001b[0m\u001b[0;34m)\u001b[0m\u001b[0;34m:\u001b[0m\u001b[0;34m\u001b[0m\u001b[0m\n",
      "\u001b[0;32m<ipython-input-2-9e87b8b9c687>\u001b[0m in \u001b[0;36mcluster\u001b[0;34m()\u001b[0m\n\u001b[1;32m    233\u001b[0m     \u001b[0;32mfor\u001b[0m \u001b[0mp\u001b[0m \u001b[0;32min\u001b[0m \u001b[0mpredictions\u001b[0m\u001b[0;34m:\u001b[0m\u001b[0;34m\u001b[0m\u001b[0m\n\u001b[1;32m    234\u001b[0m         \u001b[0mklus\u001b[0m\u001b[0;34m.\u001b[0m\u001b[0mappend\u001b[0m\u001b[0;34m(\u001b[0m\u001b[0mp\u001b[0m\u001b[0;34m)\u001b[0m\u001b[0;34m\u001b[0m\u001b[0m\n\u001b[0;32m--> 235\u001b[0;31m         \u001b[0;32mif\u001b[0m \u001b[0mp\u001b[0m \u001b[0;34m!=\u001b[0m \u001b[0;34m-\u001b[0m\u001b[0;36m1\u001b[0m\u001b[0;34m:\u001b[0m\u001b[0;34m\u001b[0m\u001b[0m\n\u001b[0m\u001b[1;32m    236\u001b[0m             \u001b[0mlabels\u001b[0m\u001b[0;34m.\u001b[0m\u001b[0mappend\u001b[0m\u001b[0;34m(\u001b[0m\u001b[0;36m1\u001b[0m\u001b[0;34m)\u001b[0m\u001b[0;34m\u001b[0m\u001b[0m\n\u001b[1;32m    237\u001b[0m         \u001b[0;32melse\u001b[0m\u001b[0;34m:\u001b[0m\u001b[0;34m\u001b[0m\u001b[0m\n",
      "\u001b[0;31mValueError\u001b[0m: The truth value of an array with more than one element is ambiguous. Use a.any() or a.all()"
     ]
    }
   ],
   "source": [
    "import sys\n",
    "sys.path.insert(0, '../..')\n",
    "sys.path.insert(0, 'plots')\n",
    "\n",
    "import os\n",
    "\n",
    "from IPython.display import display\n",
    "from IPython.display import clear_output\n",
    "import ipywidgets as widgets\n",
    "\n",
    "\n",
    "import json\n",
    "from src.SplunkIntel import SplunkIntel\n",
    "from src.sources.SplunkDataset import SplunkDataset\n",
    "from src.sources.SplunkFileSource import SplunkFileSource\n",
    "\n",
    "import plotly as py\n",
    "import pandas as pd\n",
    "import numpy as np\n",
    "import plot as plot\n",
    "\n",
    "py.offline.init_notebook_mode()\n",
    "pd.set_option('display.notebook_repr_html', True)\n",
    "\n",
    "data_sources_names = []\n",
    "\n",
    "data_source_picker = None\n",
    "time_range_picker = None\n",
    "event_picker = None\n",
    "event_text_area = None \n",
    "threshold_picker = None\n",
    "new_time_range_picker = None\n",
    "\n",
    "#create widgets\n",
    "def create_widgets():\n",
    "    global data_source_picker, time_range_picker, event_picker\n",
    "    global event_text_area, threshold_picker, new_time_range_picker\n",
    "    for file in os.listdir(\"../../data\"):\n",
    "            if file.endswith(\".json\"):\n",
    "                data_sources_names.append(file)\n",
    "\n",
    "    data_source_picker = widgets.Dropdown(\n",
    "            options=data_sources_names,\n",
    "            description='Data Source:',\n",
    "            disabled=False,\n",
    "            button_style='' # 'success', 'info', 'warning', 'danger' or ''\n",
    "        )    \n",
    "\n",
    "    time_range_picker = widgets.IntRangeSlider(\n",
    "                value=[1, 2],\n",
    "                min=0,\n",
    "                max=100,\n",
    "                step=1,\n",
    "                description='Control Time:',\n",
    "                disabled=False,\n",
    "                continuous_update=False,\n",
    "                orientation='horizontal',\n",
    "                readout=True,\n",
    "                readout_format='i',\n",
    "                slider_color='white',\n",
    "                color='black'\n",
    "        )\n",
    "    \n",
    "    new_time_range_picker = widgets.IntRangeSlider(\n",
    "                value=[1, 2],\n",
    "                min=0,\n",
    "                max=100,\n",
    "                step=1,\n",
    "                description='Test Time:',\n",
    "                disabled=False,\n",
    "                continuous_update=False,\n",
    "                orientation='horizontal',\n",
    "                readout=True,\n",
    "                readout_format='i',\n",
    "                slider_color='white',\n",
    "                color='black'\n",
    "        )\n",
    "    \n",
    "    threshold_picker = widgets.FloatSlider(\n",
    "                value=0.5,\n",
    "                min=0,\n",
    "                max=1,\n",
    "                step=0.1,\n",
    "                description='Threshold:',\n",
    "                disabled=False,\n",
    "                continuous_update=False,\n",
    "                orientation='horizontal',\n",
    "                readout=True,\n",
    "                readout_format='.1f',\n",
    "                slider_color='white',\n",
    "                color='black'\n",
    "        )\n",
    "    \n",
    "    event_picker = widgets.Dropdown(\n",
    "            options=[1,2,3],\n",
    "            description='Event Number:',\n",
    "            disabled=False,\n",
    "            button_style='' # 'success', 'info', 'warning', 'danger' or ''\n",
    "        )\n",
    "    \n",
    "    l = widgets.Layout(height='40px', width='800px')\n",
    "    event_text_area = widgets.Textarea(value='TA: height=40px', layout=l)\n",
    "\n",
    "    \n",
    "def initialize(change):    \n",
    "    # Just to set the widgets\n",
    "    all_events = []\n",
    "    all_events.extend(SplunkFileSource.load_data('../../data/' + data_source_picker.value))    \n",
    "    minutes = 0\n",
    "    for dict in all_events:\n",
    "        if dict.get('cluster_label') == '1':\n",
    "            minutes = minutes + 1\n",
    "\n",
    "    time_range_picker.value = [1,2]\n",
    "    time_range_picker.min = 1\n",
    "    time_range_picker.max = minutes\n",
    "    \n",
    "    new_time_range_picker.value = [minutes -2, minutes]\n",
    "    new_time_range_picker.min = 1\n",
    "    new_time_range_picker.max = minutes \n",
    "    \n",
    "    change_event_handler(None)\n",
    "    \n",
    "    \n",
    "splunkDataset = None\n",
    "splunkIntelargs = []\n",
    "\n",
    "def event_picker_change_handler(change):\n",
    "    event_text_area.value = json.dumps(splunkDataset.get_all_events()[event_picker.value])\n",
    "\n",
    "def split(input, length, size):\n",
    "    input.replace('\\n', ' ')\n",
    "    input.replace('\\tat', ' ')\n",
    "    return '<br>'.join([input[start:start + size] for start in range(0, length, size)])\n",
    "\n",
    "def get_labels(control_events, anomalies):\n",
    "    labels = []\n",
    "    for i in range(len(control_events)):\n",
    "        labels.append(0)\n",
    "    for p in anomalies:\n",
    "        if p == 1:\n",
    "            labels.append(1)\n",
    "        else:\n",
    "            labels.append(2)\n",
    "\n",
    "    return labels\n",
    "\n",
    "def get_tool_tips(control_events, test_events, control_clusters, test_clusters):\n",
    "    tooltips = []\n",
    "    for idx, event in enumerate(control_events):\n",
    "        tooltips.append(\n",
    "            split(event[0], min(1000, len(event[0])), 100) + '<br> id = ' + str(event[3]) + '<br> cluster = ' + str(\n",
    "            control_clusters[idx]))\n",
    "\n",
    "    for idx, event in enumerate(test_events):\n",
    "        tooltips.append(\n",
    "            split(event[0], min(1000, len(event[0])), 100) + '<br> id = ' + str(event[3]) + '<br> cluster = ' + str(\n",
    "            test_clusters[idx]))\n",
    "            \n",
    "    return tooltips\n",
    "    \n",
    "# Handle data source change\n",
    "def change_event_handler(change):\n",
    "    global splunkDataset\n",
    "    \n",
    "    clear_output()\n",
    "    \n",
    "    splunkIntelargs.append('--file_source')\n",
    "    splunkIntelargs.append('../../data/' + data_source_picker.value) \n",
    "    splunkIntelargs.append('--control_window')\n",
    "    splunkIntelargs.append(str(int(time_range_picker.value[0])))\n",
    "    splunkIntelargs.append(str(int(time_range_picker.value[1])))\n",
    "    splunkIntelargs.append('--test_window')\n",
    "    splunkIntelargs.append(str(int(new_time_range_picker.value[0])))\n",
    "    splunkIntelargs.append(str(int(new_time_range_picker.value[1])))\n",
    "    splunkIntelargs.append('--sim_threshold')\n",
    "    splunkIntelargs.append(str(float(threshold_picker.value)))\n",
    "    \n",
    "    print(splunkIntelargs)\n",
    "\n",
    "    splunkIntel = SplunkIntel(SplunkIntel.parse(splunkIntelargs))\n",
    "    splunkDataset = splunkIntel.run_from_file()\n",
    "\n",
    "    \n",
    "    plot.scatter_plot(splunkDataset.get_xy_matrix_control(), splunkDataset.get_control_events())\n",
    "\n",
    "    plot.scatter_plot_groups(splunkDataset.get_xy_matrix_control(), \n",
    "                             splunkDataset.get_control_clusters(), \n",
    "                             splunkDataset.get_cluster_tags(5))\n",
    "    \n",
    "    plot.scatter_plot_groups(splunkDataset.get_xy_matrix_all(), \n",
    "                             get_labels(splunkDataset.get_control_events(), splunkDataset.get_anomalies()),\n",
    "                            get_tool_tips(splunkDataset.get_control_events(), splunkDataset.get_test_events()\n",
    "                                         , splunkDataset.get_control_clusters(),splunkDataset.get_test_clusters()), \n",
    "                             ['control', 'test', 'test-anomaly'], ['blue','orange','red'])\n",
    "    \n",
    "    plot.scatter_plot_groups_4d(splunkDataset.get_xyz_matrix_all(), \n",
    "                                get_labels(splunkDataset.get_control_events(), splunkDataset.get_anomalous_values()), \n",
    "                                splunkDataset.get_all_clusters(),\n",
    "                                get_tool_tips(splunkDataset.get_control_events(), \n",
    "                                              splunkDataset.get_test_events(),\n",
    "                                              splunkDataset.get_control_clusters(),\n",
    "                                              splunkDataset.get_test_clusters()),\n",
    "                                ['blue','orange','red'])\n",
    "\n",
    "\n",
    "            \n",
    "    event_picker.options = [ x for x in range(len(splunkDataset.get_all_events()))] \n",
    "     \n",
    "\n",
    "create_widgets()\n",
    "\n",
    "#intialize\n",
    "initialize(None)\n",
    "    \n",
    "#setup even handlers    \n",
    "data_source_picker.observe(initialize, names=\"value\")\n",
    "time_range_picker.observe(change_event_handler, names=\"value\")\n",
    "new_time_range_picker.observe(change_event_handler, names=\"value\")\n",
    "event_picker.observe(event_picker_change_handler, names=\"value\")\n",
    "threshold_picker.observe(change_event_handler, names=\"value\")\n",
    "\n",
    "\n",
    "\n",
    "# show widgets\n",
    "display(widgets.HBox([data_source_picker]))\n",
    "display(widgets.HBox([time_range_picker, threshold_picker]))\n",
    "display(widgets.HBox([new_time_range_picker]))\n",
    "display(widgets.HBox([event_picker, event_text_area]))"
   ]
  },
  {
   "cell_type": "code",
   "execution_count": null,
   "metadata": {
    "collapsed": true
   },
   "outputs": [],
   "source": []
  }
 ],
 "metadata": {
  "kernelspec": {
   "display_name": "Python 2",
   "language": "python",
   "name": "python2"
  },
  "language_info": {
   "codemirror_mode": {
    "name": "ipython",
    "version": 2
   },
   "file_extension": ".py",
   "mimetype": "text/x-python",
   "name": "python",
   "nbconvert_exporter": "python",
   "pygments_lexer": "ipython2",
   "version": "2.7.10"
  }
 },
 "nbformat": 4,
 "nbformat_minor": 2
}
