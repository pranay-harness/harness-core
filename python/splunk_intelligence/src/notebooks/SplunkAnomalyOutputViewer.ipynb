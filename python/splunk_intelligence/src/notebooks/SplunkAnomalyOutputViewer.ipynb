{
 "cells": [
  {
   "cell_type": "code",
   "execution_count": null,
   "metadata": {
    "collapsed": true
   },
   "outputs": [],
   "source": [
    "import sys\n",
    "sys.path.insert(0, '..')\n",
    "sys.path.insert(0, 'plots')\n",
    "\n",
    "import os\n",
    "\n",
    "from IPython.display import display\n",
    "from IPython.display import clear_output\n",
    "import ipywidgets as widgets\n",
    "\n",
    "import json\n",
    "from SplunkIntelOptimized import SplunkIntelOptimized\n",
    "from sources.SplunkDatasetNew import SplunkDatasetNew\n",
    "from sources.SplunkFileSource import SplunkFileSource\n",
    "\n",
    "import plotly as py\n",
    "import pandas as pd\n",
    "import numpy as np\n",
    "import plotNew as plot\n",
    "py.offline.init_notebook_mode()\n",
    "pd.set_option('display.notebook_repr_html', True)\n",
    "\n",
    "fd=open('/Users/sriram_parthasarathy/1.txt')\n",
    "data = fd.read()\n",
    "data = json.loads(data)\n",
    "X = []\n",
    "texts = []\n",
    "labels = []\n",
    "for value in data['resource']['controlClusters']:\n",
    "    X.append([value.get('xcordinate'),value.get('ycordinate')])\n",
    "    texts.append([value.get('logText'), value.get('host')])\n",
    "    labels.append(0)\n",
    "    \n",
    "\n",
    "for value in data['resource']['testClusters']:\n",
    "    X.append([value.get('xcordinate'),value.get('ycordinate')])\n",
    "    texts.append([value.get('logText'), value.get('host')]) \n",
    "    if value.get('unexpectedFreq') == True:\n",
    "        labels.append(2)\n",
    "    else:    \n",
    "        labels.append(1)\n",
    "\n",
    "\n",
    "                 \n",
    "plot.scatter_plot_groups(np.array(X), labels, texts, legends=['control', 'test', 'unexp-freq'], cc=['blue', 'green', 'red'])    \n",
    "    "
   ]
  }
 ],
 "metadata": {
  "kernelspec": {
   "display_name": "Python 2",
   "language": "python",
   "name": "python2"
  },
  "language_info": {
   "codemirror_mode": {
    "name": "ipython",
    "version": 2
   },
   "file_extension": ".py",
   "mimetype": "text/x-python",
   "name": "python",
   "nbconvert_exporter": "python",
   "pygments_lexer": "ipython2",
   "version": "2.7.10"
  }
 },
 "nbformat": 4,
 "nbformat_minor": 2
}
