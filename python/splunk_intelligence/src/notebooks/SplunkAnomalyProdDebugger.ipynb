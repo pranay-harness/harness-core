{
 "cells": [
  {
   "cell_type": "code",
   "execution_count": 2,
   "metadata": {},
   "outputs": [
    {
     "name": "stderr",
     "output_type": "stream",
     "text": [
      "2017-07-20 21:44:36,020 INFO loading file ../../data_prod/prodOut.json\n",
      "2017-07-20 21:44:36,023 INFO loading file ../../data_prod/prodOut.json\n",
      "2017-07-20 21:44:36,026 INFO loading file ../../data_prod/prodOut.json\n",
      "2017-07-20 21:44:36,030 INFO Running using file source\n",
      "2017-07-20 21:44:36,031 INFO Start vectorization....\n",
      "2017-07-20 21:44:36,031 INFO setting min_df = 1 and max_df = 1.0\n",
      "2017-07-20 21:44:36,073 INFO Running kemans with k = 2\n",
      "2017-07-20 21:44:36,095 INFO Running kemans with k = 3\n",
      "2017-07-20 21:44:36,131 INFO Running kemans with k = 4\n",
      "2017-07-20 21:44:36,185 INFO found k = 4\n"
     ]
    },
    {
     "name": "stdout",
     "output_type": "stream",
     "text": [
      "(0, 0)\n",
      "(0, 0)\n",
      "([0, 0], [0, 0], ['ip-172-31-28-126'], ['ip-172-31-19-157'])\n",
      "(1, 1)\n",
      "(1, 1)\n",
      "([1, 1], [1, 1], ['ip-172-31-28-126'], ['ip-172-31-19-157'])\n",
      "(2, 2)\n",
      "(2, 2)\n",
      "([2, 2], [2, 2], ['ip-172-31-28-126'], ['ip-172-31-19-157'])\n",
      "['--sim_threshold', '0.8']\n",
      "('control count = ', 4)\n",
      "('test count = ', 4)\n"
     ]
    },
    {
     "name": "stderr",
     "output_type": "stream",
     "text": [
      "2017-07-20 21:44:36,324 INFO Detect Count Anomalies....\n",
      "2017-07-20 21:44:36,325 INFO Using ZeroDeviationClassifier for cluster 0\n",
      "2017-07-20 21:44:36,326 INFO Using ZeroDeviationClassifier for cluster 1\n",
      "2017-07-20 21:44:36,327 INFO Using ZeroDeviationClassifier for cluster 2\n",
      "2017-07-20 21:44:36,328 INFO Using ZeroDeviationClassifier for cluster 3\n",
      "2017-07-20 21:44:36,329 INFO done\n",
      "2017-07-20 21:44:36,331 INFO loading file ../../data_prod/prodOut.json\n",
      "2017-07-20 21:44:36,335 INFO loading file ./result.json\n",
      "2017-07-20 21:44:36,337 INFO Running using file source\n",
      "2017-07-20 21:44:36,338 INFO Start vectorization....\n",
      "2017-07-20 21:44:36,339 INFO setting min_df = 1 and max_df = 1.0\n",
      "2017-07-20 21:44:36,399 INFO Running kemans with k = 3\n",
      "2017-07-20 21:44:36,426 INFO Running kemans with k = 5\n",
      "2017-07-20 21:44:36,472 INFO found k = 5\n",
      "2017-07-20 21:44:36,472 INFO Running kemans with k = 4\n"
     ]
    },
    {
     "name": "stdout",
     "output_type": "stream",
     "text": [
      "(3, 3)\n",
      "(3, 3)\n",
      "([3, 3], [3, 3], ['ip-172-31-28-126'], ['ip-172-31-19-157'])\n",
      "['--sim_threshold', '0.8']\n",
      "('control count = ', 6)\n",
      "('test count = ', 6)\n"
     ]
    },
    {
     "name": "stderr",
     "output_type": "stream",
     "text": [
      "2017-07-20 21:44:36,739 INFO Detect Count Anomalies....\n",
      "2017-07-20 21:44:36,741 INFO Using ZeroDeviationClassifier for cluster 0\n",
      "2017-07-20 21:44:36,742 INFO Using ZeroDeviationClassifier for cluster 1\n",
      "2017-07-20 21:44:36,744 INFO Using ZeroDeviationClassifier for cluster 2\n",
      "2017-07-20 21:44:36,746 INFO Using ZeroDeviationClassifier for cluster 3\n",
      "2017-07-20 21:44:36,747 INFO Using ZeroDeviationClassifier for cluster 4\n",
      "2017-07-20 21:44:36,748 INFO done\n",
      "2017-07-20 21:44:36,751 INFO loading file ../../data_prod/prodOut.json\n",
      "2017-07-20 21:44:36,755 INFO loading file ./result.json\n",
      "2017-07-20 21:44:36,759 INFO Running using file source\n",
      "2017-07-20 21:44:36,760 INFO Start vectorization....\n",
      "2017-07-20 21:44:36,761 INFO setting min_df = 1 and max_df = 1.0\n",
      "2017-07-20 21:44:36,836 INFO Running kemans with k = 6\n",
      "2017-07-20 21:44:36,908 INFO Running kemans with k = 9\n"
     ]
    },
    {
     "name": "stdout",
     "output_type": "stream",
     "text": [
      "(4, 4)\n",
      "(4, 4)\n",
      "([4, 4], [4, 4], ['ip-172-31-28-126'], ['ip-172-31-19-157'])\n",
      "['--sim_threshold', '0.8']\n",
      "('control count = ', 11)\n"
     ]
    },
    {
     "name": "stderr",
     "output_type": "stream",
     "text": [
      "2017-07-20 21:44:37,000 INFO Running kemans with k = 10\n",
      "2017-07-20 21:44:37,096 INFO found k = 10\n"
     ]
    },
    {
     "name": "stdout",
     "output_type": "stream",
     "text": [
      "('test count = ', 11)\n"
     ]
    },
    {
     "name": "stderr",
     "output_type": "stream",
     "text": [
      "2017-07-20 21:44:37,320 INFO Detect Count Anomalies....\n",
      "2017-07-20 21:44:37,321 INFO Using ThreeSigmaClassifier for cluster 0\n",
      "2017-07-20 21:44:37,322 INFO Using ZeroDeviationClassifier for cluster 1\n",
      "2017-07-20 21:44:37,324 INFO Using ZeroDeviationClassifier for cluster 2\n",
      "2017-07-20 21:44:37,325 INFO Using ZeroDeviationClassifier for cluster 3\n",
      "2017-07-20 21:44:37,326 INFO Using ZeroDeviationClassifier for cluster 4\n",
      "2017-07-20 21:44:37,328 INFO Using ZeroDeviationClassifier for cluster 5\n",
      "2017-07-20 21:44:37,329 INFO Using ZeroDeviationClassifier for cluster 6\n",
      "2017-07-20 21:44:37,331 INFO Using ZeroDeviationClassifier for cluster 7\n",
      "2017-07-20 21:44:37,332 INFO Using ZeroDeviationClassifier for cluster 8\n",
      "2017-07-20 21:44:37,333 INFO Using ZeroDeviationClassifier for cluster 9\n",
      "2017-07-20 21:44:37,334 INFO done\n",
      "2017-07-20 21:44:37,337 INFO loading file ../../data_prod/prodOut.json\n",
      "2017-07-20 21:44:37,340 INFO loading file ./result.json\n",
      "2017-07-20 21:44:37,344 INFO Running using file source\n",
      "2017-07-20 21:44:37,345 INFO Start vectorization....\n",
      "2017-07-20 21:44:37,346 INFO setting min_df = 1 and max_df = 1.0\n",
      "2017-07-20 21:44:37,407 INFO Running kemans with k = 6\n",
      "2017-07-20 21:44:37,481 INFO Running kemans with k = 9\n"
     ]
    },
    {
     "name": "stdout",
     "output_type": "stream",
     "text": [
      "(5, 5)\n",
      "(5, 5)\n",
      "([5, 5], [5, 5], ['ip-172-31-28-126'], ['ip-172-31-19-157'])\n",
      "['--sim_threshold', '0.8']\n",
      "('control count = ', 12)\n"
     ]
    },
    {
     "name": "stderr",
     "output_type": "stream",
     "text": [
      "2017-07-20 21:44:37,578 INFO Running kemans with k = 11\n",
      "2017-07-20 21:44:37,764 INFO found k = 11\n",
      "2017-07-20 21:44:37,765 INFO Running kemans with k = 10\n",
      "2017-07-20 21:44:37,935 INFO found k = 10\n"
     ]
    },
    {
     "name": "stdout",
     "output_type": "stream",
     "text": [
      "('test count = ', 10)\n"
     ]
    },
    {
     "name": "stderr",
     "output_type": "stream",
     "text": [
      "2017-07-20 21:44:38,188 INFO Detect Count Anomalies....\n",
      "2017-07-20 21:44:38,190 INFO Using ThreeSigmaClassifier for cluster 1\n",
      "2017-07-20 21:44:38,191 INFO Using ZeroDeviationClassifier for cluster 2\n",
      "2017-07-20 21:44:38,193 INFO Using ThreeSigmaClassifier for cluster 3\n",
      "2017-07-20 21:44:38,197 INFO Using ZeroDeviationClassifier for cluster 4\n",
      "2017-07-20 21:44:38,198 INFO Using ZeroDeviationClassifier for cluster 5\n",
      "2017-07-20 21:44:38,200 INFO Using ZeroDeviationClassifier for cluster 6\n",
      "2017-07-20 21:44:38,201 INFO Using ZeroDeviationClassifier for cluster 7\n",
      "2017-07-20 21:44:38,203 INFO Using ZeroDeviationClassifier for cluster 8\n",
      "2017-07-20 21:44:38,206 INFO Using ZeroDeviationClassifier for cluster 9\n",
      "2017-07-20 21:44:38,208 INFO done\n",
      "2017-07-20 21:44:38,211 INFO loading file ../../data_prod/prodOut.json\n",
      "2017-07-20 21:44:38,216 INFO loading file ./result.json\n",
      "2017-07-20 21:44:38,221 INFO Running using file source\n",
      "2017-07-20 21:44:38,223 INFO Start vectorization....\n",
      "2017-07-20 21:44:38,224 INFO setting min_df = 1 and max_df = 1.0\n",
      "2017-07-20 21:44:38,274 INFO Running kemans with k = 7\n",
      "2017-07-20 21:44:38,386 INFO Running kemans with k = 11\n"
     ]
    },
    {
     "name": "stdout",
     "output_type": "stream",
     "text": [
      "(6, 6)\n",
      "(6, 6)\n",
      "([6, 6], [6, 6], ['ip-172-31-28-126'], ['ip-172-31-19-157'])\n",
      "['--sim_threshold', '0.8']\n",
      "('control count = ', 14)\n"
     ]
    },
    {
     "name": "stderr",
     "output_type": "stream",
     "text": [
      "2017-07-20 21:44:38,528 INFO Running kemans with k = 13\n",
      "2017-07-20 21:44:38,661 INFO found k = 13\n",
      "2017-07-20 21:44:38,662 INFO Running kemans with k = 12\n",
      "2017-07-20 21:44:38,911 INFO Detect Count Anomalies....\n",
      "2017-07-20 21:44:38,912 INFO Using ZeroDeviationClassifier for cluster 0\n",
      "2017-07-20 21:44:38,913 INFO Using ZeroDeviationClassifier for cluster 2\n",
      "2017-07-20 21:44:38,914 INFO Using ZeroDeviationClassifier for cluster 3\n",
      "2017-07-20 21:44:38,916 INFO Using ZeroDeviationClassifier for cluster 4\n",
      "2017-07-20 21:44:38,918 INFO Using ZeroDeviationClassifier for cluster 5\n",
      "2017-07-20 21:44:38,919 INFO Using ThreeSigmaClassifier for cluster 6\n",
      "2017-07-20 21:44:38,921 INFO Using ZeroDeviationClassifier for cluster 7\n",
      "2017-07-20 21:44:38,923 INFO Using ZeroDeviationClassifier for cluster 8\n",
      "2017-07-20 21:44:38,925 INFO Using ZeroDeviationClassifier for cluster 9\n",
      "2017-07-20 21:44:38,926 INFO Using ZeroDeviationClassifier for cluster 11\n",
      "2017-07-20 21:44:38,927 INFO Using ThreeSigmaClassifier for cluster 12\n",
      "2017-07-20 21:44:38,928 INFO done\n",
      "2017-07-20 21:44:38,931 INFO loading file ../../data_prod/prodOut.json\n",
      "2017-07-20 21:44:38,935 INFO loading file ./result.json\n",
      "2017-07-20 21:44:38,940 INFO Running using file source\n",
      "2017-07-20 21:44:38,942 INFO Start vectorization....\n",
      "2017-07-20 21:44:38,943 INFO setting min_df = 1 and max_df = 1.0\n"
     ]
    },
    {
     "name": "stdout",
     "output_type": "stream",
     "text": [
      "('test count = ', 13)\n",
      "(7, 7)\n",
      "(7, 7)\n",
      "([7, 7], [7, 7], ['ip-172-31-28-126'], ['ip-172-31-19-157'])\n",
      "['--sim_threshold', '0.8']\n",
      "('control count = ', 17)"
     ]
    },
    {
     "name": "stderr",
     "output_type": "stream",
     "text": [
      "2017-07-20 21:44:39,001 INFO Running kemans with k = 9\n",
      "2017-07-20 21:44:39,126 INFO Running kemans with k = 13\n",
      "2017-07-20 21:44:39,270 INFO found k = 13\n",
      "2017-07-20 21:44:39,271 INFO Running kemans with k = 11\n",
      "2017-07-20 21:44:39,419 INFO Running kemans with k = 12\n",
      "2017-07-20 21:44:39,774 INFO Detect Count Anomalies....\n",
      "2017-07-20 21:44:39,775 INFO Using ZeroDeviationClassifier for cluster 0\n",
      "2017-07-20 21:44:39,776 INFO Using ZeroDeviationClassifier for cluster 2\n",
      "2017-07-20 21:44:39,777 INFO Using ZeroDeviationClassifier for cluster 3\n",
      "2017-07-20 21:44:39,778 INFO Using ZeroDeviationClassifier for cluster 4\n",
      "2017-07-20 21:44:39,779 INFO Using ZeroDeviationClassifier for cluster 6\n",
      "2017-07-20 21:44:39,781 INFO Using ThreeSigmaClassifier for cluster 7\n",
      "2017-07-20 21:44:39,782 INFO Using ZeroDeviationClassifier for cluster 8\n",
      "2017-07-20 21:44:39,783 INFO Using ZeroDeviationClassifier for cluster 9\n",
      "2017-07-20 21:44:39,785 INFO Using ZeroDeviationClassifier for cluster 10\n",
      "2017-07-20 21:44:39,786 INFO Using ZeroDeviationClassifier for cluster 11\n",
      "2017-07-20 21:44:39,788 INFO Using ThreeSigmaClassifier for cluster 12\n",
      "2017-07-20 21:44:39,789 INFO done\n",
      "2017-07-20 21:44:39,792 INFO loading file ../../data_prod/prodOut.json\n"
     ]
    },
    {
     "name": "stdout",
     "output_type": "stream",
     "text": [
      "\n",
      "('test count = ', 15)\n",
      "(8, 8)\n",
      "(8, 8)\n"
     ]
    },
    {
     "name": "stderr",
     "output_type": "stream",
     "text": [
      "2017-07-20 21:44:39,796 INFO loading file ./result.json\n",
      "2017-07-20 21:44:39,800 INFO Running using file source\n",
      "2017-07-20 21:44:39,802 INFO Start vectorization....\n",
      "2017-07-20 21:44:39,804 INFO setting min_df = 1 and max_df = 1.0\n",
      "2017-07-20 21:44:39,861 INFO Running kemans with k = 9\n",
      "2017-07-20 21:44:39,967 INFO Running kemans with k = 14\n"
     ]
    },
    {
     "name": "stdout",
     "output_type": "stream",
     "text": [
      "([8, 8], [8, 8], ['ip-172-31-28-126'], ['ip-172-31-19-157'])\n",
      "['--sim_threshold', '0.8']\n",
      "('control count = ', 18)\n"
     ]
    },
    {
     "name": "stderr",
     "output_type": "stream",
     "text": [
      "2017-07-20 21:44:40,134 INFO Running kemans with k = 16\n",
      "2017-07-20 21:44:40,318 INFO found k = 16\n",
      "2017-07-20 21:44:40,319 INFO Running kemans with k = 15\n",
      "2017-07-20 21:44:40,711 INFO Detect Count Anomalies....\n",
      "2017-07-20 21:44:40,712 INFO Using ZeroDeviationClassifier for cluster 1\n",
      "2017-07-20 21:44:40,712 INFO Using ZeroDeviationClassifier for cluster 2\n",
      "2017-07-20 21:44:40,713 INFO Using ZeroDeviationClassifier for cluster 3\n",
      "2017-07-20 21:44:40,714 INFO Using ThreeSigmaClassifier for cluster 4\n",
      "2017-07-20 21:44:40,716 INFO Using ZeroDeviationClassifier for cluster 5\n",
      "2017-07-20 21:44:40,717 INFO Using ZeroDeviationClassifier for cluster 6\n",
      "2017-07-20 21:44:40,718 INFO Using ZeroDeviationClassifier for cluster 7\n",
      "2017-07-20 21:44:40,720 INFO Using ZeroDeviationClassifier for cluster 8\n",
      "2017-07-20 21:44:40,721 INFO Using ZeroDeviationClassifier for cluster 9\n",
      "2017-07-20 21:44:40,722 INFO Using ZeroDeviationClassifier for cluster 10\n",
      "2017-07-20 21:44:40,724 INFO Using ZeroDeviationClassifier for cluster 11\n",
      "2017-07-20 21:44:40,725 INFO Using ZeroDeviationClassifier for cluster 12\n",
      "2017-07-20 21:44:40,726 INFO Using ZeroDeviationClassifier for cluster 13\n",
      "2017-07-20 21:44:40,728 INFO Using ThreeSigmaClassifier for cluster 15\n",
      "2017-07-20 21:44:40,729 INFO done\n",
      "2017-07-20 21:44:40,731 INFO loading file ../../data_prod/prodOut.json\n",
      "2017-07-20 21:44:40,735 INFO loading file ./result.json\n"
     ]
    },
    {
     "name": "stdout",
     "output_type": "stream",
     "text": [
      "('test count = ', 16)\n",
      "(9, 9)\n",
      "(9, 9)\n",
      "([9, 9], [9, 9], ['ip-172-31-28-126'], ['ip-172-31-19-157'])\n",
      "['--sim_threshold', '0.8']\n"
     ]
    },
    {
     "name": "stderr",
     "output_type": "stream",
     "text": [
      "2017-07-20 21:44:40,742 INFO Running using file source\n",
      "2017-07-20 21:44:40,743 INFO Start vectorization....\n",
      "2017-07-20 21:44:40,744 INFO setting min_df = 1 and max_df = 1.0\n",
      "2017-07-20 21:44:40,817 INFO Running kemans with k = 10\n",
      "2017-07-20 21:44:40,959 INFO Running kemans with k = 15\n"
     ]
    },
    {
     "name": "stdout",
     "output_type": "stream",
     "text": [
      "('control count = ', 19)\n"
     ]
    },
    {
     "name": "stderr",
     "output_type": "stream",
     "text": [
      "2017-07-20 21:44:41,181 INFO Running kemans with k = 17\n",
      "2017-07-20 21:44:41,421 INFO found k = 17\n",
      "2017-07-20 21:44:41,421 INFO Running kemans with k = 16\n"
     ]
    },
    {
     "name": "stdout",
     "output_type": "stream",
     "text": [
      "('test count = ', 17)\n"
     ]
    },
    {
     "name": "stderr",
     "output_type": "stream",
     "text": [
      "2017-07-20 21:44:41,795 INFO Detect Count Anomalies....\n",
      "2017-07-20 21:44:41,797 INFO Using ZeroDeviationClassifier for cluster 0\n",
      "2017-07-20 21:44:41,798 INFO Using ZeroDeviationClassifier for cluster 1\n",
      "2017-07-20 21:44:41,800 INFO Using ThreeSigmaClassifier for cluster 2\n",
      "2017-07-20 21:44:41,801 INFO Using ThreeSigmaClassifier for cluster 3\n",
      "2017-07-20 21:44:41,802 INFO Using ZeroDeviationClassifier for cluster 4\n",
      "2017-07-20 21:44:41,803 INFO Using ZeroDeviationClassifier for cluster 5\n",
      "2017-07-20 21:44:41,805 INFO Using ZeroDeviationClassifier for cluster 6\n",
      "2017-07-20 21:44:41,806 INFO Using ZeroDeviationClassifier for cluster 7\n",
      "2017-07-20 21:44:41,807 INFO Using ZeroDeviationClassifier for cluster 8\n",
      "2017-07-20 21:44:41,808 INFO Using ZeroDeviationClassifier for cluster 9\n",
      "2017-07-20 21:44:41,809 INFO Using ZeroDeviationClassifier for cluster 10\n",
      "2017-07-20 21:44:41,810 INFO Using ZeroDeviationClassifier for cluster 11\n",
      "2017-07-20 21:44:41,811 INFO Using ZeroDeviationClassifier for cluster 13\n",
      "2017-07-20 21:44:41,811 INFO Using ZeroDeviationClassifier for cluster 14\n",
      "2017-07-20 21:44:41,812 INFO Using ZeroDeviationClassifier for cluster 15\n",
      "2017-07-20 21:44:41,813 INFO done\n",
      "2017-07-20 21:44:41,816 INFO loading file ../../data_prod/prodOut.json\n",
      "2017-07-20 21:44:41,819 INFO loading file ./result.json\n",
      "2017-07-20 21:44:41,826 INFO Running using file source\n",
      "2017-07-20 21:44:41,827 INFO Start vectorization....\n",
      "2017-07-20 21:44:41,828 INFO setting min_df = 1 and max_df = 1.0\n",
      "2017-07-20 21:44:41,939 INFO Running kemans with k = 11\n"
     ]
    },
    {
     "name": "stdout",
     "output_type": "stream",
     "text": [
      "(10, 10)\n",
      "(10, 10)\n",
      "([10, 10], [10, 10], ['ip-172-31-28-126'], ['ip-172-31-19-157'])\n",
      "['--sim_threshold', '0.8']\n",
      "('control count = ', 21)\n"
     ]
    },
    {
     "name": "stderr",
     "output_type": "stream",
     "text": [
      "2017-07-20 21:44:42,070 INFO Running kemans with k = 16\n",
      "2017-07-20 21:44:42,217 INFO Running kemans with k = 19\n",
      "2017-07-20 21:44:42,391 INFO Running kemans with k = 20\n",
      "2017-07-20 21:44:42,620 INFO found k = 20\n"
     ]
    },
    {
     "name": "stdout",
     "output_type": "stream",
     "text": [
      "('test count = ', 19)\n"
     ]
    },
    {
     "name": "stderr",
     "output_type": "stream",
     "text": [
      "2017-07-20 21:44:42,994 INFO Detect Count Anomalies....\n",
      "2017-07-20 21:44:42,996 INFO Using ZeroDeviationClassifier for cluster 0\n",
      "2017-07-20 21:44:42,998 INFO Using ThreeSigmaClassifier for cluster 1\n",
      "2017-07-20 21:44:43,000 INFO Using ZeroDeviationClassifier for cluster 2\n",
      "2017-07-20 21:44:43,002 INFO Using ThreeSigmaClassifier for cluster 3\n",
      "2017-07-20 21:44:43,004 INFO Using ZeroDeviationClassifier for cluster 4\n",
      "2017-07-20 21:44:43,006 INFO Using ZeroDeviationClassifier for cluster 5\n",
      "2017-07-20 21:44:43,008 INFO Using ZeroDeviationClassifier for cluster 6\n",
      "2017-07-20 21:44:43,010 INFO Using ZeroDeviationClassifier for cluster 7\n",
      "2017-07-20 21:44:43,012 INFO Using ZeroDeviationClassifier for cluster 8\n",
      "2017-07-20 21:44:43,013 INFO Using ZeroDeviationClassifier for cluster 9\n",
      "2017-07-20 21:44:43,016 INFO Using ZeroDeviationClassifier for cluster 10\n",
      "2017-07-20 21:44:43,018 INFO Using ZeroDeviationClassifier for cluster 11\n",
      "2017-07-20 21:44:43,021 INFO Using ZeroDeviationClassifier for cluster 13\n",
      "2017-07-20 21:44:43,023 INFO Using ZeroDeviationClassifier for cluster 14\n",
      "2017-07-20 21:44:43,025 INFO Using ZeroDeviationClassifier for cluster 15\n",
      "2017-07-20 21:44:43,027 INFO Using ZeroDeviationClassifier for cluster 16\n",
      "2017-07-20 21:44:43,029 INFO Using ZeroDeviationClassifier for cluster 17\n",
      "2017-07-20 21:44:43,032 INFO Using ZeroDeviationClassifier for cluster 18\n",
      "2017-07-20 21:44:43,033 INFO done\n",
      "2017-07-20 21:44:43,039 INFO loading file ../../data_prod/prodOut.json\n",
      "2017-07-20 21:44:43,043 INFO loading file ./result.json\n",
      "2017-07-20 21:44:43,051 INFO Running using file source\n",
      "2017-07-20 21:44:43,052 INFO Start vectorization....\n",
      "2017-07-20 21:44:43,053 INFO setting min_df = 1 and max_df = 1.0\n",
      "2017-07-20 21:44:43,186 INFO Running kemans with k = 12\n"
     ]
    },
    {
     "name": "stdout",
     "output_type": "stream",
     "text": [
      "(11, 11)\n",
      "(11, 11)\n",
      "([11, 11], [11, 11], ['ip-172-31-28-126'], ['ip-172-31-19-157'])\n",
      "['--sim_threshold', '0.8']\n",
      "('control count = ', 24)\n"
     ]
    },
    {
     "name": "stderr",
     "output_type": "stream",
     "text": [
      "2017-07-20 21:44:43,386 INFO Running kemans with k = 18\n",
      "2017-07-20 21:44:43,596 INFO Running kemans with k = 21\n",
      "2017-07-20 21:44:43,791 INFO Running kemans with k = 23\n",
      "2017-07-20 21:44:44,027 INFO found k = 23\n",
      "2017-07-20 21:44:44,028 INFO Running kemans with k = 22\n",
      "2017-07-20 21:44:44,308 INFO found k = 22\n"
     ]
    },
    {
     "name": "stdout",
     "output_type": "stream",
     "text": [
      "('test count = ', 22)\n"
     ]
    },
    {
     "name": "stderr",
     "output_type": "stream",
     "text": [
      "2017-07-20 21:44:44,761 INFO Detect Count Anomalies....\n",
      "2017-07-20 21:44:44,763 INFO Using ZeroDeviationClassifier for cluster 0\n",
      "2017-07-20 21:44:44,764 INFO Using ThreeSigmaClassifier for cluster 1\n",
      "2017-07-20 21:44:44,765 INFO Using ThreeSigmaClassifier for cluster 2\n",
      "2017-07-20 21:44:44,767 INFO Using ZeroDeviationClassifier for cluster 4\n",
      "2017-07-20 21:44:44,769 INFO Using ZeroDeviationClassifier for cluster 5\n",
      "2017-07-20 21:44:44,772 INFO Using ZeroDeviationClassifier for cluster 6\n",
      "2017-07-20 21:44:44,774 INFO Using ZeroDeviationClassifier for cluster 7\n",
      "2017-07-20 21:44:44,776 INFO Using ZeroDeviationClassifier for cluster 8\n",
      "2017-07-20 21:44:44,777 INFO Using ZeroDeviationClassifier for cluster 9\n",
      "2017-07-20 21:44:44,779 INFO Using ZeroDeviationClassifier for cluster 10\n",
      "2017-07-20 21:44:44,781 INFO Using ZeroDeviationClassifier for cluster 11\n",
      "2017-07-20 21:44:44,782 INFO Using ZeroDeviationClassifier for cluster 12\n",
      "2017-07-20 21:44:44,784 INFO Using ZeroDeviationClassifier for cluster 14\n",
      "2017-07-20 21:44:44,786 INFO Using ZeroDeviationClassifier for cluster 15\n",
      "2017-07-20 21:44:44,789 INFO Using ZeroDeviationClassifier for cluster 16\n",
      "2017-07-20 21:44:44,790 INFO Using ZeroDeviationClassifier for cluster 17\n",
      "2017-07-20 21:44:44,792 INFO Using ZeroDeviationClassifier for cluster 18\n",
      "2017-07-20 21:44:44,794 INFO Using ZeroDeviationClassifier for cluster 19\n",
      "2017-07-20 21:44:44,796 INFO Using ZeroDeviationClassifier for cluster 20\n",
      "2017-07-20 21:44:44,798 INFO Using ThreeSigmaClassifier for cluster 21\n",
      "2017-07-20 21:44:44,799 INFO done\n"
     ]
    },
    {
     "data": {
      "application/vnd.plotly.v1+json": {
       "data": [
        {
         "marker": {
          "color": "blue",
          "opacity": 0.3,
          "size": [
           10,
           10,
           10,
           10,
           10,
           10,
           10,
           10,
           10,
           10,
           10,
           10,
           10,
           10,
           10,
           10,
           10,
           10,
           10,
           10,
           10,
           10,
           10,
           10,
           10,
           10,
           10,
           10,
           10,
           10,
           10,
           10,
           10,
           10,
           10,
           10,
           10,
           10,
           10,
           10,
           10,
           10
          ]
         },
         "mode": "markers",
         "name": "control",
         "text": [
          "ip-172-31-28-126<br>0<br>2017-07-20 22:48:57,067 \u001b[32m[dw-4435 - POST /api/settings?&accountId=kmpyS<br> id = 0",
          "ip-172-31-28-126<br>1<br>2017-07-20 22:47:33,873 \u001b[32m[dw-4434 - POST /api/settings?&accountId=kmpyS<br> id = 1",
          "ip-172-31-28-126<br>2<br>2017-07-20 22:55:08,377 \u001b[32m[dw-4492 - POST /api/settings/upload?isPluginS<br> id = 2",
          "ip-172-31-28-126<br>3<br>2017-07-20 22:51:57,442 \u001b[32m[dw-4470 - POST /api/settings?&accountId=kmpyS<br> id = 3",
          "ip-172-31-28-126<br>4<br>2017-07-20 22:53:39,842 \u001b[32m[dw-4434 - POST /api/settings?&accountId=kmpyS<br> id = 4",
          "ip-172-31-28-126<br>5<br>2017-07-20 22:54:25,024 \u001b[32m[dw-4492 - POST /api/settings?&accountId=kmpyS<br> id = 5",
          "ip-172-31-28-126<br>6<br>2017-07-20 22:49:48,749 \u001b[32m[dw-3682 - POST /api/settings?&accountId=kmpyS<br> id = 6",
          "ip-172-31-28-126<br>7<br>2017-07-20 22:55:44,570 \u001b[32m[QuartzScheduler_QuartzSchedulerThread]\u001b[0;39m<br> id = 7",
          "ip-172-31-28-126<br>8<br>2017-07-20 22:47:20,737 \u001b[32m[dw-268 - PUT /api/users/IKORk_bFSS2TctkfxFcsi<br> id = 8",
          "ip-172-31-28-126<br>9<br>2017-07-20 22:56:49,666 \u001b[32m[dw-268 - POST /api/users]\u001b[0;39m \u001b[1;31mERROR<br> id = 9",
          "ip-172-31-28-126<br>10<br>2017-07-20 22:49:03,234 \u001b[32m[dw-4439 - POST /api/settings?&accountId=kmpy<br> id = 10",
          "ip-172-31-28-126<br>11<br>2017-07-20 22:52:47,060 \u001b[32m[dw-4433 - POST /api/settings?&accountId=kmpy<br> id = 11",
          "ip-172-31-28-126<br>12<br>2017-07-20 22:55:08,377 \u001b[32m[dw-4492 - POST /api/settings/upload?isPlugin<br> id = 12",
          "ip-172-31-28-126<br>13<br>2017-07-20 22:50:00,435 \u001b[32m[dw-4439 - POST /api/settings?&accountId=kmpy<br> id = 13",
          "ip-172-31-28-126<br>14<br>2017-07-20 22:53:45,697 \u001b[32m[dw-4470 - POST /api/settings?&accountId=kmpy<br> id = 14",
          "ip-172-31-28-126<br>15<br>2017-07-20 22:49:10,530 \u001b[32m[dw-3682 - POST /api/settings?&accountId=kmpy<br> id = 15",
          "ip-172-31-28-126<br>16<br>2017-07-20 22:54:31,031 \u001b[32m[dw-4433 - POST /api/settings?&accountId=kmpy<br> id = 16",
          "ip-172-31-28-126<br>17<br>2017-07-20 22:55:08,366 \u001b[32m[dw-4492 - POST /api/settings/upload?isPlugin<br> id = 17",
          "ip-172-31-28-126<br>18<br>2017-07-20 22:49:54,496 \u001b[32m[dw-4439 - POST /api/settings?&accountId=kmpy<br> id = 18",
          "ip-172-31-28-126<br>19<br>2017-07-20 22:52:41,276 \u001b[32m[dw-4457 - POST /api/settings?&accountId=kmpy<br> id = 19",
          "ip-172-31-28-126<br>20<br>2017-07-20 22:56:38,860 \u001b[32m[dw-4433 - GET /api/users/login]\u001b[0;39m \u001b[1;3<br> id = 20",
          "ip-172-31-28-126<br>21<br>2017-07-20 22:53:45,697 \u001b[32m[dw-4470 - POST /api/settings?&accountId=kmpy<br> id = 21"
         ],
         "type": "scatter",
         "x": [
          -0.14242265927346226,
          0.4272087049951446,
          -0.45802740176138407,
          -0.676538513213624,
          0.51893756312574,
          -0.19079420735733155,
          0.36087798635999685,
          -0.5929058902460507,
          -0.6139287211974247,
          0.12234525757062584,
          -0.0033091315558475636,
          0.41692388557534804,
          0.18094700155603677,
          0.6017468848331128,
          0.5906540477195543,
          0.031211617449744277,
          0.06007511320454698,
          -0.5403299754316039,
          0.4275390452429912,
          0.43004926510618174,
          -0.442007583079123,
          -0.6715352857901619
         ],
         "y": [
          -0.21802074928075374,
          0.18617227888629914,
          0.4656744746640311,
          -0.24939336402509252,
          -0.3530225460097689,
          -0.6424867959750161,
          0.5053308533331727,
          -0.4688435350954016,
          0.04553594408676896,
          0.6973841923692199,
          -0.42338462556899675,
          0.0602733603802874,
          0.38683420028079474,
          0.17263987968381125,
          0.038631290930442895,
          -0.24484885962502803,
          -0.6452503122294461,
          0.4003825212588055,
          -0.47086033740940225,
          -0.3729141716765757,
          0.5327781280354753,
          -0.2024500845499238
         ]
        },
        {
         "marker": {
          "color": "green",
          "opacity": 0.3,
          "size": [
           10,
           10,
           10,
           10,
           10,
           10,
           10,
           10,
           10,
           10,
           10,
           10,
           10,
           10,
           10,
           10,
           10,
           10,
           10,
           10,
           10,
           10,
           10,
           10,
           10,
           10,
           10,
           10,
           10,
           10,
           10,
           10,
           10,
           10,
           10,
           10,
           10,
           10,
           10,
           10,
           10,
           10
          ]
         },
         "mode": "markers",
         "name": "test",
         "text": [
          "ip-172-31-19-157<br>0<br>2017-07-20 22:48:55,019 \u001b[32m[dw-112 - POST /api/settings?&accountId=kmpySm<br> id = 22",
          "ip-172-31-19-157<br>1<br>2017-07-20 22:47:29,101 \u001b[32m[dw-141 - POST /api/settings?&accountId=kmpySm<br> id = 23",
          "ip-172-31-19-157<br>2<br>2017-07-20 22:55:10,163 \u001b[32m[dw-142 - POST /api/settings/upload?isPluginSe<br> id = 24",
          "ip-172-31-19-157<br>4<br>2017-07-20 22:53:39,768 \u001b[32m[dw-136 - POST /api/settings?&accountId=kmpySm<br> id = 25",
          "ip-172-31-19-157<br>5<br>2017-07-20 22:54:26,015 \u001b[32m[dw-141 - POST /api/settings?&accountId=kmpySm<br> id = 26",
          "ip-172-31-19-157<br>6<br>2017-07-20 22:49:47,150 \u001b[32m[dw-152 - POST /api/settings?&accountId=kmpySm<br> id = 27",
          "ip-172-31-19-157<br>7<br>2017-07-20 22:55:48,807 \u001b[32m[QuartzScheduler_QuartzSchedulerThread]\u001b[0;39m<br> id = 28",
          "ip-172-31-19-157<br>8<br>2017-07-20 22:47:13,945 \u001b[32m[dw-112 - PUT /api/users/54mL0pKoRpaIPXR7xT8SC<br> id = 29",
          "ip-172-31-19-157<br>9<br>2017-07-20 22:56:55,843 \u001b[32m[dw-181 - POST /api/users]\u001b[0;39m \u001b[1;31mERROR<br> id = 30",
          "ip-172-31-19-157<br>10<br>2017-07-20 22:49:01,139 \u001b[32m[dw-143 - POST /api/settings?&accountId=kmpyS<br> id = 31",
          "ip-172-31-19-157<br>11<br>2017-07-20 22:52:46,457 \u001b[32m[dw-136 - POST /api/settings?&accountId=kmpyS<br> id = 32",
          "ip-172-31-19-157<br>12<br>2017-07-20 22:55:10,163 \u001b[32m[dw-142 - POST /api/settings/upload?isPluginS<br> id = 33",
          "ip-172-31-19-157<br>14<br>2017-07-20 22:53:45,569 \u001b[32m[dw-136 - POST /api/settings?&accountId=kmpyS<br> id = 34",
          "ip-172-31-19-157<br>15<br>2017-07-20 22:49:08,714 \u001b[32m[dw-112 - POST /api/settings?&accountId=kmpyS<br> id = 35",
          "ip-172-31-19-157<br>16<br>2017-07-20 22:54:31,940 \u001b[32m[dw-141 - POST /api/settings?&accountId=kmpyS<br> id = 36",
          "ip-172-31-19-157<br>17<br>2017-07-20 22:55:10,156 \u001b[32m[dw-142 - POST /api/settings/upload?isPluginS<br> id = 37",
          "ip-172-31-19-157<br>18<br>2017-07-20 22:49:52,979 \u001b[32m[dw-136 - POST /api/settings?&accountId=kmpyS<br> id = 38",
          "ip-172-31-19-157<br>19<br>2017-07-20 22:52:40,554 \u001b[32m[dw-141 - POST /api/settings?&accountId=kmpyS<br> id = 39",
          "ip-172-31-19-157<br>20<br>2017-07-20 22:56:44,802 \u001b[32m[dw-214 - GET /api/users/login]\u001b[0;39m \u001b[1;31<br> id = 40",
          "ip-172-31-19-157<br>21<br>2017-07-20 22:53:45,569 \u001b[32m[dw-136 - POST /api/settings?&accountId=kmpyS<br> id = 41"
         ],
         "type": "scatter",
         "x": [
          -0.14243943991944688,
          0.42720870499514485,
          -0.4580273981200911,
          0.5189375631245725,
          -0.19079121934046853,
          0.3608779879541986,
          -0.5929054016052137,
          -0.6139286961187364,
          0.12234525712068908,
          -0.0033091283616471594,
          0.41692388320205553,
          0.18096421149005282,
          0.5906540477255636,
          0.03121161745543171,
          0.06201935650876072,
          -0.3456167864679659,
          0.42753904523149955,
          0.4300492651062402,
          -0.4420075189771492,
          -0.6715352834481686
         ],
         "y": [
          -0.21808747493844435,
          0.18617227888629906,
          0.46567447553038105,
          -0.3530225460143684,
          -0.6424891881980184,
          0.50533085323357,
          -0.46884423328471,
          0.045535937245400684,
          0.6973841922825676,
          -0.42338462665548793,
          0.060273359950907726,
          0.38685231138878484,
          0.038631290951607784,
          -0.2448488595559829,
          -0.6453287711782228,
          0.5676084902270635,
          -0.47086033741307903,
          -0.3729141716763884,
          0.5327781388672356,
          -0.20245008641060108
         ]
        }
       ],
       "layout": {
        "hovermode": "closest"
       }
      },
      "text/html": [
       "<div id=\"6528e478-634d-4352-bcb2-015c882e3d90\" style=\"height: 525px; width: 100%;\" class=\"plotly-graph-div\"></div><script type=\"text/javascript\">require([\"plotly\"], function(Plotly) { window.PLOTLYENV=window.PLOTLYENV || {};window.PLOTLYENV.BASE_URL=\"https://plot.ly\";Plotly.newPlot(\"6528e478-634d-4352-bcb2-015c882e3d90\", [{\"name\": \"control\", \"text\": [\"ip-172-31-28-126<br>0<br>2017-07-20 22:48:57,067 \\u001b[32m[dw-4435 - POST /api/settings?&accountId=kmpyS<br> id = 0\", \"ip-172-31-28-126<br>1<br>2017-07-20 22:47:33,873 \\u001b[32m[dw-4434 - POST /api/settings?&accountId=kmpyS<br> id = 1\", \"ip-172-31-28-126<br>2<br>2017-07-20 22:55:08,377 \\u001b[32m[dw-4492 - POST /api/settings/upload?isPluginS<br> id = 2\", \"ip-172-31-28-126<br>3<br>2017-07-20 22:51:57,442 \\u001b[32m[dw-4470 - POST /api/settings?&accountId=kmpyS<br> id = 3\", \"ip-172-31-28-126<br>4<br>2017-07-20 22:53:39,842 \\u001b[32m[dw-4434 - POST /api/settings?&accountId=kmpyS<br> id = 4\", \"ip-172-31-28-126<br>5<br>2017-07-20 22:54:25,024 \\u001b[32m[dw-4492 - POST /api/settings?&accountId=kmpyS<br> id = 5\", \"ip-172-31-28-126<br>6<br>2017-07-20 22:49:48,749 \\u001b[32m[dw-3682 - POST /api/settings?&accountId=kmpyS<br> id = 6\", \"ip-172-31-28-126<br>7<br>2017-07-20 22:55:44,570 \\u001b[32m[QuartzScheduler_QuartzSchedulerThread]\\u001b[0;39m<br> id = 7\", \"ip-172-31-28-126<br>8<br>2017-07-20 22:47:20,737 \\u001b[32m[dw-268 - PUT /api/users/IKORk_bFSS2TctkfxFcsi<br> id = 8\", \"ip-172-31-28-126<br>9<br>2017-07-20 22:56:49,666 \\u001b[32m[dw-268 - POST /api/users]\\u001b[0;39m \\u001b[1;31mERROR<br> id = 9\", \"ip-172-31-28-126<br>10<br>2017-07-20 22:49:03,234 \\u001b[32m[dw-4439 - POST /api/settings?&accountId=kmpy<br> id = 10\", \"ip-172-31-28-126<br>11<br>2017-07-20 22:52:47,060 \\u001b[32m[dw-4433 - POST /api/settings?&accountId=kmpy<br> id = 11\", \"ip-172-31-28-126<br>12<br>2017-07-20 22:55:08,377 \\u001b[32m[dw-4492 - POST /api/settings/upload?isPlugin<br> id = 12\", \"ip-172-31-28-126<br>13<br>2017-07-20 22:50:00,435 \\u001b[32m[dw-4439 - POST /api/settings?&accountId=kmpy<br> id = 13\", \"ip-172-31-28-126<br>14<br>2017-07-20 22:53:45,697 \\u001b[32m[dw-4470 - POST /api/settings?&accountId=kmpy<br> id = 14\", \"ip-172-31-28-126<br>15<br>2017-07-20 22:49:10,530 \\u001b[32m[dw-3682 - POST /api/settings?&accountId=kmpy<br> id = 15\", \"ip-172-31-28-126<br>16<br>2017-07-20 22:54:31,031 \\u001b[32m[dw-4433 - POST /api/settings?&accountId=kmpy<br> id = 16\", \"ip-172-31-28-126<br>17<br>2017-07-20 22:55:08,366 \\u001b[32m[dw-4492 - POST /api/settings/upload?isPlugin<br> id = 17\", \"ip-172-31-28-126<br>18<br>2017-07-20 22:49:54,496 \\u001b[32m[dw-4439 - POST /api/settings?&accountId=kmpy<br> id = 18\", \"ip-172-31-28-126<br>19<br>2017-07-20 22:52:41,276 \\u001b[32m[dw-4457 - POST /api/settings?&accountId=kmpy<br> id = 19\", \"ip-172-31-28-126<br>20<br>2017-07-20 22:56:38,860 \\u001b[32m[dw-4433 - GET /api/users/login]\\u001b[0;39m \\u001b[1;3<br> id = 20\", \"ip-172-31-28-126<br>21<br>2017-07-20 22:53:45,697 \\u001b[32m[dw-4470 - POST /api/settings?&accountId=kmpy<br> id = 21\"], \"marker\": {\"opacity\": 0.3, \"color\": \"blue\", \"size\": [10, 10, 10, 10, 10, 10, 10, 10, 10, 10, 10, 10, 10, 10, 10, 10, 10, 10, 10, 10, 10, 10, 10, 10, 10, 10, 10, 10, 10, 10, 10, 10, 10, 10, 10, 10, 10, 10, 10, 10, 10, 10]}, \"mode\": \"markers\", \"y\": [-0.21802074928075374, 0.18617227888629914, 0.4656744746640311, -0.24939336402509252, -0.3530225460097689, -0.6424867959750161, 0.5053308533331727, -0.4688435350954016, 0.04553594408676896, 0.6973841923692199, -0.42338462556899675, 0.0602733603802874, 0.38683420028079474, 0.17263987968381125, 0.038631290930442895, -0.24484885962502803, -0.6452503122294461, 0.4003825212588055, -0.47086033740940225, -0.3729141716765757, 0.5327781280354753, -0.2024500845499238], \"x\": [-0.14242265927346226, 0.4272087049951446, -0.45802740176138407, -0.676538513213624, 0.51893756312574, -0.19079420735733155, 0.36087798635999685, -0.5929058902460507, -0.6139287211974247, 0.12234525757062584, -0.0033091315558475636, 0.41692388557534804, 0.18094700155603677, 0.6017468848331128, 0.5906540477195543, 0.031211617449744277, 0.06007511320454698, -0.5403299754316039, 0.4275390452429912, 0.43004926510618174, -0.442007583079123, -0.6715352857901619], \"type\": \"scatter\"}, {\"name\": \"test\", \"text\": [\"ip-172-31-19-157<br>0<br>2017-07-20 22:48:55,019 \\u001b[32m[dw-112 - POST /api/settings?&accountId=kmpySm<br> id = 22\", \"ip-172-31-19-157<br>1<br>2017-07-20 22:47:29,101 \\u001b[32m[dw-141 - POST /api/settings?&accountId=kmpySm<br> id = 23\", \"ip-172-31-19-157<br>2<br>2017-07-20 22:55:10,163 \\u001b[32m[dw-142 - POST /api/settings/upload?isPluginSe<br> id = 24\", \"ip-172-31-19-157<br>4<br>2017-07-20 22:53:39,768 \\u001b[32m[dw-136 - POST /api/settings?&accountId=kmpySm<br> id = 25\", \"ip-172-31-19-157<br>5<br>2017-07-20 22:54:26,015 \\u001b[32m[dw-141 - POST /api/settings?&accountId=kmpySm<br> id = 26\", \"ip-172-31-19-157<br>6<br>2017-07-20 22:49:47,150 \\u001b[32m[dw-152 - POST /api/settings?&accountId=kmpySm<br> id = 27\", \"ip-172-31-19-157<br>7<br>2017-07-20 22:55:48,807 \\u001b[32m[QuartzScheduler_QuartzSchedulerThread]\\u001b[0;39m<br> id = 28\", \"ip-172-31-19-157<br>8<br>2017-07-20 22:47:13,945 \\u001b[32m[dw-112 - PUT /api/users/54mL0pKoRpaIPXR7xT8SC<br> id = 29\", \"ip-172-31-19-157<br>9<br>2017-07-20 22:56:55,843 \\u001b[32m[dw-181 - POST /api/users]\\u001b[0;39m \\u001b[1;31mERROR<br> id = 30\", \"ip-172-31-19-157<br>10<br>2017-07-20 22:49:01,139 \\u001b[32m[dw-143 - POST /api/settings?&accountId=kmpyS<br> id = 31\", \"ip-172-31-19-157<br>11<br>2017-07-20 22:52:46,457 \\u001b[32m[dw-136 - POST /api/settings?&accountId=kmpyS<br> id = 32\", \"ip-172-31-19-157<br>12<br>2017-07-20 22:55:10,163 \\u001b[32m[dw-142 - POST /api/settings/upload?isPluginS<br> id = 33\", \"ip-172-31-19-157<br>14<br>2017-07-20 22:53:45,569 \\u001b[32m[dw-136 - POST /api/settings?&accountId=kmpyS<br> id = 34\", \"ip-172-31-19-157<br>15<br>2017-07-20 22:49:08,714 \\u001b[32m[dw-112 - POST /api/settings?&accountId=kmpyS<br> id = 35\", \"ip-172-31-19-157<br>16<br>2017-07-20 22:54:31,940 \\u001b[32m[dw-141 - POST /api/settings?&accountId=kmpyS<br> id = 36\", \"ip-172-31-19-157<br>17<br>2017-07-20 22:55:10,156 \\u001b[32m[dw-142 - POST /api/settings/upload?isPluginS<br> id = 37\", \"ip-172-31-19-157<br>18<br>2017-07-20 22:49:52,979 \\u001b[32m[dw-136 - POST /api/settings?&accountId=kmpyS<br> id = 38\", \"ip-172-31-19-157<br>19<br>2017-07-20 22:52:40,554 \\u001b[32m[dw-141 - POST /api/settings?&accountId=kmpyS<br> id = 39\", \"ip-172-31-19-157<br>20<br>2017-07-20 22:56:44,802 \\u001b[32m[dw-214 - GET /api/users/login]\\u001b[0;39m \\u001b[1;31<br> id = 40\", \"ip-172-31-19-157<br>21<br>2017-07-20 22:53:45,569 \\u001b[32m[dw-136 - POST /api/settings?&accountId=kmpyS<br> id = 41\"], \"marker\": {\"opacity\": 0.3, \"color\": \"green\", \"size\": [10, 10, 10, 10, 10, 10, 10, 10, 10, 10, 10, 10, 10, 10, 10, 10, 10, 10, 10, 10, 10, 10, 10, 10, 10, 10, 10, 10, 10, 10, 10, 10, 10, 10, 10, 10, 10, 10, 10, 10, 10, 10]}, \"mode\": \"markers\", \"y\": [-0.21808747493844435, 0.18617227888629906, 0.46567447553038105, -0.3530225460143684, -0.6424891881980184, 0.50533085323357, -0.46884423328471, 0.045535937245400684, 0.6973841922825676, -0.42338462665548793, 0.060273359950907726, 0.38685231138878484, 0.038631290951607784, -0.2448488595559829, -0.6453287711782228, 0.5676084902270635, -0.47086033741307903, -0.3729141716763884, 0.5327781388672356, -0.20245008641060108], \"x\": [-0.14243943991944688, 0.42720870499514485, -0.4580273981200911, 0.5189375631245725, -0.19079121934046853, 0.3608779879541986, -0.5929054016052137, -0.6139286961187364, 0.12234525712068908, -0.0033091283616471594, 0.41692388320205553, 0.18096421149005282, 0.5906540477255636, 0.03121161745543171, 0.06201935650876072, -0.3456167864679659, 0.42753904523149955, 0.4300492651062402, -0.4420075189771492, -0.6715352834481686], \"type\": \"scatter\"}], {\"hovermode\": \"closest\"}, {\"linkText\": \"Export to plot.ly\", \"showLink\": false})});</script>"
      ],
      "text/vnd.plotly.v1+html": [
       "<div id=\"6528e478-634d-4352-bcb2-015c882e3d90\" style=\"height: 525px; width: 100%;\" class=\"plotly-graph-div\"></div><script type=\"text/javascript\">require([\"plotly\"], function(Plotly) { window.PLOTLYENV=window.PLOTLYENV || {};window.PLOTLYENV.BASE_URL=\"https://plot.ly\";Plotly.newPlot(\"6528e478-634d-4352-bcb2-015c882e3d90\", [{\"name\": \"control\", \"text\": [\"ip-172-31-28-126<br>0<br>2017-07-20 22:48:57,067 \\u001b[32m[dw-4435 - POST /api/settings?&accountId=kmpyS<br> id = 0\", \"ip-172-31-28-126<br>1<br>2017-07-20 22:47:33,873 \\u001b[32m[dw-4434 - POST /api/settings?&accountId=kmpyS<br> id = 1\", \"ip-172-31-28-126<br>2<br>2017-07-20 22:55:08,377 \\u001b[32m[dw-4492 - POST /api/settings/upload?isPluginS<br> id = 2\", \"ip-172-31-28-126<br>3<br>2017-07-20 22:51:57,442 \\u001b[32m[dw-4470 - POST /api/settings?&accountId=kmpyS<br> id = 3\", \"ip-172-31-28-126<br>4<br>2017-07-20 22:53:39,842 \\u001b[32m[dw-4434 - POST /api/settings?&accountId=kmpyS<br> id = 4\", \"ip-172-31-28-126<br>5<br>2017-07-20 22:54:25,024 \\u001b[32m[dw-4492 - POST /api/settings?&accountId=kmpyS<br> id = 5\", \"ip-172-31-28-126<br>6<br>2017-07-20 22:49:48,749 \\u001b[32m[dw-3682 - POST /api/settings?&accountId=kmpyS<br> id = 6\", \"ip-172-31-28-126<br>7<br>2017-07-20 22:55:44,570 \\u001b[32m[QuartzScheduler_QuartzSchedulerThread]\\u001b[0;39m<br> id = 7\", \"ip-172-31-28-126<br>8<br>2017-07-20 22:47:20,737 \\u001b[32m[dw-268 - PUT /api/users/IKORk_bFSS2TctkfxFcsi<br> id = 8\", \"ip-172-31-28-126<br>9<br>2017-07-20 22:56:49,666 \\u001b[32m[dw-268 - POST /api/users]\\u001b[0;39m \\u001b[1;31mERROR<br> id = 9\", \"ip-172-31-28-126<br>10<br>2017-07-20 22:49:03,234 \\u001b[32m[dw-4439 - POST /api/settings?&accountId=kmpy<br> id = 10\", \"ip-172-31-28-126<br>11<br>2017-07-20 22:52:47,060 \\u001b[32m[dw-4433 - POST /api/settings?&accountId=kmpy<br> id = 11\", \"ip-172-31-28-126<br>12<br>2017-07-20 22:55:08,377 \\u001b[32m[dw-4492 - POST /api/settings/upload?isPlugin<br> id = 12\", \"ip-172-31-28-126<br>13<br>2017-07-20 22:50:00,435 \\u001b[32m[dw-4439 - POST /api/settings?&accountId=kmpy<br> id = 13\", \"ip-172-31-28-126<br>14<br>2017-07-20 22:53:45,697 \\u001b[32m[dw-4470 - POST /api/settings?&accountId=kmpy<br> id = 14\", \"ip-172-31-28-126<br>15<br>2017-07-20 22:49:10,530 \\u001b[32m[dw-3682 - POST /api/settings?&accountId=kmpy<br> id = 15\", \"ip-172-31-28-126<br>16<br>2017-07-20 22:54:31,031 \\u001b[32m[dw-4433 - POST /api/settings?&accountId=kmpy<br> id = 16\", \"ip-172-31-28-126<br>17<br>2017-07-20 22:55:08,366 \\u001b[32m[dw-4492 - POST /api/settings/upload?isPlugin<br> id = 17\", \"ip-172-31-28-126<br>18<br>2017-07-20 22:49:54,496 \\u001b[32m[dw-4439 - POST /api/settings?&accountId=kmpy<br> id = 18\", \"ip-172-31-28-126<br>19<br>2017-07-20 22:52:41,276 \\u001b[32m[dw-4457 - POST /api/settings?&accountId=kmpy<br> id = 19\", \"ip-172-31-28-126<br>20<br>2017-07-20 22:56:38,860 \\u001b[32m[dw-4433 - GET /api/users/login]\\u001b[0;39m \\u001b[1;3<br> id = 20\", \"ip-172-31-28-126<br>21<br>2017-07-20 22:53:45,697 \\u001b[32m[dw-4470 - POST /api/settings?&accountId=kmpy<br> id = 21\"], \"marker\": {\"opacity\": 0.3, \"color\": \"blue\", \"size\": [10, 10, 10, 10, 10, 10, 10, 10, 10, 10, 10, 10, 10, 10, 10, 10, 10, 10, 10, 10, 10, 10, 10, 10, 10, 10, 10, 10, 10, 10, 10, 10, 10, 10, 10, 10, 10, 10, 10, 10, 10, 10]}, \"mode\": \"markers\", \"y\": [-0.21802074928075374, 0.18617227888629914, 0.4656744746640311, -0.24939336402509252, -0.3530225460097689, -0.6424867959750161, 0.5053308533331727, -0.4688435350954016, 0.04553594408676896, 0.6973841923692199, -0.42338462556899675, 0.0602733603802874, 0.38683420028079474, 0.17263987968381125, 0.038631290930442895, -0.24484885962502803, -0.6452503122294461, 0.4003825212588055, -0.47086033740940225, -0.3729141716765757, 0.5327781280354753, -0.2024500845499238], \"x\": [-0.14242265927346226, 0.4272087049951446, -0.45802740176138407, -0.676538513213624, 0.51893756312574, -0.19079420735733155, 0.36087798635999685, -0.5929058902460507, -0.6139287211974247, 0.12234525757062584, -0.0033091315558475636, 0.41692388557534804, 0.18094700155603677, 0.6017468848331128, 0.5906540477195543, 0.031211617449744277, 0.06007511320454698, -0.5403299754316039, 0.4275390452429912, 0.43004926510618174, -0.442007583079123, -0.6715352857901619], \"type\": \"scatter\"}, {\"name\": \"test\", \"text\": [\"ip-172-31-19-157<br>0<br>2017-07-20 22:48:55,019 \\u001b[32m[dw-112 - POST /api/settings?&accountId=kmpySm<br> id = 22\", \"ip-172-31-19-157<br>1<br>2017-07-20 22:47:29,101 \\u001b[32m[dw-141 - POST /api/settings?&accountId=kmpySm<br> id = 23\", \"ip-172-31-19-157<br>2<br>2017-07-20 22:55:10,163 \\u001b[32m[dw-142 - POST /api/settings/upload?isPluginSe<br> id = 24\", \"ip-172-31-19-157<br>4<br>2017-07-20 22:53:39,768 \\u001b[32m[dw-136 - POST /api/settings?&accountId=kmpySm<br> id = 25\", \"ip-172-31-19-157<br>5<br>2017-07-20 22:54:26,015 \\u001b[32m[dw-141 - POST /api/settings?&accountId=kmpySm<br> id = 26\", \"ip-172-31-19-157<br>6<br>2017-07-20 22:49:47,150 \\u001b[32m[dw-152 - POST /api/settings?&accountId=kmpySm<br> id = 27\", \"ip-172-31-19-157<br>7<br>2017-07-20 22:55:48,807 \\u001b[32m[QuartzScheduler_QuartzSchedulerThread]\\u001b[0;39m<br> id = 28\", \"ip-172-31-19-157<br>8<br>2017-07-20 22:47:13,945 \\u001b[32m[dw-112 - PUT /api/users/54mL0pKoRpaIPXR7xT8SC<br> id = 29\", \"ip-172-31-19-157<br>9<br>2017-07-20 22:56:55,843 \\u001b[32m[dw-181 - POST /api/users]\\u001b[0;39m \\u001b[1;31mERROR<br> id = 30\", \"ip-172-31-19-157<br>10<br>2017-07-20 22:49:01,139 \\u001b[32m[dw-143 - POST /api/settings?&accountId=kmpyS<br> id = 31\", \"ip-172-31-19-157<br>11<br>2017-07-20 22:52:46,457 \\u001b[32m[dw-136 - POST /api/settings?&accountId=kmpyS<br> id = 32\", \"ip-172-31-19-157<br>12<br>2017-07-20 22:55:10,163 \\u001b[32m[dw-142 - POST /api/settings/upload?isPluginS<br> id = 33\", \"ip-172-31-19-157<br>14<br>2017-07-20 22:53:45,569 \\u001b[32m[dw-136 - POST /api/settings?&accountId=kmpyS<br> id = 34\", \"ip-172-31-19-157<br>15<br>2017-07-20 22:49:08,714 \\u001b[32m[dw-112 - POST /api/settings?&accountId=kmpyS<br> id = 35\", \"ip-172-31-19-157<br>16<br>2017-07-20 22:54:31,940 \\u001b[32m[dw-141 - POST /api/settings?&accountId=kmpyS<br> id = 36\", \"ip-172-31-19-157<br>17<br>2017-07-20 22:55:10,156 \\u001b[32m[dw-142 - POST /api/settings/upload?isPluginS<br> id = 37\", \"ip-172-31-19-157<br>18<br>2017-07-20 22:49:52,979 \\u001b[32m[dw-136 - POST /api/settings?&accountId=kmpyS<br> id = 38\", \"ip-172-31-19-157<br>19<br>2017-07-20 22:52:40,554 \\u001b[32m[dw-141 - POST /api/settings?&accountId=kmpyS<br> id = 39\", \"ip-172-31-19-157<br>20<br>2017-07-20 22:56:44,802 \\u001b[32m[dw-214 - GET /api/users/login]\\u001b[0;39m \\u001b[1;31<br> id = 40\", \"ip-172-31-19-157<br>21<br>2017-07-20 22:53:45,569 \\u001b[32m[dw-136 - POST /api/settings?&accountId=kmpyS<br> id = 41\"], \"marker\": {\"opacity\": 0.3, \"color\": \"green\", \"size\": [10, 10, 10, 10, 10, 10, 10, 10, 10, 10, 10, 10, 10, 10, 10, 10, 10, 10, 10, 10, 10, 10, 10, 10, 10, 10, 10, 10, 10, 10, 10, 10, 10, 10, 10, 10, 10, 10, 10, 10, 10, 10]}, \"mode\": \"markers\", \"y\": [-0.21808747493844435, 0.18617227888629906, 0.46567447553038105, -0.3530225460143684, -0.6424891881980184, 0.50533085323357, -0.46884423328471, 0.045535937245400684, 0.6973841922825676, -0.42338462665548793, 0.060273359950907726, 0.38685231138878484, 0.038631290951607784, -0.2448488595559829, -0.6453287711782228, 0.5676084902270635, -0.47086033741307903, -0.3729141716763884, 0.5327781388672356, -0.20245008641060108], \"x\": [-0.14243943991944688, 0.42720870499514485, -0.4580273981200911, 0.5189375631245725, -0.19079121934046853, 0.3608779879541986, -0.5929054016052137, -0.6139286961187364, 0.12234525712068908, -0.0033091283616471594, 0.41692388320205553, 0.18096421149005282, 0.5906540477255636, 0.03121161745543171, 0.06201935650876072, -0.3456167864679659, 0.42753904523149955, 0.4300492651062402, -0.4420075189771492, -0.6715352834481686], \"type\": \"scatter\"}], {\"hovermode\": \"closest\"}, {\"linkText\": \"Export to plot.ly\", \"showLink\": false})});</script>"
      ]
     },
     "metadata": {},
     "output_type": "display_data"
    },
    {
     "data": {
      "application/vnd.plotly.v1+json": {
       "data": [
        {
         "legendgroup": "cluster - 0",
         "marker": {
          "color": "blue",
          "opacity": 0.5,
          "size": 6
         },
         "mode": "markers",
         "name": "cluster - 0",
         "text": [
          "ip-172-31-28-126<br>2017-07-20 22:48:57,067 \u001b[32m[<br>dw-4435 - POST /api/settings?&<br>accountId=km<br> id = 0"
         ],
         "type": "scatter3d",
         "x": [
          -0.14242265927346226
         ],
         "y": [
          -0.21802074928075374
         ],
         "z": [
          1
         ]
        },
        {
         "legendgroup": "cluster - 0",
         "marker": {
          "color": "orange",
          "opacity": 0.5,
          "size": 7
         },
         "mode": "markers",
         "name": "cluster - 0",
         "text": [
          "ip-172-31-19-157<br>2017-07-20 22:48:55,019 \u001b[32m[<br>dw-112 - POST /api/settings?&a<br>ccountId=kmp<br> id = 22"
         ],
         "type": "scatter3d",
         "x": [
          -0.14243943991944688
         ],
         "y": [
          -0.21808747493844435
         ],
         "z": [
          1
         ]
        },
        {
         "legendgroup": "cluster - 1",
         "marker": {
          "color": "blue",
          "opacity": 0.5,
          "size": 6
         },
         "mode": "markers",
         "name": "cluster - 1",
         "text": [
          "ip-172-31-28-126<br>2017-07-20 22:47:33,873 \u001b[32m[<br>dw-4434 - POST /api/settings?&<br>accountId=km<br> id = 1",
          "ip-172-31-28-126<br>2017-07-20 22:47:33,873 \u001b[32m[<br>dw-4434 - POST /api/settings?&<br>accountId=km<br> id = 1"
         ],
         "type": "scatter3d",
         "x": [
          0.4272087049951446,
          0.4272087049951446
         ],
         "y": [
          0.18617227888629914,
          0.18617227888629914
         ],
         "z": [
          1,
          2
         ]
        },
        {
         "legendgroup": "cluster - 1",
         "marker": {
          "color": "orange",
          "opacity": 0.5,
          "size": 7
         },
         "mode": "markers",
         "name": "cluster - 1",
         "text": [
          "ip-172-31-19-157<br>2017-07-20 22:47:29,101 \u001b[32m[<br>dw-141 - POST /api/settings?&a<br>ccountId=kmp<br> id = 23",
          "ip-172-31-19-157<br>2017-07-20 22:47:29,101 \u001b[32m[<br>dw-141 - POST /api/settings?&a<br>ccountId=kmp<br> id = 23"
         ],
         "type": "scatter3d",
         "x": [
          0.42720870499514485,
          0.42720870499514485
         ],
         "y": [
          0.18617227888629906,
          0.18617227888629906
         ],
         "z": [
          1,
          2
         ]
        },
        {
         "legendgroup": "cluster - 2",
         "marker": {
          "color": "blue",
          "opacity": 0.5,
          "size": 6
         },
         "mode": "markers",
         "name": "cluster - 2",
         "text": [
          "ip-172-31-28-126<br>2017-07-20 22:55:08,377 \u001b[32m[<br>dw-4492 - POST /api/settings/u<br>pload?isPlug<br> id = 2",
          "ip-172-31-28-126<br>2017-07-20 22:55:08,377 \u001b[32m[<br>dw-4492 - POST /api/settings/u<br>pload?isPlug<br> id = 2",
          "ip-172-31-28-126<br>2017-07-20 22:55:08,377 \u001b[32m[<br>dw-4492 - POST /api/settings/u<br>pload?isPlug<br> id = 2",
          "ip-172-31-28-126<br>2017-07-20 22:55:08,377 \u001b[32m[<br>dw-4492 - POST /api/settings/u<br>pload?isPlug<br> id = 2",
          "ip-172-31-28-126<br>2017-07-20 22:55:08,377 \u001b[32m[<br>dw-4492 - POST /api/settings/u<br>pload?isPlug<br> id = 2",
          "ip-172-31-28-126<br>2017-07-20 22:55:08,377 \u001b[32m[<br>dw-4492 - POST /api/settings/u<br>pload?isPlug<br> id = 2",
          "ip-172-31-28-126<br>2017-07-20 22:55:08,377 \u001b[32m[<br>dw-4492 - POST /api/settings/u<br>pload?isPlug<br> id = 2"
         ],
         "type": "scatter3d",
         "x": [
          -0.45802740176138407,
          -0.45802740176138407,
          -0.45802740176138407,
          -0.45802740176138407,
          -0.45802740176138407,
          -0.45802740176138407,
          -0.45802740176138407
         ],
         "y": [
          0.4656744746640311,
          0.4656744746640311,
          0.4656744746640311,
          0.4656744746640311,
          0.4656744746640311,
          0.4656744746640311,
          0.4656744746640311
         ],
         "z": [
          1,
          2,
          1,
          1,
          1,
          2,
          1
         ]
        },
        {
         "legendgroup": "cluster - 2",
         "marker": {
          "color": "orange",
          "opacity": 0.5,
          "size": 7
         },
         "mode": "markers",
         "name": "cluster - 2",
         "text": [
          "ip-172-31-19-157<br>2017-07-20 22:55:10,163 \u001b[32m[<br>dw-142 - POST /api/settings/up<br>load?isPlugi<br> id = 24",
          "ip-172-31-19-157<br>2017-07-20 22:55:10,163 \u001b[32m[<br>dw-142 - POST /api/settings/up<br>load?isPlugi<br> id = 24",
          "ip-172-31-19-157<br>2017-07-20 22:55:10,163 \u001b[32m[<br>dw-142 - POST /api/settings/up<br>load?isPlugi<br> id = 24",
          "ip-172-31-19-157<br>2017-07-20 22:55:10,163 \u001b[32m[<br>dw-142 - POST /api/settings/up<br>load?isPlugi<br> id = 24",
          "ip-172-31-19-157<br>2017-07-20 22:55:10,163 \u001b[32m[<br>dw-142 - POST /api/settings/up<br>load?isPlugi<br> id = 24",
          "ip-172-31-19-157<br>2017-07-20 22:55:10,163 \u001b[32m[<br>dw-142 - POST /api/settings/up<br>load?isPlugi<br> id = 24",
          "ip-172-31-19-157<br>2017-07-20 22:55:10,163 \u001b[32m[<br>dw-142 - POST /api/settings/up<br>load?isPlugi<br> id = 24"
         ],
         "type": "scatter3d",
         "x": [
          -0.4580273981200911,
          -0.4580273981200911,
          -0.4580273981200911,
          -0.4580273981200911,
          -0.4580273981200911,
          -0.4580273981200911,
          -0.4580273981200911
         ],
         "y": [
          0.46567447553038105,
          0.46567447553038105,
          0.46567447553038105,
          0.46567447553038105,
          0.46567447553038105,
          0.46567447553038105,
          0.46567447553038105
         ],
         "z": [
          1,
          2,
          1,
          1,
          1,
          2,
          1
         ]
        },
        {
         "legendgroup": "cluster - 3",
         "marker": {
          "color": "blue",
          "opacity": 0.5,
          "size": 6
         },
         "mode": "markers",
         "name": "cluster - 3",
         "text": [
          "ip-172-31-28-126<br>2017-07-20 22:51:57,442 \u001b[32m[<br>dw-4470 - POST /api/settings?&<br>accountId=km<br> id = 3",
          "ip-172-31-28-126<br>2017-07-20 22:51:57,442 \u001b[32m[<br>dw-4470 - POST /api/settings?&<br>accountId=km<br> id = 3"
         ],
         "type": "scatter3d",
         "x": [
          -0.676538513213624,
          -0.676538513213624
         ],
         "y": [
          -0.24939336402509252,
          -0.24939336402509252
         ],
         "z": [
          3,
          3
         ]
        },
        {
         "legendgroup": "cluster - 4",
         "marker": {
          "color": "blue",
          "opacity": 0.5,
          "size": 6
         },
         "mode": "markers",
         "name": "cluster - 4",
         "text": [
          "ip-172-31-28-126<br>2017-07-20 22:53:39,842 \u001b[32m[<br>dw-4434 - POST /api/settings?&<br>accountId=km<br> id = 4"
         ],
         "type": "scatter3d",
         "x": [
          0.51893756312574
         ],
         "y": [
          -0.3530225460097689
         ],
         "z": [
          1
         ]
        },
        {
         "legendgroup": "cluster - 4",
         "marker": {
          "color": "orange",
          "opacity": 0.5,
          "size": 7
         },
         "mode": "markers",
         "name": "cluster - 4",
         "text": [
          "ip-172-31-19-157<br>2017-07-20 22:53:39,768 \u001b[32m[<br>dw-136 - POST /api/settings?&a<br>ccountId=kmp<br> id = 25"
         ],
         "type": "scatter3d",
         "x": [
          0.5189375631245725
         ],
         "y": [
          -0.3530225460143684
         ],
         "z": [
          1
         ]
        },
        {
         "legendgroup": "cluster - 5",
         "marker": {
          "color": "blue",
          "opacity": 0.5,
          "size": 6
         },
         "mode": "markers",
         "name": "cluster - 5",
         "text": [
          "ip-172-31-28-126<br>2017-07-20 22:54:25,024 \u001b[32m[<br>dw-4492 - POST /api/settings?&<br>accountId=km<br> id = 5"
         ],
         "type": "scatter3d",
         "x": [
          -0.19079420735733155
         ],
         "y": [
          -0.6424867959750161
         ],
         "z": [
          1
         ]
        },
        {
         "legendgroup": "cluster - 5",
         "marker": {
          "color": "orange",
          "opacity": 0.5,
          "size": 7
         },
         "mode": "markers",
         "name": "cluster - 5",
         "text": [
          "ip-172-31-19-157<br>2017-07-20 22:54:26,015 \u001b[32m[<br>dw-141 - POST /api/settings?&a<br>ccountId=kmp<br> id = 26"
         ],
         "type": "scatter3d",
         "x": [
          -0.19079121934046853
         ],
         "y": [
          -0.6424891881980184
         ],
         "z": [
          1
         ]
        },
        {
         "legendgroup": "cluster - 6",
         "marker": {
          "color": "blue",
          "opacity": 0.5,
          "size": 6
         },
         "mode": "markers",
         "name": "cluster - 6",
         "text": [
          "ip-172-31-28-126<br>2017-07-20 22:49:48,749 \u001b[32m[<br>dw-3682 - POST /api/settings?&<br>accountId=km<br> id = 6",
          "ip-172-31-28-126<br>2017-07-20 22:49:48,749 \u001b[32m[<br>dw-3682 - POST /api/settings?&<br>accountId=km<br> id = 6",
          "ip-172-31-28-126<br>2017-07-20 22:49:48,749 \u001b[32m[<br>dw-3682 - POST /api/settings?&<br>accountId=km<br> id = 6",
          "ip-172-31-28-126<br>2017-07-20 22:49:48,749 \u001b[32m[<br>dw-3682 - POST /api/settings?&<br>accountId=km<br> id = 6"
         ],
         "type": "scatter3d",
         "x": [
          0.36087798635999685,
          0.36087798635999685,
          0.36087798635999685,
          0.36087798635999685
         ],
         "y": [
          0.5053308533331727,
          0.5053308533331727,
          0.5053308533331727,
          0.5053308533331727
         ],
         "z": [
          1,
          1,
          1,
          1
         ]
        },
        {
         "legendgroup": "cluster - 6",
         "marker": {
          "color": "orange",
          "opacity": 0.5,
          "size": 7
         },
         "mode": "markers",
         "name": "cluster - 6",
         "text": [
          "ip-172-31-19-157<br>2017-07-20 22:49:47,150 \u001b[32m[<br>dw-152 - POST /api/settings?&a<br>ccountId=kmp<br> id = 27",
          "ip-172-31-19-157<br>2017-07-20 22:49:47,150 \u001b[32m[<br>dw-152 - POST /api/settings?&a<br>ccountId=kmp<br> id = 27",
          "ip-172-31-19-157<br>2017-07-20 22:49:47,150 \u001b[32m[<br>dw-152 - POST /api/settings?&a<br>ccountId=kmp<br> id = 27",
          "ip-172-31-19-157<br>2017-07-20 22:49:47,150 \u001b[32m[<br>dw-152 - POST /api/settings?&a<br>ccountId=kmp<br> id = 27"
         ],
         "type": "scatter3d",
         "x": [
          0.3608779879541986,
          0.3608779879541986,
          0.3608779879541986,
          0.3608779879541986
         ],
         "y": [
          0.50533085323357,
          0.50533085323357,
          0.50533085323357,
          0.50533085323357
         ],
         "z": [
          1,
          1,
          1,
          1
         ]
        },
        {
         "legendgroup": "cluster - 7",
         "marker": {
          "color": "blue",
          "opacity": 0.5,
          "size": 6
         },
         "mode": "markers",
         "name": "cluster - 7",
         "text": [
          "ip-172-31-28-126<br>2017-07-20 22:55:44,570 \u001b[32m[<br>QuartzScheduler_QuartzSchedule<br>rThread]\u001b[0;<br> id = 7"
         ],
         "type": "scatter3d",
         "x": [
          -0.5929058902460507
         ],
         "y": [
          -0.4688435350954016
         ],
         "z": [
          1
         ]
        },
        {
         "legendgroup": "cluster - 7",
         "marker": {
          "color": "orange",
          "opacity": 0.5,
          "size": 7
         },
         "mode": "markers",
         "name": "cluster - 7",
         "text": [
          "ip-172-31-19-157<br>2017-07-20 22:55:48,807 \u001b[32m[<br>QuartzScheduler_QuartzSchedule<br>rThread]\u001b[0;<br> id = 28"
         ],
         "type": "scatter3d",
         "x": [
          -0.5929054016052137
         ],
         "y": [
          -0.46884423328471
         ],
         "z": [
          1
         ]
        },
        {
         "legendgroup": "cluster - 8",
         "marker": {
          "color": "blue",
          "opacity": 0.5,
          "size": 6
         },
         "mode": "markers",
         "name": "cluster - 8",
         "text": [
          "ip-172-31-28-126<br>2017-07-20 22:47:20,737 \u001b[32m[<br>dw-268 - PUT /api/users/IKORk_<br>bFSS2TctkfxF<br> id = 8"
         ],
         "type": "scatter3d",
         "x": [
          -0.6139287211974247
         ],
         "y": [
          0.04553594408676896
         ],
         "z": [
          1
         ]
        },
        {
         "legendgroup": "cluster - 8",
         "marker": {
          "color": "orange",
          "opacity": 0.5,
          "size": 7
         },
         "mode": "markers",
         "name": "cluster - 8",
         "text": [
          "ip-172-31-19-157<br>2017-07-20 22:47:13,945 \u001b[32m[<br>dw-112 - PUT /api/users/54mL0p<br>KoRpaIPXR7xT<br> id = 29"
         ],
         "type": "scatter3d",
         "x": [
          -0.6139286961187364
         ],
         "y": [
          0.045535937245400684
         ],
         "z": [
          1
         ]
        },
        {
         "legendgroup": "cluster - 9",
         "marker": {
          "color": "blue",
          "opacity": 0.5,
          "size": 6
         },
         "mode": "markers",
         "name": "cluster - 9",
         "text": [
          "ip-172-31-28-126<br>2017-07-20 22:56:49,666 \u001b[32m[<br>dw-268 - POST /api/users]\u001b[0;3<br>9m \u001b[1;31mER<br> id = 9"
         ],
         "type": "scatter3d",
         "x": [
          0.12234525757062584
         ],
         "y": [
          0.6973841923692199
         ],
         "z": [
          1
         ]
        },
        {
         "legendgroup": "cluster - 9",
         "marker": {
          "color": "orange",
          "opacity": 0.5,
          "size": 7
         },
         "mode": "markers",
         "name": "cluster - 9",
         "text": [
          "ip-172-31-19-157<br>2017-07-20 22:56:55,843 \u001b[32m[<br>dw-181 - POST /api/users]\u001b[0;3<br>9m \u001b[1;31mER<br> id = 30"
         ],
         "type": "scatter3d",
         "x": [
          0.12234525712068908
         ],
         "y": [
          0.6973841922825676
         ],
         "z": [
          1
         ]
        },
        {
         "legendgroup": "cluster - 10",
         "marker": {
          "color": "blue",
          "opacity": 0.5,
          "size": 6
         },
         "mode": "markers",
         "name": "cluster - 10",
         "text": [
          "ip-172-31-28-126<br>2017-07-20 22:49:03,234 \u001b[32m[<br>dw-4439 - POST /api/settings?&<br>accountId=km<br> id = 10"
         ],
         "type": "scatter3d",
         "x": [
          -0.0033091315558475636
         ],
         "y": [
          -0.42338462556899675
         ],
         "z": [
          1
         ]
        },
        {
         "legendgroup": "cluster - 10",
         "marker": {
          "color": "orange",
          "opacity": 0.5,
          "size": 7
         },
         "mode": "markers",
         "name": "cluster - 10",
         "text": [
          "ip-172-31-19-157<br>2017-07-20 22:49:01,139 \u001b[32m[<br>dw-143 - POST /api/settings?&a<br>ccountId=kmp<br> id = 31"
         ],
         "type": "scatter3d",
         "x": [
          -0.0033091283616471594
         ],
         "y": [
          -0.42338462665548793
         ],
         "z": [
          1
         ]
        },
        {
         "legendgroup": "cluster - 11",
         "marker": {
          "color": "blue",
          "opacity": 0.5,
          "size": 6
         },
         "mode": "markers",
         "name": "cluster - 11",
         "text": [
          "ip-172-31-28-126<br>2017-07-20 22:52:47,060 \u001b[32m[<br>dw-4433 - POST /api/settings?&<br>accountId=km<br> id = 11",
          "ip-172-31-28-126<br>2017-07-20 22:52:47,060 \u001b[32m[<br>dw-4433 - POST /api/settings?&<br>accountId=km<br> id = 11"
         ],
         "type": "scatter3d",
         "x": [
          0.41692388557534804,
          0.41692388557534804
         ],
         "y": [
          0.0602733603802874,
          0.0602733603802874
         ],
         "z": [
          1,
          1
         ]
        },
        {
         "legendgroup": "cluster - 11",
         "marker": {
          "color": "orange",
          "opacity": 0.5,
          "size": 7
         },
         "mode": "markers",
         "name": "cluster - 11",
         "text": [
          "ip-172-31-19-157<br>2017-07-20 22:52:46,457 \u001b[32m[<br>dw-136 - POST /api/settings?&a<br>ccountId=kmp<br> id = 32",
          "ip-172-31-19-157<br>2017-07-20 22:52:46,457 \u001b[32m[<br>dw-136 - POST /api/settings?&a<br>ccountId=kmp<br> id = 32"
         ],
         "type": "scatter3d",
         "x": [
          0.41692388320205553,
          0.41692388320205553
         ],
         "y": [
          0.060273359950907726,
          0.060273359950907726
         ],
         "z": [
          1,
          1
         ]
        },
        {
         "legendgroup": "cluster - 12",
         "marker": {
          "color": "blue",
          "opacity": 0.5,
          "size": 6
         },
         "mode": "markers",
         "name": "cluster - 12",
         "text": [
          "ip-172-31-28-126<br>2017-07-20 22:55:08,377 \u001b[32m[<br>dw-4492 - POST /api/settings/u<br>pload?isPlug<br> id = 12"
         ],
         "type": "scatter3d",
         "x": [
          0.18094700155603677
         ],
         "y": [
          0.38683420028079474
         ],
         "z": [
          1
         ]
        },
        {
         "legendgroup": "cluster - 12",
         "marker": {
          "color": "orange",
          "opacity": 0.5,
          "size": 7
         },
         "mode": "markers",
         "name": "cluster - 12",
         "text": [
          "ip-172-31-19-157<br>2017-07-20 22:55:10,163 \u001b[32m[<br>dw-142 - POST /api/settings/up<br>load?isPlugi<br> id = 33"
         ],
         "type": "scatter3d",
         "x": [
          0.18096421149005282
         ],
         "y": [
          0.38685231138878484
         ],
         "z": [
          1
         ]
        },
        {
         "legendgroup": "cluster - 13",
         "marker": {
          "color": "blue",
          "opacity": 0.5,
          "size": 6
         },
         "mode": "markers",
         "name": "cluster - 13",
         "text": [
          "ip-172-31-28-126<br>2017-07-20 22:50:00,435 \u001b[32m[<br>dw-4439 - POST /api/settings?&<br>accountId=km<br> id = 13"
         ],
         "type": "scatter3d",
         "x": [
          0.6017468848331128
         ],
         "y": [
          0.17263987968381125
         ],
         "z": [
          1
         ]
        },
        {
         "legendgroup": "cluster - 14",
         "marker": {
          "color": "blue",
          "opacity": 0.5,
          "size": 6
         },
         "mode": "markers",
         "name": "cluster - 14",
         "text": [
          "ip-172-31-28-126<br>2017-07-20 22:53:45,697 \u001b[32m[<br>dw-4470 - POST /api/settings?&<br>accountId=km<br> id = 14"
         ],
         "type": "scatter3d",
         "x": [
          0.5906540477195543
         ],
         "y": [
          0.038631290930442895
         ],
         "z": [
          1
         ]
        },
        {
         "legendgroup": "cluster - 14",
         "marker": {
          "color": "orange",
          "opacity": 0.5,
          "size": 7
         },
         "mode": "markers",
         "name": "cluster - 14",
         "text": [
          "ip-172-31-19-157<br>2017-07-20 22:53:45,569 \u001b[32m[<br>dw-136 - POST /api/settings?&a<br>ccountId=kmp<br> id = 34"
         ],
         "type": "scatter3d",
         "x": [
          0.5906540477255636
         ],
         "y": [
          0.038631290951607784
         ],
         "z": [
          1
         ]
        },
        {
         "legendgroup": "cluster - 15",
         "marker": {
          "color": "blue",
          "opacity": 0.5,
          "size": 6
         },
         "mode": "markers",
         "name": "cluster - 15",
         "text": [
          "ip-172-31-28-126<br>2017-07-20 22:49:10,530 \u001b[32m[<br>dw-3682 - POST /api/settings?&<br>accountId=km<br> id = 15"
         ],
         "type": "scatter3d",
         "x": [
          0.031211617449744277
         ],
         "y": [
          -0.24484885962502803
         ],
         "z": [
          1
         ]
        },
        {
         "legendgroup": "cluster - 15",
         "marker": {
          "color": "orange",
          "opacity": 0.5,
          "size": 7
         },
         "mode": "markers",
         "name": "cluster - 15",
         "text": [
          "ip-172-31-19-157<br>2017-07-20 22:49:08,714 \u001b[32m[<br>dw-112 - POST /api/settings?&a<br>ccountId=kmp<br> id = 35"
         ],
         "type": "scatter3d",
         "x": [
          0.03121161745543171
         ],
         "y": [
          -0.2448488595559829
         ],
         "z": [
          1
         ]
        },
        {
         "legendgroup": "cluster - 16",
         "marker": {
          "color": "blue",
          "opacity": 0.5,
          "size": 6
         },
         "mode": "markers",
         "name": "cluster - 16",
         "text": [
          "ip-172-31-28-126<br>2017-07-20 22:54:31,031 \u001b[32m[<br>dw-4433 - POST /api/settings?&<br>accountId=km<br> id = 16"
         ],
         "type": "scatter3d",
         "x": [
          0.06007511320454698
         ],
         "y": [
          -0.6452503122294461
         ],
         "z": [
          1
         ]
        },
        {
         "legendgroup": "cluster - 16",
         "marker": {
          "color": "orange",
          "opacity": 0.5,
          "size": 7
         },
         "mode": "markers",
         "name": "cluster - 16",
         "text": [
          "ip-172-31-19-157<br>2017-07-20 22:54:31,940 \u001b[32m[<br>dw-141 - POST /api/settings?&a<br>ccountId=kmp<br> id = 36"
         ],
         "type": "scatter3d",
         "x": [
          0.06201935650876072
         ],
         "y": [
          -0.6453287711782228
         ],
         "z": [
          1
         ]
        },
        {
         "legendgroup": "cluster - 17",
         "marker": {
          "color": "blue",
          "opacity": 0.5,
          "size": 6
         },
         "mode": "markers",
         "name": "cluster - 17",
         "text": [
          "ip-172-31-28-126<br>2017-07-20 22:55:08,366 \u001b[32m[<br>dw-4492 - POST /api/settings/u<br>pload?isPlug<br> id = 17"
         ],
         "type": "scatter3d",
         "x": [
          -0.5403299754316039
         ],
         "y": [
          0.4003825212588055
         ],
         "z": [
          1
         ]
        },
        {
         "legendgroup": "cluster - 17",
         "marker": {
          "color": "orange",
          "opacity": 0.5,
          "size": 7
         },
         "mode": "markers",
         "name": "cluster - 17",
         "text": [
          "ip-172-31-19-157<br>2017-07-20 22:55:10,156 \u001b[32m[<br>dw-142 - POST /api/settings/up<br>load?isPlugi<br> id = 37"
         ],
         "type": "scatter3d",
         "x": [
          -0.3456167864679659
         ],
         "y": [
          0.5676084902270635
         ],
         "z": [
          1
         ]
        },
        {
         "legendgroup": "cluster - 18",
         "marker": {
          "color": "blue",
          "opacity": 0.5,
          "size": 6
         },
         "mode": "markers",
         "name": "cluster - 18",
         "text": [
          "ip-172-31-28-126<br>2017-07-20 22:49:54,496 \u001b[32m[<br>dw-4439 - POST /api/settings?&<br>accountId=km<br> id = 18"
         ],
         "type": "scatter3d",
         "x": [
          0.4275390452429912
         ],
         "y": [
          -0.47086033740940225
         ],
         "z": [
          1
         ]
        },
        {
         "legendgroup": "cluster - 18",
         "marker": {
          "color": "orange",
          "opacity": 0.5,
          "size": 7
         },
         "mode": "markers",
         "name": "cluster - 18",
         "text": [
          "ip-172-31-19-157<br>2017-07-20 22:49:52,979 \u001b[32m[<br>dw-136 - POST /api/settings?&a<br>ccountId=kmp<br> id = 38"
         ],
         "type": "scatter3d",
         "x": [
          0.42753904523149955
         ],
         "y": [
          -0.47086033741307903
         ],
         "z": [
          1
         ]
        },
        {
         "legendgroup": "cluster - 19",
         "marker": {
          "color": "blue",
          "opacity": 0.5,
          "size": 6
         },
         "mode": "markers",
         "name": "cluster - 19",
         "text": [
          "ip-172-31-28-126<br>2017-07-20 22:52:41,276 \u001b[32m[<br>dw-4457 - POST /api/settings?&<br>accountId=km<br> id = 19",
          "ip-172-31-28-126<br>2017-07-20 22:52:41,276 \u001b[32m[<br>dw-4457 - POST /api/settings?&<br>accountId=km<br> id = 19"
         ],
         "type": "scatter3d",
         "x": [
          0.43004926510618174,
          0.43004926510618174
         ],
         "y": [
          -0.3729141716765757,
          -0.3729141716765757
         ],
         "z": [
          1,
          1
         ]
        },
        {
         "legendgroup": "cluster - 19",
         "marker": {
          "color": "orange",
          "opacity": 0.5,
          "size": 7
         },
         "mode": "markers",
         "name": "cluster - 19",
         "text": [
          "ip-172-31-19-157<br>2017-07-20 22:52:40,554 \u001b[32m[<br>dw-141 - POST /api/settings?&a<br>ccountId=kmp<br> id = 39",
          "ip-172-31-19-157<br>2017-07-20 22:52:40,554 \u001b[32m[<br>dw-141 - POST /api/settings?&a<br>ccountId=kmp<br> id = 39"
         ],
         "type": "scatter3d",
         "x": [
          0.4300492651062402,
          0.4300492651062402
         ],
         "y": [
          -0.3729141716763884,
          -0.3729141716763884
         ],
         "z": [
          1,
          1
         ]
        },
        {
         "legendgroup": "cluster - 20",
         "marker": {
          "color": "blue",
          "opacity": 0.5,
          "size": 6
         },
         "mode": "markers",
         "name": "cluster - 20",
         "text": [
          "ip-172-31-28-126<br>2017-07-20 22:56:38,860 \u001b[32m[<br>dw-4433 - GET /api/users/login<br>]\u001b[0;39m \u001b[1<br> id = 20"
         ],
         "type": "scatter3d",
         "x": [
          -0.442007583079123
         ],
         "y": [
          0.5327781280354753
         ],
         "z": [
          2
         ]
        },
        {
         "legendgroup": "cluster - 20",
         "marker": {
          "color": "orange",
          "opacity": 0.5,
          "size": 7
         },
         "mode": "markers",
         "name": "cluster - 20",
         "text": [
          "ip-172-31-19-157<br>2017-07-20 22:56:44,802 \u001b[32m[<br>dw-214 - GET /api/users/login]<br>\u001b[0;39m \u001b[1;<br> id = 40"
         ],
         "type": "scatter3d",
         "x": [
          -0.4420075189771492
         ],
         "y": [
          0.5327781388672356
         ],
         "z": [
          2
         ]
        },
        {
         "legendgroup": "cluster - 21",
         "marker": {
          "color": "blue",
          "opacity": 0.5,
          "size": 6
         },
         "mode": "markers",
         "name": "cluster - 21",
         "text": [
          "ip-172-31-28-126<br>2017-07-20 22:53:45,697 \u001b[32m[<br>dw-4470 - POST /api/settings?&<br>accountId=km<br> id = 21",
          "ip-172-31-28-126<br>2017-07-20 22:53:45,697 \u001b[32m[<br>dw-4470 - POST /api/settings?&<br>accountId=km<br> id = 21",
          "ip-172-31-28-126<br>2017-07-20 22:53:45,697 \u001b[32m[<br>dw-4470 - POST /api/settings?&<br>accountId=km<br> id = 21",
          "ip-172-31-28-126<br>2017-07-20 22:53:45,697 \u001b[32m[<br>dw-4470 - POST /api/settings?&<br>accountId=km<br> id = 21"
         ],
         "type": "scatter3d",
         "x": [
          -0.6715352857901619,
          -0.6715352857901619,
          -0.6715352857901619,
          -0.6715352857901619
         ],
         "y": [
          -0.2024500845499238,
          -0.2024500845499238,
          -0.2024500845499238,
          -0.2024500845499238
         ],
         "z": [
          1,
          2,
          2,
          1
         ]
        },
        {
         "legendgroup": "cluster - 21",
         "marker": {
          "color": "orange",
          "opacity": 0.5,
          "size": 7
         },
         "mode": "markers",
         "name": "cluster - 21",
         "text": [
          "ip-172-31-19-157<br>2017-07-20 22:53:45,569 \u001b[32m[<br>dw-136 - POST /api/settings?&a<br>ccountId=kmp<br> id = 41",
          "ip-172-31-19-157<br>2017-07-20 22:53:45,569 \u001b[32m[<br>dw-136 - POST /api/settings?&a<br>ccountId=kmp<br> id = 41",
          "ip-172-31-19-157<br>2017-07-20 22:53:45,569 \u001b[32m[<br>dw-136 - POST /api/settings?&a<br>ccountId=kmp<br> id = 41",
          "ip-172-31-19-157<br>2017-07-20 22:53:45,569 \u001b[32m[<br>dw-136 - POST /api/settings?&a<br>ccountId=kmp<br> id = 41",
          "ip-172-31-19-157<br>2017-07-20 22:53:45,569 \u001b[32m[<br>dw-136 - POST /api/settings?&a<br>ccountId=kmp<br> id = 41"
         ],
         "type": "scatter3d",
         "x": [
          -0.6715352834481686,
          -0.6715352834481686,
          -0.6715352834481686,
          -0.6715352834481686,
          -0.6715352834481686
         ],
         "y": [
          -0.20245008641060108,
          -0.20245008641060108,
          -0.20245008641060108,
          -0.20245008641060108,
          -0.20245008641060108
         ],
         "z": [
          1,
          2,
          3,
          2,
          3
         ]
        }
       ],
       "layout": {
        "hovermode": "closest"
       }
      },
      "text/html": [
       "<div id=\"e29a71d7-d1f2-46d9-8fb1-ef2332b6336f\" style=\"height: 525px; width: 100%;\" class=\"plotly-graph-div\"></div><script type=\"text/javascript\">require([\"plotly\"], function(Plotly) { window.PLOTLYENV=window.PLOTLYENV || {};window.PLOTLYENV.BASE_URL=\"https://plot.ly\";Plotly.newPlot(\"e29a71d7-d1f2-46d9-8fb1-ef2332b6336f\", [{\"legendgroup\": \"cluster - 0\", \"name\": \"cluster - 0\", \"text\": [\"ip-172-31-28-126<br>2017-07-20 22:48:57,067 \\u001b[32m[<br>dw-4435 - POST /api/settings?&<br>accountId=km<br> id = 0\"], \"marker\": {\"opacity\": 0.5, \"color\": \"blue\", \"size\": 6}, \"mode\": \"markers\", \"y\": [-0.21802074928075374], \"x\": [-0.14242265927346226], \"z\": [1.0], \"type\": \"scatter3d\"}, {\"legendgroup\": \"cluster - 0\", \"name\": \"cluster - 0\", \"text\": [\"ip-172-31-19-157<br>2017-07-20 22:48:55,019 \\u001b[32m[<br>dw-112 - POST /api/settings?&a<br>ccountId=kmp<br> id = 22\"], \"marker\": {\"opacity\": 0.5, \"color\": \"orange\", \"size\": 7}, \"mode\": \"markers\", \"y\": [-0.21808747493844435], \"x\": [-0.14243943991944688], \"z\": [1.0], \"type\": \"scatter3d\"}, {\"legendgroup\": \"cluster - 1\", \"name\": \"cluster - 1\", \"text\": [\"ip-172-31-28-126<br>2017-07-20 22:47:33,873 \\u001b[32m[<br>dw-4434 - POST /api/settings?&<br>accountId=km<br> id = 1\", \"ip-172-31-28-126<br>2017-07-20 22:47:33,873 \\u001b[32m[<br>dw-4434 - POST /api/settings?&<br>accountId=km<br> id = 1\"], \"marker\": {\"opacity\": 0.5, \"color\": \"blue\", \"size\": 6}, \"mode\": \"markers\", \"y\": [0.18617227888629914, 0.18617227888629914], \"x\": [0.4272087049951446, 0.4272087049951446], \"z\": [1.0, 2.0], \"type\": \"scatter3d\"}, {\"legendgroup\": \"cluster - 1\", \"name\": \"cluster - 1\", \"text\": [\"ip-172-31-19-157<br>2017-07-20 22:47:29,101 \\u001b[32m[<br>dw-141 - POST /api/settings?&a<br>ccountId=kmp<br> id = 23\", \"ip-172-31-19-157<br>2017-07-20 22:47:29,101 \\u001b[32m[<br>dw-141 - POST /api/settings?&a<br>ccountId=kmp<br> id = 23\"], \"marker\": {\"opacity\": 0.5, \"color\": \"orange\", \"size\": 7}, \"mode\": \"markers\", \"y\": [0.18617227888629906, 0.18617227888629906], \"x\": [0.42720870499514485, 0.42720870499514485], \"z\": [1.0, 2.0], \"type\": \"scatter3d\"}, {\"legendgroup\": \"cluster - 2\", \"name\": \"cluster - 2\", \"text\": [\"ip-172-31-28-126<br>2017-07-20 22:55:08,377 \\u001b[32m[<br>dw-4492 - POST /api/settings/u<br>pload?isPlug<br> id = 2\", \"ip-172-31-28-126<br>2017-07-20 22:55:08,377 \\u001b[32m[<br>dw-4492 - POST /api/settings/u<br>pload?isPlug<br> id = 2\", \"ip-172-31-28-126<br>2017-07-20 22:55:08,377 \\u001b[32m[<br>dw-4492 - POST /api/settings/u<br>pload?isPlug<br> id = 2\", \"ip-172-31-28-126<br>2017-07-20 22:55:08,377 \\u001b[32m[<br>dw-4492 - POST /api/settings/u<br>pload?isPlug<br> id = 2\", \"ip-172-31-28-126<br>2017-07-20 22:55:08,377 \\u001b[32m[<br>dw-4492 - POST /api/settings/u<br>pload?isPlug<br> id = 2\", \"ip-172-31-28-126<br>2017-07-20 22:55:08,377 \\u001b[32m[<br>dw-4492 - POST /api/settings/u<br>pload?isPlug<br> id = 2\", \"ip-172-31-28-126<br>2017-07-20 22:55:08,377 \\u001b[32m[<br>dw-4492 - POST /api/settings/u<br>pload?isPlug<br> id = 2\"], \"marker\": {\"opacity\": 0.5, \"color\": \"blue\", \"size\": 6}, \"mode\": \"markers\", \"y\": [0.4656744746640311, 0.4656744746640311, 0.4656744746640311, 0.4656744746640311, 0.4656744746640311, 0.4656744746640311, 0.4656744746640311], \"x\": [-0.45802740176138407, -0.45802740176138407, -0.45802740176138407, -0.45802740176138407, -0.45802740176138407, -0.45802740176138407, -0.45802740176138407], \"z\": [1.0, 2.0, 1.0, 1.0, 1.0, 2.0, 1.0], \"type\": \"scatter3d\"}, {\"legendgroup\": \"cluster - 2\", \"name\": \"cluster - 2\", \"text\": [\"ip-172-31-19-157<br>2017-07-20 22:55:10,163 \\u001b[32m[<br>dw-142 - POST /api/settings/up<br>load?isPlugi<br> id = 24\", \"ip-172-31-19-157<br>2017-07-20 22:55:10,163 \\u001b[32m[<br>dw-142 - POST /api/settings/up<br>load?isPlugi<br> id = 24\", \"ip-172-31-19-157<br>2017-07-20 22:55:10,163 \\u001b[32m[<br>dw-142 - POST /api/settings/up<br>load?isPlugi<br> id = 24\", \"ip-172-31-19-157<br>2017-07-20 22:55:10,163 \\u001b[32m[<br>dw-142 - POST /api/settings/up<br>load?isPlugi<br> id = 24\", \"ip-172-31-19-157<br>2017-07-20 22:55:10,163 \\u001b[32m[<br>dw-142 - POST /api/settings/up<br>load?isPlugi<br> id = 24\", \"ip-172-31-19-157<br>2017-07-20 22:55:10,163 \\u001b[32m[<br>dw-142 - POST /api/settings/up<br>load?isPlugi<br> id = 24\", \"ip-172-31-19-157<br>2017-07-20 22:55:10,163 \\u001b[32m[<br>dw-142 - POST /api/settings/up<br>load?isPlugi<br> id = 24\"], \"marker\": {\"opacity\": 0.5, \"color\": \"orange\", \"size\": 7}, \"mode\": \"markers\", \"y\": [0.46567447553038105, 0.46567447553038105, 0.46567447553038105, 0.46567447553038105, 0.46567447553038105, 0.46567447553038105, 0.46567447553038105], \"x\": [-0.4580273981200911, -0.4580273981200911, -0.4580273981200911, -0.4580273981200911, -0.4580273981200911, -0.4580273981200911, -0.4580273981200911], \"z\": [1.0, 2.0, 1.0, 1.0, 1.0, 2.0, 1.0], \"type\": \"scatter3d\"}, {\"legendgroup\": \"cluster - 3\", \"name\": \"cluster - 3\", \"text\": [\"ip-172-31-28-126<br>2017-07-20 22:51:57,442 \\u001b[32m[<br>dw-4470 - POST /api/settings?&<br>accountId=km<br> id = 3\", \"ip-172-31-28-126<br>2017-07-20 22:51:57,442 \\u001b[32m[<br>dw-4470 - POST /api/settings?&<br>accountId=km<br> id = 3\"], \"marker\": {\"opacity\": 0.5, \"color\": \"blue\", \"size\": 6}, \"mode\": \"markers\", \"y\": [-0.24939336402509252, -0.24939336402509252], \"x\": [-0.676538513213624, -0.676538513213624], \"z\": [3.0, 3.0], \"type\": \"scatter3d\"}, {\"legendgroup\": \"cluster - 4\", \"name\": \"cluster - 4\", \"text\": [\"ip-172-31-28-126<br>2017-07-20 22:53:39,842 \\u001b[32m[<br>dw-4434 - POST /api/settings?&<br>accountId=km<br> id = 4\"], \"marker\": {\"opacity\": 0.5, \"color\": \"blue\", \"size\": 6}, \"mode\": \"markers\", \"y\": [-0.3530225460097689], \"x\": [0.51893756312574], \"z\": [1.0], \"type\": \"scatter3d\"}, {\"legendgroup\": \"cluster - 4\", \"name\": \"cluster - 4\", \"text\": [\"ip-172-31-19-157<br>2017-07-20 22:53:39,768 \\u001b[32m[<br>dw-136 - POST /api/settings?&a<br>ccountId=kmp<br> id = 25\"], \"marker\": {\"opacity\": 0.5, \"color\": \"orange\", \"size\": 7}, \"mode\": \"markers\", \"y\": [-0.3530225460143684], \"x\": [0.5189375631245725], \"z\": [1.0], \"type\": \"scatter3d\"}, {\"legendgroup\": \"cluster - 5\", \"name\": \"cluster - 5\", \"text\": [\"ip-172-31-28-126<br>2017-07-20 22:54:25,024 \\u001b[32m[<br>dw-4492 - POST /api/settings?&<br>accountId=km<br> id = 5\"], \"marker\": {\"opacity\": 0.5, \"color\": \"blue\", \"size\": 6}, \"mode\": \"markers\", \"y\": [-0.6424867959750161], \"x\": [-0.19079420735733155], \"z\": [1.0], \"type\": \"scatter3d\"}, {\"legendgroup\": \"cluster - 5\", \"name\": \"cluster - 5\", \"text\": [\"ip-172-31-19-157<br>2017-07-20 22:54:26,015 \\u001b[32m[<br>dw-141 - POST /api/settings?&a<br>ccountId=kmp<br> id = 26\"], \"marker\": {\"opacity\": 0.5, \"color\": \"orange\", \"size\": 7}, \"mode\": \"markers\", \"y\": [-0.6424891881980184], \"x\": [-0.19079121934046853], \"z\": [1.0], \"type\": \"scatter3d\"}, {\"legendgroup\": \"cluster - 6\", \"name\": \"cluster - 6\", \"text\": [\"ip-172-31-28-126<br>2017-07-20 22:49:48,749 \\u001b[32m[<br>dw-3682 - POST /api/settings?&<br>accountId=km<br> id = 6\", \"ip-172-31-28-126<br>2017-07-20 22:49:48,749 \\u001b[32m[<br>dw-3682 - POST /api/settings?&<br>accountId=km<br> id = 6\", \"ip-172-31-28-126<br>2017-07-20 22:49:48,749 \\u001b[32m[<br>dw-3682 - POST /api/settings?&<br>accountId=km<br> id = 6\", \"ip-172-31-28-126<br>2017-07-20 22:49:48,749 \\u001b[32m[<br>dw-3682 - POST /api/settings?&<br>accountId=km<br> id = 6\"], \"marker\": {\"opacity\": 0.5, \"color\": \"blue\", \"size\": 6}, \"mode\": \"markers\", \"y\": [0.5053308533331727, 0.5053308533331727, 0.5053308533331727, 0.5053308533331727], \"x\": [0.36087798635999685, 0.36087798635999685, 0.36087798635999685, 0.36087798635999685], \"z\": [1.0, 1.0, 1.0, 1.0], \"type\": \"scatter3d\"}, {\"legendgroup\": \"cluster - 6\", \"name\": \"cluster - 6\", \"text\": [\"ip-172-31-19-157<br>2017-07-20 22:49:47,150 \\u001b[32m[<br>dw-152 - POST /api/settings?&a<br>ccountId=kmp<br> id = 27\", \"ip-172-31-19-157<br>2017-07-20 22:49:47,150 \\u001b[32m[<br>dw-152 - POST /api/settings?&a<br>ccountId=kmp<br> id = 27\", \"ip-172-31-19-157<br>2017-07-20 22:49:47,150 \\u001b[32m[<br>dw-152 - POST /api/settings?&a<br>ccountId=kmp<br> id = 27\", \"ip-172-31-19-157<br>2017-07-20 22:49:47,150 \\u001b[32m[<br>dw-152 - POST /api/settings?&a<br>ccountId=kmp<br> id = 27\"], \"marker\": {\"opacity\": 0.5, \"color\": \"orange\", \"size\": 7}, \"mode\": \"markers\", \"y\": [0.50533085323357, 0.50533085323357, 0.50533085323357, 0.50533085323357], \"x\": [0.3608779879541986, 0.3608779879541986, 0.3608779879541986, 0.3608779879541986], \"z\": [1.0, 1.0, 1.0, 1.0], \"type\": \"scatter3d\"}, {\"legendgroup\": \"cluster - 7\", \"name\": \"cluster - 7\", \"text\": [\"ip-172-31-28-126<br>2017-07-20 22:55:44,570 \\u001b[32m[<br>QuartzScheduler_QuartzSchedule<br>rThread]\\u001b[0;<br> id = 7\"], \"marker\": {\"opacity\": 0.5, \"color\": \"blue\", \"size\": 6}, \"mode\": \"markers\", \"y\": [-0.4688435350954016], \"x\": [-0.5929058902460507], \"z\": [1.0], \"type\": \"scatter3d\"}, {\"legendgroup\": \"cluster - 7\", \"name\": \"cluster - 7\", \"text\": [\"ip-172-31-19-157<br>2017-07-20 22:55:48,807 \\u001b[32m[<br>QuartzScheduler_QuartzSchedule<br>rThread]\\u001b[0;<br> id = 28\"], \"marker\": {\"opacity\": 0.5, \"color\": \"orange\", \"size\": 7}, \"mode\": \"markers\", \"y\": [-0.46884423328471], \"x\": [-0.5929054016052137], \"z\": [1.0], \"type\": \"scatter3d\"}, {\"legendgroup\": \"cluster - 8\", \"name\": \"cluster - 8\", \"text\": [\"ip-172-31-28-126<br>2017-07-20 22:47:20,737 \\u001b[32m[<br>dw-268 - PUT /api/users/IKORk_<br>bFSS2TctkfxF<br> id = 8\"], \"marker\": {\"opacity\": 0.5, \"color\": \"blue\", \"size\": 6}, \"mode\": \"markers\", \"y\": [0.04553594408676896], \"x\": [-0.6139287211974247], \"z\": [1.0], \"type\": \"scatter3d\"}, {\"legendgroup\": \"cluster - 8\", \"name\": \"cluster - 8\", \"text\": [\"ip-172-31-19-157<br>2017-07-20 22:47:13,945 \\u001b[32m[<br>dw-112 - PUT /api/users/54mL0p<br>KoRpaIPXR7xT<br> id = 29\"], \"marker\": {\"opacity\": 0.5, \"color\": \"orange\", \"size\": 7}, \"mode\": \"markers\", \"y\": [0.045535937245400684], \"x\": [-0.6139286961187364], \"z\": [1.0], \"type\": \"scatter3d\"}, {\"legendgroup\": \"cluster - 9\", \"name\": \"cluster - 9\", \"text\": [\"ip-172-31-28-126<br>2017-07-20 22:56:49,666 \\u001b[32m[<br>dw-268 - POST /api/users]\\u001b[0;3<br>9m \\u001b[1;31mER<br> id = 9\"], \"marker\": {\"opacity\": 0.5, \"color\": \"blue\", \"size\": 6}, \"mode\": \"markers\", \"y\": [0.6973841923692199], \"x\": [0.12234525757062584], \"z\": [1.0], \"type\": \"scatter3d\"}, {\"legendgroup\": \"cluster - 9\", \"name\": \"cluster - 9\", \"text\": [\"ip-172-31-19-157<br>2017-07-20 22:56:55,843 \\u001b[32m[<br>dw-181 - POST /api/users]\\u001b[0;3<br>9m \\u001b[1;31mER<br> id = 30\"], \"marker\": {\"opacity\": 0.5, \"color\": \"orange\", \"size\": 7}, \"mode\": \"markers\", \"y\": [0.6973841922825676], \"x\": [0.12234525712068908], \"z\": [1.0], \"type\": \"scatter3d\"}, {\"legendgroup\": \"cluster - 10\", \"name\": \"cluster - 10\", \"text\": [\"ip-172-31-28-126<br>2017-07-20 22:49:03,234 \\u001b[32m[<br>dw-4439 - POST /api/settings?&<br>accountId=km<br> id = 10\"], \"marker\": {\"opacity\": 0.5, \"color\": \"blue\", \"size\": 6}, \"mode\": \"markers\", \"y\": [-0.42338462556899675], \"x\": [-0.0033091315558475636], \"z\": [1.0], \"type\": \"scatter3d\"}, {\"legendgroup\": \"cluster - 10\", \"name\": \"cluster - 10\", \"text\": [\"ip-172-31-19-157<br>2017-07-20 22:49:01,139 \\u001b[32m[<br>dw-143 - POST /api/settings?&a<br>ccountId=kmp<br> id = 31\"], \"marker\": {\"opacity\": 0.5, \"color\": \"orange\", \"size\": 7}, \"mode\": \"markers\", \"y\": [-0.42338462665548793], \"x\": [-0.0033091283616471594], \"z\": [1.0], \"type\": \"scatter3d\"}, {\"legendgroup\": \"cluster - 11\", \"name\": \"cluster - 11\", \"text\": [\"ip-172-31-28-126<br>2017-07-20 22:52:47,060 \\u001b[32m[<br>dw-4433 - POST /api/settings?&<br>accountId=km<br> id = 11\", \"ip-172-31-28-126<br>2017-07-20 22:52:47,060 \\u001b[32m[<br>dw-4433 - POST /api/settings?&<br>accountId=km<br> id = 11\"], \"marker\": {\"opacity\": 0.5, \"color\": \"blue\", \"size\": 6}, \"mode\": \"markers\", \"y\": [0.0602733603802874, 0.0602733603802874], \"x\": [0.41692388557534804, 0.41692388557534804], \"z\": [1.0, 1.0], \"type\": \"scatter3d\"}, {\"legendgroup\": \"cluster - 11\", \"name\": \"cluster - 11\", \"text\": [\"ip-172-31-19-157<br>2017-07-20 22:52:46,457 \\u001b[32m[<br>dw-136 - POST /api/settings?&a<br>ccountId=kmp<br> id = 32\", \"ip-172-31-19-157<br>2017-07-20 22:52:46,457 \\u001b[32m[<br>dw-136 - POST /api/settings?&a<br>ccountId=kmp<br> id = 32\"], \"marker\": {\"opacity\": 0.5, \"color\": \"orange\", \"size\": 7}, \"mode\": \"markers\", \"y\": [0.060273359950907726, 0.060273359950907726], \"x\": [0.41692388320205553, 0.41692388320205553], \"z\": [1.0, 1.0], \"type\": \"scatter3d\"}, {\"legendgroup\": \"cluster - 12\", \"name\": \"cluster - 12\", \"text\": [\"ip-172-31-28-126<br>2017-07-20 22:55:08,377 \\u001b[32m[<br>dw-4492 - POST /api/settings/u<br>pload?isPlug<br> id = 12\"], \"marker\": {\"opacity\": 0.5, \"color\": \"blue\", \"size\": 6}, \"mode\": \"markers\", \"y\": [0.38683420028079474], \"x\": [0.18094700155603677], \"z\": [1.0], \"type\": \"scatter3d\"}, {\"legendgroup\": \"cluster - 12\", \"name\": \"cluster - 12\", \"text\": [\"ip-172-31-19-157<br>2017-07-20 22:55:10,163 \\u001b[32m[<br>dw-142 - POST /api/settings/up<br>load?isPlugi<br> id = 33\"], \"marker\": {\"opacity\": 0.5, \"color\": \"orange\", \"size\": 7}, \"mode\": \"markers\", \"y\": [0.38685231138878484], \"x\": [0.18096421149005282], \"z\": [1.0], \"type\": \"scatter3d\"}, {\"legendgroup\": \"cluster - 13\", \"name\": \"cluster - 13\", \"text\": [\"ip-172-31-28-126<br>2017-07-20 22:50:00,435 \\u001b[32m[<br>dw-4439 - POST /api/settings?&<br>accountId=km<br> id = 13\"], \"marker\": {\"opacity\": 0.5, \"color\": \"blue\", \"size\": 6}, \"mode\": \"markers\", \"y\": [0.17263987968381125], \"x\": [0.6017468848331128], \"z\": [1.0], \"type\": \"scatter3d\"}, {\"legendgroup\": \"cluster - 14\", \"name\": \"cluster - 14\", \"text\": [\"ip-172-31-28-126<br>2017-07-20 22:53:45,697 \\u001b[32m[<br>dw-4470 - POST /api/settings?&<br>accountId=km<br> id = 14\"], \"marker\": {\"opacity\": 0.5, \"color\": \"blue\", \"size\": 6}, \"mode\": \"markers\", \"y\": [0.038631290930442895], \"x\": [0.5906540477195543], \"z\": [1.0], \"type\": \"scatter3d\"}, {\"legendgroup\": \"cluster - 14\", \"name\": \"cluster - 14\", \"text\": [\"ip-172-31-19-157<br>2017-07-20 22:53:45,569 \\u001b[32m[<br>dw-136 - POST /api/settings?&a<br>ccountId=kmp<br> id = 34\"], \"marker\": {\"opacity\": 0.5, \"color\": \"orange\", \"size\": 7}, \"mode\": \"markers\", \"y\": [0.038631290951607784], \"x\": [0.5906540477255636], \"z\": [1.0], \"type\": \"scatter3d\"}, {\"legendgroup\": \"cluster - 15\", \"name\": \"cluster - 15\", \"text\": [\"ip-172-31-28-126<br>2017-07-20 22:49:10,530 \\u001b[32m[<br>dw-3682 - POST /api/settings?&<br>accountId=km<br> id = 15\"], \"marker\": {\"opacity\": 0.5, \"color\": \"blue\", \"size\": 6}, \"mode\": \"markers\", \"y\": [-0.24484885962502803], \"x\": [0.031211617449744277], \"z\": [1.0], \"type\": \"scatter3d\"}, {\"legendgroup\": \"cluster - 15\", \"name\": \"cluster - 15\", \"text\": [\"ip-172-31-19-157<br>2017-07-20 22:49:08,714 \\u001b[32m[<br>dw-112 - POST /api/settings?&a<br>ccountId=kmp<br> id = 35\"], \"marker\": {\"opacity\": 0.5, \"color\": \"orange\", \"size\": 7}, \"mode\": \"markers\", \"y\": [-0.2448488595559829], \"x\": [0.03121161745543171], \"z\": [1.0], \"type\": \"scatter3d\"}, {\"legendgroup\": \"cluster - 16\", \"name\": \"cluster - 16\", \"text\": [\"ip-172-31-28-126<br>2017-07-20 22:54:31,031 \\u001b[32m[<br>dw-4433 - POST /api/settings?&<br>accountId=km<br> id = 16\"], \"marker\": {\"opacity\": 0.5, \"color\": \"blue\", \"size\": 6}, \"mode\": \"markers\", \"y\": [-0.6452503122294461], \"x\": [0.06007511320454698], \"z\": [1.0], \"type\": \"scatter3d\"}, {\"legendgroup\": \"cluster - 16\", \"name\": \"cluster - 16\", \"text\": [\"ip-172-31-19-157<br>2017-07-20 22:54:31,940 \\u001b[32m[<br>dw-141 - POST /api/settings?&a<br>ccountId=kmp<br> id = 36\"], \"marker\": {\"opacity\": 0.5, \"color\": \"orange\", \"size\": 7}, \"mode\": \"markers\", \"y\": [-0.6453287711782228], \"x\": [0.06201935650876072], \"z\": [1.0], \"type\": \"scatter3d\"}, {\"legendgroup\": \"cluster - 17\", \"name\": \"cluster - 17\", \"text\": [\"ip-172-31-28-126<br>2017-07-20 22:55:08,366 \\u001b[32m[<br>dw-4492 - POST /api/settings/u<br>pload?isPlug<br> id = 17\"], \"marker\": {\"opacity\": 0.5, \"color\": \"blue\", \"size\": 6}, \"mode\": \"markers\", \"y\": [0.4003825212588055], \"x\": [-0.5403299754316039], \"z\": [1.0], \"type\": \"scatter3d\"}, {\"legendgroup\": \"cluster - 17\", \"name\": \"cluster - 17\", \"text\": [\"ip-172-31-19-157<br>2017-07-20 22:55:10,156 \\u001b[32m[<br>dw-142 - POST /api/settings/up<br>load?isPlugi<br> id = 37\"], \"marker\": {\"opacity\": 0.5, \"color\": \"orange\", \"size\": 7}, \"mode\": \"markers\", \"y\": [0.5676084902270635], \"x\": [-0.3456167864679659], \"z\": [1.0], \"type\": \"scatter3d\"}, {\"legendgroup\": \"cluster - 18\", \"name\": \"cluster - 18\", \"text\": [\"ip-172-31-28-126<br>2017-07-20 22:49:54,496 \\u001b[32m[<br>dw-4439 - POST /api/settings?&<br>accountId=km<br> id = 18\"], \"marker\": {\"opacity\": 0.5, \"color\": \"blue\", \"size\": 6}, \"mode\": \"markers\", \"y\": [-0.47086033740940225], \"x\": [0.4275390452429912], \"z\": [1.0], \"type\": \"scatter3d\"}, {\"legendgroup\": \"cluster - 18\", \"name\": \"cluster - 18\", \"text\": [\"ip-172-31-19-157<br>2017-07-20 22:49:52,979 \\u001b[32m[<br>dw-136 - POST /api/settings?&a<br>ccountId=kmp<br> id = 38\"], \"marker\": {\"opacity\": 0.5, \"color\": \"orange\", \"size\": 7}, \"mode\": \"markers\", \"y\": [-0.47086033741307903], \"x\": [0.42753904523149955], \"z\": [1.0], \"type\": \"scatter3d\"}, {\"legendgroup\": \"cluster - 19\", \"name\": \"cluster - 19\", \"text\": [\"ip-172-31-28-126<br>2017-07-20 22:52:41,276 \\u001b[32m[<br>dw-4457 - POST /api/settings?&<br>accountId=km<br> id = 19\", \"ip-172-31-28-126<br>2017-07-20 22:52:41,276 \\u001b[32m[<br>dw-4457 - POST /api/settings?&<br>accountId=km<br> id = 19\"], \"marker\": {\"opacity\": 0.5, \"color\": \"blue\", \"size\": 6}, \"mode\": \"markers\", \"y\": [-0.3729141716765757, -0.3729141716765757], \"x\": [0.43004926510618174, 0.43004926510618174], \"z\": [1.0, 1.0], \"type\": \"scatter3d\"}, {\"legendgroup\": \"cluster - 19\", \"name\": \"cluster - 19\", \"text\": [\"ip-172-31-19-157<br>2017-07-20 22:52:40,554 \\u001b[32m[<br>dw-141 - POST /api/settings?&a<br>ccountId=kmp<br> id = 39\", \"ip-172-31-19-157<br>2017-07-20 22:52:40,554 \\u001b[32m[<br>dw-141 - POST /api/settings?&a<br>ccountId=kmp<br> id = 39\"], \"marker\": {\"opacity\": 0.5, \"color\": \"orange\", \"size\": 7}, \"mode\": \"markers\", \"y\": [-0.3729141716763884, -0.3729141716763884], \"x\": [0.4300492651062402, 0.4300492651062402], \"z\": [1.0, 1.0], \"type\": \"scatter3d\"}, {\"legendgroup\": \"cluster - 20\", \"name\": \"cluster - 20\", \"text\": [\"ip-172-31-28-126<br>2017-07-20 22:56:38,860 \\u001b[32m[<br>dw-4433 - GET /api/users/login<br>]\\u001b[0;39m \\u001b[1<br> id = 20\"], \"marker\": {\"opacity\": 0.5, \"color\": \"blue\", \"size\": 6}, \"mode\": \"markers\", \"y\": [0.5327781280354753], \"x\": [-0.442007583079123], \"z\": [2.0], \"type\": \"scatter3d\"}, {\"legendgroup\": \"cluster - 20\", \"name\": \"cluster - 20\", \"text\": [\"ip-172-31-19-157<br>2017-07-20 22:56:44,802 \\u001b[32m[<br>dw-214 - GET /api/users/login]<br>\\u001b[0;39m \\u001b[1;<br> id = 40\"], \"marker\": {\"opacity\": 0.5, \"color\": \"orange\", \"size\": 7}, \"mode\": \"markers\", \"y\": [0.5327781388672356], \"x\": [-0.4420075189771492], \"z\": [2.0], \"type\": \"scatter3d\"}, {\"legendgroup\": \"cluster - 21\", \"name\": \"cluster - 21\", \"text\": [\"ip-172-31-28-126<br>2017-07-20 22:53:45,697 \\u001b[32m[<br>dw-4470 - POST /api/settings?&<br>accountId=km<br> id = 21\", \"ip-172-31-28-126<br>2017-07-20 22:53:45,697 \\u001b[32m[<br>dw-4470 - POST /api/settings?&<br>accountId=km<br> id = 21\", \"ip-172-31-28-126<br>2017-07-20 22:53:45,697 \\u001b[32m[<br>dw-4470 - POST /api/settings?&<br>accountId=km<br> id = 21\", \"ip-172-31-28-126<br>2017-07-20 22:53:45,697 \\u001b[32m[<br>dw-4470 - POST /api/settings?&<br>accountId=km<br> id = 21\"], \"marker\": {\"opacity\": 0.5, \"color\": \"blue\", \"size\": 6}, \"mode\": \"markers\", \"y\": [-0.2024500845499238, -0.2024500845499238, -0.2024500845499238, -0.2024500845499238], \"x\": [-0.6715352857901619, -0.6715352857901619, -0.6715352857901619, -0.6715352857901619], \"z\": [1.0, 2.0, 2.0, 1.0], \"type\": \"scatter3d\"}, {\"legendgroup\": \"cluster - 21\", \"name\": \"cluster - 21\", \"text\": [\"ip-172-31-19-157<br>2017-07-20 22:53:45,569 \\u001b[32m[<br>dw-136 - POST /api/settings?&a<br>ccountId=kmp<br> id = 41\", \"ip-172-31-19-157<br>2017-07-20 22:53:45,569 \\u001b[32m[<br>dw-136 - POST /api/settings?&a<br>ccountId=kmp<br> id = 41\", \"ip-172-31-19-157<br>2017-07-20 22:53:45,569 \\u001b[32m[<br>dw-136 - POST /api/settings?&a<br>ccountId=kmp<br> id = 41\", \"ip-172-31-19-157<br>2017-07-20 22:53:45,569 \\u001b[32m[<br>dw-136 - POST /api/settings?&a<br>ccountId=kmp<br> id = 41\", \"ip-172-31-19-157<br>2017-07-20 22:53:45,569 \\u001b[32m[<br>dw-136 - POST /api/settings?&a<br>ccountId=kmp<br> id = 41\"], \"marker\": {\"opacity\": 0.5, \"color\": \"orange\", \"size\": 7}, \"mode\": \"markers\", \"y\": [-0.20245008641060108, -0.20245008641060108, -0.20245008641060108, -0.20245008641060108, -0.20245008641060108], \"x\": [-0.6715352834481686, -0.6715352834481686, -0.6715352834481686, -0.6715352834481686, -0.6715352834481686], \"z\": [1.0, 2.0, 3.0, 2.0, 3.0], \"type\": \"scatter3d\"}], {\"hovermode\": \"closest\"}, {\"linkText\": \"Export to plot.ly\", \"showLink\": false})});</script>"
      ],
      "text/vnd.plotly.v1+html": [
       "<div id=\"e29a71d7-d1f2-46d9-8fb1-ef2332b6336f\" style=\"height: 525px; width: 100%;\" class=\"plotly-graph-div\"></div><script type=\"text/javascript\">require([\"plotly\"], function(Plotly) { window.PLOTLYENV=window.PLOTLYENV || {};window.PLOTLYENV.BASE_URL=\"https://plot.ly\";Plotly.newPlot(\"e29a71d7-d1f2-46d9-8fb1-ef2332b6336f\", [{\"legendgroup\": \"cluster - 0\", \"name\": \"cluster - 0\", \"text\": [\"ip-172-31-28-126<br>2017-07-20 22:48:57,067 \\u001b[32m[<br>dw-4435 - POST /api/settings?&<br>accountId=km<br> id = 0\"], \"marker\": {\"opacity\": 0.5, \"color\": \"blue\", \"size\": 6}, \"mode\": \"markers\", \"y\": [-0.21802074928075374], \"x\": [-0.14242265927346226], \"z\": [1.0], \"type\": \"scatter3d\"}, {\"legendgroup\": \"cluster - 0\", \"name\": \"cluster - 0\", \"text\": [\"ip-172-31-19-157<br>2017-07-20 22:48:55,019 \\u001b[32m[<br>dw-112 - POST /api/settings?&a<br>ccountId=kmp<br> id = 22\"], \"marker\": {\"opacity\": 0.5, \"color\": \"orange\", \"size\": 7}, \"mode\": \"markers\", \"y\": [-0.21808747493844435], \"x\": [-0.14243943991944688], \"z\": [1.0], \"type\": \"scatter3d\"}, {\"legendgroup\": \"cluster - 1\", \"name\": \"cluster - 1\", \"text\": [\"ip-172-31-28-126<br>2017-07-20 22:47:33,873 \\u001b[32m[<br>dw-4434 - POST /api/settings?&<br>accountId=km<br> id = 1\", \"ip-172-31-28-126<br>2017-07-20 22:47:33,873 \\u001b[32m[<br>dw-4434 - POST /api/settings?&<br>accountId=km<br> id = 1\"], \"marker\": {\"opacity\": 0.5, \"color\": \"blue\", \"size\": 6}, \"mode\": \"markers\", \"y\": [0.18617227888629914, 0.18617227888629914], \"x\": [0.4272087049951446, 0.4272087049951446], \"z\": [1.0, 2.0], \"type\": \"scatter3d\"}, {\"legendgroup\": \"cluster - 1\", \"name\": \"cluster - 1\", \"text\": [\"ip-172-31-19-157<br>2017-07-20 22:47:29,101 \\u001b[32m[<br>dw-141 - POST /api/settings?&a<br>ccountId=kmp<br> id = 23\", \"ip-172-31-19-157<br>2017-07-20 22:47:29,101 \\u001b[32m[<br>dw-141 - POST /api/settings?&a<br>ccountId=kmp<br> id = 23\"], \"marker\": {\"opacity\": 0.5, \"color\": \"orange\", \"size\": 7}, \"mode\": \"markers\", \"y\": [0.18617227888629906, 0.18617227888629906], \"x\": [0.42720870499514485, 0.42720870499514485], \"z\": [1.0, 2.0], \"type\": \"scatter3d\"}, {\"legendgroup\": \"cluster - 2\", \"name\": \"cluster - 2\", \"text\": [\"ip-172-31-28-126<br>2017-07-20 22:55:08,377 \\u001b[32m[<br>dw-4492 - POST /api/settings/u<br>pload?isPlug<br> id = 2\", \"ip-172-31-28-126<br>2017-07-20 22:55:08,377 \\u001b[32m[<br>dw-4492 - POST /api/settings/u<br>pload?isPlug<br> id = 2\", \"ip-172-31-28-126<br>2017-07-20 22:55:08,377 \\u001b[32m[<br>dw-4492 - POST /api/settings/u<br>pload?isPlug<br> id = 2\", \"ip-172-31-28-126<br>2017-07-20 22:55:08,377 \\u001b[32m[<br>dw-4492 - POST /api/settings/u<br>pload?isPlug<br> id = 2\", \"ip-172-31-28-126<br>2017-07-20 22:55:08,377 \\u001b[32m[<br>dw-4492 - POST /api/settings/u<br>pload?isPlug<br> id = 2\", \"ip-172-31-28-126<br>2017-07-20 22:55:08,377 \\u001b[32m[<br>dw-4492 - POST /api/settings/u<br>pload?isPlug<br> id = 2\", \"ip-172-31-28-126<br>2017-07-20 22:55:08,377 \\u001b[32m[<br>dw-4492 - POST /api/settings/u<br>pload?isPlug<br> id = 2\"], \"marker\": {\"opacity\": 0.5, \"color\": \"blue\", \"size\": 6}, \"mode\": \"markers\", \"y\": [0.4656744746640311, 0.4656744746640311, 0.4656744746640311, 0.4656744746640311, 0.4656744746640311, 0.4656744746640311, 0.4656744746640311], \"x\": [-0.45802740176138407, -0.45802740176138407, -0.45802740176138407, -0.45802740176138407, -0.45802740176138407, -0.45802740176138407, -0.45802740176138407], \"z\": [1.0, 2.0, 1.0, 1.0, 1.0, 2.0, 1.0], \"type\": \"scatter3d\"}, {\"legendgroup\": \"cluster - 2\", \"name\": \"cluster - 2\", \"text\": [\"ip-172-31-19-157<br>2017-07-20 22:55:10,163 \\u001b[32m[<br>dw-142 - POST /api/settings/up<br>load?isPlugi<br> id = 24\", \"ip-172-31-19-157<br>2017-07-20 22:55:10,163 \\u001b[32m[<br>dw-142 - POST /api/settings/up<br>load?isPlugi<br> id = 24\", \"ip-172-31-19-157<br>2017-07-20 22:55:10,163 \\u001b[32m[<br>dw-142 - POST /api/settings/up<br>load?isPlugi<br> id = 24\", \"ip-172-31-19-157<br>2017-07-20 22:55:10,163 \\u001b[32m[<br>dw-142 - POST /api/settings/up<br>load?isPlugi<br> id = 24\", \"ip-172-31-19-157<br>2017-07-20 22:55:10,163 \\u001b[32m[<br>dw-142 - POST /api/settings/up<br>load?isPlugi<br> id = 24\", \"ip-172-31-19-157<br>2017-07-20 22:55:10,163 \\u001b[32m[<br>dw-142 - POST /api/settings/up<br>load?isPlugi<br> id = 24\", \"ip-172-31-19-157<br>2017-07-20 22:55:10,163 \\u001b[32m[<br>dw-142 - POST /api/settings/up<br>load?isPlugi<br> id = 24\"], \"marker\": {\"opacity\": 0.5, \"color\": \"orange\", \"size\": 7}, \"mode\": \"markers\", \"y\": [0.46567447553038105, 0.46567447553038105, 0.46567447553038105, 0.46567447553038105, 0.46567447553038105, 0.46567447553038105, 0.46567447553038105], \"x\": [-0.4580273981200911, -0.4580273981200911, -0.4580273981200911, -0.4580273981200911, -0.4580273981200911, -0.4580273981200911, -0.4580273981200911], \"z\": [1.0, 2.0, 1.0, 1.0, 1.0, 2.0, 1.0], \"type\": \"scatter3d\"}, {\"legendgroup\": \"cluster - 3\", \"name\": \"cluster - 3\", \"text\": [\"ip-172-31-28-126<br>2017-07-20 22:51:57,442 \\u001b[32m[<br>dw-4470 - POST /api/settings?&<br>accountId=km<br> id = 3\", \"ip-172-31-28-126<br>2017-07-20 22:51:57,442 \\u001b[32m[<br>dw-4470 - POST /api/settings?&<br>accountId=km<br> id = 3\"], \"marker\": {\"opacity\": 0.5, \"color\": \"blue\", \"size\": 6}, \"mode\": \"markers\", \"y\": [-0.24939336402509252, -0.24939336402509252], \"x\": [-0.676538513213624, -0.676538513213624], \"z\": [3.0, 3.0], \"type\": \"scatter3d\"}, {\"legendgroup\": \"cluster - 4\", \"name\": \"cluster - 4\", \"text\": [\"ip-172-31-28-126<br>2017-07-20 22:53:39,842 \\u001b[32m[<br>dw-4434 - POST /api/settings?&<br>accountId=km<br> id = 4\"], \"marker\": {\"opacity\": 0.5, \"color\": \"blue\", \"size\": 6}, \"mode\": \"markers\", \"y\": [-0.3530225460097689], \"x\": [0.51893756312574], \"z\": [1.0], \"type\": \"scatter3d\"}, {\"legendgroup\": \"cluster - 4\", \"name\": \"cluster - 4\", \"text\": [\"ip-172-31-19-157<br>2017-07-20 22:53:39,768 \\u001b[32m[<br>dw-136 - POST /api/settings?&a<br>ccountId=kmp<br> id = 25\"], \"marker\": {\"opacity\": 0.5, \"color\": \"orange\", \"size\": 7}, \"mode\": \"markers\", \"y\": [-0.3530225460143684], \"x\": [0.5189375631245725], \"z\": [1.0], \"type\": \"scatter3d\"}, {\"legendgroup\": \"cluster - 5\", \"name\": \"cluster - 5\", \"text\": [\"ip-172-31-28-126<br>2017-07-20 22:54:25,024 \\u001b[32m[<br>dw-4492 - POST /api/settings?&<br>accountId=km<br> id = 5\"], \"marker\": {\"opacity\": 0.5, \"color\": \"blue\", \"size\": 6}, \"mode\": \"markers\", \"y\": [-0.6424867959750161], \"x\": [-0.19079420735733155], \"z\": [1.0], \"type\": \"scatter3d\"}, {\"legendgroup\": \"cluster - 5\", \"name\": \"cluster - 5\", \"text\": [\"ip-172-31-19-157<br>2017-07-20 22:54:26,015 \\u001b[32m[<br>dw-141 - POST /api/settings?&a<br>ccountId=kmp<br> id = 26\"], \"marker\": {\"opacity\": 0.5, \"color\": \"orange\", \"size\": 7}, \"mode\": \"markers\", \"y\": [-0.6424891881980184], \"x\": [-0.19079121934046853], \"z\": [1.0], \"type\": \"scatter3d\"}, {\"legendgroup\": \"cluster - 6\", \"name\": \"cluster - 6\", \"text\": [\"ip-172-31-28-126<br>2017-07-20 22:49:48,749 \\u001b[32m[<br>dw-3682 - POST /api/settings?&<br>accountId=km<br> id = 6\", \"ip-172-31-28-126<br>2017-07-20 22:49:48,749 \\u001b[32m[<br>dw-3682 - POST /api/settings?&<br>accountId=km<br> id = 6\", \"ip-172-31-28-126<br>2017-07-20 22:49:48,749 \\u001b[32m[<br>dw-3682 - POST /api/settings?&<br>accountId=km<br> id = 6\", \"ip-172-31-28-126<br>2017-07-20 22:49:48,749 \\u001b[32m[<br>dw-3682 - POST /api/settings?&<br>accountId=km<br> id = 6\"], \"marker\": {\"opacity\": 0.5, \"color\": \"blue\", \"size\": 6}, \"mode\": \"markers\", \"y\": [0.5053308533331727, 0.5053308533331727, 0.5053308533331727, 0.5053308533331727], \"x\": [0.36087798635999685, 0.36087798635999685, 0.36087798635999685, 0.36087798635999685], \"z\": [1.0, 1.0, 1.0, 1.0], \"type\": \"scatter3d\"}, {\"legendgroup\": \"cluster - 6\", \"name\": \"cluster - 6\", \"text\": [\"ip-172-31-19-157<br>2017-07-20 22:49:47,150 \\u001b[32m[<br>dw-152 - POST /api/settings?&a<br>ccountId=kmp<br> id = 27\", \"ip-172-31-19-157<br>2017-07-20 22:49:47,150 \\u001b[32m[<br>dw-152 - POST /api/settings?&a<br>ccountId=kmp<br> id = 27\", \"ip-172-31-19-157<br>2017-07-20 22:49:47,150 \\u001b[32m[<br>dw-152 - POST /api/settings?&a<br>ccountId=kmp<br> id = 27\", \"ip-172-31-19-157<br>2017-07-20 22:49:47,150 \\u001b[32m[<br>dw-152 - POST /api/settings?&a<br>ccountId=kmp<br> id = 27\"], \"marker\": {\"opacity\": 0.5, \"color\": \"orange\", \"size\": 7}, \"mode\": \"markers\", \"y\": [0.50533085323357, 0.50533085323357, 0.50533085323357, 0.50533085323357], \"x\": [0.3608779879541986, 0.3608779879541986, 0.3608779879541986, 0.3608779879541986], \"z\": [1.0, 1.0, 1.0, 1.0], \"type\": \"scatter3d\"}, {\"legendgroup\": \"cluster - 7\", \"name\": \"cluster - 7\", \"text\": [\"ip-172-31-28-126<br>2017-07-20 22:55:44,570 \\u001b[32m[<br>QuartzScheduler_QuartzSchedule<br>rThread]\\u001b[0;<br> id = 7\"], \"marker\": {\"opacity\": 0.5, \"color\": \"blue\", \"size\": 6}, \"mode\": \"markers\", \"y\": [-0.4688435350954016], \"x\": [-0.5929058902460507], \"z\": [1.0], \"type\": \"scatter3d\"}, {\"legendgroup\": \"cluster - 7\", \"name\": \"cluster - 7\", \"text\": [\"ip-172-31-19-157<br>2017-07-20 22:55:48,807 \\u001b[32m[<br>QuartzScheduler_QuartzSchedule<br>rThread]\\u001b[0;<br> id = 28\"], \"marker\": {\"opacity\": 0.5, \"color\": \"orange\", \"size\": 7}, \"mode\": \"markers\", \"y\": [-0.46884423328471], \"x\": [-0.5929054016052137], \"z\": [1.0], \"type\": \"scatter3d\"}, {\"legendgroup\": \"cluster - 8\", \"name\": \"cluster - 8\", \"text\": [\"ip-172-31-28-126<br>2017-07-20 22:47:20,737 \\u001b[32m[<br>dw-268 - PUT /api/users/IKORk_<br>bFSS2TctkfxF<br> id = 8\"], \"marker\": {\"opacity\": 0.5, \"color\": \"blue\", \"size\": 6}, \"mode\": \"markers\", \"y\": [0.04553594408676896], \"x\": [-0.6139287211974247], \"z\": [1.0], \"type\": \"scatter3d\"}, {\"legendgroup\": \"cluster - 8\", \"name\": \"cluster - 8\", \"text\": [\"ip-172-31-19-157<br>2017-07-20 22:47:13,945 \\u001b[32m[<br>dw-112 - PUT /api/users/54mL0p<br>KoRpaIPXR7xT<br> id = 29\"], \"marker\": {\"opacity\": 0.5, \"color\": \"orange\", \"size\": 7}, \"mode\": \"markers\", \"y\": [0.045535937245400684], \"x\": [-0.6139286961187364], \"z\": [1.0], \"type\": \"scatter3d\"}, {\"legendgroup\": \"cluster - 9\", \"name\": \"cluster - 9\", \"text\": [\"ip-172-31-28-126<br>2017-07-20 22:56:49,666 \\u001b[32m[<br>dw-268 - POST /api/users]\\u001b[0;3<br>9m \\u001b[1;31mER<br> id = 9\"], \"marker\": {\"opacity\": 0.5, \"color\": \"blue\", \"size\": 6}, \"mode\": \"markers\", \"y\": [0.6973841923692199], \"x\": [0.12234525757062584], \"z\": [1.0], \"type\": \"scatter3d\"}, {\"legendgroup\": \"cluster - 9\", \"name\": \"cluster - 9\", \"text\": [\"ip-172-31-19-157<br>2017-07-20 22:56:55,843 \\u001b[32m[<br>dw-181 - POST /api/users]\\u001b[0;3<br>9m \\u001b[1;31mER<br> id = 30\"], \"marker\": {\"opacity\": 0.5, \"color\": \"orange\", \"size\": 7}, \"mode\": \"markers\", \"y\": [0.6973841922825676], \"x\": [0.12234525712068908], \"z\": [1.0], \"type\": \"scatter3d\"}, {\"legendgroup\": \"cluster - 10\", \"name\": \"cluster - 10\", \"text\": [\"ip-172-31-28-126<br>2017-07-20 22:49:03,234 \\u001b[32m[<br>dw-4439 - POST /api/settings?&<br>accountId=km<br> id = 10\"], \"marker\": {\"opacity\": 0.5, \"color\": \"blue\", \"size\": 6}, \"mode\": \"markers\", \"y\": [-0.42338462556899675], \"x\": [-0.0033091315558475636], \"z\": [1.0], \"type\": \"scatter3d\"}, {\"legendgroup\": \"cluster - 10\", \"name\": \"cluster - 10\", \"text\": [\"ip-172-31-19-157<br>2017-07-20 22:49:01,139 \\u001b[32m[<br>dw-143 - POST /api/settings?&a<br>ccountId=kmp<br> id = 31\"], \"marker\": {\"opacity\": 0.5, \"color\": \"orange\", \"size\": 7}, \"mode\": \"markers\", \"y\": [-0.42338462665548793], \"x\": [-0.0033091283616471594], \"z\": [1.0], \"type\": \"scatter3d\"}, {\"legendgroup\": \"cluster - 11\", \"name\": \"cluster - 11\", \"text\": [\"ip-172-31-28-126<br>2017-07-20 22:52:47,060 \\u001b[32m[<br>dw-4433 - POST /api/settings?&<br>accountId=km<br> id = 11\", \"ip-172-31-28-126<br>2017-07-20 22:52:47,060 \\u001b[32m[<br>dw-4433 - POST /api/settings?&<br>accountId=km<br> id = 11\"], \"marker\": {\"opacity\": 0.5, \"color\": \"blue\", \"size\": 6}, \"mode\": \"markers\", \"y\": [0.0602733603802874, 0.0602733603802874], \"x\": [0.41692388557534804, 0.41692388557534804], \"z\": [1.0, 1.0], \"type\": \"scatter3d\"}, {\"legendgroup\": \"cluster - 11\", \"name\": \"cluster - 11\", \"text\": [\"ip-172-31-19-157<br>2017-07-20 22:52:46,457 \\u001b[32m[<br>dw-136 - POST /api/settings?&a<br>ccountId=kmp<br> id = 32\", \"ip-172-31-19-157<br>2017-07-20 22:52:46,457 \\u001b[32m[<br>dw-136 - POST /api/settings?&a<br>ccountId=kmp<br> id = 32\"], \"marker\": {\"opacity\": 0.5, \"color\": \"orange\", \"size\": 7}, \"mode\": \"markers\", \"y\": [0.060273359950907726, 0.060273359950907726], \"x\": [0.41692388320205553, 0.41692388320205553], \"z\": [1.0, 1.0], \"type\": \"scatter3d\"}, {\"legendgroup\": \"cluster - 12\", \"name\": \"cluster - 12\", \"text\": [\"ip-172-31-28-126<br>2017-07-20 22:55:08,377 \\u001b[32m[<br>dw-4492 - POST /api/settings/u<br>pload?isPlug<br> id = 12\"], \"marker\": {\"opacity\": 0.5, \"color\": \"blue\", \"size\": 6}, \"mode\": \"markers\", \"y\": [0.38683420028079474], \"x\": [0.18094700155603677], \"z\": [1.0], \"type\": \"scatter3d\"}, {\"legendgroup\": \"cluster - 12\", \"name\": \"cluster - 12\", \"text\": [\"ip-172-31-19-157<br>2017-07-20 22:55:10,163 \\u001b[32m[<br>dw-142 - POST /api/settings/up<br>load?isPlugi<br> id = 33\"], \"marker\": {\"opacity\": 0.5, \"color\": \"orange\", \"size\": 7}, \"mode\": \"markers\", \"y\": [0.38685231138878484], \"x\": [0.18096421149005282], \"z\": [1.0], \"type\": \"scatter3d\"}, {\"legendgroup\": \"cluster - 13\", \"name\": \"cluster - 13\", \"text\": [\"ip-172-31-28-126<br>2017-07-20 22:50:00,435 \\u001b[32m[<br>dw-4439 - POST /api/settings?&<br>accountId=km<br> id = 13\"], \"marker\": {\"opacity\": 0.5, \"color\": \"blue\", \"size\": 6}, \"mode\": \"markers\", \"y\": [0.17263987968381125], \"x\": [0.6017468848331128], \"z\": [1.0], \"type\": \"scatter3d\"}, {\"legendgroup\": \"cluster - 14\", \"name\": \"cluster - 14\", \"text\": [\"ip-172-31-28-126<br>2017-07-20 22:53:45,697 \\u001b[32m[<br>dw-4470 - POST /api/settings?&<br>accountId=km<br> id = 14\"], \"marker\": {\"opacity\": 0.5, \"color\": \"blue\", \"size\": 6}, \"mode\": \"markers\", \"y\": [0.038631290930442895], \"x\": [0.5906540477195543], \"z\": [1.0], \"type\": \"scatter3d\"}, {\"legendgroup\": \"cluster - 14\", \"name\": \"cluster - 14\", \"text\": [\"ip-172-31-19-157<br>2017-07-20 22:53:45,569 \\u001b[32m[<br>dw-136 - POST /api/settings?&a<br>ccountId=kmp<br> id = 34\"], \"marker\": {\"opacity\": 0.5, \"color\": \"orange\", \"size\": 7}, \"mode\": \"markers\", \"y\": [0.038631290951607784], \"x\": [0.5906540477255636], \"z\": [1.0], \"type\": \"scatter3d\"}, {\"legendgroup\": \"cluster - 15\", \"name\": \"cluster - 15\", \"text\": [\"ip-172-31-28-126<br>2017-07-20 22:49:10,530 \\u001b[32m[<br>dw-3682 - POST /api/settings?&<br>accountId=km<br> id = 15\"], \"marker\": {\"opacity\": 0.5, \"color\": \"blue\", \"size\": 6}, \"mode\": \"markers\", \"y\": [-0.24484885962502803], \"x\": [0.031211617449744277], \"z\": [1.0], \"type\": \"scatter3d\"}, {\"legendgroup\": \"cluster - 15\", \"name\": \"cluster - 15\", \"text\": [\"ip-172-31-19-157<br>2017-07-20 22:49:08,714 \\u001b[32m[<br>dw-112 - POST /api/settings?&a<br>ccountId=kmp<br> id = 35\"], \"marker\": {\"opacity\": 0.5, \"color\": \"orange\", \"size\": 7}, \"mode\": \"markers\", \"y\": [-0.2448488595559829], \"x\": [0.03121161745543171], \"z\": [1.0], \"type\": \"scatter3d\"}, {\"legendgroup\": \"cluster - 16\", \"name\": \"cluster - 16\", \"text\": [\"ip-172-31-28-126<br>2017-07-20 22:54:31,031 \\u001b[32m[<br>dw-4433 - POST /api/settings?&<br>accountId=km<br> id = 16\"], \"marker\": {\"opacity\": 0.5, \"color\": \"blue\", \"size\": 6}, \"mode\": \"markers\", \"y\": [-0.6452503122294461], \"x\": [0.06007511320454698], \"z\": [1.0], \"type\": \"scatter3d\"}, {\"legendgroup\": \"cluster - 16\", \"name\": \"cluster - 16\", \"text\": [\"ip-172-31-19-157<br>2017-07-20 22:54:31,940 \\u001b[32m[<br>dw-141 - POST /api/settings?&a<br>ccountId=kmp<br> id = 36\"], \"marker\": {\"opacity\": 0.5, \"color\": \"orange\", \"size\": 7}, \"mode\": \"markers\", \"y\": [-0.6453287711782228], \"x\": [0.06201935650876072], \"z\": [1.0], \"type\": \"scatter3d\"}, {\"legendgroup\": \"cluster - 17\", \"name\": \"cluster - 17\", \"text\": [\"ip-172-31-28-126<br>2017-07-20 22:55:08,366 \\u001b[32m[<br>dw-4492 - POST /api/settings/u<br>pload?isPlug<br> id = 17\"], \"marker\": {\"opacity\": 0.5, \"color\": \"blue\", \"size\": 6}, \"mode\": \"markers\", \"y\": [0.4003825212588055], \"x\": [-0.5403299754316039], \"z\": [1.0], \"type\": \"scatter3d\"}, {\"legendgroup\": \"cluster - 17\", \"name\": \"cluster - 17\", \"text\": [\"ip-172-31-19-157<br>2017-07-20 22:55:10,156 \\u001b[32m[<br>dw-142 - POST /api/settings/up<br>load?isPlugi<br> id = 37\"], \"marker\": {\"opacity\": 0.5, \"color\": \"orange\", \"size\": 7}, \"mode\": \"markers\", \"y\": [0.5676084902270635], \"x\": [-0.3456167864679659], \"z\": [1.0], \"type\": \"scatter3d\"}, {\"legendgroup\": \"cluster - 18\", \"name\": \"cluster - 18\", \"text\": [\"ip-172-31-28-126<br>2017-07-20 22:49:54,496 \\u001b[32m[<br>dw-4439 - POST /api/settings?&<br>accountId=km<br> id = 18\"], \"marker\": {\"opacity\": 0.5, \"color\": \"blue\", \"size\": 6}, \"mode\": \"markers\", \"y\": [-0.47086033740940225], \"x\": [0.4275390452429912], \"z\": [1.0], \"type\": \"scatter3d\"}, {\"legendgroup\": \"cluster - 18\", \"name\": \"cluster - 18\", \"text\": [\"ip-172-31-19-157<br>2017-07-20 22:49:52,979 \\u001b[32m[<br>dw-136 - POST /api/settings?&a<br>ccountId=kmp<br> id = 38\"], \"marker\": {\"opacity\": 0.5, \"color\": \"orange\", \"size\": 7}, \"mode\": \"markers\", \"y\": [-0.47086033741307903], \"x\": [0.42753904523149955], \"z\": [1.0], \"type\": \"scatter3d\"}, {\"legendgroup\": \"cluster - 19\", \"name\": \"cluster - 19\", \"text\": [\"ip-172-31-28-126<br>2017-07-20 22:52:41,276 \\u001b[32m[<br>dw-4457 - POST /api/settings?&<br>accountId=km<br> id = 19\", \"ip-172-31-28-126<br>2017-07-20 22:52:41,276 \\u001b[32m[<br>dw-4457 - POST /api/settings?&<br>accountId=km<br> id = 19\"], \"marker\": {\"opacity\": 0.5, \"color\": \"blue\", \"size\": 6}, \"mode\": \"markers\", \"y\": [-0.3729141716765757, -0.3729141716765757], \"x\": [0.43004926510618174, 0.43004926510618174], \"z\": [1.0, 1.0], \"type\": \"scatter3d\"}, {\"legendgroup\": \"cluster - 19\", \"name\": \"cluster - 19\", \"text\": [\"ip-172-31-19-157<br>2017-07-20 22:52:40,554 \\u001b[32m[<br>dw-141 - POST /api/settings?&a<br>ccountId=kmp<br> id = 39\", \"ip-172-31-19-157<br>2017-07-20 22:52:40,554 \\u001b[32m[<br>dw-141 - POST /api/settings?&a<br>ccountId=kmp<br> id = 39\"], \"marker\": {\"opacity\": 0.5, \"color\": \"orange\", \"size\": 7}, \"mode\": \"markers\", \"y\": [-0.3729141716763884, -0.3729141716763884], \"x\": [0.4300492651062402, 0.4300492651062402], \"z\": [1.0, 1.0], \"type\": \"scatter3d\"}, {\"legendgroup\": \"cluster - 20\", \"name\": \"cluster - 20\", \"text\": [\"ip-172-31-28-126<br>2017-07-20 22:56:38,860 \\u001b[32m[<br>dw-4433 - GET /api/users/login<br>]\\u001b[0;39m \\u001b[1<br> id = 20\"], \"marker\": {\"opacity\": 0.5, \"color\": \"blue\", \"size\": 6}, \"mode\": \"markers\", \"y\": [0.5327781280354753], \"x\": [-0.442007583079123], \"z\": [2.0], \"type\": \"scatter3d\"}, {\"legendgroup\": \"cluster - 20\", \"name\": \"cluster - 20\", \"text\": [\"ip-172-31-19-157<br>2017-07-20 22:56:44,802 \\u001b[32m[<br>dw-214 - GET /api/users/login]<br>\\u001b[0;39m \\u001b[1;<br> id = 40\"], \"marker\": {\"opacity\": 0.5, \"color\": \"orange\", \"size\": 7}, \"mode\": \"markers\", \"y\": [0.5327781388672356], \"x\": [-0.4420075189771492], \"z\": [2.0], \"type\": \"scatter3d\"}, {\"legendgroup\": \"cluster - 21\", \"name\": \"cluster - 21\", \"text\": [\"ip-172-31-28-126<br>2017-07-20 22:53:45,697 \\u001b[32m[<br>dw-4470 - POST /api/settings?&<br>accountId=km<br> id = 21\", \"ip-172-31-28-126<br>2017-07-20 22:53:45,697 \\u001b[32m[<br>dw-4470 - POST /api/settings?&<br>accountId=km<br> id = 21\", \"ip-172-31-28-126<br>2017-07-20 22:53:45,697 \\u001b[32m[<br>dw-4470 - POST /api/settings?&<br>accountId=km<br> id = 21\", \"ip-172-31-28-126<br>2017-07-20 22:53:45,697 \\u001b[32m[<br>dw-4470 - POST /api/settings?&<br>accountId=km<br> id = 21\"], \"marker\": {\"opacity\": 0.5, \"color\": \"blue\", \"size\": 6}, \"mode\": \"markers\", \"y\": [-0.2024500845499238, -0.2024500845499238, -0.2024500845499238, -0.2024500845499238], \"x\": [-0.6715352857901619, -0.6715352857901619, -0.6715352857901619, -0.6715352857901619], \"z\": [1.0, 2.0, 2.0, 1.0], \"type\": \"scatter3d\"}, {\"legendgroup\": \"cluster - 21\", \"name\": \"cluster - 21\", \"text\": [\"ip-172-31-19-157<br>2017-07-20 22:53:45,569 \\u001b[32m[<br>dw-136 - POST /api/settings?&a<br>ccountId=kmp<br> id = 41\", \"ip-172-31-19-157<br>2017-07-20 22:53:45,569 \\u001b[32m[<br>dw-136 - POST /api/settings?&a<br>ccountId=kmp<br> id = 41\", \"ip-172-31-19-157<br>2017-07-20 22:53:45,569 \\u001b[32m[<br>dw-136 - POST /api/settings?&a<br>ccountId=kmp<br> id = 41\", \"ip-172-31-19-157<br>2017-07-20 22:53:45,569 \\u001b[32m[<br>dw-136 - POST /api/settings?&a<br>ccountId=kmp<br> id = 41\", \"ip-172-31-19-157<br>2017-07-20 22:53:45,569 \\u001b[32m[<br>dw-136 - POST /api/settings?&a<br>ccountId=kmp<br> id = 41\"], \"marker\": {\"opacity\": 0.5, \"color\": \"orange\", \"size\": 7}, \"mode\": \"markers\", \"y\": [-0.20245008641060108, -0.20245008641060108, -0.20245008641060108, -0.20245008641060108, -0.20245008641060108], \"x\": [-0.6715352834481686, -0.6715352834481686, -0.6715352834481686, -0.6715352834481686, -0.6715352834481686], \"z\": [1.0, 2.0, 3.0, 2.0, 3.0], \"type\": \"scatter3d\"}], {\"hovermode\": \"closest\"}, {\"linkText\": \"Export to plot.ly\", \"showLink\": false})});</script>"
      ]
     },
     "metadata": {},
     "output_type": "display_data"
    },
    {
     "data": {
      "application/vnd.plotly.v1+json": {
       "data": [
        {
         "opacity": 0.75,
         "type": "histogram",
         "x": [
          1
         ]
        },
        {
         "opacity": 0.75,
         "type": "histogram",
         "x": [
          1
         ]
        }
       ],
       "layout": {
        "hovermode": "closest"
       }
      },
      "text/html": [
       "<div id=\"e71a4e31-aac7-4b2f-a2be-4e66249160f9\" style=\"height: 525px; width: 100%;\" class=\"plotly-graph-div\"></div><script type=\"text/javascript\">require([\"plotly\"], function(Plotly) { window.PLOTLYENV=window.PLOTLYENV || {};window.PLOTLYENV.BASE_URL=\"https://plot.ly\";Plotly.newPlot(\"e71a4e31-aac7-4b2f-a2be-4e66249160f9\", [{\"opacity\": 0.75, \"x\": [1], \"type\": \"histogram\"}, {\"opacity\": 0.75, \"x\": [1], \"type\": \"histogram\"}], {\"hovermode\": \"closest\"}, {\"linkText\": \"Export to plot.ly\", \"showLink\": true})});</script>"
      ],
      "text/vnd.plotly.v1+html": [
       "<div id=\"e71a4e31-aac7-4b2f-a2be-4e66249160f9\" style=\"height: 525px; width: 100%;\" class=\"plotly-graph-div\"></div><script type=\"text/javascript\">require([\"plotly\"], function(Plotly) { window.PLOTLYENV=window.PLOTLYENV || {};window.PLOTLYENV.BASE_URL=\"https://plot.ly\";Plotly.newPlot(\"e71a4e31-aac7-4b2f-a2be-4e66249160f9\", [{\"opacity\": 0.75, \"x\": [1], \"type\": \"histogram\"}, {\"opacity\": 0.75, \"x\": [1], \"type\": \"histogram\"}], {\"hovermode\": \"closest\"}, {\"linkText\": \"Export to plot.ly\", \"showLink\": true})});</script>"
      ]
     },
     "metadata": {},
     "output_type": "display_data"
    },
    {
     "data": {
      "application/vnd.plotly.v1+json": {
       "data": [
        {
         "opacity": 0.75,
         "type": "histogram",
         "x": [
          1,
          2
         ]
        },
        {
         "opacity": 0.75,
         "type": "histogram",
         "x": [
          1,
          2
         ]
        }
       ],
       "layout": {
        "hovermode": "closest"
       }
      },
      "text/html": [
       "<div id=\"d5b05e63-4a7d-41bf-8d1a-2477a469b974\" style=\"height: 525px; width: 100%;\" class=\"plotly-graph-div\"></div><script type=\"text/javascript\">require([\"plotly\"], function(Plotly) { window.PLOTLYENV=window.PLOTLYENV || {};window.PLOTLYENV.BASE_URL=\"https://plot.ly\";Plotly.newPlot(\"d5b05e63-4a7d-41bf-8d1a-2477a469b974\", [{\"opacity\": 0.75, \"x\": [1, 2], \"type\": \"histogram\"}, {\"opacity\": 0.75, \"x\": [1, 2], \"type\": \"histogram\"}], {\"hovermode\": \"closest\"}, {\"linkText\": \"Export to plot.ly\", \"showLink\": true})});</script>"
      ],
      "text/vnd.plotly.v1+html": [
       "<div id=\"d5b05e63-4a7d-41bf-8d1a-2477a469b974\" style=\"height: 525px; width: 100%;\" class=\"plotly-graph-div\"></div><script type=\"text/javascript\">require([\"plotly\"], function(Plotly) { window.PLOTLYENV=window.PLOTLYENV || {};window.PLOTLYENV.BASE_URL=\"https://plot.ly\";Plotly.newPlot(\"d5b05e63-4a7d-41bf-8d1a-2477a469b974\", [{\"opacity\": 0.75, \"x\": [1, 2], \"type\": \"histogram\"}, {\"opacity\": 0.75, \"x\": [1, 2], \"type\": \"histogram\"}], {\"hovermode\": \"closest\"}, {\"linkText\": \"Export to plot.ly\", \"showLink\": true})});</script>"
      ]
     },
     "metadata": {},
     "output_type": "display_data"
    },
    {
     "data": {
      "application/vnd.plotly.v1+json": {
       "data": [
        {
         "opacity": 0.75,
         "type": "histogram",
         "x": [
          1,
          2,
          1,
          1,
          1,
          2,
          1
         ]
        },
        {
         "opacity": 0.75,
         "type": "histogram",
         "x": [
          1,
          2,
          1,
          1,
          1,
          2,
          1
         ]
        }
       ],
       "layout": {
        "hovermode": "closest"
       }
      },
      "text/html": [
       "<div id=\"c7e58689-d210-4a18-941b-7edd0612e95c\" style=\"height: 525px; width: 100%;\" class=\"plotly-graph-div\"></div><script type=\"text/javascript\">require([\"plotly\"], function(Plotly) { window.PLOTLYENV=window.PLOTLYENV || {};window.PLOTLYENV.BASE_URL=\"https://plot.ly\";Plotly.newPlot(\"c7e58689-d210-4a18-941b-7edd0612e95c\", [{\"opacity\": 0.75, \"x\": [1, 2, 1, 1, 1, 2, 1], \"type\": \"histogram\"}, {\"opacity\": 0.75, \"x\": [1, 2, 1, 1, 1, 2, 1], \"type\": \"histogram\"}], {\"hovermode\": \"closest\"}, {\"linkText\": \"Export to plot.ly\", \"showLink\": true})});</script>"
      ],
      "text/vnd.plotly.v1+html": [
       "<div id=\"c7e58689-d210-4a18-941b-7edd0612e95c\" style=\"height: 525px; width: 100%;\" class=\"plotly-graph-div\"></div><script type=\"text/javascript\">require([\"plotly\"], function(Plotly) { window.PLOTLYENV=window.PLOTLYENV || {};window.PLOTLYENV.BASE_URL=\"https://plot.ly\";Plotly.newPlot(\"c7e58689-d210-4a18-941b-7edd0612e95c\", [{\"opacity\": 0.75, \"x\": [1, 2, 1, 1, 1, 2, 1], \"type\": \"histogram\"}, {\"opacity\": 0.75, \"x\": [1, 2, 1, 1, 1, 2, 1], \"type\": \"histogram\"}], {\"hovermode\": \"closest\"}, {\"linkText\": \"Export to plot.ly\", \"showLink\": true})});</script>"
      ]
     },
     "metadata": {},
     "output_type": "display_data"
    },
    {
     "data": {
      "application/vnd.plotly.v1+json": {
       "data": [
        {
         "opacity": 0.75,
         "type": "histogram",
         "x": [
          3,
          3
         ]
        },
        {
         "opacity": 0.75,
         "type": "histogram",
         "x": []
        }
       ],
       "layout": {
        "hovermode": "closest"
       }
      },
      "text/html": [
       "<div id=\"4977598d-757b-41a6-bcd2-a6039454aec9\" style=\"height: 525px; width: 100%;\" class=\"plotly-graph-div\"></div><script type=\"text/javascript\">require([\"plotly\"], function(Plotly) { window.PLOTLYENV=window.PLOTLYENV || {};window.PLOTLYENV.BASE_URL=\"https://plot.ly\";Plotly.newPlot(\"4977598d-757b-41a6-bcd2-a6039454aec9\", [{\"opacity\": 0.75, \"x\": [3, 3], \"type\": \"histogram\"}, {\"opacity\": 0.75, \"x\": [], \"type\": \"histogram\"}], {\"hovermode\": \"closest\"}, {\"linkText\": \"Export to plot.ly\", \"showLink\": true})});</script>"
      ],
      "text/vnd.plotly.v1+html": [
       "<div id=\"4977598d-757b-41a6-bcd2-a6039454aec9\" style=\"height: 525px; width: 100%;\" class=\"plotly-graph-div\"></div><script type=\"text/javascript\">require([\"plotly\"], function(Plotly) { window.PLOTLYENV=window.PLOTLYENV || {};window.PLOTLYENV.BASE_URL=\"https://plot.ly\";Plotly.newPlot(\"4977598d-757b-41a6-bcd2-a6039454aec9\", [{\"opacity\": 0.75, \"x\": [3, 3], \"type\": \"histogram\"}, {\"opacity\": 0.75, \"x\": [], \"type\": \"histogram\"}], {\"hovermode\": \"closest\"}, {\"linkText\": \"Export to plot.ly\", \"showLink\": true})});</script>"
      ]
     },
     "metadata": {},
     "output_type": "display_data"
    },
    {
     "data": {
      "application/vnd.plotly.v1+json": {
       "data": [
        {
         "opacity": 0.75,
         "type": "histogram",
         "x": [
          1
         ]
        },
        {
         "opacity": 0.75,
         "type": "histogram",
         "x": [
          1
         ]
        }
       ],
       "layout": {
        "hovermode": "closest"
       }
      },
      "text/html": [
       "<div id=\"73a1e1e7-5405-4e36-bffb-0f4f9f5329b4\" style=\"height: 525px; width: 100%;\" class=\"plotly-graph-div\"></div><script type=\"text/javascript\">require([\"plotly\"], function(Plotly) { window.PLOTLYENV=window.PLOTLYENV || {};window.PLOTLYENV.BASE_URL=\"https://plot.ly\";Plotly.newPlot(\"73a1e1e7-5405-4e36-bffb-0f4f9f5329b4\", [{\"opacity\": 0.75, \"x\": [1], \"type\": \"histogram\"}, {\"opacity\": 0.75, \"x\": [1], \"type\": \"histogram\"}], {\"hovermode\": \"closest\"}, {\"linkText\": \"Export to plot.ly\", \"showLink\": true})});</script>"
      ],
      "text/vnd.plotly.v1+html": [
       "<div id=\"73a1e1e7-5405-4e36-bffb-0f4f9f5329b4\" style=\"height: 525px; width: 100%;\" class=\"plotly-graph-div\"></div><script type=\"text/javascript\">require([\"plotly\"], function(Plotly) { window.PLOTLYENV=window.PLOTLYENV || {};window.PLOTLYENV.BASE_URL=\"https://plot.ly\";Plotly.newPlot(\"73a1e1e7-5405-4e36-bffb-0f4f9f5329b4\", [{\"opacity\": 0.75, \"x\": [1], \"type\": \"histogram\"}, {\"opacity\": 0.75, \"x\": [1], \"type\": \"histogram\"}], {\"hovermode\": \"closest\"}, {\"linkText\": \"Export to plot.ly\", \"showLink\": true})});</script>"
      ]
     },
     "metadata": {},
     "output_type": "display_data"
    },
    {
     "data": {
      "application/vnd.plotly.v1+json": {
       "data": [
        {
         "opacity": 0.75,
         "type": "histogram",
         "x": [
          1
         ]
        },
        {
         "opacity": 0.75,
         "type": "histogram",
         "x": [
          1
         ]
        }
       ],
       "layout": {
        "hovermode": "closest"
       }
      },
      "text/html": [
       "<div id=\"b1207b9a-bee1-42a8-b6e4-cac400eb9fbb\" style=\"height: 525px; width: 100%;\" class=\"plotly-graph-div\"></div><script type=\"text/javascript\">require([\"plotly\"], function(Plotly) { window.PLOTLYENV=window.PLOTLYENV || {};window.PLOTLYENV.BASE_URL=\"https://plot.ly\";Plotly.newPlot(\"b1207b9a-bee1-42a8-b6e4-cac400eb9fbb\", [{\"opacity\": 0.75, \"x\": [1], \"type\": \"histogram\"}, {\"opacity\": 0.75, \"x\": [1], \"type\": \"histogram\"}], {\"hovermode\": \"closest\"}, {\"linkText\": \"Export to plot.ly\", \"showLink\": true})});</script>"
      ],
      "text/vnd.plotly.v1+html": [
       "<div id=\"b1207b9a-bee1-42a8-b6e4-cac400eb9fbb\" style=\"height: 525px; width: 100%;\" class=\"plotly-graph-div\"></div><script type=\"text/javascript\">require([\"plotly\"], function(Plotly) { window.PLOTLYENV=window.PLOTLYENV || {};window.PLOTLYENV.BASE_URL=\"https://plot.ly\";Plotly.newPlot(\"b1207b9a-bee1-42a8-b6e4-cac400eb9fbb\", [{\"opacity\": 0.75, \"x\": [1], \"type\": \"histogram\"}, {\"opacity\": 0.75, \"x\": [1], \"type\": \"histogram\"}], {\"hovermode\": \"closest\"}, {\"linkText\": \"Export to plot.ly\", \"showLink\": true})});</script>"
      ]
     },
     "metadata": {},
     "output_type": "display_data"
    },
    {
     "data": {
      "application/vnd.plotly.v1+json": {
       "data": [
        {
         "opacity": 0.75,
         "type": "histogram",
         "x": [
          1,
          1,
          1,
          1
         ]
        },
        {
         "opacity": 0.75,
         "type": "histogram",
         "x": [
          1,
          1,
          1,
          1
         ]
        }
       ],
       "layout": {
        "hovermode": "closest"
       }
      },
      "text/html": [
       "<div id=\"a11a2252-ed9d-4e63-889f-c7854e78fc03\" style=\"height: 525px; width: 100%;\" class=\"plotly-graph-div\"></div><script type=\"text/javascript\">require([\"plotly\"], function(Plotly) { window.PLOTLYENV=window.PLOTLYENV || {};window.PLOTLYENV.BASE_URL=\"https://plot.ly\";Plotly.newPlot(\"a11a2252-ed9d-4e63-889f-c7854e78fc03\", [{\"opacity\": 0.75, \"x\": [1, 1, 1, 1], \"type\": \"histogram\"}, {\"opacity\": 0.75, \"x\": [1, 1, 1, 1], \"type\": \"histogram\"}], {\"hovermode\": \"closest\"}, {\"linkText\": \"Export to plot.ly\", \"showLink\": true})});</script>"
      ],
      "text/vnd.plotly.v1+html": [
       "<div id=\"a11a2252-ed9d-4e63-889f-c7854e78fc03\" style=\"height: 525px; width: 100%;\" class=\"plotly-graph-div\"></div><script type=\"text/javascript\">require([\"plotly\"], function(Plotly) { window.PLOTLYENV=window.PLOTLYENV || {};window.PLOTLYENV.BASE_URL=\"https://plot.ly\";Plotly.newPlot(\"a11a2252-ed9d-4e63-889f-c7854e78fc03\", [{\"opacity\": 0.75, \"x\": [1, 1, 1, 1], \"type\": \"histogram\"}, {\"opacity\": 0.75, \"x\": [1, 1, 1, 1], \"type\": \"histogram\"}], {\"hovermode\": \"closest\"}, {\"linkText\": \"Export to plot.ly\", \"showLink\": true})});</script>"
      ]
     },
     "metadata": {},
     "output_type": "display_data"
    },
    {
     "data": {
      "application/vnd.plotly.v1+json": {
       "data": [
        {
         "opacity": 0.75,
         "type": "histogram",
         "x": [
          1
         ]
        },
        {
         "opacity": 0.75,
         "type": "histogram",
         "x": [
          1
         ]
        }
       ],
       "layout": {
        "hovermode": "closest"
       }
      },
      "text/html": [
       "<div id=\"9a9035c9-e764-4d7f-b2eb-6724d2509ab5\" style=\"height: 525px; width: 100%;\" class=\"plotly-graph-div\"></div><script type=\"text/javascript\">require([\"plotly\"], function(Plotly) { window.PLOTLYENV=window.PLOTLYENV || {};window.PLOTLYENV.BASE_URL=\"https://plot.ly\";Plotly.newPlot(\"9a9035c9-e764-4d7f-b2eb-6724d2509ab5\", [{\"opacity\": 0.75, \"x\": [1], \"type\": \"histogram\"}, {\"opacity\": 0.75, \"x\": [1], \"type\": \"histogram\"}], {\"hovermode\": \"closest\"}, {\"linkText\": \"Export to plot.ly\", \"showLink\": true})});</script>"
      ],
      "text/vnd.plotly.v1+html": [
       "<div id=\"9a9035c9-e764-4d7f-b2eb-6724d2509ab5\" style=\"height: 525px; width: 100%;\" class=\"plotly-graph-div\"></div><script type=\"text/javascript\">require([\"plotly\"], function(Plotly) { window.PLOTLYENV=window.PLOTLYENV || {};window.PLOTLYENV.BASE_URL=\"https://plot.ly\";Plotly.newPlot(\"9a9035c9-e764-4d7f-b2eb-6724d2509ab5\", [{\"opacity\": 0.75, \"x\": [1], \"type\": \"histogram\"}, {\"opacity\": 0.75, \"x\": [1], \"type\": \"histogram\"}], {\"hovermode\": \"closest\"}, {\"linkText\": \"Export to plot.ly\", \"showLink\": true})});</script>"
      ]
     },
     "metadata": {},
     "output_type": "display_data"
    },
    {
     "data": {
      "application/vnd.plotly.v1+json": {
       "data": [
        {
         "opacity": 0.75,
         "type": "histogram",
         "x": [
          1
         ]
        },
        {
         "opacity": 0.75,
         "type": "histogram",
         "x": [
          1
         ]
        }
       ],
       "layout": {
        "hovermode": "closest"
       }
      },
      "text/html": [
       "<div id=\"6d367ac2-c002-46c5-851f-25db7184603f\" style=\"height: 525px; width: 100%;\" class=\"plotly-graph-div\"></div><script type=\"text/javascript\">require([\"plotly\"], function(Plotly) { window.PLOTLYENV=window.PLOTLYENV || {};window.PLOTLYENV.BASE_URL=\"https://plot.ly\";Plotly.newPlot(\"6d367ac2-c002-46c5-851f-25db7184603f\", [{\"opacity\": 0.75, \"x\": [1], \"type\": \"histogram\"}, {\"opacity\": 0.75, \"x\": [1], \"type\": \"histogram\"}], {\"hovermode\": \"closest\"}, {\"linkText\": \"Export to plot.ly\", \"showLink\": true})});</script>"
      ],
      "text/vnd.plotly.v1+html": [
       "<div id=\"6d367ac2-c002-46c5-851f-25db7184603f\" style=\"height: 525px; width: 100%;\" class=\"plotly-graph-div\"></div><script type=\"text/javascript\">require([\"plotly\"], function(Plotly) { window.PLOTLYENV=window.PLOTLYENV || {};window.PLOTLYENV.BASE_URL=\"https://plot.ly\";Plotly.newPlot(\"6d367ac2-c002-46c5-851f-25db7184603f\", [{\"opacity\": 0.75, \"x\": [1], \"type\": \"histogram\"}, {\"opacity\": 0.75, \"x\": [1], \"type\": \"histogram\"}], {\"hovermode\": \"closest\"}, {\"linkText\": \"Export to plot.ly\", \"showLink\": true})});</script>"
      ]
     },
     "metadata": {},
     "output_type": "display_data"
    },
    {
     "data": {
      "application/vnd.plotly.v1+json": {
       "data": [
        {
         "opacity": 0.75,
         "type": "histogram",
         "x": [
          1
         ]
        },
        {
         "opacity": 0.75,
         "type": "histogram",
         "x": [
          1
         ]
        }
       ],
       "layout": {
        "hovermode": "closest"
       }
      },
      "text/html": [
       "<div id=\"bfad8e7c-65df-475a-bb30-25191d29b8e5\" style=\"height: 525px; width: 100%;\" class=\"plotly-graph-div\"></div><script type=\"text/javascript\">require([\"plotly\"], function(Plotly) { window.PLOTLYENV=window.PLOTLYENV || {};window.PLOTLYENV.BASE_URL=\"https://plot.ly\";Plotly.newPlot(\"bfad8e7c-65df-475a-bb30-25191d29b8e5\", [{\"opacity\": 0.75, \"x\": [1], \"type\": \"histogram\"}, {\"opacity\": 0.75, \"x\": [1], \"type\": \"histogram\"}], {\"hovermode\": \"closest\"}, {\"linkText\": \"Export to plot.ly\", \"showLink\": true})});</script>"
      ],
      "text/vnd.plotly.v1+html": [
       "<div id=\"bfad8e7c-65df-475a-bb30-25191d29b8e5\" style=\"height: 525px; width: 100%;\" class=\"plotly-graph-div\"></div><script type=\"text/javascript\">require([\"plotly\"], function(Plotly) { window.PLOTLYENV=window.PLOTLYENV || {};window.PLOTLYENV.BASE_URL=\"https://plot.ly\";Plotly.newPlot(\"bfad8e7c-65df-475a-bb30-25191d29b8e5\", [{\"opacity\": 0.75, \"x\": [1], \"type\": \"histogram\"}, {\"opacity\": 0.75, \"x\": [1], \"type\": \"histogram\"}], {\"hovermode\": \"closest\"}, {\"linkText\": \"Export to plot.ly\", \"showLink\": true})});</script>"
      ]
     },
     "metadata": {},
     "output_type": "display_data"
    },
    {
     "data": {
      "application/vnd.plotly.v1+json": {
       "data": [
        {
         "opacity": 0.75,
         "type": "histogram",
         "x": [
          1
         ]
        },
        {
         "opacity": 0.75,
         "type": "histogram",
         "x": [
          1
         ]
        }
       ],
       "layout": {
        "hovermode": "closest"
       }
      },
      "text/html": [
       "<div id=\"ad30c58a-ac7c-4dfc-ac0c-d65e69c11b4a\" style=\"height: 525px; width: 100%;\" class=\"plotly-graph-div\"></div><script type=\"text/javascript\">require([\"plotly\"], function(Plotly) { window.PLOTLYENV=window.PLOTLYENV || {};window.PLOTLYENV.BASE_URL=\"https://plot.ly\";Plotly.newPlot(\"ad30c58a-ac7c-4dfc-ac0c-d65e69c11b4a\", [{\"opacity\": 0.75, \"x\": [1], \"type\": \"histogram\"}, {\"opacity\": 0.75, \"x\": [1], \"type\": \"histogram\"}], {\"hovermode\": \"closest\"}, {\"linkText\": \"Export to plot.ly\", \"showLink\": true})});</script>"
      ],
      "text/vnd.plotly.v1+html": [
       "<div id=\"ad30c58a-ac7c-4dfc-ac0c-d65e69c11b4a\" style=\"height: 525px; width: 100%;\" class=\"plotly-graph-div\"></div><script type=\"text/javascript\">require([\"plotly\"], function(Plotly) { window.PLOTLYENV=window.PLOTLYENV || {};window.PLOTLYENV.BASE_URL=\"https://plot.ly\";Plotly.newPlot(\"ad30c58a-ac7c-4dfc-ac0c-d65e69c11b4a\", [{\"opacity\": 0.75, \"x\": [1], \"type\": \"histogram\"}, {\"opacity\": 0.75, \"x\": [1], \"type\": \"histogram\"}], {\"hovermode\": \"closest\"}, {\"linkText\": \"Export to plot.ly\", \"showLink\": true})});</script>"
      ]
     },
     "metadata": {},
     "output_type": "display_data"
    },
    {
     "data": {
      "application/vnd.plotly.v1+json": {
       "data": [
        {
         "opacity": 0.75,
         "type": "histogram",
         "x": [
          1,
          1
         ]
        },
        {
         "opacity": 0.75,
         "type": "histogram",
         "x": [
          1,
          1
         ]
        }
       ],
       "layout": {
        "hovermode": "closest"
       }
      },
      "text/html": [
       "<div id=\"999baca6-711c-4947-84e5-f6903205e71a\" style=\"height: 525px; width: 100%;\" class=\"plotly-graph-div\"></div><script type=\"text/javascript\">require([\"plotly\"], function(Plotly) { window.PLOTLYENV=window.PLOTLYENV || {};window.PLOTLYENV.BASE_URL=\"https://plot.ly\";Plotly.newPlot(\"999baca6-711c-4947-84e5-f6903205e71a\", [{\"opacity\": 0.75, \"x\": [1, 1], \"type\": \"histogram\"}, {\"opacity\": 0.75, \"x\": [1, 1], \"type\": \"histogram\"}], {\"hovermode\": \"closest\"}, {\"linkText\": \"Export to plot.ly\", \"showLink\": true})});</script>"
      ],
      "text/vnd.plotly.v1+html": [
       "<div id=\"999baca6-711c-4947-84e5-f6903205e71a\" style=\"height: 525px; width: 100%;\" class=\"plotly-graph-div\"></div><script type=\"text/javascript\">require([\"plotly\"], function(Plotly) { window.PLOTLYENV=window.PLOTLYENV || {};window.PLOTLYENV.BASE_URL=\"https://plot.ly\";Plotly.newPlot(\"999baca6-711c-4947-84e5-f6903205e71a\", [{\"opacity\": 0.75, \"x\": [1, 1], \"type\": \"histogram\"}, {\"opacity\": 0.75, \"x\": [1, 1], \"type\": \"histogram\"}], {\"hovermode\": \"closest\"}, {\"linkText\": \"Export to plot.ly\", \"showLink\": true})});</script>"
      ]
     },
     "metadata": {},
     "output_type": "display_data"
    },
    {
     "data": {
      "application/vnd.plotly.v1+json": {
       "data": [
        {
         "opacity": 0.75,
         "type": "histogram",
         "x": [
          1
         ]
        },
        {
         "opacity": 0.75,
         "type": "histogram",
         "x": [
          1
         ]
        }
       ],
       "layout": {
        "hovermode": "closest"
       }
      },
      "text/html": [
       "<div id=\"8d78292a-e763-4551-9cf2-f8a8c8914ccf\" style=\"height: 525px; width: 100%;\" class=\"plotly-graph-div\"></div><script type=\"text/javascript\">require([\"plotly\"], function(Plotly) { window.PLOTLYENV=window.PLOTLYENV || {};window.PLOTLYENV.BASE_URL=\"https://plot.ly\";Plotly.newPlot(\"8d78292a-e763-4551-9cf2-f8a8c8914ccf\", [{\"opacity\": 0.75, \"x\": [1], \"type\": \"histogram\"}, {\"opacity\": 0.75, \"x\": [1], \"type\": \"histogram\"}], {\"hovermode\": \"closest\"}, {\"linkText\": \"Export to plot.ly\", \"showLink\": true})});</script>"
      ],
      "text/vnd.plotly.v1+html": [
       "<div id=\"8d78292a-e763-4551-9cf2-f8a8c8914ccf\" style=\"height: 525px; width: 100%;\" class=\"plotly-graph-div\"></div><script type=\"text/javascript\">require([\"plotly\"], function(Plotly) { window.PLOTLYENV=window.PLOTLYENV || {};window.PLOTLYENV.BASE_URL=\"https://plot.ly\";Plotly.newPlot(\"8d78292a-e763-4551-9cf2-f8a8c8914ccf\", [{\"opacity\": 0.75, \"x\": [1], \"type\": \"histogram\"}, {\"opacity\": 0.75, \"x\": [1], \"type\": \"histogram\"}], {\"hovermode\": \"closest\"}, {\"linkText\": \"Export to plot.ly\", \"showLink\": true})});</script>"
      ]
     },
     "metadata": {},
     "output_type": "display_data"
    },
    {
     "data": {
      "application/vnd.plotly.v1+json": {
       "data": [
        {
         "opacity": 0.75,
         "type": "histogram",
         "x": [
          1
         ]
        },
        {
         "opacity": 0.75,
         "type": "histogram",
         "x": []
        }
       ],
       "layout": {
        "hovermode": "closest"
       }
      },
      "text/html": [
       "<div id=\"2341df0d-8081-4794-9e60-8fd5490d4877\" style=\"height: 525px; width: 100%;\" class=\"plotly-graph-div\"></div><script type=\"text/javascript\">require([\"plotly\"], function(Plotly) { window.PLOTLYENV=window.PLOTLYENV || {};window.PLOTLYENV.BASE_URL=\"https://plot.ly\";Plotly.newPlot(\"2341df0d-8081-4794-9e60-8fd5490d4877\", [{\"opacity\": 0.75, \"x\": [1], \"type\": \"histogram\"}, {\"opacity\": 0.75, \"x\": [], \"type\": \"histogram\"}], {\"hovermode\": \"closest\"}, {\"linkText\": \"Export to plot.ly\", \"showLink\": true})});</script>"
      ],
      "text/vnd.plotly.v1+html": [
       "<div id=\"2341df0d-8081-4794-9e60-8fd5490d4877\" style=\"height: 525px; width: 100%;\" class=\"plotly-graph-div\"></div><script type=\"text/javascript\">require([\"plotly\"], function(Plotly) { window.PLOTLYENV=window.PLOTLYENV || {};window.PLOTLYENV.BASE_URL=\"https://plot.ly\";Plotly.newPlot(\"2341df0d-8081-4794-9e60-8fd5490d4877\", [{\"opacity\": 0.75, \"x\": [1], \"type\": \"histogram\"}, {\"opacity\": 0.75, \"x\": [], \"type\": \"histogram\"}], {\"hovermode\": \"closest\"}, {\"linkText\": \"Export to plot.ly\", \"showLink\": true})});</script>"
      ]
     },
     "metadata": {},
     "output_type": "display_data"
    },
    {
     "data": {
      "application/vnd.plotly.v1+json": {
       "data": [
        {
         "opacity": 0.75,
         "type": "histogram",
         "x": [
          1
         ]
        },
        {
         "opacity": 0.75,
         "type": "histogram",
         "x": [
          1
         ]
        }
       ],
       "layout": {
        "hovermode": "closest"
       }
      },
      "text/html": [
       "<div id=\"c9035b2b-d4cb-4ecb-8440-a56b63705c9d\" style=\"height: 525px; width: 100%;\" class=\"plotly-graph-div\"></div><script type=\"text/javascript\">require([\"plotly\"], function(Plotly) { window.PLOTLYENV=window.PLOTLYENV || {};window.PLOTLYENV.BASE_URL=\"https://plot.ly\";Plotly.newPlot(\"c9035b2b-d4cb-4ecb-8440-a56b63705c9d\", [{\"opacity\": 0.75, \"x\": [1], \"type\": \"histogram\"}, {\"opacity\": 0.75, \"x\": [1], \"type\": \"histogram\"}], {\"hovermode\": \"closest\"}, {\"linkText\": \"Export to plot.ly\", \"showLink\": true})});</script>"
      ],
      "text/vnd.plotly.v1+html": [
       "<div id=\"c9035b2b-d4cb-4ecb-8440-a56b63705c9d\" style=\"height: 525px; width: 100%;\" class=\"plotly-graph-div\"></div><script type=\"text/javascript\">require([\"plotly\"], function(Plotly) { window.PLOTLYENV=window.PLOTLYENV || {};window.PLOTLYENV.BASE_URL=\"https://plot.ly\";Plotly.newPlot(\"c9035b2b-d4cb-4ecb-8440-a56b63705c9d\", [{\"opacity\": 0.75, \"x\": [1], \"type\": \"histogram\"}, {\"opacity\": 0.75, \"x\": [1], \"type\": \"histogram\"}], {\"hovermode\": \"closest\"}, {\"linkText\": \"Export to plot.ly\", \"showLink\": true})});</script>"
      ]
     },
     "metadata": {},
     "output_type": "display_data"
    },
    {
     "data": {
      "application/vnd.plotly.v1+json": {
       "data": [
        {
         "opacity": 0.75,
         "type": "histogram",
         "x": [
          1
         ]
        },
        {
         "opacity": 0.75,
         "type": "histogram",
         "x": [
          1
         ]
        }
       ],
       "layout": {
        "hovermode": "closest"
       }
      },
      "text/html": [
       "<div id=\"f48dd838-10ee-4b65-8168-ee193a67bcc5\" style=\"height: 525px; width: 100%;\" class=\"plotly-graph-div\"></div><script type=\"text/javascript\">require([\"plotly\"], function(Plotly) { window.PLOTLYENV=window.PLOTLYENV || {};window.PLOTLYENV.BASE_URL=\"https://plot.ly\";Plotly.newPlot(\"f48dd838-10ee-4b65-8168-ee193a67bcc5\", [{\"opacity\": 0.75, \"x\": [1], \"type\": \"histogram\"}, {\"opacity\": 0.75, \"x\": [1], \"type\": \"histogram\"}], {\"hovermode\": \"closest\"}, {\"linkText\": \"Export to plot.ly\", \"showLink\": true})});</script>"
      ],
      "text/vnd.plotly.v1+html": [
       "<div id=\"f48dd838-10ee-4b65-8168-ee193a67bcc5\" style=\"height: 525px; width: 100%;\" class=\"plotly-graph-div\"></div><script type=\"text/javascript\">require([\"plotly\"], function(Plotly) { window.PLOTLYENV=window.PLOTLYENV || {};window.PLOTLYENV.BASE_URL=\"https://plot.ly\";Plotly.newPlot(\"f48dd838-10ee-4b65-8168-ee193a67bcc5\", [{\"opacity\": 0.75, \"x\": [1], \"type\": \"histogram\"}, {\"opacity\": 0.75, \"x\": [1], \"type\": \"histogram\"}], {\"hovermode\": \"closest\"}, {\"linkText\": \"Export to plot.ly\", \"showLink\": true})});</script>"
      ]
     },
     "metadata": {},
     "output_type": "display_data"
    },
    {
     "data": {
      "application/vnd.plotly.v1+json": {
       "data": [
        {
         "opacity": 0.75,
         "type": "histogram",
         "x": [
          1
         ]
        },
        {
         "opacity": 0.75,
         "type": "histogram",
         "x": [
          1
         ]
        }
       ],
       "layout": {
        "hovermode": "closest"
       }
      },
      "text/html": [
       "<div id=\"8ba50013-8bf8-40f3-8349-bbe34cfcf53a\" style=\"height: 525px; width: 100%;\" class=\"plotly-graph-div\"></div><script type=\"text/javascript\">require([\"plotly\"], function(Plotly) { window.PLOTLYENV=window.PLOTLYENV || {};window.PLOTLYENV.BASE_URL=\"https://plot.ly\";Plotly.newPlot(\"8ba50013-8bf8-40f3-8349-bbe34cfcf53a\", [{\"opacity\": 0.75, \"x\": [1], \"type\": \"histogram\"}, {\"opacity\": 0.75, \"x\": [1], \"type\": \"histogram\"}], {\"hovermode\": \"closest\"}, {\"linkText\": \"Export to plot.ly\", \"showLink\": true})});</script>"
      ],
      "text/vnd.plotly.v1+html": [
       "<div id=\"8ba50013-8bf8-40f3-8349-bbe34cfcf53a\" style=\"height: 525px; width: 100%;\" class=\"plotly-graph-div\"></div><script type=\"text/javascript\">require([\"plotly\"], function(Plotly) { window.PLOTLYENV=window.PLOTLYENV || {};window.PLOTLYENV.BASE_URL=\"https://plot.ly\";Plotly.newPlot(\"8ba50013-8bf8-40f3-8349-bbe34cfcf53a\", [{\"opacity\": 0.75, \"x\": [1], \"type\": \"histogram\"}, {\"opacity\": 0.75, \"x\": [1], \"type\": \"histogram\"}], {\"hovermode\": \"closest\"}, {\"linkText\": \"Export to plot.ly\", \"showLink\": true})});</script>"
      ]
     },
     "metadata": {},
     "output_type": "display_data"
    },
    {
     "data": {
      "application/vnd.plotly.v1+json": {
       "data": [
        {
         "opacity": 0.75,
         "type": "histogram",
         "x": [
          1
         ]
        },
        {
         "opacity": 0.75,
         "type": "histogram",
         "x": [
          1
         ]
        }
       ],
       "layout": {
        "hovermode": "closest"
       }
      },
      "text/html": [
       "<div id=\"de87682d-cac6-4e28-bad5-d95d95e2162f\" style=\"height: 525px; width: 100%;\" class=\"plotly-graph-div\"></div><script type=\"text/javascript\">require([\"plotly\"], function(Plotly) { window.PLOTLYENV=window.PLOTLYENV || {};window.PLOTLYENV.BASE_URL=\"https://plot.ly\";Plotly.newPlot(\"de87682d-cac6-4e28-bad5-d95d95e2162f\", [{\"opacity\": 0.75, \"x\": [1], \"type\": \"histogram\"}, {\"opacity\": 0.75, \"x\": [1], \"type\": \"histogram\"}], {\"hovermode\": \"closest\"}, {\"linkText\": \"Export to plot.ly\", \"showLink\": true})});</script>"
      ],
      "text/vnd.plotly.v1+html": [
       "<div id=\"de87682d-cac6-4e28-bad5-d95d95e2162f\" style=\"height: 525px; width: 100%;\" class=\"plotly-graph-div\"></div><script type=\"text/javascript\">require([\"plotly\"], function(Plotly) { window.PLOTLYENV=window.PLOTLYENV || {};window.PLOTLYENV.BASE_URL=\"https://plot.ly\";Plotly.newPlot(\"de87682d-cac6-4e28-bad5-d95d95e2162f\", [{\"opacity\": 0.75, \"x\": [1], \"type\": \"histogram\"}, {\"opacity\": 0.75, \"x\": [1], \"type\": \"histogram\"}], {\"hovermode\": \"closest\"}, {\"linkText\": \"Export to plot.ly\", \"showLink\": true})});</script>"
      ]
     },
     "metadata": {},
     "output_type": "display_data"
    },
    {
     "data": {
      "application/vnd.plotly.v1+json": {
       "data": [
        {
         "opacity": 0.75,
         "type": "histogram",
         "x": [
          1
         ]
        },
        {
         "opacity": 0.75,
         "type": "histogram",
         "x": [
          1
         ]
        }
       ],
       "layout": {
        "hovermode": "closest"
       }
      },
      "text/html": [
       "<div id=\"18d781db-8fe1-4bb4-96b5-90f3fd0dbf9b\" style=\"height: 525px; width: 100%;\" class=\"plotly-graph-div\"></div><script type=\"text/javascript\">require([\"plotly\"], function(Plotly) { window.PLOTLYENV=window.PLOTLYENV || {};window.PLOTLYENV.BASE_URL=\"https://plot.ly\";Plotly.newPlot(\"18d781db-8fe1-4bb4-96b5-90f3fd0dbf9b\", [{\"opacity\": 0.75, \"x\": [1], \"type\": \"histogram\"}, {\"opacity\": 0.75, \"x\": [1], \"type\": \"histogram\"}], {\"hovermode\": \"closest\"}, {\"linkText\": \"Export to plot.ly\", \"showLink\": true})});</script>"
      ],
      "text/vnd.plotly.v1+html": [
       "<div id=\"18d781db-8fe1-4bb4-96b5-90f3fd0dbf9b\" style=\"height: 525px; width: 100%;\" class=\"plotly-graph-div\"></div><script type=\"text/javascript\">require([\"plotly\"], function(Plotly) { window.PLOTLYENV=window.PLOTLYENV || {};window.PLOTLYENV.BASE_URL=\"https://plot.ly\";Plotly.newPlot(\"18d781db-8fe1-4bb4-96b5-90f3fd0dbf9b\", [{\"opacity\": 0.75, \"x\": [1], \"type\": \"histogram\"}, {\"opacity\": 0.75, \"x\": [1], \"type\": \"histogram\"}], {\"hovermode\": \"closest\"}, {\"linkText\": \"Export to plot.ly\", \"showLink\": true})});</script>"
      ]
     },
     "metadata": {},
     "output_type": "display_data"
    },
    {
     "data": {
      "application/vnd.plotly.v1+json": {
       "data": [
        {
         "opacity": 0.75,
         "type": "histogram",
         "x": [
          1,
          1
         ]
        },
        {
         "opacity": 0.75,
         "type": "histogram",
         "x": [
          1,
          1
         ]
        }
       ],
       "layout": {
        "hovermode": "closest"
       }
      },
      "text/html": [
       "<div id=\"67bf0a64-767a-462f-9e66-3dc6782445d6\" style=\"height: 525px; width: 100%;\" class=\"plotly-graph-div\"></div><script type=\"text/javascript\">require([\"plotly\"], function(Plotly) { window.PLOTLYENV=window.PLOTLYENV || {};window.PLOTLYENV.BASE_URL=\"https://plot.ly\";Plotly.newPlot(\"67bf0a64-767a-462f-9e66-3dc6782445d6\", [{\"opacity\": 0.75, \"x\": [1, 1], \"type\": \"histogram\"}, {\"opacity\": 0.75, \"x\": [1, 1], \"type\": \"histogram\"}], {\"hovermode\": \"closest\"}, {\"linkText\": \"Export to plot.ly\", \"showLink\": true})});</script>"
      ],
      "text/vnd.plotly.v1+html": [
       "<div id=\"67bf0a64-767a-462f-9e66-3dc6782445d6\" style=\"height: 525px; width: 100%;\" class=\"plotly-graph-div\"></div><script type=\"text/javascript\">require([\"plotly\"], function(Plotly) { window.PLOTLYENV=window.PLOTLYENV || {};window.PLOTLYENV.BASE_URL=\"https://plot.ly\";Plotly.newPlot(\"67bf0a64-767a-462f-9e66-3dc6782445d6\", [{\"opacity\": 0.75, \"x\": [1, 1], \"type\": \"histogram\"}, {\"opacity\": 0.75, \"x\": [1, 1], \"type\": \"histogram\"}], {\"hovermode\": \"closest\"}, {\"linkText\": \"Export to plot.ly\", \"showLink\": true})});</script>"
      ]
     },
     "metadata": {},
     "output_type": "display_data"
    },
    {
     "data": {
      "application/vnd.plotly.v1+json": {
       "data": [
        {
         "opacity": 0.75,
         "type": "histogram",
         "x": [
          2
         ]
        },
        {
         "opacity": 0.75,
         "type": "histogram",
         "x": [
          2
         ]
        }
       ],
       "layout": {
        "hovermode": "closest"
       }
      },
      "text/html": [
       "<div id=\"db7223ca-5db0-454d-aa02-ddd16cac4d81\" style=\"height: 525px; width: 100%;\" class=\"plotly-graph-div\"></div><script type=\"text/javascript\">require([\"plotly\"], function(Plotly) { window.PLOTLYENV=window.PLOTLYENV || {};window.PLOTLYENV.BASE_URL=\"https://plot.ly\";Plotly.newPlot(\"db7223ca-5db0-454d-aa02-ddd16cac4d81\", [{\"opacity\": 0.75, \"x\": [2], \"type\": \"histogram\"}, {\"opacity\": 0.75, \"x\": [2], \"type\": \"histogram\"}], {\"hovermode\": \"closest\"}, {\"linkText\": \"Export to plot.ly\", \"showLink\": true})});</script>"
      ],
      "text/vnd.plotly.v1+html": [
       "<div id=\"db7223ca-5db0-454d-aa02-ddd16cac4d81\" style=\"height: 525px; width: 100%;\" class=\"plotly-graph-div\"></div><script type=\"text/javascript\">require([\"plotly\"], function(Plotly) { window.PLOTLYENV=window.PLOTLYENV || {};window.PLOTLYENV.BASE_URL=\"https://plot.ly\";Plotly.newPlot(\"db7223ca-5db0-454d-aa02-ddd16cac4d81\", [{\"opacity\": 0.75, \"x\": [2], \"type\": \"histogram\"}, {\"opacity\": 0.75, \"x\": [2], \"type\": \"histogram\"}], {\"hovermode\": \"closest\"}, {\"linkText\": \"Export to plot.ly\", \"showLink\": true})});</script>"
      ]
     },
     "metadata": {},
     "output_type": "display_data"
    },
    {
     "data": {
      "application/vnd.plotly.v1+json": {
       "data": [
        {
         "opacity": 0.75,
         "type": "histogram",
         "x": [
          1,
          2,
          2,
          1
         ]
        },
        {
         "opacity": 0.75,
         "type": "histogram",
         "x": [
          1,
          2,
          3,
          2,
          3
         ]
        }
       ],
       "layout": {
        "hovermode": "closest"
       }
      },
      "text/html": [
       "<div id=\"34d097a7-a8d6-4d40-9ed4-cb5532dde671\" style=\"height: 525px; width: 100%;\" class=\"plotly-graph-div\"></div><script type=\"text/javascript\">require([\"plotly\"], function(Plotly) { window.PLOTLYENV=window.PLOTLYENV || {};window.PLOTLYENV.BASE_URL=\"https://plot.ly\";Plotly.newPlot(\"34d097a7-a8d6-4d40-9ed4-cb5532dde671\", [{\"opacity\": 0.75, \"x\": [1, 2, 2, 1], \"type\": \"histogram\"}, {\"opacity\": 0.75, \"x\": [1, 2, 3, 2, 3], \"type\": \"histogram\"}], {\"hovermode\": \"closest\"}, {\"linkText\": \"Export to plot.ly\", \"showLink\": true})});</script>"
      ],
      "text/vnd.plotly.v1+html": [
       "<div id=\"34d097a7-a8d6-4d40-9ed4-cb5532dde671\" style=\"height: 525px; width: 100%;\" class=\"plotly-graph-div\"></div><script type=\"text/javascript\">require([\"plotly\"], function(Plotly) { window.PLOTLYENV=window.PLOTLYENV || {};window.PLOTLYENV.BASE_URL=\"https://plot.ly\";Plotly.newPlot(\"34d097a7-a8d6-4d40-9ed4-cb5532dde671\", [{\"opacity\": 0.75, \"x\": [1, 2, 2, 1], \"type\": \"histogram\"}, {\"opacity\": 0.75, \"x\": [1, 2, 3, 2, 3], \"type\": \"histogram\"}], {\"hovermode\": \"closest\"}, {\"linkText\": \"Export to plot.ly\", \"showLink\": true})});</script>"
      ]
     },
     "metadata": {},
     "output_type": "display_data"
    },
    {
     "name": "stderr",
     "output_type": "stream",
     "text": [
      "Widget Javascript not detected.  It may not be installed or enabled properly.\n"
     ]
    },
    {
     "data": {
      "application/vnd.jupyter.widget-view+json": {
       "model_id": "0eca8cb4816d404e99da35fef8f22f0c"
      }
     },
     "metadata": {},
     "output_type": "display_data"
    },
    {
     "name": "stderr",
     "output_type": "stream",
     "text": [
      "Widget Javascript not detected.  It may not be installed or enabled properly.\n"
     ]
    },
    {
     "data": {
      "application/vnd.jupyter.widget-view+json": {
       "model_id": "7d9e6b27ffe04cafa215b7874386439a"
      }
     },
     "metadata": {},
     "output_type": "display_data"
    },
    {
     "name": "stderr",
     "output_type": "stream",
     "text": [
      "Widget Javascript not detected.  It may not be installed or enabled properly.\n"
     ]
    },
    {
     "data": {
      "application/vnd.jupyter.widget-view+json": {
       "model_id": "724ab056969044aa86bcb320252b6963"
      }
     },
     "metadata": {},
     "output_type": "display_data"
    }
   ],
   "source": [
    "import sys\n",
    "sys.path.insert(0, '..')\n",
    "sys.path.insert(0, 'plots')\n",
    "\n",
    "import os\n",
    "\n",
    "from IPython.display import display\n",
    "from IPython.display import clear_output\n",
    "import ipywidgets as widgets\n",
    "\n",
    "\n",
    "import json\n",
    "from SplunkIntelOptimized import SplunkIntelOptimized\n",
    "from sources.SplunkDatasetNew import SplunkDatasetNew\n",
    "from sources.SplunkFileSource import SplunkFileSource\n",
    "\n",
    "import plotly as py\n",
    "import pandas as pd\n",
    "import numpy as np\n",
    "import plotNew as plot\n",
    "\n",
    "py.offline.init_notebook_mode()\n",
    "pd.set_option('display.notebook_repr_html', True)\n",
    "    \n",
    "data_sources_names = []\n",
    "\n",
    "data_source_picker = None\n",
    "time_range_picker = None\n",
    "event_picker = None\n",
    "event_text_area = None \n",
    "threshold_picker = None\n",
    "new_time_range_picker = None\n",
    "\n",
    "\n",
    "#create widgets\n",
    "def create_widgets():\n",
    "    global data_source_picker, time_range_picker, event_picker\n",
    "    global event_text_area, threshold_picker, new_time_range_picker\n",
    "    for file in os.listdir(\"../../data_prod\"):\n",
    "            if file.endswith(\".json\"):\n",
    "                data_sources_names.append(file)\n",
    "\n",
    "    data_source_picker = widgets.Dropdown(\n",
    "            options=data_sources_names,\n",
    "            description='Data Source:',\n",
    "            disabled=False,\n",
    "            button_style='' # 'success', 'info', 'warning', 'danger' or ''\n",
    "        )    \n",
    "\n",
    "    time_range_picker = widgets.IntRangeSlider(\n",
    "                value=[1, 2],\n",
    "                min=0,\n",
    "                max=100,\n",
    "                step=1,\n",
    "                description='Time:',\n",
    "                disabled=False,\n",
    "                continuous_update=False,\n",
    "                orientation='horizontal',\n",
    "                readout=True,\n",
    "                readout_format='i',\n",
    "                slider_color='white',\n",
    "                color='black'\n",
    "        )\n",
    "    \n",
    "    threshold_picker = widgets.FloatSlider(\n",
    "                value=0.8,\n",
    "                min=0,\n",
    "                max=1,\n",
    "                step=0.1,\n",
    "                description='Threshold:',\n",
    "                disabled=False,\n",
    "                continuous_update=False,\n",
    "                orientation='horizontal',\n",
    "                readout=True,\n",
    "                readout_format='.1f',\n",
    "                slider_color='white',\n",
    "                color='black'\n",
    "        )\n",
    "    \n",
    "    event_picker = widgets.Dropdown(\n",
    "            options=[1,2,3],\n",
    "            description='Event Number:',\n",
    "            disabled=False,\n",
    "            button_style='' # 'success', 'info', 'warning', 'danger' or ''\n",
    "        )\n",
    "    \n",
    "    l = widgets.Layout(height='40px', width='800px')\n",
    "    event_text_area = widgets.Textarea(value='TA: height=40px', layout=l)\n",
    "\n",
    "    \n",
    "def initialize(change):    \n",
    "    # Just to set the widgets\n",
    "    all_events = []\n",
    "    all_events.extend(SplunkFileSource.load_data('../../data_prod/' + data_source_picker.value))    \n",
    "    minutes = 0\n",
    "    for dict in all_events:\n",
    "        if int(dict.get('logCollectionMinute')) > minutes:\n",
    "            minutes = dict.get('logCollectionMinute')\n",
    "\n",
    "    time_range_picker.value = [0,minutes]\n",
    "    time_range_picker.min = 0\n",
    "    time_range_picker.max = minutes\n",
    "\n",
    "    \n",
    "    change_event_handler(None)\n",
    "    \n",
    "    \n",
    "splunkDataset = SplunkDatasetNew()\n",
    "splunkIntelargs = []\n",
    "\n",
    "def event_picker_change_handler(change):\n",
    "    event_text_area.value = json.dumps(splunkDataset.get_all_events_for_notebook()[event_picker.value])\n",
    "\n",
    "def split(input, length, size):\n",
    "    input.replace('\\n', ' ')\n",
    "    input.replace('\\tat', ' ')\n",
    "    return '<br>'.join([input[start:start + size] for start in range(0, length, size)])\n",
    "\n",
    "def get_tool_tips(all_events):\n",
    "    tooltips = []\n",
    "    for idx, event in enumerate(all_events):\n",
    "        tooltips.append(\n",
    "            split(event[0], min(100, len(event[0])), 100) + '<br> id = ' + str(idx) + '<br> cluster = ' + str(\n",
    "            event[3]))\n",
    "            \n",
    "    return tooltips\n",
    "    \n",
    "# Handle data source change\n",
    "def change_event_handler(change):\n",
    "    global splunkDataset\n",
    "    \n",
    "    control_start = time_range_picker.value[0]\n",
    "    test_start = time_range_picker.value[0]\n",
    "    \n",
    "    control_end = time_range_picker.value[1]\n",
    "    test_end = time_range_picker.value[1]\n",
    "\n",
    "    clear_output()\n",
    "\n",
    "    prev_out_file = None\n",
    "    while(control_start <= control_end or test_start < test_end):\n",
    "\n",
    "        del splunkIntelargs[:]\n",
    "        splunkDataset = SplunkDatasetNew() \n",
    "\n",
    "        print(control_start, control_start)\n",
    "        print(test_start, test_start)\n",
    "        splunkDataset.load_prod_file('../../data_prod/' + data_source_picker.value,\n",
    "                                     [control_start, control_start],\n",
    "                                     [test_start, test_start], \n",
    "                                     ['ip-172-31-28-126'], ['ip-172-31-19-157'],     \n",
    "                                          prev_out_file)\n",
    "        \n",
    "        if splunkDataset.new_data:\n",
    "    \n",
    "            splunkIntelargs.append('--sim_threshold')\n",
    "            splunkIntelargs.append(str(float(threshold_picker.value)))\n",
    "\n",
    "            print(splunkIntelargs)\n",
    "\n",
    "            splunkIntel = SplunkIntelOptimized(splunkDataset, SplunkIntelOptimized.parse(splunkIntelargs))\n",
    "            splunkDataset = splunkIntel.run()\n",
    "\n",
    "            file_object  = open(\"result.json\", \"w\")\n",
    "            file_object.write(splunkDataset.get_output_for_notebook_as_json)\n",
    "            file_object.close()\n",
    "\n",
    "            prev_out_file = './result.json'\n",
    "        \n",
    "        control_start = control_start + 1\n",
    "        test_start = test_start + 1\n",
    "\n",
    "    xy_matrix, tooltips, labels,sizes = splunkDataset.control_scatter_plot()\n",
    "    plot.scatter_plot_groups(xy_matrix, labels, tooltips, ['control', 'test', 'test-anomaly', 'test-unx-freq'], ['blue','green','red', 'orange'])\n",
    "    \n",
    "    #xy_matrix, tooltips, labels, sizes = splunkDataset.count_scatter_plot()\n",
    "    \n",
    "    #new_sizes = []\n",
    "    #for size in sizes:\n",
    "     #   new_sizes.append((3 + len(str(size)))**2)\n",
    "        \n",
    "    #print(new_sizes)    \n",
    "    \n",
    "    #plot.scatter_plot_groups(xy_matrix, labels, tooltips, ['test', 'test-anomaly'], ['green','red'], new_sizes)\n",
    "\n",
    "\n",
    "    #for key,data in splunkDataset.get_anom_clusters().items():\n",
    "     #   for host,anom in data.items():\n",
    "     #       print(host, anom.get('text'))\n",
    "    \n",
    "    xy_matrix, tooltips, labels, clusters = splunkDataset.control_scatter_plot_4d()\n",
    "    plot.scatter_plot_groups_4d(xy_matrix, labels, clusters, tooltips, ['blue','orange','red'])\n",
    "    \n",
    "    hist_data = splunkDataset.count_hist_plot()\n",
    "    for key,value in hist_data.items():\n",
    "        plot.hist_plot(value.get('control'), value.get('test'))\n",
    "            \n",
    "    event_picker.options = [ x for x in range(len(splunkDataset.get_all_events_for_notebook()))] \n",
    "     \n",
    "\n",
    "create_widgets()\n",
    "\n",
    "#intialize\n",
    "initialize(None)\n",
    "    \n",
    "#setup even handlers    \n",
    "data_source_picker.observe(initialize, names=\"value\")\n",
    "time_range_picker.observe(change_event_handler, names=\"value\")\n",
    "event_picker.observe(event_picker_change_handler, names=\"value\")\n",
    "threshold_picker.observe(change_event_handler, names=\"value\")\n",
    "\n",
    "\n",
    "\n",
    "# show widgets\n",
    "display(widgets.HBox([data_source_picker]))\n",
    "display(widgets.HBox([time_range_picker, threshold_picker]))\n",
    "display(widgets.HBox([event_picker, event_text_area]))"
   ]
  },
  {
   "cell_type": "code",
   "execution_count": null,
   "metadata": {
    "collapsed": true
   },
   "outputs": [],
   "source": []
  }
 ],
 "metadata": {
  "kernelspec": {
   "display_name": "Python 2",
   "language": "python",
   "name": "python2"
  },
  "language_info": {
   "codemirror_mode": {
    "name": "ipython",
    "version": 2
   },
   "file_extension": ".py",
   "mimetype": "text/x-python",
   "name": "python",
   "nbconvert_exporter": "python",
   "pygments_lexer": "ipython2",
   "version": "2.7.10"
  }
 },
 "nbformat": 4,
 "nbformat_minor": 2
}
